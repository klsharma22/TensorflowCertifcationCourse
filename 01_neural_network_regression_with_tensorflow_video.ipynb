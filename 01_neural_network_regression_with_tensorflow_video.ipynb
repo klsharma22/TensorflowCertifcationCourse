{
 "cells": [
  {
   "cell_type": "markdown",
   "metadata": {},
   "source": [
    "# Introduction to Regression with Neural Networks in Tensorflow\n",
    "\n",
    "Definition: Predicting a numerical varibale based on independent variables"
   ]
  },
  {
   "cell_type": "code",
   "execution_count": 1,
   "metadata": {},
   "outputs": [],
   "source": [
    "# Import tensorflow\n",
    "import tensorflow as tf"
   ]
  },
  {
   "cell_type": "markdown",
   "metadata": {},
   "source": [
    "## Creating data to view and fit"
   ]
  },
  {
   "cell_type": "code",
   "execution_count": 2,
   "metadata": {},
   "outputs": [
    {
     "data": {
      "text/plain": [
       "<matplotlib.collections.PathCollection at 0x16bd6b9a0>"
      ]
     },
     "execution_count": 2,
     "metadata": {},
     "output_type": "execute_result"
    },
    {
     "data": {
      "image/png": "[encoded data removed]",
      "text/plain": [
       "<Figure size 640x480 with 1 Axes>"
      ]
     },
     "metadata": {},
     "output_type": "display_data"
    }
   ],
   "source": [
    "import numpy as np\n",
    "import matplotlib.pyplot as plt\n",
    "\n",
    "X = np.array([-7.0, -4.0, -1.0, 2.0, 5.0, 8.0, 11.0, 14.0])\n",
    "y = np.array([3.0, 6.0, 9.0, 12.0, 15.0, 18.0, 21.0, 24.0])\n",
    "\n",
    "#Visualisation\n",
    "plt.scatter(X, y)"
   ]
  },
  {
   "cell_type": "code",
   "execution_count": 3,
   "metadata": {},
   "outputs": [
    {
     "data": {
      "text/plain": [
       "array([ True,  True,  True,  True,  True,  True,  True,  True])"
      ]
     },
     "execution_count": 3,
     "metadata": {},
     "output_type": "execute_result"
    }
   ],
   "source": [
    "#Equation expected from the above data\n",
    "y == X + 10"
   ]
  },
  {
   "cell_type": "markdown",
   "metadata": {},
   "source": [
    "## Input and Output shapes"
   ]
  },
  {
   "cell_type": "code",
   "execution_count": 4,
   "metadata": {},
   "outputs": [
    {
     "data": {
      "text/plain": [
       "(<tf.Tensor: shape=(3,), dtype=string, numpy=array([b'bedroom', b'bathroom', b'garage'], dtype=object)>,\n",
       " <tf.Tensor: shape=(1,), dtype=int32, numpy=array([939700], dtype=int32)>)"
      ]
     },
     "execution_count": 4,
     "metadata": {},
     "output_type": "execute_result"
    }
   ],
   "source": [
    "# Create a demo tensor for our housing price prediction problem\n",
    "house_info = tf.constant([\"bedroom\", \"bathroom\", \"garage\"])\n",
    "house_price = tf.constant([939700])\n",
    "house_info, house_price"
   ]
  },
  {
   "cell_type": "code",
   "execution_count": 5,
   "metadata": {},
   "outputs": [
    {
     "data": {
      "text/plain": [
       "((8,), (8,))"
      ]
     },
     "execution_count": 5,
     "metadata": {},
     "output_type": "execute_result"
    }
   ],
   "source": [
    "input_shape = X.shape\n",
    "output_shape = y.shape\n",
    "\n",
    "input_shape, output_shape"
   ]
  },
  {
   "cell_type": "code",
   "execution_count": 6,
   "metadata": {},
   "outputs": [
    {
     "data": {
      "text/plain": [
       "(<tf.Tensor: shape=(8,), dtype=float32, numpy=array([-7., -4., -1.,  2.,  5.,  8., 11., 14.], dtype=float32)>,\n",
       " <tf.Tensor: shape=(8,), dtype=float32, numpy=array([ 3.,  6.,  9., 12., 15., 18., 21., 24.], dtype=float32)>)"
      ]
     },
     "execution_count": 6,
     "metadata": {},
     "output_type": "execute_result"
    }
   ],
   "source": [
    "#Turn over numpy arrays into tensors\n",
    "X = tf.cast(tf.constant(X), dtype= tf.float32)\n",
    "y = tf.cast(tf.constant(y), dtype= tf.float32)\n",
    "\n",
    "X, y"
   ]
  },
  {
   "cell_type": "code",
   "execution_count": 7,
   "metadata": {},
   "outputs": [
    {
     "data": {
      "text/plain": [
       "(TensorShape([]), TensorShape([]))"
      ]
     },
     "execution_count": 7,
     "metadata": {},
     "output_type": "execute_result"
    }
   ],
   "source": [
    "X[0].shape, y[0].shape"
   ]
  },
  {
   "cell_type": "code",
   "execution_count": 8,
   "metadata": {},
   "outputs": [
    {
     "data": {
      "text/plain": [
       "<matplotlib.collections.PathCollection at 0x16bd6bd90>"
      ]
     },
     "execution_count": 8,
     "metadata": {},
     "output_type": "execute_result"
    },
    {
     "data": {
      "image/png": "[encoded data removed]",
      "text/plain": [
       "<Figure size 640x480 with 1 Axes>"
      ]
     },
     "metadata": {},
     "output_type": "display_data"
    }
   ],
   "source": [
    "plt.scatter(X, y)"
   ]
  },
  {
   "cell_type": "markdown",
   "metadata": {},
   "source": [
    "### Steps in modelling with Tensorflow\n",
    "\n",
    "1. **Created a model**: define input, hidden and output layers\n",
    "2. **Compile a model**: define the loss function, optimizer and the evaluation metrics\n",
    "3. **Fitting a model**: train the model with the training dataset to find the pattern or relation between the independent variable and the dependent variable"
   ]
  },
  {
   "cell_type": "code",
   "execution_count": 9,
   "metadata": {},
   "outputs": [
    {
     "name": "stdout",
     "output_type": "stream",
     "text": [
      "Epoch 1/5\n",
      "1/1 [==============================] - 0s 110ms/step - loss: 14.5201 - mae: 14.5201\n",
      "Epoch 2/5\n",
      "1/1 [==============================] - 0s 2ms/step - loss: 14.3876 - mae: 14.3876\n",
      "Epoch 3/5\n",
      "1/1 [==============================] - 0s 2ms/step - loss: 14.2551 - mae: 14.2551\n",
      "Epoch 4/5\n",
      "1/1 [==============================] - 0s 2ms/step - loss: 14.1226 - mae: 14.1226\n",
      "Epoch 5/5\n",
      "1/1 [==============================] - 0s 2ms/step - loss: 13.9901 - mae: 13.9901\n"
     ]
    },
    {
     "name": "stderr",
     "output_type": "stream",
     "text": [
      "2024-01-19 15:32:06.900693: W tensorflow/tsl/platform/profile_utils/cpu_utils.cc:128] Failed to get CPU frequency: 0 Hz\n"
     ]
    },
    {
     "data": {
      "text/plain": [
       "<keras.callbacks.History at 0x16c1c4670>"
      ]
     },
     "execution_count": 9,
     "metadata": {},
     "output_type": "execute_result"
    }
   ],
   "source": [
    "# Set random sedd\n",
    "tf.random.set_seed(42)\n",
    "\n",
    "#1. Create a model using the Sequential API\n",
    "model = tf.keras.Sequential([\n",
    "    tf.keras.layers.Dense(1)\n",
    "])\n",
    "\n",
    "#Alternative\n",
    "\"\"\" model = tf.keras.Sequential()\n",
    "model.add(tf.keras.layers.Dense(1)) \"\"\"\n",
    "\n",
    "#2. Compile the model\n",
    "model.compile(loss= tf.keras.losses.mae, \n",
    "              optimizer= tf.keras.optimizers.SGD(),\n",
    "              metrics=['mae'])\n",
    "\n",
    "#3. Fit the model\n",
    "model.fit(tf.expand_dims(X, axis= -1), y, epochs= 5)"
   ]
  },
  {
   "cell_type": "code",
   "execution_count": 10,
   "metadata": {},
   "outputs": [
    {
     "data": {
      "text/plain": [
       "(<tf.Tensor: shape=(8,), dtype=float32, numpy=array([-7., -4., -1.,  2.,  5.,  8., 11., 14.], dtype=float32)>,\n",
       " <tf.Tensor: shape=(8,), dtype=float32, numpy=array([ 3.,  6.,  9., 12., 15., 18., 21., 24.], dtype=float32)>)"
      ]
     },
     "execution_count": 10,
     "metadata": {},
     "output_type": "execute_result"
    }
   ],
   "source": [
    "X, y"
   ]
  },
  {
   "cell_type": "code",
   "execution_count": 11,
   "metadata": {},
   "outputs": [
    {
     "name": "stdout",
     "output_type": "stream",
     "text": [
      "1/1 [==============================] - 0s 37ms/step\n"
     ]
    },
    {
     "data": {
      "text/plain": [
       "array([[10.298632]], dtype=float32)"
      ]
     },
     "execution_count": 11,
     "metadata": {},
     "output_type": "execute_result"
    }
   ],
   "source": [
    "#Try and make a prediction using the model\n",
    "ypred = model.predict([17.0])\n",
    "\n",
    "ypred + 12.2284"
   ]
  },
  {
   "cell_type": "markdown",
   "metadata": {},
   "source": [
    "## Improving our model\n",
    "\n",
    "We can imporve our model by altering the steps we took to create a model.\n",
    "\n",
    "1. **Creating a model**: we might:\n",
    "    1. add more **layers** \n",
    "    2. increase the **number of hidden units** within each of the hidden layers\n",
    "    3. change the **activation function** of each layer.\n",
    "\n",
    "2. **Compiling a model**: we might: \n",
    "    1. change the **optimization function** \n",
    "    2. perhaps the **learning rate** of the optimization function\n",
    "3. **Fitting a model**: we might fit a model for:\n",
    "    1. more **epochs** \n",
    "    2. more **data**\n"
   ]
  },
  {
   "cell_type": "code",
   "execution_count": 12,
   "metadata": {},
   "outputs": [
    {
     "name": "stdout",
     "output_type": "stream",
     "text": [
      "Epoch 1/100\n",
      "1/1 [==============================] - 0s 89ms/step - loss: 10.1346 - mae: 10.1346\n",
      "Epoch 2/100\n",
      "1/1 [==============================] - 0s 2ms/step - loss: 10.0021 - mae: 10.0021\n",
      "Epoch 3/100\n",
      "1/1 [==============================] - 0s 2ms/step - loss: 9.8695 - mae: 9.8695\n",
      "Epoch 4/100\n",
      "1/1 [==============================] - 0s 2ms/step - loss: 9.7371 - mae: 9.7371\n",
      "Epoch 5/100\n",
      "1/1 [==============================] - 0s 2ms/step - loss: 9.6046 - mae: 9.6046\n",
      "Epoch 6/100\n",
      "1/1 [==============================] - 0s 2ms/step - loss: 9.4721 - mae: 9.4721\n",
      "Epoch 7/100\n",
      "1/1 [==============================] - 0s 2ms/step - loss: 9.3396 - mae: 9.3396\n",
      "Epoch 8/100\n",
      "1/1 [==============================] - 0s 2ms/step - loss: 9.2071 - mae: 9.2071\n",
      "Epoch 9/100\n",
      "1/1 [==============================] - 0s 2ms/step - loss: 9.0746 - mae: 9.0746\n",
      "Epoch 10/100\n",
      "1/1 [==============================] - 0s 2ms/step - loss: 8.9421 - mae: 8.9421\n",
      "Epoch 11/100\n",
      "1/1 [==============================] - 0s 3ms/step - loss: 8.8096 - mae: 8.8096\n",
      "Epoch 12/100\n",
      "1/1 [==============================] - 0s 7ms/step - loss: 8.6771 - mae: 8.6771\n",
      "Epoch 13/100\n",
      "1/1 [==============================] - 0s 5ms/step - loss: 8.5446 - mae: 8.5446\n",
      "Epoch 14/100\n",
      "1/1 [==============================] - 0s 5ms/step - loss: 8.4121 - mae: 8.4121\n",
      "Epoch 15/100\n",
      "1/1 [==============================] - 0s 2ms/step - loss: 8.2796 - mae: 8.2796\n",
      "Epoch 16/100\n",
      "1/1 [==============================] - 0s 2ms/step - loss: 8.1471 - mae: 8.1471\n",
      "Epoch 17/100\n",
      "1/1 [==============================] - 0s 2ms/step - loss: 8.0146 - mae: 8.0146\n",
      "Epoch 18/100\n",
      "1/1 [==============================] - 0s 5ms/step - loss: 7.8821 - mae: 7.8821\n",
      "Epoch 19/100\n",
      "1/1 [==============================] - 0s 2ms/step - loss: 7.7496 - mae: 7.7496\n",
      "Epoch 20/100\n",
      "1/1 [==============================] - 0s 2ms/step - loss: 7.6171 - mae: 7.6171\n",
      "Epoch 21/100\n",
      "1/1 [==============================] - 0s 2ms/step - loss: 7.4846 - mae: 7.4846\n",
      "Epoch 22/100\n",
      "1/1 [==============================] - 0s 2ms/step - loss: 7.3521 - mae: 7.3521\n",
      "Epoch 23/100\n",
      "1/1 [==============================] - 0s 2ms/step - loss: 7.3350 - mae: 7.3350\n",
      "Epoch 24/100\n",
      "1/1 [==============================] - 0s 2ms/step - loss: 7.3294 - mae: 7.3294\n",
      "Epoch 25/100\n",
      "1/1 [==============================] - 0s 2ms/step - loss: 7.3238 - mae: 7.3238\n",
      "Epoch 26/100\n",
      "1/1 [==============================] - 0s 2ms/step - loss: 7.3181 - mae: 7.3181\n",
      "Epoch 27/100\n",
      "1/1 [==============================] - 0s 2ms/step - loss: 7.3125 - mae: 7.3125\n",
      "Epoch 28/100\n",
      "1/1 [==============================] - 0s 2ms/step - loss: 7.3069 - mae: 7.3069\n",
      "Epoch 29/100\n",
      "1/1 [==============================] - 0s 2ms/step - loss: 7.3013 - mae: 7.3013\n",
      "Epoch 30/100\n",
      "1/1 [==============================] - 0s 2ms/step - loss: 7.2956 - mae: 7.2956\n",
      "Epoch 31/100\n",
      "1/1 [==============================] - 0s 2ms/step - loss: 7.2900 - mae: 7.2900\n",
      "Epoch 32/100\n",
      "1/1 [==============================] - 0s 2ms/step - loss: 7.2844 - mae: 7.2844\n",
      "Epoch 33/100\n",
      "1/1 [==============================] - 0s 2ms/step - loss: 7.2788 - mae: 7.2788\n",
      "Epoch 34/100\n",
      "1/1 [==============================] - 0s 2ms/step - loss: 7.2731 - mae: 7.2731\n",
      "Epoch 35/100\n",
      "1/1 [==============================] - 0s 2ms/step - loss: 7.2675 - mae: 7.2675\n",
      "Epoch 36/100\n",
      "1/1 [==============================] - 0s 2ms/step - loss: 7.2619 - mae: 7.2619\n",
      "Epoch 37/100\n",
      "1/1 [==============================] - 0s 2ms/step - loss: 7.2563 - mae: 7.2563\n",
      "Epoch 38/100\n",
      "1/1 [==============================] - 0s 2ms/step - loss: 7.2506 - mae: 7.2506\n",
      "Epoch 39/100\n",
      "1/1 [==============================] - 0s 2ms/step - loss: 7.2450 - mae: 7.2450\n",
      "Epoch 40/100\n",
      "1/1 [==============================] - 0s 2ms/step - loss: 7.2394 - mae: 7.2394\n",
      "Epoch 41/100\n",
      "1/1 [==============================] - 0s 2ms/step - loss: 7.2338 - mae: 7.2338\n",
      "Epoch 42/100\n",
      "1/1 [==============================] - 0s 2ms/step - loss: 7.2281 - mae: 7.2281\n",
      "Epoch 43/100\n",
      "1/1 [==============================] - 0s 2ms/step - loss: 7.2225 - mae: 7.2225\n",
      "Epoch 44/100\n",
      "1/1 [==============================] - 0s 2ms/step - loss: 7.2169 - mae: 7.2169\n",
      "Epoch 45/100\n",
      "1/1 [==============================] - 0s 2ms/step - loss: 7.2113 - mae: 7.2113\n",
      "Epoch 46/100\n",
      "1/1 [==============================] - 0s 2ms/step - loss: 7.2056 - mae: 7.2056\n",
      "Epoch 47/100\n",
      "1/1 [==============================] - 0s 2ms/step - loss: 7.2000 - mae: 7.2000\n",
      "Epoch 48/100\n",
      "1/1 [==============================] - 0s 1ms/step - loss: 7.1944 - mae: 7.1944\n",
      "Epoch 49/100\n",
      "1/1 [==============================] - 0s 2ms/step - loss: 7.1888 - mae: 7.1888\n",
      "Epoch 50/100\n",
      "1/1 [==============================] - 0s 2ms/step - loss: 7.1831 - mae: 7.1831\n",
      "Epoch 51/100\n",
      "1/1 [==============================] - 0s 2ms/step - loss: 7.1775 - mae: 7.1775\n",
      "Epoch 52/100\n",
      "1/1 [==============================] - 0s 2ms/step - loss: 7.1719 - mae: 7.1719\n",
      "Epoch 53/100\n",
      "1/1 [==============================] - 0s 2ms/step - loss: 7.1663 - mae: 7.1663\n",
      "Epoch 54/100\n",
      "1/1 [==============================] - 0s 2ms/step - loss: 7.1606 - mae: 7.1606\n",
      "Epoch 55/100\n",
      "1/1 [==============================] - 0s 2ms/step - loss: 7.1550 - mae: 7.1550\n",
      "Epoch 56/100\n",
      "1/1 [==============================] - 0s 6ms/step - loss: 7.1494 - mae: 7.1494\n",
      "Epoch 57/100\n",
      "1/1 [==============================] - 0s 5ms/step - loss: 7.1438 - mae: 7.1438\n",
      "Epoch 58/100\n",
      "1/1 [==============================] - 0s 3ms/step - loss: 7.1381 - mae: 7.1381\n",
      "Epoch 59/100\n",
      "1/1 [==============================] - 0s 2ms/step - loss: 7.1325 - mae: 7.1325\n",
      "Epoch 60/100\n",
      "1/1 [==============================] - 0s 4ms/step - loss: 7.1269 - mae: 7.1269\n",
      "Epoch 61/100\n",
      "1/1 [==============================] - 0s 2ms/step - loss: 7.1213 - mae: 7.1213\n",
      "Epoch 62/100\n",
      "1/1 [==============================] - 0s 2ms/step - loss: 7.1156 - mae: 7.1156\n",
      "Epoch 63/100\n",
      "1/1 [==============================] - 0s 2ms/step - loss: 7.1100 - mae: 7.1100\n",
      "Epoch 64/100\n",
      "1/1 [==============================] - 0s 2ms/step - loss: 7.1044 - mae: 7.1044\n",
      "Epoch 65/100\n",
      "1/1 [==============================] - 0s 2ms/step - loss: 7.0988 - mae: 7.0988\n",
      "Epoch 66/100\n",
      "1/1 [==============================] - 0s 2ms/step - loss: 7.0931 - mae: 7.0931\n",
      "Epoch 67/100\n",
      "1/1 [==============================] - 0s 2ms/step - loss: 7.0875 - mae: 7.0875\n",
      "Epoch 68/100\n",
      "1/1 [==============================] - 0s 2ms/step - loss: 7.0819 - mae: 7.0819\n",
      "Epoch 69/100\n",
      "1/1 [==============================] - 0s 2ms/step - loss: 7.0763 - mae: 7.0763\n",
      "Epoch 70/100\n",
      "1/1 [==============================] - 0s 2ms/step - loss: 7.0706 - mae: 7.0706\n",
      "Epoch 71/100\n",
      "1/1 [==============================] - 0s 2ms/step - loss: 7.0650 - mae: 7.0650\n",
      "Epoch 72/100\n",
      "1/1 [==============================] - 0s 2ms/step - loss: 7.0594 - mae: 7.0594\n",
      "Epoch 73/100\n",
      "1/1 [==============================] - 0s 2ms/step - loss: 7.0538 - mae: 7.0538\n",
      "Epoch 74/100\n",
      "1/1 [==============================] - 0s 2ms/step - loss: 7.0481 - mae: 7.0481\n",
      "Epoch 75/100\n",
      "1/1 [==============================] - 0s 2ms/step - loss: 7.0425 - mae: 7.0425\n",
      "Epoch 76/100\n",
      "1/1 [==============================] - 0s 2ms/step - loss: 7.0369 - mae: 7.0369\n",
      "Epoch 77/100\n",
      "1/1 [==============================] - 0s 2ms/step - loss: 7.0312 - mae: 7.0312\n",
      "Epoch 78/100\n",
      "1/1 [==============================] - 0s 2ms/step - loss: 7.0256 - mae: 7.0256\n",
      "Epoch 79/100\n",
      "1/1 [==============================] - 0s 2ms/step - loss: 7.0200 - mae: 7.0200\n",
      "Epoch 80/100\n",
      "1/1 [==============================] - 0s 2ms/step - loss: 7.0144 - mae: 7.0144\n",
      "Epoch 81/100\n",
      "1/1 [==============================] - 0s 2ms/step - loss: 7.0087 - mae: 7.0087\n",
      "Epoch 82/100\n",
      "1/1 [==============================] - 0s 2ms/step - loss: 7.0031 - mae: 7.0031\n",
      "Epoch 83/100\n",
      "1/1 [==============================] - 0s 1ms/step - loss: 6.9975 - mae: 6.9975\n",
      "Epoch 84/100\n",
      "1/1 [==============================] - 0s 2ms/step - loss: 6.9919 - mae: 6.9919\n",
      "Epoch 85/100\n",
      "1/1 [==============================] - 0s 2ms/step - loss: 6.9863 - mae: 6.9863\n",
      "Epoch 86/100\n",
      "1/1 [==============================] - 0s 2ms/step - loss: 6.9806 - mae: 6.9806\n",
      "Epoch 87/100\n",
      "1/1 [==============================] - 0s 2ms/step - loss: 6.9750 - mae: 6.9750\n",
      "Epoch 88/100\n",
      "1/1 [==============================] - 0s 2ms/step - loss: 6.9694 - mae: 6.9694\n",
      "Epoch 89/100\n",
      "1/1 [==============================] - 0s 2ms/step - loss: 6.9638 - mae: 6.9638\n",
      "Epoch 90/100\n",
      "1/1 [==============================] - 0s 2ms/step - loss: 6.9581 - mae: 6.9581\n",
      "Epoch 91/100\n",
      "1/1 [==============================] - 0s 1ms/step - loss: 6.9525 - mae: 6.9525\n",
      "Epoch 92/100\n",
      "1/1 [==============================] - 0s 2ms/step - loss: 6.9469 - mae: 6.9469\n",
      "Epoch 93/100\n",
      "1/1 [==============================] - 0s 1ms/step - loss: 6.9413 - mae: 6.9413\n",
      "Epoch 94/100\n",
      "1/1 [==============================] - 0s 2ms/step - loss: 6.9356 - mae: 6.9356\n",
      "Epoch 95/100\n",
      "1/1 [==============================] - 0s 2ms/step - loss: 6.9300 - mae: 6.9300\n",
      "Epoch 96/100\n",
      "1/1 [==============================] - 0s 4ms/step - loss: 6.9244 - mae: 6.9244\n",
      "Epoch 97/100\n",
      "1/1 [==============================] - 0s 12ms/step - loss: 6.9188 - mae: 6.9188\n",
      "Epoch 98/100\n",
      "1/1 [==============================] - 0s 4ms/step - loss: 6.9131 - mae: 6.9131\n",
      "Epoch 99/100\n",
      "1/1 [==============================] - 0s 7ms/step - loss: 6.9075 - mae: 6.9075\n",
      "Epoch 100/100\n",
      "1/1 [==============================] - 0s 2ms/step - loss: 6.9019 - mae: 6.9019\n"
     ]
    },
    {
     "data": {
      "text/plain": [
       "<keras.callbacks.History at 0x16c7cb0a0>"
      ]
     },
     "execution_count": 12,
     "metadata": {},
     "output_type": "execute_result"
    }
   ],
   "source": [
    "#Rebuild the model\n",
    "\n",
    "#1. Create the model\n",
    "model = tf.keras.Sequential([\n",
    "    tf.keras.layers.Dense(1)\n",
    "])\n",
    "\n",
    "#2. Compile the model\n",
    "model.compile(loss= tf.keras.losses.mae,\n",
    "              optimizer= tf.keras.optimizers.SGD(),\n",
    "              metrics= ['mae'])\n",
    "\n",
    "#3. Fit the model\n",
    "model.fit(tf.expand_dims(X, axis= -1), y, epochs= 100)"
   ]
  },
  {
   "cell_type": "code",
   "execution_count": 13,
   "metadata": {},
   "outputs": [
    {
     "data": {
      "text/plain": [
       "(<tf.Tensor: shape=(8,), dtype=float32, numpy=array([-7., -4., -1.,  2.,  5.,  8., 11., 14.], dtype=float32)>,\n",
       " <tf.Tensor: shape=(8,), dtype=float32, numpy=array([ 3.,  6.,  9., 12., 15., 18., 21., 24.], dtype=float32)>)"
      ]
     },
     "execution_count": 13,
     "metadata": {},
     "output_type": "execute_result"
    }
   ],
   "source": [
    "X, y"
   ]
  },
  {
   "cell_type": "code",
   "execution_count": 14,
   "metadata": {},
   "outputs": [
    {
     "name": "stdout",
     "output_type": "stream",
     "text": [
      "1/1 [==============================] - 0s 27ms/step\n"
     ]
    },
    {
     "data": {
      "text/plain": [
       "array([[30.241459]], dtype=float32)"
      ]
     },
     "execution_count": 14,
     "metadata": {},
     "output_type": "execute_result"
    }
   ],
   "source": [
    "#Try predicting from model\n",
    "\n",
    "model.predict([17.0])"
   ]
  },
  {
   "cell_type": "code",
   "execution_count": 15,
   "metadata": {},
   "outputs": [
    {
     "name": "stderr",
     "output_type": "stream",
     "text": [
      "WARNING:absl:`lr` is deprecated, please use `learning_rate` instead, or use the legacy optimizer, e.g.,tf.keras.optimizers.legacy.Adam.\n"
     ]
    },
    {
     "name": "stdout",
     "output_type": "stream",
     "text": [
      "Epoch 1/100\n",
      "1/1 [==============================] - 0s 106ms/step - loss: 9.0177\n",
      "Epoch 2/100\n",
      "1/1 [==============================] - 0s 2ms/step - loss: 9.0132\n",
      "Epoch 3/100\n",
      "1/1 [==============================] - 0s 1ms/step - loss: 9.0087\n",
      "Epoch 4/100\n",
      "1/1 [==============================] - 0s 2ms/step - loss: 9.0042\n",
      "Epoch 5/100\n",
      "1/1 [==============================] - 0s 2ms/step - loss: 8.9997\n",
      "Epoch 6/100\n",
      "1/1 [==============================] - 0s 2ms/step - loss: 8.9952\n",
      "Epoch 7/100\n",
      "1/1 [==============================] - 0s 2ms/step - loss: 8.9907\n",
      "Epoch 8/100\n",
      "1/1 [==============================] - 0s 1ms/step - loss: 8.9862\n",
      "Epoch 9/100\n",
      "1/1 [==============================] - 0s 1ms/step - loss: 8.9817\n",
      "Epoch 10/100\n",
      "1/1 [==============================] - 0s 1ms/step - loss: 8.9772\n",
      "Epoch 11/100\n",
      "1/1 [==============================] - 0s 2ms/step - loss: 8.9727\n",
      "Epoch 12/100\n",
      "1/1 [==============================] - 0s 1ms/step - loss: 8.9682\n",
      "Epoch 13/100\n",
      "1/1 [==============================] - 0s 2ms/step - loss: 8.9637\n",
      "Epoch 14/100\n",
      "1/1 [==============================] - 0s 4ms/step - loss: 8.9592\n",
      "Epoch 15/100\n",
      "1/1 [==============================] - 0s 5ms/step - loss: 8.9547\n",
      "Epoch 16/100\n",
      "1/1 [==============================] - 0s 4ms/step - loss: 8.9502\n",
      "Epoch 17/100\n",
      "1/1 [==============================] - 0s 2ms/step - loss: 8.9457\n",
      "Epoch 18/100\n",
      "1/1 [==============================] - 0s 2ms/step - loss: 8.9412\n",
      "Epoch 19/100\n",
      "1/1 [==============================] - 0s 3ms/step - loss: 8.9367\n",
      "Epoch 20/100\n",
      "1/1 [==============================] - 0s 2ms/step - loss: 8.9322\n",
      "Epoch 21/100\n",
      "1/1 [==============================] - 0s 2ms/step - loss: 8.9277\n",
      "Epoch 22/100\n",
      "1/1 [==============================] - 0s 1ms/step - loss: 8.9232\n",
      "Epoch 23/100\n",
      "1/1 [==============================] - 0s 1ms/step - loss: 8.9187\n",
      "Epoch 24/100\n",
      "1/1 [==============================] - 0s 2ms/step - loss: 8.9142\n",
      "Epoch 25/100\n",
      "1/1 [==============================] - 0s 2ms/step - loss: 8.9097\n",
      "Epoch 26/100\n",
      "1/1 [==============================] - 0s 1ms/step - loss: 8.9052\n",
      "Epoch 27/100\n",
      "1/1 [==============================] - 0s 2ms/step - loss: 8.9007\n",
      "Epoch 28/100\n",
      "1/1 [==============================] - 0s 1ms/step - loss: 8.8962\n",
      "Epoch 29/100\n",
      "1/1 [==============================] - 0s 2ms/step - loss: 8.8917\n",
      "Epoch 30/100\n",
      "1/1 [==============================] - 0s 1ms/step - loss: 8.8872\n",
      "Epoch 31/100\n",
      "1/1 [==============================] - 0s 2ms/step - loss: 8.8827\n",
      "Epoch 32/100\n",
      "1/1 [==============================] - 0s 1ms/step - loss: 8.8782\n",
      "Epoch 33/100\n",
      "1/1 [==============================] - 0s 1ms/step - loss: 8.8737\n",
      "Epoch 34/100\n",
      "1/1 [==============================] - 0s 2ms/step - loss: 8.8692\n",
      "Epoch 35/100\n",
      "1/1 [==============================] - 0s 2ms/step - loss: 8.8647\n",
      "Epoch 36/100\n",
      "1/1 [==============================] - 0s 2ms/step - loss: 8.8602\n",
      "Epoch 37/100\n",
      "1/1 [==============================] - 0s 2ms/step - loss: 8.8557\n",
      "Epoch 38/100\n",
      "1/1 [==============================] - 0s 2ms/step - loss: 8.8512\n",
      "Epoch 39/100\n",
      "1/1 [==============================] - 0s 1ms/step - loss: 8.8467\n",
      "Epoch 40/100\n",
      "1/1 [==============================] - 0s 2ms/step - loss: 8.8422\n",
      "Epoch 41/100\n",
      "1/1 [==============================] - 0s 2ms/step - loss: 8.8377\n",
      "Epoch 42/100\n",
      "1/1 [==============================] - 0s 1ms/step - loss: 8.8332\n",
      "Epoch 43/100\n",
      "1/1 [==============================] - 0s 1ms/step - loss: 8.8287\n",
      "Epoch 44/100\n",
      "1/1 [==============================] - 0s 1ms/step - loss: 8.8242\n",
      "Epoch 45/100\n",
      "1/1 [==============================] - 0s 1ms/step - loss: 8.8197\n",
      "Epoch 46/100\n",
      "1/1 [==============================] - 0s 2ms/step - loss: 8.8152\n",
      "Epoch 47/100\n",
      "1/1 [==============================] - 0s 1ms/step - loss: 8.8107\n",
      "Epoch 48/100\n",
      "1/1 [==============================] - 0s 2ms/step - loss: 8.8062\n",
      "Epoch 49/100\n",
      "1/1 [==============================] - 0s 1ms/step - loss: 8.8017\n",
      "Epoch 50/100\n",
      "1/1 [==============================] - 0s 2ms/step - loss: 8.7972\n",
      "Epoch 51/100\n",
      "1/1 [==============================] - 0s 2ms/step - loss: 8.7927\n",
      "Epoch 52/100\n",
      "1/1 [==============================] - 0s 1ms/step - loss: 8.7882\n",
      "Epoch 53/100\n",
      "1/1 [==============================] - 0s 1ms/step - loss: 8.7837\n",
      "Epoch 54/100\n",
      "1/1 [==============================] - 0s 2ms/step - loss: 8.7792\n",
      "Epoch 55/100\n",
      "1/1 [==============================] - 0s 1ms/step - loss: 8.7747\n",
      "Epoch 56/100\n",
      "1/1 [==============================] - 0s 2ms/step - loss: 8.7702\n",
      "Epoch 57/100\n",
      "1/1 [==============================] - 0s 3ms/step - loss: 8.7657\n",
      "Epoch 58/100\n",
      "1/1 [==============================] - 0s 3ms/step - loss: 8.7612\n",
      "Epoch 59/100\n",
      "1/1 [==============================] - 0s 2ms/step - loss: 8.7567\n",
      "Epoch 60/100\n",
      "1/1 [==============================] - 0s 5ms/step - loss: 8.7522\n",
      "Epoch 61/100\n",
      "1/1 [==============================] - 0s 2ms/step - loss: 8.7477\n",
      "Epoch 62/100\n",
      "1/1 [==============================] - 0s 2ms/step - loss: 8.7432\n",
      "Epoch 63/100\n",
      "1/1 [==============================] - 0s 2ms/step - loss: 8.7387\n",
      "Epoch 64/100\n",
      "1/1 [==============================] - 0s 1ms/step - loss: 8.7342\n",
      "Epoch 65/100\n",
      "1/1 [==============================] - 0s 2ms/step - loss: 8.7297\n",
      "Epoch 66/100\n",
      "1/1 [==============================] - 0s 2ms/step - loss: 8.7252\n",
      "Epoch 67/100\n",
      "1/1 [==============================] - 0s 2ms/step - loss: 8.7207\n",
      "Epoch 68/100\n",
      "1/1 [==============================] - 0s 2ms/step - loss: 8.7162\n",
      "Epoch 69/100\n",
      "1/1 [==============================] - 0s 2ms/step - loss: 8.7117\n",
      "Epoch 70/100\n",
      "1/1 [==============================] - 0s 2ms/step - loss: 8.7072\n",
      "Epoch 71/100\n",
      "1/1 [==============================] - 0s 1ms/step - loss: 8.7027\n",
      "Epoch 72/100\n",
      "1/1 [==============================] - 0s 1ms/step - loss: 8.6982\n",
      "Epoch 73/100\n",
      "1/1 [==============================] - 0s 2ms/step - loss: 8.6937\n",
      "Epoch 74/100\n",
      "1/1 [==============================] - 0s 1ms/step - loss: 8.6892\n",
      "Epoch 75/100\n",
      "1/1 [==============================] - 0s 1ms/step - loss: 8.6847\n",
      "Epoch 76/100\n",
      "1/1 [==============================] - 0s 1ms/step - loss: 8.6802\n",
      "Epoch 77/100\n",
      "1/1 [==============================] - 0s 1ms/step - loss: 8.6757\n",
      "Epoch 78/100\n",
      "1/1 [==============================] - 0s 1ms/step - loss: 8.6712\n",
      "Epoch 79/100\n",
      "1/1 [==============================] - 0s 1ms/step - loss: 8.6667\n",
      "Epoch 80/100\n",
      "1/1 [==============================] - 0s 1ms/step - loss: 8.6622\n",
      "Epoch 81/100\n",
      "1/1 [==============================] - 0s 2ms/step - loss: 8.6577\n",
      "Epoch 82/100\n",
      "1/1 [==============================] - 0s 1ms/step - loss: 8.6532\n",
      "Epoch 83/100\n",
      "1/1 [==============================] - 0s 2ms/step - loss: 8.6487\n",
      "Epoch 84/100\n",
      "1/1 [==============================] - 0s 1ms/step - loss: 8.6442\n",
      "Epoch 85/100\n",
      "1/1 [==============================] - 0s 1ms/step - loss: 8.6397\n",
      "Epoch 86/100\n",
      "1/1 [==============================] - 0s 2ms/step - loss: 8.6352\n",
      "Epoch 87/100\n",
      "1/1 [==============================] - 0s 2ms/step - loss: 8.6307\n",
      "Epoch 88/100\n",
      "1/1 [==============================] - 0s 2ms/step - loss: 8.6262\n",
      "Epoch 89/100\n",
      "1/1 [==============================] - 0s 2ms/step - loss: 8.6217\n",
      "Epoch 90/100\n",
      "1/1 [==============================] - 0s 2ms/step - loss: 8.6172\n",
      "Epoch 91/100\n",
      "1/1 [==============================] - 0s 2ms/step - loss: 8.6127\n",
      "Epoch 92/100\n",
      "1/1 [==============================] - 0s 2ms/step - loss: 8.6082\n",
      "Epoch 93/100\n",
      "1/1 [==============================] - 0s 2ms/step - loss: 8.6037\n",
      "Epoch 94/100\n",
      "1/1 [==============================] - 0s 6ms/step - loss: 8.5992\n",
      "Epoch 95/100\n",
      "1/1 [==============================] - 0s 8ms/step - loss: 8.5947\n",
      "Epoch 96/100\n",
      "1/1 [==============================] - 0s 3ms/step - loss: 8.5902\n",
      "Epoch 97/100\n",
      "1/1 [==============================] - 0s 2ms/step - loss: 8.5857\n",
      "Epoch 98/100\n",
      "1/1 [==============================] - 0s 2ms/step - loss: 8.5812\n",
      "Epoch 99/100\n",
      "1/1 [==============================] - 0s 2ms/step - loss: 8.5767\n",
      "Epoch 100/100\n",
      "1/1 [==============================] - 0s 2ms/step - loss: 8.5722\n"
     ]
    },
    {
     "data": {
      "text/plain": [
       "<keras.callbacks.History at 0x16cbc9ae0>"
      ]
     },
     "execution_count": 15,
     "metadata": {},
     "output_type": "execute_result"
    }
   ],
   "source": [
    "#1. Create Sequenial model\n",
    "model = tf.keras.Sequential([\n",
    "    tf.keras.layers.Dense(1)\n",
    "])\n",
    "\n",
    "model.compile(loss= tf.keras.losses.mae,\n",
    "              optimizer= tf.keras.optimizers.Adam(lr= 0.01))\n",
    "\n",
    "model.fit(tf.expand_dims(X, axis= -1), y, epochs= 100)"
   ]
  },
  {
   "cell_type": "code",
   "execution_count": 16,
   "metadata": {},
   "outputs": [
    {
     "name": "stdout",
     "output_type": "stream",
     "text": [
      "1/1 [==============================] - 0s 26ms/step\n"
     ]
    },
    {
     "data": {
      "text/plain": [
       "array([[23.571222]], dtype=float32)"
      ]
     },
     "execution_count": 16,
     "metadata": {},
     "output_type": "execute_result"
    }
   ],
   "source": [
    "#Predicting\n",
    "model.predict([17.0])"
   ]
  },
  {
   "cell_type": "code",
   "execution_count": 17,
   "metadata": {},
   "outputs": [
    {
     "name": "stdout",
     "output_type": "stream",
     "text": [
      "Epoch 1/100\n",
      "1/1 [==============================] - 0s 115ms/step - loss: 13.1615 - mae: 13.1615\n",
      "Epoch 2/100\n",
      "1/1 [==============================] - 0s 2ms/step - loss: 12.5116 - mae: 12.5116\n",
      "Epoch 3/100\n",
      "1/1 [==============================] - 0s 2ms/step - loss: 11.8589 - mae: 11.8589\n",
      "Epoch 4/100\n",
      "1/1 [==============================] - 0s 2ms/step - loss: 11.1972 - mae: 11.1972\n",
      "Epoch 5/100\n",
      "1/1 [==============================] - 0s 2ms/step - loss: 10.5264 - mae: 10.5264\n",
      "Epoch 6/100\n",
      "1/1 [==============================] - 0s 2ms/step - loss: 9.8399 - mae: 9.8399\n",
      "Epoch 7/100\n",
      "1/1 [==============================] - 0s 2ms/step - loss: 9.1533 - mae: 9.1533\n",
      "Epoch 8/100\n",
      "1/1 [==============================] - 0s 2ms/step - loss: 8.4712 - mae: 8.4712\n",
      "Epoch 9/100\n",
      "1/1 [==============================] - 0s 2ms/step - loss: 7.7495 - mae: 7.7495\n",
      "Epoch 10/100\n",
      "1/1 [==============================] - 0s 2ms/step - loss: 6.9811 - mae: 6.9811\n",
      "Epoch 11/100\n",
      "1/1 [==============================] - 0s 2ms/step - loss: 6.1630 - mae: 6.1630\n",
      "Epoch 12/100\n",
      "1/1 [==============================] - 0s 2ms/step - loss: 5.2755 - mae: 5.2755\n",
      "Epoch 13/100\n",
      "1/1 [==============================] - 0s 2ms/step - loss: 4.3167 - mae: 4.3167\n",
      "Epoch 14/100\n",
      "1/1 [==============================] - 0s 2ms/step - loss: 3.9248 - mae: 3.9248\n",
      "Epoch 15/100\n",
      "1/1 [==============================] - 0s 2ms/step - loss: 3.9881 - mae: 3.9881\n",
      "Epoch 16/100\n",
      "1/1 [==============================] - 0s 2ms/step - loss: 3.9160 - mae: 3.9160\n",
      "Epoch 17/100\n",
      "1/1 [==============================] - 0s 2ms/step - loss: 3.9772 - mae: 3.9772\n",
      "Epoch 18/100\n",
      "1/1 [==============================] - 0s 2ms/step - loss: 3.9232 - mae: 3.9232\n",
      "Epoch 19/100\n",
      "1/1 [==============================] - 0s 2ms/step - loss: 3.9553 - mae: 3.9553\n",
      "Epoch 20/100\n",
      "1/1 [==============================] - 0s 1ms/step - loss: 3.9387 - mae: 3.9387\n",
      "Epoch 21/100\n",
      "1/1 [==============================] - 0s 5ms/step - loss: 3.9320 - mae: 3.9320\n",
      "Epoch 22/100\n",
      "1/1 [==============================] - 0s 6ms/step - loss: 3.9460 - mae: 3.9460\n",
      "Epoch 23/100\n",
      "1/1 [==============================] - 0s 3ms/step - loss: 3.9053 - mae: 3.9053\n",
      "Epoch 24/100\n",
      "1/1 [==============================] - 0s 2ms/step - loss: 3.9535 - mae: 3.9535\n",
      "Epoch 25/100\n",
      "1/1 [==============================] - 0s 2ms/step - loss: 3.8823 - mae: 3.8823\n",
      "Epoch 26/100\n",
      "1/1 [==============================] - 0s 2ms/step - loss: 3.9563 - mae: 3.9563\n",
      "Epoch 27/100\n",
      "1/1 [==============================] - 0s 2ms/step - loss: 3.8925 - mae: 3.8925\n",
      "Epoch 28/100\n",
      "1/1 [==============================] - 0s 1ms/step - loss: 3.9374 - mae: 3.9374\n",
      "Epoch 29/100\n",
      "1/1 [==============================] - 0s 1ms/step - loss: 3.9054 - mae: 3.9054\n",
      "Epoch 30/100\n",
      "1/1 [==============================] - 0s 2ms/step - loss: 3.9106 - mae: 3.9106\n",
      "Epoch 31/100\n",
      "1/1 [==============================] - 0s 2ms/step - loss: 3.9129 - mae: 3.9129\n",
      "Epoch 32/100\n",
      "1/1 [==============================] - 0s 2ms/step - loss: 3.8837 - mae: 3.8837\n",
      "Epoch 33/100\n",
      "1/1 [==============================] - 0s 2ms/step - loss: 3.9206 - mae: 3.9206\n",
      "Epoch 34/100\n",
      "1/1 [==============================] - 0s 2ms/step - loss: 3.8567 - mae: 3.8567\n",
      "Epoch 35/100\n",
      "1/1 [==============================] - 0s 1ms/step - loss: 3.9293 - mae: 3.9293\n",
      "Epoch 36/100\n",
      "1/1 [==============================] - 0s 2ms/step - loss: 3.8657 - mae: 3.8657\n",
      "Epoch 37/100\n",
      "1/1 [==============================] - 0s 2ms/step - loss: 3.9148 - mae: 3.9148\n",
      "Epoch 38/100\n",
      "1/1 [==============================] - 0s 2ms/step - loss: 3.8734 - mae: 3.8734\n",
      "Epoch 39/100\n",
      "1/1 [==============================] - 0s 2ms/step - loss: 3.8878 - mae: 3.8878\n",
      "Epoch 40/100\n",
      "1/1 [==============================] - 0s 2ms/step - loss: 3.8811 - mae: 3.8811\n",
      "Epoch 41/100\n",
      "1/1 [==============================] - 0s 2ms/step - loss: 3.8607 - mae: 3.8607\n",
      "Epoch 42/100\n",
      "1/1 [==============================] - 0s 2ms/step - loss: 3.8891 - mae: 3.8891\n",
      "Epoch 43/100\n",
      "1/1 [==============================] - 0s 2ms/step - loss: 3.8334 - mae: 3.8334\n",
      "Epoch 44/100\n",
      "1/1 [==============================] - 0s 2ms/step - loss: 3.9037 - mae: 3.9037\n",
      "Epoch 45/100\n",
      "1/1 [==============================] - 0s 2ms/step - loss: 3.8347 - mae: 3.8347\n",
      "Epoch 46/100\n",
      "1/1 [==============================] - 0s 2ms/step - loss: 3.8911 - mae: 3.8911\n",
      "Epoch 47/100\n",
      "1/1 [==============================] - 0s 2ms/step - loss: 3.8426 - mae: 3.8426\n",
      "Epoch 48/100\n",
      "1/1 [==============================] - 0s 2ms/step - loss: 3.8636 - mae: 3.8636\n",
      "Epoch 49/100\n",
      "1/1 [==============================] - 0s 2ms/step - loss: 3.8506 - mae: 3.8506\n",
      "Epoch 50/100\n",
      "1/1 [==============================] - 0s 2ms/step - loss: 3.8362 - mae: 3.8362\n",
      "Epoch 51/100\n",
      "1/1 [==============================] - 0s 2ms/step - loss: 3.8588 - mae: 3.8588\n",
      "Epoch 52/100\n",
      "1/1 [==============================] - 0s 2ms/step - loss: 3.8136 - mae: 3.8136\n",
      "Epoch 53/100\n",
      "1/1 [==============================] - 0s 2ms/step - loss: 3.8751 - mae: 3.8751\n",
      "Epoch 54/100\n",
      "1/1 [==============================] - 0s 2ms/step - loss: 3.8049 - mae: 3.8049\n",
      "Epoch 55/100\n",
      "1/1 [==============================] - 0s 2ms/step - loss: 3.8658 - mae: 3.8658\n",
      "Epoch 56/100\n",
      "1/1 [==============================] - 0s 2ms/step - loss: 3.8130 - mae: 3.8130\n",
      "Epoch 57/100\n",
      "1/1 [==============================] - 0s 2ms/step - loss: 3.8381 - mae: 3.8381\n",
      "Epoch 58/100\n",
      "1/1 [==============================] - 0s 2ms/step - loss: 3.8213 - mae: 3.8213\n",
      "Epoch 59/100\n",
      "1/1 [==============================] - 0s 2ms/step - loss: 3.8105 - mae: 3.8105\n",
      "Epoch 60/100\n",
      "1/1 [==============================] - 0s 2ms/step - loss: 3.8321 - mae: 3.8321\n",
      "Epoch 61/100\n",
      "1/1 [==============================] - 0s 2ms/step - loss: 3.7901 - mae: 3.7901\n",
      "Epoch 62/100\n",
      "1/1 [==============================] - 0s 4ms/step - loss: 3.8461 - mae: 3.8461\n",
      "Epoch 63/100\n",
      "1/1 [==============================] - 0s 3ms/step - loss: 3.7761 - mae: 3.7761\n",
      "Epoch 64/100\n",
      "1/1 [==============================] - 0s 4ms/step - loss: 3.8393 - mae: 3.8393\n",
      "Epoch 65/100\n",
      "1/1 [==============================] - 0s 4ms/step - loss: 3.7845 - mae: 3.7845\n",
      "Epoch 66/100\n",
      "1/1 [==============================] - 0s 2ms/step - loss: 3.8114 - mae: 3.8114\n",
      "Epoch 67/100\n",
      "1/1 [==============================] - 0s 3ms/step - loss: 3.7930 - mae: 3.7930\n",
      "Epoch 68/100\n",
      "1/1 [==============================] - 0s 2ms/step - loss: 3.7839 - mae: 3.7839\n",
      "Epoch 69/100\n",
      "1/1 [==============================] - 0s 2ms/step - loss: 3.8097 - mae: 3.8097\n",
      "Epoch 70/100\n",
      "1/1 [==============================] - 0s 2ms/step - loss: 3.7625 - mae: 3.7625\n",
      "Epoch 71/100\n",
      "1/1 [==============================] - 0s 2ms/step - loss: 3.8182 - mae: 3.8182\n",
      "Epoch 72/100\n",
      "1/1 [==============================] - 0s 2ms/step - loss: 3.7485 - mae: 3.7485\n",
      "Epoch 73/100\n",
      "1/1 [==============================] - 0s 2ms/step - loss: 3.8114 - mae: 3.8114\n",
      "Epoch 74/100\n",
      "1/1 [==============================] - 0s 2ms/step - loss: 3.7571 - mae: 3.7571\n",
      "Epoch 75/100\n",
      "1/1 [==============================] - 0s 2ms/step - loss: 3.7832 - mae: 3.7832\n",
      "Epoch 76/100\n",
      "1/1 [==============================] - 0s 2ms/step - loss: 3.7659 - mae: 3.7659\n",
      "Epoch 77/100\n",
      "1/1 [==============================] - 0s 2ms/step - loss: 3.7607 - mae: 3.7607\n",
      "Epoch 78/100\n",
      "1/1 [==============================] - 0s 2ms/step - loss: 3.7826 - mae: 3.7826\n",
      "Epoch 79/100\n",
      "1/1 [==============================] - 0s 2ms/step - loss: 3.7337 - mae: 3.7337\n",
      "Epoch 80/100\n",
      "1/1 [==============================] - 0s 2ms/step - loss: 3.7913 - mae: 3.7913\n",
      "Epoch 81/100\n",
      "1/1 [==============================] - 0s 2ms/step - loss: 3.7219 - mae: 3.7219\n",
      "Epoch 82/100\n",
      "1/1 [==============================] - 0s 2ms/step - loss: 3.7823 - mae: 3.7823\n",
      "Epoch 83/100\n",
      "1/1 [==============================] - 0s 2ms/step - loss: 3.7307 - mae: 3.7307\n",
      "Epoch 84/100\n",
      "1/1 [==============================] - 0s 2ms/step - loss: 3.7538 - mae: 3.7538\n",
      "Epoch 85/100\n",
      "1/1 [==============================] - 0s 2ms/step - loss: 3.7426 - mae: 3.7426\n",
      "Epoch 86/100\n",
      "1/1 [==============================] - 0s 2ms/step - loss: 3.7324 - mae: 3.7324\n",
      "Epoch 87/100\n",
      "1/1 [==============================] - 0s 2ms/step - loss: 3.7566 - mae: 3.7566\n",
      "Epoch 88/100\n",
      "1/1 [==============================] - 0s 2ms/step - loss: 3.7035 - mae: 3.7035\n",
      "Epoch 89/100\n",
      "1/1 [==============================] - 0s 2ms/step - loss: 3.7656 - mae: 3.7656\n",
      "Epoch 90/100\n",
      "1/1 [==============================] - 0s 2ms/step - loss: 3.6964 - mae: 3.6964\n",
      "Epoch 91/100\n",
      "1/1 [==============================] - 0s 1ms/step - loss: 3.7518 - mae: 3.7518\n",
      "Epoch 92/100\n",
      "1/1 [==============================] - 0s 2ms/step - loss: 3.7054 - mae: 3.7054\n",
      "Epoch 93/100\n",
      "1/1 [==============================] - 0s 2ms/step - loss: 3.7236 - mae: 3.7236\n",
      "Epoch 94/100\n",
      "1/1 [==============================] - 0s 2ms/step - loss: 3.7225 - mae: 3.7225\n",
      "Epoch 95/100\n",
      "1/1 [==============================] - 0s 2ms/step - loss: 3.7012 - mae: 3.7012\n",
      "Epoch 96/100\n",
      "1/1 [==============================] - 0s 1ms/step - loss: 3.7315 - mae: 3.7315\n",
      "Epoch 97/100\n",
      "1/1 [==============================] - 0s 2ms/step - loss: 3.6720 - mae: 3.6720\n",
      "Epoch 98/100\n",
      "1/1 [==============================] - 0s 5ms/step - loss: 3.7407 - mae: 3.7407\n",
      "Epoch 99/100\n",
      "1/1 [==============================] - 0s 4ms/step - loss: 3.6717 - mae: 3.6717\n",
      "Epoch 100/100\n",
      "1/1 [==============================] - 0s 5ms/step - loss: 3.7200 - mae: 3.7200\n"
     ]
    },
    {
     "data": {
      "text/plain": [
       "<keras.callbacks.History at 0x177225ff0>"
      ]
     },
     "execution_count": 17,
     "metadata": {},
     "output_type": "execute_result"
    }
   ],
   "source": [
    "#Another Change\n",
    "model = tf.keras.Sequential([\n",
    "    tf.keras.layers.Dense(100, activation= 'relu'),\n",
    "    tf.keras.layers.Dense(1)\n",
    "])\n",
    "\n",
    "model.compile(loss= tf.keras.losses.mae,\n",
    "              optimizer= tf.keras.optimizers.SGD(),\n",
    "              metrics= ['mae'])\n",
    "\n",
    "model.fit(tf.expand_dims(X, axis= -1), y, epochs= 100)"
   ]
  },
  {
   "cell_type": "code",
   "execution_count": 18,
   "metadata": {},
   "outputs": [
    {
     "name": "stdout",
     "output_type": "stream",
     "text": [
      "1/1 [==============================] - 0s 30ms/step\n"
     ]
    },
    {
     "data": {
      "text/plain": [
       "array([[32.321712]], dtype=float32)"
      ]
     },
     "execution_count": 18,
     "metadata": {},
     "output_type": "execute_result"
    }
   ],
   "source": [
    "model.predict([17.0])"
   ]
  },
  {
   "cell_type": "markdown",
   "metadata": {},
   "source": [
    "**Note**: In the above case, although the loss value is less but the prediction is way farther than the previous one which was much nearer to the actual value. Hence, this is a clear case of overfitting"
   ]
  },
  {
   "cell_type": "code",
   "execution_count": 19,
   "metadata": {},
   "outputs": [
    {
     "name": "stdout",
     "output_type": "stream",
     "text": [
      "Epoch 1/100\n",
      "1/1 [==============================] - 0s 114ms/step - loss: 14.1081 - mae: 14.1081\n",
      "Epoch 2/100\n",
      "1/1 [==============================] - 0s 2ms/step - loss: 13.3124 - mae: 13.3124\n",
      "Epoch 3/100\n",
      "1/1 [==============================] - 0s 2ms/step - loss: 12.5178 - mae: 12.5178\n",
      "Epoch 4/100\n",
      "1/1 [==============================] - 0s 2ms/step - loss: 11.7331 - mae: 11.7331\n",
      "Epoch 5/100\n",
      "1/1 [==============================] - 0s 2ms/step - loss: 10.9432 - mae: 10.9432\n",
      "Epoch 6/100\n",
      "1/1 [==============================] - 0s 2ms/step - loss: 10.1357 - mae: 10.1357\n",
      "Epoch 7/100\n",
      "1/1 [==============================] - 0s 2ms/step - loss: 9.3009 - mae: 9.3009\n",
      "Epoch 8/100\n",
      "1/1 [==============================] - 0s 2ms/step - loss: 8.4232 - mae: 8.4232\n",
      "Epoch 9/100\n",
      "1/1 [==============================] - 0s 2ms/step - loss: 7.5174 - mae: 7.5174\n",
      "Epoch 10/100\n",
      "1/1 [==============================] - 0s 2ms/step - loss: 6.5797 - mae: 6.5797\n",
      "Epoch 11/100\n",
      "1/1 [==============================] - 0s 2ms/step - loss: 5.5853 - mae: 5.5853\n",
      "Epoch 12/100\n",
      "1/1 [==============================] - 0s 2ms/step - loss: 4.5449 - mae: 4.5449\n",
      "Epoch 13/100\n",
      "1/1 [==============================] - 0s 2ms/step - loss: 4.4024 - mae: 4.4024\n",
      "Epoch 14/100\n",
      "1/1 [==============================] - 0s 2ms/step - loss: 4.2572 - mae: 4.2572\n",
      "Epoch 15/100\n",
      "1/1 [==============================] - 0s 2ms/step - loss: 4.1475 - mae: 4.1475\n",
      "Epoch 16/100\n",
      "1/1 [==============================] - 0s 2ms/step - loss: 4.1504 - mae: 4.1504\n",
      "Epoch 17/100\n",
      "1/1 [==============================] - 0s 2ms/step - loss: 4.0757 - mae: 4.0757\n",
      "Epoch 18/100\n",
      "1/1 [==============================] - 0s 2ms/step - loss: 4.0418 - mae: 4.0418\n",
      "Epoch 19/100\n",
      "1/1 [==============================] - 0s 2ms/step - loss: 4.0023 - mae: 4.0023\n",
      "Epoch 20/100\n",
      "1/1 [==============================] - 0s 2ms/step - loss: 3.9312 - mae: 3.9312\n",
      "Epoch 21/100\n",
      "1/1 [==============================] - 0s 2ms/step - loss: 3.9476 - mae: 3.9476\n",
      "Epoch 22/100\n",
      "1/1 [==============================] - 0s 2ms/step - loss: 3.8818 - mae: 3.8818\n",
      "Epoch 23/100\n",
      "1/1 [==============================] - 0s 3ms/step - loss: 3.9561 - mae: 3.9561\n",
      "Epoch 24/100\n",
      "1/1 [==============================] - 0s 4ms/step - loss: 3.8827 - mae: 3.8827\n",
      "Epoch 25/100\n",
      "1/1 [==============================] - 0s 5ms/step - loss: 3.9421 - mae: 3.9421\n",
      "Epoch 26/100\n",
      "1/1 [==============================] - 0s 3ms/step - loss: 3.8980 - mae: 3.8980\n",
      "Epoch 27/100\n",
      "1/1 [==============================] - 0s 2ms/step - loss: 3.9155 - mae: 3.9155\n",
      "Epoch 28/100\n",
      "1/1 [==============================] - 0s 3ms/step - loss: 3.9065 - mae: 3.9065\n",
      "Epoch 29/100\n",
      "1/1 [==============================] - 0s 2ms/step - loss: 3.8886 - mae: 3.8886\n",
      "Epoch 30/100\n",
      "1/1 [==============================] - 0s 2ms/step - loss: 3.9152 - mae: 3.9152\n",
      "Epoch 31/100\n",
      "1/1 [==============================] - 0s 2ms/step - loss: 3.8616 - mae: 3.8616\n",
      "Epoch 32/100\n",
      "1/1 [==============================] - 0s 2ms/step - loss: 3.9239 - mae: 3.9239\n",
      "Epoch 33/100\n",
      "1/1 [==============================] - 0s 2ms/step - loss: 3.8531 - mae: 3.8531\n",
      "Epoch 34/100\n",
      "1/1 [==============================] - 0s 2ms/step - loss: 3.9215 - mae: 3.9215\n",
      "Epoch 35/100\n",
      "1/1 [==============================] - 0s 2ms/step - loss: 3.8663 - mae: 3.8663\n",
      "Epoch 36/100\n",
      "1/1 [==============================] - 0s 2ms/step - loss: 3.8945 - mae: 3.8945\n",
      "Epoch 37/100\n",
      "1/1 [==============================] - 0s 2ms/step - loss: 3.8751 - mae: 3.8751\n",
      "Epoch 38/100\n",
      "1/1 [==============================] - 0s 2ms/step - loss: 3.8674 - mae: 3.8674\n",
      "Epoch 39/100\n",
      "1/1 [==============================] - 0s 2ms/step - loss: 3.8840 - mae: 3.8840\n",
      "Epoch 40/100\n",
      "1/1 [==============================] - 0s 1ms/step - loss: 3.8404 - mae: 3.8404\n",
      "Epoch 41/100\n",
      "1/1 [==============================] - 0s 2ms/step - loss: 3.8928 - mae: 3.8928\n",
      "Epoch 42/100\n",
      "1/1 [==============================] - 0s 2ms/step - loss: 3.8249 - mae: 3.8249\n",
      "Epoch 43/100\n",
      "1/1 [==============================] - 0s 1ms/step - loss: 3.9001 - mae: 3.9001\n",
      "Epoch 44/100\n",
      "1/1 [==============================] - 0s 2ms/step - loss: 3.8354 - mae: 3.8354\n",
      "Epoch 45/100\n",
      "1/1 [==============================] - 0s 2ms/step - loss: 3.8729 - mae: 3.8729\n",
      "Epoch 46/100\n",
      "1/1 [==============================] - 0s 2ms/step - loss: 3.8444 - mae: 3.8444\n",
      "Epoch 47/100\n",
      "1/1 [==============================] - 0s 2ms/step - loss: 3.8455 - mae: 3.8455\n",
      "Epoch 48/100\n",
      "1/1 [==============================] - 0s 2ms/step - loss: 3.8535 - mae: 3.8535\n",
      "Epoch 49/100\n",
      "1/1 [==============================] - 0s 2ms/step - loss: 3.8182 - mae: 3.8182\n",
      "Epoch 50/100\n",
      "1/1 [==============================] - 0s 1ms/step - loss: 3.8634 - mae: 3.8634\n",
      "Epoch 51/100\n",
      "1/1 [==============================] - 0s 2ms/step - loss: 3.7969 - mae: 3.7969\n",
      "Epoch 52/100\n",
      "1/1 [==============================] - 0s 2ms/step - loss: 3.8782 - mae: 3.8782\n",
      "Epoch 53/100\n",
      "1/1 [==============================] - 0s 2ms/step - loss: 3.8053 - mae: 3.8053\n",
      "Epoch 54/100\n",
      "1/1 [==============================] - 0s 2ms/step - loss: 3.8502 - mae: 3.8502\n",
      "Epoch 55/100\n",
      "1/1 [==============================] - 0s 2ms/step - loss: 3.8145 - mae: 3.8145\n",
      "Epoch 56/100\n",
      "1/1 [==============================] - 0s 2ms/step - loss: 3.8226 - mae: 3.8226\n",
      "Epoch 57/100\n",
      "1/1 [==============================] - 0s 2ms/step - loss: 3.8238 - mae: 3.8238\n",
      "Epoch 58/100\n",
      "1/1 [==============================] - 0s 2ms/step - loss: 3.7950 - mae: 3.7950\n",
      "Epoch 59/100\n",
      "1/1 [==============================] - 0s 2ms/step - loss: 3.8364 - mae: 3.8364\n",
      "Epoch 60/100\n",
      "1/1 [==============================] - 0s 2ms/step - loss: 3.7734 - mae: 3.7734\n",
      "Epoch 61/100\n",
      "1/1 [==============================] - 0s 2ms/step - loss: 3.8489 - mae: 3.8489\n",
      "Epoch 62/100\n",
      "1/1 [==============================] - 0s 2ms/step - loss: 3.7763 - mae: 3.7763\n",
      "Epoch 63/100\n",
      "1/1 [==============================] - 0s 2ms/step - loss: 3.8263 - mae: 3.8263\n",
      "Epoch 64/100\n",
      "1/1 [==============================] - 0s 4ms/step - loss: 3.7857 - mae: 3.7857\n",
      "Epoch 65/100\n",
      "1/1 [==============================] - 0s 4ms/step - loss: 3.7984 - mae: 3.7984\n",
      "Epoch 66/100\n",
      "1/1 [==============================] - 0s 5ms/step - loss: 3.7951 - mae: 3.7951\n",
      "Epoch 67/100\n",
      "1/1 [==============================] - 0s 2ms/step - loss: 3.7705 - mae: 3.7705\n",
      "Epoch 68/100\n",
      "1/1 [==============================] - 0s 3ms/step - loss: 3.8104 - mae: 3.8104\n",
      "Epoch 69/100\n",
      "1/1 [==============================] - 0s 3ms/step - loss: 3.7486 - mae: 3.7486\n",
      "Epoch 70/100\n",
      "1/1 [==============================] - 0s 2ms/step - loss: 3.8206 - mae: 3.8206\n",
      "Epoch 71/100\n",
      "1/1 [==============================] - 0s 2ms/step - loss: 3.7484 - mae: 3.7484\n",
      "Epoch 72/100\n",
      "1/1 [==============================] - 0s 2ms/step - loss: 3.8012 - mae: 3.8012\n",
      "Epoch 73/100\n",
      "1/1 [==============================] - 0s 2ms/step - loss: 3.7579 - mae: 3.7579\n",
      "Epoch 74/100\n",
      "1/1 [==============================] - 0s 2ms/step - loss: 3.7729 - mae: 3.7729\n",
      "Epoch 75/100\n",
      "1/1 [==============================] - 0s 1ms/step - loss: 3.7675 - mae: 3.7675\n",
      "Epoch 76/100\n",
      "1/1 [==============================] - 0s 1ms/step - loss: 3.7465 - mae: 3.7465\n",
      "Epoch 77/100\n",
      "1/1 [==============================] - 0s 2ms/step - loss: 3.7840 - mae: 3.7840\n",
      "Epoch 78/100\n",
      "1/1 [==============================] - 0s 2ms/step - loss: 3.7221 - mae: 3.7221\n",
      "Epoch 79/100\n",
      "1/1 [==============================] - 0s 2ms/step - loss: 3.7937 - mae: 3.7937\n",
      "Epoch 80/100\n",
      "1/1 [==============================] - 0s 2ms/step - loss: 3.7217 - mae: 3.7217\n",
      "Epoch 81/100\n",
      "1/1 [==============================] - 0s 2ms/step - loss: 3.7743 - mae: 3.7743\n",
      "Epoch 82/100\n",
      "1/1 [==============================] - 0s 2ms/step - loss: 3.7314 - mae: 3.7314\n",
      "Epoch 83/100\n",
      "1/1 [==============================] - 0s 2ms/step - loss: 3.7457 - mae: 3.7457\n",
      "Epoch 84/100\n",
      "1/1 [==============================] - 0s 2ms/step - loss: 3.7413 - mae: 3.7413\n",
      "Epoch 85/100\n",
      "1/1 [==============================] - 0s 2ms/step - loss: 3.7215 - mae: 3.7215\n",
      "Epoch 86/100\n",
      "1/1 [==============================] - 0s 2ms/step - loss: 3.7577 - mae: 3.7577\n",
      "Epoch 87/100\n",
      "1/1 [==============================] - 0s 2ms/step - loss: 3.6947 - mae: 3.6947\n",
      "Epoch 88/100\n",
      "1/1 [==============================] - 0s 2ms/step - loss: 3.7675 - mae: 3.7675\n",
      "Epoch 89/100\n",
      "1/1 [==============================] - 0s 2ms/step - loss: 3.6957 - mae: 3.6957\n",
      "Epoch 90/100\n",
      "1/1 [==============================] - 0s 2ms/step - loss: 3.7465 - mae: 3.7465\n",
      "Epoch 91/100\n",
      "1/1 [==============================] - 0s 1ms/step - loss: 3.7056 - mae: 3.7056\n",
      "Epoch 92/100\n",
      "1/1 [==============================] - 0s 2ms/step - loss: 3.7175 - mae: 3.7175\n",
      "Epoch 93/100\n",
      "1/1 [==============================] - 0s 1ms/step - loss: 3.7157 - mae: 3.7157\n",
      "Epoch 94/100\n",
      "1/1 [==============================] - 0s 2ms/step - loss: 3.6949 - mae: 3.6949\n",
      "Epoch 95/100\n",
      "1/1 [==============================] - 0s 2ms/step - loss: 3.7323 - mae: 3.7323\n",
      "Epoch 96/100\n",
      "1/1 [==============================] - 0s 2ms/step - loss: 3.6658 - mae: 3.6658\n",
      "Epoch 97/100\n",
      "1/1 [==============================] - 0s 2ms/step - loss: 3.7423 - mae: 3.7423\n",
      "Epoch 98/100\n",
      "1/1 [==============================] - 0s 2ms/step - loss: 3.6707 - mae: 3.6707\n",
      "Epoch 99/100\n",
      "1/1 [==============================] - 0s 1ms/step - loss: 3.7172 - mae: 3.7172\n",
      "Epoch 100/100\n",
      "1/1 [==============================] - 0s 1ms/step - loss: 3.6808 - mae: 3.6808\n"
     ]
    },
    {
     "data": {
      "text/plain": [
       "<keras.callbacks.History at 0x177748400>"
      ]
     },
     "execution_count": 19,
     "metadata": {},
     "output_type": "execute_result"
    }
   ],
   "source": [
    "#Another Change\n",
    "model = tf.keras.Sequential([\n",
    "    tf.keras.layers.Dense(50, activation= 'relu'),\n",
    "    tf.keras.layers.Dense(1)\n",
    "])\n",
    "\n",
    "model.compile(loss= tf.keras.losses.mae,\n",
    "              optimizer= tf.keras.optimizers.SGD(),\n",
    "              metrics= ['mae'])\n",
    "\n",
    "model.fit(tf.expand_dims(X, axis= -1), y, epochs= 100)"
   ]
  },
  {
   "cell_type": "code",
   "execution_count": 20,
   "metadata": {},
   "outputs": [
    {
     "name": "stdout",
     "output_type": "stream",
     "text": [
      "WARNING:tensorflow:5 out of the last 5 calls to <function Model.make_predict_function.<locals>.predict_function at 0x1777a0940> triggered tf.function retracing. Tracing is expensive and the excessive number of tracings could be due to (1) creating @tf.function repeatedly in a loop, (2) passing tensors with different shapes, (3) passing Python objects instead of tensors. For (1), please define your @tf.function outside of the loop. For (2), @tf.function has reduce_retracing=True option that can avoid unnecessary retracing. For (3), please refer to https://www.tensorflow.org/guide/function#controlling_retracing and https://www.tensorflow.org/api_docs/python/tf/function for  more details.\n"
     ]
    },
    {
     "name": "stderr",
     "output_type": "stream",
     "text": [
      "WARNING:tensorflow:5 out of the last 5 calls to <function Model.make_predict_function.<locals>.predict_function at 0x1777a0940> triggered tf.function retracing. Tracing is expensive and the excessive number of tracings could be due to (1) creating @tf.function repeatedly in a loop, (2) passing tensors with different shapes, (3) passing Python objects instead of tensors. For (1), please define your @tf.function outside of the loop. For (2), @tf.function has reduce_retracing=True option that can avoid unnecessary retracing. For (3), please refer to https://www.tensorflow.org/guide/function#controlling_retracing and https://www.tensorflow.org/api_docs/python/tf/function for  more details.\n"
     ]
    },
    {
     "name": "stdout",
     "output_type": "stream",
     "text": [
      "1/1 [==============================] - 0s 31ms/step\n"
     ]
    },
    {
     "data": {
      "text/plain": [
       "array([[31.426245]], dtype=float32)"
      ]
     },
     "execution_count": 20,
     "metadata": {},
     "output_type": "execute_result"
    }
   ],
   "source": [
    "model.predict([17.0])"
   ]
  },
  {
   "cell_type": "code",
   "execution_count": 27,
   "metadata": {},
   "outputs": [
    {
     "name": "stdout",
     "output_type": "stream",
     "text": [
      "Epoch 1/100\n",
      "1/1 [==============================] - 0s 112ms/step - loss: 13.9400 - mae: 13.9400\n",
      "Epoch 2/100\n",
      "1/1 [==============================] - 0s 2ms/step - loss: 13.4406 - mae: 13.4406\n",
      "Epoch 3/100\n",
      "1/1 [==============================] - 0s 2ms/step - loss: 12.9422 - mae: 12.9422\n",
      "Epoch 4/100\n",
      "1/1 [==============================] - 0s 2ms/step - loss: 12.4422 - mae: 12.4422\n",
      "Epoch 5/100\n",
      "1/1 [==============================] - 0s 2ms/step - loss: 11.9381 - mae: 11.9381\n",
      "Epoch 6/100\n",
      "1/1 [==============================] - 0s 2ms/step - loss: 11.4273 - mae: 11.4273\n",
      "Epoch 7/100\n",
      "1/1 [==============================] - 0s 2ms/step - loss: 10.9071 - mae: 10.9071\n",
      "Epoch 8/100\n",
      "1/1 [==============================] - 0s 2ms/step - loss: 10.3747 - mae: 10.3747\n",
      "Epoch 9/100\n",
      "1/1 [==============================] - 0s 2ms/step - loss: 9.8276 - mae: 9.8276\n",
      "Epoch 10/100\n",
      "1/1 [==============================] - 0s 2ms/step - loss: 9.2629 - mae: 9.2629\n",
      "Epoch 11/100\n",
      "1/1 [==============================] - 0s 2ms/step - loss: 8.6777 - mae: 8.6777\n",
      "Epoch 12/100\n",
      "1/1 [==============================] - 0s 2ms/step - loss: 8.0690 - mae: 8.0690\n",
      "Epoch 13/100\n",
      "1/1 [==============================] - 0s 2ms/step - loss: 7.4336 - mae: 7.4336\n",
      "Epoch 14/100\n",
      "1/1 [==============================] - 0s 2ms/step - loss: 7.1704 - mae: 7.1704\n",
      "Epoch 15/100\n",
      "1/1 [==============================] - 0s 2ms/step - loss: 7.1492 - mae: 7.1492\n",
      "Epoch 16/100\n",
      "1/1 [==============================] - 0s 2ms/step - loss: 7.1280 - mae: 7.1280\n",
      "Epoch 17/100\n",
      "1/1 [==============================] - 0s 2ms/step - loss: 7.1067 - mae: 7.1067\n",
      "Epoch 18/100\n",
      "1/1 [==============================] - 0s 2ms/step - loss: 7.0853 - mae: 7.0853\n",
      "Epoch 19/100\n",
      "1/1 [==============================] - 0s 2ms/step - loss: 7.0639 - mae: 7.0639\n",
      "Epoch 20/100\n",
      "1/1 [==============================] - 0s 2ms/step - loss: 7.0424 - mae: 7.0424\n",
      "Epoch 21/100\n",
      "1/1 [==============================] - 0s 2ms/step - loss: 7.0209 - mae: 7.0209\n",
      "Epoch 22/100\n",
      "1/1 [==============================] - 0s 2ms/step - loss: 6.9992 - mae: 6.9992\n",
      "Epoch 23/100\n",
      "1/1 [==============================] - 0s 2ms/step - loss: 6.9775 - mae: 6.9775\n",
      "Epoch 24/100\n",
      "1/1 [==============================] - 0s 2ms/step - loss: 6.9557 - mae: 6.9557\n",
      "Epoch 25/100\n",
      "1/1 [==============================] - 0s 2ms/step - loss: 6.9339 - mae: 6.9339\n",
      "Epoch 26/100\n",
      "1/1 [==============================] - 0s 2ms/step - loss: 6.9119 - mae: 6.9119\n",
      "Epoch 27/100\n",
      "1/1 [==============================] - 0s 2ms/step - loss: 6.8898 - mae: 6.8898\n",
      "Epoch 28/100\n",
      "1/1 [==============================] - 0s 2ms/step - loss: 6.8677 - mae: 6.8677\n",
      "Epoch 29/100\n",
      "1/1 [==============================] - 0s 2ms/step - loss: 6.8454 - mae: 6.8454\n",
      "Epoch 30/100\n",
      "1/1 [==============================] - 0s 2ms/step - loss: 6.8292 - mae: 6.8292\n",
      "Epoch 31/100\n",
      "1/1 [==============================] - 0s 2ms/step - loss: 6.8161 - mae: 6.8161\n",
      "Epoch 32/100\n",
      "1/1 [==============================] - 0s 4ms/step - loss: 6.7941 - mae: 6.7941\n",
      "Epoch 33/100\n",
      "1/1 [==============================] - 0s 7ms/step - loss: 6.7720 - mae: 6.7720\n",
      "Epoch 34/100\n",
      "1/1 [==============================] - 0s 7ms/step - loss: 6.7498 - mae: 6.7498\n",
      "Epoch 35/100\n",
      "1/1 [==============================] - 0s 2ms/step - loss: 6.7274 - mae: 6.7274\n",
      "Epoch 36/100\n",
      "1/1 [==============================] - 0s 5ms/step - loss: 6.7050 - mae: 6.7050\n",
      "Epoch 37/100\n",
      "1/1 [==============================] - 0s 2ms/step - loss: 6.6824 - mae: 6.6824\n",
      "Epoch 38/100\n",
      "1/1 [==============================] - 0s 2ms/step - loss: 6.6596 - mae: 6.6596\n",
      "Epoch 39/100\n",
      "1/1 [==============================] - 0s 2ms/step - loss: 6.6368 - mae: 6.6368\n",
      "Epoch 40/100\n",
      "1/1 [==============================] - 0s 2ms/step - loss: 6.6138 - mae: 6.6138\n",
      "Epoch 41/100\n",
      "1/1 [==============================] - 0s 2ms/step - loss: 6.5907 - mae: 6.5907\n",
      "Epoch 42/100\n",
      "1/1 [==============================] - 0s 2ms/step - loss: 6.5674 - mae: 6.5674\n",
      "Epoch 43/100\n",
      "1/1 [==============================] - 0s 2ms/step - loss: 6.5439 - mae: 6.5439\n",
      "Epoch 44/100\n",
      "1/1 [==============================] - 0s 2ms/step - loss: 6.5203 - mae: 6.5203\n",
      "Epoch 45/100\n",
      "1/1 [==============================] - 0s 2ms/step - loss: 6.4966 - mae: 6.4966\n",
      "Epoch 46/100\n",
      "1/1 [==============================] - 0s 2ms/step - loss: 6.4727 - mae: 6.4727\n",
      "Epoch 47/100\n",
      "1/1 [==============================] - 0s 2ms/step - loss: 6.4486 - mae: 6.4486\n",
      "Epoch 48/100\n",
      "1/1 [==============================] - 0s 2ms/step - loss: 6.4243 - mae: 6.4243\n",
      "Epoch 49/100\n",
      "1/1 [==============================] - 0s 2ms/step - loss: 6.3999 - mae: 6.3999\n",
      "Epoch 50/100\n",
      "1/1 [==============================] - 0s 2ms/step - loss: 6.3753 - mae: 6.3753\n",
      "Epoch 51/100\n",
      "1/1 [==============================] - 0s 2ms/step - loss: 6.3505 - mae: 6.3505\n",
      "Epoch 52/100\n",
      "1/1 [==============================] - 0s 2ms/step - loss: 6.3255 - mae: 6.3255\n",
      "Epoch 53/100\n",
      "1/1 [==============================] - 0s 2ms/step - loss: 6.3141 - mae: 6.3141\n",
      "Epoch 54/100\n",
      "1/1 [==============================] - 0s 2ms/step - loss: 6.2971 - mae: 6.2971\n",
      "Epoch 55/100\n",
      "1/1 [==============================] - 0s 2ms/step - loss: 6.2722 - mae: 6.2722\n",
      "Epoch 56/100\n",
      "1/1 [==============================] - 0s 2ms/step - loss: 6.2470 - mae: 6.2470\n",
      "Epoch 57/100\n",
      "1/1 [==============================] - 0s 2ms/step - loss: 6.2216 - mae: 6.2216\n",
      "Epoch 58/100\n",
      "1/1 [==============================] - 0s 2ms/step - loss: 6.1960 - mae: 6.1960\n",
      "Epoch 59/100\n",
      "1/1 [==============================] - 0s 2ms/step - loss: 6.1702 - mae: 6.1702\n",
      "Epoch 60/100\n",
      "1/1 [==============================] - 0s 2ms/step - loss: 6.1442 - mae: 6.1442\n",
      "Epoch 61/100\n",
      "1/1 [==============================] - 0s 2ms/step - loss: 6.1180 - mae: 6.1180\n",
      "Epoch 62/100\n",
      "1/1 [==============================] - 0s 2ms/step - loss: 6.0915 - mae: 6.0915\n",
      "Epoch 63/100\n",
      "1/1 [==============================] - 0s 2ms/step - loss: 6.0648 - mae: 6.0648\n",
      "Epoch 64/100\n",
      "1/1 [==============================] - 0s 2ms/step - loss: 6.0379 - mae: 6.0379\n",
      "Epoch 65/100\n",
      "1/1 [==============================] - 0s 2ms/step - loss: 6.0107 - mae: 6.0107\n",
      "Epoch 66/100\n",
      "1/1 [==============================] - 0s 8ms/step - loss: 5.9833 - mae: 5.9833\n",
      "Epoch 67/100\n",
      "1/1 [==============================] - 0s 6ms/step - loss: 5.9556 - mae: 5.9556\n",
      "Epoch 68/100\n",
      "1/1 [==============================] - 0s 3ms/step - loss: 5.9277 - mae: 5.9277\n",
      "Epoch 69/100\n",
      "1/1 [==============================] - 0s 3ms/step - loss: 5.8995 - mae: 5.8995\n",
      "Epoch 70/100\n",
      "1/1 [==============================] - 0s 3ms/step - loss: 5.8710 - mae: 5.8710\n",
      "Epoch 71/100\n",
      "1/1 [==============================] - 0s 2ms/step - loss: 5.8642 - mae: 5.8642\n",
      "Epoch 72/100\n",
      "1/1 [==============================] - 0s 2ms/step - loss: 5.8405 - mae: 5.8405\n",
      "Epoch 73/100\n",
      "1/1 [==============================] - 0s 2ms/step - loss: 5.8118 - mae: 5.8118\n",
      "Epoch 74/100\n",
      "1/1 [==============================] - 0s 2ms/step - loss: 5.7829 - mae: 5.7829\n",
      "Epoch 75/100\n",
      "1/1 [==============================] - 0s 2ms/step - loss: 5.7536 - mae: 5.7536\n",
      "Epoch 76/100\n",
      "1/1 [==============================] - 0s 2ms/step - loss: 5.7241 - mae: 5.7241\n",
      "Epoch 77/100\n",
      "1/1 [==============================] - 0s 2ms/step - loss: 5.6942 - mae: 5.6942\n",
      "Epoch 78/100\n",
      "1/1 [==============================] - 0s 2ms/step - loss: 5.6641 - mae: 5.6641\n",
      "Epoch 79/100\n",
      "1/1 [==============================] - 0s 2ms/step - loss: 5.6337 - mae: 5.6337\n",
      "Epoch 80/100\n",
      "1/1 [==============================] - 0s 2ms/step - loss: 5.6029 - mae: 5.6029\n",
      "Epoch 81/100\n",
      "1/1 [==============================] - 0s 2ms/step - loss: 5.5718 - mae: 5.5718\n",
      "Epoch 82/100\n",
      "1/1 [==============================] - 0s 2ms/step - loss: 5.5404 - mae: 5.5404\n",
      "Epoch 83/100\n",
      "1/1 [==============================] - 0s 2ms/step - loss: 5.5087 - mae: 5.5087\n",
      "Epoch 84/100\n",
      "1/1 [==============================] - 0s 2ms/step - loss: 5.4766 - mae: 5.4766\n",
      "Epoch 85/100\n",
      "1/1 [==============================] - 0s 2ms/step - loss: 5.4442 - mae: 5.4442\n",
      "Epoch 86/100\n",
      "1/1 [==============================] - 0s 2ms/step - loss: 5.4205 - mae: 5.4205\n",
      "Epoch 87/100\n",
      "1/1 [==============================] - 0s 2ms/step - loss: 5.4483 - mae: 5.4483\n",
      "Epoch 88/100\n",
      "1/1 [==============================] - 0s 2ms/step - loss: 5.5277 - mae: 5.5277\n",
      "Epoch 89/100\n",
      "1/1 [==============================] - 0s 2ms/step - loss: 5.3396 - mae: 5.3396\n",
      "Epoch 90/100\n",
      "1/1 [==============================] - 0s 2ms/step - loss: 5.3059 - mae: 5.3059\n",
      "Epoch 91/100\n",
      "1/1 [==============================] - 0s 2ms/step - loss: 5.2719 - mae: 5.2719\n",
      "Epoch 92/100\n",
      "1/1 [==============================] - 0s 2ms/step - loss: 5.2374 - mae: 5.2374\n",
      "Epoch 93/100\n",
      "1/1 [==============================] - 0s 2ms/step - loss: 5.2026 - mae: 5.2026\n",
      "Epoch 94/100\n",
      "1/1 [==============================] - 0s 2ms/step - loss: 5.1674 - mae: 5.1674\n",
      "Epoch 95/100\n",
      "1/1 [==============================] - 0s 2ms/step - loss: 5.1318 - mae: 5.1318\n",
      "Epoch 96/100\n",
      "1/1 [==============================] - 0s 6ms/step - loss: 5.0958 - mae: 5.0958\n",
      "Epoch 97/100\n",
      "1/1 [==============================] - 0s 6ms/step - loss: 5.0715 - mae: 5.0715\n",
      "Epoch 98/100\n",
      "1/1 [==============================] - 0s 4ms/step - loss: 5.1435 - mae: 5.1435\n",
      "Epoch 99/100\n",
      "1/1 [==============================] - 0s 2ms/step - loss: 5.1820 - mae: 5.1820\n",
      "Epoch 100/100\n",
      "1/1 [==============================] - 0s 3ms/step - loss: 4.9790 - mae: 4.9790\n"
     ]
    },
    {
     "data": {
      "text/plain": [
       "<keras.callbacks.History at 0x2983e9450>"
      ]
     },
     "execution_count": 27,
     "metadata": {},
     "output_type": "execute_result"
    }
   ],
   "source": [
    "#Another Change\n",
    "model = tf.keras.Sequential([\n",
    "    tf.keras.layers.Dense(50, activation= None),\n",
    "    tf.keras.layers.Dense(1)\n",
    "])\n",
    "\n",
    "model.compile(loss= tf.keras.losses.mae,\n",
    "              optimizer= tf.keras.optimizers.SGD(),\n",
    "              metrics= ['mae'])\n",
    "\n",
    "model.fit(tf.expand_dims(X, axis= -1), y, epochs= 100)"
   ]
  },
  {
   "cell_type": "code",
   "execution_count": 28,
   "metadata": {},
   "outputs": [
    {
     "name": "stdout",
     "output_type": "stream",
     "text": [
      "1/1 [==============================] - 0s 35ms/step\n"
     ]
    },
    {
     "data": {
      "text/plain": [
       "array([[29.264748]], dtype=float32)"
      ]
     },
     "execution_count": 28,
     "metadata": {},
     "output_type": "execute_result"
    }
   ],
   "source": [
    "model.predict([17.0])"
   ]
  },
  {
   "cell_type": "code",
   "execution_count": 23,
   "metadata": {},
   "outputs": [
    {
     "name": "stdout",
     "output_type": "stream",
     "text": [
      "Epoch 1/100\n",
      "1/1 [==============================] - 0s 153ms/step - loss: 15.0377 - mae: 15.0377\n",
      "Epoch 2/100\n",
      "1/1 [==============================] - 0s 2ms/step - loss: 14.9613 - mae: 14.9613\n",
      "Epoch 3/100\n",
      "1/1 [==============================] - 0s 2ms/step - loss: 14.8992 - mae: 14.8992\n",
      "Epoch 4/100\n",
      "1/1 [==============================] - 0s 2ms/step - loss: 14.8374 - mae: 14.8374\n",
      "Epoch 5/100\n",
      "1/1 [==============================] - 0s 2ms/step - loss: 14.7757 - mae: 14.7757\n",
      "Epoch 6/100\n",
      "1/1 [==============================] - 0s 2ms/step - loss: 14.7140 - mae: 14.7140\n",
      "Epoch 7/100\n",
      "1/1 [==============================] - 0s 2ms/step - loss: 14.6523 - mae: 14.6523\n",
      "Epoch 8/100\n",
      "1/1 [==============================] - 0s 2ms/step - loss: 14.5906 - mae: 14.5906\n",
      "Epoch 9/100\n",
      "1/1 [==============================] - 0s 2ms/step - loss: 14.5290 - mae: 14.5290\n",
      "Epoch 10/100\n",
      "1/1 [==============================] - 0s 2ms/step - loss: 14.4673 - mae: 14.4673\n",
      "Epoch 11/100\n",
      "1/1 [==============================] - 0s 2ms/step - loss: 14.4057 - mae: 14.4057\n",
      "Epoch 12/100\n",
      "1/1 [==============================] - 0s 2ms/step - loss: 14.3441 - mae: 14.3441\n",
      "Epoch 13/100\n",
      "1/1 [==============================] - 0s 2ms/step - loss: 14.2825 - mae: 14.2825\n",
      "Epoch 14/100\n",
      "1/1 [==============================] - 0s 2ms/step - loss: 14.2208 - mae: 14.2208\n",
      "Epoch 15/100\n",
      "1/1 [==============================] - 0s 2ms/step - loss: 14.1592 - mae: 14.1592\n",
      "Epoch 16/100\n",
      "1/1 [==============================] - 0s 2ms/step - loss: 14.0976 - mae: 14.0976\n",
      "Epoch 17/100\n",
      "1/1 [==============================] - 0s 2ms/step - loss: 14.0359 - mae: 14.0359\n",
      "Epoch 18/100\n",
      "1/1 [==============================] - 0s 2ms/step - loss: 13.9742 - mae: 13.9742\n",
      "Epoch 19/100\n",
      "1/1 [==============================] - 0s 1ms/step - loss: 13.9125 - mae: 13.9125\n",
      "Epoch 20/100\n",
      "1/1 [==============================] - 0s 1ms/step - loss: 13.8507 - mae: 13.8507\n",
      "Epoch 21/100\n",
      "1/1 [==============================] - 0s 2ms/step - loss: 13.7888 - mae: 13.7888\n",
      "Epoch 22/100\n",
      "1/1 [==============================] - 0s 2ms/step - loss: 13.7269 - mae: 13.7269\n",
      "Epoch 23/100\n",
      "1/1 [==============================] - 0s 2ms/step - loss: 13.6650 - mae: 13.6650\n",
      "Epoch 24/100\n",
      "1/1 [==============================] - 0s 2ms/step - loss: 13.6029 - mae: 13.6029\n",
      "Epoch 25/100\n",
      "1/1 [==============================] - 0s 2ms/step - loss: 13.5408 - mae: 13.5408\n",
      "Epoch 26/100\n",
      "1/1 [==============================] - 0s 2ms/step - loss: 13.4785 - mae: 13.4785\n",
      "Epoch 27/100\n",
      "1/1 [==============================] - 0s 2ms/step - loss: 13.4162 - mae: 13.4162\n",
      "Epoch 28/100\n",
      "1/1 [==============================] - 0s 2ms/step - loss: 13.3537 - mae: 13.3537\n",
      "Epoch 29/100\n",
      "1/1 [==============================] - 0s 1ms/step - loss: 13.2912 - mae: 13.2912\n",
      "Epoch 30/100\n",
      "1/1 [==============================] - 0s 2ms/step - loss: 13.2285 - mae: 13.2285\n",
      "Epoch 31/100\n",
      "1/1 [==============================] - 0s 2ms/step - loss: 13.1657 - mae: 13.1657\n",
      "Epoch 32/100\n",
      "1/1 [==============================] - 0s 2ms/step - loss: 13.1027 - mae: 13.1027\n",
      "Epoch 33/100\n",
      "1/1 [==============================] - 0s 4ms/step - loss: 13.0396 - mae: 13.0396\n",
      "Epoch 34/100\n",
      "1/1 [==============================] - 0s 4ms/step - loss: 12.9764 - mae: 12.9764\n",
      "Epoch 35/100\n",
      "1/1 [==============================] - 0s 5ms/step - loss: 12.9130 - mae: 12.9130\n",
      "Epoch 36/100\n",
      "1/1 [==============================] - 0s 2ms/step - loss: 12.8494 - mae: 12.8494\n",
      "Epoch 37/100\n",
      "1/1 [==============================] - 0s 2ms/step - loss: 12.7857 - mae: 12.7857\n",
      "Epoch 38/100\n",
      "1/1 [==============================] - 0s 3ms/step - loss: 12.7218 - mae: 12.7218\n",
      "Epoch 39/100\n",
      "1/1 [==============================] - 0s 2ms/step - loss: 12.6577 - mae: 12.6577\n",
      "Epoch 40/100\n",
      "1/1 [==============================] - 0s 2ms/step - loss: 12.5934 - mae: 12.5934\n",
      "Epoch 41/100\n",
      "1/1 [==============================] - 0s 2ms/step - loss: 12.5289 - mae: 12.5289\n",
      "Epoch 42/100\n",
      "1/1 [==============================] - 0s 2ms/step - loss: 12.4642 - mae: 12.4642\n",
      "Epoch 43/100\n",
      "1/1 [==============================] - 0s 2ms/step - loss: 12.3993 - mae: 12.3993\n",
      "Epoch 44/100\n",
      "1/1 [==============================] - 0s 2ms/step - loss: 12.3342 - mae: 12.3342\n",
      "Epoch 45/100\n",
      "1/1 [==============================] - 0s 2ms/step - loss: 12.2688 - mae: 12.2688\n",
      "Epoch 46/100\n",
      "1/1 [==============================] - 0s 2ms/step - loss: 12.2032 - mae: 12.2032\n",
      "Epoch 47/100\n",
      "1/1 [==============================] - 0s 2ms/step - loss: 12.1374 - mae: 12.1374\n",
      "Epoch 48/100\n",
      "1/1 [==============================] - 0s 2ms/step - loss: 12.0713 - mae: 12.0713\n",
      "Epoch 49/100\n",
      "1/1 [==============================] - 0s 2ms/step - loss: 12.0049 - mae: 12.0049\n",
      "Epoch 50/100\n",
      "1/1 [==============================] - 0s 2ms/step - loss: 11.9382 - mae: 11.9382\n",
      "Epoch 51/100\n",
      "1/1 [==============================] - 0s 2ms/step - loss: 11.8713 - mae: 11.8713\n",
      "Epoch 52/100\n",
      "1/1 [==============================] - 0s 2ms/step - loss: 11.8040 - mae: 11.8040\n",
      "Epoch 53/100\n",
      "1/1 [==============================] - 0s 2ms/step - loss: 11.7365 - mae: 11.7365\n",
      "Epoch 54/100\n",
      "1/1 [==============================] - 0s 2ms/step - loss: 11.6686 - mae: 11.6686\n",
      "Epoch 55/100\n",
      "1/1 [==============================] - 0s 2ms/step - loss: 11.6004 - mae: 11.6004\n",
      "Epoch 56/100\n",
      "1/1 [==============================] - 0s 2ms/step - loss: 11.5319 - mae: 11.5319\n",
      "Epoch 57/100\n",
      "1/1 [==============================] - 0s 2ms/step - loss: 11.4630 - mae: 11.4630\n",
      "Epoch 58/100\n",
      "1/1 [==============================] - 0s 2ms/step - loss: 11.3938 - mae: 11.3938\n",
      "Epoch 59/100\n",
      "1/1 [==============================] - 0s 2ms/step - loss: 11.3243 - mae: 11.3243\n",
      "Epoch 60/100\n",
      "1/1 [==============================] - 0s 2ms/step - loss: 11.2543 - mae: 11.2543\n",
      "Epoch 61/100\n",
      "1/1 [==============================] - 0s 2ms/step - loss: 11.1840 - mae: 11.1840\n",
      "Epoch 62/100\n",
      "1/1 [==============================] - 0s 2ms/step - loss: 11.1134 - mae: 11.1134\n",
      "Epoch 63/100\n",
      "1/1 [==============================] - 0s 2ms/step - loss: 11.0423 - mae: 11.0423\n",
      "Epoch 64/100\n",
      "1/1 [==============================] - 0s 2ms/step - loss: 10.9708 - mae: 10.9708\n",
      "Epoch 65/100\n",
      "1/1 [==============================] - 0s 2ms/step - loss: 10.8990 - mae: 10.8990\n",
      "Epoch 66/100\n",
      "1/1 [==============================] - 0s 2ms/step - loss: 10.8267 - mae: 10.8267\n",
      "Epoch 67/100\n",
      "1/1 [==============================] - 0s 2ms/step - loss: 10.7541 - mae: 10.7541\n",
      "Epoch 68/100\n",
      "1/1 [==============================] - 0s 2ms/step - loss: 10.6810 - mae: 10.6810\n",
      "Epoch 69/100\n",
      "1/1 [==============================] - 0s 2ms/step - loss: 10.6075 - mae: 10.6075\n",
      "Epoch 70/100\n",
      "1/1 [==============================] - 0s 2ms/step - loss: 10.5335 - mae: 10.5335\n",
      "Epoch 71/100\n",
      "1/1 [==============================] - 0s 2ms/step - loss: 10.4591 - mae: 10.4591\n",
      "Epoch 72/100\n",
      "1/1 [==============================] - 0s 2ms/step - loss: 10.3843 - mae: 10.3843\n",
      "Epoch 73/100\n",
      "1/1 [==============================] - 0s 2ms/step - loss: 10.3090 - mae: 10.3090\n",
      "Epoch 74/100\n",
      "1/1 [==============================] - 0s 2ms/step - loss: 10.2333 - mae: 10.2333\n",
      "Epoch 75/100\n",
      "1/1 [==============================] - 0s 6ms/step - loss: 10.1570 - mae: 10.1570\n",
      "Epoch 76/100\n",
      "1/1 [==============================] - 0s 5ms/step - loss: 10.0804 - mae: 10.0804\n",
      "Epoch 77/100\n",
      "1/1 [==============================] - 0s 3ms/step - loss: 10.0032 - mae: 10.0032\n",
      "Epoch 78/100\n",
      "1/1 [==============================] - 0s 2ms/step - loss: 9.9256 - mae: 9.9256\n",
      "Epoch 79/100\n",
      "1/1 [==============================] - 0s 4ms/step - loss: 9.8475 - mae: 9.8475\n",
      "Epoch 80/100\n",
      "1/1 [==============================] - 0s 2ms/step - loss: 9.7688 - mae: 9.7688\n",
      "Epoch 81/100\n",
      "1/1 [==============================] - 0s 2ms/step - loss: 9.6897 - mae: 9.6897\n",
      "Epoch 82/100\n",
      "1/1 [==============================] - 0s 2ms/step - loss: 9.6101 - mae: 9.6101\n",
      "Epoch 83/100\n",
      "1/1 [==============================] - 0s 2ms/step - loss: 9.5300 - mae: 9.5300\n",
      "Epoch 84/100\n",
      "1/1 [==============================] - 0s 2ms/step - loss: 9.4493 - mae: 9.4493\n",
      "Epoch 85/100\n",
      "1/1 [==============================] - 0s 2ms/step - loss: 9.3682 - mae: 9.3682\n",
      "Epoch 86/100\n",
      "1/1 [==============================] - 0s 2ms/step - loss: 9.2865 - mae: 9.2865\n",
      "Epoch 87/100\n",
      "1/1 [==============================] - 0s 2ms/step - loss: 9.2042 - mae: 9.2042\n",
      "Epoch 88/100\n",
      "1/1 [==============================] - 0s 2ms/step - loss: 9.1214 - mae: 9.1214\n",
      "Epoch 89/100\n",
      "1/1 [==============================] - 0s 2ms/step - loss: 9.0381 - mae: 9.0381\n",
      "Epoch 90/100\n",
      "1/1 [==============================] - 0s 2ms/step - loss: 8.9543 - mae: 8.9543\n",
      "Epoch 91/100\n",
      "1/1 [==============================] - 0s 2ms/step - loss: 8.8698 - mae: 8.8698\n",
      "Epoch 92/100\n",
      "1/1 [==============================] - 0s 2ms/step - loss: 8.7848 - mae: 8.7848\n",
      "Epoch 93/100\n",
      "1/1 [==============================] - 0s 2ms/step - loss: 8.6993 - mae: 8.6993\n",
      "Epoch 94/100\n",
      "1/1 [==============================] - 0s 2ms/step - loss: 8.6131 - mae: 8.6131\n",
      "Epoch 95/100\n",
      "1/1 [==============================] - 0s 2ms/step - loss: 8.5264 - mae: 8.5264\n",
      "Epoch 96/100\n",
      "1/1 [==============================] - 0s 1ms/step - loss: 8.4391 - mae: 8.4391\n",
      "Epoch 97/100\n",
      "1/1 [==============================] - 0s 2ms/step - loss: 8.3512 - mae: 8.3512\n",
      "Epoch 98/100\n",
      "1/1 [==============================] - 0s 2ms/step - loss: 8.2628 - mae: 8.2628\n",
      "Epoch 99/100\n",
      "1/1 [==============================] - 0s 2ms/step - loss: 8.1737 - mae: 8.1737\n",
      "Epoch 100/100\n",
      "1/1 [==============================] - 0s 2ms/step - loss: 8.0840 - mae: 8.0840\n"
     ]
    },
    {
     "data": {
      "text/plain": [
       "<keras.callbacks.History at 0x1778147c0>"
      ]
     },
     "execution_count": 23,
     "metadata": {},
     "output_type": "execute_result"
    }
   ],
   "source": [
    "#Another Change\n",
    "model = tf.keras.Sequential([\n",
    "    tf.keras.layers.Dense(50, activation= None),\n",
    "    tf.keras.layers.Dense(1)\n",
    "])\n",
    "\n",
    "model.compile(loss= tf.keras.losses.mae,\n",
    "              optimizer= tf.keras.optimizers.Adam(),\n",
    "              metrics= ['mae'])\n",
    "\n",
    "model.fit(tf.expand_dims(X, axis= -1), y, epochs= 100)"
   ]
  },
  {
   "cell_type": "code",
   "execution_count": 24,
   "metadata": {},
   "outputs": [
    {
     "name": "stdout",
     "output_type": "stream",
     "text": [
      "1/1 [==============================] - 0s 28ms/step\n"
     ]
    },
    {
     "data": {
      "text/plain": [
       "array([[22.42154]], dtype=float32)"
      ]
     },
     "execution_count": 24,
     "metadata": {},
     "output_type": "execute_result"
    }
   ],
   "source": [
    "model.predict([17.0])"
   ]
  },
  {
   "cell_type": "code",
   "execution_count": 25,
   "metadata": {},
   "outputs": [
    {
     "name": "stderr",
     "output_type": "stream",
     "text": [
      "WARNING:absl:`lr` is deprecated, please use `learning_rate` instead, or use the legacy optimizer, e.g.,tf.keras.optimizers.legacy.Adam.\n"
     ]
    },
    {
     "name": "stdout",
     "output_type": "stream",
     "text": [
      "Epoch 1/100\n",
      "1/1 [==============================] - 0s 154ms/step - loss: 14.3644 - mae: 14.3644\n",
      "Epoch 2/100\n",
      "1/1 [==============================] - 0s 2ms/step - loss: 14.2899 - mae: 14.2899\n",
      "Epoch 3/100\n",
      "1/1 [==============================] - 0s 2ms/step - loss: 14.2154 - mae: 14.2154\n",
      "Epoch 4/100\n",
      "1/1 [==============================] - 0s 2ms/step - loss: 14.1409 - mae: 14.1409\n",
      "Epoch 5/100\n",
      "1/1 [==============================] - 0s 2ms/step - loss: 14.0664 - mae: 14.0664\n",
      "Epoch 6/100\n",
      "1/1 [==============================] - 0s 2ms/step - loss: 13.9920 - mae: 13.9920\n",
      "Epoch 7/100\n",
      "1/1 [==============================] - 0s 2ms/step - loss: 13.9176 - mae: 13.9176\n",
      "Epoch 8/100\n",
      "1/1 [==============================] - 0s 2ms/step - loss: 13.8431 - mae: 13.8431\n",
      "Epoch 9/100\n",
      "1/1 [==============================] - 0s 2ms/step - loss: 13.7687 - mae: 13.7687\n",
      "Epoch 10/100\n",
      "1/1 [==============================] - 0s 2ms/step - loss: 13.6943 - mae: 13.6943\n",
      "Epoch 11/100\n",
      "1/1 [==============================] - 0s 2ms/step - loss: 13.6199 - mae: 13.6199\n",
      "Epoch 12/100\n",
      "1/1 [==============================] - 0s 2ms/step - loss: 13.5455 - mae: 13.5455\n",
      "Epoch 13/100\n",
      "1/1 [==============================] - 0s 2ms/step - loss: 13.4711 - mae: 13.4711\n",
      "Epoch 14/100\n",
      "1/1 [==============================] - 0s 2ms/step - loss: 13.3967 - mae: 13.3967\n",
      "Epoch 15/100\n",
      "1/1 [==============================] - 0s 2ms/step - loss: 13.3223 - mae: 13.3223\n",
      "Epoch 16/100\n",
      "1/1 [==============================] - 0s 2ms/step - loss: 13.2478 - mae: 13.2478\n",
      "Epoch 17/100\n",
      "1/1 [==============================] - 0s 2ms/step - loss: 13.1734 - mae: 13.1734\n",
      "Epoch 18/100\n",
      "1/1 [==============================] - 0s 2ms/step - loss: 13.0989 - mae: 13.0989\n",
      "Epoch 19/100\n",
      "1/1 [==============================] - 0s 2ms/step - loss: 13.0244 - mae: 13.0244\n",
      "Epoch 20/100\n",
      "1/1 [==============================] - 0s 2ms/step - loss: 12.9499 - mae: 12.9499\n",
      "Epoch 21/100\n",
      "1/1 [==============================] - 0s 2ms/step - loss: 12.8753 - mae: 12.8753\n",
      "Epoch 22/100\n",
      "1/1 [==============================] - 0s 2ms/step - loss: 12.8007 - mae: 12.8007\n",
      "Epoch 23/100\n",
      "1/1 [==============================] - 0s 2ms/step - loss: 12.7261 - mae: 12.7261\n",
      "Epoch 24/100\n",
      "1/1 [==============================] - 0s 2ms/step - loss: 12.6514 - mae: 12.6514\n",
      "Epoch 25/100\n",
      "1/1 [==============================] - 0s 2ms/step - loss: 12.5767 - mae: 12.5767\n",
      "Epoch 26/100\n",
      "1/1 [==============================] - 0s 2ms/step - loss: 12.5019 - mae: 12.5019\n",
      "Epoch 27/100\n",
      "1/1 [==============================] - 0s 2ms/step - loss: 12.4271 - mae: 12.4271\n",
      "Epoch 28/100\n",
      "1/1 [==============================] - 0s 2ms/step - loss: 12.3522 - mae: 12.3522\n",
      "Epoch 29/100\n",
      "1/1 [==============================] - 0s 2ms/step - loss: 12.2772 - mae: 12.2772\n",
      "Epoch 30/100\n",
      "1/1 [==============================] - 0s 2ms/step - loss: 12.2022 - mae: 12.2022\n",
      "Epoch 31/100\n",
      "1/1 [==============================] - 0s 2ms/step - loss: 12.1271 - mae: 12.1271\n",
      "Epoch 32/100\n",
      "1/1 [==============================] - 0s 2ms/step - loss: 12.0519 - mae: 12.0519\n",
      "Epoch 33/100\n",
      "1/1 [==============================] - 0s 2ms/step - loss: 11.9766 - mae: 11.9766\n",
      "Epoch 34/100\n",
      "1/1 [==============================] - 0s 3ms/step - loss: 11.9012 - mae: 11.9012\n",
      "Epoch 35/100\n",
      "1/1 [==============================] - 0s 7ms/step - loss: 11.8258 - mae: 11.8258\n",
      "Epoch 36/100\n",
      "1/1 [==============================] - 0s 7ms/step - loss: 11.7502 - mae: 11.7502\n",
      "Epoch 37/100\n",
      "1/1 [==============================] - 0s 2ms/step - loss: 11.6745 - mae: 11.6745\n",
      "Epoch 38/100\n",
      "1/1 [==============================] - 0s 5ms/step - loss: 11.5987 - mae: 11.5987\n",
      "Epoch 39/100\n",
      "1/1 [==============================] - 0s 3ms/step - loss: 11.5228 - mae: 11.5228\n",
      "Epoch 40/100\n",
      "1/1 [==============================] - 0s 2ms/step - loss: 11.4467 - mae: 11.4467\n",
      "Epoch 41/100\n",
      "1/1 [==============================] - 0s 2ms/step - loss: 11.3705 - mae: 11.3705\n",
      "Epoch 42/100\n",
      "1/1 [==============================] - 0s 2ms/step - loss: 11.2941 - mae: 11.2941\n",
      "Epoch 43/100\n",
      "1/1 [==============================] - 0s 2ms/step - loss: 11.2176 - mae: 11.2176\n",
      "Epoch 44/100\n",
      "1/1 [==============================] - 0s 2ms/step - loss: 11.1409 - mae: 11.1409\n",
      "Epoch 45/100\n",
      "1/1 [==============================] - 0s 2ms/step - loss: 11.0641 - mae: 11.0641\n",
      "Epoch 46/100\n",
      "1/1 [==============================] - 0s 2ms/step - loss: 10.9871 - mae: 10.9871\n",
      "Epoch 47/100\n",
      "1/1 [==============================] - 0s 2ms/step - loss: 10.9099 - mae: 10.9099\n",
      "Epoch 48/100\n",
      "1/1 [==============================] - 0s 2ms/step - loss: 10.8325 - mae: 10.8325\n",
      "Epoch 49/100\n",
      "1/1 [==============================] - 0s 2ms/step - loss: 10.7549 - mae: 10.7549\n",
      "Epoch 50/100\n",
      "1/1 [==============================] - 0s 2ms/step - loss: 10.6771 - mae: 10.6771\n",
      "Epoch 51/100\n",
      "1/1 [==============================] - 0s 2ms/step - loss: 10.5991 - mae: 10.5991\n",
      "Epoch 52/100\n",
      "1/1 [==============================] - 0s 2ms/step - loss: 10.5208 - mae: 10.5208\n",
      "Epoch 53/100\n",
      "1/1 [==============================] - 0s 2ms/step - loss: 10.4424 - mae: 10.4424\n",
      "Epoch 54/100\n",
      "1/1 [==============================] - 0s 2ms/step - loss: 10.3637 - mae: 10.3637\n",
      "Epoch 55/100\n",
      "1/1 [==============================] - 0s 2ms/step - loss: 10.2847 - mae: 10.2847\n",
      "Epoch 56/100\n",
      "1/1 [==============================] - 0s 2ms/step - loss: 10.2056 - mae: 10.2056\n",
      "Epoch 57/100\n",
      "1/1 [==============================] - 0s 2ms/step - loss: 10.1261 - mae: 10.1261\n",
      "Epoch 58/100\n",
      "1/1 [==============================] - 0s 2ms/step - loss: 10.0464 - mae: 10.0464\n",
      "Epoch 59/100\n",
      "1/1 [==============================] - 0s 2ms/step - loss: 9.9665 - mae: 9.9665\n",
      "Epoch 60/100\n",
      "1/1 [==============================] - 0s 2ms/step - loss: 9.8862 - mae: 9.8862\n",
      "Epoch 61/100\n",
      "1/1 [==============================] - 0s 2ms/step - loss: 9.8057 - mae: 9.8057\n",
      "Epoch 62/100\n",
      "1/1 [==============================] - 0s 2ms/step - loss: 9.7249 - mae: 9.7249\n",
      "Epoch 63/100\n",
      "1/1 [==============================] - 0s 2ms/step - loss: 9.6438 - mae: 9.6438\n",
      "Epoch 64/100\n",
      "1/1 [==============================] - 0s 2ms/step - loss: 9.5625 - mae: 9.5625\n",
      "Epoch 65/100\n",
      "1/1 [==============================] - 0s 2ms/step - loss: 9.4808 - mae: 9.4808\n",
      "Epoch 66/100\n",
      "1/1 [==============================] - 0s 2ms/step - loss: 9.3988 - mae: 9.3988\n",
      "Epoch 67/100\n",
      "1/1 [==============================] - 0s 5ms/step - loss: 9.3165 - mae: 9.3165\n",
      "Epoch 68/100\n",
      "1/1 [==============================] - 0s 4ms/step - loss: 9.2339 - mae: 9.2339\n",
      "Epoch 69/100\n",
      "1/1 [==============================] - 0s 6ms/step - loss: 9.1509 - mae: 9.1509\n",
      "Epoch 70/100\n",
      "1/1 [==============================] - 0s 3ms/step - loss: 9.0677 - mae: 9.0677\n",
      "Epoch 71/100\n",
      "1/1 [==============================] - 0s 2ms/step - loss: 8.9841 - mae: 8.9841\n",
      "Epoch 72/100\n",
      "1/1 [==============================] - 0s 4ms/step - loss: 8.9001 - mae: 8.9001\n",
      "Epoch 73/100\n",
      "1/1 [==============================] - 0s 2ms/step - loss: 8.8159 - mae: 8.8159\n",
      "Epoch 74/100\n",
      "1/1 [==============================] - 0s 2ms/step - loss: 8.7312 - mae: 8.7312\n",
      "Epoch 75/100\n",
      "1/1 [==============================] - 0s 2ms/step - loss: 8.6463 - mae: 8.6463\n",
      "Epoch 76/100\n",
      "1/1 [==============================] - 0s 2ms/step - loss: 8.5609 - mae: 8.5609\n",
      "Epoch 77/100\n",
      "1/1 [==============================] - 0s 2ms/step - loss: 8.4752 - mae: 8.4752\n",
      "Epoch 78/100\n",
      "1/1 [==============================] - 0s 2ms/step - loss: 8.3892 - mae: 8.3892\n",
      "Epoch 79/100\n",
      "1/1 [==============================] - 0s 2ms/step - loss: 8.3027 - mae: 8.3027\n",
      "Epoch 80/100\n",
      "1/1 [==============================] - 0s 2ms/step - loss: 8.2159 - mae: 8.2159\n",
      "Epoch 81/100\n",
      "1/1 [==============================] - 0s 2ms/step - loss: 8.1287 - mae: 8.1287\n",
      "Epoch 82/100\n",
      "1/1 [==============================] - 0s 2ms/step - loss: 8.0412 - mae: 8.0412\n",
      "Epoch 83/100\n",
      "1/1 [==============================] - 0s 2ms/step - loss: 7.9532 - mae: 7.9532\n",
      "Epoch 84/100\n",
      "1/1 [==============================] - 0s 2ms/step - loss: 7.8649 - mae: 7.8649\n",
      "Epoch 85/100\n",
      "1/1 [==============================] - 0s 2ms/step - loss: 7.7761 - mae: 7.7761\n",
      "Epoch 86/100\n",
      "1/1 [==============================] - 0s 2ms/step - loss: 7.6869 - mae: 7.6869\n",
      "Epoch 87/100\n",
      "1/1 [==============================] - 0s 2ms/step - loss: 7.5974 - mae: 7.5974\n",
      "Epoch 88/100\n",
      "1/1 [==============================] - 0s 2ms/step - loss: 7.5074 - mae: 7.5074\n",
      "Epoch 89/100\n",
      "1/1 [==============================] - 0s 2ms/step - loss: 7.4170 - mae: 7.4170\n",
      "Epoch 90/100\n",
      "1/1 [==============================] - 0s 2ms/step - loss: 7.3262 - mae: 7.3262\n",
      "Epoch 91/100\n",
      "1/1 [==============================] - 0s 2ms/step - loss: 7.2349 - mae: 7.2349\n",
      "Epoch 92/100\n",
      "1/1 [==============================] - 0s 2ms/step - loss: 7.1433 - mae: 7.1433\n",
      "Epoch 93/100\n",
      "1/1 [==============================] - 0s 2ms/step - loss: 7.0512 - mae: 7.0512\n",
      "Epoch 94/100\n",
      "1/1 [==============================] - 0s 2ms/step - loss: 6.9586 - mae: 6.9586\n",
      "Epoch 95/100\n",
      "1/1 [==============================] - 0s 2ms/step - loss: 6.8656 - mae: 6.8656\n",
      "Epoch 96/100\n",
      "1/1 [==============================] - 0s 2ms/step - loss: 6.7722 - mae: 6.7722\n",
      "Epoch 97/100\n",
      "1/1 [==============================] - 0s 2ms/step - loss: 6.6783 - mae: 6.6783\n",
      "Epoch 98/100\n",
      "1/1 [==============================] - 0s 2ms/step - loss: 6.6055 - mae: 6.6055\n",
      "Epoch 99/100\n",
      "1/1 [==============================] - 0s 2ms/step - loss: 6.5939 - mae: 6.5939\n",
      "Epoch 100/100\n",
      "1/1 [==============================] - 0s 2ms/step - loss: 6.5826 - mae: 6.5826\n"
     ]
    },
    {
     "data": {
      "text/plain": [
       "<keras.callbacks.History at 0x177817610>"
      ]
     },
     "execution_count": 25,
     "metadata": {},
     "output_type": "execute_result"
    }
   ],
   "source": [
    "#Another Change\n",
    "model = tf.keras.Sequential([\n",
    "    tf.keras.layers.Dense(50, activation= None),\n",
    "    tf.keras.layers.Dense(1)\n",
    "])\n",
    "\n",
    "model.compile(loss= tf.keras.losses.mae,\n",
    "              optimizer= tf.keras.optimizers.Adam(lr= 0.01),\n",
    "              metrics= ['mae'])\n",
    "\n",
    "model.fit(tf.expand_dims(X, axis= -1), y, epochs= 100)"
   ]
  },
  {
   "cell_type": "code",
   "execution_count": 26,
   "metadata": {},
   "outputs": [
    {
     "name": "stdout",
     "output_type": "stream",
     "text": [
      "1/1 [==============================] - 0s 32ms/step\n"
     ]
    },
    {
     "data": {
      "text/plain": [
       "array([[29.987217]], dtype=float32)"
      ]
     },
     "execution_count": 26,
     "metadata": {},
     "output_type": "execute_result"
    }
   ],
   "source": [
    "model.predict([17.0])"
   ]
  },
  {
   "cell_type": "markdown",
   "metadata": {},
   "source": [
    "## Evaluating a model\n",
    "\n",
    "In practice, a typical workflow you will go through when building a neural network is:\n",
    "\n",
    "```\n",
    "Build a model -> fit it -> evaluate it -> tweak a model -> fit it -> evaluate it -> and repeat\n",
    "```"
   ]
  },
  {
   "cell_type": "markdown",
   "metadata": {},
   "source": [
    "3 thigs to remember when we evaluate:\n",
    "> \"Visualise, Visualise and Visualise\"\n",
    "\n",
    "Things to visualise:\n",
    "1. The data\n",
    "2. The model itself\n",
    "3. The training of a model\n",
    "4. The prediction of the model"
   ]
  },
  {
   "cell_type": "code",
   "execution_count": 29,
   "metadata": {},
   "outputs": [
    {
     "data": {
      "text/plain": [
       "<tf.Tensor: shape=(50,), dtype=int32, numpy=\n",
       "array([-100,  -96,  -92,  -88,  -84,  -80,  -76,  -72,  -68,  -64,  -60,\n",
       "        -56,  -52,  -48,  -44,  -40,  -36,  -32,  -28,  -24,  -20,  -16,\n",
       "        -12,   -8,   -4,    0,    4,    8,   12,   16,   20,   24,   28,\n",
       "         32,   36,   40,   44,   48,   52,   56,   60,   64,   68,   72,\n",
       "         76,   80,   84,   88,   92,   96], dtype=int32)>"
      ]
     },
     "execution_count": 29,
     "metadata": {},
     "output_type": "execute_result"
    }
   ],
   "source": [
    "# Make a bigger dataset\n",
    "X = tf.range(-100, 100, 4)\n",
    "X"
   ]
  },
  {
   "cell_type": "code",
   "execution_count": 30,
   "metadata": {},
   "outputs": [
    {
     "data": {
      "text/plain": [
       "<tf.Tensor: shape=(50,), dtype=int32, numpy=\n",
       "array([-90, -86, -82, -78, -74, -70, -66, -62, -58, -54, -50, -46, -42,\n",
       "       -38, -34, -30, -26, -22, -18, -14, -10,  -6,  -2,   2,   6,  10,\n",
       "        14,  18,  22,  26,  30,  34,  38,  42,  46,  50,  54,  58,  62,\n",
       "        66,  70,  74,  78,  82,  86,  90,  94,  98, 102, 106], dtype=int32)>"
      ]
     },
     "execution_count": 30,
     "metadata": {},
     "output_type": "execute_result"
    }
   ],
   "source": [
    "# Make labels for the dataset\n",
    "y = X + 10\n",
    "y"
   ]
  },
  {
   "cell_type": "code",
   "execution_count": 31,
   "metadata": {},
   "outputs": [
    {
     "data": {
      "text/plain": [
       "<matplotlib.collections.PathCollection at 0x2b403c700>"
      ]
     },
     "execution_count": 31,
     "metadata": {},
     "output_type": "execute_result"
    },
    {
     "data": {
      "image/png": "[encoded data removed]",
      "text/plain": [
       "<Figure size 640x480 with 1 Axes>"
      ]
     },
     "metadata": {},
     "output_type": "display_data"
    }
   ],
   "source": [
    "#Visualise the data\n",
    "plt.scatter(X, y)"
   ]
  },
  {
   "cell_type": "markdown",
   "metadata": {},
   "source": [
    "### Three sets of the data for the model\n",
    "\n",
    "1. Training dataset\n",
    "2. Validating dataset\n",
    "3. Testing dataset"
   ]
  },
  {
   "cell_type": "code",
   "execution_count": 34,
   "metadata": {},
   "outputs": [
    {
     "data": {
      "text/plain": [
       "((40,), (10,), (40,), (10,))"
      ]
     },
     "execution_count": 34,
     "metadata": {},
     "output_type": "execute_result"
    }
   ],
   "source": [
    "from sklearn.model_selection import train_test_split\n",
    "\n",
    "X_train, X_test, y_train, y_test = train_test_split(X.numpy(), y.numpy(), test_size= 0.20)\n",
    "\n",
    "X_train.shape, X_test.shape, y_train.shape, y_test.shape"
   ]
  },
  {
   "cell_type": "code",
   "execution_count": 37,
   "metadata": {},
   "outputs": [
    {
     "data": {
      "text/plain": [
       "(<tf.Tensor: shape=(40,), dtype=int32, numpy=\n",
       " array([-100,   32,  -96,  -20,   84,   96,  -92,   92,   -4,  -40,   72,\n",
       "          48,   60,  -44,   52,   20,  -32,  -56,   24,   16,  -24,  -64,\n",
       "         -88,  -48,   68,  -84,   36,   56,   80,   28,  -76,  -60,   40,\n",
       "         -36,  -72,   44,  -28,  -12,    4,    0], dtype=int32)>,\n",
       " <tf.Tensor: shape=(10,), dtype=int32, numpy=array([-16, -52,  -8, -80,   8,  12,  76,  88, -68,  64], dtype=int32)>,\n",
       " <tf.Tensor: shape=(40,), dtype=int32, numpy=\n",
       " array([-90,  42, -86, -10,  94, 106, -82, 102,   6, -30,  82,  58,  70,\n",
       "        -34,  62,  30, -22, -46,  34,  26, -14, -54, -78, -38,  78, -74,\n",
       "         46,  66,  90,  38, -66, -50,  50, -26, -62,  54, -18,  -2,  14,\n",
       "         10], dtype=int32)>,\n",
       " <tf.Tensor: shape=(10,), dtype=int32, numpy=array([ -6, -42,   2, -70,  18,  22,  86,  98, -58,  74], dtype=int32)>)"
      ]
     },
     "execution_count": 37,
     "metadata": {},
     "output_type": "execute_result"
    }
   ],
   "source": [
    "X_train = tf.constant(X_train)\n",
    "X_test = tf.constant(X_test)\n",
    "y_train = tf.constant(y_train)\n",
    "y_test = tf.constant(y_test)\n",
    "\n",
    "X_train, X_test, y_train, y_test"
   ]
  },
  {
   "cell_type": "markdown",
   "metadata": {},
   "source": [
    "### Visualising the data\n",
    "\n",
    "Now we have got out data in training and test sets ... Let's Visualise it"
   ]
  },
  {
   "cell_type": "code",
   "execution_count": 39,
   "metadata": {},
   "outputs": [
    {
     "data": {
      "text/plain": [
       "[]"
      ]
     },
     "execution_count": 39,
     "metadata": {},
     "output_type": "execute_result"
    },
    {
     "data": {
      "image/png": "[encoded data removed]",
      "text/plain": [
       "<Figure size 1000x700 with 1 Axes>"
      ]
     },
     "metadata": {},
     "output_type": "display_data"
    }
   ],
   "source": [
    "plt.figure(figsize= (10, 7))\n",
    "\n",
    "plt.scatter(X_train, y_train, c= 'blue', label= 'Training data')\n",
    "plt.scatter(X_test, y_test, c= 'red', label= 'Testing data')\n",
    "\n",
    "plt.legend()\n",
    "\n",
    "plt.plot()"
   ]
  },
  {
   "cell_type": "code",
   "execution_count": 40,
   "metadata": {},
   "outputs": [],
   "source": [
    "# Let's build a model using the training and evaluate using the testing data\n",
    "\n",
    "model = tf.keras.Sequential([\n",
    "    tf.keras.layers.Dense(1)\n",
    "])\n",
    "\n",
    "model.compile(loss= tf.keras.losses.mae,\n",
    "              optimizer= tf.keras.optimizers.SGD())\n",
    "\n",
    "# model.fit(X_train, y_train, epochs= 100)"
   ]
  },
  {
   "cell_type": "code",
   "execution_count": 41,
   "metadata": {},
   "outputs": [
    {
     "ename": "ValueError",
     "evalue": "This model has not yet been built. Build the model first by calling `build()` or by calling the model on a batch of data.",
     "output_type": "error",
     "traceback": [
      "\u001b[0;31m---------------------------------------------------------------------------\u001b[0m",
      "\u001b[0;31mValueError\u001b[0m                                Traceback (most recent call last)",
      "Cell \u001b[0;32mIn[41], line 2\u001b[0m\n\u001b[1;32m      1\u001b[0m \u001b[38;5;66;03m#Visualising the model\u001b[39;00m\n\u001b[0;32m----> 2\u001b[0m \u001b[43mmodel\u001b[49m\u001b[38;5;241;43m.\u001b[39;49m\u001b[43msummary\u001b[49m\u001b[43m(\u001b[49m\u001b[43m)\u001b[49m\n",
      "File \u001b[0;32m~/miniconda3/envs/ml/lib/python3.10/site-packages/keras/engine/training.py:3292\u001b[0m, in \u001b[0;36mModel.summary\u001b[0;34m(self, line_length, positions, print_fn, expand_nested, show_trainable, layer_range)\u001b[0m\n\u001b[1;32m   3262\u001b[0m \u001b[38;5;250m\u001b[39m\u001b[38;5;124;03m\"\"\"Prints a string summary of the network.\u001b[39;00m\n\u001b[1;32m   3263\u001b[0m \n\u001b[1;32m   3264\u001b[0m \u001b[38;5;124;03mArgs:\u001b[39;00m\n\u001b[0;32m   (...)\u001b[0m\n\u001b[1;32m   3289\u001b[0m \u001b[38;5;124;03m    ValueError: if `summary()` is called before the model is built.\u001b[39;00m\n\u001b[1;32m   3290\u001b[0m \u001b[38;5;124;03m\"\"\"\u001b[39;00m\n\u001b[1;32m   3291\u001b[0m \u001b[38;5;28;01mif\u001b[39;00m \u001b[38;5;129;01mnot\u001b[39;00m \u001b[38;5;28mself\u001b[39m\u001b[38;5;241m.\u001b[39mbuilt:\n\u001b[0;32m-> 3292\u001b[0m     \u001b[38;5;28;01mraise\u001b[39;00m \u001b[38;5;167;01mValueError\u001b[39;00m(\n\u001b[1;32m   3293\u001b[0m         \u001b[38;5;124m\"\u001b[39m\u001b[38;5;124mThis model has not yet been built. \u001b[39m\u001b[38;5;124m\"\u001b[39m\n\u001b[1;32m   3294\u001b[0m         \u001b[38;5;124m\"\u001b[39m\u001b[38;5;124mBuild the model first by calling `build()` or by calling \u001b[39m\u001b[38;5;124m\"\u001b[39m\n\u001b[1;32m   3295\u001b[0m         \u001b[38;5;124m\"\u001b[39m\u001b[38;5;124mthe model on a batch of data.\u001b[39m\u001b[38;5;124m\"\u001b[39m\n\u001b[1;32m   3296\u001b[0m     )\n\u001b[1;32m   3297\u001b[0m layer_utils\u001b[38;5;241m.\u001b[39mprint_summary(\n\u001b[1;32m   3298\u001b[0m     \u001b[38;5;28mself\u001b[39m,\n\u001b[1;32m   3299\u001b[0m     line_length\u001b[38;5;241m=\u001b[39mline_length,\n\u001b[0;32m   (...)\u001b[0m\n\u001b[1;32m   3304\u001b[0m     layer_range\u001b[38;5;241m=\u001b[39mlayer_range,\n\u001b[1;32m   3305\u001b[0m )\n",
      "\u001b[0;31mValueError\u001b[0m: This model has not yet been built. Build the model first by calling `build()` or by calling the model on a batch of data."
     ]
    }
   ],
   "source": [
    "#Visualising the model\n",
    "\n",
    "model.summary()"
   ]
  },
  {
   "cell_type": "code",
   "execution_count": 46,
   "metadata": {},
   "outputs": [],
   "source": [
    "tf.random.set_seed(42)\n",
    "\n",
    "model = tf.keras.Sequential([\n",
    "    tf.keras.layers.Dense(1, input_shape= [1])\n",
    "])\n",
    "\n",
    "model.compile(loss= tf.keras.losses.mae,\n",
    "              optimizer= tf.keras.optimizers.SGD())\n"
   ]
  },
  {
   "cell_type": "code",
   "execution_count": 47,
   "metadata": {},
   "outputs": [
    {
     "name": "stdout",
     "output_type": "stream",
     "text": [
      "Model: \"sequential_11\"\n",
      "_________________________________________________________________\n",
      " Layer (type)                Output Shape              Param #   \n",
      "=================================================================\n",
      " dense_17 (Dense)            (None, 1)                 2         \n",
      "                                                                 \n",
      "=================================================================\n",
      "Total params: 2\n",
      "Trainable params: 2\n",
      "Non-trainable params: 0\n",
      "_________________________________________________________________\n"
     ]
    }
   ],
   "source": [
    "model.summary()"
   ]
  },
  {
   "cell_type": "markdown",
   "metadata": {},
   "source": [
    "1. Total Params: total number of parameters in the model\n",
    "2. Trainable parameters: parameters that can be updated while on training\n",
    "3. Non-trainable params: parameters that are not updated while training, particularly seen in **transfer learning models**"
   ]
  },
  {
   "cell_type": "markdown",
   "metadata": {},
   "source": [
    "**Excercies**: Try playing around with the number of hidden units in the dense layer, see how that effect the number of parameters"
   ]
  },
  {
   "cell_type": "code",
   "execution_count": 48,
   "metadata": {},
   "outputs": [
    {
     "name": "stdout",
     "output_type": "stream",
     "text": [
      "Epoch 1/100\n",
      "2/2 [==============================] - 0s 3ms/step - loss: 34.7264\n",
      "Epoch 2/100\n",
      "2/2 [==============================] - 0s 1ms/step - loss: 11.7421\n",
      "Epoch 3/100\n",
      "2/2 [==============================] - 0s 1ms/step - loss: 9.9969\n",
      "Epoch 4/100\n",
      "2/2 [==============================] - 0s 1ms/step - loss: 9.6729\n",
      "Epoch 5/100\n",
      "2/2 [==============================] - 0s 1ms/step - loss: 10.2631\n",
      "Epoch 6/100\n",
      "2/2 [==============================] - 0s 1ms/step - loss: 10.2138\n",
      "Epoch 7/100\n",
      "2/2 [==============================] - 0s 1ms/step - loss: 10.2533\n",
      "Epoch 8/100\n",
      "2/2 [==============================] - 0s 1ms/step - loss: 10.3160\n",
      "Epoch 9/100\n",
      "2/2 [==============================] - 0s 1ms/step - loss: 9.9365\n",
      "Epoch 10/100\n",
      "2/2 [==============================] - 0s 1ms/step - loss: 9.6175\n",
      "Epoch 11/100\n",
      "2/2 [==============================] - 0s 1ms/step - loss: 14.2952\n",
      "Epoch 12/100\n",
      "2/2 [==============================] - 0s 1ms/step - loss: 9.8668\n",
      "Epoch 13/100\n",
      "2/2 [==============================] - 0s 1ms/step - loss: 9.9034\n",
      "Epoch 14/100\n",
      "2/2 [==============================] - 0s 1ms/step - loss: 10.4246\n",
      "Epoch 15/100\n",
      "2/2 [==============================] - 0s 5ms/step - loss: 16.7609\n",
      "Epoch 16/100\n",
      "2/2 [==============================] - 0s 7ms/step - loss: 11.5003\n",
      "Epoch 17/100\n",
      "2/2 [==============================] - 0s 2ms/step - loss: 9.8891\n",
      "Epoch 18/100\n",
      "2/2 [==============================] - 0s 4ms/step - loss: 16.1871\n",
      "Epoch 19/100\n",
      "2/2 [==============================] - 0s 1ms/step - loss: 19.4630\n",
      "Epoch 20/100\n",
      "2/2 [==============================] - 0s 1ms/step - loss: 15.3913\n",
      "Epoch 21/100\n",
      "2/2 [==============================] - 0s 1ms/step - loss: 18.1700\n",
      "Epoch 22/100\n",
      "2/2 [==============================] - 0s 1ms/step - loss: 9.8640\n",
      "Epoch 23/100\n",
      "2/2 [==============================] - 0s 1ms/step - loss: 9.8279\n",
      "Epoch 24/100\n",
      "2/2 [==============================] - 0s 1ms/step - loss: 9.7120\n",
      "Epoch 25/100\n",
      "2/2 [==============================] - 0s 1ms/step - loss: 10.4159\n",
      "Epoch 26/100\n",
      "2/2 [==============================] - 0s 1ms/step - loss: 14.6965\n",
      "Epoch 27/100\n",
      "2/2 [==============================] - 0s 1ms/step - loss: 9.8487\n",
      "Epoch 28/100\n",
      "2/2 [==============================] - 0s 1ms/step - loss: 9.7968\n",
      "Epoch 29/100\n",
      "2/2 [==============================] - 0s 1ms/step - loss: 9.7491\n",
      "Epoch 30/100\n",
      "2/2 [==============================] - 0s 1ms/step - loss: 9.6026\n",
      "Epoch 31/100\n",
      "2/2 [==============================] - 0s 984us/step - loss: 9.5878\n",
      "Epoch 32/100\n",
      "2/2 [==============================] - 0s 931us/step - loss: 9.6810\n",
      "Epoch 33/100\n",
      "2/2 [==============================] - 0s 1ms/step - loss: 14.6985\n",
      "Epoch 34/100\n",
      "2/2 [==============================] - 0s 1ms/step - loss: 16.4234\n",
      "Epoch 35/100\n",
      "2/2 [==============================] - 0s 1ms/step - loss: 8.3804\n",
      "Epoch 36/100\n",
      "2/2 [==============================] - 0s 1ms/step - loss: 9.2223\n",
      "Epoch 37/100\n",
      "2/2 [==============================] - 0s 1ms/step - loss: 8.3449\n",
      "Epoch 38/100\n",
      "2/2 [==============================] - 0s 1ms/step - loss: 18.9097\n",
      "Epoch 39/100\n",
      "2/2 [==============================] - 0s 1ms/step - loss: 10.6118\n",
      "Epoch 40/100\n",
      "2/2 [==============================] - 0s 1ms/step - loss: 9.5300\n",
      "Epoch 41/100\n",
      "2/2 [==============================] - 0s 1ms/step - loss: 11.9157\n",
      "Epoch 42/100\n",
      "2/2 [==============================] - 0s 1ms/step - loss: 12.3512\n",
      "Epoch 43/100\n",
      "2/2 [==============================] - 0s 1ms/step - loss: 16.3842\n",
      "Epoch 44/100\n",
      "2/2 [==============================] - 0s 1ms/step - loss: 10.5808\n",
      "Epoch 45/100\n",
      "2/2 [==============================] - 0s 1ms/step - loss: 9.4201\n",
      "Epoch 46/100\n",
      "2/2 [==============================] - 0s 1ms/step - loss: 9.9837\n",
      "Epoch 47/100\n",
      "2/2 [==============================] - 0s 1ms/step - loss: 9.3586\n",
      "Epoch 48/100\n",
      "2/2 [==============================] - 0s 2ms/step - loss: 16.7543\n",
      "Epoch 49/100\n",
      "2/2 [==============================] - 0s 4ms/step - loss: 9.9358\n",
      "Epoch 50/100\n",
      "2/2 [==============================] - 0s 2ms/step - loss: 20.8675\n",
      "Epoch 51/100\n",
      "2/2 [==============================] - 0s 1ms/step - loss: 9.2728\n",
      "Epoch 52/100\n",
      "2/2 [==============================] - 0s 3ms/step - loss: 9.6844\n",
      "Epoch 53/100\n",
      "2/2 [==============================] - 0s 2ms/step - loss: 9.3861\n",
      "Epoch 54/100\n",
      "2/2 [==============================] - 0s 1ms/step - loss: 9.2806\n",
      "Epoch 55/100\n",
      "2/2 [==============================] - 0s 1ms/step - loss: 12.5135\n",
      "Epoch 56/100\n",
      "2/2 [==============================] - 0s 2ms/step - loss: 9.4083\n",
      "Epoch 57/100\n",
      "2/2 [==============================] - 0s 1ms/step - loss: 9.7211\n",
      "Epoch 58/100\n",
      "2/2 [==============================] - 0s 1ms/step - loss: 11.9045\n",
      "Epoch 59/100\n",
      "2/2 [==============================] - 0s 1ms/step - loss: 9.2259\n",
      "Epoch 60/100\n",
      "2/2 [==============================] - 0s 1ms/step - loss: 9.3206\n",
      "Epoch 61/100\n",
      "2/2 [==============================] - 0s 1ms/step - loss: 9.4558\n",
      "Epoch 62/100\n",
      "2/2 [==============================] - 0s 1ms/step - loss: 10.2472\n",
      "Epoch 63/100\n",
      "2/2 [==============================] - 0s 1ms/step - loss: 9.0399\n",
      "Epoch 64/100\n",
      "2/2 [==============================] - 0s 2ms/step - loss: 8.9929\n",
      "Epoch 65/100\n",
      "2/2 [==============================] - 0s 2ms/step - loss: 13.2893\n",
      "Epoch 66/100\n",
      "2/2 [==============================] - 0s 1ms/step - loss: 8.6918\n",
      "Epoch 67/100\n",
      "2/2 [==============================] - 0s 1ms/step - loss: 8.9440\n",
      "Epoch 68/100\n",
      "2/2 [==============================] - 0s 1ms/step - loss: 9.7007\n",
      "Epoch 69/100\n",
      "2/2 [==============================] - 0s 1ms/step - loss: 19.2219\n",
      "Epoch 70/100\n",
      "2/2 [==============================] - 0s 1ms/step - loss: 9.2021\n",
      "Epoch 71/100\n",
      "2/2 [==============================] - 0s 1ms/step - loss: 8.6903\n",
      "Epoch 72/100\n",
      "2/2 [==============================] - 0s 1ms/step - loss: 12.7730\n",
      "Epoch 73/100\n",
      "2/2 [==============================] - 0s 1ms/step - loss: 8.8280\n",
      "Epoch 74/100\n",
      "2/2 [==============================] - 0s 1ms/step - loss: 8.4173\n",
      "Epoch 75/100\n",
      "2/2 [==============================] - 0s 1ms/step - loss: 8.7655\n",
      "Epoch 76/100\n",
      "2/2 [==============================] - 0s 1ms/step - loss: 11.7969\n",
      "Epoch 77/100\n",
      "2/2 [==============================] - 0s 1ms/step - loss: 13.1725\n",
      "Epoch 78/100\n",
      "2/2 [==============================] - 0s 1ms/step - loss: 8.6275\n",
      "Epoch 79/100\n",
      "2/2 [==============================] - 0s 3ms/step - loss: 9.0740\n",
      "Epoch 80/100\n",
      "2/2 [==============================] - 0s 3ms/step - loss: 9.4635\n",
      "Epoch 81/100\n",
      "2/2 [==============================] - 0s 4ms/step - loss: 12.6132\n",
      "Epoch 82/100\n",
      "2/2 [==============================] - 0s 1ms/step - loss: 14.0547\n",
      "Epoch 83/100\n",
      "2/2 [==============================] - 0s 2ms/step - loss: 10.3999\n",
      "Epoch 84/100\n",
      "2/2 [==============================] - 0s 1ms/step - loss: 14.5017\n",
      "Epoch 85/100\n",
      "2/2 [==============================] - 0s 1ms/step - loss: 9.4336\n",
      "Epoch 86/100\n",
      "2/2 [==============================] - 0s 1ms/step - loss: 8.4960\n",
      "Epoch 87/100\n",
      "2/2 [==============================] - 0s 931us/step - loss: 10.2711\n",
      "Epoch 88/100\n",
      "2/2 [==============================] - 0s 1ms/step - loss: 14.3446\n",
      "Epoch 89/100\n",
      "2/2 [==============================] - 0s 1ms/step - loss: 17.0200\n",
      "Epoch 90/100\n",
      "2/2 [==============================] - 0s 1ms/step - loss: 17.5563\n",
      "Epoch 91/100\n",
      "2/2 [==============================] - 0s 1ms/step - loss: 9.9422\n",
      "Epoch 92/100\n",
      "2/2 [==============================] - 0s 1ms/step - loss: 11.7862\n",
      "Epoch 93/100\n",
      "2/2 [==============================] - 0s 1ms/step - loss: 9.5531\n",
      "Epoch 94/100\n",
      "2/2 [==============================] - 0s 1ms/step - loss: 9.3714\n",
      "Epoch 95/100\n",
      "2/2 [==============================] - 0s 1ms/step - loss: 10.0039\n",
      "Epoch 96/100\n",
      "2/2 [==============================] - 0s 1ms/step - loss: 8.5719\n",
      "Epoch 97/100\n",
      "2/2 [==============================] - 0s 1ms/step - loss: 8.4473\n",
      "Epoch 98/100\n",
      "2/2 [==============================] - 0s 985us/step - loss: 8.3973\n",
      "Epoch 99/100\n",
      "2/2 [==============================] - 0s 1ms/step - loss: 9.4205\n",
      "Epoch 100/100\n",
      "2/2 [==============================] - 0s 1ms/step - loss: 8.3059\n"
     ]
    },
    {
     "data": {
      "text/plain": [
       "<keras.callbacks.History at 0x1754b4b80>"
      ]
     },
     "execution_count": 48,
     "metadata": {},
     "output_type": "execute_result"
    }
   ],
   "source": [
    "#Let's fit the model to the training data\n",
    "model.fit(X_train, y_train, epochs= 100, verbose= 1)"
   ]
  }
 ],
 "metadata": {
  "kernelspec": {
   "display_name": "ml",
   "language": "python",
   "name": "python3"
  },
  "language_info": {
   "codemirror_mode": {
    "name": "ipython",
    "version": 3
   },
   "file_extension": ".py",
   "mimetype": "text/x-python",
   "name": "python",
   "nbconvert_exporter": "python",
   "pygments_lexer": "ipython3",
   "version": "3.10.13"
  }
 },
 "nbformat": 4,
 "nbformat_minor": 2
}
