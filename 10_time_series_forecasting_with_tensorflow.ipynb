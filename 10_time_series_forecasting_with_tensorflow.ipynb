{
  "nbformat": 4,
  "nbformat_minor": 0,
  "metadata": {
    "colab": {
      "provenance": [],
      "machine_shape": "hm",
      "gpuType": "T4",
      "authorship_tag": "ABX9TyNZeZXfRN1fSbKh/qBb2JHk",
      "include_colab_link": true
    },
    "kernelspec": {
      "name": "python3",
      "display_name": "Python 3"
    },
    "language_info": {
      "name": "python"
    },
    "accelerator": "GPU"
  },
  "cells": [
    {
      "cell_type": "markdown",
      "metadata": {
        "id": "view-in-github",
        "colab_type": "text"
      },
      "source": [
        "<a href=\"https://colab.research.google.com/github/klsharma22/TensorflowCertifcationCourse/blob/main/10_time_series_forecasting_with_tensorflow.ipynb\" target=\"_parent\"><img src=\"https://colab.research.google.com/assets/colab-badge.svg\" alt=\"Open In Colab\"/></a>"
      ]
    },
    {
      "cell_type": "markdown",
      "source": [
        "# Time series forecasting fundamentals with Milestone project"
      ],
      "metadata": {
        "id": "euARGZ6e-xI7"
      }
    },
    {
      "cell_type": "markdown",
      "source": [
        "## Get data"
      ],
      "metadata": {
        "id": "16qJKqvi_Fng"
      }
    },
    {
      "cell_type": "code",
      "source": [
        "!wget https://raw.githubusercontent.com/mrdbourke/tensorflow-deep-learning/main/extras/BTC_USD_2013-10-01_2021-05-18-CoinDesk.csv"
      ],
      "metadata": {
        "colab": {
          "base_uri": "https://localhost:8080/"
        },
        "id": "VuCqetoN_sDc",
        "outputId": "5a888d25-b062-4a29-915c-61a0c6f1aafd"
      },
      "execution_count": 54,
      "outputs": [
        {
          "output_type": "stream",
          "name": "stdout",
          "text": [
            "--2024-03-19 14:10:43--  https://raw.githubusercontent.com/mrdbourke/tensorflow-deep-learning/main/extras/BTC_USD_2013-10-01_2021-05-18-CoinDesk.csv\n",
            "Resolving raw.githubusercontent.com (raw.githubusercontent.com)... 185.199.108.133, 185.199.109.133, 185.199.110.133, ...\n",
            "Connecting to raw.githubusercontent.com (raw.githubusercontent.com)|185.199.108.133|:443... connected.\n",
            "HTTP request sent, awaiting response... 200 OK\n",
            "Length: 178509 (174K) [text/plain]\n",
            "Saving to: ‘BTC_USD_2013-10-01_2021-05-18-CoinDesk.csv.1’\n",
            "\n",
            "\r          BTC_USD_2   0%[                    ]       0  --.-KB/s               \rBTC_USD_2013-10-01_ 100%[===================>] 174.33K  --.-KB/s    in 0.02s   \n",
            "\n",
            "2024-03-19 14:10:43 (7.25 MB/s) - ‘BTC_USD_2013-10-01_2021-05-18-CoinDesk.csv.1’ saved [178509/178509]\n",
            "\n"
          ]
        }
      ]
    },
    {
      "cell_type": "code",
      "source": [
        "!wget https://raw.githubusercontent.com/mrdbourke/tensorflow-deep-learning/main/extras/helper_functions.py"
      ],
      "metadata": {
        "colab": {
          "base_uri": "https://localhost:8080/"
        },
        "id": "szca1eSt_zn5",
        "outputId": "c1e8434e-90a0-43b8-89e0-c6fea627f2e5"
      },
      "execution_count": 55,
      "outputs": [
        {
          "output_type": "stream",
          "name": "stdout",
          "text": [
            "--2024-03-19 14:10:43--  https://raw.githubusercontent.com/mrdbourke/tensorflow-deep-learning/main/extras/helper_functions.py\n",
            "Resolving raw.githubusercontent.com (raw.githubusercontent.com)... 185.199.109.133, 185.199.110.133, 185.199.111.133, ...\n",
            "Connecting to raw.githubusercontent.com (raw.githubusercontent.com)|185.199.109.133|:443... connected.\n",
            "HTTP request sent, awaiting response... 200 OK\n",
            "Length: 10246 (10K) [text/plain]\n",
            "Saving to: ‘helper_functions.py.1’\n",
            "\n",
            "\rhelper_functions.py   0%[                    ]       0  --.-KB/s               \rhelper_functions.py 100%[===================>]  10.01K  --.-KB/s    in 0s      \n",
            "\n",
            "2024-03-19 14:10:43 (104 MB/s) - ‘helper_functions.py.1’ saved [10246/10246]\n",
            "\n"
          ]
        }
      ]
    },
    {
      "cell_type": "markdown",
      "source": [
        "## Importing data with pandas"
      ],
      "metadata": {
        "id": "8IcFPxTM_9V6"
      }
    },
    {
      "cell_type": "code",
      "source": [
        "# Import pandas\n",
        "import pandas as pd\n",
        "# Let's read the data and parse it\n",
        "df = pd.read_csv('/content/BTC_USD_2013-10-01_2021-05-18-CoinDesk.csv',\n",
        "                 parse_dates= ['Date'],\n",
        "                 index_col= ['Date']) # parse date and telling pandas that column 1 is datetime\n",
        "\n",
        "df"
      ],
      "metadata": {
        "colab": {
          "base_uri": "https://localhost:8080/",
          "height": 637
        },
        "id": "Zg4aMURIAEr2",
        "outputId": "c9c400ff-c461-4167-a3cb-7316eb126b30"
      },
      "execution_count": 56,
      "outputs": [
        {
          "output_type": "execute_result",
          "data": {
            "text/plain": [
              "           Currency  Closing Price (USD)  24h Open (USD)  24h High (USD)  \\\n",
              "Date                                                                       \n",
              "2013-10-01      BTC           123.654990      124.304660      124.751660   \n",
              "2013-10-02      BTC           125.455000      123.654990      125.758500   \n",
              "2013-10-03      BTC           108.584830      125.455000      125.665660   \n",
              "2013-10-04      BTC           118.674660      108.584830      118.675000   \n",
              "2013-10-05      BTC           121.338660      118.674660      121.936330   \n",
              "...             ...                  ...             ...             ...   \n",
              "2021-05-14      BTC         49764.132082    49596.778891    51448.798576   \n",
              "2021-05-15      BTC         50032.693137    49717.354353    51578.312545   \n",
              "2021-05-16      BTC         47885.625255    49926.035067    50690.802950   \n",
              "2021-05-17      BTC         45604.615754    46805.537852    49670.414174   \n",
              "2021-05-18      BTC         43144.471291    46439.336570    46622.853437   \n",
              "\n",
              "            24h Low (USD)  \n",
              "Date                       \n",
              "2013-10-01     122.563490  \n",
              "2013-10-02     123.633830  \n",
              "2013-10-03      83.328330  \n",
              "2013-10-04     107.058160  \n",
              "2013-10-05     118.005660  \n",
              "...                   ...  \n",
              "2021-05-14   46294.720180  \n",
              "2021-05-15   48944.346536  \n",
              "2021-05-16   47005.102292  \n",
              "2021-05-17   43868.638969  \n",
              "2021-05-18   42102.346430  \n",
              "\n",
              "[2787 rows x 5 columns]"
            ],
            "text/html": [
              "\n",
              "  <div id=\"df-c38fd290-6a7f-44bb-aa07-5dccbaf8beb3\" class=\"colab-df-container\">\n",
              "    <div>\n",
              "<style scoped>\n",
              "    .dataframe tbody tr th:only-of-type {\n",
              "        vertical-align: middle;\n",
              "    }\n",
              "\n",
              "    .dataframe tbody tr th {\n",
              "        vertical-align: top;\n",
              "    }\n",
              "\n",
              "    .dataframe thead th {\n",
              "        text-align: right;\n",
              "    }\n",
              "</style>\n",
              "<table border=\"1\" class=\"dataframe\">\n",
              "  <thead>\n",
              "    <tr style=\"text-align: right;\">\n",
              "      <th></th>\n",
              "      <th>Currency</th>\n",
              "      <th>Closing Price (USD)</th>\n",
              "      <th>24h Open (USD)</th>\n",
              "      <th>24h High (USD)</th>\n",
              "      <th>24h Low (USD)</th>\n",
              "    </tr>\n",
              "    <tr>\n",
              "      <th>Date</th>\n",
              "      <th></th>\n",
              "      <th></th>\n",
              "      <th></th>\n",
              "      <th></th>\n",
              "      <th></th>\n",
              "    </tr>\n",
              "  </thead>\n",
              "  <tbody>\n",
              "    <tr>\n",
              "      <th>2013-10-01</th>\n",
              "      <td>BTC</td>\n",
              "      <td>123.654990</td>\n",
              "      <td>124.304660</td>\n",
              "      <td>124.751660</td>\n",
              "      <td>122.563490</td>\n",
              "    </tr>\n",
              "    <tr>\n",
              "      <th>2013-10-02</th>\n",
              "      <td>BTC</td>\n",
              "      <td>125.455000</td>\n",
              "      <td>123.654990</td>\n",
              "      <td>125.758500</td>\n",
              "      <td>123.633830</td>\n",
              "    </tr>\n",
              "    <tr>\n",
              "      <th>2013-10-03</th>\n",
              "      <td>BTC</td>\n",
              "      <td>108.584830</td>\n",
              "      <td>125.455000</td>\n",
              "      <td>125.665660</td>\n",
              "      <td>83.328330</td>\n",
              "    </tr>\n",
              "    <tr>\n",
              "      <th>2013-10-04</th>\n",
              "      <td>BTC</td>\n",
              "      <td>118.674660</td>\n",
              "      <td>108.584830</td>\n",
              "      <td>118.675000</td>\n",
              "      <td>107.058160</td>\n",
              "    </tr>\n",
              "    <tr>\n",
              "      <th>2013-10-05</th>\n",
              "      <td>BTC</td>\n",
              "      <td>121.338660</td>\n",
              "      <td>118.674660</td>\n",
              "      <td>121.936330</td>\n",
              "      <td>118.005660</td>\n",
              "    </tr>\n",
              "    <tr>\n",
              "      <th>...</th>\n",
              "      <td>...</td>\n",
              "      <td>...</td>\n",
              "      <td>...</td>\n",
              "      <td>...</td>\n",
              "      <td>...</td>\n",
              "    </tr>\n",
              "    <tr>\n",
              "      <th>2021-05-14</th>\n",
              "      <td>BTC</td>\n",
              "      <td>49764.132082</td>\n",
              "      <td>49596.778891</td>\n",
              "      <td>51448.798576</td>\n",
              "      <td>46294.720180</td>\n",
              "    </tr>\n",
              "    <tr>\n",
              "      <th>2021-05-15</th>\n",
              "      <td>BTC</td>\n",
              "      <td>50032.693137</td>\n",
              "      <td>49717.354353</td>\n",
              "      <td>51578.312545</td>\n",
              "      <td>48944.346536</td>\n",
              "    </tr>\n",
              "    <tr>\n",
              "      <th>2021-05-16</th>\n",
              "      <td>BTC</td>\n",
              "      <td>47885.625255</td>\n",
              "      <td>49926.035067</td>\n",
              "      <td>50690.802950</td>\n",
              "      <td>47005.102292</td>\n",
              "    </tr>\n",
              "    <tr>\n",
              "      <th>2021-05-17</th>\n",
              "      <td>BTC</td>\n",
              "      <td>45604.615754</td>\n",
              "      <td>46805.537852</td>\n",
              "      <td>49670.414174</td>\n",
              "      <td>43868.638969</td>\n",
              "    </tr>\n",
              "    <tr>\n",
              "      <th>2021-05-18</th>\n",
              "      <td>BTC</td>\n",
              "      <td>43144.471291</td>\n",
              "      <td>46439.336570</td>\n",
              "      <td>46622.853437</td>\n",
              "      <td>42102.346430</td>\n",
              "    </tr>\n",
              "  </tbody>\n",
              "</table>\n",
              "<p>2787 rows × 5 columns</p>\n",
              "</div>\n",
              "    <div class=\"colab-df-buttons\">\n",
              "\n",
              "  <div class=\"colab-df-container\">\n",
              "    <button class=\"colab-df-convert\" onclick=\"convertToInteractive('df-c38fd290-6a7f-44bb-aa07-5dccbaf8beb3')\"\n",
              "            title=\"Convert this dataframe to an interactive table.\"\n",
              "            style=\"display:none;\">\n",
              "\n",
              "  <svg xmlns=\"http://www.w3.org/2000/svg\" height=\"24px\" viewBox=\"0 -960 960 960\">\n",
              "    <path d=\"M120-120v-720h720v720H120Zm60-500h600v-160H180v160Zm220 220h160v-160H400v160Zm0 220h160v-160H400v160ZM180-400h160v-160H180v160Zm440 0h160v-160H620v160ZM180-180h160v-160H180v160Zm440 0h160v-160H620v160Z\"/>\n",
              "  </svg>\n",
              "    </button>\n",
              "\n",
              "  <style>\n",
              "    .colab-df-container {\n",
              "      display:flex;\n",
              "      gap: 12px;\n",
              "    }\n",
              "\n",
              "    .colab-df-convert {\n",
              "      background-color: #E8F0FE;\n",
              "      border: none;\n",
              "      border-radius: 50%;\n",
              "      cursor: pointer;\n",
              "      display: none;\n",
              "      fill: #1967D2;\n",
              "      height: 32px;\n",
              "      padding: 0 0 0 0;\n",
              "      width: 32px;\n",
              "    }\n",
              "\n",
              "    .colab-df-convert:hover {\n",
              "      background-color: #E2EBFA;\n",
              "      box-shadow: 0px 1px 2px rgba(60, 64, 67, 0.3), 0px 1px 3px 1px rgba(60, 64, 67, 0.15);\n",
              "      fill: #174EA6;\n",
              "    }\n",
              "\n",
              "    .colab-df-buttons div {\n",
              "      margin-bottom: 4px;\n",
              "    }\n",
              "\n",
              "    [theme=dark] .colab-df-convert {\n",
              "      background-color: #3B4455;\n",
              "      fill: #D2E3FC;\n",
              "    }\n",
              "\n",
              "    [theme=dark] .colab-df-convert:hover {\n",
              "      background-color: #434B5C;\n",
              "      box-shadow: 0px 1px 3px 1px rgba(0, 0, 0, 0.15);\n",
              "      filter: drop-shadow(0px 1px 2px rgba(0, 0, 0, 0.3));\n",
              "      fill: #FFFFFF;\n",
              "    }\n",
              "  </style>\n",
              "\n",
              "    <script>\n",
              "      const buttonEl =\n",
              "        document.querySelector('#df-c38fd290-6a7f-44bb-aa07-5dccbaf8beb3 button.colab-df-convert');\n",
              "      buttonEl.style.display =\n",
              "        google.colab.kernel.accessAllowed ? 'block' : 'none';\n",
              "\n",
              "      async function convertToInteractive(key) {\n",
              "        const element = document.querySelector('#df-c38fd290-6a7f-44bb-aa07-5dccbaf8beb3');\n",
              "        const dataTable =\n",
              "          await google.colab.kernel.invokeFunction('convertToInteractive',\n",
              "                                                    [key], {});\n",
              "        if (!dataTable) return;\n",
              "\n",
              "        const docLinkHtml = 'Like what you see? Visit the ' +\n",
              "          '<a target=\"_blank\" href=https://colab.research.google.com/notebooks/data_table.ipynb>data table notebook</a>'\n",
              "          + ' to learn more about interactive tables.';\n",
              "        element.innerHTML = '';\n",
              "        dataTable['output_type'] = 'display_data';\n",
              "        await google.colab.output.renderOutput(dataTable, element);\n",
              "        const docLink = document.createElement('div');\n",
              "        docLink.innerHTML = docLinkHtml;\n",
              "        element.appendChild(docLink);\n",
              "      }\n",
              "    </script>\n",
              "  </div>\n",
              "\n",
              "\n",
              "<div id=\"df-75815119-6449-4dfd-abb8-da4fd61fe3da\">\n",
              "  <button class=\"colab-df-quickchart\" onclick=\"quickchart('df-75815119-6449-4dfd-abb8-da4fd61fe3da')\"\n",
              "            title=\"Suggest charts\"\n",
              "            style=\"display:none;\">\n",
              "\n",
              "<svg xmlns=\"http://www.w3.org/2000/svg\" height=\"24px\"viewBox=\"0 0 24 24\"\n",
              "     width=\"24px\">\n",
              "    <g>\n",
              "        <path d=\"M19 3H5c-1.1 0-2 .9-2 2v14c0 1.1.9 2 2 2h14c1.1 0 2-.9 2-2V5c0-1.1-.9-2-2-2zM9 17H7v-7h2v7zm4 0h-2V7h2v10zm4 0h-2v-4h2v4z\"/>\n",
              "    </g>\n",
              "</svg>\n",
              "  </button>\n",
              "\n",
              "<style>\n",
              "  .colab-df-quickchart {\n",
              "      --bg-color: #E8F0FE;\n",
              "      --fill-color: #1967D2;\n",
              "      --hover-bg-color: #E2EBFA;\n",
              "      --hover-fill-color: #174EA6;\n",
              "      --disabled-fill-color: #AAA;\n",
              "      --disabled-bg-color: #DDD;\n",
              "  }\n",
              "\n",
              "  [theme=dark] .colab-df-quickchart {\n",
              "      --bg-color: #3B4455;\n",
              "      --fill-color: #D2E3FC;\n",
              "      --hover-bg-color: #434B5C;\n",
              "      --hover-fill-color: #FFFFFF;\n",
              "      --disabled-bg-color: #3B4455;\n",
              "      --disabled-fill-color: #666;\n",
              "  }\n",
              "\n",
              "  .colab-df-quickchart {\n",
              "    background-color: var(--bg-color);\n",
              "    border: none;\n",
              "    border-radius: 50%;\n",
              "    cursor: pointer;\n",
              "    display: none;\n",
              "    fill: var(--fill-color);\n",
              "    height: 32px;\n",
              "    padding: 0;\n",
              "    width: 32px;\n",
              "  }\n",
              "\n",
              "  .colab-df-quickchart:hover {\n",
              "    background-color: var(--hover-bg-color);\n",
              "    box-shadow: 0 1px 2px rgba(60, 64, 67, 0.3), 0 1px 3px 1px rgba(60, 64, 67, 0.15);\n",
              "    fill: var(--button-hover-fill-color);\n",
              "  }\n",
              "\n",
              "  .colab-df-quickchart-complete:disabled,\n",
              "  .colab-df-quickchart-complete:disabled:hover {\n",
              "    background-color: var(--disabled-bg-color);\n",
              "    fill: var(--disabled-fill-color);\n",
              "    box-shadow: none;\n",
              "  }\n",
              "\n",
              "  .colab-df-spinner {\n",
              "    border: 2px solid var(--fill-color);\n",
              "    border-color: transparent;\n",
              "    border-bottom-color: var(--fill-color);\n",
              "    animation:\n",
              "      spin 1s steps(1) infinite;\n",
              "  }\n",
              "\n",
              "  @keyframes spin {\n",
              "    0% {\n",
              "      border-color: transparent;\n",
              "      border-bottom-color: var(--fill-color);\n",
              "      border-left-color: var(--fill-color);\n",
              "    }\n",
              "    20% {\n",
              "      border-color: transparent;\n",
              "      border-left-color: var(--fill-color);\n",
              "      border-top-color: var(--fill-color);\n",
              "    }\n",
              "    30% {\n",
              "      border-color: transparent;\n",
              "      border-left-color: var(--fill-color);\n",
              "      border-top-color: var(--fill-color);\n",
              "      border-right-color: var(--fill-color);\n",
              "    }\n",
              "    40% {\n",
              "      border-color: transparent;\n",
              "      border-right-color: var(--fill-color);\n",
              "      border-top-color: var(--fill-color);\n",
              "    }\n",
              "    60% {\n",
              "      border-color: transparent;\n",
              "      border-right-color: var(--fill-color);\n",
              "    }\n",
              "    80% {\n",
              "      border-color: transparent;\n",
              "      border-right-color: var(--fill-color);\n",
              "      border-bottom-color: var(--fill-color);\n",
              "    }\n",
              "    90% {\n",
              "      border-color: transparent;\n",
              "      border-bottom-color: var(--fill-color);\n",
              "    }\n",
              "  }\n",
              "</style>\n",
              "\n",
              "  <script>\n",
              "    async function quickchart(key) {\n",
              "      const quickchartButtonEl =\n",
              "        document.querySelector('#' + key + ' button');\n",
              "      quickchartButtonEl.disabled = true;  // To prevent multiple clicks.\n",
              "      quickchartButtonEl.classList.add('colab-df-spinner');\n",
              "      try {\n",
              "        const charts = await google.colab.kernel.invokeFunction(\n",
              "            'suggestCharts', [key], {});\n",
              "      } catch (error) {\n",
              "        console.error('Error during call to suggestCharts:', error);\n",
              "      }\n",
              "      quickchartButtonEl.classList.remove('colab-df-spinner');\n",
              "      quickchartButtonEl.classList.add('colab-df-quickchart-complete');\n",
              "    }\n",
              "    (() => {\n",
              "      let quickchartButtonEl =\n",
              "        document.querySelector('#df-75815119-6449-4dfd-abb8-da4fd61fe3da button');\n",
              "      quickchartButtonEl.style.display =\n",
              "        google.colab.kernel.accessAllowed ? 'block' : 'none';\n",
              "    })();\n",
              "  </script>\n",
              "</div>\n",
              "\n",
              "  <div id=\"id_f6b0f6a0-7ffd-41b7-af7e-4b63fc1150ce\">\n",
              "    <style>\n",
              "      .colab-df-generate {\n",
              "        background-color: #E8F0FE;\n",
              "        border: none;\n",
              "        border-radius: 50%;\n",
              "        cursor: pointer;\n",
              "        display: none;\n",
              "        fill: #1967D2;\n",
              "        height: 32px;\n",
              "        padding: 0 0 0 0;\n",
              "        width: 32px;\n",
              "      }\n",
              "\n",
              "      .colab-df-generate:hover {\n",
              "        background-color: #E2EBFA;\n",
              "        box-shadow: 0px 1px 2px rgba(60, 64, 67, 0.3), 0px 1px 3px 1px rgba(60, 64, 67, 0.15);\n",
              "        fill: #174EA6;\n",
              "      }\n",
              "\n",
              "      [theme=dark] .colab-df-generate {\n",
              "        background-color: #3B4455;\n",
              "        fill: #D2E3FC;\n",
              "      }\n",
              "\n",
              "      [theme=dark] .colab-df-generate:hover {\n",
              "        background-color: #434B5C;\n",
              "        box-shadow: 0px 1px 3px 1px rgba(0, 0, 0, 0.15);\n",
              "        filter: drop-shadow(0px 1px 2px rgba(0, 0, 0, 0.3));\n",
              "        fill: #FFFFFF;\n",
              "      }\n",
              "    </style>\n",
              "    <button class=\"colab-df-generate\" onclick=\"generateWithVariable('df')\"\n",
              "            title=\"Generate code using this dataframe.\"\n",
              "            style=\"display:none;\">\n",
              "\n",
              "  <svg xmlns=\"http://www.w3.org/2000/svg\" height=\"24px\"viewBox=\"0 0 24 24\"\n",
              "       width=\"24px\">\n",
              "    <path d=\"M7,19H8.4L18.45,9,17,7.55,7,17.6ZM5,21V16.75L18.45,3.32a2,2,0,0,1,2.83,0l1.4,1.43a1.91,1.91,0,0,1,.58,1.4,1.91,1.91,0,0,1-.58,1.4L9.25,21ZM18.45,9,17,7.55Zm-12,3A5.31,5.31,0,0,0,4.9,8.1,5.31,5.31,0,0,0,1,6.5,5.31,5.31,0,0,0,4.9,4.9,5.31,5.31,0,0,0,6.5,1,5.31,5.31,0,0,0,8.1,4.9,5.31,5.31,0,0,0,12,6.5,5.46,5.46,0,0,0,6.5,12Z\"/>\n",
              "  </svg>\n",
              "    </button>\n",
              "    <script>\n",
              "      (() => {\n",
              "      const buttonEl =\n",
              "        document.querySelector('#id_f6b0f6a0-7ffd-41b7-af7e-4b63fc1150ce button.colab-df-generate');\n",
              "      buttonEl.style.display =\n",
              "        google.colab.kernel.accessAllowed ? 'block' : 'none';\n",
              "\n",
              "      buttonEl.onclick = () => {\n",
              "        google.colab.notebook.generateWithVariable('df');\n",
              "      }\n",
              "      })();\n",
              "    </script>\n",
              "  </div>\n",
              "\n",
              "    </div>\n",
              "  </div>\n"
            ],
            "application/vnd.google.colaboratory.intrinsic+json": {
              "type": "dataframe",
              "variable_name": "df",
              "summary": "{\n  \"name\": \"df\",\n  \"rows\": 2787,\n  \"fields\": [\n    {\n      \"column\": \"Date\",\n      \"properties\": {\n        \"dtype\": \"date\",\n        \"min\": \"2013-10-01 00:00:00\",\n        \"max\": \"2021-05-18 00:00:00\",\n        \"num_unique_values\": 2787,\n        \"samples\": [\n          \"2019-06-11 00:00:00\",\n          \"2021-05-03 00:00:00\",\n          \"2017-10-05 00:00:00\"\n        ],\n        \"semantic_type\": \"\",\n        \"description\": \"\"\n      }\n    },\n    {\n      \"column\": \"Currency\",\n      \"properties\": {\n        \"dtype\": \"category\",\n        \"num_unique_values\": 1,\n        \"samples\": [\n          \"BTC\"\n        ],\n        \"semantic_type\": \"\",\n        \"description\": \"\"\n      }\n    },\n    {\n      \"column\": \"Closing Price (USD)\",\n      \"properties\": {\n        \"dtype\": \"number\",\n        \"std\": 10887.84744436952,\n        \"min\": 108.58483,\n        \"max\": 63346.7890351052,\n        \"num_unique_values\": 2787,\n        \"samples\": [\n          7954.0062377205\n        ],\n        \"semantic_type\": \"\",\n        \"description\": \"\"\n      }\n    },\n    {\n      \"column\": \"24h Open (USD)\",\n      \"properties\": {\n        \"dtype\": \"number\",\n        \"std\": 10863.80077212387,\n        \"min\": 108.58483,\n        \"max\": 63562.6735446382,\n        \"num_unique_values\": 2787,\n        \"samples\": [\n          7600.9225047785\n        ],\n        \"semantic_type\": \"\",\n        \"description\": \"\"\n      }\n    },\n    {\n      \"column\": \"24h High (USD)\",\n      \"properties\": {\n        \"dtype\": \"number\",\n        \"std\": 11206.779756254151,\n        \"min\": 118.675,\n        \"max\": 64801.787869525,\n        \"num_unique_values\": 2787,\n        \"samples\": [\n          8064.9001353225\n        ],\n        \"semantic_type\": \"\",\n        \"description\": \"\"\n      }\n    },\n    {\n      \"column\": \"24h Low (USD)\",\n      \"properties\": {\n        \"dtype\": \"number\",\n        \"std\": 10475.8112518284,\n        \"min\": 83.32833,\n        \"max\": 62094.6329143272,\n        \"num_unique_values\": 2785,\n        \"samples\": [\n          7714.610306452\n        ],\n        \"semantic_type\": \"\",\n        \"description\": \"\"\n      }\n    }\n  ]\n}"
            }
          },
          "metadata": {},
          "execution_count": 56
        }
      ]
    },
    {
      "cell_type": "code",
      "source": [
        "df.info()"
      ],
      "metadata": {
        "colab": {
          "base_uri": "https://localhost:8080/"
        },
        "id": "d6nqGz3dA6vf",
        "outputId": "86e00ce5-20dc-4e43-a466-3432d071c2d9"
      },
      "execution_count": 57,
      "outputs": [
        {
          "output_type": "stream",
          "name": "stdout",
          "text": [
            "<class 'pandas.core.frame.DataFrame'>\n",
            "DatetimeIndex: 2787 entries, 2013-10-01 to 2021-05-18\n",
            "Data columns (total 5 columns):\n",
            " #   Column               Non-Null Count  Dtype  \n",
            "---  ------               --------------  -----  \n",
            " 0   Currency             2787 non-null   object \n",
            " 1   Closing Price (USD)  2787 non-null   float64\n",
            " 2   24h Open (USD)       2787 non-null   float64\n",
            " 3   24h High (USD)       2787 non-null   float64\n",
            " 4   24h Low (USD)        2787 non-null   float64\n",
            "dtypes: float64(4), object(1)\n",
            "memory usage: 130.6+ KB\n"
          ]
        }
      ]
    },
    {
      "cell_type": "code",
      "source": [
        "# How many samples do we have\n",
        "len(df)"
      ],
      "metadata": {
        "colab": {
          "base_uri": "https://localhost:8080/"
        },
        "id": "UKly8vHeA9VH",
        "outputId": "b693858a-7a92-406f-e616-7ca59839e229"
      },
      "execution_count": 58,
      "outputs": [
        {
          "output_type": "execute_result",
          "data": {
            "text/plain": [
              "2787"
            ]
          },
          "metadata": {},
          "execution_count": 58
        }
      ]
    },
    {
      "cell_type": "markdown",
      "source": [
        "> **Note**: **Seasonality** pf a time series data is referd as the number of samples per year. For outr BitCoin prediction the seasonality is of daily so we will have 365 data per year"
      ],
      "metadata": {
        "id": "Iqk1eZeABvBF"
      }
    },
    {
      "cell_type": "code",
      "source": [
        "# Creating a new dataframe\n",
        "bitcoin_prices = pd.DataFrame(df['Closing Price (USD)']).rename(columns= {'Closing Price (USD)': 'Price'})\n",
        "bitcoin_prices.head()"
      ],
      "metadata": {
        "colab": {
          "base_uri": "https://localhost:8080/",
          "height": 235
        },
        "id": "STpYPZXFCGON",
        "outputId": "08e74b07-4199-4553-9ed9-583cdbb79843"
      },
      "execution_count": 59,
      "outputs": [
        {
          "output_type": "execute_result",
          "data": {
            "text/plain": [
              "                Price\n",
              "Date                 \n",
              "2013-10-01  123.65499\n",
              "2013-10-02  125.45500\n",
              "2013-10-03  108.58483\n",
              "2013-10-04  118.67466\n",
              "2013-10-05  121.33866"
            ],
            "text/html": [
              "\n",
              "  <div id=\"df-522c88d3-99e8-4da3-9ff7-95bd7668f106\" class=\"colab-df-container\">\n",
              "    <div>\n",
              "<style scoped>\n",
              "    .dataframe tbody tr th:only-of-type {\n",
              "        vertical-align: middle;\n",
              "    }\n",
              "\n",
              "    .dataframe tbody tr th {\n",
              "        vertical-align: top;\n",
              "    }\n",
              "\n",
              "    .dataframe thead th {\n",
              "        text-align: right;\n",
              "    }\n",
              "</style>\n",
              "<table border=\"1\" class=\"dataframe\">\n",
              "  <thead>\n",
              "    <tr style=\"text-align: right;\">\n",
              "      <th></th>\n",
              "      <th>Price</th>\n",
              "    </tr>\n",
              "    <tr>\n",
              "      <th>Date</th>\n",
              "      <th></th>\n",
              "    </tr>\n",
              "  </thead>\n",
              "  <tbody>\n",
              "    <tr>\n",
              "      <th>2013-10-01</th>\n",
              "      <td>123.65499</td>\n",
              "    </tr>\n",
              "    <tr>\n",
              "      <th>2013-10-02</th>\n",
              "      <td>125.45500</td>\n",
              "    </tr>\n",
              "    <tr>\n",
              "      <th>2013-10-03</th>\n",
              "      <td>108.58483</td>\n",
              "    </tr>\n",
              "    <tr>\n",
              "      <th>2013-10-04</th>\n",
              "      <td>118.67466</td>\n",
              "    </tr>\n",
              "    <tr>\n",
              "      <th>2013-10-05</th>\n",
              "      <td>121.33866</td>\n",
              "    </tr>\n",
              "  </tbody>\n",
              "</table>\n",
              "</div>\n",
              "    <div class=\"colab-df-buttons\">\n",
              "\n",
              "  <div class=\"colab-df-container\">\n",
              "    <button class=\"colab-df-convert\" onclick=\"convertToInteractive('df-522c88d3-99e8-4da3-9ff7-95bd7668f106')\"\n",
              "            title=\"Convert this dataframe to an interactive table.\"\n",
              "            style=\"display:none;\">\n",
              "\n",
              "  <svg xmlns=\"http://www.w3.org/2000/svg\" height=\"24px\" viewBox=\"0 -960 960 960\">\n",
              "    <path d=\"M120-120v-720h720v720H120Zm60-500h600v-160H180v160Zm220 220h160v-160H400v160Zm0 220h160v-160H400v160ZM180-400h160v-160H180v160Zm440 0h160v-160H620v160ZM180-180h160v-160H180v160Zm440 0h160v-160H620v160Z\"/>\n",
              "  </svg>\n",
              "    </button>\n",
              "\n",
              "  <style>\n",
              "    .colab-df-container {\n",
              "      display:flex;\n",
              "      gap: 12px;\n",
              "    }\n",
              "\n",
              "    .colab-df-convert {\n",
              "      background-color: #E8F0FE;\n",
              "      border: none;\n",
              "      border-radius: 50%;\n",
              "      cursor: pointer;\n",
              "      display: none;\n",
              "      fill: #1967D2;\n",
              "      height: 32px;\n",
              "      padding: 0 0 0 0;\n",
              "      width: 32px;\n",
              "    }\n",
              "\n",
              "    .colab-df-convert:hover {\n",
              "      background-color: #E2EBFA;\n",
              "      box-shadow: 0px 1px 2px rgba(60, 64, 67, 0.3), 0px 1px 3px 1px rgba(60, 64, 67, 0.15);\n",
              "      fill: #174EA6;\n",
              "    }\n",
              "\n",
              "    .colab-df-buttons div {\n",
              "      margin-bottom: 4px;\n",
              "    }\n",
              "\n",
              "    [theme=dark] .colab-df-convert {\n",
              "      background-color: #3B4455;\n",
              "      fill: #D2E3FC;\n",
              "    }\n",
              "\n",
              "    [theme=dark] .colab-df-convert:hover {\n",
              "      background-color: #434B5C;\n",
              "      box-shadow: 0px 1px 3px 1px rgba(0, 0, 0, 0.15);\n",
              "      filter: drop-shadow(0px 1px 2px rgba(0, 0, 0, 0.3));\n",
              "      fill: #FFFFFF;\n",
              "    }\n",
              "  </style>\n",
              "\n",
              "    <script>\n",
              "      const buttonEl =\n",
              "        document.querySelector('#df-522c88d3-99e8-4da3-9ff7-95bd7668f106 button.colab-df-convert');\n",
              "      buttonEl.style.display =\n",
              "        google.colab.kernel.accessAllowed ? 'block' : 'none';\n",
              "\n",
              "      async function convertToInteractive(key) {\n",
              "        const element = document.querySelector('#df-522c88d3-99e8-4da3-9ff7-95bd7668f106');\n",
              "        const dataTable =\n",
              "          await google.colab.kernel.invokeFunction('convertToInteractive',\n",
              "                                                    [key], {});\n",
              "        if (!dataTable) return;\n",
              "\n",
              "        const docLinkHtml = 'Like what you see? Visit the ' +\n",
              "          '<a target=\"_blank\" href=https://colab.research.google.com/notebooks/data_table.ipynb>data table notebook</a>'\n",
              "          + ' to learn more about interactive tables.';\n",
              "        element.innerHTML = '';\n",
              "        dataTable['output_type'] = 'display_data';\n",
              "        await google.colab.output.renderOutput(dataTable, element);\n",
              "        const docLink = document.createElement('div');\n",
              "        docLink.innerHTML = docLinkHtml;\n",
              "        element.appendChild(docLink);\n",
              "      }\n",
              "    </script>\n",
              "  </div>\n",
              "\n",
              "\n",
              "<div id=\"df-075a210f-1675-4853-bd0a-685821dcb802\">\n",
              "  <button class=\"colab-df-quickchart\" onclick=\"quickchart('df-075a210f-1675-4853-bd0a-685821dcb802')\"\n",
              "            title=\"Suggest charts\"\n",
              "            style=\"display:none;\">\n",
              "\n",
              "<svg xmlns=\"http://www.w3.org/2000/svg\" height=\"24px\"viewBox=\"0 0 24 24\"\n",
              "     width=\"24px\">\n",
              "    <g>\n",
              "        <path d=\"M19 3H5c-1.1 0-2 .9-2 2v14c0 1.1.9 2 2 2h14c1.1 0 2-.9 2-2V5c0-1.1-.9-2-2-2zM9 17H7v-7h2v7zm4 0h-2V7h2v10zm4 0h-2v-4h2v4z\"/>\n",
              "    </g>\n",
              "</svg>\n",
              "  </button>\n",
              "\n",
              "<style>\n",
              "  .colab-df-quickchart {\n",
              "      --bg-color: #E8F0FE;\n",
              "      --fill-color: #1967D2;\n",
              "      --hover-bg-color: #E2EBFA;\n",
              "      --hover-fill-color: #174EA6;\n",
              "      --disabled-fill-color: #AAA;\n",
              "      --disabled-bg-color: #DDD;\n",
              "  }\n",
              "\n",
              "  [theme=dark] .colab-df-quickchart {\n",
              "      --bg-color: #3B4455;\n",
              "      --fill-color: #D2E3FC;\n",
              "      --hover-bg-color: #434B5C;\n",
              "      --hover-fill-color: #FFFFFF;\n",
              "      --disabled-bg-color: #3B4455;\n",
              "      --disabled-fill-color: #666;\n",
              "  }\n",
              "\n",
              "  .colab-df-quickchart {\n",
              "    background-color: var(--bg-color);\n",
              "    border: none;\n",
              "    border-radius: 50%;\n",
              "    cursor: pointer;\n",
              "    display: none;\n",
              "    fill: var(--fill-color);\n",
              "    height: 32px;\n",
              "    padding: 0;\n",
              "    width: 32px;\n",
              "  }\n",
              "\n",
              "  .colab-df-quickchart:hover {\n",
              "    background-color: var(--hover-bg-color);\n",
              "    box-shadow: 0 1px 2px rgba(60, 64, 67, 0.3), 0 1px 3px 1px rgba(60, 64, 67, 0.15);\n",
              "    fill: var(--button-hover-fill-color);\n",
              "  }\n",
              "\n",
              "  .colab-df-quickchart-complete:disabled,\n",
              "  .colab-df-quickchart-complete:disabled:hover {\n",
              "    background-color: var(--disabled-bg-color);\n",
              "    fill: var(--disabled-fill-color);\n",
              "    box-shadow: none;\n",
              "  }\n",
              "\n",
              "  .colab-df-spinner {\n",
              "    border: 2px solid var(--fill-color);\n",
              "    border-color: transparent;\n",
              "    border-bottom-color: var(--fill-color);\n",
              "    animation:\n",
              "      spin 1s steps(1) infinite;\n",
              "  }\n",
              "\n",
              "  @keyframes spin {\n",
              "    0% {\n",
              "      border-color: transparent;\n",
              "      border-bottom-color: var(--fill-color);\n",
              "      border-left-color: var(--fill-color);\n",
              "    }\n",
              "    20% {\n",
              "      border-color: transparent;\n",
              "      border-left-color: var(--fill-color);\n",
              "      border-top-color: var(--fill-color);\n",
              "    }\n",
              "    30% {\n",
              "      border-color: transparent;\n",
              "      border-left-color: var(--fill-color);\n",
              "      border-top-color: var(--fill-color);\n",
              "      border-right-color: var(--fill-color);\n",
              "    }\n",
              "    40% {\n",
              "      border-color: transparent;\n",
              "      border-right-color: var(--fill-color);\n",
              "      border-top-color: var(--fill-color);\n",
              "    }\n",
              "    60% {\n",
              "      border-color: transparent;\n",
              "      border-right-color: var(--fill-color);\n",
              "    }\n",
              "    80% {\n",
              "      border-color: transparent;\n",
              "      border-right-color: var(--fill-color);\n",
              "      border-bottom-color: var(--fill-color);\n",
              "    }\n",
              "    90% {\n",
              "      border-color: transparent;\n",
              "      border-bottom-color: var(--fill-color);\n",
              "    }\n",
              "  }\n",
              "</style>\n",
              "\n",
              "  <script>\n",
              "    async function quickchart(key) {\n",
              "      const quickchartButtonEl =\n",
              "        document.querySelector('#' + key + ' button');\n",
              "      quickchartButtonEl.disabled = true;  // To prevent multiple clicks.\n",
              "      quickchartButtonEl.classList.add('colab-df-spinner');\n",
              "      try {\n",
              "        const charts = await google.colab.kernel.invokeFunction(\n",
              "            'suggestCharts', [key], {});\n",
              "      } catch (error) {\n",
              "        console.error('Error during call to suggestCharts:', error);\n",
              "      }\n",
              "      quickchartButtonEl.classList.remove('colab-df-spinner');\n",
              "      quickchartButtonEl.classList.add('colab-df-quickchart-complete');\n",
              "    }\n",
              "    (() => {\n",
              "      let quickchartButtonEl =\n",
              "        document.querySelector('#df-075a210f-1675-4853-bd0a-685821dcb802 button');\n",
              "      quickchartButtonEl.style.display =\n",
              "        google.colab.kernel.accessAllowed ? 'block' : 'none';\n",
              "    })();\n",
              "  </script>\n",
              "</div>\n",
              "\n",
              "    </div>\n",
              "  </div>\n"
            ],
            "application/vnd.google.colaboratory.intrinsic+json": {
              "type": "dataframe",
              "variable_name": "bitcoin_prices",
              "summary": "{\n  \"name\": \"bitcoin_prices\",\n  \"rows\": 2787,\n  \"fields\": [\n    {\n      \"column\": \"Date\",\n      \"properties\": {\n        \"dtype\": \"date\",\n        \"min\": \"2013-10-01 00:00:00\",\n        \"max\": \"2021-05-18 00:00:00\",\n        \"num_unique_values\": 2787,\n        \"samples\": [\n          \"2019-06-11 00:00:00\",\n          \"2021-05-03 00:00:00\",\n          \"2017-10-05 00:00:00\"\n        ],\n        \"semantic_type\": \"\",\n        \"description\": \"\"\n      }\n    },\n    {\n      \"column\": \"Price\",\n      \"properties\": {\n        \"dtype\": \"number\",\n        \"std\": 10887.84744436952,\n        \"min\": 108.58483,\n        \"max\": 63346.7890351052,\n        \"num_unique_values\": 2787,\n        \"samples\": [\n          7954.0062377205,\n          56427.0431250152,\n          4186.78374\n        ],\n        \"semantic_type\": \"\",\n        \"description\": \"\"\n      }\n    }\n  ]\n}"
            }
          },
          "metadata": {},
          "execution_count": 59
        }
      ]
    },
    {
      "cell_type": "code",
      "source": [
        "import matplotlib.pyplot as plt\n",
        "bitcoin_prices.plot(figsize= (10, 7))\n",
        "plt.ylabel(\"BTC Price\")\n",
        "plt.title(\"Price of Bitcoin from 1 October 2013 to 18 May 2021\", fontsize= 16)"
      ],
      "metadata": {
        "colab": {
          "base_uri": "https://localhost:8080/",
          "height": 488
        },
        "id": "InButBVdFUqe",
        "outputId": "cdc10171-259d-44bf-d8cc-589d23f59d40"
      },
      "execution_count": 60,
      "outputs": [
        {
          "output_type": "execute_result",
          "data": {
            "text/plain": [
              "Text(0.5, 1.0, 'Price of Bitcoin from 1 October 2013 to 18 May 2021')"
            ]
          },
          "metadata": {},
          "execution_count": 60
        },
        {
          "output_type": "display_data",
          "data": {
            "text/plain": [
              "<Figure size 1000x700 with 1 Axes>"
            ],
            "image/png": "[encoded data removed]"
          },
          "metadata": {}
        }
      ]
    },
    {
      "cell_type": "markdown",
      "source": [
        "## Importing time series data using csv module"
      ],
      "metadata": {
        "id": "42KdyvmQGhn9"
      }
    },
    {
      "cell_type": "code",
      "source": [
        "# Importing historical data with csv module\n",
        "import csv\n",
        "from datetime import datetime\n",
        "\n",
        "timesteps = []\n",
        "btc_price = []\n",
        "with open(\"/content/BTC_USD_2013-10-01_2021-05-18-CoinDesk.csv\", 'r') as f:\n",
        "  csv_reader = csv.reader(f, delimiter= ',')\n",
        "  next(csv_reader) # This skips the header\n",
        "  for line in csv_reader:\n",
        "    timesteps.append(datetime.strptime(line[1], '%Y-%m-%d')) # get the dates as dates and not string\n",
        "    btc_price.append(float(line[2])) # get closing price\n",
        "\n",
        "# View first 10 of each\n",
        "timesteps[:10], btc_price[:10]\n"
      ],
      "metadata": {
        "colab": {
          "base_uri": "https://localhost:8080/"
        },
        "id": "4Ec-wNiLGqGw",
        "outputId": "69de9c57-e3d8-46cb-8ab7-54ebdbeb67b0"
      },
      "execution_count": 61,
      "outputs": [
        {
          "output_type": "execute_result",
          "data": {
            "text/plain": [
              "([datetime.datetime(2013, 10, 1, 0, 0),\n",
              "  datetime.datetime(2013, 10, 2, 0, 0),\n",
              "  datetime.datetime(2013, 10, 3, 0, 0),\n",
              "  datetime.datetime(2013, 10, 4, 0, 0),\n",
              "  datetime.datetime(2013, 10, 5, 0, 0),\n",
              "  datetime.datetime(2013, 10, 6, 0, 0),\n",
              "  datetime.datetime(2013, 10, 7, 0, 0),\n",
              "  datetime.datetime(2013, 10, 8, 0, 0),\n",
              "  datetime.datetime(2013, 10, 9, 0, 0),\n",
              "  datetime.datetime(2013, 10, 10, 0, 0)],\n",
              " [123.65499,\n",
              "  125.455,\n",
              "  108.58483,\n",
              "  118.67466,\n",
              "  121.33866,\n",
              "  120.65533,\n",
              "  121.795,\n",
              "  123.033,\n",
              "  124.049,\n",
              "  125.96116])"
            ]
          },
          "metadata": {},
          "execution_count": 61
        }
      ]
    },
    {
      "cell_type": "code",
      "source": [
        "# Plot from the above data\n",
        "plt.figure(figsize= (10, 7))\n",
        "plt.plot(timesteps, btc_price)\n",
        "plt.title('Price of Bitcoin from 1 October 2013 to 18 May 2021')"
      ],
      "metadata": {
        "colab": {
          "base_uri": "https://localhost:8080/",
          "height": 483
        },
        "id": "D4DZ_F6NK3wf",
        "outputId": "1e1d4978-c8e2-4af6-99cb-90049e0dd35a"
      },
      "execution_count": 62,
      "outputs": [
        {
          "output_type": "execute_result",
          "data": {
            "text/plain": [
              "Text(0.5, 1.0, 'Price of Bitcoin from 1 October 2013 to 18 May 2021')"
            ]
          },
          "metadata": {},
          "execution_count": 62
        },
        {
          "output_type": "display_data",
          "data": {
            "text/plain": [
              "<Figure size 1000x700 with 1 Axes>"
            ],
            "image/png": "[encoded data removed]"
          },
          "metadata": {}
        }
      ]
    },
    {
      "cell_type": "markdown",
      "source": [
        "## Format data Part 1: Create train and test splits"
      ],
      "metadata": {
        "id": "734w6I5HNa4g"
      }
    },
    {
      "cell_type": "markdown",
      "source": [
        "### Creating train and test sets with time series data (the wrong way)"
      ],
      "metadata": {
        "id": "-NKrWl68OP9m"
      }
    },
    {
      "cell_type": "code",
      "source": [
        "# Get the bitcoin date array\n",
        "timesteps = bitcoin_prices.index.to_numpy()\n",
        "prices = bitcoin_prices['Price'].to_numpy()\n",
        "\n",
        "timesteps[:10], prices[:10]"
      ],
      "metadata": {
        "colab": {
          "base_uri": "https://localhost:8080/"
        },
        "id": "a1ELpLvGOcEd",
        "outputId": "0811bd10-0ff8-4249-f730-43c9c9093404"
      },
      "execution_count": 63,
      "outputs": [
        {
          "output_type": "execute_result",
          "data": {
            "text/plain": [
              "(array(['2013-10-01T00:00:00.000000000', '2013-10-02T00:00:00.000000000',\n",
              "        '2013-10-03T00:00:00.000000000', '2013-10-04T00:00:00.000000000',\n",
              "        '2013-10-05T00:00:00.000000000', '2013-10-06T00:00:00.000000000',\n",
              "        '2013-10-07T00:00:00.000000000', '2013-10-08T00:00:00.000000000',\n",
              "        '2013-10-09T00:00:00.000000000', '2013-10-10T00:00:00.000000000'],\n",
              "       dtype='datetime64[ns]'),\n",
              " array([123.65499, 125.455  , 108.58483, 118.67466, 121.33866, 120.65533,\n",
              "        121.795  , 123.033  , 124.049  , 125.96116]))"
            ]
          },
          "metadata": {},
          "execution_count": 63
        }
      ]
    },
    {
      "cell_type": "code",
      "source": [
        "# Wrong way to make train/test sets for time series data\n",
        "from sklearn.model_selection import train_test_split\n",
        "\n",
        "X_train, X_test, y_train, y_test = train_test_split(timesteps, # dates\n",
        "                                                    prices, # BTC prices\n",
        "                                                    test_size= 0.2,\n",
        "                                                    random_state= 42)\n",
        "\n",
        "X_train.shape, X_test.shape, y_train.shape, y_test.shape"
      ],
      "metadata": {
        "colab": {
          "base_uri": "https://localhost:8080/"
        },
        "id": "vFlkXNDLPppC",
        "outputId": "a06cb9b0-369a-4d38-c97e-951b2ef6fe72"
      },
      "execution_count": 64,
      "outputs": [
        {
          "output_type": "execute_result",
          "data": {
            "text/plain": [
              "((2229,), (558,), (2229,), (558,))"
            ]
          },
          "metadata": {},
          "execution_count": 64
        }
      ]
    },
    {
      "cell_type": "code",
      "source": [
        "plt.figure(figsize= (10, 7))\n",
        "plt.scatter(X_train, y_train, s = 5, label= 'Training data')\n",
        "plt.scatter(X_test, y_test, s=5, label= 'Testing data')\n",
        "plt.legend()\n",
        "plt.title('Data scatter plot')"
      ],
      "metadata": {
        "colab": {
          "base_uri": "https://localhost:8080/",
          "height": 483
        },
        "id": "R_y7Tc6PQ0hR",
        "outputId": "cc6925be-1a54-4f7c-d01f-e8f37a9ff125"
      },
      "execution_count": 65,
      "outputs": [
        {
          "output_type": "execute_result",
          "data": {
            "text/plain": [
              "Text(0.5, 1.0, 'Data scatter plot')"
            ]
          },
          "metadata": {},
          "execution_count": 65
        },
        {
          "output_type": "display_data",
          "data": {
            "text/plain": [
              "<Figure size 1000x700 with 1 Axes>"
            ],
            "image/png": "[encoded data removed]"
          },
          "metadata": {}
        }
      ]
    },
    {
      "cell_type": "markdown",
      "source": [
        "### Create train & test sets for time series (right way)"
      ],
      "metadata": {
        "id": "wIFZ544oRyks"
      }
    },
    {
      "cell_type": "code",
      "source": [
        "# Create train test set in the right way\n",
        "split_size = int(0.8 * len(prices))\n",
        "\n",
        "# Create train data splits\n",
        "X_train, y_train = timesteps[: split_size], prices[:split_size]\n",
        "# Create test data splits\n",
        "X_test, y_test = timesteps[split_size:], prices[split_size:]\n",
        "\n",
        "len(X_train), len(X_test), len(y_train), len(y_test)"
      ],
      "metadata": {
        "colab": {
          "base_uri": "https://localhost:8080/"
        },
        "id": "z7YJZKR3SqfJ",
        "outputId": "8a0052f9-fcc5-454a-ac44-2bf3e3a4ff88"
      },
      "execution_count": 66,
      "outputs": [
        {
          "output_type": "execute_result",
          "data": {
            "text/plain": [
              "(2229, 558, 2229, 558)"
            ]
          },
          "metadata": {},
          "execution_count": 66
        }
      ]
    },
    {
      "cell_type": "code",
      "source": [
        "# Plot correctly made splits\n",
        "plt.scatter(X_train, y_train, s=5, label= 'Training data')\n",
        "plt.scatter(X_test, y_test, s=5, label= 'Testing data')\n",
        "plt.legend()\n",
        "plt.title('Data Plot in the right way')"
      ],
      "metadata": {
        "colab": {
          "base_uri": "https://localhost:8080/",
          "height": 469
        },
        "id": "v4vQxgzBUjZG",
        "outputId": "aef3f110-f663-4d28-8f0f-bba33964e2ec"
      },
      "execution_count": 67,
      "outputs": [
        {
          "output_type": "execute_result",
          "data": {
            "text/plain": [
              "Text(0.5, 1.0, 'Data Plot in the right way')"
            ]
          },
          "metadata": {},
          "execution_count": 67
        },
        {
          "output_type": "display_data",
          "data": {
            "text/plain": [
              "<Figure size 640x480 with 1 Axes>"
            ],
            "image/png": "[encoded data removed]"
          },
          "metadata": {}
        }
      ]
    },
    {
      "cell_type": "markdown",
      "source": [
        "## Create a plotting function\n",
        "\n",
        "Typing plotting code is tedious, let's functionize it"
      ],
      "metadata": {
        "id": "1760q1TYOJkY"
      }
    },
    {
      "cell_type": "code",
      "source": [
        "# Create a function to plot time series data\n",
        "def plot_time_series(timesteps, values, format= '.', start= 0, end= None, label= None):\n",
        "  '''\n",
        "  Plots timesteps againste a series of values\n",
        "\n",
        "  Parameters:\n",
        "    timesteps: An array of timesteps value where each record has been stored\n",
        "    values: An array of the data that has been stored\n",
        "    format: for the plotting\n",
        "    start: from which index the user wants to view the plot\n",
        "    end: to which index the user wants to view the plot\n",
        "    label: label given to the plot\n",
        "  '''\n",
        "  # Plot time series data\n",
        "  plt.plot(timesteps[start:end], values[start:end], format, label= label)\n",
        "  plt.xlabel(\"Time\")\n",
        "  plt.ylabel('Price')\n",
        "\n",
        "  if label:\n",
        "    plt.legend(fontsize= 14)\n",
        "\n",
        "  plt.grid(True)"
      ],
      "metadata": {
        "id": "ulp3FUsiOUlM"
      },
      "execution_count": 68,
      "outputs": []
    },
    {
      "cell_type": "code",
      "source": [
        "# Testing out funtion\n",
        "plt.figure(figsize= (10, 7))\n",
        "plot_time_series(X_train, y_train, label= 'Train data')\n",
        "plot_time_series(X_test, y_test, label= 'Test data')"
      ],
      "metadata": {
        "colab": {
          "base_uri": "https://localhost:8080/",
          "height": 453
        },
        "id": "Yb5LBIy6Q5pr",
        "outputId": "4a41cc3c-f0d2-47e0-fa3d-99a392302f35"
      },
      "execution_count": 69,
      "outputs": [
        {
          "output_type": "display_data",
          "data": {
            "text/plain": [
              "<Figure size 1000x700 with 1 Axes>"
            ],
            "image/png": "[encoded data removed]"
          },
          "metadata": {}
        }
      ]
    },
    {
      "cell_type": "markdown",
      "source": [
        "## Experiments\n",
        "\n",
        "We've got our data ready for the modelling experiments. Let's perform the experiments as below:\n",
        "\n",
        "Terms to be familiar with\n",
        "* **Horizon**: number of timesteps we are going to predict in the future\n",
        "* **Window size**: number of timesteps we are going to use to predict\n",
        "\n",
        "0. Naive model (baseline)\n",
        "1. Dense model window= 7, horizon= 1\n",
        "2. Same model as 1 window= 30, horizon= 1\n",
        "3. Same model as 1 window= 30, horizon= 7\n",
        "4. Con1D\n",
        "5. LSTM\n",
        "6. Same as 1 (but as multivariate)\n",
        "7. N-Beats Algorithm\n",
        "8. Ensemble\n",
        "9. Future prediction\n",
        "10. Same as 1 but with turkey problem"
      ],
      "metadata": {
        "id": "i-ySmer1R3fQ"
      }
    },
    {
      "cell_type": "markdown",
      "source": [
        "### Model 0: Naive forecast\n",
        "\n",
        "The formula of the Naive forecast is:\n",
        "\n",
        "$$\\hat{y}_{t} = y_{t-1}$$\n",
        "\n",
        "In English:\n",
        "> The prediction at timestep tis equal to the value at timestep t-1 (this is for horizon 1)\n"
      ],
      "metadata": {
        "id": "j36gC6nLUY5s"
      }
    },
    {
      "cell_type": "code",
      "source": [
        "# Create naive forecast\n",
        "naive_forecast = y_test[:-1]\n",
        "\n",
        "naive_forecast[:10], naive_forecast[-10:]"
      ],
      "metadata": {
        "colab": {
          "base_uri": "https://localhost:8080/"
        },
        "id": "nTq33MmgWxaE",
        "outputId": "a8a929b4-d250-4918-a019-91e56af5c6fd"
      },
      "execution_count": 70,
      "outputs": [
        {
          "output_type": "execute_result",
          "data": {
            "text/plain": [
              "(array([9226.48582088, 8794.35864452, 8798.04205463, 9081.18687849,\n",
              "        8711.53433917, 8760.89271814, 8749.52059102, 8656.97092235,\n",
              "        8500.64355816, 8469.2608989 ]),\n",
              " array([57107.12067189, 58788.20967893, 58102.19142623, 55715.54665129,\n",
              "        56573.5554719 , 52147.82118698, 49764.1320816 , 50032.69313676,\n",
              "        47885.62525472, 45604.61575361]))"
            ]
          },
          "metadata": {},
          "execution_count": 70
        }
      ]
    },
    {
      "cell_type": "code",
      "source": [
        "# Plot naive forecast\n",
        "plt.figure(figsize= (10, 7))\n",
        "# plot_time_series(timesteps= X_train, values= y_train, label= 'Train data')\n",
        "plot_time_series(timesteps= X_test, values= y_test, start= 350, format= '-', label= 'Test data')\n",
        "plot_time_series(timesteps= X_test[1:], values= naive_forecast, start= 350, format= '-', label= 'Naive forecast')\n"
      ],
      "metadata": {
        "colab": {
          "base_uri": "https://localhost:8080/",
          "height": 453
        },
        "id": "DMWuLUPUXIt-",
        "outputId": "ec0b58b5-9173-492a-b253-61b93050fff6"
      },
      "execution_count": 71,
      "outputs": [
        {
          "output_type": "display_data",
          "data": {
            "text/plain": [
              "<Figure size 1000x700 with 1 Axes>"
            ],
            "image/png": "[encoded data removed]"
          },
          "metadata": {}
        }
      ]
    },
    {
      "cell_type": "markdown",
      "source": [
        "> **Exercise**: Spend 10 minutes reading [Forecasting methods](https://otexts.com/fpp3/simple-methods.html) and find out why is it difficult to beat naive forecasting"
      ],
      "metadata": {
        "id": "vnjbijRJYm4p"
      }
    },
    {
      "cell_type": "markdown",
      "source": [
        "## Evauating a time series model\n",
        "\n",
        "Let's look at some evaluation metrics for time series model\n",
        "\n",
        "Since we're working in a regression problem, then we need to use the regression metrics:\n",
        "* MAE\n",
        "* MSE\n",
        "* R2 Score\n",
        "* RMSE\n",
        "* MAPE/sMAPE - (symmetric) mean absolute percentage error\n",
        "* MASE - mean absolute scaled error\n",
        "\n",
        "For all the abover metrics, the *lower the value the better*\n",
        "\n",
        "The main thing is **how our model's forecasts comapre to against the actual value.**"
      ],
      "metadata": {
        "id": "NkcYRB8sZKjO"
      }
    },
    {
      "cell_type": "code",
      "source": [
        "import tensorflow as tf"
      ],
      "metadata": {
        "id": "QdhUZDsCZfMr"
      },
      "execution_count": 72,
      "outputs": []
    },
    {
      "cell_type": "code",
      "source": [
        "# MASE implementation\n",
        "def mase(y_true, y_pred):\n",
        "  '''\n",
        "  Implementing MASE (assuming that there is no seasonality of data)\n",
        "  '''\n",
        "\n",
        "  mae = tf.reduce_mean(tf.abs(y_true - y_pred))\n",
        "\n",
        "  # Find MAE of naive forecast (no seasonality)\n",
        "  mae_naive_no_season = tf.reduce_mean(tf.abs(y_true[1:] - y_true[:-1])) # out seasonality is one day hence the shift of one day\n",
        "\n",
        "  return mae / mae_naive_no_season"
      ],
      "metadata": {
        "id": "j4dSrPOvfhib"
      },
      "execution_count": 73,
      "outputs": []
    },
    {
      "cell_type": "code",
      "source": [
        "mase(y_true= y_test[1:], y_pred= naive_forecast)"
      ],
      "metadata": {
        "colab": {
          "base_uri": "https://localhost:8080/"
        },
        "id": "WzvI51tYg5lB",
        "outputId": "635fa510-05fe-4171-cf04-1243c03bff55"
      },
      "execution_count": 74,
      "outputs": [
        {
          "output_type": "execute_result",
          "data": {
            "text/plain": [
              "<tf.Tensor: shape=(), dtype=float64, numpy=0.9995699939182624>"
            ]
          },
          "metadata": {},
          "execution_count": 74
        }
      ]
    },
    {
      "cell_type": "code",
      "source": [
        "def evaluate_pred(y_true, y_pred):\n",
        "  y_true= tf.cast(y_true, dtype= tf.float32)\n",
        "  y_pred = tf.cast(y_pred, dtype= tf.float32)\n",
        "  return {\n",
        "      'MAE': tf.keras.metrics.mean_absolute_error(y_true, y_pred).numpy(),\n",
        "      'MSE': tf.keras.metrics.mean_squared_error(y_true, y_pred).numpy(),\n",
        "      'RMSE': tf.math.sqrt(tf.keras.metrics.mean_squared_error(y_true, y_pred)).numpy(),\n",
        "      'MAPE': tf.keras.metrics.mean_absolute_percentage_error(y_true, y_pred).numpy(),\n",
        "      \"MASE\": mase(y_true, y_pred).numpy()\n",
        "  }"
      ],
      "metadata": {
        "id": "Ze4sy21-hYOz"
      },
      "execution_count": 75,
      "outputs": []
    },
    {
      "cell_type": "code",
      "source": [
        "naive_results = evaluate_pred(y_true= y_test[1:],\n",
        "                              y_pred= naive_forecast)\n",
        "\n",
        "naive_results"
      ],
      "metadata": {
        "colab": {
          "base_uri": "https://localhost:8080/"
        },
        "id": "JN4jlC_cjrkg",
        "outputId": "654398e3-1a67-4fe3-fea1-16fb8c5dc4ec"
      },
      "execution_count": 76,
      "outputs": [
        {
          "output_type": "execute_result",
          "data": {
            "text/plain": [
              "{'MAE': 567.9802,\n",
              " 'MSE': 1147547.0,\n",
              " 'RMSE': 1071.2362,\n",
              " 'MAPE': 2.516525,\n",
              " 'MASE': 0.99957}"
            ]
          },
          "metadata": {},
          "execution_count": 76
        }
      ]
    },
    {
      "cell_type": "markdown",
      "source": [
        "## Other models you can use as baseline\n",
        "\n",
        "There are many other models to use timeseries forecasting otehr than tensorflow"
      ],
      "metadata": {
        "id": "zu1-432ZutJN"
      }
    },
    {
      "cell_type": "markdown",
      "source": [
        "## Format Data Part 2: Windowing our dataset\n",
        "\n",
        "We window our dataset so that we can covert our dataset into a supervised dataset\n",
        "\n",
        "```\n",
        "Windowing for one week\n",
        "[0, 1, 2, 3, 4, 5, 6] -> [7]\n",
        "[1, 2, 3, 4, 5, 6, 7] -> [8]\n",
        "[2, 3, 4, 5, 6, 7, 8] -> [9]\n",
        "```"
      ],
      "metadata": {
        "id": "x87AqP_OvY1D"
      }
    },
    {
      "cell_type": "code",
      "source": [
        "len(y_train)"
      ],
      "metadata": {
        "colab": {
          "base_uri": "https://localhost:8080/"
        },
        "id": "LCGacR5wwuNO",
        "outputId": "5626f6fa-8705-46e6-a067-bb1dabd6eacf"
      },
      "execution_count": 77,
      "outputs": [
        {
          "output_type": "execute_result",
          "data": {
            "text/plain": [
              "2229"
            ]
          },
          "metadata": {},
          "execution_count": 77
        }
      ]
    },
    {
      "cell_type": "code",
      "source": [
        "# What we want to do to our data\n",
        "print(f\"We want to use: {btc_price[:7]} to predict: {btc_price[7]}\")"
      ],
      "metadata": {
        "colab": {
          "base_uri": "https://localhost:8080/"
        },
        "id": "QpzKHg0aw7D6",
        "outputId": "e021ed5b-972b-4aa7-e51f-2e49cf410560"
      },
      "execution_count": 78,
      "outputs": [
        {
          "output_type": "stream",
          "name": "stdout",
          "text": [
            "We want to use: [123.65499, 125.455, 108.58483, 118.67466, 121.33866, 120.65533, 121.795] to predict: 123.033\n"
          ]
        }
      ]
    },
    {
      "cell_type": "code",
      "source": [
        "# Let's setup a global variables for window and horizon size\n",
        "HORIZON_SIZE = 1 # we need to predict next one day\n",
        "WINDOW_SIZE = 7 # these are the past days we neet to look to predict"
      ],
      "metadata": {
        "id": "LxYp1dMgxQQe"
      },
      "execution_count": 79,
      "outputs": []
    },
    {
      "cell_type": "code",
      "source": [
        "# Create function to label windowed data\n",
        "def get_label_window(x, horizon= HORIZON_SIZE):\n",
        "  '''\n",
        "  Creates label for windowde dataset.\n",
        "\n",
        "  Eg: if horizon = 1\n",
        "  [0, 1, 2, 3, 4, 5, 6] -> [7]\n",
        "  '''\n",
        "\n",
        "  return x[:, :-horizon], x[:, -horizon:]"
      ],
      "metadata": {
        "id": "_x999-Jgxqln"
      },
      "execution_count": 80,
      "outputs": []
    },
    {
      "cell_type": "code",
      "source": [
        "# Test out the window labelling function\n",
        "test_window, test_label = get_label_window(tf.expand_dims(tf.range(8) + 1, axis= 0))\n",
        "print(f\"Wiindow: {test_window.numpy()} -> Label: {test_label.numpy()}\")"
      ],
      "metadata": {
        "colab": {
          "base_uri": "https://localhost:8080/"
        },
        "id": "QZd8y1G8y6rf",
        "outputId": "0661b656-8b2f-40e5-8a67-c48d55c79716"
      },
      "execution_count": 81,
      "outputs": [
        {
          "output_type": "stream",
          "name": "stdout",
          "text": [
            "Wiindow: [[1 2 3 4 5 6 7]] -> Label: [[8]]\n"
          ]
        }
      ]
    },
    {
      "cell_type": "code",
      "source": [
        "tf.expand_dims(tf.range(8) + 1, axis= 0)"
      ],
      "metadata": {
        "id": "KpA0ln_9zTvf",
        "outputId": "da6d2ae6-e1c1-462f-b0ef-b211903f1549",
        "colab": {
          "base_uri": "https://localhost:8080/"
        }
      },
      "execution_count": 82,
      "outputs": [
        {
          "output_type": "execute_result",
          "data": {
            "text/plain": [
              "<tf.Tensor: shape=(1, 8), dtype=int32, numpy=array([[1, 2, 3, 4, 5, 6, 7, 8]], dtype=int32)>"
            ]
          },
          "metadata": {},
          "execution_count": 82
        }
      ]
    },
    {
      "cell_type": "markdown",
      "source": [
        "We've got a way to label our windowed data\n",
        "\n",
        "However, this only owrks on a small circle\n",
        "\n",
        "We need a way to do this to over entire data\n",
        "\n",
        "We could do this using loops, however, for larger data it might take long time. Hence, to speed things up we will use Numpy array indexing.\n",
        "\n",
        "Our function will:\n",
        "1. Create a window step of specified window size\n",
        "2. Use Numpy indexin to create a 2D array of multiple window steps, for eg:\n",
        "```\n",
        "[[0, 1, 2, 3, 4, 5, 6],\n",
        "[1, 2, 3, 4, 5, 6, 7],\n",
        "[2, 3, 4, 5, 6, 7, 8]]\n",
        "```\n",
        "3. Uses the 2D array of multiple window steps to inde on a target series\n",
        "4. Uses our `get_label_window()` fuinction we created above to turn the window steps into windows witha specified horizon\n"
      ],
      "metadata": {
        "id": "At5czAP905lI"
      }
    },
    {
      "cell_type": "code",
      "source": [
        "import numpy as np\n",
        "# Create function to view Numpy arrays as windows\n",
        "def make_windows(x, window_size= WINDOW_SIZE, horizon= HORIZON_SIZE):\n",
        "  '''\n",
        "  Turns a 1D array into a 2D array of sequential labelled window_size with hroizon size labels\n",
        "  '''\n",
        "\n",
        "  # 1. Create a window of specific windo_size (add the horizon on the end of the labelling later)\n",
        "  window_step = np.expand_dims(np.arange(window_size + horizon), axis= 0)\n",
        "\n",
        "  # 2. Create a 2D arrya of multiple window steps (minu 1 to account for 0 indexing)\n",
        "  window_indices = window_step + np.expand_dims(np.arange(len(x) - (window_size + horizon - 1)), axis= 0).T # create 2D array of windows of size window_size\n",
        "\n",
        "  # print(f\"Window indices: \\n {window_indices, window_indices.shape}\")\n",
        "\n",
        "  # 3. Index on the target array with 2D array of multiple window steps\n",
        "  window_array = x[window_indices]\n",
        "  # print(window_array)\n",
        "\n",
        "  # 4. Get the labelled windows\n",
        "  windows, labels = get_label_window(window_array, horizon= horizon)\n",
        "\n",
        "  return windows, labels"
      ],
      "metadata": {
        "id": "OzJ0uGvS2fPf"
      },
      "execution_count": 83,
      "outputs": []
    },
    {
      "cell_type": "code",
      "source": [
        "full_windows, full_labels = make_windows(prices, window_size= WINDOW_SIZE, horizon= HORIZON_SIZE)\n",
        "len(full_windows), len(full_labels)"
      ],
      "metadata": {
        "colab": {
          "base_uri": "https://localhost:8080/"
        },
        "id": "gh2wC5aeAMTr",
        "outputId": "faebf636-f578-4ec5-bfca-5989bbd46f3f"
      },
      "execution_count": 84,
      "outputs": [
        {
          "output_type": "execute_result",
          "data": {
            "text/plain": [
              "(2780, 2780)"
            ]
          },
          "metadata": {},
          "execution_count": 84
        }
      ]
    },
    {
      "cell_type": "code",
      "source": [
        "# View first 3 windows\n",
        "for i in range(3):\n",
        "  print(f\"Windows: {full_windows[i]} -> Labels {full_labels[i]}\")"
      ],
      "metadata": {
        "colab": {
          "base_uri": "https://localhost:8080/"
        },
        "id": "p41-waFHBtHW",
        "outputId": "2ad85b32-b2fd-482d-8b17-88bfd8f80896"
      },
      "execution_count": 85,
      "outputs": [
        {
          "output_type": "stream",
          "name": "stdout",
          "text": [
            "Windows: [123.65499 125.455   108.58483 118.67466 121.33866 120.65533 121.795  ] -> Labels [123.033]\n",
            "Windows: [125.455   108.58483 118.67466 121.33866 120.65533 121.795   123.033  ] -> Labels [124.049]\n",
            "Windows: [108.58483 118.67466 121.33866 120.65533 121.795   123.033   124.049  ] -> Labels [125.96116]\n"
          ]
        }
      ]
    },
    {
      "cell_type": "code",
      "source": [
        "# View last 3 windows\n",
        "for i in range(3):\n",
        "  print(f\"Windows: {full_windows[i - 3]} -> Labels: {full_labels[i - 3]}\")"
      ],
      "metadata": {
        "colab": {
          "base_uri": "https://localhost:8080/"
        },
        "id": "V5q6qsbHCvFH",
        "outputId": "dfcb1092-6e3b-4d39-d0db-6dc562c4bff1"
      },
      "execution_count": 86,
      "outputs": [
        {
          "output_type": "stream",
          "name": "stdout",
          "text": [
            "Windows: [58788.20967893 58102.19142623 55715.54665129 56573.5554719\n",
            " 52147.82118698 49764.1320816  50032.69313676] -> Labels: [47885.62525472]\n",
            "Windows: [58102.19142623 55715.54665129 56573.5554719  52147.82118698\n",
            " 49764.1320816  50032.69313676 47885.62525472] -> Labels: [45604.61575361]\n",
            "Windows: [55715.54665129 56573.5554719  52147.82118698 49764.1320816\n",
            " 50032.69313676 47885.62525472 45604.61575361] -> Labels: [43144.47129086]\n"
          ]
        }
      ]
    },
    {
      "cell_type": "markdown",
      "source": [
        "> **Note**: We can perform the above steps from the function refered in the below link: https://www.tensorflow.org/api_docs/python/tf/keras/utils/timeseries_dataset_from_array"
      ],
      "metadata": {
        "id": "geHgMrGfDJfL"
      }
    },
    {
      "cell_type": "markdown",
      "source": [
        "## Turning windows into training and test sets"
      ],
      "metadata": {
        "id": "7OTaI12CDsNw"
      }
    },
    {
      "cell_type": "code",
      "source": [
        "# Make train/test splits\n",
        "def make_train_Test_splits(windows, labels, test_split= 0.2):\n",
        "  '''\n",
        "  Splits matching pairs of windows and labels into train and test splits\n",
        "  '''\n",
        "\n",
        "  split_size = int(len(windows) * (1 - test_split))\n",
        "  train_windows = windows[:split_size]\n",
        "  train_labels = labels[:split_size]\n",
        "  test_windows = windows[split_size:]\n",
        "  test_labels = labels[split_size:]\n",
        "\n",
        "  return train_windows, test_windows, train_labels, test_labels"
      ],
      "metadata": {
        "id": "JXrDvkwGD6mo"
      },
      "execution_count": 87,
      "outputs": []
    },
    {
      "cell_type": "code",
      "source": [
        "# Create train and test windows\n",
        "train_windows, test_windows, train_labels, test_labels = make_train_Test_splits(full_windows, full_labels)\n",
        "\n",
        "len(train_windows), len(test_windows), len(train_labels), len(test_labels)"
      ],
      "metadata": {
        "colab": {
          "base_uri": "https://localhost:8080/"
        },
        "id": "X3_LbNv2E6pM",
        "outputId": "dff13fff-f516-44c6-fe3e-c5b2873ccef9"
      },
      "execution_count": 88,
      "outputs": [
        {
          "output_type": "execute_result",
          "data": {
            "text/plain": [
              "(2224, 556, 2224, 556)"
            ]
          },
          "metadata": {},
          "execution_count": 88
        }
      ]
    },
    {
      "cell_type": "code",
      "source": [
        "train_windows[:5], train_labels[:5]"
      ],
      "metadata": {
        "colab": {
          "base_uri": "https://localhost:8080/"
        },
        "id": "n_NbIKWKFTGc",
        "outputId": "94528169-1025-4ce6-cc3b-dd4c16c75398"
      },
      "execution_count": 89,
      "outputs": [
        {
          "output_type": "execute_result",
          "data": {
            "text/plain": [
              "(array([[123.65499, 125.455  , 108.58483, 118.67466, 121.33866, 120.65533,\n",
              "         121.795  ],\n",
              "        [125.455  , 108.58483, 118.67466, 121.33866, 120.65533, 121.795  ,\n",
              "         123.033  ],\n",
              "        [108.58483, 118.67466, 121.33866, 120.65533, 121.795  , 123.033  ,\n",
              "         124.049  ],\n",
              "        [118.67466, 121.33866, 120.65533, 121.795  , 123.033  , 124.049  ,\n",
              "         125.96116],\n",
              "        [121.33866, 120.65533, 121.795  , 123.033  , 124.049  , 125.96116,\n",
              "         125.27966]]),\n",
              " array([[123.033  ],\n",
              "        [124.049  ],\n",
              "        [125.96116],\n",
              "        [125.27966],\n",
              "        [125.9275 ]]))"
            ]
          },
          "metadata": {},
          "execution_count": 89
        }
      ]
    },
    {
      "cell_type": "code",
      "source": [
        "test_windows[:5], test_windows[:5]"
      ],
      "metadata": {
        "colab": {
          "base_uri": "https://localhost:8080/"
        },
        "id": "_pl83HYsFXsj",
        "outputId": "e3021c5e-1d7d-4c03-a388-81d4fe95b7d6"
      },
      "execution_count": 90,
      "outputs": [
        {
          "output_type": "execute_result",
          "data": {
            "text/plain": [
              "(array([[9290.89660239, 9202.41545055, 9369.62808116, 9326.59962378,\n",
              "         9335.75240233, 9226.48582088, 8794.35864452],\n",
              "        [9202.41545055, 9369.62808116, 9326.59962378, 9335.75240233,\n",
              "         9226.48582088, 8794.35864452, 8798.04205463],\n",
              "        [9369.62808116, 9326.59962378, 9335.75240233, 9226.48582088,\n",
              "         8794.35864452, 8798.04205463, 9081.18687849],\n",
              "        [9326.59962378, 9335.75240233, 9226.48582088, 8794.35864452,\n",
              "         8798.04205463, 9081.18687849, 8711.53433917],\n",
              "        [9335.75240233, 9226.48582088, 8794.35864452, 8798.04205463,\n",
              "         9081.18687849, 8711.53433917, 8760.89271814]]),\n",
              " array([[9290.89660239, 9202.41545055, 9369.62808116, 9326.59962378,\n",
              "         9335.75240233, 9226.48582088, 8794.35864452],\n",
              "        [9202.41545055, 9369.62808116, 9326.59962378, 9335.75240233,\n",
              "         9226.48582088, 8794.35864452, 8798.04205463],\n",
              "        [9369.62808116, 9326.59962378, 9335.75240233, 9226.48582088,\n",
              "         8794.35864452, 8798.04205463, 9081.18687849],\n",
              "        [9326.59962378, 9335.75240233, 9226.48582088, 8794.35864452,\n",
              "         8798.04205463, 9081.18687849, 8711.53433917],\n",
              "        [9335.75240233, 9226.48582088, 8794.35864452, 8798.04205463,\n",
              "         9081.18687849, 8711.53433917, 8760.89271814]]))"
            ]
          },
          "metadata": {},
          "execution_count": 90
        }
      ]
    },
    {
      "cell_type": "code",
      "source": [
        "# Check to see if the train labels are the same\n",
        "np.array_equal(np.squeeze(train_labels[:-HORIZON_SIZE - 1]), y_train[WINDOW_SIZE:])"
      ],
      "metadata": {
        "colab": {
          "base_uri": "https://localhost:8080/"
        },
        "id": "eW0BBUK0FeBO",
        "outputId": "df519e0b-5515-4c27-eab5-7db7a2e06ec1"
      },
      "execution_count": 91,
      "outputs": [
        {
          "output_type": "execute_result",
          "data": {
            "text/plain": [
              "True"
            ]
          },
          "metadata": {},
          "execution_count": 91
        }
      ]
    },
    {
      "cell_type": "markdown",
      "source": [
        "## Make a modelling checkpoints\n",
        "\n",
        "Because our model's performance will fluctuate from experiments to experiment, we're going to write a model checkpoit so we can compare with equal conditions.\n",
        "\n",
        "More, specifically, we want to compare each of our model's best performancer against the other modle's best performance"
      ],
      "metadata": {
        "id": "x_ngC_64F0Dk"
      }
    },
    {
      "cell_type": "code",
      "source": [
        "SAVE_DIR= 'bitcoin_models'"
      ],
      "metadata": {
        "id": "_Fg4PPSMGpm0"
      },
      "execution_count": 92,
      "outputs": []
    },
    {
      "cell_type": "code",
      "source": [
        "import os\n",
        "\n",
        "# Create a function to implement a ModelCheckpoint callback with a specific filename\n",
        "def create_model_checkpoint(model_name, save_path= \"model_experiments\"):\n",
        "  return tf.keras.callbacks.ModelCheckpoint(filepath= os.path.join(save_path, model_name),\n",
        "                                            verbose= 0,\n",
        "                                            monitor= 'val_loss',\n",
        "                                            save_best_only= True)"
      ],
      "metadata": {
        "id": "jPiCRVD7Gd8l"
      },
      "execution_count": 93,
      "outputs": []
    },
    {
      "cell_type": "markdown",
      "source": [
        "### Model 1: Dense model (window= 7, horizon= 1)\n",
        "\n",
        "Our first deep model is going to be a simple dense model:\n",
        "* A single dense layer with 128 hidden units and ReLu\n",
        "* An output layer with linear activation\n",
        "* Adam optimization and MAE loss function\n",
        "* Batch size of 128\n",
        "* 100 epochs"
      ],
      "metadata": {
        "id": "HE-e4jjVHd2q"
      }
    },
    {
      "cell_type": "code",
      "source": [
        "from tensorflow.keras import layers"
      ],
      "metadata": {
        "id": "C78werboIsui"
      },
      "execution_count": 94,
      "outputs": []
    },
    {
      "cell_type": "code",
      "source": [
        "inputs = layers.Input(shape= (WINDOW_SIZE, ), name= 'input_layer')\n",
        "x = layers.Dense(128, activation= 'relu', name= 'relu_layer_1')(inputs)\n",
        "outputs = layers.Dense(HORIZON_SIZE, name= 'output')(x)\n",
        "\n",
        "model_1 = tf.keras.Model(inputs, outputs, name= 'model_1_dense')\n",
        "\n",
        "model_1.compile(loss= 'mae',\n",
        "                optimizer= tf.keras.optimizers.Adam(),\n",
        "                metrics= ['mae'])\n",
        "\n",
        "model_1.summary()"
      ],
      "metadata": {
        "colab": {
          "base_uri": "https://localhost:8080/"
        },
        "id": "TDa9mOf7IySe",
        "outputId": "23d9f1c5-6d15-403b-d054-5d84d6a40311"
      },
      "execution_count": 95,
      "outputs": [
        {
          "output_type": "stream",
          "name": "stdout",
          "text": [
            "Model: \"model_1_dense\"\n",
            "_________________________________________________________________\n",
            " Layer (type)                Output Shape              Param #   \n",
            "=================================================================\n",
            " input_layer (InputLayer)    [(None, 7)]               0         \n",
            "                                                                 \n",
            " relu_layer_1 (Dense)        (None, 128)               1024      \n",
            "                                                                 \n",
            " output (Dense)              (None, 1)                 129       \n",
            "                                                                 \n",
            "=================================================================\n",
            "Total params: 1153 (4.50 KB)\n",
            "Trainable params: 1153 (4.50 KB)\n",
            "Non-trainable params: 0 (0.00 Byte)\n",
            "_________________________________________________________________\n"
          ]
        }
      ]
    },
    {
      "cell_type": "code",
      "source": [
        "history_model_1 = model_1.fit(train_windows,\n",
        "                              train_labels,\n",
        "                              epochs= 100,\n",
        "                              verbose= 1,\n",
        "                              batch_size= 128,\n",
        "                              validation_data= (test_windows, test_labels),\n",
        "                              callbacks= [create_model_checkpoint(model_name= model_1.name)])"
      ],
      "metadata": {
        "colab": {
          "base_uri": "https://localhost:8080/"
        },
        "id": "tV_1iXmlJq3j",
        "outputId": "370cc05d-4f18-4084-8ee7-4ac25895dd37"
      },
      "execution_count": 96,
      "outputs": [
        {
          "output_type": "stream",
          "name": "stdout",
          "text": [
            "Epoch 1/100\n",
            "18/18 [==============================] - 1s 33ms/step - loss: 260.0723 - mae: 260.0723 - val_loss: 955.3309 - val_mae: 955.3309\n",
            "Epoch 2/100\n",
            "18/18 [==============================] - 0s 25ms/step - loss: 174.5579 - mae: 174.5579 - val_loss: 928.7430 - val_mae: 928.7429\n",
            "Epoch 3/100\n",
            "18/18 [==============================] - 0s 26ms/step - loss: 162.9852 - mae: 162.9852 - val_loss: 874.8687 - val_mae: 874.8687\n",
            "Epoch 4/100\n",
            "18/18 [==============================] - 0s 26ms/step - loss: 155.8285 - mae: 155.8285 - val_loss: 873.0845 - val_mae: 873.0845\n",
            "Epoch 5/100\n",
            "18/18 [==============================] - 0s 26ms/step - loss: 146.6030 - mae: 146.6030 - val_loss: 815.1282 - val_mae: 815.1282\n",
            "Epoch 6/100\n",
            "18/18 [==============================] - 0s 26ms/step - loss: 138.5512 - mae: 138.5512 - val_loss: 775.7031 - val_mae: 775.7031\n",
            "Epoch 7/100\n",
            "18/18 [==============================] - 0s 26ms/step - loss: 135.2000 - mae: 135.2000 - val_loss: 746.0344 - val_mae: 746.0344\n",
            "Epoch 8/100\n",
            "18/18 [==============================] - 0s 26ms/step - loss: 136.4647 - mae: 136.4647 - val_loss: 727.2615 - val_mae: 727.2615\n",
            "Epoch 9/100\n",
            "18/18 [==============================] - 0s 25ms/step - loss: 130.8455 - mae: 130.8455 - val_loss: 711.0203 - val_mae: 711.0203\n",
            "Epoch 10/100\n",
            "18/18 [==============================] - 0s 27ms/step - loss: 129.2446 - mae: 129.2446 - val_loss: 692.8027 - val_mae: 692.8027\n",
            "Epoch 11/100\n",
            "18/18 [==============================] - 0s 5ms/step - loss: 124.3669 - mae: 124.3669 - val_loss: 738.1630 - val_mae: 738.1630\n",
            "Epoch 12/100\n",
            "18/18 [==============================] - 0s 28ms/step - loss: 124.3237 - mae: 124.3237 - val_loss: 669.9518 - val_mae: 669.9518\n",
            "Epoch 13/100\n",
            "18/18 [==============================] - 0s 5ms/step - loss: 122.9185 - mae: 122.9185 - val_loss: 684.1616 - val_mae: 684.1616\n",
            "Epoch 14/100\n",
            "18/18 [==============================] - 0s 25ms/step - loss: 123.2391 - mae: 123.2391 - val_loss: 651.6954 - val_mae: 651.6954\n",
            "Epoch 15/100\n",
            "18/18 [==============================] - 0s 4ms/step - loss: 121.3656 - mae: 121.3656 - val_loss: 659.9067 - val_mae: 659.9067\n",
            "Epoch 16/100\n",
            "18/18 [==============================] - 0s 25ms/step - loss: 120.5197 - mae: 120.5197 - val_loss: 639.1784 - val_mae: 639.1784\n",
            "Epoch 17/100\n",
            "18/18 [==============================] - 0s 4ms/step - loss: 122.9411 - mae: 122.9411 - val_loss: 642.8139 - val_mae: 642.8139\n",
            "Epoch 18/100\n",
            "18/18 [==============================] - 0s 4ms/step - loss: 115.9535 - mae: 115.9535 - val_loss: 639.3920 - val_mae: 639.3920\n",
            "Epoch 19/100\n",
            "18/18 [==============================] - 0s 4ms/step - loss: 123.0070 - mae: 123.0070 - val_loss: 696.6345 - val_mae: 696.6345\n",
            "Epoch 20/100\n",
            "18/18 [==============================] - 0s 26ms/step - loss: 121.5816 - mae: 121.5816 - val_loss: 629.8784 - val_mae: 629.8784\n",
            "Epoch 21/100\n",
            "18/18 [==============================] - 0s 25ms/step - loss: 114.6209 - mae: 114.6209 - val_loss: 626.5648 - val_mae: 626.5648\n",
            "Epoch 22/100\n",
            "18/18 [==============================] - 1s 46ms/step - loss: 117.0489 - mae: 117.0489 - val_loss: 617.3606 - val_mae: 617.3606\n",
            "Epoch 23/100\n",
            "18/18 [==============================] - 0s 5ms/step - loss: 129.3059 - mae: 129.3059 - val_loss: 652.3558 - val_mae: 652.3558\n",
            "Epoch 24/100\n",
            "18/18 [==============================] - 1s 30ms/step - loss: 117.1474 - mae: 117.1474 - val_loss: 611.6172 - val_mae: 611.6172\n",
            "Epoch 25/100\n",
            "18/18 [==============================] - 0s 4ms/step - loss: 115.9048 - mae: 115.9048 - val_loss: 633.8073 - val_mae: 633.8073\n",
            "Epoch 26/100\n",
            "18/18 [==============================] - 0s 25ms/step - loss: 112.1209 - mae: 112.1209 - val_loss: 604.7053 - val_mae: 604.7053\n",
            "Epoch 27/100\n",
            "18/18 [==============================] - 0s 4ms/step - loss: 113.5343 - mae: 113.5343 - val_loss: 614.1005 - val_mae: 614.1005\n",
            "Epoch 28/100\n",
            "18/18 [==============================] - 0s 26ms/step - loss: 112.0164 - mae: 112.0164 - val_loss: 600.7430 - val_mae: 600.7430\n",
            "Epoch 29/100\n",
            "18/18 [==============================] - 0s 4ms/step - loss: 117.0956 - mae: 117.0956 - val_loss: 612.5056 - val_mae: 612.5056\n",
            "Epoch 30/100\n",
            "18/18 [==============================] - 0s 4ms/step - loss: 116.9856 - mae: 116.9856 - val_loss: 605.0362 - val_mae: 605.0362\n",
            "Epoch 31/100\n",
            "18/18 [==============================] - 0s 26ms/step - loss: 112.2138 - mae: 112.2138 - val_loss: 596.5988 - val_mae: 596.5988\n",
            "Epoch 32/100\n",
            "18/18 [==============================] - 0s 4ms/step - loss: 111.8837 - mae: 111.8837 - val_loss: 666.5675 - val_mae: 666.5675\n",
            "Epoch 33/100\n",
            "18/18 [==============================] - 0s 4ms/step - loss: 114.4262 - mae: 114.4262 - val_loss: 732.3946 - val_mae: 732.3946\n",
            "Epoch 34/100\n",
            "18/18 [==============================] - 0s 4ms/step - loss: 114.3563 - mae: 114.3563 - val_loss: 614.1167 - val_mae: 614.1167\n",
            "Epoch 35/100\n",
            "18/18 [==============================] - 0s 4ms/step - loss: 117.1079 - mae: 117.1079 - val_loss: 634.1106 - val_mae: 634.1106\n",
            "Epoch 36/100\n",
            "18/18 [==============================] - 0s 26ms/step - loss: 111.7118 - mae: 111.7118 - val_loss: 590.4112 - val_mae: 590.4112\n",
            "Epoch 37/100\n",
            "18/18 [==============================] - 0s 5ms/step - loss: 116.1281 - mae: 116.1281 - val_loss: 598.7305 - val_mae: 598.7305\n",
            "Epoch 38/100\n",
            "18/18 [==============================] - 0s 4ms/step - loss: 110.6068 - mae: 110.6068 - val_loss: 593.0114 - val_mae: 593.0114\n",
            "Epoch 39/100\n",
            "18/18 [==============================] - 0s 25ms/step - loss: 112.1139 - mae: 112.1139 - val_loss: 584.8422 - val_mae: 584.8422\n",
            "Epoch 40/100\n",
            "18/18 [==============================] - 0s 4ms/step - loss: 109.0419 - mae: 109.0419 - val_loss: 629.0215 - val_mae: 629.0215\n",
            "Epoch 41/100\n",
            "18/18 [==============================] - 0s 4ms/step - loss: 113.8657 - mae: 113.8657 - val_loss: 601.8911 - val_mae: 601.8911\n",
            "Epoch 42/100\n",
            "18/18 [==============================] - 0s 4ms/step - loss: 109.5691 - mae: 109.5691 - val_loss: 588.6890 - val_mae: 588.6890\n",
            "Epoch 43/100\n",
            "18/18 [==============================] - 0s 4ms/step - loss: 117.5151 - mae: 117.5151 - val_loss: 654.0970 - val_mae: 654.0970\n",
            "Epoch 44/100\n",
            "18/18 [==============================] - 0s 4ms/step - loss: 117.7561 - mae: 117.7561 - val_loss: 592.3798 - val_mae: 592.3798\n",
            "Epoch 45/100\n",
            "18/18 [==============================] - 0s 4ms/step - loss: 111.7529 - mae: 111.7529 - val_loss: 634.7643 - val_mae: 634.7643\n",
            "Epoch 46/100\n",
            "18/18 [==============================] - 0s 4ms/step - loss: 110.7645 - mae: 110.7645 - val_loss: 616.2712 - val_mae: 616.2712\n",
            "Epoch 47/100\n",
            "18/18 [==============================] - 0s 4ms/step - loss: 112.6608 - mae: 112.6608 - val_loss: 600.8119 - val_mae: 600.8119\n",
            "Epoch 48/100\n",
            "18/18 [==============================] - 0s 4ms/step - loss: 108.7309 - mae: 108.7309 - val_loss: 621.8899 - val_mae: 621.8899\n",
            "Epoch 49/100\n",
            "18/18 [==============================] - 0s 25ms/step - loss: 109.2572 - mae: 109.2572 - val_loss: 581.6455 - val_mae: 581.6455\n",
            "Epoch 50/100\n",
            "18/18 [==============================] - 0s 4ms/step - loss: 108.4956 - mae: 108.4956 - val_loss: 664.7411 - val_mae: 664.7411\n",
            "Epoch 51/100\n",
            "18/18 [==============================] - 0s 4ms/step - loss: 117.6771 - mae: 117.6771 - val_loss: 689.2703 - val_mae: 689.2703\n",
            "Epoch 52/100\n",
            "18/18 [==============================] - 0s 4ms/step - loss: 117.6661 - mae: 117.6661 - val_loss: 626.3737 - val_mae: 626.3737\n",
            "Epoch 53/100\n",
            "18/18 [==============================] - 0s 25ms/step - loss: 108.1539 - mae: 108.1539 - val_loss: 575.8804 - val_mae: 575.8804\n",
            "Epoch 54/100\n",
            "18/18 [==============================] - 0s 25ms/step - loss: 107.5268 - mae: 107.5268 - val_loss: 574.3093 - val_mae: 574.3093\n",
            "Epoch 55/100\n",
            "18/18 [==============================] - 0s 4ms/step - loss: 108.1966 - mae: 108.1966 - val_loss: 591.3459 - val_mae: 591.3459\n",
            "Epoch 56/100\n",
            "18/18 [==============================] - 0s 4ms/step - loss: 112.0722 - mae: 112.0722 - val_loss: 598.6024 - val_mae: 598.6024\n",
            "Epoch 57/100\n",
            "18/18 [==============================] - 0s 5ms/step - loss: 112.5127 - mae: 112.5127 - val_loss: 651.9350 - val_mae: 651.9350\n",
            "Epoch 58/100\n",
            "18/18 [==============================] - 0s 4ms/step - loss: 113.9129 - mae: 113.9129 - val_loss: 669.1542 - val_mae: 669.1542\n",
            "Epoch 59/100\n",
            "18/18 [==============================] - 0s 5ms/step - loss: 114.6080 - mae: 114.6080 - val_loss: 590.7802 - val_mae: 590.7802\n",
            "Epoch 60/100\n",
            "18/18 [==============================] - 0s 4ms/step - loss: 108.7617 - mae: 108.7617 - val_loss: 592.5310 - val_mae: 592.5310\n",
            "Epoch 61/100\n",
            "18/18 [==============================] - 0s 5ms/step - loss: 110.6086 - mae: 110.6086 - val_loss: 798.3494 - val_mae: 798.3494\n",
            "Epoch 62/100\n",
            "18/18 [==============================] - 0s 5ms/step - loss: 119.1338 - mae: 119.1338 - val_loss: 722.7181 - val_mae: 722.7181\n",
            "Epoch 63/100\n",
            "18/18 [==============================] - 0s 5ms/step - loss: 119.3814 - mae: 119.3814 - val_loss: 574.7850 - val_mae: 574.7850\n",
            "Epoch 64/100\n",
            "18/18 [==============================] - 0s 28ms/step - loss: 106.8439 - mae: 106.8439 - val_loss: 571.8072 - val_mae: 571.8072\n",
            "Epoch 65/100\n",
            "18/18 [==============================] - 0s 5ms/step - loss: 107.1827 - mae: 107.1827 - val_loss: 584.1847 - val_mae: 584.1847\n",
            "Epoch 66/100\n",
            "18/18 [==============================] - 0s 4ms/step - loss: 108.1358 - mae: 108.1358 - val_loss: 623.8920 - val_mae: 623.8920\n",
            "Epoch 67/100\n",
            "18/18 [==============================] - 0s 4ms/step - loss: 107.6432 - mae: 107.6432 - val_loss: 573.3252 - val_mae: 573.3252\n",
            "Epoch 68/100\n",
            "18/18 [==============================] - 0s 4ms/step - loss: 109.3134 - mae: 109.3134 - val_loss: 660.4009 - val_mae: 660.4009\n",
            "Epoch 69/100\n",
            "18/18 [==============================] - 0s 4ms/step - loss: 113.5041 - mae: 113.5041 - val_loss: 581.2794 - val_mae: 581.2794\n",
            "Epoch 70/100\n",
            "18/18 [==============================] - 0s 4ms/step - loss: 107.7303 - mae: 107.7303 - val_loss: 575.9570 - val_mae: 575.9570\n",
            "Epoch 71/100\n",
            "18/18 [==============================] - 0s 4ms/step - loss: 108.6160 - mae: 108.6160 - val_loss: 610.4947 - val_mae: 610.4947\n",
            "Epoch 72/100\n",
            "18/18 [==============================] - 0s 4ms/step - loss: 124.0487 - mae: 124.0487 - val_loss: 746.7574 - val_mae: 746.7574\n",
            "Epoch 73/100\n",
            "18/18 [==============================] - 0s 4ms/step - loss: 112.3767 - mae: 112.3767 - val_loss: 658.0009 - val_mae: 658.0009\n",
            "Epoch 74/100\n",
            "18/18 [==============================] - 0s 4ms/step - loss: 113.4228 - mae: 113.4228 - val_loss: 755.9670 - val_mae: 755.9670\n",
            "Epoch 75/100\n",
            "18/18 [==============================] - 0s 4ms/step - loss: 120.9218 - mae: 120.9218 - val_loss: 584.6522 - val_mae: 584.6522\n",
            "Epoch 76/100\n",
            "18/18 [==============================] - 0s 5ms/step - loss: 114.8978 - mae: 114.8978 - val_loss: 607.4248 - val_mae: 607.4248\n",
            "Epoch 77/100\n",
            "18/18 [==============================] - 0s 4ms/step - loss: 107.2208 - mae: 107.2208 - val_loss: 571.9840 - val_mae: 571.9840\n",
            "Epoch 78/100\n",
            "18/18 [==============================] - 0s 27ms/step - loss: 105.6611 - mae: 105.6611 - val_loss: 571.2916 - val_mae: 571.2916\n",
            "Epoch 79/100\n",
            "18/18 [==============================] - 0s 4ms/step - loss: 108.9850 - mae: 108.9850 - val_loss: 599.2762 - val_mae: 599.2762\n",
            "Epoch 80/100\n",
            "18/18 [==============================] - 0s 5ms/step - loss: 110.5759 - mae: 110.5759 - val_loss: 627.0672 - val_mae: 627.0672\n",
            "Epoch 81/100\n",
            "18/18 [==============================] - 0s 5ms/step - loss: 108.0730 - mae: 108.0730 - val_loss: 602.7501 - val_mae: 602.7501\n",
            "Epoch 82/100\n",
            "18/18 [==============================] - 0s 5ms/step - loss: 108.3866 - mae: 108.3866 - val_loss: 610.0629 - val_mae: 610.0629\n",
            "Epoch 83/100\n",
            "18/18 [==============================] - 0s 5ms/step - loss: 110.3617 - mae: 110.3617 - val_loss: 596.1871 - val_mae: 596.1871\n",
            "Epoch 84/100\n",
            "18/18 [==============================] - 0s 5ms/step - loss: 109.8827 - mae: 109.8827 - val_loss: 589.0032 - val_mae: 589.0032\n",
            "Epoch 85/100\n",
            "18/18 [==============================] - 0s 5ms/step - loss: 105.3903 - mae: 105.3903 - val_loss: 622.1524 - val_mae: 622.1524\n",
            "Epoch 86/100\n",
            "18/18 [==============================] - 0s 28ms/step - loss: 107.2919 - mae: 107.2919 - val_loss: 571.0088 - val_mae: 571.0088\n",
            "Epoch 87/100\n",
            "18/18 [==============================] - 0s 5ms/step - loss: 110.5573 - mae: 110.5573 - val_loss: 658.6266 - val_mae: 658.6266\n",
            "Epoch 88/100\n",
            "18/18 [==============================] - 0s 5ms/step - loss: 112.0646 - mae: 112.0646 - val_loss: 596.0265 - val_mae: 596.0265\n",
            "Epoch 89/100\n",
            "18/18 [==============================] - 0s 5ms/step - loss: 108.7845 - mae: 108.7845 - val_loss: 581.2661 - val_mae: 581.2661\n",
            "Epoch 90/100\n",
            "18/18 [==============================] - 0s 5ms/step - loss: 105.4393 - mae: 105.4393 - val_loss: 576.4097 - val_mae: 576.4097\n",
            "Epoch 91/100\n",
            "18/18 [==============================] - 0s 5ms/step - loss: 106.1050 - mae: 106.1050 - val_loss: 571.6963 - val_mae: 571.6963\n",
            "Epoch 92/100\n",
            "18/18 [==============================] - 0s 4ms/step - loss: 107.8014 - mae: 107.8014 - val_loss: 645.1409 - val_mae: 645.1409\n",
            "Epoch 93/100\n",
            "18/18 [==============================] - 0s 4ms/step - loss: 109.6815 - mae: 109.6815 - val_loss: 571.3275 - val_mae: 571.3275\n",
            "Epoch 94/100\n",
            "18/18 [==============================] - 0s 5ms/step - loss: 109.5574 - mae: 109.5574 - val_loss: 574.4634 - val_mae: 574.4634\n",
            "Epoch 95/100\n",
            "18/18 [==============================] - 0s 5ms/step - loss: 107.5953 - mae: 107.5953 - val_loss: 599.6360 - val_mae: 599.6360\n",
            "Epoch 96/100\n",
            "18/18 [==============================] - 0s 6ms/step - loss: 108.8882 - mae: 108.8882 - val_loss: 613.2513 - val_mae: 613.2513\n",
            "Epoch 97/100\n",
            "18/18 [==============================] - 0s 6ms/step - loss: 106.4582 - mae: 106.4582 - val_loss: 682.7512 - val_mae: 682.7512\n",
            "Epoch 98/100\n",
            "18/18 [==============================] - 0s 26ms/step - loss: 114.3355 - mae: 114.3355 - val_loss: 566.3821 - val_mae: 566.3821\n",
            "Epoch 99/100\n",
            "18/18 [==============================] - 0s 4ms/step - loss: 105.4725 - mae: 105.4725 - val_loss: 570.5966 - val_mae: 570.5966\n",
            "Epoch 100/100\n",
            "18/18 [==============================] - 0s 4ms/step - loss: 109.4612 - mae: 109.4612 - val_loss: 601.6422 - val_mae: 601.6422\n"
          ]
        }
      ]
    },
    {
      "cell_type": "code",
      "source": [
        "# Evaluate model on test data\n",
        "model_1.evaluate(test_windows, test_labels)"
      ],
      "metadata": {
        "colab": {
          "base_uri": "https://localhost:8080/"
        },
        "id": "X8YEf_RhKNh3",
        "outputId": "6db8ca9f-5a1a-439e-efd2-361c1bc12aae"
      },
      "execution_count": 97,
      "outputs": [
        {
          "output_type": "stream",
          "name": "stdout",
          "text": [
            "18/18 [==============================] - 0s 2ms/step - loss: 601.6423 - mae: 601.6423\n"
          ]
        },
        {
          "output_type": "execute_result",
          "data": {
            "text/plain": [
              "[601.6422729492188, 601.6422729492188]"
            ]
          },
          "metadata": {},
          "execution_count": 97
        }
      ]
    },
    {
      "cell_type": "code",
      "source": [
        "# Load in saved best performing model_1 and evaluate it in test data\n",
        "load_model_1 = tf.keras.models.load_model('model_experiments/model_1_dense/')\n",
        "load_model_1.evaluate(test_windows, test_labels)"
      ],
      "metadata": {
        "colab": {
          "base_uri": "https://localhost:8080/"
        },
        "id": "_dAAK0V6K8eG",
        "outputId": "483b4940-3aa9-4cb5-f1eb-1612a09a87f7"
      },
      "execution_count": 98,
      "outputs": [
        {
          "output_type": "stream",
          "name": "stdout",
          "text": [
            "18/18 [==============================] - 0s 2ms/step - loss: 566.3820 - mae: 566.3820\n"
          ]
        },
        {
          "output_type": "execute_result",
          "data": {
            "text/plain": [
              "[566.3819580078125, 566.3819580078125]"
            ]
          },
          "metadata": {},
          "execution_count": 98
        }
      ]
    },
    {
      "cell_type": "markdown",
      "source": [
        "## Making forecasts with a model(on the test dataset)\n",
        "\n",
        "Let's write a function to:\n",
        "1. Taking in a train model\n",
        "2. Takes in some input data\n",
        "3. Passes the input data to the model's `predict()` method\n",
        "4. Returns the predictions"
      ],
      "metadata": {
        "id": "EY7dGTJsObGS"
      }
    },
    {
      "cell_type": "code",
      "source": [
        "def make_pred_and_evaluate(model, input_data, true_labels):\n",
        "  model_pred = model.predict(input_data)\n",
        "  return evaluate_pred(tf.squeeze(true_labels),\n",
        "                       tf.squeeze(model_pred))"
      ],
      "metadata": {
        "id": "cWQyjjghOxxX"
      },
      "execution_count": 99,
      "outputs": []
    },
    {
      "cell_type": "code",
      "source": [
        "# model_1_pred = load_model_1.predict(test_windows)\n",
        "model_1_pred = load_model_1.predict(test_windows)\n",
        "model_1_results = make_pred_and_evaluate(load_model_1, test_windows, test_labels)\n",
        "model_1_results"
      ],
      "metadata": {
        "colab": {
          "base_uri": "https://localhost:8080/"
        },
        "id": "8zY9bmWULWi_",
        "outputId": "8566420b-5274-4a61-9a1b-490cf3636bdd"
      },
      "execution_count": 100,
      "outputs": [
        {
          "output_type": "stream",
          "name": "stdout",
          "text": [
            "18/18 [==============================] - 0s 1ms/step\n",
            "18/18 [==============================] - 0s 1ms/step\n"
          ]
        },
        {
          "output_type": "execute_result",
          "data": {
            "text/plain": [
              "{'MAE': 566.38196,\n",
              " 'MSE': 1159703.2,\n",
              " 'RMSE': 1076.8953,\n",
              " 'MAPE': 2.525801,\n",
              " 'MASE': 0.9949762}"
            ]
          },
          "metadata": {},
          "execution_count": 100
        }
      ]
    },
    {
      "cell_type": "code",
      "source": [
        "naive_results"
      ],
      "metadata": {
        "colab": {
          "base_uri": "https://localhost:8080/"
        },
        "id": "eoEV1g6BMSDZ",
        "outputId": "79dee69c-0f0d-45e8-9ae5-e618d7cc95dd"
      },
      "execution_count": 101,
      "outputs": [
        {
          "output_type": "execute_result",
          "data": {
            "text/plain": [
              "{'MAE': 567.9802,\n",
              " 'MSE': 1147547.0,\n",
              " 'RMSE': 1071.2362,\n",
              " 'MAPE': 2.516525,\n",
              " 'MASE': 0.99957}"
            ]
          },
          "metadata": {},
          "execution_count": 101
        }
      ]
    },
    {
      "cell_type": "code",
      "source": [
        "# Let's plot our model 1 predictions\n",
        "offset = 400\n",
        "plt.figure(figsize= (10, 7))\n",
        "plot_time_series(timesteps= X_test[-len(test_windows):], values= test_labels[:, 0], start= offset, label= 'Test data')\n",
        "plot_time_series(timesteps= X_test[-len(test_windows):], format='-', values= model_1_pred, start= offset, label= 'Model 1 Prediction')"
      ],
      "metadata": {
        "id": "5nfdrAqNQJ4o",
        "outputId": "cfb8875c-50c1-40d2-8eec-63cc414f2ff9",
        "colab": {
          "base_uri": "https://localhost:8080/",
          "height": 453
        }
      },
      "execution_count": 102,
      "outputs": [
        {
          "output_type": "display_data",
          "data": {
            "text/plain": [
              "<Figure size 1000x700 with 1 Axes>"
            ],
            "image/png": "[encoded data removed]"
          },
          "metadata": {}
        }
      ]
    },
    {
      "cell_type": "markdown",
      "source": [
        "### Model 2: Dense (window= 30, horizon= 1)"
      ],
      "metadata": {
        "id": "4ZiQGOxLRfpm"
      }
    },
    {
      "cell_type": "code",
      "source": [
        "WINDOW_SIZE = 30"
      ],
      "metadata": {
        "id": "pIpcYJtDDXy_"
      },
      "execution_count": 105,
      "outputs": []
    },
    {
      "cell_type": "code",
      "source": [
        "full_window_30, full_labels_30 = make_windows(prices,\n",
        "                                              window_size= WINDOW_SIZE)\n",
        "\n",
        "len(full_window_30), len(full_labels_30)"
      ],
      "metadata": {
        "id": "wI_vseIFBtuB",
        "outputId": "30efec4d-dfd6-444c-da86-40b54718f748",
        "colab": {
          "base_uri": "https://localhost:8080/"
        }
      },
      "execution_count": 106,
      "outputs": [
        {
          "output_type": "execute_result",
          "data": {
            "text/plain": [
              "(2757, 2757)"
            ]
          },
          "metadata": {},
          "execution_count": 106
        }
      ]
    },
    {
      "cell_type": "code",
      "source": [],
      "metadata": {
        "id": "h8z5m0caEzxf",
        "outputId": "e44cda41-7435-4408-d6a3-655edf3b4653",
        "colab": {
          "base_uri": "https://localhost:8080/"
        }
      },
      "execution_count": 116,
      "outputs": [
        {
          "output_type": "execute_result",
          "data": {
            "text/plain": [
              "30"
            ]
          },
          "metadata": {},
          "execution_count": 116
        }
      ]
    },
    {
      "cell_type": "code",
      "source": [
        "train_windows, test_windows, train_labels, test_labels = make_train_Test_splits(full_window_30,\n",
        "                                                                                full_labels_30,\n",
        "                                                                                0.2)\n",
        "\n",
        "len(train_windows), len(test_windows), len(train_labels), len(test_labels)"
      ],
      "metadata": {
        "id": "mjuiIX4LCfc4",
        "outputId": "fe0fc1d0-f7d3-4bc9-febe-b272d7690817",
        "colab": {
          "base_uri": "https://localhost:8080/"
        }
      },
      "execution_count": 107,
      "outputs": [
        {
          "output_type": "execute_result",
          "data": {
            "text/plain": [
              "(2205, 552, 2205, 552)"
            ]
          },
          "metadata": {},
          "execution_count": 107
        }
      ]
    },
    {
      "cell_type": "code",
      "source": [
        "inputs= layers.Input(shape= (WINDOW_SIZE, ), name= 'input_layer')\n",
        "x = layers.Dense(128, activation= 'relu', name= 'dense_layer')(inputs)\n",
        "outputs = layers.Dense(HORIZON_SIZE, name= 'output_layer')(x)\n",
        "\n",
        "model_2 = tf.keras.Model(inputs, outputs, name= 'model_2_dense_30')\n",
        "\n",
        "model_2.compile(loss= 'mae',\n",
        "                optimizer= tf.keras.optimizers.Adam(),\n",
        "                metrics= ['mae'])\n",
        "\n",
        "model_2.summary()"
      ],
      "metadata": {
        "id": "mbYuG_AfC8Hm",
        "outputId": "42aa6d05-b981-4e1a-b684-d41332e2011c",
        "colab": {
          "base_uri": "https://localhost:8080/"
        }
      },
      "execution_count": 111,
      "outputs": [
        {
          "output_type": "stream",
          "name": "stdout",
          "text": [
            "Model: \"model_2_dense_30\"\n",
            "_________________________________________________________________\n",
            " Layer (type)                Output Shape              Param #   \n",
            "=================================================================\n",
            " input_layer (InputLayer)    [(None, 30)]              0         \n",
            "                                                                 \n",
            " dense_layer (Dense)         (None, 128)               3968      \n",
            "                                                                 \n",
            " output_layer (Dense)        (None, 1)                 129       \n",
            "                                                                 \n",
            "=================================================================\n",
            "Total params: 4097 (16.00 KB)\n",
            "Trainable params: 4097 (16.00 KB)\n",
            "Non-trainable params: 0 (0.00 Byte)\n",
            "_________________________________________________________________\n"
          ]
        }
      ]
    },
    {
      "cell_type": "code",
      "source": [
        "model_2.fit(train_windows,\n",
        "            train_labels,\n",
        "            epochs= 100,\n",
        "            verbose= 1,\n",
        "            batch_size= 128,\n",
        "            validation_data= (test_windows, test_labels),\n",
        "            callbacks= [create_model_checkpoint(model_name= model_2.name)])"
      ],
      "metadata": {
        "id": "IWnKYek6EORu",
        "outputId": "4d4c1c6f-d877-4c9c-f3f3-1ad12b823b3e",
        "colab": {
          "base_uri": "https://localhost:8080/"
        }
      },
      "execution_count": 118,
      "outputs": [
        {
          "output_type": "stream",
          "name": "stdout",
          "text": [
            "Epoch 1/100\n",
            "18/18 [==============================] - 1s 35ms/step - loss: 212.1208 - mae: 212.1208 - val_loss: 1147.1589 - val_mae: 1147.1589\n",
            "Epoch 2/100\n",
            "18/18 [==============================] - 0s 26ms/step - loss: 197.3448 - mae: 197.3448 - val_loss: 1068.6104 - val_mae: 1068.6104\n",
            "Epoch 3/100\n",
            "18/18 [==============================] - 0s 4ms/step - loss: 184.3306 - mae: 184.3306 - val_loss: 1168.4226 - val_mae: 1168.4226\n",
            "Epoch 4/100\n",
            "18/18 [==============================] - 0s 4ms/step - loss: 180.6646 - mae: 180.6646 - val_loss: 1173.4738 - val_mae: 1173.4738\n",
            "Epoch 5/100\n",
            "18/18 [==============================] - 0s 25ms/step - loss: 169.0538 - mae: 169.0538 - val_loss: 936.2162 - val_mae: 936.2162\n",
            "Epoch 6/100\n",
            "18/18 [==============================] - 0s 24ms/step - loss: 164.8454 - mae: 164.8454 - val_loss: 892.9203 - val_mae: 892.9203\n",
            "Epoch 7/100\n",
            "18/18 [==============================] - 0s 25ms/step - loss: 158.2016 - mae: 158.2016 - val_loss: 857.3403 - val_mae: 857.3403\n",
            "Epoch 8/100\n",
            "18/18 [==============================] - 0s 4ms/step - loss: 157.9780 - mae: 157.9780 - val_loss: 949.4886 - val_mae: 949.4886\n",
            "Epoch 9/100\n",
            "18/18 [==============================] - 0s 25ms/step - loss: 174.9411 - mae: 174.9411 - val_loss: 815.7214 - val_mae: 815.7214\n",
            "Epoch 10/100\n",
            "18/18 [==============================] - 0s 4ms/step - loss: 163.4523 - mae: 163.4523 - val_loss: 1025.3427 - val_mae: 1025.3427\n",
            "Epoch 11/100\n",
            "18/18 [==============================] - 0s 4ms/step - loss: 151.0418 - mae: 151.0418 - val_loss: 909.2928 - val_mae: 909.2928\n",
            "Epoch 12/100\n",
            "18/18 [==============================] - 0s 4ms/step - loss: 141.7861 - mae: 141.7861 - val_loss: 834.4559 - val_mae: 834.4559\n",
            "Epoch 13/100\n",
            "18/18 [==============================] - 0s 26ms/step - loss: 140.2369 - mae: 140.2369 - val_loss: 801.8852 - val_mae: 801.8852\n",
            "Epoch 14/100\n",
            "18/18 [==============================] - 0s 25ms/step - loss: 144.6664 - mae: 144.6664 - val_loss: 785.5591 - val_mae: 785.5591\n",
            "Epoch 15/100\n",
            "18/18 [==============================] - 0s 4ms/step - loss: 142.7309 - mae: 142.7309 - val_loss: 913.5478 - val_mae: 913.5478\n",
            "Epoch 16/100\n",
            "18/18 [==============================] - 0s 4ms/step - loss: 150.5147 - mae: 150.5147 - val_loss: 800.5551 - val_mae: 800.5551\n",
            "Epoch 17/100\n",
            "18/18 [==============================] - 0s 4ms/step - loss: 137.3397 - mae: 137.3397 - val_loss: 833.9412 - val_mae: 833.9412\n",
            "Epoch 18/100\n",
            "18/18 [==============================] - 0s 25ms/step - loss: 138.4124 - mae: 138.4124 - val_loss: 729.3703 - val_mae: 729.3703\n",
            "Epoch 19/100\n",
            "18/18 [==============================] - 0s 4ms/step - loss: 132.8673 - mae: 132.8673 - val_loss: 743.1951 - val_mae: 743.1951\n",
            "Epoch 20/100\n",
            "18/18 [==============================] - 0s 4ms/step - loss: 152.9202 - mae: 152.9202 - val_loss: 749.5558 - val_mae: 749.5558\n",
            "Epoch 21/100\n",
            "18/18 [==============================] - 0s 25ms/step - loss: 131.4596 - mae: 131.4596 - val_loss: 708.8168 - val_mae: 708.8168\n",
            "Epoch 22/100\n",
            "18/18 [==============================] - 0s 4ms/step - loss: 136.1287 - mae: 136.1287 - val_loss: 937.4787 - val_mae: 937.4787\n",
            "Epoch 23/100\n",
            "18/18 [==============================] - 0s 4ms/step - loss: 162.5517 - mae: 162.5517 - val_loss: 1135.6038 - val_mae: 1135.6038\n",
            "Epoch 24/100\n",
            "18/18 [==============================] - 0s 4ms/step - loss: 149.8841 - mae: 149.8841 - val_loss: 761.2206 - val_mae: 761.2206\n",
            "Epoch 25/100\n",
            "18/18 [==============================] - 0s 4ms/step - loss: 142.9863 - mae: 142.9863 - val_loss: 712.3468 - val_mae: 712.3468\n",
            "Epoch 26/100\n",
            "18/18 [==============================] - 0s 4ms/step - loss: 135.5961 - mae: 135.5961 - val_loss: 1442.6001 - val_mae: 1442.6001\n",
            "Epoch 27/100\n",
            "18/18 [==============================] - 0s 4ms/step - loss: 182.6744 - mae: 182.6744 - val_loss: 720.9885 - val_mae: 720.9885\n",
            "Epoch 28/100\n",
            "18/18 [==============================] - 0s 4ms/step - loss: 138.6584 - mae: 138.6584 - val_loss: 828.2606 - val_mae: 828.2606\n",
            "Epoch 29/100\n",
            "18/18 [==============================] - 0s 4ms/step - loss: 136.1542 - mae: 136.1542 - val_loss: 787.2117 - val_mae: 787.2117\n",
            "Epoch 30/100\n",
            "18/18 [==============================] - 0s 4ms/step - loss: 148.1539 - mae: 148.1539 - val_loss: 740.3151 - val_mae: 740.3151\n",
            "Epoch 31/100\n",
            "18/18 [==============================] - 0s 25ms/step - loss: 127.7809 - mae: 127.7809 - val_loss: 696.6735 - val_mae: 696.6735\n",
            "Epoch 32/100\n",
            "18/18 [==============================] - 0s 4ms/step - loss: 123.7997 - mae: 123.7997 - val_loss: 707.4967 - val_mae: 707.4967\n",
            "Epoch 33/100\n",
            "18/18 [==============================] - 0s 4ms/step - loss: 132.5361 - mae: 132.5361 - val_loss: 760.2771 - val_mae: 760.2771\n",
            "Epoch 34/100\n",
            "18/18 [==============================] - 0s 4ms/step - loss: 124.2871 - mae: 124.2871 - val_loss: 773.3507 - val_mae: 773.3507\n",
            "Epoch 35/100\n",
            "18/18 [==============================] - 0s 4ms/step - loss: 129.9987 - mae: 129.9987 - val_loss: 709.4224 - val_mae: 709.4224\n",
            "Epoch 36/100\n",
            "18/18 [==============================] - 1s 43ms/step - loss: 126.2102 - mae: 126.2102 - val_loss: 692.7748 - val_mae: 692.7748\n",
            "Epoch 37/100\n",
            "18/18 [==============================] - 0s 5ms/step - loss: 130.6144 - mae: 130.6144 - val_loss: 721.0401 - val_mae: 721.0401\n",
            "Epoch 38/100\n",
            "18/18 [==============================] - 0s 4ms/step - loss: 130.2227 - mae: 130.2227 - val_loss: 753.8848 - val_mae: 753.8848\n",
            "Epoch 39/100\n",
            "18/18 [==============================] - 0s 25ms/step - loss: 139.8508 - mae: 139.8508 - val_loss: 657.5074 - val_mae: 657.5074\n",
            "Epoch 40/100\n",
            "18/18 [==============================] - 0s 4ms/step - loss: 126.4958 - mae: 126.4958 - val_loss: 675.9845 - val_mae: 675.9845\n",
            "Epoch 41/100\n",
            "18/18 [==============================] - 0s 4ms/step - loss: 120.9594 - mae: 120.9594 - val_loss: 713.4355 - val_mae: 713.4355\n",
            "Epoch 42/100\n",
            "18/18 [==============================] - 0s 4ms/step - loss: 129.8896 - mae: 129.8896 - val_loss: 964.4563 - val_mae: 964.4563\n",
            "Epoch 43/100\n",
            "18/18 [==============================] - 0s 25ms/step - loss: 130.7268 - mae: 130.7268 - val_loss: 652.6507 - val_mae: 652.6507\n",
            "Epoch 44/100\n",
            "18/18 [==============================] - 0s 4ms/step - loss: 117.9280 - mae: 117.9280 - val_loss: 664.8395 - val_mae: 664.8395\n",
            "Epoch 45/100\n",
            "18/18 [==============================] - 0s 24ms/step - loss: 118.3840 - mae: 118.3840 - val_loss: 639.9460 - val_mae: 639.9460\n",
            "Epoch 46/100\n",
            "18/18 [==============================] - 0s 4ms/step - loss: 121.6485 - mae: 121.6485 - val_loss: 646.6298 - val_mae: 646.6298\n",
            "Epoch 47/100\n",
            "18/18 [==============================] - 0s 4ms/step - loss: 120.1552 - mae: 120.1552 - val_loss: 743.7787 - val_mae: 743.7787\n",
            "Epoch 48/100\n",
            "18/18 [==============================] - 0s 4ms/step - loss: 121.5111 - mae: 121.5111 - val_loss: 651.8000 - val_mae: 651.8000\n",
            "Epoch 49/100\n",
            "18/18 [==============================] - 0s 25ms/step - loss: 121.1822 - mae: 121.1822 - val_loss: 638.6929 - val_mae: 638.6929\n",
            "Epoch 50/100\n",
            "18/18 [==============================] - 0s 4ms/step - loss: 120.4661 - mae: 120.4661 - val_loss: 710.9646 - val_mae: 710.9646\n",
            "Epoch 51/100\n",
            "18/18 [==============================] - 0s 4ms/step - loss: 129.3954 - mae: 129.3954 - val_loss: 645.2593 - val_mae: 645.2593\n",
            "Epoch 52/100\n",
            "18/18 [==============================] - 0s 4ms/step - loss: 118.0559 - mae: 118.0559 - val_loss: 729.0033 - val_mae: 729.0033\n",
            "Epoch 53/100\n",
            "18/18 [==============================] - 0s 4ms/step - loss: 131.5409 - mae: 131.5409 - val_loss: 808.2418 - val_mae: 808.2418\n",
            "Epoch 54/100\n",
            "18/18 [==============================] - 0s 4ms/step - loss: 120.8001 - mae: 120.8001 - val_loss: 665.3207 - val_mae: 665.3207\n",
            "Epoch 55/100\n",
            "18/18 [==============================] - 0s 4ms/step - loss: 117.9911 - mae: 117.9911 - val_loss: 780.3829 - val_mae: 780.3829\n",
            "Epoch 56/100\n",
            "18/18 [==============================] - 0s 4ms/step - loss: 129.0505 - mae: 129.0505 - val_loss: 652.1183 - val_mae: 652.1183\n",
            "Epoch 57/100\n",
            "18/18 [==============================] - 0s 4ms/step - loss: 118.8274 - mae: 118.8274 - val_loss: 640.2171 - val_mae: 640.2171\n",
            "Epoch 58/100\n",
            "18/18 [==============================] - 0s 4ms/step - loss: 115.4032 - mae: 115.4032 - val_loss: 653.3220 - val_mae: 653.3220\n",
            "Epoch 59/100\n",
            "18/18 [==============================] - 0s 24ms/step - loss: 136.5338 - mae: 136.5338 - val_loss: 618.7183 - val_mae: 618.7183\n",
            "Epoch 60/100\n",
            "18/18 [==============================] - 0s 4ms/step - loss: 129.8102 - mae: 129.8102 - val_loss: 778.0309 - val_mae: 778.0309\n",
            "Epoch 61/100\n",
            "18/18 [==============================] - 0s 4ms/step - loss: 128.4278 - mae: 128.4278 - val_loss: 709.7917 - val_mae: 709.7917\n",
            "Epoch 62/100\n",
            "18/18 [==============================] - 0s 4ms/step - loss: 126.9282 - mae: 126.9282 - val_loss: 814.7965 - val_mae: 814.7965\n",
            "Epoch 63/100\n",
            "18/18 [==============================] - 0s 4ms/step - loss: 122.8220 - mae: 122.8220 - val_loss: 1146.2169 - val_mae: 1146.2169\n",
            "Epoch 64/100\n",
            "18/18 [==============================] - 0s 25ms/step - loss: 152.7719 - mae: 152.7719 - val_loss: 616.1589 - val_mae: 616.1589\n",
            "Epoch 65/100\n",
            "18/18 [==============================] - 0s 4ms/step - loss: 126.6387 - mae: 126.6387 - val_loss: 652.0170 - val_mae: 652.0170\n",
            "Epoch 66/100\n",
            "18/18 [==============================] - 0s 4ms/step - loss: 111.3694 - mae: 111.3694 - val_loss: 690.7142 - val_mae: 690.7142\n",
            "Epoch 67/100\n",
            "18/18 [==============================] - 0s 4ms/step - loss: 117.2281 - mae: 117.2281 - val_loss: 874.9901 - val_mae: 874.9901\n",
            "Epoch 68/100\n",
            "18/18 [==============================] - 0s 4ms/step - loss: 117.1975 - mae: 117.1975 - val_loss: 632.6487 - val_mae: 632.6487\n",
            "Epoch 69/100\n",
            "18/18 [==============================] - 0s 5ms/step - loss: 112.2732 - mae: 112.2732 - val_loss: 655.9595 - val_mae: 655.9595\n",
            "Epoch 70/100\n",
            "18/18 [==============================] - 0s 4ms/step - loss: 114.0321 - mae: 114.0321 - val_loss: 683.4038 - val_mae: 683.4038\n",
            "Epoch 71/100\n",
            "18/18 [==============================] - 0s 25ms/step - loss: 127.3940 - mae: 127.3940 - val_loss: 608.0875 - val_mae: 608.0875\n",
            "Epoch 72/100\n",
            "18/18 [==============================] - 0s 4ms/step - loss: 117.4315 - mae: 117.4315 - val_loss: 679.7063 - val_mae: 679.7063\n",
            "Epoch 73/100\n",
            "18/18 [==============================] - 0s 4ms/step - loss: 117.2533 - mae: 117.2533 - val_loss: 623.3907 - val_mae: 623.3907\n",
            "Epoch 74/100\n",
            "18/18 [==============================] - 0s 4ms/step - loss: 137.5047 - mae: 137.5047 - val_loss: 860.8641 - val_mae: 860.8641\n",
            "Epoch 75/100\n",
            "18/18 [==============================] - 0s 4ms/step - loss: 131.1090 - mae: 131.1090 - val_loss: 1037.3733 - val_mae: 1037.3733\n",
            "Epoch 76/100\n",
            "18/18 [==============================] - 0s 4ms/step - loss: 137.3697 - mae: 137.3697 - val_loss: 1079.1075 - val_mae: 1079.1075\n",
            "Epoch 77/100\n",
            "18/18 [==============================] - 0s 4ms/step - loss: 140.1333 - mae: 140.1333 - val_loss: 828.9772 - val_mae: 828.9772\n",
            "Epoch 78/100\n",
            "18/18 [==============================] - 0s 4ms/step - loss: 120.9969 - mae: 120.9969 - val_loss: 622.0073 - val_mae: 622.0073\n",
            "Epoch 79/100\n",
            "18/18 [==============================] - 0s 4ms/step - loss: 117.9168 - mae: 117.9168 - val_loss: 1274.9462 - val_mae: 1274.9462\n",
            "Epoch 80/100\n",
            "18/18 [==============================] - 0s 4ms/step - loss: 146.8852 - mae: 146.8852 - val_loss: 631.6498 - val_mae: 631.6498\n",
            "Epoch 81/100\n",
            "18/18 [==============================] - 0s 4ms/step - loss: 115.4355 - mae: 115.4355 - val_loss: 692.5152 - val_mae: 692.5152\n",
            "Epoch 82/100\n",
            "18/18 [==============================] - 0s 4ms/step - loss: 117.4594 - mae: 117.4594 - val_loss: 622.8207 - val_mae: 622.8207\n",
            "Epoch 83/100\n",
            "18/18 [==============================] - 0s 4ms/step - loss: 116.5590 - mae: 116.5590 - val_loss: 618.6317 - val_mae: 618.6317\n",
            "Epoch 84/100\n",
            "18/18 [==============================] - 0s 4ms/step - loss: 121.5152 - mae: 121.5152 - val_loss: 694.1028 - val_mae: 694.1028\n",
            "Epoch 85/100\n",
            "18/18 [==============================] - 0s 4ms/step - loss: 116.3449 - mae: 116.3449 - val_loss: 616.4844 - val_mae: 616.4844\n",
            "Epoch 86/100\n",
            "18/18 [==============================] - 0s 4ms/step - loss: 109.4337 - mae: 109.4337 - val_loss: 617.0925 - val_mae: 617.0925\n",
            "Epoch 87/100\n",
            "18/18 [==============================] - 0s 4ms/step - loss: 113.6792 - mae: 113.6792 - val_loss: 907.9731 - val_mae: 907.9731\n",
            "Epoch 88/100\n",
            "18/18 [==============================] - 0s 4ms/step - loss: 123.4115 - mae: 123.4115 - val_loss: 692.5497 - val_mae: 692.5497\n",
            "Epoch 89/100\n",
            "18/18 [==============================] - 0s 4ms/step - loss: 116.5533 - mae: 116.5533 - val_loss: 1037.2820 - val_mae: 1037.2820\n",
            "Epoch 90/100\n",
            "18/18 [==============================] - 0s 4ms/step - loss: 128.7239 - mae: 128.7239 - val_loss: 630.0284 - val_mae: 630.0284\n",
            "Epoch 91/100\n",
            "18/18 [==============================] - 0s 4ms/step - loss: 112.3604 - mae: 112.3604 - val_loss: 633.9838 - val_mae: 633.9838\n",
            "Epoch 92/100\n",
            "18/18 [==============================] - 0s 4ms/step - loss: 111.8409 - mae: 111.8409 - val_loss: 643.5701 - val_mae: 643.5701\n",
            "Epoch 93/100\n",
            "18/18 [==============================] - 0s 4ms/step - loss: 111.5994 - mae: 111.5994 - val_loss: 809.2821 - val_mae: 809.2821\n",
            "Epoch 94/100\n",
            "18/18 [==============================] - 0s 4ms/step - loss: 124.0310 - mae: 124.0310 - val_loss: 652.5917 - val_mae: 652.5917\n",
            "Epoch 95/100\n",
            "18/18 [==============================] - 0s 24ms/step - loss: 129.3351 - mae: 129.3351 - val_loss: 603.9207 - val_mae: 603.9207\n",
            "Epoch 96/100\n",
            "18/18 [==============================] - 0s 4ms/step - loss: 110.5437 - mae: 110.5437 - val_loss: 606.8804 - val_mae: 606.8804\n",
            "Epoch 97/100\n",
            "18/18 [==============================] - 0s 4ms/step - loss: 110.3511 - mae: 110.3511 - val_loss: 701.6098 - val_mae: 701.6098\n",
            "Epoch 98/100\n",
            "18/18 [==============================] - 0s 4ms/step - loss: 140.8737 - mae: 140.8737 - val_loss: 874.2027 - val_mae: 874.2027\n",
            "Epoch 99/100\n",
            "18/18 [==============================] - 0s 4ms/step - loss: 124.8477 - mae: 124.8477 - val_loss: 610.0934 - val_mae: 610.0934\n",
            "Epoch 100/100\n",
            "18/18 [==============================] - 0s 4ms/step - loss: 119.2667 - mae: 119.2667 - val_loss: 894.0967 - val_mae: 894.0967\n"
          ]
        },
        {
          "output_type": "execute_result",
          "data": {
            "text/plain": [
              "<keras.src.callbacks.History at 0x7d6af0512050>"
            ]
          },
          "metadata": {},
          "execution_count": 118
        }
      ]
    },
    {
      "cell_type": "code",
      "source": [
        "# Evaluate model 2\n",
        "model_2.evaluate(test_windows, test_labels)"
      ],
      "metadata": {
        "id": "wrLwPL2JEozz",
        "outputId": "b92d0270-0220-453c-e5cf-0f0deead9c5a",
        "colab": {
          "base_uri": "https://localhost:8080/"
        }
      },
      "execution_count": 119,
      "outputs": [
        {
          "output_type": "stream",
          "name": "stdout",
          "text": [
            "18/18 [==============================] - 0s 2ms/step - loss: 894.0967 - mae: 894.0967\n"
          ]
        },
        {
          "output_type": "execute_result",
          "data": {
            "text/plain": [
              "[894.0966796875, 894.0966796875]"
            ]
          },
          "metadata": {},
          "execution_count": 119
        }
      ]
    },
    {
      "cell_type": "code",
      "source": [
        "load_model_2 = tf.keras.models.load_model('model_experiments/model_2_dense_30/')\n",
        "load_model_2_pred = load_model_2.predict(test_windows)\n",
        "model_2_results = make_pred_and_evaluate(load_model_2, test_windows, test_labels)"
      ],
      "metadata": {
        "id": "DtSC6p8cFaDV",
        "outputId": "5653af69-4fbb-4fde-bf05-2fa34061935b",
        "colab": {
          "base_uri": "https://localhost:8080/"
        }
      },
      "execution_count": 124,
      "outputs": [
        {
          "output_type": "stream",
          "name": "stdout",
          "text": [
            "18/18 [==============================] - 0s 2ms/step\n",
            "18/18 [==============================] - 0s 1ms/step\n"
          ]
        }
      ]
    },
    {
      "cell_type": "code",
      "source": [
        "model_2_results"
      ],
      "metadata": {
        "id": "di4UvzOkF5jJ",
        "outputId": "2cc3d38f-20f7-4523-931e-fb03a508753e",
        "colab": {
          "base_uri": "https://localhost:8080/"
        }
      },
      "execution_count": 125,
      "outputs": [
        {
          "output_type": "execute_result",
          "data": {
            "text/plain": [
              "{'MAE': 603.9207,\n",
              " 'MSE': 1267930.2,\n",
              " 'RMSE': 1126.024,\n",
              " 'MAPE': 2.705043,\n",
              " 'MASE': 1.0556593}"
            ]
          },
          "metadata": {},
          "execution_count": 125
        }
      ]
    },
    {
      "cell_type": "code",
      "source": [
        "offset= 400\n",
        "plt.figure(figsize= (10, 7))\n",
        "plot_time_series(X_test[-len(test_windows):], values= test_labels[:, 0], start= offset, label= 'Test data')\n",
        "plot_time_series(X_test[-len(test_windows):], values= load_model_2_pred, format= '-', start= offset, label= 'Model 2 prediction')"
      ],
      "metadata": {
        "id": "eC7I0dUIGV3J",
        "outputId": "db834ffe-c709-4433-f350-b71ef0d1b597",
        "colab": {
          "base_uri": "https://localhost:8080/",
          "height": 453
        }
      },
      "execution_count": 128,
      "outputs": [
        {
          "output_type": "display_data",
          "data": {
            "text/plain": [
              "<Figure size 1000x700 with 1 Axes>"
            ],
            "image/png": "[encoded data removed]"
          },
          "metadata": {}
        }
      ]
    }
  ]
}