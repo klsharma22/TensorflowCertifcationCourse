{
  "nbformat": 4,
  "nbformat_minor": 0,
  "metadata": {
    "colab": {
      "provenance": [],
      "machine_shape": "hm",
      "gpuType": "T4",
      "authorship_tag": "ABX9TyNwl830WcixgAC8TspAah6b",
      "include_colab_link": true
    },
    "kernelspec": {
      "name": "python3",
      "display_name": "Python 3"
    },
    "language_info": {
      "name": "python"
    },
    "accelerator": "GPU"
  },
  "cells": [
    {
      "cell_type": "markdown",
      "metadata": {
        "id": "view-in-github",
        "colab_type": "text"
      },
      "source": [
        "<a href=\"https://colab.research.google.com/github/klsharma22/TensorflowCertifcationCourse/blob/main/10_time_series_forecasting_with_tensorflow.ipynb\" target=\"_parent\"><img src=\"https://colab.research.google.com/assets/colab-badge.svg\" alt=\"Open In Colab\"/></a>"
      ]
    },
    {
      "cell_type": "markdown",
      "source": [
        "# Time series forecasting fundamentals with Milestone project"
      ],
      "metadata": {
        "id": "euARGZ6e-xI7"
      }
    },
    {
      "cell_type": "markdown",
      "source": [
        "## Get data"
      ],
      "metadata": {
        "id": "16qJKqvi_Fng"
      }
    },
    {
      "cell_type": "code",
      "source": [
        "!wget https://raw.githubusercontent.com/mrdbourke/tensorflow-deep-learning/main/extras/BTC_USD_2013-10-01_2021-05-18-CoinDesk.csv"
      ],
      "metadata": {
        "colab": {
          "base_uri": "https://localhost:8080/"
        },
        "id": "VuCqetoN_sDc",
        "outputId": "f2fdbd6a-78d4-4be2-8f75-a14e27f94904"
      },
      "execution_count": 1,
      "outputs": [
        {
          "output_type": "stream",
          "name": "stdout",
          "text": [
            "--2024-03-19 09:51:44--  https://raw.githubusercontent.com/mrdbourke/tensorflow-deep-learning/main/extras/BTC_USD_2013-10-01_2021-05-18-CoinDesk.csv\n",
            "Resolving raw.githubusercontent.com (raw.githubusercontent.com)... 185.199.108.133, 185.199.110.133, 185.199.111.133, ...\n",
            "Connecting to raw.githubusercontent.com (raw.githubusercontent.com)|185.199.108.133|:443... connected.\n",
            "HTTP request sent, awaiting response... 200 OK\n",
            "Length: 178509 (174K) [text/plain]\n",
            "Saving to: ‘BTC_USD_2013-10-01_2021-05-18-CoinDesk.csv’\n",
            "\n",
            "BTC_USD_2013-10-01_ 100%[===================>] 174.33K  --.-KB/s    in 0.09s   \n",
            "\n",
            "2024-03-19 09:51:45 (1.94 MB/s) - ‘BTC_USD_2013-10-01_2021-05-18-CoinDesk.csv’ saved [178509/178509]\n",
            "\n"
          ]
        }
      ]
    },
    {
      "cell_type": "code",
      "source": [
        "!wget https://raw.githubusercontent.com/mrdbourke/tensorflow-deep-learning/main/extras/helper_functions.py"
      ],
      "metadata": {
        "colab": {
          "base_uri": "https://localhost:8080/"
        },
        "id": "szca1eSt_zn5",
        "outputId": "e62b9f83-62b7-43e5-f5d1-7cffd472ec47"
      },
      "execution_count": 2,
      "outputs": [
        {
          "output_type": "stream",
          "name": "stdout",
          "text": [
            "--2024-03-19 09:51:45--  https://raw.githubusercontent.com/mrdbourke/tensorflow-deep-learning/main/extras/helper_functions.py\n",
            "Resolving raw.githubusercontent.com (raw.githubusercontent.com)... 185.199.110.133, 185.199.108.133, 185.199.111.133, ...\n",
            "Connecting to raw.githubusercontent.com (raw.githubusercontent.com)|185.199.110.133|:443... connected.\n",
            "HTTP request sent, awaiting response... 200 OK\n",
            "Length: 10246 (10K) [text/plain]\n",
            "Saving to: ‘helper_functions.py’\n",
            "\n",
            "helper_functions.py 100%[===================>]  10.01K  --.-KB/s    in 0.001s  \n",
            "\n",
            "2024-03-19 09:51:45 (9.03 MB/s) - ‘helper_functions.py’ saved [10246/10246]\n",
            "\n"
          ]
        }
      ]
    },
    {
      "cell_type": "markdown",
      "source": [
        "## Importing data with pandas"
      ],
      "metadata": {
        "id": "8IcFPxTM_9V6"
      }
    },
    {
      "cell_type": "code",
      "source": [
        "# Import pandas\n",
        "import pandas as pd\n",
        "# Let's read the data and parse it\n",
        "df = pd.read_csv('/content/BTC_USD_2013-10-01_2021-05-18-CoinDesk.csv',\n",
        "                 parse_dates= ['Date'],\n",
        "                 index_col= ['Date']) # parse date and telling pandas that column 1 is datetime\n",
        "\n",
        "df"
      ],
      "metadata": {
        "colab": {
          "base_uri": "https://localhost:8080/",
          "height": 637
        },
        "id": "Zg4aMURIAEr2",
        "outputId": "bcf4f03e-9ab0-4689-8dde-8f112209b0a6"
      },
      "execution_count": 3,
      "outputs": [
        {
          "output_type": "execute_result",
          "data": {
            "text/plain": [
              "           Currency  Closing Price (USD)  24h Open (USD)  24h High (USD)  \\\n",
              "Date                                                                       \n",
              "2013-10-01      BTC           123.654990      124.304660      124.751660   \n",
              "2013-10-02      BTC           125.455000      123.654990      125.758500   \n",
              "2013-10-03      BTC           108.584830      125.455000      125.665660   \n",
              "2013-10-04      BTC           118.674660      108.584830      118.675000   \n",
              "2013-10-05      BTC           121.338660      118.674660      121.936330   \n",
              "...             ...                  ...             ...             ...   \n",
              "2021-05-14      BTC         49764.132082    49596.778891    51448.798576   \n",
              "2021-05-15      BTC         50032.693137    49717.354353    51578.312545   \n",
              "2021-05-16      BTC         47885.625255    49926.035067    50690.802950   \n",
              "2021-05-17      BTC         45604.615754    46805.537852    49670.414174   \n",
              "2021-05-18      BTC         43144.471291    46439.336570    46622.853437   \n",
              "\n",
              "            24h Low (USD)  \n",
              "Date                       \n",
              "2013-10-01     122.563490  \n",
              "2013-10-02     123.633830  \n",
              "2013-10-03      83.328330  \n",
              "2013-10-04     107.058160  \n",
              "2013-10-05     118.005660  \n",
              "...                   ...  \n",
              "2021-05-14   46294.720180  \n",
              "2021-05-15   48944.346536  \n",
              "2021-05-16   47005.102292  \n",
              "2021-05-17   43868.638969  \n",
              "2021-05-18   42102.346430  \n",
              "\n",
              "[2787 rows x 5 columns]"
            ],
            "text/html": [
              "\n",
              "  <div id=\"df-2eb5326a-234f-4635-86ba-d60e06569cbf\" class=\"colab-df-container\">\n",
              "    <div>\n",
              "<style scoped>\n",
              "    .dataframe tbody tr th:only-of-type {\n",
              "        vertical-align: middle;\n",
              "    }\n",
              "\n",
              "    .dataframe tbody tr th {\n",
              "        vertical-align: top;\n",
              "    }\n",
              "\n",
              "    .dataframe thead th {\n",
              "        text-align: right;\n",
              "    }\n",
              "</style>\n",
              "<table border=\"1\" class=\"dataframe\">\n",
              "  <thead>\n",
              "    <tr style=\"text-align: right;\">\n",
              "      <th></th>\n",
              "      <th>Currency</th>\n",
              "      <th>Closing Price (USD)</th>\n",
              "      <th>24h Open (USD)</th>\n",
              "      <th>24h High (USD)</th>\n",
              "      <th>24h Low (USD)</th>\n",
              "    </tr>\n",
              "    <tr>\n",
              "      <th>Date</th>\n",
              "      <th></th>\n",
              "      <th></th>\n",
              "      <th></th>\n",
              "      <th></th>\n",
              "      <th></th>\n",
              "    </tr>\n",
              "  </thead>\n",
              "  <tbody>\n",
              "    <tr>\n",
              "      <th>2013-10-01</th>\n",
              "      <td>BTC</td>\n",
              "      <td>123.654990</td>\n",
              "      <td>124.304660</td>\n",
              "      <td>124.751660</td>\n",
              "      <td>122.563490</td>\n",
              "    </tr>\n",
              "    <tr>\n",
              "      <th>2013-10-02</th>\n",
              "      <td>BTC</td>\n",
              "      <td>125.455000</td>\n",
              "      <td>123.654990</td>\n",
              "      <td>125.758500</td>\n",
              "      <td>123.633830</td>\n",
              "    </tr>\n",
              "    <tr>\n",
              "      <th>2013-10-03</th>\n",
              "      <td>BTC</td>\n",
              "      <td>108.584830</td>\n",
              "      <td>125.455000</td>\n",
              "      <td>125.665660</td>\n",
              "      <td>83.328330</td>\n",
              "    </tr>\n",
              "    <tr>\n",
              "      <th>2013-10-04</th>\n",
              "      <td>BTC</td>\n",
              "      <td>118.674660</td>\n",
              "      <td>108.584830</td>\n",
              "      <td>118.675000</td>\n",
              "      <td>107.058160</td>\n",
              "    </tr>\n",
              "    <tr>\n",
              "      <th>2013-10-05</th>\n",
              "      <td>BTC</td>\n",
              "      <td>121.338660</td>\n",
              "      <td>118.674660</td>\n",
              "      <td>121.936330</td>\n",
              "      <td>118.005660</td>\n",
              "    </tr>\n",
              "    <tr>\n",
              "      <th>...</th>\n",
              "      <td>...</td>\n",
              "      <td>...</td>\n",
              "      <td>...</td>\n",
              "      <td>...</td>\n",
              "      <td>...</td>\n",
              "    </tr>\n",
              "    <tr>\n",
              "      <th>2021-05-14</th>\n",
              "      <td>BTC</td>\n",
              "      <td>49764.132082</td>\n",
              "      <td>49596.778891</td>\n",
              "      <td>51448.798576</td>\n",
              "      <td>46294.720180</td>\n",
              "    </tr>\n",
              "    <tr>\n",
              "      <th>2021-05-15</th>\n",
              "      <td>BTC</td>\n",
              "      <td>50032.693137</td>\n",
              "      <td>49717.354353</td>\n",
              "      <td>51578.312545</td>\n",
              "      <td>48944.346536</td>\n",
              "    </tr>\n",
              "    <tr>\n",
              "      <th>2021-05-16</th>\n",
              "      <td>BTC</td>\n",
              "      <td>47885.625255</td>\n",
              "      <td>49926.035067</td>\n",
              "      <td>50690.802950</td>\n",
              "      <td>47005.102292</td>\n",
              "    </tr>\n",
              "    <tr>\n",
              "      <th>2021-05-17</th>\n",
              "      <td>BTC</td>\n",
              "      <td>45604.615754</td>\n",
              "      <td>46805.537852</td>\n",
              "      <td>49670.414174</td>\n",
              "      <td>43868.638969</td>\n",
              "    </tr>\n",
              "    <tr>\n",
              "      <th>2021-05-18</th>\n",
              "      <td>BTC</td>\n",
              "      <td>43144.471291</td>\n",
              "      <td>46439.336570</td>\n",
              "      <td>46622.853437</td>\n",
              "      <td>42102.346430</td>\n",
              "    </tr>\n",
              "  </tbody>\n",
              "</table>\n",
              "<p>2787 rows × 5 columns</p>\n",
              "</div>\n",
              "    <div class=\"colab-df-buttons\">\n",
              "\n",
              "  <div class=\"colab-df-container\">\n",
              "    <button class=\"colab-df-convert\" onclick=\"convertToInteractive('df-2eb5326a-234f-4635-86ba-d60e06569cbf')\"\n",
              "            title=\"Convert this dataframe to an interactive table.\"\n",
              "            style=\"display:none;\">\n",
              "\n",
              "  <svg xmlns=\"http://www.w3.org/2000/svg\" height=\"24px\" viewBox=\"0 -960 960 960\">\n",
              "    <path d=\"M120-120v-720h720v720H120Zm60-500h600v-160H180v160Zm220 220h160v-160H400v160Zm0 220h160v-160H400v160ZM180-400h160v-160H180v160Zm440 0h160v-160H620v160ZM180-180h160v-160H180v160Zm440 0h160v-160H620v160Z\"/>\n",
              "  </svg>\n",
              "    </button>\n",
              "\n",
              "  <style>\n",
              "    .colab-df-container {\n",
              "      display:flex;\n",
              "      gap: 12px;\n",
              "    }\n",
              "\n",
              "    .colab-df-convert {\n",
              "      background-color: #E8F0FE;\n",
              "      border: none;\n",
              "      border-radius: 50%;\n",
              "      cursor: pointer;\n",
              "      display: none;\n",
              "      fill: #1967D2;\n",
              "      height: 32px;\n",
              "      padding: 0 0 0 0;\n",
              "      width: 32px;\n",
              "    }\n",
              "\n",
              "    .colab-df-convert:hover {\n",
              "      background-color: #E2EBFA;\n",
              "      box-shadow: 0px 1px 2px rgba(60, 64, 67, 0.3), 0px 1px 3px 1px rgba(60, 64, 67, 0.15);\n",
              "      fill: #174EA6;\n",
              "    }\n",
              "\n",
              "    .colab-df-buttons div {\n",
              "      margin-bottom: 4px;\n",
              "    }\n",
              "\n",
              "    [theme=dark] .colab-df-convert {\n",
              "      background-color: #3B4455;\n",
              "      fill: #D2E3FC;\n",
              "    }\n",
              "\n",
              "    [theme=dark] .colab-df-convert:hover {\n",
              "      background-color: #434B5C;\n",
              "      box-shadow: 0px 1px 3px 1px rgba(0, 0, 0, 0.15);\n",
              "      filter: drop-shadow(0px 1px 2px rgba(0, 0, 0, 0.3));\n",
              "      fill: #FFFFFF;\n",
              "    }\n",
              "  </style>\n",
              "\n",
              "    <script>\n",
              "      const buttonEl =\n",
              "        document.querySelector('#df-2eb5326a-234f-4635-86ba-d60e06569cbf button.colab-df-convert');\n",
              "      buttonEl.style.display =\n",
              "        google.colab.kernel.accessAllowed ? 'block' : 'none';\n",
              "\n",
              "      async function convertToInteractive(key) {\n",
              "        const element = document.querySelector('#df-2eb5326a-234f-4635-86ba-d60e06569cbf');\n",
              "        const dataTable =\n",
              "          await google.colab.kernel.invokeFunction('convertToInteractive',\n",
              "                                                    [key], {});\n",
              "        if (!dataTable) return;\n",
              "\n",
              "        const docLinkHtml = 'Like what you see? Visit the ' +\n",
              "          '<a target=\"_blank\" href=https://colab.research.google.com/notebooks/data_table.ipynb>data table notebook</a>'\n",
              "          + ' to learn more about interactive tables.';\n",
              "        element.innerHTML = '';\n",
              "        dataTable['output_type'] = 'display_data';\n",
              "        await google.colab.output.renderOutput(dataTable, element);\n",
              "        const docLink = document.createElement('div');\n",
              "        docLink.innerHTML = docLinkHtml;\n",
              "        element.appendChild(docLink);\n",
              "      }\n",
              "    </script>\n",
              "  </div>\n",
              "\n",
              "\n",
              "<div id=\"df-01d05cce-f6c6-44e4-b762-f1b16781c245\">\n",
              "  <button class=\"colab-df-quickchart\" onclick=\"quickchart('df-01d05cce-f6c6-44e4-b762-f1b16781c245')\"\n",
              "            title=\"Suggest charts\"\n",
              "            style=\"display:none;\">\n",
              "\n",
              "<svg xmlns=\"http://www.w3.org/2000/svg\" height=\"24px\"viewBox=\"0 0 24 24\"\n",
              "     width=\"24px\">\n",
              "    <g>\n",
              "        <path d=\"M19 3H5c-1.1 0-2 .9-2 2v14c0 1.1.9 2 2 2h14c1.1 0 2-.9 2-2V5c0-1.1-.9-2-2-2zM9 17H7v-7h2v7zm4 0h-2V7h2v10zm4 0h-2v-4h2v4z\"/>\n",
              "    </g>\n",
              "</svg>\n",
              "  </button>\n",
              "\n",
              "<style>\n",
              "  .colab-df-quickchart {\n",
              "      --bg-color: #E8F0FE;\n",
              "      --fill-color: #1967D2;\n",
              "      --hover-bg-color: #E2EBFA;\n",
              "      --hover-fill-color: #174EA6;\n",
              "      --disabled-fill-color: #AAA;\n",
              "      --disabled-bg-color: #DDD;\n",
              "  }\n",
              "\n",
              "  [theme=dark] .colab-df-quickchart {\n",
              "      --bg-color: #3B4455;\n",
              "      --fill-color: #D2E3FC;\n",
              "      --hover-bg-color: #434B5C;\n",
              "      --hover-fill-color: #FFFFFF;\n",
              "      --disabled-bg-color: #3B4455;\n",
              "      --disabled-fill-color: #666;\n",
              "  }\n",
              "\n",
              "  .colab-df-quickchart {\n",
              "    background-color: var(--bg-color);\n",
              "    border: none;\n",
              "    border-radius: 50%;\n",
              "    cursor: pointer;\n",
              "    display: none;\n",
              "    fill: var(--fill-color);\n",
              "    height: 32px;\n",
              "    padding: 0;\n",
              "    width: 32px;\n",
              "  }\n",
              "\n",
              "  .colab-df-quickchart:hover {\n",
              "    background-color: var(--hover-bg-color);\n",
              "    box-shadow: 0 1px 2px rgba(60, 64, 67, 0.3), 0 1px 3px 1px rgba(60, 64, 67, 0.15);\n",
              "    fill: var(--button-hover-fill-color);\n",
              "  }\n",
              "\n",
              "  .colab-df-quickchart-complete:disabled,\n",
              "  .colab-df-quickchart-complete:disabled:hover {\n",
              "    background-color: var(--disabled-bg-color);\n",
              "    fill: var(--disabled-fill-color);\n",
              "    box-shadow: none;\n",
              "  }\n",
              "\n",
              "  .colab-df-spinner {\n",
              "    border: 2px solid var(--fill-color);\n",
              "    border-color: transparent;\n",
              "    border-bottom-color: var(--fill-color);\n",
              "    animation:\n",
              "      spin 1s steps(1) infinite;\n",
              "  }\n",
              "\n",
              "  @keyframes spin {\n",
              "    0% {\n",
              "      border-color: transparent;\n",
              "      border-bottom-color: var(--fill-color);\n",
              "      border-left-color: var(--fill-color);\n",
              "    }\n",
              "    20% {\n",
              "      border-color: transparent;\n",
              "      border-left-color: var(--fill-color);\n",
              "      border-top-color: var(--fill-color);\n",
              "    }\n",
              "    30% {\n",
              "      border-color: transparent;\n",
              "      border-left-color: var(--fill-color);\n",
              "      border-top-color: var(--fill-color);\n",
              "      border-right-color: var(--fill-color);\n",
              "    }\n",
              "    40% {\n",
              "      border-color: transparent;\n",
              "      border-right-color: var(--fill-color);\n",
              "      border-top-color: var(--fill-color);\n",
              "    }\n",
              "    60% {\n",
              "      border-color: transparent;\n",
              "      border-right-color: var(--fill-color);\n",
              "    }\n",
              "    80% {\n",
              "      border-color: transparent;\n",
              "      border-right-color: var(--fill-color);\n",
              "      border-bottom-color: var(--fill-color);\n",
              "    }\n",
              "    90% {\n",
              "      border-color: transparent;\n",
              "      border-bottom-color: var(--fill-color);\n",
              "    }\n",
              "  }\n",
              "</style>\n",
              "\n",
              "  <script>\n",
              "    async function quickchart(key) {\n",
              "      const quickchartButtonEl =\n",
              "        document.querySelector('#' + key + ' button');\n",
              "      quickchartButtonEl.disabled = true;  // To prevent multiple clicks.\n",
              "      quickchartButtonEl.classList.add('colab-df-spinner');\n",
              "      try {\n",
              "        const charts = await google.colab.kernel.invokeFunction(\n",
              "            'suggestCharts', [key], {});\n",
              "      } catch (error) {\n",
              "        console.error('Error during call to suggestCharts:', error);\n",
              "      }\n",
              "      quickchartButtonEl.classList.remove('colab-df-spinner');\n",
              "      quickchartButtonEl.classList.add('colab-df-quickchart-complete');\n",
              "    }\n",
              "    (() => {\n",
              "      let quickchartButtonEl =\n",
              "        document.querySelector('#df-01d05cce-f6c6-44e4-b762-f1b16781c245 button');\n",
              "      quickchartButtonEl.style.display =\n",
              "        google.colab.kernel.accessAllowed ? 'block' : 'none';\n",
              "    })();\n",
              "  </script>\n",
              "</div>\n",
              "\n",
              "  <div id=\"id_d3965c0a-02d7-487a-b71c-88d889ed7b7e\">\n",
              "    <style>\n",
              "      .colab-df-generate {\n",
              "        background-color: #E8F0FE;\n",
              "        border: none;\n",
              "        border-radius: 50%;\n",
              "        cursor: pointer;\n",
              "        display: none;\n",
              "        fill: #1967D2;\n",
              "        height: 32px;\n",
              "        padding: 0 0 0 0;\n",
              "        width: 32px;\n",
              "      }\n",
              "\n",
              "      .colab-df-generate:hover {\n",
              "        background-color: #E2EBFA;\n",
              "        box-shadow: 0px 1px 2px rgba(60, 64, 67, 0.3), 0px 1px 3px 1px rgba(60, 64, 67, 0.15);\n",
              "        fill: #174EA6;\n",
              "      }\n",
              "\n",
              "      [theme=dark] .colab-df-generate {\n",
              "        background-color: #3B4455;\n",
              "        fill: #D2E3FC;\n",
              "      }\n",
              "\n",
              "      [theme=dark] .colab-df-generate:hover {\n",
              "        background-color: #434B5C;\n",
              "        box-shadow: 0px 1px 3px 1px rgba(0, 0, 0, 0.15);\n",
              "        filter: drop-shadow(0px 1px 2px rgba(0, 0, 0, 0.3));\n",
              "        fill: #FFFFFF;\n",
              "      }\n",
              "    </style>\n",
              "    <button class=\"colab-df-generate\" onclick=\"generateWithVariable('df')\"\n",
              "            title=\"Generate code using this dataframe.\"\n",
              "            style=\"display:none;\">\n",
              "\n",
              "  <svg xmlns=\"http://www.w3.org/2000/svg\" height=\"24px\"viewBox=\"0 0 24 24\"\n",
              "       width=\"24px\">\n",
              "    <path d=\"M7,19H8.4L18.45,9,17,7.55,7,17.6ZM5,21V16.75L18.45,3.32a2,2,0,0,1,2.83,0l1.4,1.43a1.91,1.91,0,0,1,.58,1.4,1.91,1.91,0,0,1-.58,1.4L9.25,21ZM18.45,9,17,7.55Zm-12,3A5.31,5.31,0,0,0,4.9,8.1,5.31,5.31,0,0,0,1,6.5,5.31,5.31,0,0,0,4.9,4.9,5.31,5.31,0,0,0,6.5,1,5.31,5.31,0,0,0,8.1,4.9,5.31,5.31,0,0,0,12,6.5,5.46,5.46,0,0,0,6.5,12Z\"/>\n",
              "  </svg>\n",
              "    </button>\n",
              "    <script>\n",
              "      (() => {\n",
              "      const buttonEl =\n",
              "        document.querySelector('#id_d3965c0a-02d7-487a-b71c-88d889ed7b7e button.colab-df-generate');\n",
              "      buttonEl.style.display =\n",
              "        google.colab.kernel.accessAllowed ? 'block' : 'none';\n",
              "\n",
              "      buttonEl.onclick = () => {\n",
              "        google.colab.notebook.generateWithVariable('df');\n",
              "      }\n",
              "      })();\n",
              "    </script>\n",
              "  </div>\n",
              "\n",
              "    </div>\n",
              "  </div>\n"
            ],
            "application/vnd.google.colaboratory.intrinsic+json": {
              "type": "dataframe",
              "variable_name": "df",
              "summary": "{\n  \"name\": \"df\",\n  \"rows\": 2787,\n  \"fields\": [\n    {\n      \"column\": \"Date\",\n      \"properties\": {\n        \"dtype\": \"date\",\n        \"min\": \"2013-10-01 00:00:00\",\n        \"max\": \"2021-05-18 00:00:00\",\n        \"num_unique_values\": 2787,\n        \"samples\": [\n          \"2019-06-11 00:00:00\",\n          \"2021-05-03 00:00:00\",\n          \"2017-10-05 00:00:00\"\n        ],\n        \"semantic_type\": \"\",\n        \"description\": \"\"\n      }\n    },\n    {\n      \"column\": \"Currency\",\n      \"properties\": {\n        \"dtype\": \"category\",\n        \"num_unique_values\": 1,\n        \"samples\": [\n          \"BTC\"\n        ],\n        \"semantic_type\": \"\",\n        \"description\": \"\"\n      }\n    },\n    {\n      \"column\": \"Closing Price (USD)\",\n      \"properties\": {\n        \"dtype\": \"number\",\n        \"std\": 10887.84744436952,\n        \"min\": 108.58483,\n        \"max\": 63346.7890351052,\n        \"num_unique_values\": 2787,\n        \"samples\": [\n          7954.0062377205\n        ],\n        \"semantic_type\": \"\",\n        \"description\": \"\"\n      }\n    },\n    {\n      \"column\": \"24h Open (USD)\",\n      \"properties\": {\n        \"dtype\": \"number\",\n        \"std\": 10863.80077212387,\n        \"min\": 108.58483,\n        \"max\": 63562.6735446382,\n        \"num_unique_values\": 2787,\n        \"samples\": [\n          7600.9225047785\n        ],\n        \"semantic_type\": \"\",\n        \"description\": \"\"\n      }\n    },\n    {\n      \"column\": \"24h High (USD)\",\n      \"properties\": {\n        \"dtype\": \"number\",\n        \"std\": 11206.779756254151,\n        \"min\": 118.675,\n        \"max\": 64801.787869525,\n        \"num_unique_values\": 2787,\n        \"samples\": [\n          8064.9001353225\n        ],\n        \"semantic_type\": \"\",\n        \"description\": \"\"\n      }\n    },\n    {\n      \"column\": \"24h Low (USD)\",\n      \"properties\": {\n        \"dtype\": \"number\",\n        \"std\": 10475.8112518284,\n        \"min\": 83.32833,\n        \"max\": 62094.6329143272,\n        \"num_unique_values\": 2785,\n        \"samples\": [\n          7714.610306452\n        ],\n        \"semantic_type\": \"\",\n        \"description\": \"\"\n      }\n    }\n  ]\n}"
            }
          },
          "metadata": {},
          "execution_count": 3
        }
      ]
    },
    {
      "cell_type": "code",
      "source": [
        "df.info()"
      ],
      "metadata": {
        "colab": {
          "base_uri": "https://localhost:8080/"
        },
        "id": "d6nqGz3dA6vf",
        "outputId": "39531c56-f896-4a3d-e190-344cda5b0c77"
      },
      "execution_count": 4,
      "outputs": [
        {
          "output_type": "stream",
          "name": "stdout",
          "text": [
            "<class 'pandas.core.frame.DataFrame'>\n",
            "DatetimeIndex: 2787 entries, 2013-10-01 to 2021-05-18\n",
            "Data columns (total 5 columns):\n",
            " #   Column               Non-Null Count  Dtype  \n",
            "---  ------               --------------  -----  \n",
            " 0   Currency             2787 non-null   object \n",
            " 1   Closing Price (USD)  2787 non-null   float64\n",
            " 2   24h Open (USD)       2787 non-null   float64\n",
            " 3   24h High (USD)       2787 non-null   float64\n",
            " 4   24h Low (USD)        2787 non-null   float64\n",
            "dtypes: float64(4), object(1)\n",
            "memory usage: 130.6+ KB\n"
          ]
        }
      ]
    },
    {
      "cell_type": "code",
      "source": [
        "# How many samples do we have\n",
        "len(df)"
      ],
      "metadata": {
        "colab": {
          "base_uri": "https://localhost:8080/"
        },
        "id": "UKly8vHeA9VH",
        "outputId": "487a7a38-8c34-4675-d5d5-fb7ba701bdf9"
      },
      "execution_count": 5,
      "outputs": [
        {
          "output_type": "execute_result",
          "data": {
            "text/plain": [
              "2787"
            ]
          },
          "metadata": {},
          "execution_count": 5
        }
      ]
    },
    {
      "cell_type": "markdown",
      "source": [
        "> **Note**: **Seasonality** pf a time series data is referd as the number of samples per year. For outr BitCoin prediction the seasonality is of daily so we will have 365 data per year"
      ],
      "metadata": {
        "id": "Iqk1eZeABvBF"
      }
    },
    {
      "cell_type": "code",
      "source": [
        "# Creating a new dataframe\n",
        "bitcoin_prices = pd.DataFrame(df['Closing Price (USD)']).rename(columns= {'Closing Price (USD)': 'Price'})\n",
        "bitcoin_prices.head()"
      ],
      "metadata": {
        "colab": {
          "base_uri": "https://localhost:8080/",
          "height": 235
        },
        "id": "STpYPZXFCGON",
        "outputId": "6f82cfa5-b3bb-4d69-f190-b1c6d699e0b8"
      },
      "execution_count": 6,
      "outputs": [
        {
          "output_type": "execute_result",
          "data": {
            "text/plain": [
              "                Price\n",
              "Date                 \n",
              "2013-10-01  123.65499\n",
              "2013-10-02  125.45500\n",
              "2013-10-03  108.58483\n",
              "2013-10-04  118.67466\n",
              "2013-10-05  121.33866"
            ],
            "text/html": [
              "\n",
              "  <div id=\"df-ca671866-ab8f-4887-8edd-3706925e909d\" class=\"colab-df-container\">\n",
              "    <div>\n",
              "<style scoped>\n",
              "    .dataframe tbody tr th:only-of-type {\n",
              "        vertical-align: middle;\n",
              "    }\n",
              "\n",
              "    .dataframe tbody tr th {\n",
              "        vertical-align: top;\n",
              "    }\n",
              "\n",
              "    .dataframe thead th {\n",
              "        text-align: right;\n",
              "    }\n",
              "</style>\n",
              "<table border=\"1\" class=\"dataframe\">\n",
              "  <thead>\n",
              "    <tr style=\"text-align: right;\">\n",
              "      <th></th>\n",
              "      <th>Price</th>\n",
              "    </tr>\n",
              "    <tr>\n",
              "      <th>Date</th>\n",
              "      <th></th>\n",
              "    </tr>\n",
              "  </thead>\n",
              "  <tbody>\n",
              "    <tr>\n",
              "      <th>2013-10-01</th>\n",
              "      <td>123.65499</td>\n",
              "    </tr>\n",
              "    <tr>\n",
              "      <th>2013-10-02</th>\n",
              "      <td>125.45500</td>\n",
              "    </tr>\n",
              "    <tr>\n",
              "      <th>2013-10-03</th>\n",
              "      <td>108.58483</td>\n",
              "    </tr>\n",
              "    <tr>\n",
              "      <th>2013-10-04</th>\n",
              "      <td>118.67466</td>\n",
              "    </tr>\n",
              "    <tr>\n",
              "      <th>2013-10-05</th>\n",
              "      <td>121.33866</td>\n",
              "    </tr>\n",
              "  </tbody>\n",
              "</table>\n",
              "</div>\n",
              "    <div class=\"colab-df-buttons\">\n",
              "\n",
              "  <div class=\"colab-df-container\">\n",
              "    <button class=\"colab-df-convert\" onclick=\"convertToInteractive('df-ca671866-ab8f-4887-8edd-3706925e909d')\"\n",
              "            title=\"Convert this dataframe to an interactive table.\"\n",
              "            style=\"display:none;\">\n",
              "\n",
              "  <svg xmlns=\"http://www.w3.org/2000/svg\" height=\"24px\" viewBox=\"0 -960 960 960\">\n",
              "    <path d=\"M120-120v-720h720v720H120Zm60-500h600v-160H180v160Zm220 220h160v-160H400v160Zm0 220h160v-160H400v160ZM180-400h160v-160H180v160Zm440 0h160v-160H620v160ZM180-180h160v-160H180v160Zm440 0h160v-160H620v160Z\"/>\n",
              "  </svg>\n",
              "    </button>\n",
              "\n",
              "  <style>\n",
              "    .colab-df-container {\n",
              "      display:flex;\n",
              "      gap: 12px;\n",
              "    }\n",
              "\n",
              "    .colab-df-convert {\n",
              "      background-color: #E8F0FE;\n",
              "      border: none;\n",
              "      border-radius: 50%;\n",
              "      cursor: pointer;\n",
              "      display: none;\n",
              "      fill: #1967D2;\n",
              "      height: 32px;\n",
              "      padding: 0 0 0 0;\n",
              "      width: 32px;\n",
              "    }\n",
              "\n",
              "    .colab-df-convert:hover {\n",
              "      background-color: #E2EBFA;\n",
              "      box-shadow: 0px 1px 2px rgba(60, 64, 67, 0.3), 0px 1px 3px 1px rgba(60, 64, 67, 0.15);\n",
              "      fill: #174EA6;\n",
              "    }\n",
              "\n",
              "    .colab-df-buttons div {\n",
              "      margin-bottom: 4px;\n",
              "    }\n",
              "\n",
              "    [theme=dark] .colab-df-convert {\n",
              "      background-color: #3B4455;\n",
              "      fill: #D2E3FC;\n",
              "    }\n",
              "\n",
              "    [theme=dark] .colab-df-convert:hover {\n",
              "      background-color: #434B5C;\n",
              "      box-shadow: 0px 1px 3px 1px rgba(0, 0, 0, 0.15);\n",
              "      filter: drop-shadow(0px 1px 2px rgba(0, 0, 0, 0.3));\n",
              "      fill: #FFFFFF;\n",
              "    }\n",
              "  </style>\n",
              "\n",
              "    <script>\n",
              "      const buttonEl =\n",
              "        document.querySelector('#df-ca671866-ab8f-4887-8edd-3706925e909d button.colab-df-convert');\n",
              "      buttonEl.style.display =\n",
              "        google.colab.kernel.accessAllowed ? 'block' : 'none';\n",
              "\n",
              "      async function convertToInteractive(key) {\n",
              "        const element = document.querySelector('#df-ca671866-ab8f-4887-8edd-3706925e909d');\n",
              "        const dataTable =\n",
              "          await google.colab.kernel.invokeFunction('convertToInteractive',\n",
              "                                                    [key], {});\n",
              "        if (!dataTable) return;\n",
              "\n",
              "        const docLinkHtml = 'Like what you see? Visit the ' +\n",
              "          '<a target=\"_blank\" href=https://colab.research.google.com/notebooks/data_table.ipynb>data table notebook</a>'\n",
              "          + ' to learn more about interactive tables.';\n",
              "        element.innerHTML = '';\n",
              "        dataTable['output_type'] = 'display_data';\n",
              "        await google.colab.output.renderOutput(dataTable, element);\n",
              "        const docLink = document.createElement('div');\n",
              "        docLink.innerHTML = docLinkHtml;\n",
              "        element.appendChild(docLink);\n",
              "      }\n",
              "    </script>\n",
              "  </div>\n",
              "\n",
              "\n",
              "<div id=\"df-4fce137f-0fb2-4f56-9084-21eaaf406516\">\n",
              "  <button class=\"colab-df-quickchart\" onclick=\"quickchart('df-4fce137f-0fb2-4f56-9084-21eaaf406516')\"\n",
              "            title=\"Suggest charts\"\n",
              "            style=\"display:none;\">\n",
              "\n",
              "<svg xmlns=\"http://www.w3.org/2000/svg\" height=\"24px\"viewBox=\"0 0 24 24\"\n",
              "     width=\"24px\">\n",
              "    <g>\n",
              "        <path d=\"M19 3H5c-1.1 0-2 .9-2 2v14c0 1.1.9 2 2 2h14c1.1 0 2-.9 2-2V5c0-1.1-.9-2-2-2zM9 17H7v-7h2v7zm4 0h-2V7h2v10zm4 0h-2v-4h2v4z\"/>\n",
              "    </g>\n",
              "</svg>\n",
              "  </button>\n",
              "\n",
              "<style>\n",
              "  .colab-df-quickchart {\n",
              "      --bg-color: #E8F0FE;\n",
              "      --fill-color: #1967D2;\n",
              "      --hover-bg-color: #E2EBFA;\n",
              "      --hover-fill-color: #174EA6;\n",
              "      --disabled-fill-color: #AAA;\n",
              "      --disabled-bg-color: #DDD;\n",
              "  }\n",
              "\n",
              "  [theme=dark] .colab-df-quickchart {\n",
              "      --bg-color: #3B4455;\n",
              "      --fill-color: #D2E3FC;\n",
              "      --hover-bg-color: #434B5C;\n",
              "      --hover-fill-color: #FFFFFF;\n",
              "      --disabled-bg-color: #3B4455;\n",
              "      --disabled-fill-color: #666;\n",
              "  }\n",
              "\n",
              "  .colab-df-quickchart {\n",
              "    background-color: var(--bg-color);\n",
              "    border: none;\n",
              "    border-radius: 50%;\n",
              "    cursor: pointer;\n",
              "    display: none;\n",
              "    fill: var(--fill-color);\n",
              "    height: 32px;\n",
              "    padding: 0;\n",
              "    width: 32px;\n",
              "  }\n",
              "\n",
              "  .colab-df-quickchart:hover {\n",
              "    background-color: var(--hover-bg-color);\n",
              "    box-shadow: 0 1px 2px rgba(60, 64, 67, 0.3), 0 1px 3px 1px rgba(60, 64, 67, 0.15);\n",
              "    fill: var(--button-hover-fill-color);\n",
              "  }\n",
              "\n",
              "  .colab-df-quickchart-complete:disabled,\n",
              "  .colab-df-quickchart-complete:disabled:hover {\n",
              "    background-color: var(--disabled-bg-color);\n",
              "    fill: var(--disabled-fill-color);\n",
              "    box-shadow: none;\n",
              "  }\n",
              "\n",
              "  .colab-df-spinner {\n",
              "    border: 2px solid var(--fill-color);\n",
              "    border-color: transparent;\n",
              "    border-bottom-color: var(--fill-color);\n",
              "    animation:\n",
              "      spin 1s steps(1) infinite;\n",
              "  }\n",
              "\n",
              "  @keyframes spin {\n",
              "    0% {\n",
              "      border-color: transparent;\n",
              "      border-bottom-color: var(--fill-color);\n",
              "      border-left-color: var(--fill-color);\n",
              "    }\n",
              "    20% {\n",
              "      border-color: transparent;\n",
              "      border-left-color: var(--fill-color);\n",
              "      border-top-color: var(--fill-color);\n",
              "    }\n",
              "    30% {\n",
              "      border-color: transparent;\n",
              "      border-left-color: var(--fill-color);\n",
              "      border-top-color: var(--fill-color);\n",
              "      border-right-color: var(--fill-color);\n",
              "    }\n",
              "    40% {\n",
              "      border-color: transparent;\n",
              "      border-right-color: var(--fill-color);\n",
              "      border-top-color: var(--fill-color);\n",
              "    }\n",
              "    60% {\n",
              "      border-color: transparent;\n",
              "      border-right-color: var(--fill-color);\n",
              "    }\n",
              "    80% {\n",
              "      border-color: transparent;\n",
              "      border-right-color: var(--fill-color);\n",
              "      border-bottom-color: var(--fill-color);\n",
              "    }\n",
              "    90% {\n",
              "      border-color: transparent;\n",
              "      border-bottom-color: var(--fill-color);\n",
              "    }\n",
              "  }\n",
              "</style>\n",
              "\n",
              "  <script>\n",
              "    async function quickchart(key) {\n",
              "      const quickchartButtonEl =\n",
              "        document.querySelector('#' + key + ' button');\n",
              "      quickchartButtonEl.disabled = true;  // To prevent multiple clicks.\n",
              "      quickchartButtonEl.classList.add('colab-df-spinner');\n",
              "      try {\n",
              "        const charts = await google.colab.kernel.invokeFunction(\n",
              "            'suggestCharts', [key], {});\n",
              "      } catch (error) {\n",
              "        console.error('Error during call to suggestCharts:', error);\n",
              "      }\n",
              "      quickchartButtonEl.classList.remove('colab-df-spinner');\n",
              "      quickchartButtonEl.classList.add('colab-df-quickchart-complete');\n",
              "    }\n",
              "    (() => {\n",
              "      let quickchartButtonEl =\n",
              "        document.querySelector('#df-4fce137f-0fb2-4f56-9084-21eaaf406516 button');\n",
              "      quickchartButtonEl.style.display =\n",
              "        google.colab.kernel.accessAllowed ? 'block' : 'none';\n",
              "    })();\n",
              "  </script>\n",
              "</div>\n",
              "\n",
              "    </div>\n",
              "  </div>\n"
            ],
            "application/vnd.google.colaboratory.intrinsic+json": {
              "type": "dataframe",
              "variable_name": "bitcoin_prices",
              "summary": "{\n  \"name\": \"bitcoin_prices\",\n  \"rows\": 2787,\n  \"fields\": [\n    {\n      \"column\": \"Date\",\n      \"properties\": {\n        \"dtype\": \"date\",\n        \"min\": \"2013-10-01 00:00:00\",\n        \"max\": \"2021-05-18 00:00:00\",\n        \"num_unique_values\": 2787,\n        \"samples\": [\n          \"2019-06-11 00:00:00\",\n          \"2021-05-03 00:00:00\",\n          \"2017-10-05 00:00:00\"\n        ],\n        \"semantic_type\": \"\",\n        \"description\": \"\"\n      }\n    },\n    {\n      \"column\": \"Price\",\n      \"properties\": {\n        \"dtype\": \"number\",\n        \"std\": 10887.84744436952,\n        \"min\": 108.58483,\n        \"max\": 63346.7890351052,\n        \"num_unique_values\": 2787,\n        \"samples\": [\n          7954.0062377205,\n          56427.0431250152,\n          4186.78374\n        ],\n        \"semantic_type\": \"\",\n        \"description\": \"\"\n      }\n    }\n  ]\n}"
            }
          },
          "metadata": {},
          "execution_count": 6
        }
      ]
    },
    {
      "cell_type": "code",
      "source": [
        "import matplotlib.pyplot as plt\n",
        "bitcoin_prices.plot(figsize= (10, 7))\n",
        "plt.ylabel(\"BTC Price\")\n",
        "plt.title(\"Price of Bitcoin from 1 October 2013 to 18 May 2021\", fontsize= 16)"
      ],
      "metadata": {
        "colab": {
          "base_uri": "https://localhost:8080/",
          "height": 488
        },
        "id": "InButBVdFUqe",
        "outputId": "216aa41e-47e9-4ffe-9817-7f81bd0687e2"
      },
      "execution_count": 7,
      "outputs": [
        {
          "output_type": "execute_result",
          "data": {
            "text/plain": [
              "Text(0.5, 1.0, 'Price of Bitcoin from 1 October 2013 to 18 May 2021')"
            ]
          },
          "metadata": {},
          "execution_count": 7
        },
        {
          "output_type": "display_data",
          "data": {
            "text/plain": [
              "<Figure size 1000x700 with 1 Axes>"
            ],
            "image/png": "[encoded data removed]"
          },
          "metadata": {}
        }
      ]
    },
    {
      "cell_type": "markdown",
      "source": [
        "## Importing time series data using csv module"
      ],
      "metadata": {
        "id": "42KdyvmQGhn9"
      }
    },
    {
      "cell_type": "code",
      "source": [
        "# Importing historical data with csv module\n",
        "import csv\n",
        "from datetime import datetime\n",
        "\n",
        "timesteps = []\n",
        "btc_price = []\n",
        "with open(\"/content/BTC_USD_2013-10-01_2021-05-18-CoinDesk.csv\", 'r') as f:\n",
        "  csv_reader = csv.reader(f, delimiter= ',')\n",
        "  next(csv_reader) # This skips the header\n",
        "  for line in csv_reader:\n",
        "    timesteps.append(datetime.strptime(line[1], '%Y-%m-%d')) # get the dates as dates and not string\n",
        "    btc_price.append(float(line[2])) # get closing price\n",
        "\n",
        "# View first 10 of each\n",
        "timesteps[:10], btc_price[:10]\n"
      ],
      "metadata": {
        "colab": {
          "base_uri": "https://localhost:8080/"
        },
        "id": "4Ec-wNiLGqGw",
        "outputId": "e8fedc13-a284-4310-c60b-517f70bdb181"
      },
      "execution_count": 8,
      "outputs": [
        {
          "output_type": "execute_result",
          "data": {
            "text/plain": [
              "([datetime.datetime(2013, 10, 1, 0, 0),\n",
              "  datetime.datetime(2013, 10, 2, 0, 0),\n",
              "  datetime.datetime(2013, 10, 3, 0, 0),\n",
              "  datetime.datetime(2013, 10, 4, 0, 0),\n",
              "  datetime.datetime(2013, 10, 5, 0, 0),\n",
              "  datetime.datetime(2013, 10, 6, 0, 0),\n",
              "  datetime.datetime(2013, 10, 7, 0, 0),\n",
              "  datetime.datetime(2013, 10, 8, 0, 0),\n",
              "  datetime.datetime(2013, 10, 9, 0, 0),\n",
              "  datetime.datetime(2013, 10, 10, 0, 0)],\n",
              " [123.65499,\n",
              "  125.455,\n",
              "  108.58483,\n",
              "  118.67466,\n",
              "  121.33866,\n",
              "  120.65533,\n",
              "  121.795,\n",
              "  123.033,\n",
              "  124.049,\n",
              "  125.96116])"
            ]
          },
          "metadata": {},
          "execution_count": 8
        }
      ]
    },
    {
      "cell_type": "code",
      "source": [
        "# Plot from the above data\n",
        "plt.figure(figsize= (10, 7))\n",
        "plt.plot(timesteps, btc_price)\n",
        "plt.title('Price of Bitcoin from 1 October 2013 to 18 May 2021')"
      ],
      "metadata": {
        "colab": {
          "base_uri": "https://localhost:8080/",
          "height": 483
        },
        "id": "D4DZ_F6NK3wf",
        "outputId": "3809eeb1-1d7d-47a3-8ced-5671450c5cc7"
      },
      "execution_count": 9,
      "outputs": [
        {
          "output_type": "execute_result",
          "data": {
            "text/plain": [
              "Text(0.5, 1.0, 'Price of Bitcoin from 1 October 2013 to 18 May 2021')"
            ]
          },
          "metadata": {},
          "execution_count": 9
        },
        {
          "output_type": "display_data",
          "data": {
            "text/plain": [
              "<Figure size 1000x700 with 1 Axes>"
            ],
            "image/png": "[encoded data removed]"
          },
          "metadata": {}
        }
      ]
    },
    {
      "cell_type": "markdown",
      "source": [
        "## Format data Part 1: Create train and test splits"
      ],
      "metadata": {
        "id": "734w6I5HNa4g"
      }
    },
    {
      "cell_type": "markdown",
      "source": [
        "### Creating train and test sets with time series data (the wrong way)"
      ],
      "metadata": {
        "id": "-NKrWl68OP9m"
      }
    },
    {
      "cell_type": "code",
      "source": [
        "# Get the bitcoin date array\n",
        "timesteps = bitcoin_prices.index.to_numpy()\n",
        "prices = bitcoin_prices['Price'].to_numpy()\n",
        "\n",
        "timesteps[:10], prices[:10]"
      ],
      "metadata": {
        "colab": {
          "base_uri": "https://localhost:8080/"
        },
        "id": "a1ELpLvGOcEd",
        "outputId": "2c7881b1-9135-4db1-827a-ef831be047f0"
      },
      "execution_count": 10,
      "outputs": [
        {
          "output_type": "execute_result",
          "data": {
            "text/plain": [
              "(array(['2013-10-01T00:00:00.000000000', '2013-10-02T00:00:00.000000000',\n",
              "        '2013-10-03T00:00:00.000000000', '2013-10-04T00:00:00.000000000',\n",
              "        '2013-10-05T00:00:00.000000000', '2013-10-06T00:00:00.000000000',\n",
              "        '2013-10-07T00:00:00.000000000', '2013-10-08T00:00:00.000000000',\n",
              "        '2013-10-09T00:00:00.000000000', '2013-10-10T00:00:00.000000000'],\n",
              "       dtype='datetime64[ns]'),\n",
              " array([123.65499, 125.455  , 108.58483, 118.67466, 121.33866, 120.65533,\n",
              "        121.795  , 123.033  , 124.049  , 125.96116]))"
            ]
          },
          "metadata": {},
          "execution_count": 10
        }
      ]
    },
    {
      "cell_type": "code",
      "source": [
        "# Wrong way to make train/test sets for time series data\n",
        "from sklearn.model_selection import train_test_split\n",
        "\n",
        "X_train, X_test, y_train, y_test = train_test_split(timesteps, # dates\n",
        "                                                    prices, # BTC prices\n",
        "                                                    test_size= 0.2,\n",
        "                                                    random_state= 42)\n",
        "\n",
        "X_train.shape, X_test.shape, y_train.shape, y_test.shape"
      ],
      "metadata": {
        "colab": {
          "base_uri": "https://localhost:8080/"
        },
        "id": "vFlkXNDLPppC",
        "outputId": "cb1f8ffc-8481-49e6-b324-f3965da25bdc"
      },
      "execution_count": 11,
      "outputs": [
        {
          "output_type": "execute_result",
          "data": {
            "text/plain": [
              "((2229,), (558,), (2229,), (558,))"
            ]
          },
          "metadata": {},
          "execution_count": 11
        }
      ]
    },
    {
      "cell_type": "code",
      "source": [
        "plt.figure(figsize= (10, 7))\n",
        "plt.scatter(X_train, y_train, s = 5, label= 'Training data')\n",
        "plt.scatter(X_test, y_test, s=5, label= 'Testing data')\n",
        "plt.legend()\n",
        "plt.title('Data scatter plot')"
      ],
      "metadata": {
        "colab": {
          "base_uri": "https://localhost:8080/",
          "height": 483
        },
        "id": "R_y7Tc6PQ0hR",
        "outputId": "334ed350-3d5d-4461-a32e-7e7a8fd0038a"
      },
      "execution_count": 12,
      "outputs": [
        {
          "output_type": "execute_result",
          "data": {
            "text/plain": [
              "Text(0.5, 1.0, 'Data scatter plot')"
            ]
          },
          "metadata": {},
          "execution_count": 12
        },
        {
          "output_type": "display_data",
          "data": {
            "text/plain": [
              "<Figure size 1000x700 with 1 Axes>"
            ],
            "image/png": "[encoded data removed]"
          },
          "metadata": {}
        }
      ]
    },
    {
      "cell_type": "markdown",
      "source": [
        "### Create train & test sets for time series (right way)"
      ],
      "metadata": {
        "id": "wIFZ544oRyks"
      }
    },
    {
      "cell_type": "code",
      "source": [
        "# Create train test set in the right way\n",
        "split_size = int(0.8 * len(prices))\n",
        "\n",
        "# Create train data splits\n",
        "X_train, y_train = timesteps[: split_size], prices[:split_size]\n",
        "# Create test data splits\n",
        "X_test, y_test = timesteps[split_size:], prices[split_size:]\n",
        "\n",
        "len(X_train), len(X_test), len(y_train), len(y_test)"
      ],
      "metadata": {
        "colab": {
          "base_uri": "https://localhost:8080/"
        },
        "id": "z7YJZKR3SqfJ",
        "outputId": "faef83ab-3f06-4581-9387-6e80fc751db4"
      },
      "execution_count": 13,
      "outputs": [
        {
          "output_type": "execute_result",
          "data": {
            "text/plain": [
              "(2229, 558, 2229, 558)"
            ]
          },
          "metadata": {},
          "execution_count": 13
        }
      ]
    },
    {
      "cell_type": "code",
      "source": [
        "# Plot correctly made splits\n",
        "plt.scatter(X_train, y_train, s=5, label= 'Training data')\n",
        "plt.scatter(X_test, y_test, s=5, label= 'Testing data')\n",
        "plt.legend()\n",
        "plt.title('Data Plot in the right way')"
      ],
      "metadata": {
        "colab": {
          "base_uri": "https://localhost:8080/",
          "height": 469
        },
        "id": "v4vQxgzBUjZG",
        "outputId": "b5050547-2214-471b-bcc2-a463eaac4ff7"
      },
      "execution_count": 14,
      "outputs": [
        {
          "output_type": "execute_result",
          "data": {
            "text/plain": [
              "Text(0.5, 1.0, 'Data Plot in the right way')"
            ]
          },
          "metadata": {},
          "execution_count": 14
        },
        {
          "output_type": "display_data",
          "data": {
            "text/plain": [
              "<Figure size 640x480 with 1 Axes>"
            ],
            "image/png": "[encoded data removed]"
          },
          "metadata": {}
        }
      ]
    },
    {
      "cell_type": "markdown",
      "source": [
        "## Create a plotting function\n",
        "\n",
        "Typing plotting code is tedious, let's functionize it"
      ],
      "metadata": {
        "id": "1760q1TYOJkY"
      }
    },
    {
      "cell_type": "code",
      "source": [
        "# Create a function to plot time series data\n",
        "def plot_time_series(timesteps, values, format= '.', start= 0, end= None, label= None):\n",
        "  '''\n",
        "  Plots timesteps againste a series of values\n",
        "\n",
        "  Parameters:\n",
        "    timesteps: An array of timesteps value where each record has been stored\n",
        "    values: An array of the data that has been stored\n",
        "    format: for the plotting\n",
        "    start: from which index the user wants to view the plot\n",
        "    end: to which index the user wants to view the plot\n",
        "    label: label given to the plot\n",
        "  '''\n",
        "  # Plot time series data\n",
        "  plt.plot(timesteps[start:end], values[start:end], format, label= label)\n",
        "  plt.xlabel(\"Time\")\n",
        "  plt.ylabel('Price')\n",
        "\n",
        "  if label:\n",
        "    plt.legend(fontsize= 14)\n",
        "\n",
        "  plt.grid(True)"
      ],
      "metadata": {
        "id": "ulp3FUsiOUlM"
      },
      "execution_count": 15,
      "outputs": []
    },
    {
      "cell_type": "code",
      "source": [
        "# Testing out funtion\n",
        "plt.figure(figsize= (10, 7))\n",
        "plot_time_series(X_train, y_train, label= 'Train data')\n",
        "plot_time_series(X_test, y_test, label= 'Test data')"
      ],
      "metadata": {
        "colab": {
          "base_uri": "https://localhost:8080/",
          "height": 453
        },
        "id": "Yb5LBIy6Q5pr",
        "outputId": "c160de61-bddf-475c-ebf8-3e1eaa9caf0e"
      },
      "execution_count": 16,
      "outputs": [
        {
          "output_type": "display_data",
          "data": {
            "text/plain": [
              "<Figure size 1000x700 with 1 Axes>"
            ],
            "image/png": "[encoded data removed]"
          },
          "metadata": {}
        }
      ]
    },
    {
      "cell_type": "markdown",
      "source": [
        "## Experiments\n",
        "\n",
        "We've got our data ready for the modelling experiments. Let's perform the experiments as below:\n",
        "\n",
        "Terms to be familiar with\n",
        "* **Horizon**: number of timesteps we are going to predict in the future\n",
        "* **Window size**: number of timesteps we are going to use to predict\n",
        "\n",
        "0. Naive model (baseline)\n",
        "1. Dense model window= 7, horizon= 1\n",
        "2. Same model as 1 window= 30, horizon= 1\n",
        "3. Same model as 1 window= 30, horizon= 7\n",
        "4. Con1D\n",
        "5. LSTM\n",
        "6. Same as 1 (but as multivariate)\n",
        "7. N-Beats Algorithm\n",
        "8. Ensemble\n",
        "9. Future prediction\n",
        "10. Same as 1 but with turkey problem"
      ],
      "metadata": {
        "id": "i-ySmer1R3fQ"
      }
    },
    {
      "cell_type": "markdown",
      "source": [
        "### Model 0: Naive forecast\n",
        "\n",
        "The formula of the Naive forecast is:\n",
        "\n",
        "$$\\hat{y}_{t} = y_{t-1}$$\n",
        "\n",
        "In English:\n",
        "> The prediction at timestep tis equal to the value at timestep t-1 (this is for horizon 1)\n"
      ],
      "metadata": {
        "id": "j36gC6nLUY5s"
      }
    },
    {
      "cell_type": "code",
      "source": [
        "# Create naive forecast\n",
        "naive_forecast = y_test[:-1]\n",
        "\n",
        "naive_forecast[:10], naive_forecast[-10:]"
      ],
      "metadata": {
        "colab": {
          "base_uri": "https://localhost:8080/"
        },
        "id": "nTq33MmgWxaE",
        "outputId": "5b9b25fc-eed8-4da7-9265-38f9cb3ccb1f"
      },
      "execution_count": 17,
      "outputs": [
        {
          "output_type": "execute_result",
          "data": {
            "text/plain": [
              "(array([9226.48582088, 8794.35864452, 8798.04205463, 9081.18687849,\n",
              "        8711.53433917, 8760.89271814, 8749.52059102, 8656.97092235,\n",
              "        8500.64355816, 8469.2608989 ]),\n",
              " array([57107.12067189, 58788.20967893, 58102.19142623, 55715.54665129,\n",
              "        56573.5554719 , 52147.82118698, 49764.1320816 , 50032.69313676,\n",
              "        47885.62525472, 45604.61575361]))"
            ]
          },
          "metadata": {},
          "execution_count": 17
        }
      ]
    },
    {
      "cell_type": "code",
      "source": [
        "# Plot naive forecast\n",
        "plt.figure(figsize= (10, 7))\n",
        "# plot_time_series(timesteps= X_train, values= y_train, label= 'Train data')\n",
        "plot_time_series(timesteps= X_test, values= y_test, start= 350, format= '-', label= 'Test data')\n",
        "plot_time_series(timesteps= X_test[1:], values= naive_forecast, start= 350, format= '-', label= 'Naive forecast')\n"
      ],
      "metadata": {
        "colab": {
          "base_uri": "https://localhost:8080/",
          "height": 453
        },
        "id": "DMWuLUPUXIt-",
        "outputId": "e49064f8-81d0-46c8-ba79-a41ad26df42d"
      },
      "execution_count": 18,
      "outputs": [
        {
          "output_type": "display_data",
          "data": {
            "text/plain": [
              "<Figure size 1000x700 with 1 Axes>"
            ],
            "image/png": "[encoded data removed]"
          },
          "metadata": {}
        }
      ]
    },
    {
      "cell_type": "markdown",
      "source": [
        "> **Exercise**: Spend 10 minutes reading [Forecasting methods](https://otexts.com/fpp3/simple-methods.html) and find out why is it difficult to beat naive forecasting"
      ],
      "metadata": {
        "id": "vnjbijRJYm4p"
      }
    },
    {
      "cell_type": "markdown",
      "source": [
        "## Evauating a time series model\n",
        "\n",
        "Let's look at some evaluation metrics for time series model\n",
        "\n",
        "Since we're working in a regression problem, then we need to use the regression metrics:\n",
        "* MAE\n",
        "* MSE\n",
        "* R2 Score\n",
        "* RMSE\n",
        "* MAPE/sMAPE - (symmetric) mean absolute percentage error\n",
        "* MASE - mean absolute scaled error\n",
        "\n",
        "For all the abover metrics, the *lower the value the better*\n",
        "\n",
        "The main thing is **how our model's forecasts comapre to against the actual value.**"
      ],
      "metadata": {
        "id": "NkcYRB8sZKjO"
      }
    },
    {
      "cell_type": "code",
      "source": [
        "import tensorflow as tf"
      ],
      "metadata": {
        "id": "QdhUZDsCZfMr"
      },
      "execution_count": 19,
      "outputs": []
    },
    {
      "cell_type": "code",
      "source": [
        "# MASE implementation\n",
        "def mase(y_true, y_pred):\n",
        "  '''\n",
        "  Implementing MASE (assuming that there is no seasonality of data)\n",
        "  '''\n",
        "\n",
        "  mae = tf.reduce_mean(tf.abs(y_true - y_pred))\n",
        "\n",
        "  # Find MAE of naive forecast (no seasonality)\n",
        "  mae_naive_no_season = tf.reduce_mean(tf.abs(y_true[1:] - y_true[:-1])) # out seasonality is one day hence the shift of one day\n",
        "\n",
        "  return mae / mae_naive_no_season"
      ],
      "metadata": {
        "id": "j4dSrPOvfhib"
      },
      "execution_count": 20,
      "outputs": []
    },
    {
      "cell_type": "code",
      "source": [
        "mase(y_true= y_test[1:], y_pred= naive_forecast)"
      ],
      "metadata": {
        "colab": {
          "base_uri": "https://localhost:8080/"
        },
        "id": "WzvI51tYg5lB",
        "outputId": "0bf515c1-0b80-4ce8-8d78-40e2de952c12"
      },
      "execution_count": 21,
      "outputs": [
        {
          "output_type": "execute_result",
          "data": {
            "text/plain": [
              "<tf.Tensor: shape=(), dtype=float64, numpy=0.9995699939182624>"
            ]
          },
          "metadata": {},
          "execution_count": 21
        }
      ]
    },
    {
      "cell_type": "code",
      "source": [
        "def evaluate_pred(y_true, y_pred):\n",
        "  y_true= tf.cast(y_true, dtype= tf.float32)\n",
        "  y_pred = tf.cast(y_pred, dtype= tf.float32)\n",
        "  return {\n",
        "      'MAE': tf.keras.metrics.mean_absolute_error(y_true, y_pred).numpy(),\n",
        "      'MSE': tf.keras.metrics.mean_squared_error(y_true, y_pred).numpy(),\n",
        "      'RMSE': tf.math.sqrt(tf.keras.metrics.mean_squared_error(y_true, y_pred)).numpy(),\n",
        "      'MAPE': tf.keras.metrics.mean_absolute_percentage_error(y_true, y_pred).numpy(),\n",
        "      \"MASE\": mase(y_true, y_pred).numpy()\n",
        "  }"
      ],
      "metadata": {
        "id": "Ze4sy21-hYOz"
      },
      "execution_count": 22,
      "outputs": []
    },
    {
      "cell_type": "code",
      "source": [
        "naive_results = evaluate_pred(y_true= y_test[1:],\n",
        "                              y_pred= naive_forecast)\n",
        "\n",
        "naive_results"
      ],
      "metadata": {
        "colab": {
          "base_uri": "https://localhost:8080/"
        },
        "id": "JN4jlC_cjrkg",
        "outputId": "f7c6ff88-ee4d-40d4-d3cb-82563c50983b"
      },
      "execution_count": 23,
      "outputs": [
        {
          "output_type": "execute_result",
          "data": {
            "text/plain": [
              "{'MAE': 567.9802,\n",
              " 'MSE': 1147547.0,\n",
              " 'RMSE': 1071.2362,\n",
              " 'MAPE': 2.516525,\n",
              " 'MASE': 0.99957}"
            ]
          },
          "metadata": {},
          "execution_count": 23
        }
      ]
    },
    {
      "cell_type": "markdown",
      "source": [
        "## Other models you can use as baseline\n",
        "\n",
        "There are many other models to use timeseries forecasting otehr than tensorflow"
      ],
      "metadata": {
        "id": "zu1-432ZutJN"
      }
    },
    {
      "cell_type": "markdown",
      "source": [
        "## Format Data Part 2: Windowing our dataset\n",
        "\n",
        "We window our dataset so that we can covert our dataset into a supervised dataset\n",
        "\n",
        "```\n",
        "Windowing for one week\n",
        "[0, 1, 2, 3, 4, 5, 6] -> [7]\n",
        "[1, 2, 3, 4, 5, 6, 7] -> [8]\n",
        "[2, 3, 4, 5, 6, 7, 8] -> [9]\n",
        "```"
      ],
      "metadata": {
        "id": "x87AqP_OvY1D"
      }
    },
    {
      "cell_type": "code",
      "source": [
        "len(y_train)"
      ],
      "metadata": {
        "colab": {
          "base_uri": "https://localhost:8080/"
        },
        "id": "LCGacR5wwuNO",
        "outputId": "2044021c-4efe-48e3-fa85-51eafe583f44"
      },
      "execution_count": 24,
      "outputs": [
        {
          "output_type": "execute_result",
          "data": {
            "text/plain": [
              "2229"
            ]
          },
          "metadata": {},
          "execution_count": 24
        }
      ]
    },
    {
      "cell_type": "code",
      "source": [
        "# What we want to do to our data\n",
        "print(f\"We want to use: {btc_price[:7]} to predict: {btc_price[7]}\")"
      ],
      "metadata": {
        "colab": {
          "base_uri": "https://localhost:8080/"
        },
        "id": "QpzKHg0aw7D6",
        "outputId": "4eb82894-a04d-45cf-c228-8c85ea751b9e"
      },
      "execution_count": 25,
      "outputs": [
        {
          "output_type": "stream",
          "name": "stdout",
          "text": [
            "We want to use: [123.65499, 125.455, 108.58483, 118.67466, 121.33866, 120.65533, 121.795] to predict: 123.033\n"
          ]
        }
      ]
    },
    {
      "cell_type": "code",
      "source": [
        "# Let's setup a global variables for window and horizon size\n",
        "HORIZON_SIZE = 1 # we need to predict next one day\n",
        "WINDOW_SIZE = 7 # these are the past days we neet to look to predict"
      ],
      "metadata": {
        "id": "LxYp1dMgxQQe"
      },
      "execution_count": 26,
      "outputs": []
    },
    {
      "cell_type": "code",
      "source": [
        "# Create function to label windowed data\n",
        "def get_label_window(x, horizon= HORIZON_SIZE):\n",
        "  '''\n",
        "  Creates label for windowde dataset.\n",
        "\n",
        "  Eg: if horizon = 1\n",
        "  [0, 1, 2, 3, 4, 5, 6] -> [7]\n",
        "  '''\n",
        "\n",
        "  return x[:, :-horizon], x[:, -horizon:]"
      ],
      "metadata": {
        "id": "_x999-Jgxqln"
      },
      "execution_count": 27,
      "outputs": []
    },
    {
      "cell_type": "code",
      "source": [
        "# Test out the window labelling function\n",
        "test_window, test_label = get_label_window(tf.expand_dims(tf.range(8) + 1, axis= 0))\n",
        "print(f\"Wiindow: {test_window.numpy()} -> Label: {test_label.numpy()}\")"
      ],
      "metadata": {
        "colab": {
          "base_uri": "https://localhost:8080/"
        },
        "id": "QZd8y1G8y6rf",
        "outputId": "5924f257-c4d3-42b2-bd44-23a6bff5f0a5"
      },
      "execution_count": 28,
      "outputs": [
        {
          "output_type": "stream",
          "name": "stdout",
          "text": [
            "Wiindow: [[1 2 3 4 5 6 7]] -> Label: [[8]]\n"
          ]
        }
      ]
    },
    {
      "cell_type": "code",
      "source": [
        "tf.expand_dims(tf.range(8) + 1, axis= 0)"
      ],
      "metadata": {
        "id": "KpA0ln_9zTvf",
        "outputId": "1fa0251c-7866-409c-b469-61878aa4fd13",
        "colab": {
          "base_uri": "https://localhost:8080/"
        }
      },
      "execution_count": 29,
      "outputs": [
        {
          "output_type": "execute_result",
          "data": {
            "text/plain": [
              "<tf.Tensor: shape=(1, 8), dtype=int32, numpy=array([[1, 2, 3, 4, 5, 6, 7, 8]], dtype=int32)>"
            ]
          },
          "metadata": {},
          "execution_count": 29
        }
      ]
    },
    {
      "cell_type": "markdown",
      "source": [
        "We've got a way to label our windowed data\n",
        "\n",
        "However, this only owrks on a small circle\n",
        "\n",
        "We need a way to do this to over entire data\n",
        "\n",
        "We could do this using loops, however, for larger data it might take long time. Hence, to speed things up we will use Numpy array indexing.\n",
        "\n",
        "Our function will:\n",
        "1. Create a window step of specified window size\n",
        "2. Use Numpy indexin to create a 2D array of multiple window steps, for eg:\n",
        "```\n",
        "[[0, 1, 2, 3, 4, 5, 6],\n",
        "[1, 2, 3, 4, 5, 6, 7],\n",
        "[2, 3, 4, 5, 6, 7, 8]]\n",
        "```\n",
        "3. Uses the 2D array of multiple window steps to inde on a target series\n",
        "4. Uses our `get_label_window()` fuinction we created above to turn the window steps into windows witha specified horizon\n"
      ],
      "metadata": {
        "id": "At5czAP905lI"
      }
    },
    {
      "cell_type": "code",
      "source": [
        "import numpy as np\n",
        "# Create function to view Numpy arrays as windows\n",
        "def make_windows(x, window_size= WINDOW_SIZE, horizon= HORIZON_SIZE):\n",
        "  '''\n",
        "  Turns a 1D array into a 2D array of sequential labelled window_size with hroizon size labels\n",
        "  '''\n",
        "\n",
        "  # 1. Create a window of specific windo_size (add the horizon on the end of the labelling later)\n",
        "  window_step = np.expand_dims(np.arange(window_size + horizon), axis= 0)\n",
        "\n",
        "  # 2. Create a 2D arrya of multiple window steps (minu 1 to account for 0 indexing)\n",
        "  window_indices = window_step + np.expand_dims(np.arange(len(x) - (window_size + horizon - 1)), axis= 0).T # create 2D array of windows of size window_size\n",
        "\n",
        "  # print(f\"Window indices: \\n {window_indices, window_indices.shape}\")\n",
        "\n",
        "  # 3. Index on the target array with 2D array of multiple window steps\n",
        "  window_array = x[window_indices]\n",
        "  # print(window_array)\n",
        "\n",
        "  # 4. Get the labelled windows\n",
        "  windows, labels = get_label_window(window_array, horizon= horizon)\n",
        "\n",
        "  return windows, labels"
      ],
      "metadata": {
        "id": "OzJ0uGvS2fPf"
      },
      "execution_count": 30,
      "outputs": []
    },
    {
      "cell_type": "code",
      "source": [
        "full_windows, full_labels = make_windows(prices, window_size= WINDOW_SIZE, horizon= HORIZON_SIZE)\n",
        "len(full_windows), len(full_labels)"
      ],
      "metadata": {
        "colab": {
          "base_uri": "https://localhost:8080/"
        },
        "id": "gh2wC5aeAMTr",
        "outputId": "0dc15e4a-b265-4c58-a992-406bd4e863a1"
      },
      "execution_count": 31,
      "outputs": [
        {
          "output_type": "execute_result",
          "data": {
            "text/plain": [
              "(2780, 2780)"
            ]
          },
          "metadata": {},
          "execution_count": 31
        }
      ]
    },
    {
      "cell_type": "code",
      "source": [
        "# View first 3 windows\n",
        "for i in range(3):\n",
        "  print(f\"Windows: {full_windows[i]} -> Labels {full_labels[i]}\")"
      ],
      "metadata": {
        "colab": {
          "base_uri": "https://localhost:8080/"
        },
        "id": "p41-waFHBtHW",
        "outputId": "a23dc4f4-9133-46f9-87a4-74b2be726eee"
      },
      "execution_count": 32,
      "outputs": [
        {
          "output_type": "stream",
          "name": "stdout",
          "text": [
            "Windows: [123.65499 125.455   108.58483 118.67466 121.33866 120.65533 121.795  ] -> Labels [123.033]\n",
            "Windows: [125.455   108.58483 118.67466 121.33866 120.65533 121.795   123.033  ] -> Labels [124.049]\n",
            "Windows: [108.58483 118.67466 121.33866 120.65533 121.795   123.033   124.049  ] -> Labels [125.96116]\n"
          ]
        }
      ]
    },
    {
      "cell_type": "code",
      "source": [
        "# View last 3 windows\n",
        "for i in range(3):\n",
        "  print(f\"Windows: {full_windows[i - 3]} -> Labels: {full_labels[i - 3]}\")"
      ],
      "metadata": {
        "colab": {
          "base_uri": "https://localhost:8080/"
        },
        "id": "V5q6qsbHCvFH",
        "outputId": "11b13414-ab3f-4fa2-b056-ea07f4eacae7"
      },
      "execution_count": 33,
      "outputs": [
        {
          "output_type": "stream",
          "name": "stdout",
          "text": [
            "Windows: [58788.20967893 58102.19142623 55715.54665129 56573.5554719\n",
            " 52147.82118698 49764.1320816  50032.69313676] -> Labels: [47885.62525472]\n",
            "Windows: [58102.19142623 55715.54665129 56573.5554719  52147.82118698\n",
            " 49764.1320816  50032.69313676 47885.62525472] -> Labels: [45604.61575361]\n",
            "Windows: [55715.54665129 56573.5554719  52147.82118698 49764.1320816\n",
            " 50032.69313676 47885.62525472 45604.61575361] -> Labels: [43144.47129086]\n"
          ]
        }
      ]
    },
    {
      "cell_type": "markdown",
      "source": [
        "> **Note**: We can perform the above steps from the function refered in the below link: https://www.tensorflow.org/api_docs/python/tf/keras/utils/timeseries_dataset_from_array"
      ],
      "metadata": {
        "id": "geHgMrGfDJfL"
      }
    },
    {
      "cell_type": "markdown",
      "source": [
        "## Turning windows into training and test sets"
      ],
      "metadata": {
        "id": "7OTaI12CDsNw"
      }
    },
    {
      "cell_type": "code",
      "source": [
        "# Make train/test splits\n",
        "def make_train_Test_splits(windows, labels, test_split= 0.2):\n",
        "  '''\n",
        "  Splits matching pairs of windows and labels into train and test splits\n",
        "  '''\n",
        "\n",
        "  split_size = int(len(windows) * (1 - test_split))\n",
        "  train_windows = windows[:split_size]\n",
        "  train_labels = labels[:split_size]\n",
        "  test_windows = windows[split_size:]\n",
        "  test_labels = labels[split_size:]\n",
        "\n",
        "  return train_windows, test_windows, train_labels, test_labels"
      ],
      "metadata": {
        "id": "JXrDvkwGD6mo"
      },
      "execution_count": 34,
      "outputs": []
    },
    {
      "cell_type": "code",
      "source": [
        "# Create train and test windows\n",
        "train_windows, test_windows, train_labels, test_labels = make_train_Test_splits(full_windows, full_labels)\n",
        "\n",
        "len(train_windows), len(test_windows), len(train_labels), len(test_labels)"
      ],
      "metadata": {
        "colab": {
          "base_uri": "https://localhost:8080/"
        },
        "id": "X3_LbNv2E6pM",
        "outputId": "7f45c6cd-324e-4561-acae-81df6d94f766"
      },
      "execution_count": 35,
      "outputs": [
        {
          "output_type": "execute_result",
          "data": {
            "text/plain": [
              "(2224, 556, 2224, 556)"
            ]
          },
          "metadata": {},
          "execution_count": 35
        }
      ]
    },
    {
      "cell_type": "code",
      "source": [
        "train_windows[:5], train_labels[:5]"
      ],
      "metadata": {
        "colab": {
          "base_uri": "https://localhost:8080/"
        },
        "id": "n_NbIKWKFTGc",
        "outputId": "01124811-3bd9-4047-be29-d929baf74fa6"
      },
      "execution_count": 36,
      "outputs": [
        {
          "output_type": "execute_result",
          "data": {
            "text/plain": [
              "(array([[123.65499, 125.455  , 108.58483, 118.67466, 121.33866, 120.65533,\n",
              "         121.795  ],\n",
              "        [125.455  , 108.58483, 118.67466, 121.33866, 120.65533, 121.795  ,\n",
              "         123.033  ],\n",
              "        [108.58483, 118.67466, 121.33866, 120.65533, 121.795  , 123.033  ,\n",
              "         124.049  ],\n",
              "        [118.67466, 121.33866, 120.65533, 121.795  , 123.033  , 124.049  ,\n",
              "         125.96116],\n",
              "        [121.33866, 120.65533, 121.795  , 123.033  , 124.049  , 125.96116,\n",
              "         125.27966]]),\n",
              " array([[123.033  ],\n",
              "        [124.049  ],\n",
              "        [125.96116],\n",
              "        [125.27966],\n",
              "        [125.9275 ]]))"
            ]
          },
          "metadata": {},
          "execution_count": 36
        }
      ]
    },
    {
      "cell_type": "code",
      "source": [
        "test_windows[:5], test_windows[:5]"
      ],
      "metadata": {
        "colab": {
          "base_uri": "https://localhost:8080/"
        },
        "id": "_pl83HYsFXsj",
        "outputId": "00d55f21-6a3a-4f9a-f7fa-9f442072fe71"
      },
      "execution_count": 37,
      "outputs": [
        {
          "output_type": "execute_result",
          "data": {
            "text/plain": [
              "(array([[9290.89660239, 9202.41545055, 9369.62808116, 9326.59962378,\n",
              "         9335.75240233, 9226.48582088, 8794.35864452],\n",
              "        [9202.41545055, 9369.62808116, 9326.59962378, 9335.75240233,\n",
              "         9226.48582088, 8794.35864452, 8798.04205463],\n",
              "        [9369.62808116, 9326.59962378, 9335.75240233, 9226.48582088,\n",
              "         8794.35864452, 8798.04205463, 9081.18687849],\n",
              "        [9326.59962378, 9335.75240233, 9226.48582088, 8794.35864452,\n",
              "         8798.04205463, 9081.18687849, 8711.53433917],\n",
              "        [9335.75240233, 9226.48582088, 8794.35864452, 8798.04205463,\n",
              "         9081.18687849, 8711.53433917, 8760.89271814]]),\n",
              " array([[9290.89660239, 9202.41545055, 9369.62808116, 9326.59962378,\n",
              "         9335.75240233, 9226.48582088, 8794.35864452],\n",
              "        [9202.41545055, 9369.62808116, 9326.59962378, 9335.75240233,\n",
              "         9226.48582088, 8794.35864452, 8798.04205463],\n",
              "        [9369.62808116, 9326.59962378, 9335.75240233, 9226.48582088,\n",
              "         8794.35864452, 8798.04205463, 9081.18687849],\n",
              "        [9326.59962378, 9335.75240233, 9226.48582088, 8794.35864452,\n",
              "         8798.04205463, 9081.18687849, 8711.53433917],\n",
              "        [9335.75240233, 9226.48582088, 8794.35864452, 8798.04205463,\n",
              "         9081.18687849, 8711.53433917, 8760.89271814]]))"
            ]
          },
          "metadata": {},
          "execution_count": 37
        }
      ]
    },
    {
      "cell_type": "code",
      "source": [
        "# Check to see if the train labels are the same\n",
        "np.array_equal(np.squeeze(train_labels[:-HORIZON_SIZE - 1]), y_train[WINDOW_SIZE:])"
      ],
      "metadata": {
        "colab": {
          "base_uri": "https://localhost:8080/"
        },
        "id": "eW0BBUK0FeBO",
        "outputId": "fbc30d57-3efb-4080-b850-bd044bb80833"
      },
      "execution_count": 38,
      "outputs": [
        {
          "output_type": "execute_result",
          "data": {
            "text/plain": [
              "True"
            ]
          },
          "metadata": {},
          "execution_count": 38
        }
      ]
    },
    {
      "cell_type": "markdown",
      "source": [
        "## Make a modelling checkpoints\n",
        "\n",
        "Because our model's performance will fluctuate from experiments to experiment, we're going to write a model checkpoit so we can compare with equal conditions.\n",
        "\n",
        "More, specifically, we want to compare each of our model's best performancer against the other modle's best performance"
      ],
      "metadata": {
        "id": "x_ngC_64F0Dk"
      }
    },
    {
      "cell_type": "code",
      "source": [
        "SAVE_DIR= 'bitcoin_models'"
      ],
      "metadata": {
        "id": "_Fg4PPSMGpm0"
      },
      "execution_count": 39,
      "outputs": []
    },
    {
      "cell_type": "code",
      "source": [
        "import os\n",
        "\n",
        "# Create a function to implement a ModelCheckpoint callback with a specific filename\n",
        "def create_model_checkpoint(model_name, save_path= \"model_experiments\"):\n",
        "  return tf.keras.callbacks.ModelCheckpoint(filepath= os.path.join(save_path, model_name),\n",
        "                                            verbose= 0,\n",
        "                                            monitor= 'val_loss',\n",
        "                                            save_best_only= True)"
      ],
      "metadata": {
        "id": "jPiCRVD7Gd8l"
      },
      "execution_count": 46,
      "outputs": []
    },
    {
      "cell_type": "markdown",
      "source": [
        "### Model 1: Dense model (window= 7, horizon= 1)\n",
        "\n",
        "Our first deep model is going to be a simple dense model:\n",
        "* A single dense layer with 128 hidden units and ReLu\n",
        "* An output layer with linear activation\n",
        "* Adam optimization and MAE loss function\n",
        "* Batch size of 128\n",
        "* 100 epochs"
      ],
      "metadata": {
        "id": "HE-e4jjVHd2q"
      }
    },
    {
      "cell_type": "code",
      "source": [
        "from tensorflow.keras import layers"
      ],
      "metadata": {
        "id": "C78werboIsui"
      },
      "execution_count": 41,
      "outputs": []
    },
    {
      "cell_type": "code",
      "source": [
        "inputs = layers.Input(shape= (7, ), name= 'input_layer')\n",
        "x = layers.Dense(128, activation= 'relu', name= 'relu_layer_1')(inputs)\n",
        "outputs = layers.Dense(HORIZON_SIZE, name= 'output')(x)\n",
        "\n",
        "model_1 = tf.keras.Model(inputs, outputs, name= 'model_1_dense')\n",
        "\n",
        "model_1.compile(loss= 'mae',\n",
        "                optimizer= tf.keras.optimizers.Adam(),\n",
        "                metrics= ['mae'])\n",
        "\n",
        "model_1.summary()"
      ],
      "metadata": {
        "id": "TDa9mOf7IySe",
        "outputId": "b0f0ef34-0a9c-44f2-dcd3-7f001ec08fab",
        "colab": {
          "base_uri": "https://localhost:8080/"
        }
      },
      "execution_count": 47,
      "outputs": [
        {
          "output_type": "stream",
          "name": "stdout",
          "text": [
            "Model: \"model_1_dense\"\n",
            "_________________________________________________________________\n",
            " Layer (type)                Output Shape              Param #   \n",
            "=================================================================\n",
            " input_layer (InputLayer)    [(None, 7)]               0         \n",
            "                                                                 \n",
            " relu_layer_1 (Dense)        (None, 128)               1024      \n",
            "                                                                 \n",
            " output (Dense)              (None, 1)                 129       \n",
            "                                                                 \n",
            "=================================================================\n",
            "Total params: 1153 (4.50 KB)\n",
            "Trainable params: 1153 (4.50 KB)\n",
            "Non-trainable params: 0 (0.00 Byte)\n",
            "_________________________________________________________________\n"
          ]
        }
      ]
    },
    {
      "cell_type": "code",
      "source": [
        "history_model_1 = model_1.fit(train_windows,\n",
        "                              train_labels,\n",
        "                              epochs= 100,\n",
        "                              verbose= 1,\n",
        "                              batch_size= 128,\n",
        "                              validation_data= (test_windows, test_labels),\n",
        "                              callbacks= [create_model_checkpoint(model_name= model_1.name)])"
      ],
      "metadata": {
        "id": "tV_1iXmlJq3j",
        "outputId": "4c6d03d1-d30d-4939-a36b-965126337f29",
        "colab": {
          "base_uri": "https://localhost:8080/"
        }
      },
      "execution_count": 48,
      "outputs": [
        {
          "output_type": "stream",
          "name": "stdout",
          "text": [
            "Epoch 1/100\n",
            "18/18 [==============================] - 1s 33ms/step - loss: 1128.1595 - mae: 1128.1595 - val_loss: 1995.3077 - val_mae: 1995.3077\n",
            "Epoch 2/100\n",
            "18/18 [==============================] - 0s 25ms/step - loss: 279.1356 - mae: 279.1356 - val_loss: 1474.2889 - val_mae: 1474.2889\n",
            "Epoch 3/100\n",
            "18/18 [==============================] - 0s 25ms/step - loss: 184.3264 - mae: 184.3264 - val_loss: 1090.0070 - val_mae: 1090.0070\n",
            "Epoch 4/100\n",
            "18/18 [==============================] - 0s 25ms/step - loss: 169.3269 - mae: 169.3269 - val_loss: 936.7850 - val_mae: 936.7850\n",
            "Epoch 5/100\n",
            "18/18 [==============================] - 0s 25ms/step - loss: 161.0827 - mae: 161.0827 - val_loss: 877.7269 - val_mae: 877.7269\n",
            "Epoch 6/100\n",
            "18/18 [==============================] - 0s 4ms/step - loss: 160.3955 - mae: 160.3955 - val_loss: 885.6851 - val_mae: 885.6851\n",
            "Epoch 7/100\n",
            "18/18 [==============================] - 0s 25ms/step - loss: 150.5720 - mae: 150.5720 - val_loss: 837.9538 - val_mae: 837.9538\n",
            "Epoch 8/100\n",
            "18/18 [==============================] - 0s 25ms/step - loss: 145.7954 - mae: 145.7954 - val_loss: 815.3110 - val_mae: 815.3110\n",
            "Epoch 9/100\n",
            "18/18 [==============================] - 0s 25ms/step - loss: 142.5022 - mae: 142.5022 - val_loss: 775.5956 - val_mae: 775.5956\n",
            "Epoch 10/100\n",
            "18/18 [==============================] - 0s 4ms/step - loss: 140.5907 - mae: 140.5907 - val_loss: 803.9133 - val_mae: 803.9133\n",
            "Epoch 11/100\n",
            "18/18 [==============================] - 0s 26ms/step - loss: 140.6315 - mae: 140.6315 - val_loss: 757.9347 - val_mae: 757.9347\n",
            "Epoch 12/100\n",
            "18/18 [==============================] - 0s 25ms/step - loss: 138.4876 - mae: 138.4876 - val_loss: 742.1125 - val_mae: 742.1125\n",
            "Epoch 13/100\n",
            "18/18 [==============================] - 0s 27ms/step - loss: 131.1232 - mae: 131.1232 - val_loss: 715.1550 - val_mae: 715.1550\n",
            "Epoch 14/100\n",
            "18/18 [==============================] - 0s 25ms/step - loss: 128.2729 - mae: 128.2729 - val_loss: 714.4608 - val_mae: 714.4608\n",
            "Epoch 15/100\n",
            "18/18 [==============================] - 0s 25ms/step - loss: 129.2442 - mae: 129.2442 - val_loss: 689.0425 - val_mae: 689.0425\n",
            "Epoch 16/100\n",
            "18/18 [==============================] - 0s 4ms/step - loss: 124.9282 - mae: 124.9282 - val_loss: 693.3801 - val_mae: 693.3801\n",
            "Epoch 17/100\n",
            "18/18 [==============================] - 0s 4ms/step - loss: 125.6363 - mae: 125.6363 - val_loss: 753.0722 - val_mae: 753.0722\n",
            "Epoch 18/100\n",
            "18/18 [==============================] - 0s 25ms/step - loss: 126.9749 - mae: 126.9749 - val_loss: 662.9133 - val_mae: 662.9133\n",
            "Epoch 19/100\n",
            "18/18 [==============================] - 0s 25ms/step - loss: 121.8103 - mae: 121.8103 - val_loss: 660.2429 - val_mae: 660.2429\n",
            "Epoch 20/100\n",
            "18/18 [==============================] - 0s 25ms/step - loss: 120.2207 - mae: 120.2207 - val_loss: 655.5836 - val_mae: 655.5836\n",
            "Epoch 21/100\n",
            "18/18 [==============================] - 0s 24ms/step - loss: 117.9015 - mae: 117.9015 - val_loss: 647.7404 - val_mae: 647.7404\n",
            "Epoch 22/100\n",
            "18/18 [==============================] - 0s 24ms/step - loss: 118.0324 - mae: 118.0324 - val_loss: 634.9617 - val_mae: 634.9617\n",
            "Epoch 23/100\n",
            "18/18 [==============================] - 0s 4ms/step - loss: 122.7634 - mae: 122.7634 - val_loss: 659.5466 - val_mae: 659.5466\n",
            "Epoch 24/100\n",
            "18/18 [==============================] - 0s 4ms/step - loss: 119.1728 - mae: 119.1728 - val_loss: 681.2493 - val_mae: 681.2493\n",
            "Epoch 25/100\n",
            "18/18 [==============================] - 0s 25ms/step - loss: 122.4209 - mae: 122.4209 - val_loss: 633.6373 - val_mae: 633.6373\n",
            "Epoch 26/100\n",
            "18/18 [==============================] - 0s 25ms/step - loss: 115.9963 - mae: 115.9963 - val_loss: 616.7404 - val_mae: 616.7404\n",
            "Epoch 27/100\n",
            "18/18 [==============================] - 0s 25ms/step - loss: 118.8400 - mae: 118.8400 - val_loss: 614.2930 - val_mae: 614.2930\n",
            "Epoch 28/100\n",
            "18/18 [==============================] - 0s 4ms/step - loss: 115.6057 - mae: 115.6057 - val_loss: 646.0203 - val_mae: 646.0203\n",
            "Epoch 29/100\n",
            "18/18 [==============================] - 1s 45ms/step - loss: 117.6586 - mae: 117.6586 - val_loss: 609.4203 - val_mae: 609.4203\n",
            "Epoch 30/100\n",
            "18/18 [==============================] - 0s 4ms/step - loss: 114.5349 - mae: 114.5349 - val_loss: 643.9421 - val_mae: 643.9421\n",
            "Epoch 31/100\n",
            "18/18 [==============================] - 0s 4ms/step - loss: 119.4315 - mae: 119.4315 - val_loss: 632.0412 - val_mae: 632.0412\n",
            "Epoch 32/100\n",
            "18/18 [==============================] - 0s 4ms/step - loss: 121.4582 - mae: 121.4582 - val_loss: 611.0437 - val_mae: 611.0437\n",
            "Epoch 33/100\n",
            "18/18 [==============================] - 0s 25ms/step - loss: 120.6324 - mae: 120.6324 - val_loss: 606.6475 - val_mae: 606.6475\n",
            "Epoch 34/100\n",
            "18/18 [==============================] - 0s 4ms/step - loss: 112.3645 - mae: 112.3645 - val_loss: 608.1965 - val_mae: 608.1965\n",
            "Epoch 35/100\n",
            "18/18 [==============================] - 0s 25ms/step - loss: 112.1836 - mae: 112.1836 - val_loss: 601.1531 - val_mae: 601.1531\n",
            "Epoch 36/100\n",
            "18/18 [==============================] - 0s 4ms/step - loss: 113.8598 - mae: 113.8598 - val_loss: 624.7519 - val_mae: 624.7519\n",
            "Epoch 37/100\n",
            "18/18 [==============================] - 0s 25ms/step - loss: 112.6884 - mae: 112.6884 - val_loss: 595.1376 - val_mae: 595.1376\n",
            "Epoch 38/100\n",
            "18/18 [==============================] - 0s 26ms/step - loss: 111.6961 - mae: 111.6961 - val_loss: 594.0522 - val_mae: 594.0522\n",
            "Epoch 39/100\n",
            "18/18 [==============================] - 0s 4ms/step - loss: 110.1200 - mae: 110.1200 - val_loss: 607.0524 - val_mae: 607.0524\n",
            "Epoch 40/100\n",
            "18/18 [==============================] - 0s 25ms/step - loss: 113.8246 - mae: 113.8246 - val_loss: 588.9920 - val_mae: 588.9920\n",
            "Epoch 41/100\n",
            "18/18 [==============================] - 0s 4ms/step - loss: 115.0605 - mae: 115.0605 - val_loss: 608.5978 - val_mae: 608.5978\n",
            "Epoch 42/100\n",
            "18/18 [==============================] - 0s 4ms/step - loss: 111.0883 - mae: 111.0883 - val_loss: 598.6102 - val_mae: 598.6102\n",
            "Epoch 43/100\n",
            "18/18 [==============================] - 0s 25ms/step - loss: 109.2813 - mae: 109.2813 - val_loss: 587.6644 - val_mae: 587.6644\n",
            "Epoch 44/100\n",
            "18/18 [==============================] - 0s 4ms/step - loss: 116.0636 - mae: 116.0636 - val_loss: 604.7252 - val_mae: 604.7252\n",
            "Epoch 45/100\n",
            "18/18 [==============================] - 0s 4ms/step - loss: 110.7171 - mae: 110.7171 - val_loss: 636.0739 - val_mae: 636.0739\n",
            "Epoch 46/100\n",
            "18/18 [==============================] - 0s 4ms/step - loss: 117.9473 - mae: 117.9473 - val_loss: 639.7222 - val_mae: 639.7222\n",
            "Epoch 47/100\n",
            "18/18 [==============================] - 0s 26ms/step - loss: 114.1669 - mae: 114.1669 - val_loss: 581.2579 - val_mae: 581.2579\n",
            "Epoch 48/100\n",
            "18/18 [==============================] - 0s 5ms/step - loss: 121.0771 - mae: 121.0771 - val_loss: 679.8414 - val_mae: 679.8414\n",
            "Epoch 49/100\n",
            "18/18 [==============================] - 0s 5ms/step - loss: 123.1841 - mae: 123.1841 - val_loss: 695.4263 - val_mae: 695.4263\n",
            "Epoch 50/100\n",
            "18/18 [==============================] - 0s 4ms/step - loss: 119.3074 - mae: 119.3074 - val_loss: 644.1744 - val_mae: 644.1744\n",
            "Epoch 51/100\n",
            "18/18 [==============================] - 0s 4ms/step - loss: 114.7919 - mae: 114.7919 - val_loss: 582.8769 - val_mae: 582.8769\n",
            "Epoch 52/100\n",
            "18/18 [==============================] - 0s 26ms/step - loss: 109.4059 - mae: 109.4059 - val_loss: 578.2380 - val_mae: 578.2380\n",
            "Epoch 53/100\n",
            "18/18 [==============================] - 0s 4ms/step - loss: 107.6285 - mae: 107.6285 - val_loss: 579.5217 - val_mae: 579.5217\n",
            "Epoch 54/100\n",
            "18/18 [==============================] - 0s 4ms/step - loss: 108.7216 - mae: 108.7216 - val_loss: 601.8021 - val_mae: 601.8021\n",
            "Epoch 55/100\n",
            "18/18 [==============================] - 0s 4ms/step - loss: 108.7225 - mae: 108.7225 - val_loss: 699.0677 - val_mae: 699.0677\n",
            "Epoch 56/100\n",
            "18/18 [==============================] - 0s 5ms/step - loss: 115.5110 - mae: 115.5110 - val_loss: 579.3358 - val_mae: 579.3358\n",
            "Epoch 57/100\n",
            "18/18 [==============================] - 0s 5ms/step - loss: 111.0075 - mae: 111.0075 - val_loss: 588.0994 - val_mae: 588.0994\n",
            "Epoch 58/100\n",
            "18/18 [==============================] - 0s 5ms/step - loss: 107.5424 - mae: 107.5424 - val_loss: 660.4784 - val_mae: 660.4784\n",
            "Epoch 59/100\n",
            "18/18 [==============================] - 0s 5ms/step - loss: 109.7007 - mae: 109.7007 - val_loss: 580.6323 - val_mae: 580.6323\n",
            "Epoch 60/100\n",
            "18/18 [==============================] - 0s 26ms/step - loss: 108.3535 - mae: 108.3535 - val_loss: 575.7856 - val_mae: 575.7856\n",
            "Epoch 61/100\n",
            "18/18 [==============================] - 0s 5ms/step - loss: 108.0809 - mae: 108.0809 - val_loss: 622.6519 - val_mae: 622.6519\n",
            "Epoch 62/100\n",
            "18/18 [==============================] - 0s 5ms/step - loss: 112.1457 - mae: 112.1457 - val_loss: 576.0000 - val_mae: 576.0000\n",
            "Epoch 63/100\n",
            "18/18 [==============================] - 0s 25ms/step - loss: 109.1608 - mae: 109.1608 - val_loss: 575.4948 - val_mae: 575.4948\n",
            "Epoch 64/100\n",
            "18/18 [==============================] - 0s 5ms/step - loss: 106.2974 - mae: 106.2974 - val_loss: 657.0271 - val_mae: 657.0271\n",
            "Epoch 65/100\n",
            "18/18 [==============================] - 0s 4ms/step - loss: 112.0160 - mae: 112.0160 - val_loss: 603.9610 - val_mae: 603.9610\n",
            "Epoch 66/100\n",
            "18/18 [==============================] - 0s 4ms/step - loss: 107.3168 - mae: 107.3168 - val_loss: 579.4062 - val_mae: 579.4062\n",
            "Epoch 67/100\n",
            "18/18 [==============================] - 0s 4ms/step - loss: 111.3496 - mae: 111.3496 - val_loss: 632.4730 - val_mae: 632.4730\n",
            "Epoch 68/100\n",
            "18/18 [==============================] - 0s 26ms/step - loss: 108.5554 - mae: 108.5554 - val_loss: 574.2827 - val_mae: 574.2827\n",
            "Epoch 69/100\n",
            "18/18 [==============================] - 0s 4ms/step - loss: 109.8954 - mae: 109.8954 - val_loss: 595.5583 - val_mae: 595.5583\n",
            "Epoch 70/100\n",
            "18/18 [==============================] - 0s 4ms/step - loss: 112.5915 - mae: 112.5915 - val_loss: 634.9277 - val_mae: 634.9277\n",
            "Epoch 71/100\n",
            "18/18 [==============================] - 0s 4ms/step - loss: 106.9347 - mae: 106.9347 - val_loss: 678.8121 - val_mae: 678.8121\n",
            "Epoch 72/100\n",
            "18/18 [==============================] - 0s 4ms/step - loss: 111.1257 - mae: 111.1257 - val_loss: 574.3068 - val_mae: 574.3068\n",
            "Epoch 73/100\n",
            "18/18 [==============================] - 0s 4ms/step - loss: 106.6737 - mae: 106.6737 - val_loss: 653.2074 - val_mae: 653.2074\n",
            "Epoch 74/100\n",
            "18/18 [==============================] - 0s 4ms/step - loss: 114.4791 - mae: 114.4791 - val_loss: 672.1490 - val_mae: 672.1490\n",
            "Epoch 75/100\n",
            "18/18 [==============================] - 0s 5ms/step - loss: 106.9430 - mae: 106.9430 - val_loss: 603.6597 - val_mae: 603.6597\n",
            "Epoch 76/100\n",
            "18/18 [==============================] - 0s 27ms/step - loss: 106.7034 - mae: 106.7034 - val_loss: 573.3297 - val_mae: 573.3297\n",
            "Epoch 77/100\n",
            "18/18 [==============================] - 0s 5ms/step - loss: 105.6552 - mae: 105.6552 - val_loss: 600.8702 - val_mae: 600.8702\n",
            "Epoch 78/100\n",
            "18/18 [==============================] - 0s 5ms/step - loss: 110.4020 - mae: 110.4020 - val_loss: 574.1100 - val_mae: 574.1100\n",
            "Epoch 79/100\n",
            "18/18 [==============================] - 0s 5ms/step - loss: 113.1044 - mae: 113.1044 - val_loss: 656.5534 - val_mae: 656.5534\n",
            "Epoch 80/100\n",
            "18/18 [==============================] - 0s 5ms/step - loss: 108.5739 - mae: 108.5739 - val_loss: 588.7288 - val_mae: 588.7288\n",
            "Epoch 81/100\n",
            "18/18 [==============================] - 0s 27ms/step - loss: 106.7892 - mae: 106.7892 - val_loss: 571.5089 - val_mae: 571.5089\n",
            "Epoch 82/100\n",
            "18/18 [==============================] - 0s 4ms/step - loss: 107.7628 - mae: 107.7628 - val_loss: 578.4476 - val_mae: 578.4476\n",
            "Epoch 83/100\n",
            "18/18 [==============================] - 0s 25ms/step - loss: 105.4571 - mae: 105.4571 - val_loss: 570.1672 - val_mae: 570.1672\n",
            "Epoch 84/100\n",
            "18/18 [==============================] - 0s 4ms/step - loss: 106.4646 - mae: 106.4646 - val_loss: 577.7778 - val_mae: 577.7778\n",
            "Epoch 85/100\n",
            "18/18 [==============================] - 0s 5ms/step - loss: 107.9114 - mae: 107.9114 - val_loss: 619.0414 - val_mae: 619.0414\n",
            "Epoch 86/100\n",
            "18/18 [==============================] - 0s 4ms/step - loss: 112.6470 - mae: 112.6470 - val_loss: 573.5425 - val_mae: 573.5425\n",
            "Epoch 87/100\n",
            "18/18 [==============================] - 0s 4ms/step - loss: 111.3720 - mae: 111.3720 - val_loss: 602.2041 - val_mae: 602.2041\n",
            "Epoch 88/100\n",
            "18/18 [==============================] - 0s 4ms/step - loss: 114.5296 - mae: 114.5296 - val_loss: 601.2065 - val_mae: 601.2065\n",
            "Epoch 89/100\n",
            "18/18 [==============================] - 0s 4ms/step - loss: 111.5818 - mae: 111.5818 - val_loss: 571.4556 - val_mae: 571.4556\n",
            "Epoch 90/100\n",
            "18/18 [==============================] - 0s 26ms/step - loss: 105.8455 - mae: 105.8455 - val_loss: 568.2812 - val_mae: 568.2812\n",
            "Epoch 91/100\n",
            "18/18 [==============================] - 0s 4ms/step - loss: 107.6039 - mae: 107.6039 - val_loss: 586.6719 - val_mae: 586.6719\n",
            "Epoch 92/100\n",
            "18/18 [==============================] - 0s 4ms/step - loss: 105.7846 - mae: 105.7846 - val_loss: 628.9047 - val_mae: 628.9047\n",
            "Epoch 93/100\n",
            "18/18 [==============================] - 0s 5ms/step - loss: 107.2039 - mae: 107.2039 - val_loss: 649.1396 - val_mae: 649.1396\n",
            "Epoch 94/100\n",
            "18/18 [==============================] - 0s 26ms/step - loss: 110.1515 - mae: 110.1515 - val_loss: 567.8025 - val_mae: 567.8025\n",
            "Epoch 95/100\n",
            "18/18 [==============================] - 0s 5ms/step - loss: 107.0416 - mae: 107.0416 - val_loss: 619.4450 - val_mae: 619.4450\n",
            "Epoch 96/100\n",
            "18/18 [==============================] - 0s 5ms/step - loss: 106.9463 - mae: 106.9463 - val_loss: 572.2028 - val_mae: 572.2028\n",
            "Epoch 97/100\n",
            "18/18 [==============================] - 0s 5ms/step - loss: 105.2407 - mae: 105.2407 - val_loss: 568.2766 - val_mae: 568.2766\n",
            "Epoch 98/100\n",
            "18/18 [==============================] - 0s 5ms/step - loss: 104.9519 - mae: 104.9519 - val_loss: 575.4775 - val_mae: 575.4775\n",
            "Epoch 99/100\n",
            "18/18 [==============================] - 0s 5ms/step - loss: 107.4860 - mae: 107.4860 - val_loss: 597.4943 - val_mae: 597.4943\n",
            "Epoch 100/100\n",
            "18/18 [==============================] - 0s 5ms/step - loss: 105.7887 - mae: 105.7887 - val_loss: 593.2665 - val_mae: 593.2665\n"
          ]
        }
      ]
    },
    {
      "cell_type": "code",
      "source": [
        "# Evaluate model on test data\n",
        "model_1.evaluate(test_windows, test_labels)"
      ],
      "metadata": {
        "id": "X8YEf_RhKNh3",
        "outputId": "08062ab6-a3d3-4db4-b34a-daa2cc701080",
        "colab": {
          "base_uri": "https://localhost:8080/"
        }
      },
      "execution_count": 49,
      "outputs": [
        {
          "output_type": "stream",
          "name": "stdout",
          "text": [
            "18/18 [==============================] - 0s 4ms/step - loss: 593.2665 - mae: 593.2665\n"
          ]
        },
        {
          "output_type": "execute_result",
          "data": {
            "text/plain": [
              "[593.2664794921875, 593.2664794921875]"
            ]
          },
          "metadata": {},
          "execution_count": 49
        }
      ]
    },
    {
      "cell_type": "code",
      "source": [
        "# Load in saved best performing model_1 and evaluate it in test data\n",
        "load_model_1 = tf.keras.models.load_model('model_experiments/model_1_dense/')\n",
        "load_model_1.evaluate(test_windows, test_labels)"
      ],
      "metadata": {
        "id": "_dAAK0V6K8eG",
        "outputId": "222e1405-5925-4284-cb5c-073217fdace5",
        "colab": {
          "base_uri": "https://localhost:8080/"
        }
      },
      "execution_count": 50,
      "outputs": [
        {
          "output_type": "stream",
          "name": "stdout",
          "text": [
            "18/18 [==============================] - 0s 3ms/step - loss: 567.8026 - mae: 567.8026\n"
          ]
        },
        {
          "output_type": "execute_result",
          "data": {
            "text/plain": [
              "[567.8025512695312, 567.8025512695312]"
            ]
          },
          "metadata": {},
          "execution_count": 50
        }
      ]
    },
    {
      "cell_type": "code",
      "source": [
        "model_1_pred = load_model_1.predict(test_windows)\n",
        "model_1_results = evaluate_pred(y_true= tf.squeeze(test_labels),\n",
        "                                   y_pred= tf.squeeze(model_1_pred))\n",
        "model_1_results"
      ],
      "metadata": {
        "id": "8zY9bmWULWi_",
        "outputId": "b13217a5-bd83-42d1-e8c4-a739eb4a50e0",
        "colab": {
          "base_uri": "https://localhost:8080/"
        }
      },
      "execution_count": 59,
      "outputs": [
        {
          "output_type": "stream",
          "name": "stdout",
          "text": [
            "18/18 [==============================] - 0s 1ms/step\n"
          ]
        },
        {
          "output_type": "execute_result",
          "data": {
            "text/plain": [
              "{'MAE': 567.80255,\n",
              " 'MSE': 1173414.6,\n",
              " 'RMSE': 1083.2427,\n",
              " 'MAPE': 2.5593278,\n",
              " 'MASE': 0.9974718}"
            ]
          },
          "metadata": {},
          "execution_count": 59
        }
      ]
    },
    {
      "cell_type": "code",
      "source": [
        "naive_results"
      ],
      "metadata": {
        "id": "eoEV1g6BMSDZ",
        "outputId": "b325d808-3ce5-4b63-db8b-199d82a61588",
        "colab": {
          "base_uri": "https://localhost:8080/"
        }
      },
      "execution_count": 60,
      "outputs": [
        {
          "output_type": "execute_result",
          "data": {
            "text/plain": [
              "{'MAE': 567.9802,\n",
              " 'MSE': 1147547.0,\n",
              " 'RMSE': 1071.2362,\n",
              " 'MAPE': 2.516525,\n",
              " 'MASE': 0.99957}"
            ]
          },
          "metadata": {},
          "execution_count": 60
        }
      ]
    }
  ]
}