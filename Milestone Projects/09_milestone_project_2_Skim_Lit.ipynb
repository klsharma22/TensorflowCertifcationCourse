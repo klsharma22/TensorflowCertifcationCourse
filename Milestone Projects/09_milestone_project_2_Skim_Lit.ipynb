{
  "cells": [
    {
      "cell_type": "markdown",
      "metadata": {
        "id": "view-in-github",
        "colab_type": "text"
      },
      "source": [
        "<a href=\"https://colab.research.google.com/github/klsharma22/TensorflowCertifcationCourse/blob/main/Milestone%20Projects/09_milestone_project_2_Skim_Lit.ipynb\" target=\"_parent\"><img src=\"https://colab.research.google.com/assets/colab-badge.svg\" alt=\"Open In Colab\"/></a>"
      ]
    },
    {
      "cell_type": "markdown",
      "metadata": {
        "id": "TfW-azJO-myj"
      },
      "source": [
        "# Milestone Project 2: SkimLit\n",
        "\n",
        "The purpose of this notebook is to build an NLP model to make reading medical abstracts easier.\n",
        "\n",
        "The paper we're replicating is avaliable here: [PubMed 200k RCT](https://arxiv.org/abs/1710.06071)\n",
        "\n",
        "Reading through the paper above, we see that the model architecture that they use to achieve their best results is availbale here: [Neural Networks for Joint Sentence Classification](https://arxiv.org/abs/1612.05251)"
      ]
    },
    {
      "cell_type": "markdown",
      "metadata": {
        "id": "54ANxEuJ-myl"
      },
      "source": [
        "## Get data\n",
        "\n",
        "Since we are replicating the model from the above paper, let's use their data.\n",
        "\n",
        "[Dataset](https://github.com/Franck-Dernoncourt/pubmed-rct)"
      ]
    },
    {
      "cell_type": "code",
      "execution_count": 1,
      "metadata": {
        "colab": {
          "base_uri": "https://localhost:8080/"
        },
        "id": "SEuuecmU-myl",
        "outputId": "566fdefa-835f-493f-edd8-7c5027932f6f"
      },
      "outputs": [
        {
          "output_type": "stream",
          "name": "stdout",
          "text": [
            "Cloning into 'pubmed-rct'...\n",
            "remote: Enumerating objects: 39, done.\u001b[K\n",
            "remote: Counting objects: 100% (14/14), done.\u001b[K\n",
            "remote: Compressing objects: 100% (9/9), done.\u001b[K\n",
            "remote: Total 39 (delta 8), reused 5 (delta 5), pack-reused 25\u001b[K\n",
            "Receiving objects: 100% (39/39), 177.08 MiB | 14.79 MiB/s, done.\n",
            "Resolving deltas: 100% (15/15), done.\n",
            "PubMed_200k_RCT\t\t\t\t       PubMed_20k_RCT_numbers_replaced_with_at_sign\n",
            "PubMed_200k_RCT_numbers_replaced_with_at_sign  README.md\n",
            "PubMed_20k_RCT\n"
          ]
        }
      ],
      "source": [
        "!git clone https://github.com/Franck-Dernoncourt/pubmed-rct\n",
        "!ls pubmed-rct"
      ]
    },
    {
      "cell_type": "code",
      "execution_count": 2,
      "metadata": {
        "colab": {
          "base_uri": "https://localhost:8080/"
        },
        "id": "xYTaZPFK-myn",
        "outputId": "ed41315d-e78a-4b34-b2b5-cca7a4bc506d"
      },
      "outputs": [
        {
          "output_type": "stream",
          "name": "stdout",
          "text": [
            "dev.txt  test.txt  train.txt\n"
          ]
        }
      ],
      "source": [
        "# Check what files are in the PubMed20k dataset\n",
        "!ls pubmed-rct/PubMed_20k_RCT_numbers_replaced_with_at_sign/"
      ]
    },
    {
      "cell_type": "code",
      "execution_count": 3,
      "metadata": {
        "id": "OnxDiU0x-myn"
      },
      "outputs": [],
      "source": [
        "# Start our experiments using the 20k dataset with numbers replaced by '@' sign\n",
        "# data_dir = '/Users/klsharma22/Desktop/TensorflowCertifcationCourse/Milestone Projects/pubmed-rct/PubMed_20k_RCT_numbers_replaced_with_at_sign/'\n",
        "data_dir = '/content/pubmed-rct/PubMed_20k_RCT_numbers_replaced_with_at_sign/'"
      ]
    },
    {
      "cell_type": "code",
      "execution_count": 4,
      "metadata": {
        "colab": {
          "base_uri": "https://localhost:8080/"
        },
        "id": "2d0ACu4V-myo",
        "outputId": "e75db991-b1ed-4e55-d556-f41df8fa8a27"
      },
      "outputs": [
        {
          "output_type": "execute_result",
          "data": {
            "text/plain": [
              "['/content/pubmed-rct/PubMed_20k_RCT_numbers_replaced_with_at_sign/dev.txt',\n",
              " '/content/pubmed-rct/PubMed_20k_RCT_numbers_replaced_with_at_sign/test.txt',\n",
              " '/content/pubmed-rct/PubMed_20k_RCT_numbers_replaced_with_at_sign/train.txt']"
            ]
          },
          "metadata": {},
          "execution_count": 4
        }
      ],
      "source": [
        "# Check all of the filenames in the target directory\n",
        "import os\n",
        "filenames = [data_dir + filename for filename in os.listdir(data_dir)]\n",
        "filenames"
      ]
    },
    {
      "cell_type": "markdown",
      "metadata": {
        "id": "VtteRIaU-myo"
      },
      "source": [
        "## Preprocess data\n",
        "\n",
        "Now we've got some text data, it's time to get one with it."
      ]
    },
    {
      "cell_type": "code",
      "execution_count": 5,
      "metadata": {
        "id": "G7nmnv5r-myo"
      },
      "outputs": [],
      "source": [
        "# Create a function to read the lines of the document\n",
        "def get_lines(filename):\n",
        "    '''\n",
        "    Reads filename and returns the lines of text as a list.\n",
        "\n",
        "    Args:\n",
        "        filename (str): Path of filename\n",
        "\n",
        "    Returns:\n",
        "        A list of string with one string per line from the target filename\n",
        "    '''\n",
        "\n",
        "    with open(filename, 'r') as f:\n",
        "        return f.readlines()"
      ]
    },
    {
      "cell_type": "code",
      "execution_count": 6,
      "metadata": {
        "colab": {
          "base_uri": "https://localhost:8080/"
        },
        "id": "88NDf8tI-myp",
        "outputId": "fd2f7b7a-d6ad-4682-dd6d-9a020fd6715e"
      },
      "outputs": [
        {
          "output_type": "execute_result",
          "data": {
            "text/plain": [
              "['###24293578\\n',\n",
              " 'OBJECTIVE\\tTo investigate the efficacy of @ weeks of daily low-dose oral prednisolone in improving pain , mobility , and systemic low-grade inflammation in the short term and whether the effect would be sustained at @ weeks in older adults with moderate to severe knee osteoarthritis ( OA ) .\\n',\n",
              " 'METHODS\\tA total of @ patients with primary knee OA were randomized @:@ ; @ received @ mg/day of prednisolone and @ received placebo for @ weeks .\\n',\n",
              " 'METHODS\\tOutcome measures included pain reduction and improvement in function scores and systemic inflammation markers .\\n',\n",
              " 'METHODS\\tPain was assessed using the visual analog pain scale ( @-@ mm ) .\\n',\n",
              " 'METHODS\\tSecondary outcome measures included the Western Ontario and McMaster Universities Osteoarthritis Index scores , patient global assessment ( PGA ) of the severity of knee OA , and @-min walk distance ( @MWD ) .\\n',\n",
              " 'METHODS\\tSerum levels of interleukin @ ( IL-@ ) , IL-@ , tumor necrosis factor ( TNF ) - , and high-sensitivity C-reactive protein ( hsCRP ) were measured .\\n',\n",
              " 'RESULTS\\tThere was a clinically relevant reduction in the intervention group compared to the placebo group for knee pain , physical function , PGA , and @MWD at @ weeks .\\n',\n",
              " 'RESULTS\\tThe mean difference between treatment arms ( @ % CI ) was @ ( @-@ @ ) , p < @ ; @ ( @-@ @ ) , p < @ ; @ ( @-@ @ ) , p < @ ; and @ ( @-@ @ ) , p < @ , respectively .\\n',\n",
              " 'RESULTS\\tFurther , there was a clinically relevant reduction in the serum levels of IL-@ , IL-@ , TNF - , and hsCRP at @ weeks in the intervention group when compared to the placebo group .\\n',\n",
              " 'RESULTS\\tThese differences remained significant at @ weeks .\\n',\n",
              " 'RESULTS\\tThe Outcome Measures in Rheumatology Clinical Trials-Osteoarthritis Research Society International responder rate was @ % in the intervention group and @ % in the placebo group ( p < @ ) .\\n',\n",
              " 'CONCLUSIONS\\tLow-dose oral prednisolone had both a short-term and a longer sustained effect resulting in less knee pain , better physical function , and attenuation of systemic inflammation in older patients with knee OA ( ClinicalTrials.gov identifier NCT@ ) .\\n',\n",
              " '\\n',\n",
              " '###24854809\\n',\n",
              " 'BACKGROUND\\tEmotional eating is associated with overeating and the development of obesity .\\n',\n",
              " 'BACKGROUND\\tYet , empirical evidence for individual ( trait ) differences in emotional eating and cognitive mechanisms that contribute to eating during sad mood remain equivocal .\\n',\n",
              " 'OBJECTIVE\\tThe aim of this study was to test if attention bias for food moderates the effect of self-reported emotional eating during sad mood ( vs neutral mood ) on actual food intake .\\n',\n",
              " 'OBJECTIVE\\tIt was expected that emotional eating is predictive of elevated attention for food and higher food intake after an experimentally induced sad mood and that attentional maintenance on food predicts food intake during a sad versus a neutral mood .\\n',\n",
              " 'METHODS\\tParticipants ( N = @ ) were randomly assigned to one of the two experimental mood induction conditions ( sad/neutral ) .\\n']"
            ]
          },
          "metadata": {},
          "execution_count": 6
        }
      ],
      "source": [
        "# Let's read in the training lines\n",
        "train_lines = get_lines(filenames[2])\n",
        "train_lines[:20]"
      ]
    },
    {
      "cell_type": "markdown",
      "metadata": {
        "id": "OpYLOC5K-myp"
      },
      "source": [
        "Let's think about how we want our data to look\n",
        "\n",
        "Representation of the data:\n",
        "\n",
        "```\n",
        "[{'line_number': 0,\n",
        "    'target': 'BACKGROUND',\n",
        "    'text': 'xyz',\n",
        "    'total_lines': 11}]\n",
        "```"
      ]
    },
    {
      "cell_type": "code",
      "execution_count": 7,
      "metadata": {
        "id": "soED5s__-myp"
      },
      "outputs": [],
      "source": [
        "def preprocess_text_with_line_numbers(filename):\n",
        "    '''\n",
        "    Returns a list of dictionary of abstract line data.\n",
        "\n",
        "    Takes in filename, reads it contents and sorts through each line, extracting things like the target label, the text of the sentence, number of snetences and what sentence number line is.\n",
        "    '''\n",
        "    input_lines = get_lines(filename)\n",
        "    abstract_lines = \"\"\n",
        "    abstract_samples = []\n",
        "\n",
        "    for line in input_lines: # if the line is the id number\n",
        "        if line.startswith(\"###\"):\n",
        "            abstract_id = line\n",
        "            abstract_lines = \"\"\n",
        "        elif line.isspace(): # if it is the new line\n",
        "            abstract_line_split = abstract_lines.splitlines()\n",
        "\n",
        "            for line_number, abstract_line in enumerate(abstract_line_split):\n",
        "                line_data = {}\n",
        "                target_text_split = abstract_line.split('\\t')\n",
        "                line_data['target'] = target_text_split[0]\n",
        "                line_data['text'] = target_text_split[1].lower()\n",
        "                line_data['line_number'] = line_number\n",
        "                line_data['total_lines'] = len(abstract_line_split) - 1\n",
        "                abstract_samples.append(line_data)\n",
        "\n",
        "        else: # if it is the text\n",
        "            abstract_lines += line\n",
        "\n",
        "    return abstract_samples"
      ]
    },
    {
      "cell_type": "code",
      "execution_count": 8,
      "metadata": {
        "colab": {
          "base_uri": "https://localhost:8080/"
        },
        "id": "Avi5B5zO-myq",
        "outputId": "cda3b1f2-33de-46cd-d6e4-5691563396f4"
      },
      "outputs": [
        {
          "output_type": "execute_result",
          "data": {
            "text/plain": [
              "(180040, 30135, 30212)"
            ]
          },
          "metadata": {},
          "execution_count": 8
        }
      ],
      "source": [
        "train_samples = preprocess_text_with_line_numbers(filenames[2])\n",
        "val_samples = preprocess_text_with_line_numbers(filenames[1])\n",
        "test_samples = preprocess_text_with_line_numbers(filenames[0])\n",
        "\n",
        "len(train_samples), len(val_samples), len(test_samples)"
      ]
    },
    {
      "cell_type": "code",
      "execution_count": 9,
      "metadata": {
        "colab": {
          "base_uri": "https://localhost:8080/"
        },
        "id": "atby8uQY-myr",
        "outputId": "dfbe4828-c1a0-443d-8cf1-a0fee9188130"
      },
      "outputs": [
        {
          "output_type": "execute_result",
          "data": {
            "text/plain": [
              "[{'target': 'OBJECTIVE',\n",
              "  'text': 'to investigate the efficacy of @ weeks of daily low-dose oral prednisolone in improving pain , mobility , and systemic low-grade inflammation in the short term and whether the effect would be sustained at @ weeks in older adults with moderate to severe knee osteoarthritis ( oa ) .',\n",
              "  'line_number': 0,\n",
              "  'total_lines': 11},\n",
              " {'target': 'METHODS',\n",
              "  'text': 'a total of @ patients with primary knee oa were randomized @:@ ; @ received @ mg/day of prednisolone and @ received placebo for @ weeks .',\n",
              "  'line_number': 1,\n",
              "  'total_lines': 11},\n",
              " {'target': 'METHODS',\n",
              "  'text': 'outcome measures included pain reduction and improvement in function scores and systemic inflammation markers .',\n",
              "  'line_number': 2,\n",
              "  'total_lines': 11},\n",
              " {'target': 'METHODS',\n",
              "  'text': 'pain was assessed using the visual analog pain scale ( @-@ mm ) .',\n",
              "  'line_number': 3,\n",
              "  'total_lines': 11},\n",
              " {'target': 'METHODS',\n",
              "  'text': 'secondary outcome measures included the western ontario and mcmaster universities osteoarthritis index scores , patient global assessment ( pga ) of the severity of knee oa , and @-min walk distance ( @mwd ) .',\n",
              "  'line_number': 4,\n",
              "  'total_lines': 11},\n",
              " {'target': 'METHODS',\n",
              "  'text': 'serum levels of interleukin @ ( il-@ ) , il-@ , tumor necrosis factor ( tnf ) - , and high-sensitivity c-reactive protein ( hscrp ) were measured .',\n",
              "  'line_number': 5,\n",
              "  'total_lines': 11},\n",
              " {'target': 'RESULTS',\n",
              "  'text': 'there was a clinically relevant reduction in the intervention group compared to the placebo group for knee pain , physical function , pga , and @mwd at @ weeks .',\n",
              "  'line_number': 6,\n",
              "  'total_lines': 11},\n",
              " {'target': 'RESULTS',\n",
              "  'text': 'the mean difference between treatment arms ( @ % ci ) was @ ( @-@ @ ) , p < @ ; @ ( @-@ @ ) , p < @ ; @ ( @-@ @ ) , p < @ ; and @ ( @-@ @ ) , p < @ , respectively .',\n",
              "  'line_number': 7,\n",
              "  'total_lines': 11},\n",
              " {'target': 'RESULTS',\n",
              "  'text': 'further , there was a clinically relevant reduction in the serum levels of il-@ , il-@ , tnf - , and hscrp at @ weeks in the intervention group when compared to the placebo group .',\n",
              "  'line_number': 8,\n",
              "  'total_lines': 11},\n",
              " {'target': 'RESULTS',\n",
              "  'text': 'these differences remained significant at @ weeks .',\n",
              "  'line_number': 9,\n",
              "  'total_lines': 11},\n",
              " {'target': 'RESULTS',\n",
              "  'text': 'the outcome measures in rheumatology clinical trials-osteoarthritis research society international responder rate was @ % in the intervention group and @ % in the placebo group ( p < @ ) .',\n",
              "  'line_number': 10,\n",
              "  'total_lines': 11},\n",
              " {'target': 'CONCLUSIONS',\n",
              "  'text': 'low-dose oral prednisolone had both a short-term and a longer sustained effect resulting in less knee pain , better physical function , and attenuation of systemic inflammation in older patients with knee oa ( clinicaltrials.gov identifier nct@ ) .',\n",
              "  'line_number': 11,\n",
              "  'total_lines': 11},\n",
              " {'target': 'BACKGROUND',\n",
              "  'text': 'emotional eating is associated with overeating and the development of obesity .',\n",
              "  'line_number': 0,\n",
              "  'total_lines': 10},\n",
              " {'target': 'BACKGROUND',\n",
              "  'text': 'yet , empirical evidence for individual ( trait ) differences in emotional eating and cognitive mechanisms that contribute to eating during sad mood remain equivocal .',\n",
              "  'line_number': 1,\n",
              "  'total_lines': 10}]"
            ]
          },
          "metadata": {},
          "execution_count": 9
        }
      ],
      "source": [
        "# Check the first abstract\n",
        "train_samples[:14]"
      ]
    },
    {
      "cell_type": "markdown",
      "metadata": {
        "id": "eLdv_FH9-myr"
      },
      "source": [
        "Now that we have our data in the form of dictionary, let's create a dataframe"
      ]
    },
    {
      "cell_type": "code",
      "execution_count": 10,
      "metadata": {
        "colab": {
          "base_uri": "https://localhost:8080/",
          "height": 204
        },
        "id": "-k725nJW-myr",
        "outputId": "fc016aa6-e03a-4e11-9412-041676103456"
      },
      "outputs": [
        {
          "output_type": "execute_result",
          "data": {
            "text/plain": [
              "      target                                               text  line_number  \\\n",
              "0  OBJECTIVE  to investigate the efficacy of @ weeks of dail...            0   \n",
              "1    METHODS  a total of @ patients with primary knee oa wer...            1   \n",
              "2    METHODS  outcome measures included pain reduction and i...            2   \n",
              "3    METHODS  pain was assessed using the visual analog pain...            3   \n",
              "4    METHODS  secondary outcome measures included the wester...            4   \n",
              "\n",
              "   total_lines  \n",
              "0           11  \n",
              "1           11  \n",
              "2           11  \n",
              "3           11  \n",
              "4           11  "
            ],
            "text/html": [
              "\n",
              "  <div id=\"df-5b4aa71d-67c7-43b8-baa5-55718ebe3641\" class=\"colab-df-container\">\n",
              "    <div>\n",
              "<style scoped>\n",
              "    .dataframe tbody tr th:only-of-type {\n",
              "        vertical-align: middle;\n",
              "    }\n",
              "\n",
              "    .dataframe tbody tr th {\n",
              "        vertical-align: top;\n",
              "    }\n",
              "\n",
              "    .dataframe thead th {\n",
              "        text-align: right;\n",
              "    }\n",
              "</style>\n",
              "<table border=\"1\" class=\"dataframe\">\n",
              "  <thead>\n",
              "    <tr style=\"text-align: right;\">\n",
              "      <th></th>\n",
              "      <th>target</th>\n",
              "      <th>text</th>\n",
              "      <th>line_number</th>\n",
              "      <th>total_lines</th>\n",
              "    </tr>\n",
              "  </thead>\n",
              "  <tbody>\n",
              "    <tr>\n",
              "      <th>0</th>\n",
              "      <td>OBJECTIVE</td>\n",
              "      <td>to investigate the efficacy of @ weeks of dail...</td>\n",
              "      <td>0</td>\n",
              "      <td>11</td>\n",
              "    </tr>\n",
              "    <tr>\n",
              "      <th>1</th>\n",
              "      <td>METHODS</td>\n",
              "      <td>a total of @ patients with primary knee oa wer...</td>\n",
              "      <td>1</td>\n",
              "      <td>11</td>\n",
              "    </tr>\n",
              "    <tr>\n",
              "      <th>2</th>\n",
              "      <td>METHODS</td>\n",
              "      <td>outcome measures included pain reduction and i...</td>\n",
              "      <td>2</td>\n",
              "      <td>11</td>\n",
              "    </tr>\n",
              "    <tr>\n",
              "      <th>3</th>\n",
              "      <td>METHODS</td>\n",
              "      <td>pain was assessed using the visual analog pain...</td>\n",
              "      <td>3</td>\n",
              "      <td>11</td>\n",
              "    </tr>\n",
              "    <tr>\n",
              "      <th>4</th>\n",
              "      <td>METHODS</td>\n",
              "      <td>secondary outcome measures included the wester...</td>\n",
              "      <td>4</td>\n",
              "      <td>11</td>\n",
              "    </tr>\n",
              "  </tbody>\n",
              "</table>\n",
              "</div>\n",
              "    <div class=\"colab-df-buttons\">\n",
              "\n",
              "  <div class=\"colab-df-container\">\n",
              "    <button class=\"colab-df-convert\" onclick=\"convertToInteractive('df-5b4aa71d-67c7-43b8-baa5-55718ebe3641')\"\n",
              "            title=\"Convert this dataframe to an interactive table.\"\n",
              "            style=\"display:none;\">\n",
              "\n",
              "  <svg xmlns=\"http://www.w3.org/2000/svg\" height=\"24px\" viewBox=\"0 -960 960 960\">\n",
              "    <path d=\"M120-120v-720h720v720H120Zm60-500h600v-160H180v160Zm220 220h160v-160H400v160Zm0 220h160v-160H400v160ZM180-400h160v-160H180v160Zm440 0h160v-160H620v160ZM180-180h160v-160H180v160Zm440 0h160v-160H620v160Z\"/>\n",
              "  </svg>\n",
              "    </button>\n",
              "\n",
              "  <style>\n",
              "    .colab-df-container {\n",
              "      display:flex;\n",
              "      gap: 12px;\n",
              "    }\n",
              "\n",
              "    .colab-df-convert {\n",
              "      background-color: #E8F0FE;\n",
              "      border: none;\n",
              "      border-radius: 50%;\n",
              "      cursor: pointer;\n",
              "      display: none;\n",
              "      fill: #1967D2;\n",
              "      height: 32px;\n",
              "      padding: 0 0 0 0;\n",
              "      width: 32px;\n",
              "    }\n",
              "\n",
              "    .colab-df-convert:hover {\n",
              "      background-color: #E2EBFA;\n",
              "      box-shadow: 0px 1px 2px rgba(60, 64, 67, 0.3), 0px 1px 3px 1px rgba(60, 64, 67, 0.15);\n",
              "      fill: #174EA6;\n",
              "    }\n",
              "\n",
              "    .colab-df-buttons div {\n",
              "      margin-bottom: 4px;\n",
              "    }\n",
              "\n",
              "    [theme=dark] .colab-df-convert {\n",
              "      background-color: #3B4455;\n",
              "      fill: #D2E3FC;\n",
              "    }\n",
              "\n",
              "    [theme=dark] .colab-df-convert:hover {\n",
              "      background-color: #434B5C;\n",
              "      box-shadow: 0px 1px 3px 1px rgba(0, 0, 0, 0.15);\n",
              "      filter: drop-shadow(0px 1px 2px rgba(0, 0, 0, 0.3));\n",
              "      fill: #FFFFFF;\n",
              "    }\n",
              "  </style>\n",
              "\n",
              "    <script>\n",
              "      const buttonEl =\n",
              "        document.querySelector('#df-5b4aa71d-67c7-43b8-baa5-55718ebe3641 button.colab-df-convert');\n",
              "      buttonEl.style.display =\n",
              "        google.colab.kernel.accessAllowed ? 'block' : 'none';\n",
              "\n",
              "      async function convertToInteractive(key) {\n",
              "        const element = document.querySelector('#df-5b4aa71d-67c7-43b8-baa5-55718ebe3641');\n",
              "        const dataTable =\n",
              "          await google.colab.kernel.invokeFunction('convertToInteractive',\n",
              "                                                    [key], {});\n",
              "        if (!dataTable) return;\n",
              "\n",
              "        const docLinkHtml = 'Like what you see? Visit the ' +\n",
              "          '<a target=\"_blank\" href=https://colab.research.google.com/notebooks/data_table.ipynb>data table notebook</a>'\n",
              "          + ' to learn more about interactive tables.';\n",
              "        element.innerHTML = '';\n",
              "        dataTable['output_type'] = 'display_data';\n",
              "        await google.colab.output.renderOutput(dataTable, element);\n",
              "        const docLink = document.createElement('div');\n",
              "        docLink.innerHTML = docLinkHtml;\n",
              "        element.appendChild(docLink);\n",
              "      }\n",
              "    </script>\n",
              "  </div>\n",
              "\n",
              "\n",
              "<div id=\"df-20934fb6-5d46-480a-9bd8-08a31106607e\">\n",
              "  <button class=\"colab-df-quickchart\" onclick=\"quickchart('df-20934fb6-5d46-480a-9bd8-08a31106607e')\"\n",
              "            title=\"Suggest charts\"\n",
              "            style=\"display:none;\">\n",
              "\n",
              "<svg xmlns=\"http://www.w3.org/2000/svg\" height=\"24px\"viewBox=\"0 0 24 24\"\n",
              "     width=\"24px\">\n",
              "    <g>\n",
              "        <path d=\"M19 3H5c-1.1 0-2 .9-2 2v14c0 1.1.9 2 2 2h14c1.1 0 2-.9 2-2V5c0-1.1-.9-2-2-2zM9 17H7v-7h2v7zm4 0h-2V7h2v10zm4 0h-2v-4h2v4z\"/>\n",
              "    </g>\n",
              "</svg>\n",
              "  </button>\n",
              "\n",
              "<style>\n",
              "  .colab-df-quickchart {\n",
              "      --bg-color: #E8F0FE;\n",
              "      --fill-color: #1967D2;\n",
              "      --hover-bg-color: #E2EBFA;\n",
              "      --hover-fill-color: #174EA6;\n",
              "      --disabled-fill-color: #AAA;\n",
              "      --disabled-bg-color: #DDD;\n",
              "  }\n",
              "\n",
              "  [theme=dark] .colab-df-quickchart {\n",
              "      --bg-color: #3B4455;\n",
              "      --fill-color: #D2E3FC;\n",
              "      --hover-bg-color: #434B5C;\n",
              "      --hover-fill-color: #FFFFFF;\n",
              "      --disabled-bg-color: #3B4455;\n",
              "      --disabled-fill-color: #666;\n",
              "  }\n",
              "\n",
              "  .colab-df-quickchart {\n",
              "    background-color: var(--bg-color);\n",
              "    border: none;\n",
              "    border-radius: 50%;\n",
              "    cursor: pointer;\n",
              "    display: none;\n",
              "    fill: var(--fill-color);\n",
              "    height: 32px;\n",
              "    padding: 0;\n",
              "    width: 32px;\n",
              "  }\n",
              "\n",
              "  .colab-df-quickchart:hover {\n",
              "    background-color: var(--hover-bg-color);\n",
              "    box-shadow: 0 1px 2px rgba(60, 64, 67, 0.3), 0 1px 3px 1px rgba(60, 64, 67, 0.15);\n",
              "    fill: var(--button-hover-fill-color);\n",
              "  }\n",
              "\n",
              "  .colab-df-quickchart-complete:disabled,\n",
              "  .colab-df-quickchart-complete:disabled:hover {\n",
              "    background-color: var(--disabled-bg-color);\n",
              "    fill: var(--disabled-fill-color);\n",
              "    box-shadow: none;\n",
              "  }\n",
              "\n",
              "  .colab-df-spinner {\n",
              "    border: 2px solid var(--fill-color);\n",
              "    border-color: transparent;\n",
              "    border-bottom-color: var(--fill-color);\n",
              "    animation:\n",
              "      spin 1s steps(1) infinite;\n",
              "  }\n",
              "\n",
              "  @keyframes spin {\n",
              "    0% {\n",
              "      border-color: transparent;\n",
              "      border-bottom-color: var(--fill-color);\n",
              "      border-left-color: var(--fill-color);\n",
              "    }\n",
              "    20% {\n",
              "      border-color: transparent;\n",
              "      border-left-color: var(--fill-color);\n",
              "      border-top-color: var(--fill-color);\n",
              "    }\n",
              "    30% {\n",
              "      border-color: transparent;\n",
              "      border-left-color: var(--fill-color);\n",
              "      border-top-color: var(--fill-color);\n",
              "      border-right-color: var(--fill-color);\n",
              "    }\n",
              "    40% {\n",
              "      border-color: transparent;\n",
              "      border-right-color: var(--fill-color);\n",
              "      border-top-color: var(--fill-color);\n",
              "    }\n",
              "    60% {\n",
              "      border-color: transparent;\n",
              "      border-right-color: var(--fill-color);\n",
              "    }\n",
              "    80% {\n",
              "      border-color: transparent;\n",
              "      border-right-color: var(--fill-color);\n",
              "      border-bottom-color: var(--fill-color);\n",
              "    }\n",
              "    90% {\n",
              "      border-color: transparent;\n",
              "      border-bottom-color: var(--fill-color);\n",
              "    }\n",
              "  }\n",
              "</style>\n",
              "\n",
              "  <script>\n",
              "    async function quickchart(key) {\n",
              "      const quickchartButtonEl =\n",
              "        document.querySelector('#' + key + ' button');\n",
              "      quickchartButtonEl.disabled = true;  // To prevent multiple clicks.\n",
              "      quickchartButtonEl.classList.add('colab-df-spinner');\n",
              "      try {\n",
              "        const charts = await google.colab.kernel.invokeFunction(\n",
              "            'suggestCharts', [key], {});\n",
              "      } catch (error) {\n",
              "        console.error('Error during call to suggestCharts:', error);\n",
              "      }\n",
              "      quickchartButtonEl.classList.remove('colab-df-spinner');\n",
              "      quickchartButtonEl.classList.add('colab-df-quickchart-complete');\n",
              "    }\n",
              "    (() => {\n",
              "      let quickchartButtonEl =\n",
              "        document.querySelector('#df-20934fb6-5d46-480a-9bd8-08a31106607e button');\n",
              "      quickchartButtonEl.style.display =\n",
              "        google.colab.kernel.accessAllowed ? 'block' : 'none';\n",
              "    })();\n",
              "  </script>\n",
              "</div>\n",
              "\n",
              "    </div>\n",
              "  </div>\n"
            ],
            "application/vnd.google.colaboratory.intrinsic+json": {
              "type": "dataframe",
              "variable_name": "train_df"
            }
          },
          "metadata": {},
          "execution_count": 10
        }
      ],
      "source": [
        "import pandas as pd\n",
        "train_df = pd.DataFrame(train_samples)\n",
        "val_df = pd.DataFrame(val_samples)\n",
        "test_df = pd.DataFrame(test_samples)\n",
        "\n",
        "train_df.head()"
      ]
    },
    {
      "cell_type": "code",
      "execution_count": 11,
      "metadata": {
        "colab": {
          "base_uri": "https://localhost:8080/"
        },
        "id": "TYx0lPZE-myr",
        "outputId": "d4b891e9-41e2-47ad-8635-2e9e4aa9e9e9"
      },
      "outputs": [
        {
          "output_type": "execute_result",
          "data": {
            "text/plain": [
              "METHODS        59353\n",
              "RESULTS        57953\n",
              "CONCLUSIONS    27168\n",
              "BACKGROUND     21727\n",
              "OBJECTIVE      13839\n",
              "Name: target, dtype: int64"
            ]
          },
          "metadata": {},
          "execution_count": 11
        }
      ],
      "source": [
        "# Distribution of labels\n",
        "train_df['target'].value_counts()"
      ]
    },
    {
      "cell_type": "code",
      "execution_count": 12,
      "metadata": {
        "colab": {
          "base_uri": "https://localhost:8080/",
          "height": 448
        },
        "id": "pDcvtPHD-mys",
        "outputId": "6d69535a-0e2e-4975-c328-dd7592cb79a2"
      },
      "outputs": [
        {
          "output_type": "execute_result",
          "data": {
            "text/plain": [
              "<Axes: ylabel='Frequency'>"
            ]
          },
          "metadata": {},
          "execution_count": 12
        },
        {
          "output_type": "display_data",
          "data": {
            "text/plain": [
              "<Figure size 640x480 with 1 Axes>"
            ],
            "image/png": "[encoded data removed]"
          },
          "metadata": {}
        }
      ],
      "source": [
        "# Let's check length of different lines\n",
        "train_df['total_lines'].plot.hist()"
      ]
    },
    {
      "cell_type": "markdown",
      "metadata": {
        "id": "pHi-JHoT-myt"
      },
      "source": [
        "### Get a lists of sentences"
      ]
    },
    {
      "cell_type": "code",
      "execution_count": 13,
      "metadata": {
        "colab": {
          "base_uri": "https://localhost:8080/"
        },
        "id": "iO-S4AL4-myt",
        "outputId": "f6e3381d-d7a3-4d94-e3b5-9b5177fcf05a"
      },
      "outputs": [
        {
          "output_type": "execute_result",
          "data": {
            "text/plain": [
              "(180040, 30135, 30212)"
            ]
          },
          "metadata": {},
          "execution_count": 13
        }
      ],
      "source": [
        "# Convert abstract text lines into lists\n",
        "train_sentences = train_df['text'].to_list()\n",
        "val_sentences = val_df['text'].to_list()\n",
        "test_sentences = test_df['text'].to_list()\n",
        "\n",
        "len(train_sentences), len(val_sentences), len(test_sentences)"
      ]
    },
    {
      "cell_type": "markdown",
      "metadata": {
        "id": "8Uycyf4w-myt"
      },
      "source": [
        "## Make numeric labels"
      ]
    },
    {
      "cell_type": "code",
      "execution_count": 14,
      "metadata": {
        "colab": {
          "base_uri": "https://localhost:8080/"
        },
        "id": "3WRsjBlr-myu",
        "outputId": "f90af824-cea3-4212-9043-cce4ab60ee29"
      },
      "outputs": [
        {
          "output_type": "stream",
          "name": "stderr",
          "text": [
            "/usr/local/lib/python3.10/dist-packages/sklearn/preprocessing/_encoders.py:868: FutureWarning: `sparse` was renamed to `sparse_output` in version 1.2 and will be removed in 1.4. `sparse_output` is ignored unless you leave `sparse` to its default value.\n",
            "  warnings.warn(\n"
          ]
        },
        {
          "output_type": "execute_result",
          "data": {
            "text/plain": [
              "(180040, 30135, 30212)"
            ]
          },
          "metadata": {},
          "execution_count": 14
        }
      ],
      "source": [
        "from sklearn.preprocessing import OneHotEncoder\n",
        "\n",
        "one_hot_encoder = OneHotEncoder(sparse= False)\n",
        "train_labels_one_hot = one_hot_encoder.fit_transform(train_df['target'].to_numpy().reshape(-1, 1))\n",
        "val_labels_one_hot = one_hot_encoder.transform(val_df['target'].to_numpy().reshape(-1, 1))\n",
        "test_labels_one_hot = one_hot_encoder.transform(test_df['target'].to_numpy().reshape(-1, 1))\n",
        "\n",
        "len(train_labels_one_hot), len(val_labels_one_hot), len(test_labels_one_hot)"
      ]
    },
    {
      "cell_type": "markdown",
      "metadata": {
        "id": "paorIYN6-myu"
      },
      "source": [
        "## Label encode labels"
      ]
    },
    {
      "cell_type": "code",
      "execution_count": 15,
      "metadata": {
        "colab": {
          "base_uri": "https://localhost:8080/"
        },
        "id": "Qt8yyzYH-myu",
        "outputId": "f498166c-79b6-4234-83d4-ead676f1718d"
      },
      "outputs": [
        {
          "output_type": "execute_result",
          "data": {
            "text/plain": [
              "array([3, 2, 2, ..., 4, 1, 1])"
            ]
          },
          "metadata": {},
          "execution_count": 15
        }
      ],
      "source": [
        "# Extract labels and encode them into integers\n",
        "from sklearn.preprocessing import LabelEncoder\n",
        "label_encoder = LabelEncoder()\n",
        "\n",
        "train_labels_encoded = label_encoder.fit_transform(train_df['target'].to_numpy())\n",
        "val_labels_encoded = label_encoder.transform(val_df['target'].to_numpy())\n",
        "test_labels_encoded = label_encoder.transform(test_df['target'].to_numpy())\n",
        "\n",
        "train_labels_encoded"
      ]
    },
    {
      "cell_type": "code",
      "execution_count": 16,
      "metadata": {
        "colab": {
          "base_uri": "https://localhost:8080/"
        },
        "id": "vvEqNFYv-myv",
        "outputId": "6093a4e7-8059-409d-a749-4228e92bea77"
      },
      "outputs": [
        {
          "output_type": "execute_result",
          "data": {
            "text/plain": [
              "(5,\n",
              " array(['BACKGROUND', 'CONCLUSIONS', 'METHODS', 'OBJECTIVE', 'RESULTS'],\n",
              "       dtype=object))"
            ]
          },
          "metadata": {},
          "execution_count": 16
        }
      ],
      "source": [
        "# get class names and number of classes from LabelEncoder\n",
        "num_classes = len(label_encoder.classes_)\n",
        "class_names = label_encoder.classes_\n",
        "\n",
        "num_classes, class_names"
      ]
    },
    {
      "cell_type": "markdown",
      "metadata": {
        "id": "hGCMNIsD-myv"
      },
      "source": [
        "## Experiments"
      ]
    },
    {
      "cell_type": "markdown",
      "metadata": {
        "id": "tFsS11w3-myw"
      },
      "source": [
        "### Model 0: Getting a baseling"
      ]
    },
    {
      "cell_type": "code",
      "execution_count": 17,
      "metadata": {
        "colab": {
          "base_uri": "https://localhost:8080/",
          "height": 124
        },
        "id": "5YBvvScm-myw",
        "outputId": "47b62b93-3e98-46a4-9c80-4e59a1f8cfac"
      },
      "outputs": [
        {
          "output_type": "execute_result",
          "data": {
            "text/plain": [
              "Pipeline(steps=[('tf-idf', TfidfVectorizer()), ('clf', MultinomialNB())])"
            ],
            "text/html": [
              "<style>#sk-container-id-1 {color: black;background-color: white;}#sk-container-id-1 pre{padding: 0;}#sk-container-id-1 div.sk-toggleable {background-color: white;}#sk-container-id-1 label.sk-toggleable__label {cursor: pointer;display: block;width: 100%;margin-bottom: 0;padding: 0.3em;box-sizing: border-box;text-align: center;}#sk-container-id-1 label.sk-toggleable__label-arrow:before {content: \"▸\";float: left;margin-right: 0.25em;color: #696969;}#sk-container-id-1 label.sk-toggleable__label-arrow:hover:before {color: black;}#sk-container-id-1 div.sk-estimator:hover label.sk-toggleable__label-arrow:before {color: black;}#sk-container-id-1 div.sk-toggleable__content {max-height: 0;max-width: 0;overflow: hidden;text-align: left;background-color: #f0f8ff;}#sk-container-id-1 div.sk-toggleable__content pre {margin: 0.2em;color: black;border-radius: 0.25em;background-color: #f0f8ff;}#sk-container-id-1 input.sk-toggleable__control:checked~div.sk-toggleable__content {max-height: 200px;max-width: 100%;overflow: auto;}#sk-container-id-1 input.sk-toggleable__control:checked~label.sk-toggleable__label-arrow:before {content: \"▾\";}#sk-container-id-1 div.sk-estimator input.sk-toggleable__control:checked~label.sk-toggleable__label {background-color: #d4ebff;}#sk-container-id-1 div.sk-label input.sk-toggleable__control:checked~label.sk-toggleable__label {background-color: #d4ebff;}#sk-container-id-1 input.sk-hidden--visually {border: 0;clip: rect(1px 1px 1px 1px);clip: rect(1px, 1px, 1px, 1px);height: 1px;margin: -1px;overflow: hidden;padding: 0;position: absolute;width: 1px;}#sk-container-id-1 div.sk-estimator {font-family: monospace;background-color: #f0f8ff;border: 1px dotted black;border-radius: 0.25em;box-sizing: border-box;margin-bottom: 0.5em;}#sk-container-id-1 div.sk-estimator:hover {background-color: #d4ebff;}#sk-container-id-1 div.sk-parallel-item::after {content: \"\";width: 100%;border-bottom: 1px solid gray;flex-grow: 1;}#sk-container-id-1 div.sk-label:hover label.sk-toggleable__label {background-color: #d4ebff;}#sk-container-id-1 div.sk-serial::before {content: \"\";position: absolute;border-left: 1px solid gray;box-sizing: border-box;top: 0;bottom: 0;left: 50%;z-index: 0;}#sk-container-id-1 div.sk-serial {display: flex;flex-direction: column;align-items: center;background-color: white;padding-right: 0.2em;padding-left: 0.2em;position: relative;}#sk-container-id-1 div.sk-item {position: relative;z-index: 1;}#sk-container-id-1 div.sk-parallel {display: flex;align-items: stretch;justify-content: center;background-color: white;position: relative;}#sk-container-id-1 div.sk-item::before, #sk-container-id-1 div.sk-parallel-item::before {content: \"\";position: absolute;border-left: 1px solid gray;box-sizing: border-box;top: 0;bottom: 0;left: 50%;z-index: -1;}#sk-container-id-1 div.sk-parallel-item {display: flex;flex-direction: column;z-index: 1;position: relative;background-color: white;}#sk-container-id-1 div.sk-parallel-item:first-child::after {align-self: flex-end;width: 50%;}#sk-container-id-1 div.sk-parallel-item:last-child::after {align-self: flex-start;width: 50%;}#sk-container-id-1 div.sk-parallel-item:only-child::after {width: 0;}#sk-container-id-1 div.sk-dashed-wrapped {border: 1px dashed gray;margin: 0 0.4em 0.5em 0.4em;box-sizing: border-box;padding-bottom: 0.4em;background-color: white;}#sk-container-id-1 div.sk-label label {font-family: monospace;font-weight: bold;display: inline-block;line-height: 1.2em;}#sk-container-id-1 div.sk-label-container {text-align: center;}#sk-container-id-1 div.sk-container {/* jupyter's `normalize.less` sets `[hidden] { display: none; }` but bootstrap.min.css set `[hidden] { display: none !important; }` so we also need the `!important` here to be able to override the default hidden behavior on the sphinx rendered scikit-learn.org. See: https://github.com/scikit-learn/scikit-learn/issues/21755 */display: inline-block !important;position: relative;}#sk-container-id-1 div.sk-text-repr-fallback {display: none;}</style><div id=\"sk-container-id-1\" class=\"sk-top-container\"><div class=\"sk-text-repr-fallback\"><pre>Pipeline(steps=[(&#x27;tf-idf&#x27;, TfidfVectorizer()), (&#x27;clf&#x27;, MultinomialNB())])</pre><b>In a Jupyter environment, please rerun this cell to show the HTML representation or trust the notebook. <br />On GitHub, the HTML representation is unable to render, please try loading this page with nbviewer.org.</b></div><div class=\"sk-container\" hidden><div class=\"sk-item sk-dashed-wrapped\"><div class=\"sk-label-container\"><div class=\"sk-label sk-toggleable\"><input class=\"sk-toggleable__control sk-hidden--visually\" id=\"sk-estimator-id-1\" type=\"checkbox\" ><label for=\"sk-estimator-id-1\" class=\"sk-toggleable__label sk-toggleable__label-arrow\">Pipeline</label><div class=\"sk-toggleable__content\"><pre>Pipeline(steps=[(&#x27;tf-idf&#x27;, TfidfVectorizer()), (&#x27;clf&#x27;, MultinomialNB())])</pre></div></div></div><div class=\"sk-serial\"><div class=\"sk-item\"><div class=\"sk-estimator sk-toggleable\"><input class=\"sk-toggleable__control sk-hidden--visually\" id=\"sk-estimator-id-2\" type=\"checkbox\" ><label for=\"sk-estimator-id-2\" class=\"sk-toggleable__label sk-toggleable__label-arrow\">TfidfVectorizer</label><div class=\"sk-toggleable__content\"><pre>TfidfVectorizer()</pre></div></div></div><div class=\"sk-item\"><div class=\"sk-estimator sk-toggleable\"><input class=\"sk-toggleable__control sk-hidden--visually\" id=\"sk-estimator-id-3\" type=\"checkbox\" ><label for=\"sk-estimator-id-3\" class=\"sk-toggleable__label sk-toggleable__label-arrow\">MultinomialNB</label><div class=\"sk-toggleable__content\"><pre>MultinomialNB()</pre></div></div></div></div></div></div></div>"
            ]
          },
          "metadata": {},
          "execution_count": 17
        }
      ],
      "source": [
        "from sklearn.feature_extraction.text import TfidfVectorizer\n",
        "from sklearn.naive_bayes import MultinomialNB\n",
        "from sklearn.pipeline import Pipeline\n",
        "\n",
        "# Create a pipeline\n",
        "\n",
        "model_0 = Pipeline([\n",
        "    ('tf-idf', TfidfVectorizer()),\n",
        "    ('clf', MultinomialNB())\n",
        "])\n",
        "\n",
        "# Fit the pipeline to the training data\n",
        "model_0.fit(X= train_sentences,\n",
        "            y= train_labels_encoded)"
      ]
    },
    {
      "cell_type": "code",
      "execution_count": 18,
      "metadata": {
        "colab": {
          "base_uri": "https://localhost:8080/"
        },
        "id": "ZWZLhFbw-myw",
        "outputId": "12df5af2-a434-42e7-f84a-338bec959040"
      },
      "outputs": [
        {
          "output_type": "execute_result",
          "data": {
            "text/plain": [
              "0.716674962667994"
            ]
          },
          "metadata": {},
          "execution_count": 18
        }
      ],
      "source": [
        "# Evaluate baseline model on validation dataset\n",
        "model_0.score(X= val_sentences,\n",
        "              y= val_labels_encoded)"
      ]
    },
    {
      "cell_type": "code",
      "execution_count": 19,
      "metadata": {
        "colab": {
          "base_uri": "https://localhost:8080/"
        },
        "id": "xyh02Gpz-myx",
        "outputId": "cf23cc36-f20f-4583-8042-a7022dcdcd1f"
      },
      "outputs": [
        {
          "output_type": "execute_result",
          "data": {
            "text/plain": [
              "array([2, 2, 2, ..., 4, 4, 4])"
            ]
          },
          "metadata": {},
          "execution_count": 19
        }
      ],
      "source": [
        "# Make prediction using baseline model\n",
        "baseline_preds = model_0.predict(val_sentences)\n",
        "baseline_preds"
      ]
    },
    {
      "cell_type": "markdown",
      "metadata": {
        "id": "vm6PL6j5-myx"
      },
      "source": [
        "#### Download helper function script for evaluation"
      ]
    },
    {
      "cell_type": "code",
      "source": [
        "!wget https://raw.githubusercontent.com/mrdbourke/tensorflow-deep-learning/main/extras/helper_functions.py"
      ],
      "metadata": {
        "id": "DduLodtR-myy",
        "colab": {
          "base_uri": "https://localhost:8080/"
        },
        "outputId": "16840639-6631-4a75-8766-7569a034982f"
      },
      "execution_count": 20,
      "outputs": [
        {
          "output_type": "stream",
          "name": "stdout",
          "text": [
            "--2024-03-18 05:26:06--  https://raw.githubusercontent.com/mrdbourke/tensorflow-deep-learning/main/extras/helper_functions.py\n",
            "Resolving raw.githubusercontent.com (raw.githubusercontent.com)... 185.199.108.133, 185.199.109.133, 185.199.110.133, ...\n",
            "Connecting to raw.githubusercontent.com (raw.githubusercontent.com)|185.199.108.133|:443... connected.\n",
            "HTTP request sent, awaiting response... 200 OK\n",
            "Length: 10246 (10K) [text/plain]\n",
            "Saving to: ‘helper_functions.py’\n",
            "\n",
            "helper_functions.py 100%[===================>]  10.01K  --.-KB/s    in 0s      \n",
            "\n",
            "2024-03-18 05:26:07 (85.2 MB/s) - ‘helper_functions.py’ saved [10246/10246]\n",
            "\n"
          ]
        }
      ]
    },
    {
      "cell_type": "code",
      "execution_count": 21,
      "metadata": {
        "id": "Las385HT-myy"
      },
      "outputs": [],
      "source": [
        "from helper_functions import calculate_results"
      ]
    },
    {
      "cell_type": "code",
      "execution_count": 22,
      "metadata": {
        "colab": {
          "base_uri": "https://localhost:8080/"
        },
        "id": "tupONVFA-myy",
        "outputId": "a2a5d59d-0339-4838-9165-0630e1d8b9b8"
      },
      "outputs": [
        {
          "output_type": "execute_result",
          "data": {
            "text/plain": [
              "{'accuracy': 71.6674962667994,\n",
              " 'precision': 0.7124322482375202,\n",
              " 'recall': 0.716674962667994,\n",
              " 'f1': 0.6925101703856846}"
            ]
          },
          "metadata": {},
          "execution_count": 22
        }
      ],
      "source": [
        "# Calculate baseline results\n",
        "baseline_results = calculate_results(y_true= val_labels_encoded,\n",
        "                                     y_pred= baseline_preds)\n",
        "baseline_results"
      ]
    },
    {
      "cell_type": "code",
      "execution_count": 23,
      "metadata": {
        "id": "I3KcNfWw-myy"
      },
      "outputs": [],
      "source": [
        "import tensorflow as tf"
      ]
    },
    {
      "cell_type": "markdown",
      "metadata": {
        "id": "NvapNzyN-myy"
      },
      "source": [
        "## Preparing our data for deep sequence models\n",
        "\n",
        "Before we start building deep model, we've got tocreate vectorization and embedding layers"
      ]
    },
    {
      "cell_type": "code",
      "execution_count": 24,
      "metadata": {
        "id": "c-Cki8jD-myy"
      },
      "outputs": [],
      "source": [
        "import numpy as np\n",
        "from tensorflow.keras import layers"
      ]
    },
    {
      "cell_type": "code",
      "execution_count": 25,
      "metadata": {
        "colab": {
          "base_uri": "https://localhost:8080/"
        },
        "id": "xWVohoBe-myy",
        "outputId": "3732eb8d-79d5-487f-8ee9-cfd7e53702b6"
      },
      "outputs": [
        {
          "output_type": "execute_result",
          "data": {
            "text/plain": [
              "26.338269273494777"
            ]
          },
          "metadata": {},
          "execution_count": 25
        }
      ],
      "source": [
        "# how long is ech sentences on average\n",
        "sent_lens = [len(sentence.split()) for sentence in train_sentences]\n",
        "avg_sentence_len = np.mean(sent_lens)\n",
        "avg_sentence_len"
      ]
    },
    {
      "cell_type": "code",
      "execution_count": 26,
      "metadata": {
        "colab": {
          "base_uri": "https://localhost:8080/",
          "height": 685
        },
        "id": "sFwvUGcX-myy",
        "outputId": "74c4d65e-5689-4f4e-93e4-b73c16c4a372"
      },
      "outputs": [
        {
          "output_type": "execute_result",
          "data": {
            "text/plain": [
              "(array([1.6499e+04, 5.6664e+04, 5.2683e+04, 2.9050e+04, 1.3111e+04,\n",
              "        5.6610e+03, 3.0490e+03, 1.5190e+03, 8.0800e+02, 4.3200e+02,\n",
              "        2.2600e+02, 1.2800e+02, 7.7000e+01, 3.9000e+01, 3.0000e+01,\n",
              "        1.5000e+01, 9.0000e+00, 8.0000e+00, 4.0000e+00, 8.0000e+00,\n",
              "        7.0000e+00, 5.0000e+00, 1.0000e+00, 2.0000e+00, 3.0000e+00,\n",
              "        0.0000e+00, 0.0000e+00, 1.0000e+00, 0.0000e+00, 1.0000e+00]),\n",
              " array([  1.        ,  10.83333333,  20.66666667,  30.5       ,\n",
              "         40.33333333,  50.16666667,  60.        ,  69.83333333,\n",
              "         79.66666667,  89.5       ,  99.33333333, 109.16666667,\n",
              "        119.        , 128.83333333, 138.66666667, 148.5       ,\n",
              "        158.33333333, 168.16666667, 178.        , 187.83333333,\n",
              "        197.66666667, 207.5       , 217.33333333, 227.16666667,\n",
              "        237.        , 246.83333333, 256.66666667, 266.5       ,\n",
              "        276.33333333, 286.16666667, 296.        ]),\n",
              " <BarContainer object of 30 artists>)"
            ]
          },
          "metadata": {},
          "execution_count": 26
        },
        {
          "output_type": "display_data",
          "data": {
            "text/plain": [
              "<Figure size 640x480 with 1 Axes>"
            ],
            "image/png": "[encoded data removed]"
          },
          "metadata": {}
        }
      ],
      "source": [
        "# What is the distribution of the sentences\n",
        "import matplotlib.pyplot as plt\n",
        "plt.hist(sent_lens, bins= 30)"
      ]
    },
    {
      "cell_type": "code",
      "execution_count": 27,
      "metadata": {
        "colab": {
          "base_uri": "https://localhost:8080/"
        },
        "id": "3URCcD1u-myz",
        "outputId": "3f7a2446-1794-4ca5-a25a-ac5a1fa461ac"
      },
      "outputs": [
        {
          "output_type": "execute_result",
          "data": {
            "text/plain": [
              "55"
            ]
          },
          "metadata": {},
          "execution_count": 27
        }
      ],
      "source": [
        "# How longof a sentence length covers 95% of examples\n",
        "output_seq_len = int(np.percentile(sent_lens, 95))\n",
        "output_seq_len"
      ]
    },
    {
      "cell_type": "code",
      "execution_count": 28,
      "metadata": {
        "colab": {
          "base_uri": "https://localhost:8080/"
        },
        "id": "_FwqrgJi-myz",
        "outputId": "8e95e8e1-7f46-4b76-9f15-9954ff142f0a"
      },
      "outputs": [
        {
          "output_type": "execute_result",
          "data": {
            "text/plain": [
              "296"
            ]
          },
          "metadata": {},
          "execution_count": 28
        }
      ],
      "source": [
        "# maximum sequence length\n",
        "max(sent_lens)"
      ]
    },
    {
      "cell_type": "markdown",
      "metadata": {
        "id": "wlpWqWkn-myz"
      },
      "source": [
        "### Create text vectorizzer layer\n",
        "\n",
        "We want to make a layer which converts text data into vectors"
      ]
    },
    {
      "cell_type": "code",
      "execution_count": 29,
      "metadata": {
        "id": "FCoHCkh0-myz"
      },
      "outputs": [],
      "source": [
        "# Creating text vectorizer\n",
        "max_vocab = 68000\n",
        "text_vectorizer = layers.TextVectorization(max_tokens= max_vocab,\n",
        "                                           output_sequence_length= output_seq_len)"
      ]
    },
    {
      "cell_type": "code",
      "execution_count": 30,
      "metadata": {
        "id": "rkuguopz-myz"
      },
      "outputs": [],
      "source": [
        "# Adapt text vectorizer to training sentences\n",
        "text_vectorizer.adapt(train_sentences)"
      ]
    },
    {
      "cell_type": "code",
      "execution_count": 31,
      "metadata": {
        "colab": {
          "base_uri": "https://localhost:8080/"
        },
        "id": "zcxy6hwn-myz",
        "outputId": "19dcb4ed-33c8-43ba-98d9-3cd0574cf6a4"
      },
      "outputs": [
        {
          "output_type": "stream",
          "name": "stdout",
          "text": [
            "Text: facial lines outcomes ( flo-@ ) questionnaire , self-perception of age ( spa ) , and subject global assessment of change in cfl ( sga-cfl ) were pro measures administered in @ phase @ , double-blind placebo-controlled trials for the treatment of cfl alone or cfl/glabellar lines ( gl ) .\n",
            "Length of Text: 51\n",
            "Vectorized: [ 1704  3598    75 26525   325 15450     4   103  4929     3  1567   647\n",
            "   250     4   133     5 10424 34462     9  2688   213   336     5   209\n",
            "   236   329   233    11     2    19     4 10424   271    16 61742  3598\n",
            "  2013     0     0     0     0     0     0     0     0     0     0     0\n",
            "     0     0     0     0     0     0     0]\n"
          ]
        }
      ],
      "source": [
        "# Test out text vectorizer on random sentences\n",
        "\n",
        "import random\n",
        "target_senteces = random.choice(train_sentences)\n",
        "print(f\"Text: {target_senteces}\")\n",
        "print(f\"Length of Text: {len(target_senteces.split())}\")\n",
        "print(f\"Vectorized: {text_vectorizer(target_senteces)}\")"
      ]
    },
    {
      "cell_type": "code",
      "execution_count": 32,
      "metadata": {
        "colab": {
          "base_uri": "https://localhost:8080/"
        },
        "id": "S6XWr07q-my0",
        "outputId": "1720fef2-87f0-4881-bc9f-c33052a3523f"
      },
      "outputs": [
        {
          "output_type": "stream",
          "name": "stdout",
          "text": [
            "Number of words in vocab: 64841\n",
            "Most common words: ['', '[UNK]', 'the', 'and', 'of']\n",
            "Least common words: ['aainduced', 'aaigroup', 'aachener', 'aachen', 'aaacp']\n"
          ]
        }
      ],
      "source": [
        "# How many words in our training vocab\n",
        "rct_20k_vocab = text_vectorizer.get_vocabulary()\n",
        "\n",
        "print(f\"Number of words in vocab: {len(rct_20k_vocab)}\")\n",
        "print(f\"Most common words: {rct_20k_vocab[:5]}\")\n",
        "print(f\"Least common words: {rct_20k_vocab[-5:]}\")"
      ]
    },
    {
      "cell_type": "code",
      "execution_count": 33,
      "metadata": {
        "colab": {
          "base_uri": "https://localhost:8080/"
        },
        "id": "vNSEikjK-my0",
        "outputId": "19961465-06ab-4eab-fb46-eaecb05b350b"
      },
      "outputs": [
        {
          "output_type": "execute_result",
          "data": {
            "text/plain": [
              "{'name': 'text_vectorization',\n",
              " 'trainable': True,\n",
              " 'dtype': 'string',\n",
              " 'batch_input_shape': (None,),\n",
              " 'max_tokens': 68000,\n",
              " 'standardize': 'lower_and_strip_punctuation',\n",
              " 'split': 'whitespace',\n",
              " 'ngrams': None,\n",
              " 'output_mode': 'int',\n",
              " 'output_sequence_length': 55,\n",
              " 'pad_to_max_tokens': False,\n",
              " 'sparse': False,\n",
              " 'ragged': False,\n",
              " 'vocabulary': None,\n",
              " 'idf_weights': None,\n",
              " 'encoding': 'utf-8',\n",
              " 'vocabulary_size': 64841}"
            ]
          },
          "metadata": {},
          "execution_count": 33
        }
      ],
      "source": [
        "# Get the config of our text vectorizer\n",
        "text_vectorizer.get_config()"
      ]
    },
    {
      "cell_type": "markdown",
      "metadata": {
        "id": "p4jnc4b2-my0"
      },
      "source": [
        "### Create an embedding layer"
      ]
    },
    {
      "cell_type": "code",
      "execution_count": 34,
      "metadata": {
        "id": "DMB6XFaV-my0"
      },
      "outputs": [],
      "source": [
        "embedding = layers.Embedding(input_dim= len(rct_20k_vocab),\n",
        "                             output_dim= 128,\n",
        "                             mask_zero= True, # use masking to handle variable sequence length\n",
        "                             name= 'token_embedding'\n",
        "                             )"
      ]
    },
    {
      "cell_type": "code",
      "execution_count": 35,
      "metadata": {
        "colab": {
          "base_uri": "https://localhost:8080/"
        },
        "id": "w0PQ0Pk4-my0",
        "outputId": "6cc85d0c-8277-48b9-96bb-65fb0aea6507"
      },
      "outputs": [
        {
          "output_type": "stream",
          "name": "stdout",
          "text": [
            "Text: the checklist was viewed by two service users who gave suggestions for improvements .\n",
            "Embed: (1, 55, 128)\n"
          ]
        }
      ],
      "source": [
        "random_sentence = random.choice(train_sentences)\n",
        "print(f\"Text: {random_sentence}\")\n",
        "print(f\"Embed: {embedding(text_vectorizer([random_sentence])).shape}\")"
      ]
    },
    {
      "cell_type": "markdown",
      "metadata": {
        "id": "f8dQeaBz-my0"
      },
      "source": [
        "## Creating dataset\n",
        "\n",
        "We're going to setup our data to run as fast as possible with tf.data API"
      ]
    },
    {
      "cell_type": "code",
      "execution_count": 36,
      "metadata": {
        "colab": {
          "base_uri": "https://localhost:8080/"
        },
        "id": "iKCBaqZx-my0",
        "outputId": "386848d2-485d-4738-fb82-cc5a8af4103f"
      },
      "outputs": [
        {
          "output_type": "execute_result",
          "data": {
            "text/plain": [
              "<_TensorSliceDataset element_spec=(TensorSpec(shape=(), dtype=tf.string, name=None), TensorSpec(shape=(5,), dtype=tf.float64, name=None))>"
            ]
          },
          "metadata": {},
          "execution_count": 36
        }
      ],
      "source": [
        "# Turn our data into Tensorflow Datasets\n",
        "train_dataset = tf.data.Dataset.from_tensor_slices((train_sentences, train_labels_one_hot))\n",
        "val_dataset = tf.data.Dataset.from_tensor_slices((val_sentences, val_labels_one_hot))\n",
        "test_dataset = tf.data.Dataset.from_tensor_slices((test_sentences, test_labels_one_hot))\n",
        "\n",
        "train_dataset"
      ]
    },
    {
      "cell_type": "code",
      "execution_count": 37,
      "metadata": {
        "colab": {
          "base_uri": "https://localhost:8080/"
        },
        "id": "-95Ewws8-my0",
        "outputId": "8c7a646a-b3ad-4f18-fcb7-af29f040f4cd"
      },
      "outputs": [
        {
          "output_type": "execute_result",
          "data": {
            "text/plain": [
              "<_PrefetchDataset element_spec=(TensorSpec(shape=(None,), dtype=tf.string, name=None), TensorSpec(shape=(None, 5), dtype=tf.float64, name=None))>"
            ]
          },
          "metadata": {},
          "execution_count": 37
        }
      ],
      "source": [
        "# Take the tensor_slice dataset and turn them into prefetch dataset\n",
        "train_dataset = train_dataset.batch(32).prefetch(tf.data.AUTOTUNE)\n",
        "val_dataset = val_dataset.batch(32).prefetch(tf.data.AUTOTUNE)\n",
        "test_dataset = test_dataset.batch(32).prefetch(tf.data.AUTOTUNE)\n",
        "\n",
        "train_dataset"
      ]
    },
    {
      "cell_type": "markdown",
      "metadata": {
        "id": "8I7GM1ip-my0"
      },
      "source": [
        "### Model 1: CNN 1D"
      ]
    },
    {
      "cell_type": "code",
      "execution_count": 38,
      "metadata": {
        "colab": {
          "base_uri": "https://localhost:8080/"
        },
        "id": "gxPxN2nC-my1",
        "outputId": "0c8dfdc7-44c2-46b6-e055-5d024c73bf60"
      },
      "outputs": [
        {
          "output_type": "stream",
          "name": "stdout",
          "text": [
            "Model: \"model\"\n",
            "_________________________________________________________________\n",
            " Layer (type)                Output Shape              Param #   \n",
            "=================================================================\n",
            " input_1 (InputLayer)        [(None, 1)]               0         \n",
            "                                                                 \n",
            " text_vectorization (TextVe  (None, 55)                0         \n",
            " ctorization)                                                    \n",
            "                                                                 \n",
            " token_embedding (Embedding  (None, 55, 128)           8299648   \n",
            " )                                                               \n",
            "                                                                 \n",
            " cnn_1d_layer (Conv1D)       (None, 55, 64)            41024     \n",
            "                                                                 \n",
            " global_avg_pool_layer (Glo  (None, 64)                0         \n",
            " balAveragePooling1D)                                            \n",
            "                                                                 \n",
            " output_layer (Dense)        (None, 5)                 325       \n",
            "                                                                 \n",
            "=================================================================\n",
            "Total params: 8340997 (31.82 MB)\n",
            "Trainable params: 8340997 (31.82 MB)\n",
            "Non-trainable params: 0 (0.00 Byte)\n",
            "_________________________________________________________________\n"
          ]
        }
      ],
      "source": [
        "inputs = layers.Input(shape= (1, ), dtype= 'string')\n",
        "x = text_vectorizer(inputs)\n",
        "x = embedding(x)\n",
        "x = layers.Conv1D(64, 5, activation= 'relu', padding='same', name= 'cnn_1d_layer')(x)\n",
        "x = layers.GlobalAveragePooling1D(name= 'global_avg_pool_layer')(x)\n",
        "outputs = layers.Dense(num_classes, activation= 'softmax', name= 'output_layer')(x)\n",
        "\n",
        "model_1 = tf.keras.Model(inputs, outputs)\n",
        "\n",
        "model_1.compile(loss= 'categorical_crossentropy',\n",
        "                optimizer= tf.keras.optimizers.legacy.Adam(),\n",
        "                metrics= ['accuracy'])\n",
        "\n",
        "model_1.summary()"
      ]
    },
    {
      "cell_type": "code",
      "execution_count": 39,
      "metadata": {
        "colab": {
          "base_uri": "https://localhost:8080/"
        },
        "id": "MbH-INst-my1",
        "outputId": "bd59b118-897a-4570-c385-d87e18dcdff3"
      },
      "outputs": [
        {
          "output_type": "stream",
          "name": "stdout",
          "text": [
            "Epoch 1/5\n",
            "562/562 [==============================] - 8s 9ms/step - loss: 0.9204 - accuracy: 0.6388 - val_loss: 0.6840 - val_accuracy: 0.7307\n",
            "Epoch 2/5\n",
            "562/562 [==============================] - 5s 9ms/step - loss: 0.6635 - accuracy: 0.7524 - val_loss: 0.6390 - val_accuracy: 0.7616\n",
            "Epoch 3/5\n",
            "562/562 [==============================] - 5s 9ms/step - loss: 0.6258 - accuracy: 0.7699 - val_loss: 0.5995 - val_accuracy: 0.7779\n",
            "Epoch 4/5\n",
            "562/562 [==============================] - 5s 9ms/step - loss: 0.5958 - accuracy: 0.7865 - val_loss: 0.5746 - val_accuracy: 0.7836\n",
            "Epoch 5/5\n",
            "562/562 [==============================] - 5s 9ms/step - loss: 0.5940 - accuracy: 0.7898 - val_loss: 0.5552 - val_accuracy: 0.7916\n"
          ]
        }
      ],
      "source": [
        "history_model_1 = model_1.fit(train_dataset,\n",
        "                              steps_per_epoch= int(0.1 * len(train_dataset)),\n",
        "                              epochs= 5,\n",
        "                              validation_data= val_dataset,\n",
        "                              validation_steps= int(0.1 * len(val_dataset)))"
      ]
    },
    {
      "cell_type": "code",
      "source": [
        "model_1.evaluate(val_dataset)"
      ],
      "metadata": {
        "colab": {
          "base_uri": "https://localhost:8080/"
        },
        "id": "t16BFboP_3sY",
        "outputId": "8898fb62-a2ac-42a2-8a0a-8a81b36a9eda"
      },
      "execution_count": 40,
      "outputs": [
        {
          "output_type": "stream",
          "name": "stdout",
          "text": [
            "942/942 [==============================] - 3s 3ms/step - loss: 0.5769 - accuracy: 0.7924\n"
          ]
        },
        {
          "output_type": "execute_result",
          "data": {
            "text/plain": [
              "[0.5768715143203735, 0.792367696762085]"
            ]
          },
          "metadata": {},
          "execution_count": 40
        }
      ]
    },
    {
      "cell_type": "code",
      "source": [
        "model_1_pred = tf.argmax(model_1.predict(val_dataset), axis= 1).numpy()\n",
        "model_1_pred"
      ],
      "metadata": {
        "colab": {
          "base_uri": "https://localhost:8080/"
        },
        "id": "c0mKlOaE_8Oh",
        "outputId": "3c233fb4-cc7e-496a-d6be-f2f291477264"
      },
      "execution_count": 41,
      "outputs": [
        {
          "output_type": "stream",
          "name": "stdout",
          "text": [
            "942/942 [==============================] - 2s 2ms/step\n"
          ]
        },
        {
          "output_type": "execute_result",
          "data": {
            "text/plain": [
              "array([2, 2, 2, ..., 4, 4, 1])"
            ]
          },
          "metadata": {},
          "execution_count": 41
        }
      ]
    },
    {
      "cell_type": "code",
      "source": [
        "# Calculate results\n",
        "model_1_results = calculate_results(val_labels_encoded,\n",
        "                                    model_1_pred)\n",
        "model_1_results"
      ],
      "metadata": {
        "colab": {
          "base_uri": "https://localhost:8080/"
        },
        "id": "9MoLFmTHAVq8",
        "outputId": "af8e5e1b-439e-4b42-b83d-980915a2d54d"
      },
      "execution_count": 42,
      "outputs": [
        {
          "output_type": "execute_result",
          "data": {
            "text/plain": [
              "{'accuracy': 79.23676787788287,\n",
              " 'precision': 0.7911303586127434,\n",
              " 'recall': 0.7923676787788286,\n",
              " 'f1': 0.7888905100625141}"
            ]
          },
          "metadata": {},
          "execution_count": 42
        }
      ]
    },
    {
      "cell_type": "code",
      "source": [
        "baseline_results"
      ],
      "metadata": {
        "colab": {
          "base_uri": "https://localhost:8080/"
        },
        "id": "HSgj5lK0BDFH",
        "outputId": "3e57290e-bf9d-4243-8651-55472a3974b7"
      },
      "execution_count": 43,
      "outputs": [
        {
          "output_type": "execute_result",
          "data": {
            "text/plain": [
              "{'accuracy': 71.6674962667994,\n",
              " 'precision': 0.7124322482375202,\n",
              " 'recall': 0.716674962667994,\n",
              " 'f1': 0.6925101703856846}"
            ]
          },
          "metadata": {},
          "execution_count": 43
        }
      ]
    },
    {
      "cell_type": "code",
      "source": [
        "import tensorflow_hub as hub"
      ],
      "metadata": {
        "id": "KH0AooDTBHkk"
      },
      "execution_count": 44,
      "outputs": []
    },
    {
      "cell_type": "code",
      "source": [
        "sentence_encoder_layer = hub.KerasLayer(\"https://www.kaggle.com/models/google/universal-sentence-encoder/frameworks/TensorFlow2/variations/universal-sentence-encoder/versions/2\",\n",
        "                                        trainable= False,\n",
        "                                        name= 'USE_layer')"
      ],
      "metadata": {
        "id": "gz3TAtNrCiP-"
      },
      "execution_count": 45,
      "outputs": []
    },
    {
      "cell_type": "markdown",
      "source": [
        "### Model 2: Transfer Learning"
      ],
      "metadata": {
        "id": "TirUT0ByFWKV"
      }
    },
    {
      "cell_type": "code",
      "source": [
        "inputs = layers.Input(shape= [], dtype= 'string', name= 'input_layer')\n",
        "x = sentence_encoder_layer(inputs)\n",
        "x = layers.Dense(128, activation= 'relu')(x)\n",
        "outputs = layers.Dense(num_classes, activation= 'softmax', name= 'output_layer')(x)\n",
        "\n",
        "model_2 = tf.keras.Model(inputs= inputs, outputs= outputs, name= 'model_2_USE')\n",
        "\n",
        "model_2.compile(loss= 'categorical_crossentropy',\n",
        "                optimizer= tf.keras.optimizers.Adam(),\n",
        "                metrics= ['accuracy'])"
      ],
      "metadata": {
        "id": "gKX45QG-C6hN"
      },
      "execution_count": 46,
      "outputs": []
    },
    {
      "cell_type": "code",
      "source": [
        "model_2.summary()"
      ],
      "metadata": {
        "id": "Gu1VnhSJDwfs",
        "outputId": "f14e1049-1e10-4128-f91b-ac808a2031d3",
        "colab": {
          "base_uri": "https://localhost:8080/"
        }
      },
      "execution_count": 47,
      "outputs": [
        {
          "output_type": "stream",
          "name": "stdout",
          "text": [
            "Model: \"model_2_USE\"\n",
            "_________________________________________________________________\n",
            " Layer (type)                Output Shape              Param #   \n",
            "=================================================================\n",
            " input_layer (InputLayer)    [(None,)]                 0         \n",
            "                                                                 \n",
            " USE_layer (KerasLayer)      (None, 512)               256797824 \n",
            "                                                                 \n",
            " dense (Dense)               (None, 128)               65664     \n",
            "                                                                 \n",
            " output_layer (Dense)        (None, 5)                 645       \n",
            "                                                                 \n",
            "=================================================================\n",
            "Total params: 256864133 (979.86 MB)\n",
            "Trainable params: 66309 (259.02 KB)\n",
            "Non-trainable params: 256797824 (979.61 MB)\n",
            "_________________________________________________________________\n"
          ]
        }
      ]
    },
    {
      "cell_type": "code",
      "source": [
        "history_model_2 = model_2.fit(train_dataset,\n",
        "                              steps_per_epoch= int(0.1 * len(train_dataset)),\n",
        "                              epochs= 5,\n",
        "                              validation_data= val_dataset,\n",
        "                              validation_steps= int(0.1 * len(val_dataset)))"
      ],
      "metadata": {
        "id": "OF_9LZvaGmye",
        "outputId": "d3e76c73-c97a-4a4a-efdb-2283bc1c9724",
        "colab": {
          "base_uri": "https://localhost:8080/"
        }
      },
      "execution_count": 48,
      "outputs": [
        {
          "output_type": "stream",
          "name": "stdout",
          "text": [
            "Epoch 1/5\n",
            "562/562 [==============================] - 12s 13ms/step - loss: 0.9169 - accuracy: 0.6490 - val_loss: 0.8328 - val_accuracy: 0.6828\n",
            "Epoch 2/5\n",
            "562/562 [==============================] - 7s 12ms/step - loss: 0.7691 - accuracy: 0.7011 - val_loss: 0.7796 - val_accuracy: 0.6971\n",
            "Epoch 3/5\n",
            "562/562 [==============================] - 7s 12ms/step - loss: 0.7530 - accuracy: 0.7106 - val_loss: 0.7577 - val_accuracy: 0.7031\n",
            "Epoch 4/5\n",
            "562/562 [==============================] - 7s 12ms/step - loss: 0.7199 - accuracy: 0.7246 - val_loss: 0.7302 - val_accuracy: 0.7214\n",
            "Epoch 5/5\n",
            "562/562 [==============================] - 7s 12ms/step - loss: 0.7280 - accuracy: 0.7198 - val_loss: 0.7173 - val_accuracy: 0.7231\n"
          ]
        }
      ]
    },
    {
      "cell_type": "code",
      "source": [
        "\n",
        "model_2_pred = tf.argmax(model_2.predict(val_dataset), axis= 1)\n",
        "model_2_pred"
      ],
      "metadata": {
        "id": "B1cm7Gc-HCnu",
        "outputId": "0596401e-5cd8-4539-d16b-8cd7dc60cf71",
        "colab": {
          "base_uri": "https://localhost:8080/"
        }
      },
      "execution_count": 49,
      "outputs": [
        {
          "output_type": "stream",
          "name": "stdout",
          "text": [
            "942/942 [==============================] - 9s 9ms/step\n"
          ]
        },
        {
          "output_type": "execute_result",
          "data": {
            "text/plain": [
              "<tf.Tensor: shape=(30135,), dtype=int64, numpy=array([0, 3, 2, ..., 4, 4, 2])>"
            ]
          },
          "metadata": {},
          "execution_count": 49
        }
      ]
    },
    {
      "cell_type": "code",
      "source": [
        "model_2_results = calculate_results(val_labels_encoded,\n",
        "                                    model_2_pred)\n",
        "model_2_results"
      ],
      "metadata": {
        "id": "n4Jt6SGjHMzM",
        "outputId": "5892b4a3-ea2f-4110-a8a2-1a40b7a5ffec",
        "colab": {
          "base_uri": "https://localhost:8080/"
        }
      },
      "execution_count": 50,
      "outputs": [
        {
          "output_type": "execute_result",
          "data": {
            "text/plain": [
              "{'accuracy': 72.81234444997511,\n",
              " 'precision': 0.7242221264043358,\n",
              " 'recall': 0.7281234444997511,\n",
              " 'f1': 0.7227688536826511}"
            ]
          },
          "metadata": {},
          "execution_count": 50
        }
      ]
    },
    {
      "cell_type": "code",
      "source": [
        "baseline_results, model_1_results"
      ],
      "metadata": {
        "id": "rYzD2FmDHbVn",
        "outputId": "8171c2c8-6232-4c72-cc86-98cf59badc0c",
        "colab": {
          "base_uri": "https://localhost:8080/"
        }
      },
      "execution_count": 51,
      "outputs": [
        {
          "output_type": "execute_result",
          "data": {
            "text/plain": [
              "({'accuracy': 71.6674962667994,\n",
              "  'precision': 0.7124322482375202,\n",
              "  'recall': 0.716674962667994,\n",
              "  'f1': 0.6925101703856846},\n",
              " {'accuracy': 79.23676787788287,\n",
              "  'precision': 0.7911303586127434,\n",
              "  'recall': 0.7923676787788286,\n",
              "  'f1': 0.7888905100625141})"
            ]
          },
          "metadata": {},
          "execution_count": 51
        }
      ]
    },
    {
      "cell_type": "markdown",
      "source": [
        "### Model 3: CNN 1D with character embeddings\n",
        "\n",
        "The paper we are replicating uses the combination of character and token embedding.\n",
        "\n",
        "We've only used token embedding in the previous experiments. In order to replicate we need to do the similar steps."
      ],
      "metadata": {
        "id": "ZDBZgsfV1rym"
      }
    },
    {
      "cell_type": "markdown",
      "source": [
        "#### Creating Character level tokenizer"
      ],
      "metadata": {
        "id": "fttOipnt2HIa"
      }
    },
    {
      "cell_type": "code",
      "source": [
        "train_sentences[:5]"
      ],
      "metadata": {
        "colab": {
          "base_uri": "https://localhost:8080/"
        },
        "id": "EgzKRzGb2nnb",
        "outputId": "6d42a430-bd91-4f61-9452-2e00e72a5d1e"
      },
      "execution_count": 52,
      "outputs": [
        {
          "output_type": "execute_result",
          "data": {
            "text/plain": [
              "['to investigate the efficacy of @ weeks of daily low-dose oral prednisolone in improving pain , mobility , and systemic low-grade inflammation in the short term and whether the effect would be sustained at @ weeks in older adults with moderate to severe knee osteoarthritis ( oa ) .',\n",
              " 'a total of @ patients with primary knee oa were randomized @:@ ; @ received @ mg/day of prednisolone and @ received placebo for @ weeks .',\n",
              " 'outcome measures included pain reduction and improvement in function scores and systemic inflammation markers .',\n",
              " 'pain was assessed using the visual analog pain scale ( @-@ mm ) .',\n",
              " 'secondary outcome measures included the western ontario and mcmaster universities osteoarthritis index scores , patient global assessment ( pga ) of the severity of knee oa , and @-min walk distance ( @mwd ) .']"
            ]
          },
          "metadata": {},
          "execution_count": 52
        }
      ]
    },
    {
      "cell_type": "code",
      "source": [
        "# Make a function which splits the sentence\n",
        "def split_chars(text):\n",
        "  return \" \".join(list(text.strip().lower()))"
      ],
      "metadata": {
        "id": "hDQG5W-F2qjO"
      },
      "execution_count": 183,
      "outputs": []
    },
    {
      "cell_type": "code",
      "source": [
        "# Split data into character level\n",
        "train_chars = [split_chars(sentence) for sentence in train_sentences]\n",
        "val_chars = [split_chars(sentence) for sentence in val_sentences]\n",
        "test_chars = [split_chars(sentence) for sentence in test_sentences]\n",
        "train_chars[:5]"
      ],
      "metadata": {
        "colab": {
          "base_uri": "https://localhost:8080/"
        },
        "id": "YIzckErv3ACL",
        "outputId": "9105c2e5-03ec-4186-de07-7ea26a66c830"
      },
      "execution_count": 184,
      "outputs": [
        {
          "output_type": "execute_result",
          "data": {
            "text/plain": [
              "['t o   i n v e s t i g a t e   t h e   e f f i c a c y   o f   @   w e e k s   o f   d a i l y   l o w - d o s e   o r a l   p r e d n i s o l o n e   i n   i m p r o v i n g   p a i n   ,   m o b i l i t y   ,   a n d   s y s t e m i c   l o w - g r a d e   i n f l a m m a t i o n   i n   t h e   s h o r t   t e r m   a n d   w h e t h e r   t h e   e f f e c t   w o u l d   b e   s u s t a i n e d   a t   @   w e e k s   i n   o l d e r   a d u l t s   w i t h   m o d e r a t e   t o   s e v e r e   k n e e   o s t e o a r t h r i t i s   (   o a   )   .',\n",
              " 'a   t o t a l   o f   @   p a t i e n t s   w i t h   p r i m a r y   k n e e   o a   w e r e   r a n d o m i z e d   @ : @   ;   @   r e c e i v e d   @   m g / d a y   o f   p r e d n i s o l o n e   a n d   @   r e c e i v e d   p l a c e b o   f o r   @   w e e k s   .',\n",
              " 'o u t c o m e   m e a s u r e s   i n c l u d e d   p a i n   r e d u c t i o n   a n d   i m p r o v e m e n t   i n   f u n c t i o n   s c o r e s   a n d   s y s t e m i c   i n f l a m m a t i o n   m a r k e r s   .',\n",
              " 'p a i n   w a s   a s s e s s e d   u s i n g   t h e   v i s u a l   a n a l o g   p a i n   s c a l e   (   @ - @   m m   )   .',\n",
              " 's e c o n d a r y   o u t c o m e   m e a s u r e s   i n c l u d e d   t h e   w e s t e r n   o n t a r i o   a n d   m c m a s t e r   u n i v e r s i t i e s   o s t e o a r t h r i t i s   i n d e x   s c o r e s   ,   p a t i e n t   g l o b a l   a s s e s s m e n t   (   p g a   )   o f   t h e   s e v e r i t y   o f   k n e e   o a   ,   a n d   @ - m i n   w a l k   d i s t a n c e   (   @ m w d   )   .']"
            ]
          },
          "metadata": {},
          "execution_count": 184
        }
      ]
    },
    {
      "cell_type": "code",
      "source": [
        "# What is the average chartacter length\n",
        "char_lens = [len(sentence) for sentence in train_sentences]\n",
        "mean_char_len = np.mean(char_lens)\n",
        "mean_char_len"
      ],
      "metadata": {
        "colab": {
          "base_uri": "https://localhost:8080/"
        },
        "id": "qRfXzKlJ4DqN",
        "outputId": "2044c9a0-bb24-4fc1-8beb-3fbfec3b5fa3"
      },
      "execution_count": 55,
      "outputs": [
        {
          "output_type": "execute_result",
          "data": {
            "text/plain": [
              "149.3662574983337"
            ]
          },
          "metadata": {},
          "execution_count": 55
        }
      ]
    },
    {
      "cell_type": "code",
      "source": [
        "# Check the distribution of the character level\n",
        "plt.hist(char_lens, bins= 20)"
      ],
      "metadata": {
        "colab": {
          "base_uri": "https://localhost:8080/",
          "height": 600
        },
        "id": "jmY3pr284sPj",
        "outputId": "62f3f883-908a-445a-d966-090ee3fb63ae"
      },
      "execution_count": 56,
      "outputs": [
        {
          "output_type": "execute_result",
          "data": {
            "text/plain": [
              "(array([2.2108e+04, 7.0583e+04, 5.3952e+04, 2.2391e+04, 7.4540e+03,\n",
              "        2.2350e+03, 8.0200e+02, 2.8700e+02, 1.1800e+02, 4.9000e+01,\n",
              "        2.9000e+01, 1.3000e+01, 8.0000e+00, 5.0000e+00, 1.0000e+00,\n",
              "        2.0000e+00, 1.0000e+00, 1.0000e+00, 0.0000e+00, 1.0000e+00]),\n",
              " array([1.00000e+00, 7.02500e+01, 1.39500e+02, 2.08750e+02, 2.78000e+02,\n",
              "        3.47250e+02, 4.16500e+02, 4.85750e+02, 5.55000e+02, 6.24250e+02,\n",
              "        6.93500e+02, 7.62750e+02, 8.32000e+02, 9.01250e+02, 9.70500e+02,\n",
              "        1.03975e+03, 1.10900e+03, 1.17825e+03, 1.24750e+03, 1.31675e+03,\n",
              "        1.38600e+03]),\n",
              " <BarContainer object of 20 artists>)"
            ]
          },
          "metadata": {},
          "execution_count": 56
        },
        {
          "output_type": "display_data",
          "data": {
            "text/plain": [
              "<Figure size 640x480 with 1 Axes>"
            ],
            "image/png": "[encoded data removed]"
          },
          "metadata": {}
        }
      ]
    },
    {
      "cell_type": "code",
      "source": [
        "# Find what character lenght covers 95% of the training data\n",
        "output_seq_char_len = int(np.percentile(char_lens, 95))\n",
        "output_seq_char_len"
      ],
      "metadata": {
        "colab": {
          "base_uri": "https://localhost:8080/"
        },
        "id": "YBBtDc9T45s5",
        "outputId": "90fdd363-5cc6-47a4-fcb9-c6846ffacb96"
      },
      "execution_count": 57,
      "outputs": [
        {
          "output_type": "execute_result",
          "data": {
            "text/plain": [
              "290"
            ]
          },
          "metadata": {},
          "execution_count": 57
        }
      ]
    },
    {
      "cell_type": "code",
      "source": [
        "# Get all keyboard characters\n",
        "import string\n",
        "alphabet = string.ascii_lowercase + string.digits + string.punctuation\n",
        "alphabet"
      ],
      "metadata": {
        "colab": {
          "base_uri": "https://localhost:8080/",
          "height": 35
        },
        "id": "oc47y4616Vwu",
        "outputId": "661ae3b7-af26-4e17-a17e-a48cf18817c3"
      },
      "execution_count": 58,
      "outputs": [
        {
          "output_type": "execute_result",
          "data": {
            "text/plain": [
              "'abcdefghijklmnopqrstuvwxyz0123456789!\"#$%&\\'()*+,-./:;<=>?@[\\\\]^_`{|}~'"
            ],
            "application/vnd.google.colaboratory.intrinsic+json": {
              "type": "string"
            }
          },
          "metadata": {},
          "execution_count": 58
        }
      ]
    },
    {
      "cell_type": "code",
      "source": [
        "# Create char level tokenizer\n",
        "NUM_CHAR_TOKENS = len(alphabet) + 2 # 2 for space and OOV\n",
        "char_vectorizer = layers.TextVectorization(max_tokens= NUM_CHAR_TOKENS,\n",
        "                                           output_sequence_length= output_seq_char_len,\n",
        "                                           name= 'character_tokenizer')"
      ],
      "metadata": {
        "id": "R9K0cgZ66x_7"
      },
      "execution_count": 59,
      "outputs": []
    },
    {
      "cell_type": "code",
      "source": [
        "# Adapt character vectorizer\n",
        "char_vectorizer.adapt(train_chars)"
      ],
      "metadata": {
        "id": "zf1N4yGn7_ST"
      },
      "execution_count": 60,
      "outputs": []
    },
    {
      "cell_type": "code",
      "source": [
        "# Check for vocbulary\n",
        "char_vocab = char_vectorizer.get_vocabulary()\n",
        "len(char_vocab), char_vocab[:5], char_vocab[-5:]"
      ],
      "metadata": {
        "colab": {
          "base_uri": "https://localhost:8080/"
        },
        "id": "3CvAHtJt8Kb0",
        "outputId": "3821363a-5eda-42b3-b474-94642c7abfbc"
      },
      "execution_count": 61,
      "outputs": [
        {
          "output_type": "execute_result",
          "data": {
            "text/plain": [
              "(28, ['', '[UNK]', 'e', 't', 'i'], ['k', 'x', 'z', 'q', 'j'])"
            ]
          },
          "metadata": {},
          "execution_count": 61
        }
      ]
    },
    {
      "cell_type": "code",
      "source": [
        "# Test character vectorizer\n",
        "random_train_chars = random.choice(train_chars)\n",
        "print(f\"Character-level sentence: {random_train_chars}\")\n",
        "print(f\"Length of sentence: {len(random_train_chars.split())}\")\n",
        "print(f\"Vectorized sentence: {len(char_vectorizer(random_train_chars))}\")"
      ],
      "metadata": {
        "colab": {
          "base_uri": "https://localhost:8080/"
        },
        "id": "ukBgosRz9R68",
        "outputId": "c1b3477e-6623-46b4-e745-b8b81a1f7388"
      },
      "execution_count": 62,
      "outputs": [
        {
          "output_type": "stream",
          "name": "stdout",
          "text": [
            "Character-level sentence: w h i l e   t h e r e   w e r e   n o   b e t w e e n - g r o u p   d i f f e r e n c e s   i n   i m p r o v e m e n t   f o r   a n y   o f   t h e   s y m p t o m s   ,   t h e   l e n g t h   o f   h o s p i t a l i z a t i o n   w a s   s i g n i f i c a n t l y   l o w e r   i n   g r o u p   a   (   @   @   d a y s   )   t h a n   i n   g r o u p   b   (   @   @   d a y s   )   (   p   =   @   )   .\n",
            "Length of sentence: 162\n",
            "Vectorized sentence: 290\n"
          ]
        }
      ]
    },
    {
      "cell_type": "markdown",
      "source": [
        "#### Creating a character level embedding"
      ],
      "metadata": {
        "id": "tOzG55S1-U7x"
      }
    },
    {
      "cell_type": "code",
      "source": [
        "# Create char embedding layer\n",
        "char_embedding = layers.Embedding(input_dim= len(char_vocab),\n",
        "                                  output_dim= 25,\n",
        "                                  mask_zero= True,\n",
        "                                  name= 'character_embedding_layer')"
      ],
      "metadata": {
        "id": "n5WB2965-l9c"
      },
      "execution_count": 63,
      "outputs": []
    },
    {
      "cell_type": "code",
      "source": [
        "# Test out character level embedding layer\n",
        "print(f\"Sentence: {random_train_chars}\")\n",
        "print(f\"Lenght of embedded: {char_embedding(char_vectorizer(random_train_chars)).shape}\")"
      ],
      "metadata": {
        "colab": {
          "base_uri": "https://localhost:8080/"
        },
        "id": "rRGYq2rx_QFW",
        "outputId": "4838d8c0-ea06-4e1a-8ce3-1d8ae6d6ce4d"
      },
      "execution_count": 64,
      "outputs": [
        {
          "output_type": "stream",
          "name": "stdout",
          "text": [
            "Sentence: w h i l e   t h e r e   w e r e   n o   b e t w e e n - g r o u p   d i f f e r e n c e s   i n   i m p r o v e m e n t   f o r   a n y   o f   t h e   s y m p t o m s   ,   t h e   l e n g t h   o f   h o s p i t a l i z a t i o n   w a s   s i g n i f i c a n t l y   l o w e r   i n   g r o u p   a   (   @   @   d a y s   )   t h a n   i n   g r o u p   b   (   @   @   d a y s   )   (   p   =   @   )   .\n",
            "Lenght of embedded: (290, 25)\n"
          ]
        }
      ]
    },
    {
      "cell_type": "code",
      "source": [
        "# Create model\n",
        "inputs = layers.Input(shape= (1, ), dtype= 'string', name= 'input_layer')\n",
        "x = char_vectorizer(inputs)\n",
        "x = char_embedding(x)\n",
        "x = layers.Conv1D(64, 5, name= 'cnn_1D_layer')(x)\n",
        "x = layers.GlobalMaxPool1D(name= 'global_max_pool_layer')(x)\n",
        "outputs = layers.Dense(len(class_names), activation= 'softmax', name= 'output_layer')(x)\n",
        "\n",
        "model_3 = tf.keras.Model(inputs, outputs, name= 'model_3_cnn1D_char_embedding')\n",
        "\n",
        "model_3.compile(loss= 'categorical_crossentropy',\n",
        "                optimizer= tf.keras.optimizers.Adam(),\n",
        "                metrics= ['accuracy'])"
      ],
      "metadata": {
        "id": "I4NpC_szHN8X"
      },
      "execution_count": 65,
      "outputs": []
    },
    {
      "cell_type": "code",
      "source": [
        "model_3.summary()"
      ],
      "metadata": {
        "colab": {
          "base_uri": "https://localhost:8080/"
        },
        "id": "sxfDgPLgIYxB",
        "outputId": "b161c4ad-fe30-4ba0-ce08-5f1a8cd8e053"
      },
      "execution_count": 66,
      "outputs": [
        {
          "output_type": "stream",
          "name": "stdout",
          "text": [
            "Model: \"model_3_cnn1D_char_embedding\"\n",
            "_________________________________________________________________\n",
            " Layer (type)                Output Shape              Param #   \n",
            "=================================================================\n",
            " input_layer (InputLayer)    [(None, 1)]               0         \n",
            "                                                                 \n",
            " character_tokenizer (TextV  (None, 290)               0         \n",
            " ectorization)                                                   \n",
            "                                                                 \n",
            " character_embedding_layer   (None, 290, 25)           700       \n",
            " (Embedding)                                                     \n",
            "                                                                 \n",
            " cnn_1D_layer (Conv1D)       (None, 286, 64)           8064      \n",
            "                                                                 \n",
            " global_max_pool_layer (Glo  (None, 64)                0         \n",
            " balMaxPooling1D)                                                \n",
            "                                                                 \n",
            " output_layer (Dense)        (None, 5)                 325       \n",
            "                                                                 \n",
            "=================================================================\n",
            "Total params: 9089 (35.50 KB)\n",
            "Trainable params: 9089 (35.50 KB)\n",
            "Non-trainable params: 0 (0.00 Byte)\n",
            "_________________________________________________________________\n"
          ]
        }
      ]
    },
    {
      "cell_type": "code",
      "source": [
        "train_char_dataset = tf.data.Dataset.from_tensor_slices((train_chars, train_labels_one_hot)).batch(32).prefetch(tf.data.AUTOTUNE)\n",
        "val_char_dataset = tf.data.Dataset.from_tensor_slices((val_chars, val_labels_one_hot)).batch(32).prefetch(tf.data.AUTOTUNE)\n",
        "train_char_dataset = tf.data.Dataset.from_tensor_slices((test_chars, test_labels_one_hot)).batch(32).prefetch(tf.data.AUTOTUNE)"
      ],
      "metadata": {
        "id": "y4KJgilVIcL4"
      },
      "execution_count": 67,
      "outputs": []
    },
    {
      "cell_type": "code",
      "source": [
        "# Fit the model\n",
        "model_3_history = model_3.fit(train_char_dataset,\n",
        "                              epochs= 5,\n",
        "                              steps_per_epoch= int(0.1 * len(train_char_dataset)),\n",
        "                              validation_data = val_char_dataset,\n",
        "                              validation_steps= int(0.1 * len(val_char_dataset)))"
      ],
      "metadata": {
        "colab": {
          "base_uri": "https://localhost:8080/"
        },
        "id": "BPnHYZZ9JoqU",
        "outputId": "e1c82f74-bdb7-4712-d340-e6892eae7196"
      },
      "execution_count": 68,
      "outputs": [
        {
          "output_type": "stream",
          "name": "stdout",
          "text": [
            "Epoch 1/5\n",
            "94/94 [==============================] - 3s 14ms/step - loss: 1.4779 - accuracy: 0.3949 - val_loss: 1.4103 - val_accuracy: 0.4757\n",
            "Epoch 2/5\n",
            "94/94 [==============================] - 1s 9ms/step - loss: 1.3734 - accuracy: 0.4601 - val_loss: 1.3309 - val_accuracy: 0.4668\n",
            "Epoch 3/5\n",
            "94/94 [==============================] - 1s 9ms/step - loss: 1.2926 - accuracy: 0.4734 - val_loss: 1.2185 - val_accuracy: 0.5199\n",
            "Epoch 4/5\n",
            "94/94 [==============================] - 1s 9ms/step - loss: 1.1903 - accuracy: 0.5263 - val_loss: 1.1209 - val_accuracy: 0.5545\n",
            "Epoch 5/5\n",
            "94/94 [==============================] - 1s 9ms/step - loss: 1.1194 - accuracy: 0.5539 - val_loss: 1.0679 - val_accuracy: 0.5678\n"
          ]
        }
      ]
    },
    {
      "cell_type": "code",
      "source": [
        "# Make predictions with our character embedding model\n",
        "model_3_pred = tf.argmax(model_3.predict(val_char_dataset), axis= 1)\n",
        "model_3_pred"
      ],
      "metadata": {
        "colab": {
          "base_uri": "https://localhost:8080/"
        },
        "id": "UPCRdoW2KU4i",
        "outputId": "c6467938-69d9-41d8-af8b-6e93986f60f1"
      },
      "execution_count": 69,
      "outputs": [
        {
          "output_type": "stream",
          "name": "stdout",
          "text": [
            "942/942 [==============================] - 3s 3ms/step\n"
          ]
        },
        {
          "output_type": "execute_result",
          "data": {
            "text/plain": [
              "<tf.Tensor: shape=(30135,), dtype=int64, numpy=array([2, 2, 2, ..., 4, 4, 1])>"
            ]
          },
          "metadata": {},
          "execution_count": 69
        }
      ]
    },
    {
      "cell_type": "code",
      "source": [
        "model_3_results = calculate_results(val_labels_encoded,\n",
        "                                    model_3_pred)\n",
        "model_3_results"
      ],
      "metadata": {
        "colab": {
          "base_uri": "https://localhost:8080/"
        },
        "id": "eQ5sXx6GKmvV",
        "outputId": "6dd48380-d81a-4879-e34a-7bf4df8a90ec"
      },
      "execution_count": 70,
      "outputs": [
        {
          "output_type": "execute_result",
          "data": {
            "text/plain": [
              "{'accuracy': 55.32105525136885,\n",
              " 'precision': 0.5671706839546795,\n",
              " 'recall': 0.5532105525136884,\n",
              " 'f1': 0.5071516755943412}"
            ]
          },
          "metadata": {},
          "execution_count": 70
        }
      ]
    },
    {
      "cell_type": "markdown",
      "source": [
        "#### Model 4: Combining pretrained token embeddings with character embeddings\n",
        "\n",
        "1. Create a token level embedding\n",
        "2. Create a character level embedding\n",
        "3. Combine both of the model with a concatenate layer\n",
        "4. Build a series of output layers on top of 3 similar to the figure in the paper\n",
        "5. Construct a model which takes token and character level embeddings as inputs and produce a classification as an output"
      ],
      "metadata": {
        "id": "2dJq8enJNevF"
      }
    },
    {
      "cell_type": "code",
      "source": [
        "# 1. Setup Token level Embedding\n",
        "token_inputs = layers.Input(shape= [], dtype= 'string', name= 'token_input_layer')\n",
        "token_embeddings = sentence_encoder_layer(token_inputs)\n",
        "token_outputs = layers.Dense(128, activation= 'relu', name= 'token_output_layer')(token_embeddings)\n",
        "token_model = tf.keras.Model(token_inputs, token_outputs, name= 'token_model')\n",
        "\n",
        "# 2. Setup Character level embedding\n",
        "char_inputs = layers.Input(shape= (1, ), dtype= 'string', name= 'char_input_layer')\n",
        "char_vectors = char_vectorizer(char_inputs)\n",
        "char_embeddings = char_embedding(char_vectors)\n",
        "char_outputs = layers.Bidirectional(layers.LSTM(25), name= 'char_output_layer')(char_embeddings)\n",
        "char_model = tf.keras.Model(char_inputs, char_outputs, name= 'char_model')\n",
        "\n",
        "# 3. Concatenate token and character embeddings\n",
        "token_char_concatenate = layers.Concatenate(name= 'token_char_contatenate_layer')([token_model.output, char_model.output])\n",
        "\n",
        "# 4. Create output layers\n",
        "combined_dropout = layers.Dropout(0.5)(token_char_concatenate)\n",
        "combined_dense = layers.Dense(128, activation= 'relu')(combined_dropout)\n",
        "final_dropout = layers.Dropout(0.5)(combined_dense)\n",
        "final_output = layers.Dense(len(class_names), activation= 'softmax', name= 'final_output_layer')(final_dropout)\n",
        "\n",
        "# 5. Construct the final model\n",
        "model_4 = tf.keras.Model(inputs= [token_model.input, char_model.input], outputs= final_output, name= 'model_4_token_char_embeddings')"
      ],
      "metadata": {
        "id": "nBu7NmqQOPKZ"
      },
      "execution_count": 71,
      "outputs": []
    },
    {
      "cell_type": "code",
      "source": [
        "# Get a summary\n",
        "model_4.summary()"
      ],
      "metadata": {
        "colab": {
          "base_uri": "https://localhost:8080/"
        },
        "id": "Y-U_SCAKVhde",
        "outputId": "e9e3b394-d680-42f9-cc90-27b8bd6c6108"
      },
      "execution_count": 72,
      "outputs": [
        {
          "output_type": "stream",
          "name": "stdout",
          "text": [
            "Model: \"model_4_token_char_embeddings\"\n",
            "__________________________________________________________________________________________________\n",
            " Layer (type)                Output Shape                 Param #   Connected to                  \n",
            "==================================================================================================\n",
            " char_input_layer (InputLay  [(None, 1)]                  0         []                            \n",
            " er)                                                                                              \n",
            "                                                                                                  \n",
            " token_input_layer (InputLa  [(None,)]                    0         []                            \n",
            " yer)                                                                                             \n",
            "                                                                                                  \n",
            " character_tokenizer (TextV  (None, 290)                  0         ['char_input_layer[0][0]']    \n",
            " ectorization)                                                                                    \n",
            "                                                                                                  \n",
            " USE_layer (KerasLayer)      (None, 512)                  2567978   ['token_input_layer[0][0]']   \n",
            "                                                          24                                      \n",
            "                                                                                                  \n",
            " character_embedding_layer   (None, 290, 25)              700       ['character_tokenizer[1][0]'] \n",
            " (Embedding)                                                                                      \n",
            "                                                                                                  \n",
            " token_output_layer (Dense)  (None, 128)                  65664     ['USE_layer[1][0]']           \n",
            "                                                                                                  \n",
            " char_output_layer (Bidirec  (None, 50)                   10200     ['character_embedding_layer[1]\n",
            " tional)                                                            [0]']                         \n",
            "                                                                                                  \n",
            " token_char_contatenate_lay  (None, 178)                  0         ['token_output_layer[0][0]',  \n",
            " er (Concatenate)                                                    'char_output_layer[0][0]']   \n",
            "                                                                                                  \n",
            " dropout (Dropout)           (None, 178)                  0         ['token_char_contatenate_layer\n",
            "                                                                    [0][0]']                      \n",
            "                                                                                                  \n",
            " dense_1 (Dense)             (None, 128)                  22912     ['dropout[0][0]']             \n",
            "                                                                                                  \n",
            " dropout_1 (Dropout)         (None, 128)                  0         ['dense_1[0][0]']             \n",
            "                                                                                                  \n",
            " final_output_layer (Dense)  (None, 5)                    645       ['dropout_1[0][0]']           \n",
            "                                                                                                  \n",
            "==================================================================================================\n",
            "Total params: 256897945 (979.99 MB)\n",
            "Trainable params: 100121 (391.10 KB)\n",
            "Non-trainable params: 256797824 (979.61 MB)\n",
            "__________________________________________________________________________________________________\n"
          ]
        }
      ]
    },
    {
      "cell_type": "code",
      "source": [
        "from keras.utils import plot_model\n",
        "plot_model(model_4, show_shapes= True)"
      ],
      "metadata": {
        "id": "w6f3JiHWWIS4",
        "outputId": "b1e1ca98-454e-4820-f6b3-b8ef650a1865",
        "colab": {
          "base_uri": "https://localhost:8080/",
          "height": 976
        }
      },
      "execution_count": 73,
      "outputs": [
        {
          "output_type": "execute_result",
          "data": {
            "image/png": "[encoded data removed]",
            "text/plain": [
              "<IPython.core.display.Image object>"
            ]
          },
          "metadata": {},
          "execution_count": 73
        }
      ]
    },
    {
      "cell_type": "code",
      "source": [
        "# Compile the model\n",
        "model_4.compile(loss= 'categorical_crossentropy',\n",
        "                optimizer= tf.keras.optimizers.Adam(),\n",
        "                metrics= ['accuracy'],\n",
        "                run_eagerly= True)"
      ],
      "metadata": {
        "id": "nXhSCMwAXL-P"
      },
      "execution_count": 74,
      "outputs": []
    },
    {
      "cell_type": "code",
      "source": [
        "# Creating dataset for our model to train\n",
        "train_char_token_data = tf.data.Dataset.from_tensor_slices((train_sentences, train_chars))\n",
        "train_char_token_labels = tf.data.Dataset.from_tensor_slices(train_labels_one_hot)\n",
        "train_char_token_dataset = tf.data.Dataset.zip(train_char_token_data, train_char_token_labels).batch(32).prefetch(tf.data.AUTOTUNE)\n",
        "val_char_token_data = tf.data.Dataset.from_tensor_slices((val_sentences, val_chars))\n",
        "val_char_token_labels = tf.data.Dataset.from_tensor_slices(val_labels_one_hot)\n",
        "val_char_token_dataset = tf.data.Dataset.zip(val_char_token_data, val_char_token_labels).batch(32).prefetch(tf.data.AUTOTUNE)\n",
        "test_char_token_data = tf.data.Dataset.from_tensor_slices((test_sentences, test_chars))\n",
        "test_char_token_labels = tf.data.Dataset.from_tensor_slices(test_labels_one_hot)\n",
        "test_char_token_dataset = tf.data.Dataset.zip(test_char_token_data, test_char_token_labels).batch(32).prefetch(tf.data.AUTOTUNE)"
      ],
      "metadata": {
        "id": "as8P9HqxXUrU"
      },
      "execution_count": 75,
      "outputs": []
    },
    {
      "cell_type": "code",
      "source": [
        "train_char_token_dataset"
      ],
      "metadata": {
        "id": "XXo7FrdhZDoP",
        "outputId": "447f932c-6645-4bfe-866a-6216fb6ae271",
        "colab": {
          "base_uri": "https://localhost:8080/"
        }
      },
      "execution_count": 76,
      "outputs": [
        {
          "output_type": "execute_result",
          "data": {
            "text/plain": [
              "<_PrefetchDataset element_spec=((TensorSpec(shape=(None,), dtype=tf.string, name=None), TensorSpec(shape=(None,), dtype=tf.string, name=None)), TensorSpec(shape=(None, 5), dtype=tf.float64, name=None))>"
            ]
          },
          "metadata": {},
          "execution_count": 76
        }
      ]
    },
    {
      "cell_type": "code",
      "source": [
        "history_model_4 = model_4.fit(train_char_token_dataset,\n",
        "             epochs= 5,\n",
        "             steps_per_epoch= int(0.1 * len(train_char_token_dataset)),\n",
        "             validation_data= val_char_token_dataset,\n",
        "             validation_steps= int(0.1 * len(val_char_token_dataset)))"
      ],
      "metadata": {
        "id": "IGnPtM-mYkdQ",
        "outputId": "027858b3-799e-453e-d3cd-b08960e51a9e",
        "colab": {
          "base_uri": "https://localhost:8080/"
        }
      },
      "execution_count": 77,
      "outputs": [
        {
          "output_type": "stream",
          "name": "stdout",
          "text": [
            "Epoch 1/5\n"
          ]
        },
        {
          "output_type": "stream",
          "name": "stderr",
          "text": [
            "WARNING:tensorflow:5 out of the last 5 calls to <function _BaseOptimizer._update_step_xla at 0x7cfdcfb8e830> triggered tf.function retracing. Tracing is expensive and the excessive number of tracings could be due to (1) creating @tf.function repeatedly in a loop, (2) passing tensors with different shapes, (3) passing Python objects instead of tensors. For (1), please define your @tf.function outside of the loop. For (2), @tf.function has reduce_retracing=True option that can avoid unnecessary retracing. For (3), please refer to https://www.tensorflow.org/guide/function#controlling_retracing and https://www.tensorflow.org/api_docs/python/tf/function for  more details.\n",
            "WARNING:tensorflow:6 out of the last 6 calls to <function _BaseOptimizer._update_step_xla at 0x7cfdcfb8e830> triggered tf.function retracing. Tracing is expensive and the excessive number of tracings could be due to (1) creating @tf.function repeatedly in a loop, (2) passing tensors with different shapes, (3) passing Python objects instead of tensors. For (1), please define your @tf.function outside of the loop. For (2), @tf.function has reduce_retracing=True option that can avoid unnecessary retracing. For (3), please refer to https://www.tensorflow.org/guide/function#controlling_retracing and https://www.tensorflow.org/api_docs/python/tf/function for  more details.\n"
          ]
        },
        {
          "output_type": "stream",
          "name": "stdout",
          "text": [
            "562/562 [==============================] - 99s 167ms/step - loss: 0.9858 - accuracy: 0.6084 - val_loss: 0.8171 - val_accuracy: 0.6862\n",
            "Epoch 2/5\n",
            "562/562 [==============================] - 94s 167ms/step - loss: 0.8007 - accuracy: 0.6922 - val_loss: 0.7563 - val_accuracy: 0.7051\n",
            "Epoch 3/5\n",
            "562/562 [==============================] - 83s 147ms/step - loss: 0.7771 - accuracy: 0.7080 - val_loss: 0.7164 - val_accuracy: 0.7244\n",
            "Epoch 4/5\n",
            "562/562 [==============================] - 97s 173ms/step - loss: 0.7409 - accuracy: 0.7179 - val_loss: 0.6932 - val_accuracy: 0.7367\n",
            "Epoch 5/5\n",
            "562/562 [==============================] - 92s 163ms/step - loss: 0.7536 - accuracy: 0.7150 - val_loss: 0.6843 - val_accuracy: 0.7324\n"
          ]
        }
      ]
    },
    {
      "cell_type": "code",
      "source": [
        "model_4_pred = tf.argmax(model_4.predict(val_char_token_dataset), axis= 1)\n",
        "model_4_pred"
      ],
      "metadata": {
        "id": "FdSaOTFac7qA",
        "outputId": "e2534df3-6724-48d5-bc2d-65201a4641d7",
        "colab": {
          "base_uri": "https://localhost:8080/"
        }
      },
      "execution_count": 78,
      "outputs": [
        {
          "output_type": "stream",
          "name": "stdout",
          "text": [
            "942/942 [==============================] - 65s 69ms/step\n"
          ]
        },
        {
          "output_type": "execute_result",
          "data": {
            "text/plain": [
              "<tf.Tensor: shape=(30135,), dtype=int64, numpy=array([2, 2, 2, ..., 4, 4, 1])>"
            ]
          },
          "metadata": {},
          "execution_count": 78
        }
      ]
    },
    {
      "cell_type": "code",
      "source": [
        "model_4_results = calculate_results(val_labels_encoded,\n",
        "                                    model_4_pred)\n",
        "model_4_results"
      ],
      "metadata": {
        "id": "gJAhb26RdHxO",
        "outputId": "ce29ca78-1e6b-4096-9464-56d32b4954fb",
        "colab": {
          "base_uri": "https://localhost:8080/"
        }
      },
      "execution_count": 79,
      "outputs": [
        {
          "output_type": "execute_result",
          "data": {
            "text/plain": [
              "{'accuracy': 73.75477020076323,\n",
              " 'precision': 0.7342728180545983,\n",
              " 'recall': 0.7375477020076323,\n",
              " 'f1': 0.7315039517418926}"
            ]
          },
          "metadata": {},
          "execution_count": 79
        }
      ]
    },
    {
      "cell_type": "code",
      "source": [
        "baseline_results"
      ],
      "metadata": {
        "id": "EDgJ2oBFdPvS",
        "outputId": "f6d0560b-10f0-4057-c01a-8c760d34a421",
        "colab": {
          "base_uri": "https://localhost:8080/"
        }
      },
      "execution_count": 80,
      "outputs": [
        {
          "output_type": "execute_result",
          "data": {
            "text/plain": [
              "{'accuracy': 71.6674962667994,\n",
              " 'precision': 0.7124322482375202,\n",
              " 'recall': 0.716674962667994,\n",
              " 'f1': 0.6925101703856846}"
            ]
          },
          "metadata": {},
          "execution_count": 80
        }
      ]
    },
    {
      "cell_type": "markdown",
      "source": [
        "#### Model 5: Transfer Learning with pretrained token embedding, character embedding and positional embedding"
      ],
      "metadata": {
        "id": "mcrTDAsYhLel"
      }
    },
    {
      "cell_type": "code",
      "source": [
        "train_df.head()"
      ],
      "metadata": {
        "colab": {
          "base_uri": "https://localhost:8080/",
          "height": 204
        },
        "id": "olZc53afhWXH",
        "outputId": "f58ec6a7-91bb-420a-b3cc-2f7eadf7f18d"
      },
      "execution_count": 81,
      "outputs": [
        {
          "output_type": "execute_result",
          "data": {
            "text/plain": [
              "      target                                               text  line_number  \\\n",
              "0  OBJECTIVE  to investigate the efficacy of @ weeks of dail...            0   \n",
              "1    METHODS  a total of @ patients with primary knee oa wer...            1   \n",
              "2    METHODS  outcome measures included pain reduction and i...            2   \n",
              "3    METHODS  pain was assessed using the visual analog pain...            3   \n",
              "4    METHODS  secondary outcome measures included the wester...            4   \n",
              "\n",
              "   total_lines  \n",
              "0           11  \n",
              "1           11  \n",
              "2           11  \n",
              "3           11  \n",
              "4           11  "
            ],
            "text/html": [
              "\n",
              "  <div id=\"df-8bd8f7e4-df94-4675-9c8f-935a5087f348\" class=\"colab-df-container\">\n",
              "    <div>\n",
              "<style scoped>\n",
              "    .dataframe tbody tr th:only-of-type {\n",
              "        vertical-align: middle;\n",
              "    }\n",
              "\n",
              "    .dataframe tbody tr th {\n",
              "        vertical-align: top;\n",
              "    }\n",
              "\n",
              "    .dataframe thead th {\n",
              "        text-align: right;\n",
              "    }\n",
              "</style>\n",
              "<table border=\"1\" class=\"dataframe\">\n",
              "  <thead>\n",
              "    <tr style=\"text-align: right;\">\n",
              "      <th></th>\n",
              "      <th>target</th>\n",
              "      <th>text</th>\n",
              "      <th>line_number</th>\n",
              "      <th>total_lines</th>\n",
              "    </tr>\n",
              "  </thead>\n",
              "  <tbody>\n",
              "    <tr>\n",
              "      <th>0</th>\n",
              "      <td>OBJECTIVE</td>\n",
              "      <td>to investigate the efficacy of @ weeks of dail...</td>\n",
              "      <td>0</td>\n",
              "      <td>11</td>\n",
              "    </tr>\n",
              "    <tr>\n",
              "      <th>1</th>\n",
              "      <td>METHODS</td>\n",
              "      <td>a total of @ patients with primary knee oa wer...</td>\n",
              "      <td>1</td>\n",
              "      <td>11</td>\n",
              "    </tr>\n",
              "    <tr>\n",
              "      <th>2</th>\n",
              "      <td>METHODS</td>\n",
              "      <td>outcome measures included pain reduction and i...</td>\n",
              "      <td>2</td>\n",
              "      <td>11</td>\n",
              "    </tr>\n",
              "    <tr>\n",
              "      <th>3</th>\n",
              "      <td>METHODS</td>\n",
              "      <td>pain was assessed using the visual analog pain...</td>\n",
              "      <td>3</td>\n",
              "      <td>11</td>\n",
              "    </tr>\n",
              "    <tr>\n",
              "      <th>4</th>\n",
              "      <td>METHODS</td>\n",
              "      <td>secondary outcome measures included the wester...</td>\n",
              "      <td>4</td>\n",
              "      <td>11</td>\n",
              "    </tr>\n",
              "  </tbody>\n",
              "</table>\n",
              "</div>\n",
              "    <div class=\"colab-df-buttons\">\n",
              "\n",
              "  <div class=\"colab-df-container\">\n",
              "    <button class=\"colab-df-convert\" onclick=\"convertToInteractive('df-8bd8f7e4-df94-4675-9c8f-935a5087f348')\"\n",
              "            title=\"Convert this dataframe to an interactive table.\"\n",
              "            style=\"display:none;\">\n",
              "\n",
              "  <svg xmlns=\"http://www.w3.org/2000/svg\" height=\"24px\" viewBox=\"0 -960 960 960\">\n",
              "    <path d=\"M120-120v-720h720v720H120Zm60-500h600v-160H180v160Zm220 220h160v-160H400v160Zm0 220h160v-160H400v160ZM180-400h160v-160H180v160Zm440 0h160v-160H620v160ZM180-180h160v-160H180v160Zm440 0h160v-160H620v160Z\"/>\n",
              "  </svg>\n",
              "    </button>\n",
              "\n",
              "  <style>\n",
              "    .colab-df-container {\n",
              "      display:flex;\n",
              "      gap: 12px;\n",
              "    }\n",
              "\n",
              "    .colab-df-convert {\n",
              "      background-color: #E8F0FE;\n",
              "      border: none;\n",
              "      border-radius: 50%;\n",
              "      cursor: pointer;\n",
              "      display: none;\n",
              "      fill: #1967D2;\n",
              "      height: 32px;\n",
              "      padding: 0 0 0 0;\n",
              "      width: 32px;\n",
              "    }\n",
              "\n",
              "    .colab-df-convert:hover {\n",
              "      background-color: #E2EBFA;\n",
              "      box-shadow: 0px 1px 2px rgba(60, 64, 67, 0.3), 0px 1px 3px 1px rgba(60, 64, 67, 0.15);\n",
              "      fill: #174EA6;\n",
              "    }\n",
              "\n",
              "    .colab-df-buttons div {\n",
              "      margin-bottom: 4px;\n",
              "    }\n",
              "\n",
              "    [theme=dark] .colab-df-convert {\n",
              "      background-color: #3B4455;\n",
              "      fill: #D2E3FC;\n",
              "    }\n",
              "\n",
              "    [theme=dark] .colab-df-convert:hover {\n",
              "      background-color: #434B5C;\n",
              "      box-shadow: 0px 1px 3px 1px rgba(0, 0, 0, 0.15);\n",
              "      filter: drop-shadow(0px 1px 2px rgba(0, 0, 0, 0.3));\n",
              "      fill: #FFFFFF;\n",
              "    }\n",
              "  </style>\n",
              "\n",
              "    <script>\n",
              "      const buttonEl =\n",
              "        document.querySelector('#df-8bd8f7e4-df94-4675-9c8f-935a5087f348 button.colab-df-convert');\n",
              "      buttonEl.style.display =\n",
              "        google.colab.kernel.accessAllowed ? 'block' : 'none';\n",
              "\n",
              "      async function convertToInteractive(key) {\n",
              "        const element = document.querySelector('#df-8bd8f7e4-df94-4675-9c8f-935a5087f348');\n",
              "        const dataTable =\n",
              "          await google.colab.kernel.invokeFunction('convertToInteractive',\n",
              "                                                    [key], {});\n",
              "        if (!dataTable) return;\n",
              "\n",
              "        const docLinkHtml = 'Like what you see? Visit the ' +\n",
              "          '<a target=\"_blank\" href=https://colab.research.google.com/notebooks/data_table.ipynb>data table notebook</a>'\n",
              "          + ' to learn more about interactive tables.';\n",
              "        element.innerHTML = '';\n",
              "        dataTable['output_type'] = 'display_data';\n",
              "        await google.colab.output.renderOutput(dataTable, element);\n",
              "        const docLink = document.createElement('div');\n",
              "        docLink.innerHTML = docLinkHtml;\n",
              "        element.appendChild(docLink);\n",
              "      }\n",
              "    </script>\n",
              "  </div>\n",
              "\n",
              "\n",
              "<div id=\"df-4706adda-1ae4-4670-a912-378095df97bf\">\n",
              "  <button class=\"colab-df-quickchart\" onclick=\"quickchart('df-4706adda-1ae4-4670-a912-378095df97bf')\"\n",
              "            title=\"Suggest charts\"\n",
              "            style=\"display:none;\">\n",
              "\n",
              "<svg xmlns=\"http://www.w3.org/2000/svg\" height=\"24px\"viewBox=\"0 0 24 24\"\n",
              "     width=\"24px\">\n",
              "    <g>\n",
              "        <path d=\"M19 3H5c-1.1 0-2 .9-2 2v14c0 1.1.9 2 2 2h14c1.1 0 2-.9 2-2V5c0-1.1-.9-2-2-2zM9 17H7v-7h2v7zm4 0h-2V7h2v10zm4 0h-2v-4h2v4z\"/>\n",
              "    </g>\n",
              "</svg>\n",
              "  </button>\n",
              "\n",
              "<style>\n",
              "  .colab-df-quickchart {\n",
              "      --bg-color: #E8F0FE;\n",
              "      --fill-color: #1967D2;\n",
              "      --hover-bg-color: #E2EBFA;\n",
              "      --hover-fill-color: #174EA6;\n",
              "      --disabled-fill-color: #AAA;\n",
              "      --disabled-bg-color: #DDD;\n",
              "  }\n",
              "\n",
              "  [theme=dark] .colab-df-quickchart {\n",
              "      --bg-color: #3B4455;\n",
              "      --fill-color: #D2E3FC;\n",
              "      --hover-bg-color: #434B5C;\n",
              "      --hover-fill-color: #FFFFFF;\n",
              "      --disabled-bg-color: #3B4455;\n",
              "      --disabled-fill-color: #666;\n",
              "  }\n",
              "\n",
              "  .colab-df-quickchart {\n",
              "    background-color: var(--bg-color);\n",
              "    border: none;\n",
              "    border-radius: 50%;\n",
              "    cursor: pointer;\n",
              "    display: none;\n",
              "    fill: var(--fill-color);\n",
              "    height: 32px;\n",
              "    padding: 0;\n",
              "    width: 32px;\n",
              "  }\n",
              "\n",
              "  .colab-df-quickchart:hover {\n",
              "    background-color: var(--hover-bg-color);\n",
              "    box-shadow: 0 1px 2px rgba(60, 64, 67, 0.3), 0 1px 3px 1px rgba(60, 64, 67, 0.15);\n",
              "    fill: var(--button-hover-fill-color);\n",
              "  }\n",
              "\n",
              "  .colab-df-quickchart-complete:disabled,\n",
              "  .colab-df-quickchart-complete:disabled:hover {\n",
              "    background-color: var(--disabled-bg-color);\n",
              "    fill: var(--disabled-fill-color);\n",
              "    box-shadow: none;\n",
              "  }\n",
              "\n",
              "  .colab-df-spinner {\n",
              "    border: 2px solid var(--fill-color);\n",
              "    border-color: transparent;\n",
              "    border-bottom-color: var(--fill-color);\n",
              "    animation:\n",
              "      spin 1s steps(1) infinite;\n",
              "  }\n",
              "\n",
              "  @keyframes spin {\n",
              "    0% {\n",
              "      border-color: transparent;\n",
              "      border-bottom-color: var(--fill-color);\n",
              "      border-left-color: var(--fill-color);\n",
              "    }\n",
              "    20% {\n",
              "      border-color: transparent;\n",
              "      border-left-color: var(--fill-color);\n",
              "      border-top-color: var(--fill-color);\n",
              "    }\n",
              "    30% {\n",
              "      border-color: transparent;\n",
              "      border-left-color: var(--fill-color);\n",
              "      border-top-color: var(--fill-color);\n",
              "      border-right-color: var(--fill-color);\n",
              "    }\n",
              "    40% {\n",
              "      border-color: transparent;\n",
              "      border-right-color: var(--fill-color);\n",
              "      border-top-color: var(--fill-color);\n",
              "    }\n",
              "    60% {\n",
              "      border-color: transparent;\n",
              "      border-right-color: var(--fill-color);\n",
              "    }\n",
              "    80% {\n",
              "      border-color: transparent;\n",
              "      border-right-color: var(--fill-color);\n",
              "      border-bottom-color: var(--fill-color);\n",
              "    }\n",
              "    90% {\n",
              "      border-color: transparent;\n",
              "      border-bottom-color: var(--fill-color);\n",
              "    }\n",
              "  }\n",
              "</style>\n",
              "\n",
              "  <script>\n",
              "    async function quickchart(key) {\n",
              "      const quickchartButtonEl =\n",
              "        document.querySelector('#' + key + ' button');\n",
              "      quickchartButtonEl.disabled = true;  // To prevent multiple clicks.\n",
              "      quickchartButtonEl.classList.add('colab-df-spinner');\n",
              "      try {\n",
              "        const charts = await google.colab.kernel.invokeFunction(\n",
              "            'suggestCharts', [key], {});\n",
              "      } catch (error) {\n",
              "        console.error('Error during call to suggestCharts:', error);\n",
              "      }\n",
              "      quickchartButtonEl.classList.remove('colab-df-spinner');\n",
              "      quickchartButtonEl.classList.add('colab-df-quickchart-complete');\n",
              "    }\n",
              "    (() => {\n",
              "      let quickchartButtonEl =\n",
              "        document.querySelector('#df-4706adda-1ae4-4670-a912-378095df97bf button');\n",
              "      quickchartButtonEl.style.display =\n",
              "        google.colab.kernel.accessAllowed ? 'block' : 'none';\n",
              "    })();\n",
              "  </script>\n",
              "</div>\n",
              "\n",
              "    </div>\n",
              "  </div>\n"
            ],
            "application/vnd.google.colaboratory.intrinsic+json": {
              "type": "dataframe",
              "variable_name": "train_df"
            }
          },
          "metadata": {},
          "execution_count": 81
        }
      ]
    },
    {
      "cell_type": "markdown",
      "source": [
        "> Note: Any engineered features used to train the model need to be available on testing. In our case, line numbers and total line numbers."
      ],
      "metadata": {
        "id": "3SMQD2PgitxY"
      }
    },
    {
      "cell_type": "markdown",
      "source": [
        "##### Create Positional Embeddings"
      ],
      "metadata": {
        "id": "mEupR59ei-EH"
      }
    },
    {
      "cell_type": "code",
      "source": [
        "# Distribution of line numbers\n",
        "train_df['line_number'].plot.hist()"
      ],
      "metadata": {
        "colab": {
          "base_uri": "https://localhost:8080/",
          "height": 447
        },
        "id": "tfr6KZ1jjLjD",
        "outputId": "27d18594-d0e6-4801-f30a-b0672bcd763d"
      },
      "execution_count": 82,
      "outputs": [
        {
          "output_type": "execute_result",
          "data": {
            "text/plain": [
              "<Axes: ylabel='Frequency'>"
            ]
          },
          "metadata": {},
          "execution_count": 82
        },
        {
          "output_type": "display_data",
          "data": {
            "text/plain": [
              "<Figure size 640x480 with 1 Axes>"
            ],
            "image/png": "[encoded data removed]"
          },
          "metadata": {}
        }
      ]
    },
    {
      "cell_type": "code",
      "source": [
        "# Check the values of each line number\n",
        "train_df['line_number'].value_counts()"
      ],
      "metadata": {
        "colab": {
          "base_uri": "https://localhost:8080/"
        },
        "id": "PQSNHELKjoAw",
        "outputId": "ca0618eb-4d63-4342-8861-cb13b78d0cd4"
      },
      "execution_count": 83,
      "outputs": [
        {
          "output_type": "execute_result",
          "data": {
            "text/plain": [
              "0     15000\n",
              "1     15000\n",
              "2     15000\n",
              "3     15000\n",
              "4     14992\n",
              "5     14949\n",
              "6     14758\n",
              "7     14279\n",
              "8     13346\n",
              "9     11981\n",
              "10    10041\n",
              "11     7892\n",
              "12     5853\n",
              "13     4152\n",
              "14     2835\n",
              "15     1861\n",
              "16     1188\n",
              "17      751\n",
              "18      462\n",
              "19      286\n",
              "20      162\n",
              "21      101\n",
              "22       66\n",
              "23       33\n",
              "24       22\n",
              "25       14\n",
              "26        7\n",
              "27        4\n",
              "28        3\n",
              "29        1\n",
              "30        1\n",
              "Name: line_number, dtype: int64"
            ]
          },
          "metadata": {},
          "execution_count": 83
        }
      ]
    },
    {
      "cell_type": "code",
      "source": [
        "# Use TensorFlow to create a one-hot encoded tensors of our 'line_number' column\n",
        "train_line_numbers_one_hot = tf.one_hot(train_df['line_number'].to_numpy(), depth= 15)\n",
        "val_line_numbers_one_hot = tf.one_hot(val_df['line_number'].to_numpy(), depth= 15)\n",
        "test_line_numbers_one_hot = tf.one_hot(test_df['line_number'].to_numpy(), depth= 15)\n",
        "train_line_numbers_one_hot.shape, val_line_numbers_one_hot.shape, test_line_numbers_one_hot.shape"
      ],
      "metadata": {
        "colab": {
          "base_uri": "https://localhost:8080/"
        },
        "id": "KU8sBtXnjwRf",
        "outputId": "cdb90b10-f05d-458f-e8d2-c3fedc99b398"
      },
      "execution_count": 84,
      "outputs": [
        {
          "output_type": "execute_result",
          "data": {
            "text/plain": [
              "(TensorShape([180040, 15]), TensorShape([30135, 15]), TensorShape([30212, 15]))"
            ]
          },
          "metadata": {},
          "execution_count": 84
        }
      ]
    },
    {
      "cell_type": "markdown",
      "source": [
        "Do the same exact thing for the total line number in train_df"
      ],
      "metadata": {
        "id": "x2ldexmYlCte"
      }
    },
    {
      "cell_type": "code",
      "source": [
        "# Distribution of total_lines in train_df\n",
        "train_df['total_lines'].plot.hist()"
      ],
      "metadata": {
        "colab": {
          "base_uri": "https://localhost:8080/",
          "height": 448
        },
        "id": "8KRJLxNGlG9N",
        "outputId": "5a7c521d-4df0-4a56-b993-90a7abab6a64"
      },
      "execution_count": 85,
      "outputs": [
        {
          "output_type": "execute_result",
          "data": {
            "text/plain": [
              "<Axes: ylabel='Frequency'>"
            ]
          },
          "metadata": {},
          "execution_count": 85
        },
        {
          "output_type": "display_data",
          "data": {
            "text/plain": [
              "<Figure size 640x480 with 1 Axes>"
            ],
            "image/png": "[encoded data removed]"
          },
          "metadata": {}
        }
      ]
    },
    {
      "cell_type": "code",
      "source": [
        "# Checking value counts of total lines\n",
        "train_df['total_lines'].value_counts()"
      ],
      "metadata": {
        "colab": {
          "base_uri": "https://localhost:8080/"
        },
        "id": "0SXbh8gJli2W",
        "outputId": "ced67797-e868-4c27-c1d6-aed248892d32"
      },
      "execution_count": 86,
      "outputs": [
        {
          "output_type": "execute_result",
          "data": {
            "text/plain": [
              "11    24468\n",
              "10    23639\n",
              "12    22113\n",
              "9     19400\n",
              "13    18438\n",
              "14    14610\n",
              "8     12285\n",
              "15    10768\n",
              "7      7464\n",
              "16     7429\n",
              "17     5202\n",
              "6      3353\n",
              "18     3344\n",
              "19     2480\n",
              "20     1281\n",
              "5      1146\n",
              "21      770\n",
              "22      759\n",
              "23      264\n",
              "4       215\n",
              "24      200\n",
              "25      182\n",
              "26       81\n",
              "28       58\n",
              "3        32\n",
              "30       31\n",
              "27       28\n",
              "Name: total_lines, dtype: int64"
            ]
          },
          "metadata": {},
          "execution_count": 86
        }
      ]
    },
    {
      "cell_type": "code",
      "source": [
        "# CCheck the percentile\n",
        "np.percentile(train_df['total_lines'], 98)"
      ],
      "metadata": {
        "colab": {
          "base_uri": "https://localhost:8080/"
        },
        "id": "wHk4hZnsmnRt",
        "outputId": "e5eeb5ee-1819-4350-f63c-9cc67bcb54a9"
      },
      "execution_count": 87,
      "outputs": [
        {
          "output_type": "execute_result",
          "data": {
            "text/plain": [
              "20.0"
            ]
          },
          "metadata": {},
          "execution_count": 87
        }
      ]
    },
    {
      "cell_type": "code",
      "source": [
        "# Use TensorFlow to create one-hot encoding on total_lines feature\n",
        "train_total_lines_one_hot = tf.one_hot(train_df['total_lines'].to_numpy(), depth= 20)\n",
        "val_total_lines_one_hot = tf.one_hot(val_df['total_lines'].to_numpy(), depth= 20)\n",
        "test_total_lines_one_hot = tf.one_hot(test_df['total_lines'].to_numpy(), depth= 20)\n",
        "train_total_lines_one_hot.shape, val_total_lines_one_hot.shape, test_total_lines_one_hot.shape"
      ],
      "metadata": {
        "colab": {
          "base_uri": "https://localhost:8080/"
        },
        "id": "8dGzLhtpmzf7",
        "outputId": "c1f2fb7d-bee3-4b49-8782-9db0eabebb24"
      },
      "execution_count": 88,
      "outputs": [
        {
          "output_type": "execute_result",
          "data": {
            "text/plain": [
              "(TensorShape([180040, 20]), TensorShape([30135, 20]), TensorShape([30212, 20]))"
            ]
          },
          "metadata": {},
          "execution_count": 88
        }
      ]
    },
    {
      "cell_type": "markdown",
      "source": [
        "##### Building a tribrid embedding model\n",
        "\n",
        "1. Create a token level model\n",
        "2. Create a character level model\n",
        "3. Create a line number model\n",
        "4. Create a total lines model\n",
        "5. Combine the outputs of 1 and 2 of concatenate\n",
        "6. Combine the output of 3, 4 and 5 using concatenate\n",
        "7. Create an output layers to accept all of the above three inputs and give the output label possibilities\n",
        "8. Combine the inputs of 1, 2, 3, 4 and outputs into a model"
      ],
      "metadata": {
        "id": "9dI7VnknpFeI"
      }
    },
    {
      "cell_type": "code",
      "source": [
        "# 1. Token inputs\n",
        "token_inputs = layers.Input(shape= [], dtype= 'string', name= 'token_input_layer')\n",
        "token_embeddings = sentence_encoder_layer(token_inputs)\n",
        "token_outputs = layers.Dense(128, activation= 'relu', name= 'token_output_layer')(token_embeddings)\n",
        "token_model = tf.keras.Model(token_inputs, token_outputs, name= 'token_model')\n",
        "\n",
        "# 2. Character inputs\n",
        "char_inputs = layers.Input(shape= (1, ), dtype= 'string', name= 'char_input_layer')\n",
        "char_vectors = char_vectorizer(char_inputs)\n",
        "char_embeddings = char_embedding(char_vectors)\n",
        "char_outputs = layers.Bidirectional(layers.LSTM(25), name= 'char_output_bi_lstm_layer')(char_embeddings)\n",
        "char_model = tf.keras.Model(char_inputs, char_outputs, name= 'char_model')\n",
        "\n",
        "# 3. Line numbers inputs\n",
        "line_num_inputs = layers.Input(shape= (15, ), name= 'line_num_input_layer')\n",
        "line_num_outputs = layers.Dense(32, activation= 'relu', name= 'line_num_output_layer')(line_num_inputs)\n",
        "line_num_model = tf.keras.Model(line_num_inputs, line_num_outputs, name= 'line_num_model')\n",
        "\n",
        "# 4. Total line numbers inputs\n",
        "tot_line_inputs = layers.Input(shape= (20, ), name= 'total_lines_input_layers')\n",
        "tot_line_outputs = layers.Dense(32, activation= 'relu', name= 'total_lines_output_layers')(tot_line_inputs)\n",
        "tot_line_model = tf.keras.Model(tot_line_inputs, tot_line_outputs, name= 'total_lines_model')\n",
        "\n",
        "# 5. Combine token and char embeddings into one\n",
        "token_char_embeddings = layers.Concatenate(name= 'token_char_embeddings')([token_model.output, char_model.output])\n",
        "x = layers.Dense(256, activation= 'relu')(token_char_embeddings)\n",
        "x = layers.Dropout(0.5)(x)\n",
        "\n",
        "# 6. Combine positional embeddings with token and char combined embeddings\n",
        "final_embeddings = layers.Concatenate(name= 'final_embeddings')([x, line_num_model.output, tot_line_model.output])\n",
        "\n",
        "# 7. Create output layer\n",
        "final_output_layer = layers.Dense(len(class_names), activation= 'softmax', name= 'final_output_layer')(final_embeddings)\n",
        "\n",
        "# 8. Create Model\n",
        "model_5 = tf.keras.Model(inputs= [token_model.input, char_model.input, line_num_model.input, tot_line_model.input],\n",
        "                         outputs= final_output_layer, name= 'token_char_positional_model')\n",
        "\n",
        "model_5.summary()"
      ],
      "metadata": {
        "colab": {
          "base_uri": "https://localhost:8080/"
        },
        "id": "59Y-RJKorHJG",
        "outputId": "7840b9e2-20c1-48f1-f9bd-185d11e36580"
      },
      "execution_count": 89,
      "outputs": [
        {
          "output_type": "stream",
          "name": "stdout",
          "text": [
            "Model: \"token_char_positional_model\"\n",
            "__________________________________________________________________________________________________\n",
            " Layer (type)                Output Shape                 Param #   Connected to                  \n",
            "==================================================================================================\n",
            " char_input_layer (InputLay  [(None, 1)]                  0         []                            \n",
            " er)                                                                                              \n",
            "                                                                                                  \n",
            " token_input_layer (InputLa  [(None,)]                    0         []                            \n",
            " yer)                                                                                             \n",
            "                                                                                                  \n",
            " character_tokenizer (TextV  (None, 290)                  0         ['char_input_layer[0][0]']    \n",
            " ectorization)                                                                                    \n",
            "                                                                                                  \n",
            " USE_layer (KerasLayer)      (None, 512)                  2567978   ['token_input_layer[0][0]']   \n",
            "                                                          24                                      \n",
            "                                                                                                  \n",
            " character_embedding_layer   (None, 290, 25)              700       ['character_tokenizer[2][0]'] \n",
            " (Embedding)                                                                                      \n",
            "                                                                                                  \n",
            " token_output_layer (Dense)  (None, 128)                  65664     ['USE_layer[2][0]']           \n",
            "                                                                                                  \n",
            " char_output_bi_lstm_layer   (None, 50)                   10200     ['character_embedding_layer[2]\n",
            " (Bidirectional)                                                    [0]']                         \n",
            "                                                                                                  \n",
            " token_char_embeddings (Con  (None, 178)                  0         ['token_output_layer[0][0]',  \n",
            " catenate)                                                           'char_output_bi_lstm_layer[0]\n",
            "                                                                    [0]']                         \n",
            "                                                                                                  \n",
            " dense_2 (Dense)             (None, 256)                  45824     ['token_char_embeddings[0][0]'\n",
            "                                                                    ]                             \n",
            "                                                                                                  \n",
            " line_num_input_layer (Inpu  [(None, 15)]                 0         []                            \n",
            " tLayer)                                                                                          \n",
            "                                                                                                  \n",
            " total_lines_input_layers (  [(None, 20)]                 0         []                            \n",
            " InputLayer)                                                                                      \n",
            "                                                                                                  \n",
            " dropout_2 (Dropout)         (None, 256)                  0         ['dense_2[0][0]']             \n",
            "                                                                                                  \n",
            " line_num_output_layer (Den  (None, 32)                   512       ['line_num_input_layer[0][0]']\n",
            " se)                                                                                              \n",
            "                                                                                                  \n",
            " total_lines_output_layers   (None, 32)                   672       ['total_lines_input_layers[0][\n",
            " (Dense)                                                            0]']                          \n",
            "                                                                                                  \n",
            " final_embeddings (Concaten  (None, 320)                  0         ['dropout_2[0][0]',           \n",
            " ate)                                                                'line_num_output_layer[0][0]'\n",
            "                                                                    , 'total_lines_output_layers[0\n",
            "                                                                    ][0]']                        \n",
            "                                                                                                  \n",
            " final_output_layer (Dense)  (None, 5)                    1605      ['final_embeddings[0][0]']    \n",
            "                                                                                                  \n",
            "==================================================================================================\n",
            "Total params: 256923001 (980.08 MB)\n",
            "Trainable params: 125177 (488.97 KB)\n",
            "Non-trainable params: 256797824 (979.61 MB)\n",
            "__________________________________________________________________________________________________\n"
          ]
        }
      ]
    },
    {
      "cell_type": "code",
      "source": [
        "plot_model(model_5, show_shapes= True)"
      ],
      "metadata": {
        "colab": {
          "base_uri": "https://localhost:8080/",
          "height": 605
        },
        "id": "EtCuCcj5xClG",
        "outputId": "9cb500d9-99de-4ed4-ef68-30c2fda35fc2"
      },
      "execution_count": 90,
      "outputs": [
        {
          "output_type": "execute_result",
          "data": {
            "image/png": "[encoded data removed]",
            "text/plain": [
              "<IPython.core.display.Image object>"
            ]
          },
          "metadata": {},
          "execution_count": 90
        }
      ]
    },
    {
      "cell_type": "markdown",
      "source": [
        "What is label smoothing?\n",
        "> If our model is too confident upon one class then it might oversee the other classes. So, label smoothing distributes the output probability to other classes just to make the model consider other models"
      ],
      "metadata": {
        "id": "p4Gh0vw7yfwV"
      }
    },
    {
      "cell_type": "code",
      "source": [
        "# Compile the model\n",
        "model_5.compile(loss= tf.keras.losses.CategoricalCrossentropy(label_smoothing= 0.2), # helps to prevent overfitting\n",
        "                optimizer= tf.keras.optimizers.Adam(),\n",
        "                metrics= ['accuracy'])"
      ],
      "metadata": {
        "id": "yCkOqkgdxLjk"
      },
      "execution_count": 91,
      "outputs": []
    },
    {
      "cell_type": "code",
      "source": [
        "# Create the dataset using tf.data API\n",
        "train_all_data = tf.data.Dataset.from_tensor_slices((train_sentences, train_chars, train_line_numbers_one_hot, train_total_lines_one_hot))\n",
        "train_all_labels = tf.data.Dataset.from_tensor_slices((train_labels_one_hot))\n",
        "train_all_dataset = tf.data.Dataset.zip(train_all_data, train_all_labels).batch(32).prefetch(tf.data.AUTOTUNE)\n",
        "val_all_data = tf.data.Dataset.from_tensor_slices((val_sentences, val_chars, val_line_numbers_one_hot, val_total_lines_one_hot))\n",
        "val_all_labels = tf.data.Dataset.from_tensor_slices(val_labels_one_hot)\n",
        "val_all_dataset = tf.data.Dataset.zip(val_all_data, val_all_labels).batch(32).prefetch(tf.data.AUTOTUNE)\n",
        "test_all_data = tf.data.Dataset.from_tensor_slices((test_sentences, test_chars, test_line_numbers_one_hot, test_total_lines_one_hot))\n",
        "test_all_labels = tf.data.Dataset.from_tensor_slices((test_labels_one_hot))\n",
        "test_all_dataset = tf.data.Dataset.zip(test_all_data, test_all_labels).batch(32).prefetch(tf.data.AUTOTUNE)\n",
        "\n",
        "train_all_dataset, val_all_dataset, test_all_dataset"
      ],
      "metadata": {
        "colab": {
          "base_uri": "https://localhost:8080/"
        },
        "id": "hTwzTlAjzYdy",
        "outputId": "d10b51bd-2828-4cbc-aaa2-2a4fc139c757"
      },
      "execution_count": 92,
      "outputs": [
        {
          "output_type": "execute_result",
          "data": {
            "text/plain": [
              "(<_PrefetchDataset element_spec=((TensorSpec(shape=(None,), dtype=tf.string, name=None), TensorSpec(shape=(None,), dtype=tf.string, name=None), TensorSpec(shape=(None, 15), dtype=tf.float32, name=None), TensorSpec(shape=(None, 20), dtype=tf.float32, name=None)), TensorSpec(shape=(None, 5), dtype=tf.float64, name=None))>,\n",
              " <_PrefetchDataset element_spec=((TensorSpec(shape=(None,), dtype=tf.string, name=None), TensorSpec(shape=(None,), dtype=tf.string, name=None), TensorSpec(shape=(None, 15), dtype=tf.float32, name=None), TensorSpec(shape=(None, 20), dtype=tf.float32, name=None)), TensorSpec(shape=(None, 5), dtype=tf.float64, name=None))>,\n",
              " <_PrefetchDataset element_spec=((TensorSpec(shape=(None,), dtype=tf.string, name=None), TensorSpec(shape=(None,), dtype=tf.string, name=None), TensorSpec(shape=(None, 15), dtype=tf.float32, name=None), TensorSpec(shape=(None, 20), dtype=tf.float32, name=None)), TensorSpec(shape=(None, 5), dtype=tf.float64, name=None))>)"
            ]
          },
          "metadata": {},
          "execution_count": 92
        }
      ]
    },
    {
      "cell_type": "code",
      "source": [
        "model_5.fit(train_all_dataset,\n",
        "            epochs= 5,\n",
        "            steps_per_epoch= int(0.1 * len(train_all_dataset)),\n",
        "            validation_data= val_all_dataset,\n",
        "            validation_steps= int(0.1 * len(val_all_dataset)))"
      ],
      "metadata": {
        "colab": {
          "base_uri": "https://localhost:8080/"
        },
        "id": "MQeQzrib2TIW",
        "outputId": "959ba8fa-dea6-4545-abd8-ef609c66b241"
      },
      "execution_count": 93,
      "outputs": [
        {
          "output_type": "stream",
          "name": "stdout",
          "text": [
            "Epoch 1/5\n",
            "562/562 [==============================] - 33s 42ms/step - loss: 1.0909 - accuracy: 0.7283 - val_loss: 0.9993 - val_accuracy: 0.7902\n",
            "Epoch 2/5\n",
            "562/562 [==============================] - 20s 35ms/step - loss: 0.9647 - accuracy: 0.8166 - val_loss: 0.9646 - val_accuracy: 0.8198\n",
            "Epoch 3/5\n",
            "562/562 [==============================] - 18s 33ms/step - loss: 0.9475 - accuracy: 0.8242 - val_loss: 0.9466 - val_accuracy: 0.8318\n",
            "Epoch 4/5\n",
            "562/562 [==============================] - 21s 37ms/step - loss: 0.9381 - accuracy: 0.8367 - val_loss: 0.9347 - val_accuracy: 0.8341\n",
            "Epoch 5/5\n",
            "562/562 [==============================] - 19s 34ms/step - loss: 0.9343 - accuracy: 0.8367 - val_loss: 0.9306 - val_accuracy: 0.8401\n"
          ]
        },
        {
          "output_type": "execute_result",
          "data": {
            "text/plain": [
              "<keras.src.callbacks.History at 0x7cfe07d27070>"
            ]
          },
          "metadata": {},
          "execution_count": 93
        }
      ]
    },
    {
      "cell_type": "code",
      "source": [
        "model_5_pred = tf.argmax(model_5.predict(val_all_dataset), axis= 1)\n",
        "model_5_pred"
      ],
      "metadata": {
        "colab": {
          "base_uri": "https://localhost:8080/"
        },
        "id": "WTvJUAGJ_4P6",
        "outputId": "3ff2503d-cc75-46e2-c9e2-538196efbf67"
      },
      "execution_count": 94,
      "outputs": [
        {
          "output_type": "stream",
          "name": "stdout",
          "text": [
            "942/942 [==============================] - 16s 14ms/step\n"
          ]
        },
        {
          "output_type": "execute_result",
          "data": {
            "text/plain": [
              "<tf.Tensor: shape=(30135,), dtype=int64, numpy=array([3, 2, 2, ..., 4, 4, 1])>"
            ]
          },
          "metadata": {},
          "execution_count": 94
        }
      ]
    },
    {
      "cell_type": "code",
      "source": [
        "model_5_results = calculate_results(val_labels_encoded,\n",
        "                                    model_5_pred)\n",
        "model_5_results"
      ],
      "metadata": {
        "colab": {
          "base_uri": "https://localhost:8080/"
        },
        "id": "lLI3YHdyAISH",
        "outputId": "79eef941-02d6-4bd1-c6aa-3a1fd6a90d29"
      },
      "execution_count": 95,
      "outputs": [
        {
          "output_type": "execute_result",
          "data": {
            "text/plain": [
              "{'accuracy': 83.7862950058072,\n",
              " 'precision': 0.8398222878210322,\n",
              " 'recall': 0.837862950058072,\n",
              " 'f1': 0.8339697258097287}"
            ]
          },
          "metadata": {},
          "execution_count": 95
        }
      ]
    },
    {
      "cell_type": "markdown",
      "source": [
        "### Comparing Model Performance"
      ],
      "metadata": {
        "id": "EB3Ky0cPCSrv"
      }
    },
    {
      "cell_type": "code",
      "source": [
        "model_all_results = pd.DataFrame([baseline_results, model_1_results, model_2_results, model_3_results, model_4_results, model_5_results], index= ['baseline', 'model_1', 'model_2', 'model_3', 'model_4', 'model_5'])\n",
        "model_all_results['accuracy'] = model_all_results['accuracy'] / 100\n",
        "model_all_results.transpose()"
      ],
      "metadata": {
        "id": "Ukn5ai2cCWFX",
        "outputId": "0badb32b-2993-4786-fd08-5a5cbabb6cb2",
        "colab": {
          "base_uri": "https://localhost:8080/",
          "height": 173
        }
      },
      "execution_count": 96,
      "outputs": [
        {
          "output_type": "execute_result",
          "data": {
            "text/plain": [
              "           baseline   model_1   model_2   model_3   model_4   model_5\n",
              "accuracy   0.716675  0.792368  0.728123  0.553211  0.737548  0.837863\n",
              "precision  0.712432  0.791130  0.724222  0.567171  0.734273  0.839822\n",
              "recall     0.716675  0.792368  0.728123  0.553211  0.737548  0.837863\n",
              "f1         0.692510  0.788891  0.722769  0.507152  0.731504  0.833970"
            ],
            "text/html": [
              "\n",
              "  <div id=\"df-4be8ea5b-5d49-4a41-821f-da6d807038be\" class=\"colab-df-container\">\n",
              "    <div>\n",
              "<style scoped>\n",
              "    .dataframe tbody tr th:only-of-type {\n",
              "        vertical-align: middle;\n",
              "    }\n",
              "\n",
              "    .dataframe tbody tr th {\n",
              "        vertical-align: top;\n",
              "    }\n",
              "\n",
              "    .dataframe thead th {\n",
              "        text-align: right;\n",
              "    }\n",
              "</style>\n",
              "<table border=\"1\" class=\"dataframe\">\n",
              "  <thead>\n",
              "    <tr style=\"text-align: right;\">\n",
              "      <th></th>\n",
              "      <th>baseline</th>\n",
              "      <th>model_1</th>\n",
              "      <th>model_2</th>\n",
              "      <th>model_3</th>\n",
              "      <th>model_4</th>\n",
              "      <th>model_5</th>\n",
              "    </tr>\n",
              "  </thead>\n",
              "  <tbody>\n",
              "    <tr>\n",
              "      <th>accuracy</th>\n",
              "      <td>0.716675</td>\n",
              "      <td>0.792368</td>\n",
              "      <td>0.728123</td>\n",
              "      <td>0.553211</td>\n",
              "      <td>0.737548</td>\n",
              "      <td>0.837863</td>\n",
              "    </tr>\n",
              "    <tr>\n",
              "      <th>precision</th>\n",
              "      <td>0.712432</td>\n",
              "      <td>0.791130</td>\n",
              "      <td>0.724222</td>\n",
              "      <td>0.567171</td>\n",
              "      <td>0.734273</td>\n",
              "      <td>0.839822</td>\n",
              "    </tr>\n",
              "    <tr>\n",
              "      <th>recall</th>\n",
              "      <td>0.716675</td>\n",
              "      <td>0.792368</td>\n",
              "      <td>0.728123</td>\n",
              "      <td>0.553211</td>\n",
              "      <td>0.737548</td>\n",
              "      <td>0.837863</td>\n",
              "    </tr>\n",
              "    <tr>\n",
              "      <th>f1</th>\n",
              "      <td>0.692510</td>\n",
              "      <td>0.788891</td>\n",
              "      <td>0.722769</td>\n",
              "      <td>0.507152</td>\n",
              "      <td>0.731504</td>\n",
              "      <td>0.833970</td>\n",
              "    </tr>\n",
              "  </tbody>\n",
              "</table>\n",
              "</div>\n",
              "    <div class=\"colab-df-buttons\">\n",
              "\n",
              "  <div class=\"colab-df-container\">\n",
              "    <button class=\"colab-df-convert\" onclick=\"convertToInteractive('df-4be8ea5b-5d49-4a41-821f-da6d807038be')\"\n",
              "            title=\"Convert this dataframe to an interactive table.\"\n",
              "            style=\"display:none;\">\n",
              "\n",
              "  <svg xmlns=\"http://www.w3.org/2000/svg\" height=\"24px\" viewBox=\"0 -960 960 960\">\n",
              "    <path d=\"M120-120v-720h720v720H120Zm60-500h600v-160H180v160Zm220 220h160v-160H400v160Zm0 220h160v-160H400v160ZM180-400h160v-160H180v160Zm440 0h160v-160H620v160ZM180-180h160v-160H180v160Zm440 0h160v-160H620v160Z\"/>\n",
              "  </svg>\n",
              "    </button>\n",
              "\n",
              "  <style>\n",
              "    .colab-df-container {\n",
              "      display:flex;\n",
              "      gap: 12px;\n",
              "    }\n",
              "\n",
              "    .colab-df-convert {\n",
              "      background-color: #E8F0FE;\n",
              "      border: none;\n",
              "      border-radius: 50%;\n",
              "      cursor: pointer;\n",
              "      display: none;\n",
              "      fill: #1967D2;\n",
              "      height: 32px;\n",
              "      padding: 0 0 0 0;\n",
              "      width: 32px;\n",
              "    }\n",
              "\n",
              "    .colab-df-convert:hover {\n",
              "      background-color: #E2EBFA;\n",
              "      box-shadow: 0px 1px 2px rgba(60, 64, 67, 0.3), 0px 1px 3px 1px rgba(60, 64, 67, 0.15);\n",
              "      fill: #174EA6;\n",
              "    }\n",
              "\n",
              "    .colab-df-buttons div {\n",
              "      margin-bottom: 4px;\n",
              "    }\n",
              "\n",
              "    [theme=dark] .colab-df-convert {\n",
              "      background-color: #3B4455;\n",
              "      fill: #D2E3FC;\n",
              "    }\n",
              "\n",
              "    [theme=dark] .colab-df-convert:hover {\n",
              "      background-color: #434B5C;\n",
              "      box-shadow: 0px 1px 3px 1px rgba(0, 0, 0, 0.15);\n",
              "      filter: drop-shadow(0px 1px 2px rgba(0, 0, 0, 0.3));\n",
              "      fill: #FFFFFF;\n",
              "    }\n",
              "  </style>\n",
              "\n",
              "    <script>\n",
              "      const buttonEl =\n",
              "        document.querySelector('#df-4be8ea5b-5d49-4a41-821f-da6d807038be button.colab-df-convert');\n",
              "      buttonEl.style.display =\n",
              "        google.colab.kernel.accessAllowed ? 'block' : 'none';\n",
              "\n",
              "      async function convertToInteractive(key) {\n",
              "        const element = document.querySelector('#df-4be8ea5b-5d49-4a41-821f-da6d807038be');\n",
              "        const dataTable =\n",
              "          await google.colab.kernel.invokeFunction('convertToInteractive',\n",
              "                                                    [key], {});\n",
              "        if (!dataTable) return;\n",
              "\n",
              "        const docLinkHtml = 'Like what you see? Visit the ' +\n",
              "          '<a target=\"_blank\" href=https://colab.research.google.com/notebooks/data_table.ipynb>data table notebook</a>'\n",
              "          + ' to learn more about interactive tables.';\n",
              "        element.innerHTML = '';\n",
              "        dataTable['output_type'] = 'display_data';\n",
              "        await google.colab.output.renderOutput(dataTable, element);\n",
              "        const docLink = document.createElement('div');\n",
              "        docLink.innerHTML = docLinkHtml;\n",
              "        element.appendChild(docLink);\n",
              "      }\n",
              "    </script>\n",
              "  </div>\n",
              "\n",
              "\n",
              "<div id=\"df-5a6e5ec9-3c4a-4411-9af9-c158bac206e8\">\n",
              "  <button class=\"colab-df-quickchart\" onclick=\"quickchart('df-5a6e5ec9-3c4a-4411-9af9-c158bac206e8')\"\n",
              "            title=\"Suggest charts\"\n",
              "            style=\"display:none;\">\n",
              "\n",
              "<svg xmlns=\"http://www.w3.org/2000/svg\" height=\"24px\"viewBox=\"0 0 24 24\"\n",
              "     width=\"24px\">\n",
              "    <g>\n",
              "        <path d=\"M19 3H5c-1.1 0-2 .9-2 2v14c0 1.1.9 2 2 2h14c1.1 0 2-.9 2-2V5c0-1.1-.9-2-2-2zM9 17H7v-7h2v7zm4 0h-2V7h2v10zm4 0h-2v-4h2v4z\"/>\n",
              "    </g>\n",
              "</svg>\n",
              "  </button>\n",
              "\n",
              "<style>\n",
              "  .colab-df-quickchart {\n",
              "      --bg-color: #E8F0FE;\n",
              "      --fill-color: #1967D2;\n",
              "      --hover-bg-color: #E2EBFA;\n",
              "      --hover-fill-color: #174EA6;\n",
              "      --disabled-fill-color: #AAA;\n",
              "      --disabled-bg-color: #DDD;\n",
              "  }\n",
              "\n",
              "  [theme=dark] .colab-df-quickchart {\n",
              "      --bg-color: #3B4455;\n",
              "      --fill-color: #D2E3FC;\n",
              "      --hover-bg-color: #434B5C;\n",
              "      --hover-fill-color: #FFFFFF;\n",
              "      --disabled-bg-color: #3B4455;\n",
              "      --disabled-fill-color: #666;\n",
              "  }\n",
              "\n",
              "  .colab-df-quickchart {\n",
              "    background-color: var(--bg-color);\n",
              "    border: none;\n",
              "    border-radius: 50%;\n",
              "    cursor: pointer;\n",
              "    display: none;\n",
              "    fill: var(--fill-color);\n",
              "    height: 32px;\n",
              "    padding: 0;\n",
              "    width: 32px;\n",
              "  }\n",
              "\n",
              "  .colab-df-quickchart:hover {\n",
              "    background-color: var(--hover-bg-color);\n",
              "    box-shadow: 0 1px 2px rgba(60, 64, 67, 0.3), 0 1px 3px 1px rgba(60, 64, 67, 0.15);\n",
              "    fill: var(--button-hover-fill-color);\n",
              "  }\n",
              "\n",
              "  .colab-df-quickchart-complete:disabled,\n",
              "  .colab-df-quickchart-complete:disabled:hover {\n",
              "    background-color: var(--disabled-bg-color);\n",
              "    fill: var(--disabled-fill-color);\n",
              "    box-shadow: none;\n",
              "  }\n",
              "\n",
              "  .colab-df-spinner {\n",
              "    border: 2px solid var(--fill-color);\n",
              "    border-color: transparent;\n",
              "    border-bottom-color: var(--fill-color);\n",
              "    animation:\n",
              "      spin 1s steps(1) infinite;\n",
              "  }\n",
              "\n",
              "  @keyframes spin {\n",
              "    0% {\n",
              "      border-color: transparent;\n",
              "      border-bottom-color: var(--fill-color);\n",
              "      border-left-color: var(--fill-color);\n",
              "    }\n",
              "    20% {\n",
              "      border-color: transparent;\n",
              "      border-left-color: var(--fill-color);\n",
              "      border-top-color: var(--fill-color);\n",
              "    }\n",
              "    30% {\n",
              "      border-color: transparent;\n",
              "      border-left-color: var(--fill-color);\n",
              "      border-top-color: var(--fill-color);\n",
              "      border-right-color: var(--fill-color);\n",
              "    }\n",
              "    40% {\n",
              "      border-color: transparent;\n",
              "      border-right-color: var(--fill-color);\n",
              "      border-top-color: var(--fill-color);\n",
              "    }\n",
              "    60% {\n",
              "      border-color: transparent;\n",
              "      border-right-color: var(--fill-color);\n",
              "    }\n",
              "    80% {\n",
              "      border-color: transparent;\n",
              "      border-right-color: var(--fill-color);\n",
              "      border-bottom-color: var(--fill-color);\n",
              "    }\n",
              "    90% {\n",
              "      border-color: transparent;\n",
              "      border-bottom-color: var(--fill-color);\n",
              "    }\n",
              "  }\n",
              "</style>\n",
              "\n",
              "  <script>\n",
              "    async function quickchart(key) {\n",
              "      const quickchartButtonEl =\n",
              "        document.querySelector('#' + key + ' button');\n",
              "      quickchartButtonEl.disabled = true;  // To prevent multiple clicks.\n",
              "      quickchartButtonEl.classList.add('colab-df-spinner');\n",
              "      try {\n",
              "        const charts = await google.colab.kernel.invokeFunction(\n",
              "            'suggestCharts', [key], {});\n",
              "      } catch (error) {\n",
              "        console.error('Error during call to suggestCharts:', error);\n",
              "      }\n",
              "      quickchartButtonEl.classList.remove('colab-df-spinner');\n",
              "      quickchartButtonEl.classList.add('colab-df-quickchart-complete');\n",
              "    }\n",
              "    (() => {\n",
              "      let quickchartButtonEl =\n",
              "        document.querySelector('#df-5a6e5ec9-3c4a-4411-9af9-c158bac206e8 button');\n",
              "      quickchartButtonEl.style.display =\n",
              "        google.colab.kernel.accessAllowed ? 'block' : 'none';\n",
              "    })();\n",
              "  </script>\n",
              "</div>\n",
              "\n",
              "    </div>\n",
              "  </div>\n"
            ],
            "application/vnd.google.colaboratory.intrinsic+json": {
              "type": "dataframe",
              "summary": "{\n  \"name\": \"model_all_results\",\n  \"rows\": 4,\n  \"fields\": [\n    {\n      \"column\": \"baseline\",\n      \"properties\": {\n        \"dtype\": \"number\",\n        \"std\": 0.01154976482266348,\n        \"min\": 0.6925101703856846,\n        \"max\": 0.716674962667994,\n        \"num_unique_values\": 3,\n        \"samples\": [\n          0.716674962667994,\n          0.7124322482375202,\n          0.6925101703856846\n        ],\n        \"semantic_type\": \"\",\n        \"description\": \"\"\n      }\n    },\n    {\n      \"column\": \"model_1\",\n      \"properties\": {\n        \"dtype\": \"number\",\n        \"std\": 0.001639620090097112,\n        \"min\": 0.7888905100625141,\n        \"max\": 0.7923676787788287,\n        \"num_unique_values\": 4,\n        \"samples\": [\n          0.7911303586127434,\n          0.7888905100625141,\n          0.7923676787788287\n        ],\n        \"semantic_type\": \"\",\n        \"description\": \"\"\n      }\n    },\n    {\n      \"column\": \"model_2\",\n      \"properties\": {\n        \"dtype\": \"number\",\n        \"std\": 0.00273702778277166,\n        \"min\": 0.7227688536826511,\n        \"max\": 0.7281234444997512,\n        \"num_unique_values\": 4,\n        \"samples\": [\n          0.7242221264043358,\n          0.7227688536826511,\n          0.7281234444997512\n        ],\n        \"semantic_type\": \"\",\n        \"description\": \"\"\n      }\n    },\n    {\n      \"column\": \"model_3\",\n      \"properties\": {\n        \"dtype\": \"number\",\n        \"std\": 0.026196202317640475,\n        \"min\": 0.5071516755943412,\n        \"max\": 0.5671706839546795,\n        \"num_unique_values\": 3,\n        \"samples\": [\n          0.5532105525136884,\n          0.5671706839546795,\n          0.5071516755943412\n        ],\n        \"semantic_type\": \"\",\n        \"description\": \"\"\n      }\n    },\n    {\n      \"column\": \"model_4\",\n      \"properties\": {\n        \"dtype\": \"number\",\n        \"std\": 0.0029179071412368486,\n        \"min\": 0.7315039517418926,\n        \"max\": 0.7375477020076323,\n        \"num_unique_values\": 3,\n        \"samples\": [\n          0.7375477020076323,\n          0.7342728180545983,\n          0.7315039517418926\n        ],\n        \"semantic_type\": \"\",\n        \"description\": \"\"\n      }\n    },\n    {\n      \"column\": \"model_5\",\n      \"properties\": {\n        \"dtype\": \"number\",\n        \"std\": 0.002453651719557549,\n        \"min\": 0.8339697258097287,\n        \"max\": 0.8398222878210322,\n        \"num_unique_values\": 4,\n        \"samples\": [\n          0.8398222878210322,\n          0.8339697258097287,\n          0.8378629500580721\n        ],\n        \"semantic_type\": \"\",\n        \"description\": \"\"\n      }\n    }\n  ]\n}"
            }
          },
          "metadata": {},
          "execution_count": 96
        }
      ]
    },
    {
      "cell_type": "code",
      "source": [
        "model_all_results.plot.bar().legend(bbox_to_anchor= (1.0, 1.0))"
      ],
      "metadata": {
        "id": "6w9R-ST0D5Ij",
        "outputId": "37219875-b29f-4e74-e729-a0c75964900f",
        "colab": {
          "base_uri": "https://localhost:8080/",
          "height": 492
        }
      },
      "execution_count": 97,
      "outputs": [
        {
          "output_type": "execute_result",
          "data": {
            "text/plain": [
              "<Axes: >"
            ]
          },
          "metadata": {},
          "execution_count": 97
        },
        {
          "output_type": "display_data",
          "data": {
            "text/plain": [
              "<Figure size 640x480 with 1 Axes>"
            ],
            "image/png": "[encoded data removed]"
          },
          "metadata": {}
        }
      ]
    },
    {
      "cell_type": "code",
      "source": [
        "model_all_results['f1'].sort_values(ascending= False).plot.bar()"
      ],
      "metadata": {
        "id": "2nkDxvWrFPUs",
        "outputId": "cd386ab2-88fa-4a95-f635-6cdbf46329ea",
        "colab": {
          "base_uri": "https://localhost:8080/",
          "height": 492
        }
      },
      "execution_count": 98,
      "outputs": [
        {
          "output_type": "execute_result",
          "data": {
            "text/plain": [
              "<Axes: >"
            ]
          },
          "metadata": {},
          "execution_count": 98
        },
        {
          "output_type": "display_data",
          "data": {
            "text/plain": [
              "<Figure size 640x480 with 1 Axes>"
            ],
            "image/png": "[encoded data removed]"
          },
          "metadata": {}
        }
      ]
    },
    {
      "cell_type": "markdown",
      "source": [
        "## Save the model to file"
      ],
      "metadata": {
        "id": "-PVTgE19Ci3I"
      }
    },
    {
      "cell_type": "code",
      "source": [
        "model_5.save('best_skimlit_model')"
      ],
      "metadata": {
        "id": "AprYkDtQClvi"
      },
      "execution_count": 100,
      "outputs": []
    },
    {
      "cell_type": "markdown",
      "source": [
        "## Load the model and check its performance"
      ],
      "metadata": {
        "id": "oo9wzHkEDjE3"
      }
    },
    {
      "cell_type": "code",
      "source": [
        "loaded_model = tf.keras.models.load_model('best_skimlit_model')"
      ],
      "metadata": {
        "id": "PGnK4CpnDl21"
      },
      "execution_count": 102,
      "outputs": []
    },
    {
      "cell_type": "code",
      "source": [
        "# Making performance and checking it with the calculated results\n",
        "loaded_model_pred = tf.argmax(loaded_model.predict(val_all_dataset), axis= 1)\n",
        "loaded_model_results = calculate_results(val_labels_encoded, loaded_model_pred)\n",
        "loaded_model_results"
      ],
      "metadata": {
        "colab": {
          "base_uri": "https://localhost:8080/"
        },
        "id": "q_ucMT2PDtBD",
        "outputId": "b11aca86-9a55-40e6-9994-30e90bc93f26"
      },
      "execution_count": 105,
      "outputs": [
        {
          "output_type": "stream",
          "name": "stdout",
          "text": [
            "942/942 [==============================] - 14s 14ms/step\n"
          ]
        },
        {
          "output_type": "execute_result",
          "data": {
            "text/plain": [
              "{'accuracy': 83.7862950058072,\n",
              " 'precision': 0.8398222878210322,\n",
              " 'recall': 0.837862950058072,\n",
              " 'f1': 0.8339697258097287}"
            ]
          },
          "metadata": {},
          "execution_count": 105
        }
      ]
    },
    {
      "cell_type": "code",
      "source": [
        "model_5_results"
      ],
      "metadata": {
        "colab": {
          "base_uri": "https://localhost:8080/"
        },
        "id": "bXiwnRRzFatm",
        "outputId": "5a954947-e613-4cbb-b03c-758781744925"
      },
      "execution_count": 106,
      "outputs": [
        {
          "output_type": "execute_result",
          "data": {
            "text/plain": [
              "{'accuracy': 83.7862950058072,\n",
              " 'precision': 0.8398222878210322,\n",
              " 'recall': 0.837862950058072,\n",
              " 'f1': 0.8339697258097287}"
            ]
          },
          "metadata": {},
          "execution_count": 106
        }
      ]
    },
    {
      "cell_type": "markdown",
      "source": [
        "## Challenges\n",
        "\n",
        "1. Turn the test dataset into tf.data.Dataset and then evaluate using the best performing model.\n",
        "2. Find the most wrong predictions.\n",
        "3. Try on other unseen data\n",
        "4. See the exercises from the github repo"
      ],
      "metadata": {
        "id": "6I-WqU-KFzW2"
      }
    },
    {
      "cell_type": "code",
      "source": [
        "test_all_dataset, test_labels_encoded"
      ],
      "metadata": {
        "colab": {
          "base_uri": "https://localhost:8080/"
        },
        "id": "PCNSIT1jHyKX",
        "outputId": "876d389a-88ab-4e08-925b-82fd76171e58"
      },
      "execution_count": 108,
      "outputs": [
        {
          "output_type": "execute_result",
          "data": {
            "text/plain": [
              "(<_PrefetchDataset element_spec=((TensorSpec(shape=(None,), dtype=tf.string, name=None), TensorSpec(shape=(None,), dtype=tf.string, name=None), TensorSpec(shape=(None, 15), dtype=tf.float32, name=None), TensorSpec(shape=(None, 20), dtype=tf.float32, name=None)), TensorSpec(shape=(None, 5), dtype=tf.float64, name=None))>,\n",
              " array([0, 0, 3, ..., 4, 1, 1]))"
            ]
          },
          "metadata": {},
          "execution_count": 108
        }
      ]
    },
    {
      "cell_type": "code",
      "source": [
        "loaded_model_test_probs = loaded_model.predict(test_all_dataset)\n",
        "loaded_model_test_pred = tf.argmax(loaded_model_test_probs, axis= 1)\n",
        "loaded_model_test_pred[:10]"
      ],
      "metadata": {
        "colab": {
          "base_uri": "https://localhost:8080/"
        },
        "id": "bAAE_NwtH4mJ",
        "outputId": "cdc48321-61e5-44af-cbc2-6179b6d90e2d"
      },
      "execution_count": 133,
      "outputs": [
        {
          "output_type": "stream",
          "name": "stdout",
          "text": [
            "945/945 [==============================] - 14s 14ms/step\n"
          ]
        },
        {
          "output_type": "execute_result",
          "data": {
            "text/plain": [
              "<tf.Tensor: shape=(10,), dtype=int64, numpy=array([0, 0, 0, 2, 2, 2, 4, 4, 4, 1])>"
            ]
          },
          "metadata": {},
          "execution_count": 133
        }
      ]
    },
    {
      "cell_type": "code",
      "source": [
        "loaded_model_test_pred.numpy()"
      ],
      "metadata": {
        "id": "fGJykpXIqcI5",
        "outputId": "0bd3dd6f-2399-43e1-fe47-6077f07eae8e",
        "colab": {
          "base_uri": "https://localhost:8080/"
        }
      },
      "execution_count": 138,
      "outputs": [
        {
          "output_type": "execute_result",
          "data": {
            "text/plain": [
              "(30212,)"
            ]
          },
          "metadata": {},
          "execution_count": 138
        }
      ]
    },
    {
      "cell_type": "code",
      "source": [
        "loaded_model_test_probs = tf.reduce_max(loaded_model_test_probs, axis= 1)\n",
        "loaded_model_test_probs.numpy()"
      ],
      "metadata": {
        "colab": {
          "base_uri": "https://localhost:8080/"
        },
        "id": "Gd6PuwoYJz41",
        "outputId": "ee8eaaea-6aed-4cd7-9247-761471261bb4"
      },
      "execution_count": 135,
      "outputs": [
        {
          "output_type": "execute_result",
          "data": {
            "text/plain": [
              "array([0.60478115, 0.62610346, 0.3840679 , ..., 0.8574855 , 0.4944061 ,\n",
              "       0.6338953 ], dtype=float32)"
            ]
          },
          "metadata": {},
          "execution_count": 135
        }
      ]
    },
    {
      "cell_type": "code",
      "source": [
        "# Creating a dataframe to analyse\n",
        "test_pred_analysis = pd.DataFrame({\n",
        "    'test_sentences': test_sentences,\n",
        "    'test_labels': test_labels_encoded,\n",
        "    'pred_labels': loaded_model_test_pred.numpy(),\n",
        "    'pred_probability': loaded_model_test_probs.numpy()\n",
        "})\n",
        "\n",
        "test_pred_analysis"
      ],
      "metadata": {
        "colab": {
          "base_uri": "https://localhost:8080/",
          "height": 419
        },
        "id": "afkyRx2yICcN",
        "outputId": "b252cda6-02a9-4670-89ec-34153c0d5066"
      },
      "execution_count": 139,
      "outputs": [
        {
          "output_type": "execute_result",
          "data": {
            "text/plain": [
              "                                          test_sentences  test_labels  \\\n",
              "0      ige sensitization to aspergillus fumigatus and...            0   \n",
              "1      it is not clear whether these patients would b...            0   \n",
              "2      we sought to determine whether a @-month cours...            3   \n",
              "3      asthmatic patients who were ige sensitized to ...            2   \n",
              "4      primary outcomes were improvement in quality o...            2   \n",
              "...                                                  ...          ...   \n",
              "30207  pruritus occurred more frequently with the act...            4   \n",
              "30208  three patients in the active-regimen group ( @...            4   \n",
              "30209  hemoglobin values of grade @ ( @ to < @ g per ...            4   \n",
              "30210  rates of response to a @-week interferon-free ...            1   \n",
              "30211  ( funded by abbvie ; sapphire-ii clinicaltrial...            1   \n",
              "\n",
              "       pred_labels  pred_probability  \n",
              "0                0          0.604781  \n",
              "1                0          0.626103  \n",
              "2                0          0.384068  \n",
              "3                2          0.814134  \n",
              "4                2          0.844175  \n",
              "...            ...               ...  \n",
              "30207            4          0.755505  \n",
              "30208            4          0.782822  \n",
              "30209            4          0.857485  \n",
              "30210            4          0.494406  \n",
              "30211            1          0.633895  \n",
              "\n",
              "[30212 rows x 4 columns]"
            ],
            "text/html": [
              "\n",
              "  <div id=\"df-790c4f1c-92e8-4bd6-9ddc-6ec4862401b9\" class=\"colab-df-container\">\n",
              "    <div>\n",
              "<style scoped>\n",
              "    .dataframe tbody tr th:only-of-type {\n",
              "        vertical-align: middle;\n",
              "    }\n",
              "\n",
              "    .dataframe tbody tr th {\n",
              "        vertical-align: top;\n",
              "    }\n",
              "\n",
              "    .dataframe thead th {\n",
              "        text-align: right;\n",
              "    }\n",
              "</style>\n",
              "<table border=\"1\" class=\"dataframe\">\n",
              "  <thead>\n",
              "    <tr style=\"text-align: right;\">\n",
              "      <th></th>\n",
              "      <th>test_sentences</th>\n",
              "      <th>test_labels</th>\n",
              "      <th>pred_labels</th>\n",
              "      <th>pred_probability</th>\n",
              "    </tr>\n",
              "  </thead>\n",
              "  <tbody>\n",
              "    <tr>\n",
              "      <th>0</th>\n",
              "      <td>ige sensitization to aspergillus fumigatus and...</td>\n",
              "      <td>0</td>\n",
              "      <td>0</td>\n",
              "      <td>0.604781</td>\n",
              "    </tr>\n",
              "    <tr>\n",
              "      <th>1</th>\n",
              "      <td>it is not clear whether these patients would b...</td>\n",
              "      <td>0</td>\n",
              "      <td>0</td>\n",
              "      <td>0.626103</td>\n",
              "    </tr>\n",
              "    <tr>\n",
              "      <th>2</th>\n",
              "      <td>we sought to determine whether a @-month cours...</td>\n",
              "      <td>3</td>\n",
              "      <td>0</td>\n",
              "      <td>0.384068</td>\n",
              "    </tr>\n",
              "    <tr>\n",
              "      <th>3</th>\n",
              "      <td>asthmatic patients who were ige sensitized to ...</td>\n",
              "      <td>2</td>\n",
              "      <td>2</td>\n",
              "      <td>0.814134</td>\n",
              "    </tr>\n",
              "    <tr>\n",
              "      <th>4</th>\n",
              "      <td>primary outcomes were improvement in quality o...</td>\n",
              "      <td>2</td>\n",
              "      <td>2</td>\n",
              "      <td>0.844175</td>\n",
              "    </tr>\n",
              "    <tr>\n",
              "      <th>...</th>\n",
              "      <td>...</td>\n",
              "      <td>...</td>\n",
              "      <td>...</td>\n",
              "      <td>...</td>\n",
              "    </tr>\n",
              "    <tr>\n",
              "      <th>30207</th>\n",
              "      <td>pruritus occurred more frequently with the act...</td>\n",
              "      <td>4</td>\n",
              "      <td>4</td>\n",
              "      <td>0.755505</td>\n",
              "    </tr>\n",
              "    <tr>\n",
              "      <th>30208</th>\n",
              "      <td>three patients in the active-regimen group ( @...</td>\n",
              "      <td>4</td>\n",
              "      <td>4</td>\n",
              "      <td>0.782822</td>\n",
              "    </tr>\n",
              "    <tr>\n",
              "      <th>30209</th>\n",
              "      <td>hemoglobin values of grade @ ( @ to &lt; @ g per ...</td>\n",
              "      <td>4</td>\n",
              "      <td>4</td>\n",
              "      <td>0.857485</td>\n",
              "    </tr>\n",
              "    <tr>\n",
              "      <th>30210</th>\n",
              "      <td>rates of response to a @-week interferon-free ...</td>\n",
              "      <td>1</td>\n",
              "      <td>4</td>\n",
              "      <td>0.494406</td>\n",
              "    </tr>\n",
              "    <tr>\n",
              "      <th>30211</th>\n",
              "      <td>( funded by abbvie ; sapphire-ii clinicaltrial...</td>\n",
              "      <td>1</td>\n",
              "      <td>1</td>\n",
              "      <td>0.633895</td>\n",
              "    </tr>\n",
              "  </tbody>\n",
              "</table>\n",
              "<p>30212 rows × 4 columns</p>\n",
              "</div>\n",
              "    <div class=\"colab-df-buttons\">\n",
              "\n",
              "  <div class=\"colab-df-container\">\n",
              "    <button class=\"colab-df-convert\" onclick=\"convertToInteractive('df-790c4f1c-92e8-4bd6-9ddc-6ec4862401b9')\"\n",
              "            title=\"Convert this dataframe to an interactive table.\"\n",
              "            style=\"display:none;\">\n",
              "\n",
              "  <svg xmlns=\"http://www.w3.org/2000/svg\" height=\"24px\" viewBox=\"0 -960 960 960\">\n",
              "    <path d=\"M120-120v-720h720v720H120Zm60-500h600v-160H180v160Zm220 220h160v-160H400v160Zm0 220h160v-160H400v160ZM180-400h160v-160H180v160Zm440 0h160v-160H620v160ZM180-180h160v-160H180v160Zm440 0h160v-160H620v160Z\"/>\n",
              "  </svg>\n",
              "    </button>\n",
              "\n",
              "  <style>\n",
              "    .colab-df-container {\n",
              "      display:flex;\n",
              "      gap: 12px;\n",
              "    }\n",
              "\n",
              "    .colab-df-convert {\n",
              "      background-color: #E8F0FE;\n",
              "      border: none;\n",
              "      border-radius: 50%;\n",
              "      cursor: pointer;\n",
              "      display: none;\n",
              "      fill: #1967D2;\n",
              "      height: 32px;\n",
              "      padding: 0 0 0 0;\n",
              "      width: 32px;\n",
              "    }\n",
              "\n",
              "    .colab-df-convert:hover {\n",
              "      background-color: #E2EBFA;\n",
              "      box-shadow: 0px 1px 2px rgba(60, 64, 67, 0.3), 0px 1px 3px 1px rgba(60, 64, 67, 0.15);\n",
              "      fill: #174EA6;\n",
              "    }\n",
              "\n",
              "    .colab-df-buttons div {\n",
              "      margin-bottom: 4px;\n",
              "    }\n",
              "\n",
              "    [theme=dark] .colab-df-convert {\n",
              "      background-color: #3B4455;\n",
              "      fill: #D2E3FC;\n",
              "    }\n",
              "\n",
              "    [theme=dark] .colab-df-convert:hover {\n",
              "      background-color: #434B5C;\n",
              "      box-shadow: 0px 1px 3px 1px rgba(0, 0, 0, 0.15);\n",
              "      filter: drop-shadow(0px 1px 2px rgba(0, 0, 0, 0.3));\n",
              "      fill: #FFFFFF;\n",
              "    }\n",
              "  </style>\n",
              "\n",
              "    <script>\n",
              "      const buttonEl =\n",
              "        document.querySelector('#df-790c4f1c-92e8-4bd6-9ddc-6ec4862401b9 button.colab-df-convert');\n",
              "      buttonEl.style.display =\n",
              "        google.colab.kernel.accessAllowed ? 'block' : 'none';\n",
              "\n",
              "      async function convertToInteractive(key) {\n",
              "        const element = document.querySelector('#df-790c4f1c-92e8-4bd6-9ddc-6ec4862401b9');\n",
              "        const dataTable =\n",
              "          await google.colab.kernel.invokeFunction('convertToInteractive',\n",
              "                                                    [key], {});\n",
              "        if (!dataTable) return;\n",
              "\n",
              "        const docLinkHtml = 'Like what you see? Visit the ' +\n",
              "          '<a target=\"_blank\" href=https://colab.research.google.com/notebooks/data_table.ipynb>data table notebook</a>'\n",
              "          + ' to learn more about interactive tables.';\n",
              "        element.innerHTML = '';\n",
              "        dataTable['output_type'] = 'display_data';\n",
              "        await google.colab.output.renderOutput(dataTable, element);\n",
              "        const docLink = document.createElement('div');\n",
              "        docLink.innerHTML = docLinkHtml;\n",
              "        element.appendChild(docLink);\n",
              "      }\n",
              "    </script>\n",
              "  </div>\n",
              "\n",
              "\n",
              "<div id=\"df-a46aab8b-74d5-4a60-a6be-7e2bf708bd28\">\n",
              "  <button class=\"colab-df-quickchart\" onclick=\"quickchart('df-a46aab8b-74d5-4a60-a6be-7e2bf708bd28')\"\n",
              "            title=\"Suggest charts\"\n",
              "            style=\"display:none;\">\n",
              "\n",
              "<svg xmlns=\"http://www.w3.org/2000/svg\" height=\"24px\"viewBox=\"0 0 24 24\"\n",
              "     width=\"24px\">\n",
              "    <g>\n",
              "        <path d=\"M19 3H5c-1.1 0-2 .9-2 2v14c0 1.1.9 2 2 2h14c1.1 0 2-.9 2-2V5c0-1.1-.9-2-2-2zM9 17H7v-7h2v7zm4 0h-2V7h2v10zm4 0h-2v-4h2v4z\"/>\n",
              "    </g>\n",
              "</svg>\n",
              "  </button>\n",
              "\n",
              "<style>\n",
              "  .colab-df-quickchart {\n",
              "      --bg-color: #E8F0FE;\n",
              "      --fill-color: #1967D2;\n",
              "      --hover-bg-color: #E2EBFA;\n",
              "      --hover-fill-color: #174EA6;\n",
              "      --disabled-fill-color: #AAA;\n",
              "      --disabled-bg-color: #DDD;\n",
              "  }\n",
              "\n",
              "  [theme=dark] .colab-df-quickchart {\n",
              "      --bg-color: #3B4455;\n",
              "      --fill-color: #D2E3FC;\n",
              "      --hover-bg-color: #434B5C;\n",
              "      --hover-fill-color: #FFFFFF;\n",
              "      --disabled-bg-color: #3B4455;\n",
              "      --disabled-fill-color: #666;\n",
              "  }\n",
              "\n",
              "  .colab-df-quickchart {\n",
              "    background-color: var(--bg-color);\n",
              "    border: none;\n",
              "    border-radius: 50%;\n",
              "    cursor: pointer;\n",
              "    display: none;\n",
              "    fill: var(--fill-color);\n",
              "    height: 32px;\n",
              "    padding: 0;\n",
              "    width: 32px;\n",
              "  }\n",
              "\n",
              "  .colab-df-quickchart:hover {\n",
              "    background-color: var(--hover-bg-color);\n",
              "    box-shadow: 0 1px 2px rgba(60, 64, 67, 0.3), 0 1px 3px 1px rgba(60, 64, 67, 0.15);\n",
              "    fill: var(--button-hover-fill-color);\n",
              "  }\n",
              "\n",
              "  .colab-df-quickchart-complete:disabled,\n",
              "  .colab-df-quickchart-complete:disabled:hover {\n",
              "    background-color: var(--disabled-bg-color);\n",
              "    fill: var(--disabled-fill-color);\n",
              "    box-shadow: none;\n",
              "  }\n",
              "\n",
              "  .colab-df-spinner {\n",
              "    border: 2px solid var(--fill-color);\n",
              "    border-color: transparent;\n",
              "    border-bottom-color: var(--fill-color);\n",
              "    animation:\n",
              "      spin 1s steps(1) infinite;\n",
              "  }\n",
              "\n",
              "  @keyframes spin {\n",
              "    0% {\n",
              "      border-color: transparent;\n",
              "      border-bottom-color: var(--fill-color);\n",
              "      border-left-color: var(--fill-color);\n",
              "    }\n",
              "    20% {\n",
              "      border-color: transparent;\n",
              "      border-left-color: var(--fill-color);\n",
              "      border-top-color: var(--fill-color);\n",
              "    }\n",
              "    30% {\n",
              "      border-color: transparent;\n",
              "      border-left-color: var(--fill-color);\n",
              "      border-top-color: var(--fill-color);\n",
              "      border-right-color: var(--fill-color);\n",
              "    }\n",
              "    40% {\n",
              "      border-color: transparent;\n",
              "      border-right-color: var(--fill-color);\n",
              "      border-top-color: var(--fill-color);\n",
              "    }\n",
              "    60% {\n",
              "      border-color: transparent;\n",
              "      border-right-color: var(--fill-color);\n",
              "    }\n",
              "    80% {\n",
              "      border-color: transparent;\n",
              "      border-right-color: var(--fill-color);\n",
              "      border-bottom-color: var(--fill-color);\n",
              "    }\n",
              "    90% {\n",
              "      border-color: transparent;\n",
              "      border-bottom-color: var(--fill-color);\n",
              "    }\n",
              "  }\n",
              "</style>\n",
              "\n",
              "  <script>\n",
              "    async function quickchart(key) {\n",
              "      const quickchartButtonEl =\n",
              "        document.querySelector('#' + key + ' button');\n",
              "      quickchartButtonEl.disabled = true;  // To prevent multiple clicks.\n",
              "      quickchartButtonEl.classList.add('colab-df-spinner');\n",
              "      try {\n",
              "        const charts = await google.colab.kernel.invokeFunction(\n",
              "            'suggestCharts', [key], {});\n",
              "      } catch (error) {\n",
              "        console.error('Error during call to suggestCharts:', error);\n",
              "      }\n",
              "      quickchartButtonEl.classList.remove('colab-df-spinner');\n",
              "      quickchartButtonEl.classList.add('colab-df-quickchart-complete');\n",
              "    }\n",
              "    (() => {\n",
              "      let quickchartButtonEl =\n",
              "        document.querySelector('#df-a46aab8b-74d5-4a60-a6be-7e2bf708bd28 button');\n",
              "      quickchartButtonEl.style.display =\n",
              "        google.colab.kernel.accessAllowed ? 'block' : 'none';\n",
              "    })();\n",
              "  </script>\n",
              "</div>\n",
              "\n",
              "  <div id=\"id_185bdb61-5de1-4831-a72a-61b57f867163\">\n",
              "    <style>\n",
              "      .colab-df-generate {\n",
              "        background-color: #E8F0FE;\n",
              "        border: none;\n",
              "        border-radius: 50%;\n",
              "        cursor: pointer;\n",
              "        display: none;\n",
              "        fill: #1967D2;\n",
              "        height: 32px;\n",
              "        padding: 0 0 0 0;\n",
              "        width: 32px;\n",
              "      }\n",
              "\n",
              "      .colab-df-generate:hover {\n",
              "        background-color: #E2EBFA;\n",
              "        box-shadow: 0px 1px 2px rgba(60, 64, 67, 0.3), 0px 1px 3px 1px rgba(60, 64, 67, 0.15);\n",
              "        fill: #174EA6;\n",
              "      }\n",
              "\n",
              "      [theme=dark] .colab-df-generate {\n",
              "        background-color: #3B4455;\n",
              "        fill: #D2E3FC;\n",
              "      }\n",
              "\n",
              "      [theme=dark] .colab-df-generate:hover {\n",
              "        background-color: #434B5C;\n",
              "        box-shadow: 0px 1px 3px 1px rgba(0, 0, 0, 0.15);\n",
              "        filter: drop-shadow(0px 1px 2px rgba(0, 0, 0, 0.3));\n",
              "        fill: #FFFFFF;\n",
              "      }\n",
              "    </style>\n",
              "    <button class=\"colab-df-generate\" onclick=\"generateWithVariable('test_pred_analysis')\"\n",
              "            title=\"Generate code using this dataframe.\"\n",
              "            style=\"display:none;\">\n",
              "\n",
              "  <svg xmlns=\"http://www.w3.org/2000/svg\" height=\"24px\"viewBox=\"0 0 24 24\"\n",
              "       width=\"24px\">\n",
              "    <path d=\"M7,19H8.4L18.45,9,17,7.55,7,17.6ZM5,21V16.75L18.45,3.32a2,2,0,0,1,2.83,0l1.4,1.43a1.91,1.91,0,0,1,.58,1.4,1.91,1.91,0,0,1-.58,1.4L9.25,21ZM18.45,9,17,7.55Zm-12,3A5.31,5.31,0,0,0,4.9,8.1,5.31,5.31,0,0,0,1,6.5,5.31,5.31,0,0,0,4.9,4.9,5.31,5.31,0,0,0,6.5,1,5.31,5.31,0,0,0,8.1,4.9,5.31,5.31,0,0,0,12,6.5,5.46,5.46,0,0,0,6.5,12Z\"/>\n",
              "  </svg>\n",
              "    </button>\n",
              "    <script>\n",
              "      (() => {\n",
              "      const buttonEl =\n",
              "        document.querySelector('#id_185bdb61-5de1-4831-a72a-61b57f867163 button.colab-df-generate');\n",
              "      buttonEl.style.display =\n",
              "        google.colab.kernel.accessAllowed ? 'block' : 'none';\n",
              "\n",
              "      buttonEl.onclick = () => {\n",
              "        google.colab.notebook.generateWithVariable('test_pred_analysis');\n",
              "      }\n",
              "      })();\n",
              "    </script>\n",
              "  </div>\n",
              "\n",
              "    </div>\n",
              "  </div>\n"
            ],
            "application/vnd.google.colaboratory.intrinsic+json": {
              "type": "dataframe",
              "variable_name": "test_pred_analysis",
              "summary": "{\n  \"name\": \"test_pred_analysis\",\n  \"rows\": 30212,\n  \"fields\": [\n    {\n      \"column\": \"test_sentences\",\n      \"properties\": {\n        \"dtype\": \"string\",\n        \"num_unique_values\": 29870,\n        \"samples\": [\n          \"a reduction in pigment was observed with both lasers during the study period .\",\n          \"ten paramedics with field experience were trained with an ultrasound machine in the performance of the fast scan .\",\n          \"we examined the impact of milk proteins and combined exercise training ( cet ) on bp , arterial function , and muscle strength ( one-repetition maximum ( @-rm ) ) .\"\n        ],\n        \"semantic_type\": \"\",\n        \"description\": \"\"\n      }\n    },\n    {\n      \"column\": \"test_labels\",\n      \"properties\": {\n        \"dtype\": \"number\",\n        \"std\": 1,\n        \"min\": 0,\n        \"max\": 4,\n        \"num_unique_values\": 5,\n        \"samples\": [\n          3,\n          1,\n          2\n        ],\n        \"semantic_type\": \"\",\n        \"description\": \"\"\n      }\n    },\n    {\n      \"column\": \"pred_labels\",\n      \"properties\": {\n        \"dtype\": \"number\",\n        \"std\": 1,\n        \"min\": 0,\n        \"max\": 4,\n        \"num_unique_values\": 5,\n        \"samples\": [\n          2,\n          3,\n          4\n        ],\n        \"semantic_type\": \"\",\n        \"description\": \"\"\n      }\n    },\n    {\n      \"column\": \"pred_probability\",\n      \"properties\": {\n        \"dtype\": \"float32\",\n        \"num_unique_values\": 30021,\n        \"samples\": [\n          0.6163120269775391,\n          0.8390132784843445,\n          0.584737241268158\n        ],\n        \"semantic_type\": \"\",\n        \"description\": \"\"\n      }\n    }\n  ]\n}"
            }
          },
          "metadata": {},
          "execution_count": 139
        }
      ]
    },
    {
      "cell_type": "code",
      "source": [
        "wrong_preds = test_pred_analysis[test_pred_analysis['test_labels'] != test_pred_analysis['pred_labels']].sort_values('pred_probability', ascending= False)\n",
        "wrong_preds"
      ],
      "metadata": {
        "id": "Z55HNvlKquj0",
        "outputId": "a9df03f8-946a-42c3-ded0-a9213406de0d",
        "colab": {
          "base_uri": "https://localhost:8080/",
          "height": 419
        }
      },
      "execution_count": 145,
      "outputs": [
        {
          "output_type": "execute_result",
          "data": {
            "text/plain": [
              "                                          test_sentences  test_labels  \\\n",
              "28193  primary outcome measures were symptom self-rat...            4   \n",
              "10034  secondary outcomes included time to tb treatme...            4   \n",
              "1027   participants were randomized to tadalafil @ mg...            4   \n",
              "20408  a double-blind , randomized , controlled trial...            4   \n",
              "6856   a total of @ patients with hypertension treate...            4   \n",
              "...                                                  ...          ...   \n",
              "25475  this trial aims to assess the efficacy and cos...            0   \n",
              "13487  we also examined the moderating role of parent...            2   \n",
              "12338  dietary treatment targets during family-based ...            2   \n",
              "6120   we evaluated the effect of intensive therapy a...            2   \n",
              "14691  we assessed management strategies based on nod...            2   \n",
              "\n",
              "       pred_labels  pred_probability  \n",
              "28193            2          0.936387  \n",
              "10034            2          0.931504  \n",
              "1027             2          0.930119  \n",
              "20408            2          0.926374  \n",
              "6856             2          0.925193  \n",
              "...            ...               ...  \n",
              "25475            2          0.255067  \n",
              "13487            0          0.253502  \n",
              "12338            1          0.253489  \n",
              "6120             3          0.251153  \n",
              "14691            1          0.233302  \n",
              "\n",
              "[4723 rows x 4 columns]"
            ],
            "text/html": [
              "\n",
              "  <div id=\"df-65746990-7b4c-4f12-a774-78843b88ef3d\" class=\"colab-df-container\">\n",
              "    <div>\n",
              "<style scoped>\n",
              "    .dataframe tbody tr th:only-of-type {\n",
              "        vertical-align: middle;\n",
              "    }\n",
              "\n",
              "    .dataframe tbody tr th {\n",
              "        vertical-align: top;\n",
              "    }\n",
              "\n",
              "    .dataframe thead th {\n",
              "        text-align: right;\n",
              "    }\n",
              "</style>\n",
              "<table border=\"1\" class=\"dataframe\">\n",
              "  <thead>\n",
              "    <tr style=\"text-align: right;\">\n",
              "      <th></th>\n",
              "      <th>test_sentences</th>\n",
              "      <th>test_labels</th>\n",
              "      <th>pred_labels</th>\n",
              "      <th>pred_probability</th>\n",
              "    </tr>\n",
              "  </thead>\n",
              "  <tbody>\n",
              "    <tr>\n",
              "      <th>28193</th>\n",
              "      <td>primary outcome measures were symptom self-rat...</td>\n",
              "      <td>4</td>\n",
              "      <td>2</td>\n",
              "      <td>0.936387</td>\n",
              "    </tr>\n",
              "    <tr>\n",
              "      <th>10034</th>\n",
              "      <td>secondary outcomes included time to tb treatme...</td>\n",
              "      <td>4</td>\n",
              "      <td>2</td>\n",
              "      <td>0.931504</td>\n",
              "    </tr>\n",
              "    <tr>\n",
              "      <th>1027</th>\n",
              "      <td>participants were randomized to tadalafil @ mg...</td>\n",
              "      <td>4</td>\n",
              "      <td>2</td>\n",
              "      <td>0.930119</td>\n",
              "    </tr>\n",
              "    <tr>\n",
              "      <th>20408</th>\n",
              "      <td>a double-blind , randomized , controlled trial...</td>\n",
              "      <td>4</td>\n",
              "      <td>2</td>\n",
              "      <td>0.926374</td>\n",
              "    </tr>\n",
              "    <tr>\n",
              "      <th>6856</th>\n",
              "      <td>a total of @ patients with hypertension treate...</td>\n",
              "      <td>4</td>\n",
              "      <td>2</td>\n",
              "      <td>0.925193</td>\n",
              "    </tr>\n",
              "    <tr>\n",
              "      <th>...</th>\n",
              "      <td>...</td>\n",
              "      <td>...</td>\n",
              "      <td>...</td>\n",
              "      <td>...</td>\n",
              "    </tr>\n",
              "    <tr>\n",
              "      <th>25475</th>\n",
              "      <td>this trial aims to assess the efficacy and cos...</td>\n",
              "      <td>0</td>\n",
              "      <td>2</td>\n",
              "      <td>0.255067</td>\n",
              "    </tr>\n",
              "    <tr>\n",
              "      <th>13487</th>\n",
              "      <td>we also examined the moderating role of parent...</td>\n",
              "      <td>2</td>\n",
              "      <td>0</td>\n",
              "      <td>0.253502</td>\n",
              "    </tr>\n",
              "    <tr>\n",
              "      <th>12338</th>\n",
              "      <td>dietary treatment targets during family-based ...</td>\n",
              "      <td>2</td>\n",
              "      <td>1</td>\n",
              "      <td>0.253489</td>\n",
              "    </tr>\n",
              "    <tr>\n",
              "      <th>6120</th>\n",
              "      <td>we evaluated the effect of intensive therapy a...</td>\n",
              "      <td>2</td>\n",
              "      <td>3</td>\n",
              "      <td>0.251153</td>\n",
              "    </tr>\n",
              "    <tr>\n",
              "      <th>14691</th>\n",
              "      <td>we assessed management strategies based on nod...</td>\n",
              "      <td>2</td>\n",
              "      <td>1</td>\n",
              "      <td>0.233302</td>\n",
              "    </tr>\n",
              "  </tbody>\n",
              "</table>\n",
              "<p>4723 rows × 4 columns</p>\n",
              "</div>\n",
              "    <div class=\"colab-df-buttons\">\n",
              "\n",
              "  <div class=\"colab-df-container\">\n",
              "    <button class=\"colab-df-convert\" onclick=\"convertToInteractive('df-65746990-7b4c-4f12-a774-78843b88ef3d')\"\n",
              "            title=\"Convert this dataframe to an interactive table.\"\n",
              "            style=\"display:none;\">\n",
              "\n",
              "  <svg xmlns=\"http://www.w3.org/2000/svg\" height=\"24px\" viewBox=\"0 -960 960 960\">\n",
              "    <path d=\"M120-120v-720h720v720H120Zm60-500h600v-160H180v160Zm220 220h160v-160H400v160Zm0 220h160v-160H400v160ZM180-400h160v-160H180v160Zm440 0h160v-160H620v160ZM180-180h160v-160H180v160Zm440 0h160v-160H620v160Z\"/>\n",
              "  </svg>\n",
              "    </button>\n",
              "\n",
              "  <style>\n",
              "    .colab-df-container {\n",
              "      display:flex;\n",
              "      gap: 12px;\n",
              "    }\n",
              "\n",
              "    .colab-df-convert {\n",
              "      background-color: #E8F0FE;\n",
              "      border: none;\n",
              "      border-radius: 50%;\n",
              "      cursor: pointer;\n",
              "      display: none;\n",
              "      fill: #1967D2;\n",
              "      height: 32px;\n",
              "      padding: 0 0 0 0;\n",
              "      width: 32px;\n",
              "    }\n",
              "\n",
              "    .colab-df-convert:hover {\n",
              "      background-color: #E2EBFA;\n",
              "      box-shadow: 0px 1px 2px rgba(60, 64, 67, 0.3), 0px 1px 3px 1px rgba(60, 64, 67, 0.15);\n",
              "      fill: #174EA6;\n",
              "    }\n",
              "\n",
              "    .colab-df-buttons div {\n",
              "      margin-bottom: 4px;\n",
              "    }\n",
              "\n",
              "    [theme=dark] .colab-df-convert {\n",
              "      background-color: #3B4455;\n",
              "      fill: #D2E3FC;\n",
              "    }\n",
              "\n",
              "    [theme=dark] .colab-df-convert:hover {\n",
              "      background-color: #434B5C;\n",
              "      box-shadow: 0px 1px 3px 1px rgba(0, 0, 0, 0.15);\n",
              "      filter: drop-shadow(0px 1px 2px rgba(0, 0, 0, 0.3));\n",
              "      fill: #FFFFFF;\n",
              "    }\n",
              "  </style>\n",
              "\n",
              "    <script>\n",
              "      const buttonEl =\n",
              "        document.querySelector('#df-65746990-7b4c-4f12-a774-78843b88ef3d button.colab-df-convert');\n",
              "      buttonEl.style.display =\n",
              "        google.colab.kernel.accessAllowed ? 'block' : 'none';\n",
              "\n",
              "      async function convertToInteractive(key) {\n",
              "        const element = document.querySelector('#df-65746990-7b4c-4f12-a774-78843b88ef3d');\n",
              "        const dataTable =\n",
              "          await google.colab.kernel.invokeFunction('convertToInteractive',\n",
              "                                                    [key], {});\n",
              "        if (!dataTable) return;\n",
              "\n",
              "        const docLinkHtml = 'Like what you see? Visit the ' +\n",
              "          '<a target=\"_blank\" href=https://colab.research.google.com/notebooks/data_table.ipynb>data table notebook</a>'\n",
              "          + ' to learn more about interactive tables.';\n",
              "        element.innerHTML = '';\n",
              "        dataTable['output_type'] = 'display_data';\n",
              "        await google.colab.output.renderOutput(dataTable, element);\n",
              "        const docLink = document.createElement('div');\n",
              "        docLink.innerHTML = docLinkHtml;\n",
              "        element.appendChild(docLink);\n",
              "      }\n",
              "    </script>\n",
              "  </div>\n",
              "\n",
              "\n",
              "<div id=\"df-34af7a7a-7ad3-4ac8-bb16-52828b9070c5\">\n",
              "  <button class=\"colab-df-quickchart\" onclick=\"quickchart('df-34af7a7a-7ad3-4ac8-bb16-52828b9070c5')\"\n",
              "            title=\"Suggest charts\"\n",
              "            style=\"display:none;\">\n",
              "\n",
              "<svg xmlns=\"http://www.w3.org/2000/svg\" height=\"24px\"viewBox=\"0 0 24 24\"\n",
              "     width=\"24px\">\n",
              "    <g>\n",
              "        <path d=\"M19 3H5c-1.1 0-2 .9-2 2v14c0 1.1.9 2 2 2h14c1.1 0 2-.9 2-2V5c0-1.1-.9-2-2-2zM9 17H7v-7h2v7zm4 0h-2V7h2v10zm4 0h-2v-4h2v4z\"/>\n",
              "    </g>\n",
              "</svg>\n",
              "  </button>\n",
              "\n",
              "<style>\n",
              "  .colab-df-quickchart {\n",
              "      --bg-color: #E8F0FE;\n",
              "      --fill-color: #1967D2;\n",
              "      --hover-bg-color: #E2EBFA;\n",
              "      --hover-fill-color: #174EA6;\n",
              "      --disabled-fill-color: #AAA;\n",
              "      --disabled-bg-color: #DDD;\n",
              "  }\n",
              "\n",
              "  [theme=dark] .colab-df-quickchart {\n",
              "      --bg-color: #3B4455;\n",
              "      --fill-color: #D2E3FC;\n",
              "      --hover-bg-color: #434B5C;\n",
              "      --hover-fill-color: #FFFFFF;\n",
              "      --disabled-bg-color: #3B4455;\n",
              "      --disabled-fill-color: #666;\n",
              "  }\n",
              "\n",
              "  .colab-df-quickchart {\n",
              "    background-color: var(--bg-color);\n",
              "    border: none;\n",
              "    border-radius: 50%;\n",
              "    cursor: pointer;\n",
              "    display: none;\n",
              "    fill: var(--fill-color);\n",
              "    height: 32px;\n",
              "    padding: 0;\n",
              "    width: 32px;\n",
              "  }\n",
              "\n",
              "  .colab-df-quickchart:hover {\n",
              "    background-color: var(--hover-bg-color);\n",
              "    box-shadow: 0 1px 2px rgba(60, 64, 67, 0.3), 0 1px 3px 1px rgba(60, 64, 67, 0.15);\n",
              "    fill: var(--button-hover-fill-color);\n",
              "  }\n",
              "\n",
              "  .colab-df-quickchart-complete:disabled,\n",
              "  .colab-df-quickchart-complete:disabled:hover {\n",
              "    background-color: var(--disabled-bg-color);\n",
              "    fill: var(--disabled-fill-color);\n",
              "    box-shadow: none;\n",
              "  }\n",
              "\n",
              "  .colab-df-spinner {\n",
              "    border: 2px solid var(--fill-color);\n",
              "    border-color: transparent;\n",
              "    border-bottom-color: var(--fill-color);\n",
              "    animation:\n",
              "      spin 1s steps(1) infinite;\n",
              "  }\n",
              "\n",
              "  @keyframes spin {\n",
              "    0% {\n",
              "      border-color: transparent;\n",
              "      border-bottom-color: var(--fill-color);\n",
              "      border-left-color: var(--fill-color);\n",
              "    }\n",
              "    20% {\n",
              "      border-color: transparent;\n",
              "      border-left-color: var(--fill-color);\n",
              "      border-top-color: var(--fill-color);\n",
              "    }\n",
              "    30% {\n",
              "      border-color: transparent;\n",
              "      border-left-color: var(--fill-color);\n",
              "      border-top-color: var(--fill-color);\n",
              "      border-right-color: var(--fill-color);\n",
              "    }\n",
              "    40% {\n",
              "      border-color: transparent;\n",
              "      border-right-color: var(--fill-color);\n",
              "      border-top-color: var(--fill-color);\n",
              "    }\n",
              "    60% {\n",
              "      border-color: transparent;\n",
              "      border-right-color: var(--fill-color);\n",
              "    }\n",
              "    80% {\n",
              "      border-color: transparent;\n",
              "      border-right-color: var(--fill-color);\n",
              "      border-bottom-color: var(--fill-color);\n",
              "    }\n",
              "    90% {\n",
              "      border-color: transparent;\n",
              "      border-bottom-color: var(--fill-color);\n",
              "    }\n",
              "  }\n",
              "</style>\n",
              "\n",
              "  <script>\n",
              "    async function quickchart(key) {\n",
              "      const quickchartButtonEl =\n",
              "        document.querySelector('#' + key + ' button');\n",
              "      quickchartButtonEl.disabled = true;  // To prevent multiple clicks.\n",
              "      quickchartButtonEl.classList.add('colab-df-spinner');\n",
              "      try {\n",
              "        const charts = await google.colab.kernel.invokeFunction(\n",
              "            'suggestCharts', [key], {});\n",
              "      } catch (error) {\n",
              "        console.error('Error during call to suggestCharts:', error);\n",
              "      }\n",
              "      quickchartButtonEl.classList.remove('colab-df-spinner');\n",
              "      quickchartButtonEl.classList.add('colab-df-quickchart-complete');\n",
              "    }\n",
              "    (() => {\n",
              "      let quickchartButtonEl =\n",
              "        document.querySelector('#df-34af7a7a-7ad3-4ac8-bb16-52828b9070c5 button');\n",
              "      quickchartButtonEl.style.display =\n",
              "        google.colab.kernel.accessAllowed ? 'block' : 'none';\n",
              "    })();\n",
              "  </script>\n",
              "</div>\n",
              "\n",
              "  <div id=\"id_a675b249-ec08-4175-a8d7-e2193455c299\">\n",
              "    <style>\n",
              "      .colab-df-generate {\n",
              "        background-color: #E8F0FE;\n",
              "        border: none;\n",
              "        border-radius: 50%;\n",
              "        cursor: pointer;\n",
              "        display: none;\n",
              "        fill: #1967D2;\n",
              "        height: 32px;\n",
              "        padding: 0 0 0 0;\n",
              "        width: 32px;\n",
              "      }\n",
              "\n",
              "      .colab-df-generate:hover {\n",
              "        background-color: #E2EBFA;\n",
              "        box-shadow: 0px 1px 2px rgba(60, 64, 67, 0.3), 0px 1px 3px 1px rgba(60, 64, 67, 0.15);\n",
              "        fill: #174EA6;\n",
              "      }\n",
              "\n",
              "      [theme=dark] .colab-df-generate {\n",
              "        background-color: #3B4455;\n",
              "        fill: #D2E3FC;\n",
              "      }\n",
              "\n",
              "      [theme=dark] .colab-df-generate:hover {\n",
              "        background-color: #434B5C;\n",
              "        box-shadow: 0px 1px 3px 1px rgba(0, 0, 0, 0.15);\n",
              "        filter: drop-shadow(0px 1px 2px rgba(0, 0, 0, 0.3));\n",
              "        fill: #FFFFFF;\n",
              "      }\n",
              "    </style>\n",
              "    <button class=\"colab-df-generate\" onclick=\"generateWithVariable('wrong_preds')\"\n",
              "            title=\"Generate code using this dataframe.\"\n",
              "            style=\"display:none;\">\n",
              "\n",
              "  <svg xmlns=\"http://www.w3.org/2000/svg\" height=\"24px\"viewBox=\"0 0 24 24\"\n",
              "       width=\"24px\">\n",
              "    <path d=\"M7,19H8.4L18.45,9,17,7.55,7,17.6ZM5,21V16.75L18.45,3.32a2,2,0,0,1,2.83,0l1.4,1.43a1.91,1.91,0,0,1,.58,1.4,1.91,1.91,0,0,1-.58,1.4L9.25,21ZM18.45,9,17,7.55Zm-12,3A5.31,5.31,0,0,0,4.9,8.1,5.31,5.31,0,0,0,1,6.5,5.31,5.31,0,0,0,4.9,4.9,5.31,5.31,0,0,0,6.5,1,5.31,5.31,0,0,0,8.1,4.9,5.31,5.31,0,0,0,12,6.5,5.46,5.46,0,0,0,6.5,12Z\"/>\n",
              "  </svg>\n",
              "    </button>\n",
              "    <script>\n",
              "      (() => {\n",
              "      const buttonEl =\n",
              "        document.querySelector('#id_a675b249-ec08-4175-a8d7-e2193455c299 button.colab-df-generate');\n",
              "      buttonEl.style.display =\n",
              "        google.colab.kernel.accessAllowed ? 'block' : 'none';\n",
              "\n",
              "      buttonEl.onclick = () => {\n",
              "        google.colab.notebook.generateWithVariable('wrong_preds');\n",
              "      }\n",
              "      })();\n",
              "    </script>\n",
              "  </div>\n",
              "\n",
              "    </div>\n",
              "  </div>\n"
            ],
            "application/vnd.google.colaboratory.intrinsic+json": {
              "type": "dataframe",
              "variable_name": "wrong_preds",
              "summary": "{\n  \"name\": \"wrong_preds\",\n  \"rows\": 4723,\n  \"fields\": [\n    {\n      \"column\": \"test_sentences\",\n      \"properties\": {\n        \"dtype\": \"string\",\n        \"num_unique_values\": 4711,\n        \"samples\": [\n          \"@ consecutive patients were included , @ in each group , mean age @ years .\",\n          \"this study investigated whether this strategy is associated with any survival benefits/risks by analyzing a large multi-institutional database .\",\n          \"in the current study , called the vitamin d in genes ( vitdgen ) study , we analyzed associations between the increase in @ ( oh ) d concentrations after a given dose of artificial uvb irradiation and @ single nucleotide polymorphisms located in or near genes involved in vitamin d synthesis , transport , activation , or degradation as previously described for the vitmad study .\"\n        ],\n        \"semantic_type\": \"\",\n        \"description\": \"\"\n      }\n    },\n    {\n      \"column\": \"test_labels\",\n      \"properties\": {\n        \"dtype\": \"number\",\n        \"std\": 1,\n        \"min\": 0,\n        \"max\": 4,\n        \"num_unique_values\": 5,\n        \"samples\": [\n          1,\n          0,\n          2\n        ],\n        \"semantic_type\": \"\",\n        \"description\": \"\"\n      }\n    },\n    {\n      \"column\": \"pred_labels\",\n      \"properties\": {\n        \"dtype\": \"number\",\n        \"std\": 1,\n        \"min\": 0,\n        \"max\": 4,\n        \"num_unique_values\": 5,\n        \"samples\": [\n          0,\n          1,\n          3\n        ],\n        \"semantic_type\": \"\",\n        \"description\": \"\"\n      }\n    },\n    {\n      \"column\": \"pred_probability\",\n      \"properties\": {\n        \"dtype\": \"float32\",\n        \"num_unique_values\": 4723,\n        \"samples\": [\n          0.4575778841972351,\n          0.5548263192176819,\n          0.6451367735862732\n        ],\n        \"semantic_type\": \"\",\n        \"description\": \"\"\n      }\n    }\n  ]\n}"
            }
          },
          "metadata": {},
          "execution_count": 145
        }
      ]
    },
    {
      "cell_type": "code",
      "source": [
        "# Printing the most wrong predictions\n",
        "for rows in wrong_preds[:10].itertuples():\n",
        "  _, text, true_label, pred_label, pred_prob = rows\n",
        "  print(f\"True label: {true_label} Predicted Label: {pred_label} Predicted_probability: {pred_prob * 100:.2f}%\")\n",
        "  print(f'Text: {text}')\n",
        "  print('-------------')\n",
        "  print('\\n')"
      ],
      "metadata": {
        "id": "hZIVLN-hxKk1",
        "outputId": "c17df747-09bc-4432-9d9b-9b23b3cc7c98",
        "colab": {
          "base_uri": "https://localhost:8080/"
        }
      },
      "execution_count": 155,
      "outputs": [
        {
          "output_type": "stream",
          "name": "stdout",
          "text": [
            "True label: 4 Predicted Label: 2 Predicted_probability: 93.64%\n",
            "Text: primary outcome measures were symptom self-rating scales ( insomnia severity index -lsb- isi -rsb- and the montgomery sberg depression rating scale -lsb- madrs-s -rsb- ) , assessed before and after treatment with follow-up after @ and @ mo. .\n",
            "-------------\n",
            "\n",
            "\n",
            "True label: 4 Predicted Label: 2 Predicted_probability: 93.15%\n",
            "Text: secondary outcomes included time to tb treatment and mortality .\n",
            "-------------\n",
            "\n",
            "\n",
            "True label: 4 Predicted Label: 2 Predicted_probability: 93.01%\n",
            "Text: participants were randomized to tadalafil @ mg daily or placebo for @ months .\n",
            "-------------\n",
            "\n",
            "\n",
            "True label: 4 Predicted Label: 2 Predicted_probability: 92.64%\n",
            "Text: a double-blind , randomized , controlled trial was conducted at @ sites in the united states .\n",
            "-------------\n",
            "\n",
            "\n",
            "True label: 4 Predicted Label: 2 Predicted_probability: 92.52%\n",
            "Text: a total of @ patients with hypertension treated with @ mg olmesartan were randomized to receive combination treatment with @ mg azelnidipine ( o/a group ) or diuretics ( @ mg indapamide ; o/d group ) for @ months .\n",
            "-------------\n",
            "\n",
            "\n",
            "True label: 4 Predicted Label: 2 Predicted_probability: 91.92%\n",
            "Text: systolic/diastolic blood pressure ( sbp/dbp ) was measured at week @ , @ and @ .\n",
            "-------------\n",
            "\n",
            "\n",
            "True label: 1 Predicted Label: 0 Predicted_probability: 91.79%\n",
            "Text: clinicaltrials.gov identifier : nct @ .\n",
            "-------------\n",
            "\n",
            "\n",
            "True label: 4 Predicted Label: 2 Predicted_probability: 91.30%\n",
            "Text: dwellings in the itn+irs arm were sprayed with two rounds of bendiocarb in @ .\n",
            "-------------\n",
            "\n",
            "\n",
            "True label: 1 Predicted Label: 0 Predicted_probability: 91.21%\n",
            "Text: clinicaltrials.gov id : nct@ .\n",
            "-------------\n",
            "\n",
            "\n",
            "True label: 2 Predicted Label: 0 Predicted_probability: 91.16%\n",
            "Text: clinicaltrials.gov identifier : nct@ .\n",
            "-------------\n",
            "\n",
            "\n"
          ]
        }
      ]
    },
    {
      "cell_type": "code",
      "source": [
        "# Trying the model on the below data\n",
        "unseen_data = 'Fermented foods are defined as foods or beverages produced through controlled microbial growth, and the conversion of food components through enzymatic action. In recent years, fermented foods have undergone a surge in popularity, mainly due to their proposed health benefits. The aim of this review is to define and characterise common fermented foods (kefir, kombucha, sauerkraut, tempeh, natto, miso, kimchi, sourdough bread), their mechanisms of action (including impact on the microbiota), and the evidence for effects on gastrointestinal health and disease in humans. Putative mechanisms for the impact of fermented foods on health include the potential probiotic effect of their constituent microorganisms, the fermentation-derived production of bioactive peptides, biogenic amines, and conversion of phenolic compounds to biologically active compounds, as well as the reduction of anti-nutrients. Fermented foods that have been tested in at least one randomised controlled trial (RCT) for their gastrointestinal effects were kefir, sauerkraut, natto, and sourdough bread. Despite extensive in vitro studies, there are no RCTs investigating the impact of kombucha, miso, kimchi or tempeh in gastrointestinal health. The most widely investigated fermented food is kefir, with evidence from at least one RCT suggesting beneficial effects in both lactose malabsorption and Helicobacter pylori eradication. In summary, there is very limited clinical evidence for the effectiveness of most fermented foods in gastrointestinal health and disease. Given the convincing in vitro findings, clinical high-quality trials investigating the health benefits of fermented foods are warranted.'\n",
        "unseen_data_lines = [line + ' .' for line in unseen_data.split('.')]\n",
        "unseen_data_lines"
      ],
      "metadata": {
        "id": "s7cm9ccMy-ej",
        "outputId": "9caa04fb-5be4-49d5-fb03-066f738b929d",
        "colab": {
          "base_uri": "https://localhost:8080/"
        }
      },
      "execution_count": 159,
      "outputs": [
        {
          "output_type": "execute_result",
          "data": {
            "text/plain": [
              "['Fermented foods are defined as foods or beverages produced through controlled microbial growth, and the conversion of food components through enzymatic action .',\n",
              " ' In recent years, fermented foods have undergone a surge in popularity, mainly due to their proposed health benefits .',\n",
              " ' The aim of this review is to define and characterise common fermented foods (kefir, kombucha, sauerkraut, tempeh, natto, miso, kimchi, sourdough bread), their mechanisms of action (including impact on the microbiota), and the evidence for effects on gastrointestinal health and disease in humans .',\n",
              " ' Putative mechanisms for the impact of fermented foods on health include the potential probiotic effect of their constituent microorganisms, the fermentation-derived production of bioactive peptides, biogenic amines, and conversion of phenolic compounds to biologically active compounds, as well as the reduction of anti-nutrients .',\n",
              " ' Fermented foods that have been tested in at least one randomised controlled trial (RCT) for their gastrointestinal effects were kefir, sauerkraut, natto, and sourdough bread .',\n",
              " ' Despite extensive in vitro studies, there are no RCTs investigating the impact of kombucha, miso, kimchi or tempeh in gastrointestinal health .',\n",
              " ' The most widely investigated fermented food is kefir, with evidence from at least one RCT suggesting beneficial effects in both lactose malabsorption and Helicobacter pylori eradication .',\n",
              " ' In summary, there is very limited clinical evidence for the effectiveness of most fermented foods in gastrointestinal health and disease .',\n",
              " ' Given the convincing in vitro findings, clinical high-quality trials investigating the health benefits of fermented foods are warranted .',\n",
              " ' .']"
            ]
          },
          "metadata": {},
          "execution_count": 159
        }
      ]
    },
    {
      "cell_type": "code",
      "source": [
        "# Checking for numbers in each line\n",
        "for line in unseen_data_lines:\n",
        "  for word in line.split():\n",
        "    if word.isdigit():\n",
        "      print(\"Yes\")"
      ],
      "metadata": {
        "id": "r48QHT58z_pS"
      },
      "execution_count": 161,
      "outputs": []
    },
    {
      "cell_type": "markdown",
      "source": [
        "Creating a dictionary:\n",
        "[\n",
        "  {\n",
        "    'text': ,\n",
        "    'character': ,\n",
        "    'line_number': ,\n",
        "    'totatl_lines':\n",
        "  }\n",
        "]"
      ],
      "metadata": {
        "id": "FitacJwK0iar"
      }
    },
    {
      "cell_type": "code",
      "source": [
        "def preparing_dataset(lines):\n",
        "  prepared_data = []\n",
        "\n",
        "  for i, line in enumerate(lines):\n",
        "    data_dict = {}\n",
        "    data_dict['text'] = line\n",
        "    data_dict['chars'] = split_chars(line)\n",
        "    data_dict['line_num'] = i\n",
        "    data_dict['total_lines'] = len(lines)\n",
        "    prepared_data.append(data_dict)\n",
        "\n",
        "  return prepared_data\n",
        "\n",
        "\n",
        "prepared_unseen_data = preparing_dataset(unseen_data_lines)\n",
        "prepared_unseen_data[:5]"
      ],
      "metadata": {
        "id": "45KytilF1lnN",
        "outputId": "09a5df8c-ad5d-4199-cb6c-1ba037dbf89e",
        "colab": {
          "base_uri": "https://localhost:8080/"
        }
      },
      "execution_count": 189,
      "outputs": [
        {
          "output_type": "execute_result",
          "data": {
            "text/plain": [
              "[{'text': 'Fermented foods are defined as foods or beverages produced through controlled microbial growth, and the conversion of food components through enzymatic action .',\n",
              "  'chars': 'f e r m e n t e d   f o o d s   a r e   d e f i n e d   a s   f o o d s   o r   b e v e r a g e s   p r o d u c e d   t h r o u g h   c o n t r o l l e d   m i c r o b i a l   g r o w t h ,   a n d   t h e   c o n v e r s i o n   o f   f o o d   c o m p o n e n t s   t h r o u g h   e n z y m a t i c   a c t i o n   .',\n",
              "  'line_num': 0,\n",
              "  'total_lines': 10},\n",
              " {'text': ' In recent years, fermented foods have undergone a surge in popularity, mainly due to their proposed health benefits .',\n",
              "  'chars': 'i n   r e c e n t   y e a r s ,   f e r m e n t e d   f o o d s   h a v e   u n d e r g o n e   a   s u r g e   i n   p o p u l a r i t y ,   m a i n l y   d u e   t o   t h e i r   p r o p o s e d   h e a l t h   b e n e f i t s   .',\n",
              "  'line_num': 1,\n",
              "  'total_lines': 10},\n",
              " {'text': ' The aim of this review is to define and characterise common fermented foods (kefir, kombucha, sauerkraut, tempeh, natto, miso, kimchi, sourdough bread), their mechanisms of action (including impact on the microbiota), and the evidence for effects on gastrointestinal health and disease in humans .',\n",
              "  'chars': 't h e   a i m   o f   t h i s   r e v i e w   i s   t o   d e f i n e   a n d   c h a r a c t e r i s e   c o m m o n   f e r m e n t e d   f o o d s   ( k e f i r ,   k o m b u c h a ,   s a u e r k r a u t ,   t e m p e h ,   n a t t o ,   m i s o ,   k i m c h i ,   s o u r d o u g h   b r e a d ) ,   t h e i r   m e c h a n i s m s   o f   a c t i o n   ( i n c l u d i n g   i m p a c t   o n   t h e   m i c r o b i o t a ) ,   a n d   t h e   e v i d e n c e   f o r   e f f e c t s   o n   g a s t r o i n t e s t i n a l   h e a l t h   a n d   d i s e a s e   i n   h u m a n s   .',\n",
              "  'line_num': 2,\n",
              "  'total_lines': 10},\n",
              " {'text': ' Putative mechanisms for the impact of fermented foods on health include the potential probiotic effect of their constituent microorganisms, the fermentation-derived production of bioactive peptides, biogenic amines, and conversion of phenolic compounds to biologically active compounds, as well as the reduction of anti-nutrients .',\n",
              "  'chars': 'p u t a t i v e   m e c h a n i s m s   f o r   t h e   i m p a c t   o f   f e r m e n t e d   f o o d s   o n   h e a l t h   i n c l u d e   t h e   p o t e n t i a l   p r o b i o t i c   e f f e c t   o f   t h e i r   c o n s t i t u e n t   m i c r o o r g a n i s m s ,   t h e   f e r m e n t a t i o n - d e r i v e d   p r o d u c t i o n   o f   b i o a c t i v e   p e p t i d e s ,   b i o g e n i c   a m i n e s ,   a n d   c o n v e r s i o n   o f   p h e n o l i c   c o m p o u n d s   t o   b i o l o g i c a l l y   a c t i v e   c o m p o u n d s ,   a s   w e l l   a s   t h e   r e d u c t i o n   o f   a n t i - n u t r i e n t s   .',\n",
              "  'line_num': 3,\n",
              "  'total_lines': 10},\n",
              " {'text': ' Fermented foods that have been tested in at least one randomised controlled trial (RCT) for their gastrointestinal effects were kefir, sauerkraut, natto, and sourdough bread .',\n",
              "  'chars': 'f e r m e n t e d   f o o d s   t h a t   h a v e   b e e n   t e s t e d   i n   a t   l e a s t   o n e   r a n d o m i s e d   c o n t r o l l e d   t r i a l   ( r c t )   f o r   t h e i r   g a s t r o i n t e s t i n a l   e f f e c t s   w e r e   k e f i r ,   s a u e r k r a u t ,   n a t t o ,   a n d   s o u r d o u g h   b r e a d   .',\n",
              "  'line_num': 4,\n",
              "  'total_lines': 10}]"
            ]
          },
          "metadata": {},
          "execution_count": 189
        }
      ]
    },
    {
      "cell_type": "code",
      "source": [
        "unseen_df = pd.DataFrame(prepared_unseen_data)\n",
        "unseen_df"
      ],
      "metadata": {
        "id": "hCo_Y4q89Sok",
        "outputId": "cd1920a2-fc9c-4792-e413-05bef6b5f2ed",
        "colab": {
          "base_uri": "https://localhost:8080/",
          "height": 359
        }
      },
      "execution_count": 168,
      "outputs": [
        {
          "output_type": "execute_result",
          "data": {
            "text/plain": [
              "                                                text  \\\n",
              "0  Fermented foods are defined as foods or bevera...   \n",
              "1   In recent years, fermented foods have undergo...   \n",
              "2   The aim of this review is to define and chara...   \n",
              "3   Putative mechanisms for the impact of ferment...   \n",
              "4   Fermented foods that have been tested in at l...   \n",
              "5   Despite extensive in vitro studies, there are...   \n",
              "6   The most widely investigated fermented food i...   \n",
              "7   In summary, there is very limited clinical ev...   \n",
              "8   Given the convincing in vitro findings, clini...   \n",
              "9                                                  .   \n",
              "\n",
              "                                               chars  line_num  total_lines  \n",
              "0  F e r m e n t e d   f o o d s   a r e   d e f ...         0           10  \n",
              "1    I n   r e c e n t   y e a r s ,   f e r m e ...         1           10  \n",
              "2    T h e   a i m   o f   t h i s   r e v i e w ...         2           10  \n",
              "3    P u t a t i v e   m e c h a n i s m s   f o ...         3           10  \n",
              "4    F e r m e n t e d   f o o d s   t h a t   h ...         4           10  \n",
              "5    D e s p i t e   e x t e n s i v e   i n   v ...         5           10  \n",
              "6    T h e   m o s t   w i d e l y   i n v e s t ...         6           10  \n",
              "7    I n   s u m m a r y ,   t h e r e   i s   v ...         7           10  \n",
              "8    G i v e n   t h e   c o n v i n c i n g   i ...         8           10  \n",
              "9                                                  .         9           10  "
            ],
            "text/html": [
              "\n",
              "  <div id=\"df-9f286d71-bbc2-4607-addb-5379bdaea808\" class=\"colab-df-container\">\n",
              "    <div>\n",
              "<style scoped>\n",
              "    .dataframe tbody tr th:only-of-type {\n",
              "        vertical-align: middle;\n",
              "    }\n",
              "\n",
              "    .dataframe tbody tr th {\n",
              "        vertical-align: top;\n",
              "    }\n",
              "\n",
              "    .dataframe thead th {\n",
              "        text-align: right;\n",
              "    }\n",
              "</style>\n",
              "<table border=\"1\" class=\"dataframe\">\n",
              "  <thead>\n",
              "    <tr style=\"text-align: right;\">\n",
              "      <th></th>\n",
              "      <th>text</th>\n",
              "      <th>chars</th>\n",
              "      <th>line_num</th>\n",
              "      <th>total_lines</th>\n",
              "    </tr>\n",
              "  </thead>\n",
              "  <tbody>\n",
              "    <tr>\n",
              "      <th>0</th>\n",
              "      <td>Fermented foods are defined as foods or bevera...</td>\n",
              "      <td>F e r m e n t e d   f o o d s   a r e   d e f ...</td>\n",
              "      <td>0</td>\n",
              "      <td>10</td>\n",
              "    </tr>\n",
              "    <tr>\n",
              "      <th>1</th>\n",
              "      <td>In recent years, fermented foods have undergo...</td>\n",
              "      <td>I n   r e c e n t   y e a r s ,   f e r m e ...</td>\n",
              "      <td>1</td>\n",
              "      <td>10</td>\n",
              "    </tr>\n",
              "    <tr>\n",
              "      <th>2</th>\n",
              "      <td>The aim of this review is to define and chara...</td>\n",
              "      <td>T h e   a i m   o f   t h i s   r e v i e w ...</td>\n",
              "      <td>2</td>\n",
              "      <td>10</td>\n",
              "    </tr>\n",
              "    <tr>\n",
              "      <th>3</th>\n",
              "      <td>Putative mechanisms for the impact of ferment...</td>\n",
              "      <td>P u t a t i v e   m e c h a n i s m s   f o ...</td>\n",
              "      <td>3</td>\n",
              "      <td>10</td>\n",
              "    </tr>\n",
              "    <tr>\n",
              "      <th>4</th>\n",
              "      <td>Fermented foods that have been tested in at l...</td>\n",
              "      <td>F e r m e n t e d   f o o d s   t h a t   h ...</td>\n",
              "      <td>4</td>\n",
              "      <td>10</td>\n",
              "    </tr>\n",
              "    <tr>\n",
              "      <th>5</th>\n",
              "      <td>Despite extensive in vitro studies, there are...</td>\n",
              "      <td>D e s p i t e   e x t e n s i v e   i n   v ...</td>\n",
              "      <td>5</td>\n",
              "      <td>10</td>\n",
              "    </tr>\n",
              "    <tr>\n",
              "      <th>6</th>\n",
              "      <td>The most widely investigated fermented food i...</td>\n",
              "      <td>T h e   m o s t   w i d e l y   i n v e s t ...</td>\n",
              "      <td>6</td>\n",
              "      <td>10</td>\n",
              "    </tr>\n",
              "    <tr>\n",
              "      <th>7</th>\n",
              "      <td>In summary, there is very limited clinical ev...</td>\n",
              "      <td>I n   s u m m a r y ,   t h e r e   i s   v ...</td>\n",
              "      <td>7</td>\n",
              "      <td>10</td>\n",
              "    </tr>\n",
              "    <tr>\n",
              "      <th>8</th>\n",
              "      <td>Given the convincing in vitro findings, clini...</td>\n",
              "      <td>G i v e n   t h e   c o n v i n c i n g   i ...</td>\n",
              "      <td>8</td>\n",
              "      <td>10</td>\n",
              "    </tr>\n",
              "    <tr>\n",
              "      <th>9</th>\n",
              "      <td>.</td>\n",
              "      <td>.</td>\n",
              "      <td>9</td>\n",
              "      <td>10</td>\n",
              "    </tr>\n",
              "  </tbody>\n",
              "</table>\n",
              "</div>\n",
              "    <div class=\"colab-df-buttons\">\n",
              "\n",
              "  <div class=\"colab-df-container\">\n",
              "    <button class=\"colab-df-convert\" onclick=\"convertToInteractive('df-9f286d71-bbc2-4607-addb-5379bdaea808')\"\n",
              "            title=\"Convert this dataframe to an interactive table.\"\n",
              "            style=\"display:none;\">\n",
              "\n",
              "  <svg xmlns=\"http://www.w3.org/2000/svg\" height=\"24px\" viewBox=\"0 -960 960 960\">\n",
              "    <path d=\"M120-120v-720h720v720H120Zm60-500h600v-160H180v160Zm220 220h160v-160H400v160Zm0 220h160v-160H400v160ZM180-400h160v-160H180v160Zm440 0h160v-160H620v160ZM180-180h160v-160H180v160Zm440 0h160v-160H620v160Z\"/>\n",
              "  </svg>\n",
              "    </button>\n",
              "\n",
              "  <style>\n",
              "    .colab-df-container {\n",
              "      display:flex;\n",
              "      gap: 12px;\n",
              "    }\n",
              "\n",
              "    .colab-df-convert {\n",
              "      background-color: #E8F0FE;\n",
              "      border: none;\n",
              "      border-radius: 50%;\n",
              "      cursor: pointer;\n",
              "      display: none;\n",
              "      fill: #1967D2;\n",
              "      height: 32px;\n",
              "      padding: 0 0 0 0;\n",
              "      width: 32px;\n",
              "    }\n",
              "\n",
              "    .colab-df-convert:hover {\n",
              "      background-color: #E2EBFA;\n",
              "      box-shadow: 0px 1px 2px rgba(60, 64, 67, 0.3), 0px 1px 3px 1px rgba(60, 64, 67, 0.15);\n",
              "      fill: #174EA6;\n",
              "    }\n",
              "\n",
              "    .colab-df-buttons div {\n",
              "      margin-bottom: 4px;\n",
              "    }\n",
              "\n",
              "    [theme=dark] .colab-df-convert {\n",
              "      background-color: #3B4455;\n",
              "      fill: #D2E3FC;\n",
              "    }\n",
              "\n",
              "    [theme=dark] .colab-df-convert:hover {\n",
              "      background-color: #434B5C;\n",
              "      box-shadow: 0px 1px 3px 1px rgba(0, 0, 0, 0.15);\n",
              "      filter: drop-shadow(0px 1px 2px rgba(0, 0, 0, 0.3));\n",
              "      fill: #FFFFFF;\n",
              "    }\n",
              "  </style>\n",
              "\n",
              "    <script>\n",
              "      const buttonEl =\n",
              "        document.querySelector('#df-9f286d71-bbc2-4607-addb-5379bdaea808 button.colab-df-convert');\n",
              "      buttonEl.style.display =\n",
              "        google.colab.kernel.accessAllowed ? 'block' : 'none';\n",
              "\n",
              "      async function convertToInteractive(key) {\n",
              "        const element = document.querySelector('#df-9f286d71-bbc2-4607-addb-5379bdaea808');\n",
              "        const dataTable =\n",
              "          await google.colab.kernel.invokeFunction('convertToInteractive',\n",
              "                                                    [key], {});\n",
              "        if (!dataTable) return;\n",
              "\n",
              "        const docLinkHtml = 'Like what you see? Visit the ' +\n",
              "          '<a target=\"_blank\" href=https://colab.research.google.com/notebooks/data_table.ipynb>data table notebook</a>'\n",
              "          + ' to learn more about interactive tables.';\n",
              "        element.innerHTML = '';\n",
              "        dataTable['output_type'] = 'display_data';\n",
              "        await google.colab.output.renderOutput(dataTable, element);\n",
              "        const docLink = document.createElement('div');\n",
              "        docLink.innerHTML = docLinkHtml;\n",
              "        element.appendChild(docLink);\n",
              "      }\n",
              "    </script>\n",
              "  </div>\n",
              "\n",
              "\n",
              "<div id=\"df-cdc10156-dcbd-4a0f-82de-00fb269d9846\">\n",
              "  <button class=\"colab-df-quickchart\" onclick=\"quickchart('df-cdc10156-dcbd-4a0f-82de-00fb269d9846')\"\n",
              "            title=\"Suggest charts\"\n",
              "            style=\"display:none;\">\n",
              "\n",
              "<svg xmlns=\"http://www.w3.org/2000/svg\" height=\"24px\"viewBox=\"0 0 24 24\"\n",
              "     width=\"24px\">\n",
              "    <g>\n",
              "        <path d=\"M19 3H5c-1.1 0-2 .9-2 2v14c0 1.1.9 2 2 2h14c1.1 0 2-.9 2-2V5c0-1.1-.9-2-2-2zM9 17H7v-7h2v7zm4 0h-2V7h2v10zm4 0h-2v-4h2v4z\"/>\n",
              "    </g>\n",
              "</svg>\n",
              "  </button>\n",
              "\n",
              "<style>\n",
              "  .colab-df-quickchart {\n",
              "      --bg-color: #E8F0FE;\n",
              "      --fill-color: #1967D2;\n",
              "      --hover-bg-color: #E2EBFA;\n",
              "      --hover-fill-color: #174EA6;\n",
              "      --disabled-fill-color: #AAA;\n",
              "      --disabled-bg-color: #DDD;\n",
              "  }\n",
              "\n",
              "  [theme=dark] .colab-df-quickchart {\n",
              "      --bg-color: #3B4455;\n",
              "      --fill-color: #D2E3FC;\n",
              "      --hover-bg-color: #434B5C;\n",
              "      --hover-fill-color: #FFFFFF;\n",
              "      --disabled-bg-color: #3B4455;\n",
              "      --disabled-fill-color: #666;\n",
              "  }\n",
              "\n",
              "  .colab-df-quickchart {\n",
              "    background-color: var(--bg-color);\n",
              "    border: none;\n",
              "    border-radius: 50%;\n",
              "    cursor: pointer;\n",
              "    display: none;\n",
              "    fill: var(--fill-color);\n",
              "    height: 32px;\n",
              "    padding: 0;\n",
              "    width: 32px;\n",
              "  }\n",
              "\n",
              "  .colab-df-quickchart:hover {\n",
              "    background-color: var(--hover-bg-color);\n",
              "    box-shadow: 0 1px 2px rgba(60, 64, 67, 0.3), 0 1px 3px 1px rgba(60, 64, 67, 0.15);\n",
              "    fill: var(--button-hover-fill-color);\n",
              "  }\n",
              "\n",
              "  .colab-df-quickchart-complete:disabled,\n",
              "  .colab-df-quickchart-complete:disabled:hover {\n",
              "    background-color: var(--disabled-bg-color);\n",
              "    fill: var(--disabled-fill-color);\n",
              "    box-shadow: none;\n",
              "  }\n",
              "\n",
              "  .colab-df-spinner {\n",
              "    border: 2px solid var(--fill-color);\n",
              "    border-color: transparent;\n",
              "    border-bottom-color: var(--fill-color);\n",
              "    animation:\n",
              "      spin 1s steps(1) infinite;\n",
              "  }\n",
              "\n",
              "  @keyframes spin {\n",
              "    0% {\n",
              "      border-color: transparent;\n",
              "      border-bottom-color: var(--fill-color);\n",
              "      border-left-color: var(--fill-color);\n",
              "    }\n",
              "    20% {\n",
              "      border-color: transparent;\n",
              "      border-left-color: var(--fill-color);\n",
              "      border-top-color: var(--fill-color);\n",
              "    }\n",
              "    30% {\n",
              "      border-color: transparent;\n",
              "      border-left-color: var(--fill-color);\n",
              "      border-top-color: var(--fill-color);\n",
              "      border-right-color: var(--fill-color);\n",
              "    }\n",
              "    40% {\n",
              "      border-color: transparent;\n",
              "      border-right-color: var(--fill-color);\n",
              "      border-top-color: var(--fill-color);\n",
              "    }\n",
              "    60% {\n",
              "      border-color: transparent;\n",
              "      border-right-color: var(--fill-color);\n",
              "    }\n",
              "    80% {\n",
              "      border-color: transparent;\n",
              "      border-right-color: var(--fill-color);\n",
              "      border-bottom-color: var(--fill-color);\n",
              "    }\n",
              "    90% {\n",
              "      border-color: transparent;\n",
              "      border-bottom-color: var(--fill-color);\n",
              "    }\n",
              "  }\n",
              "</style>\n",
              "\n",
              "  <script>\n",
              "    async function quickchart(key) {\n",
              "      const quickchartButtonEl =\n",
              "        document.querySelector('#' + key + ' button');\n",
              "      quickchartButtonEl.disabled = true;  // To prevent multiple clicks.\n",
              "      quickchartButtonEl.classList.add('colab-df-spinner');\n",
              "      try {\n",
              "        const charts = await google.colab.kernel.invokeFunction(\n",
              "            'suggestCharts', [key], {});\n",
              "      } catch (error) {\n",
              "        console.error('Error during call to suggestCharts:', error);\n",
              "      }\n",
              "      quickchartButtonEl.classList.remove('colab-df-spinner');\n",
              "      quickchartButtonEl.classList.add('colab-df-quickchart-complete');\n",
              "    }\n",
              "    (() => {\n",
              "      let quickchartButtonEl =\n",
              "        document.querySelector('#df-cdc10156-dcbd-4a0f-82de-00fb269d9846 button');\n",
              "      quickchartButtonEl.style.display =\n",
              "        google.colab.kernel.accessAllowed ? 'block' : 'none';\n",
              "    })();\n",
              "  </script>\n",
              "</div>\n",
              "\n",
              "  <div id=\"id_c0f12aca-bc29-4561-99df-06de34fed337\">\n",
              "    <style>\n",
              "      .colab-df-generate {\n",
              "        background-color: #E8F0FE;\n",
              "        border: none;\n",
              "        border-radius: 50%;\n",
              "        cursor: pointer;\n",
              "        display: none;\n",
              "        fill: #1967D2;\n",
              "        height: 32px;\n",
              "        padding: 0 0 0 0;\n",
              "        width: 32px;\n",
              "      }\n",
              "\n",
              "      .colab-df-generate:hover {\n",
              "        background-color: #E2EBFA;\n",
              "        box-shadow: 0px 1px 2px rgba(60, 64, 67, 0.3), 0px 1px 3px 1px rgba(60, 64, 67, 0.15);\n",
              "        fill: #174EA6;\n",
              "      }\n",
              "\n",
              "      [theme=dark] .colab-df-generate {\n",
              "        background-color: #3B4455;\n",
              "        fill: #D2E3FC;\n",
              "      }\n",
              "\n",
              "      [theme=dark] .colab-df-generate:hover {\n",
              "        background-color: #434B5C;\n",
              "        box-shadow: 0px 1px 3px 1px rgba(0, 0, 0, 0.15);\n",
              "        filter: drop-shadow(0px 1px 2px rgba(0, 0, 0, 0.3));\n",
              "        fill: #FFFFFF;\n",
              "      }\n",
              "    </style>\n",
              "    <button class=\"colab-df-generate\" onclick=\"generateWithVariable('unseen_df')\"\n",
              "            title=\"Generate code using this dataframe.\"\n",
              "            style=\"display:none;\">\n",
              "\n",
              "  <svg xmlns=\"http://www.w3.org/2000/svg\" height=\"24px\"viewBox=\"0 0 24 24\"\n",
              "       width=\"24px\">\n",
              "    <path d=\"M7,19H8.4L18.45,9,17,7.55,7,17.6ZM5,21V16.75L18.45,3.32a2,2,0,0,1,2.83,0l1.4,1.43a1.91,1.91,0,0,1,.58,1.4,1.91,1.91,0,0,1-.58,1.4L9.25,21ZM18.45,9,17,7.55Zm-12,3A5.31,5.31,0,0,0,4.9,8.1,5.31,5.31,0,0,0,1,6.5,5.31,5.31,0,0,0,4.9,4.9,5.31,5.31,0,0,0,6.5,1,5.31,5.31,0,0,0,8.1,4.9,5.31,5.31,0,0,0,12,6.5,5.46,5.46,0,0,0,6.5,12Z\"/>\n",
              "  </svg>\n",
              "    </button>\n",
              "    <script>\n",
              "      (() => {\n",
              "      const buttonEl =\n",
              "        document.querySelector('#id_c0f12aca-bc29-4561-99df-06de34fed337 button.colab-df-generate');\n",
              "      buttonEl.style.display =\n",
              "        google.colab.kernel.accessAllowed ? 'block' : 'none';\n",
              "\n",
              "      buttonEl.onclick = () => {\n",
              "        google.colab.notebook.generateWithVariable('unseen_df');\n",
              "      }\n",
              "      })();\n",
              "    </script>\n",
              "  </div>\n",
              "\n",
              "    </div>\n",
              "  </div>\n"
            ],
            "application/vnd.google.colaboratory.intrinsic+json": {
              "type": "dataframe",
              "variable_name": "unseen_df",
              "summary": "{\n  \"name\": \"unseen_df\",\n  \"rows\": 10,\n  \"fields\": [\n    {\n      \"column\": \"text\",\n      \"properties\": {\n        \"dtype\": \"string\",\n        \"num_unique_values\": 10,\n        \"samples\": [\n          \" Given the convincing in vitro findings, clinical high-quality trials investigating the health benefits of fermented foods are warranted .\",\n          \" In recent years, fermented foods have undergone a surge in popularity, mainly due to their proposed health benefits .\",\n          \" Despite extensive in vitro studies, there are no RCTs investigating the impact of kombucha, miso, kimchi or tempeh in gastrointestinal health .\"\n        ],\n        \"semantic_type\": \"\",\n        \"description\": \"\"\n      }\n    },\n    {\n      \"column\": \"chars\",\n      \"properties\": {\n        \"dtype\": \"string\",\n        \"num_unique_values\": 10,\n        \"samples\": [\n          \"  G i v e n   t h e   c o n v i n c i n g   i n   v i t r o   f i n d i n g s ,   c l i n i c a l   h i g h - q u a l i t y   t r i a l s   i n v e s t i g a t i n g   t h e   h e a l t h   b e n e f i t s   o f   f e r m e n t e d   f o o d s   a r e   w a r r a n t e d   .\",\n          \"  I n   r e c e n t   y e a r s ,   f e r m e n t e d   f o o d s   h a v e   u n d e r g o n e   a   s u r g e   i n   p o p u l a r i t y ,   m a i n l y   d u e   t o   t h e i r   p r o p o s e d   h e a l t h   b e n e f i t s   .\",\n          \"  D e s p i t e   e x t e n s i v e   i n   v i t r o   s t u d i e s ,   t h e r e   a r e   n o   R C T s   i n v e s t i g a t i n g   t h e   i m p a c t   o f   k o m b u c h a ,   m i s o ,   k i m c h i   o r   t e m p e h   i n   g a s t r o i n t e s t i n a l   h e a l t h   .\"\n        ],\n        \"semantic_type\": \"\",\n        \"description\": \"\"\n      }\n    },\n    {\n      \"column\": \"line_num\",\n      \"properties\": {\n        \"dtype\": \"number\",\n        \"std\": 3,\n        \"min\": 0,\n        \"max\": 9,\n        \"num_unique_values\": 10,\n        \"samples\": [\n          8,\n          1,\n          5\n        ],\n        \"semantic_type\": \"\",\n        \"description\": \"\"\n      }\n    },\n    {\n      \"column\": \"total_lines\",\n      \"properties\": {\n        \"dtype\": \"number\",\n        \"std\": 0,\n        \"min\": 10,\n        \"max\": 10,\n        \"num_unique_values\": 1,\n        \"samples\": [\n          10\n        ],\n        \"semantic_type\": \"\",\n        \"description\": \"\"\n      }\n    }\n  ]\n}"
            }
          },
          "metadata": {},
          "execution_count": 168
        }
      ]
    },
    {
      "cell_type": "code",
      "source": [
        "# Preparing list for each column\n",
        "unseen_sentences, unseen_chars, unseen_line_num, unseen_tot_lines = unseen_df['text'].to_list(), unseen_df['chars'].to_list(), tf.one_hot(unseen_df['line_num'].to_list(), depth= 15), tf.one_hot(unseen_df['total_lines'].to_list(), depth= 20)\n",
        "len(unseen_sentences), len(unseen_chars), len(unseen_line_num), len(unseen_tot_lines)"
      ],
      "metadata": {
        "id": "VS8zHP9Z373X",
        "outputId": "ef362c80-d7dd-4107-b0b6-8072a9d18a54",
        "colab": {
          "base_uri": "https://localhost:8080/"
        }
      },
      "execution_count": 192,
      "outputs": [
        {
          "output_type": "execute_result",
          "data": {
            "text/plain": [
              "(10, 10, 10, 10)"
            ]
          },
          "metadata": {},
          "execution_count": 192
        }
      ]
    },
    {
      "cell_type": "code",
      "source": [
        "# Preparing dataset using tf.data API\n",
        "unseen_data = tf.data.Dataset.from_tensor_slices((unseen_sentences, unseen_chars, unseen_line_num, unseen_tot_lines))\n",
        "unseen_label = tf.data.Dataset.from_tensor_slices(([0 for _ in range(10)]))\n",
        "unseen_dataset = tf.data.Dataset.zip(unseen_data, unseen_label).batch(32).prefetch(tf.data.AUTOTUNE)\n",
        "unseen_dataset"
      ],
      "metadata": {
        "id": "OWkIMVhV-Fil",
        "outputId": "32bf6534-9f62-41d0-a6cc-c7368decd277",
        "colab": {
          "base_uri": "https://localhost:8080/"
        }
      },
      "execution_count": 193,
      "outputs": [
        {
          "output_type": "execute_result",
          "data": {
            "text/plain": [
              "<_PrefetchDataset element_spec=((TensorSpec(shape=(None,), dtype=tf.string, name=None), TensorSpec(shape=(None,), dtype=tf.string, name=None), TensorSpec(shape=(None, 15), dtype=tf.float32, name=None), TensorSpec(shape=(None, 20), dtype=tf.float32, name=None)), TensorSpec(shape=(None,), dtype=tf.int32, name=None))>"
            ]
          },
          "metadata": {},
          "execution_count": 193
        }
      ]
    },
    {
      "cell_type": "code",
      "source": [
        "unseen_data_pred = tf.argmax(loaded_model.predict(unseen_dataset), axis= 1)\n",
        "unseen_data_pred"
      ],
      "metadata": {
        "id": "-MV8tMzy-Z66",
        "outputId": "1afd7168-c0c9-4797-f755-c4deda0bd9c9",
        "colab": {
          "base_uri": "https://localhost:8080/"
        }
      },
      "execution_count": 195,
      "outputs": [
        {
          "output_type": "stream",
          "name": "stdout",
          "text": [
            "1/1 [==============================] - 0s 113ms/step\n"
          ]
        },
        {
          "output_type": "execute_result",
          "data": {
            "text/plain": [
              "<tf.Tensor: shape=(10,), dtype=int64, numpy=array([0, 0, 0, 0, 2, 0, 1, 1, 1, 2])>"
            ]
          },
          "metadata": {},
          "execution_count": 195
        }
      ]
    },
    {
      "cell_type": "code",
      "source": [
        "for i, pred in enumerate(unseen_data_pred.numpy()):\n",
        "  print(f\"{class_names[pred]}: {unseen_sentences[i]}\")\n",
        "  print(\"-------------\\n\")"
      ],
      "metadata": {
        "id": "83iApDDqDgDa",
        "outputId": "b4d515c8-a29a-42c2-95ce-aff511436c37",
        "colab": {
          "base_uri": "https://localhost:8080/"
        }
      },
      "execution_count": 201,
      "outputs": [
        {
          "output_type": "stream",
          "name": "stdout",
          "text": [
            "BACKGROUND: Fermented foods are defined as foods or beverages produced through controlled microbial growth, and the conversion of food components through enzymatic action .\n",
            "-------------\n",
            "\n",
            "BACKGROUND:  In recent years, fermented foods have undergone a surge in popularity, mainly due to their proposed health benefits .\n",
            "-------------\n",
            "\n",
            "BACKGROUND:  The aim of this review is to define and characterise common fermented foods (kefir, kombucha, sauerkraut, tempeh, natto, miso, kimchi, sourdough bread), their mechanisms of action (including impact on the microbiota), and the evidence for effects on gastrointestinal health and disease in humans .\n",
            "-------------\n",
            "\n",
            "BACKGROUND:  Putative mechanisms for the impact of fermented foods on health include the potential probiotic effect of their constituent microorganisms, the fermentation-derived production of bioactive peptides, biogenic amines, and conversion of phenolic compounds to biologically active compounds, as well as the reduction of anti-nutrients .\n",
            "-------------\n",
            "\n",
            "METHODS:  Fermented foods that have been tested in at least one randomised controlled trial (RCT) for their gastrointestinal effects were kefir, sauerkraut, natto, and sourdough bread .\n",
            "-------------\n",
            "\n",
            "BACKGROUND:  Despite extensive in vitro studies, there are no RCTs investigating the impact of kombucha, miso, kimchi or tempeh in gastrointestinal health .\n",
            "-------------\n",
            "\n",
            "CONCLUSIONS:  The most widely investigated fermented food is kefir, with evidence from at least one RCT suggesting beneficial effects in both lactose malabsorption and Helicobacter pylori eradication .\n",
            "-------------\n",
            "\n",
            "CONCLUSIONS:  In summary, there is very limited clinical evidence for the effectiveness of most fermented foods in gastrointestinal health and disease .\n",
            "-------------\n",
            "\n",
            "CONCLUSIONS:  Given the convincing in vitro findings, clinical high-quality trials investigating the health benefits of fermented foods are warranted .\n",
            "-------------\n",
            "\n",
            "METHODS:  .\n",
            "-------------\n",
            "\n"
          ]
        }
      ]
    }
  ],
  "metadata": {
    "kernelspec": {
      "display_name": "Python 3",
      "name": "python3"
    },
    "language_info": {
      "codemirror_mode": {
        "name": "ipython",
        "version": 3
      },
      "file_extension": ".py",
      "mimetype": "text/x-python",
      "name": "python",
      "nbconvert_exporter": "python",
      "pygments_lexer": "ipython3",
      "version": "3.10.13"
    },
    "colab": {
      "provenance": [],
      "gpuType": "T4",
      "machine_shape": "hm",
      "include_colab_link": true
    },
    "accelerator": "GPU"
  },
  "nbformat": 4,
  "nbformat_minor": 0
}