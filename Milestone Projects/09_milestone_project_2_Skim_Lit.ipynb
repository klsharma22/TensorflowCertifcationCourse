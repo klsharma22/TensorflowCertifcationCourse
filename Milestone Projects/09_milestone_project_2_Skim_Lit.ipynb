{
  "cells": [
    {
      "cell_type": "markdown",
      "metadata": {
        "id": "view-in-github",
        "colab_type": "text"
      },
      "source": [
        "<a href=\"https://colab.research.google.com/github/klsharma22/TensorflowCertifcationCourse/blob/main/Milestone%20Projects/09_milestone_project_2_Skim_Lit.ipynb\" target=\"_parent\"><img src=\"https://colab.research.google.com/assets/colab-badge.svg\" alt=\"Open In Colab\"/></a>"
      ]
    },
    {
      "cell_type": "markdown",
      "metadata": {
        "id": "TfW-azJO-myj"
      },
      "source": [
        "# Milestone Project 2: SkimLit\n",
        "\n",
        "The purpose of this notebook is to build an NLP model to make reading medical abstracts easier.\n",
        "\n",
        "The paper we're replicating is avaliable here: [PubMed 200k RCT](https://arxiv.org/abs/1710.06071)\n",
        "\n",
        "Reading through the paper above, we see that the model architecture that they use to achieve their best results is availbale here: [Neural Networks for Joint Sentence Classification](https://arxiv.org/abs/1612.05251)"
      ]
    },
    {
      "cell_type": "markdown",
      "metadata": {
        "id": "54ANxEuJ-myl"
      },
      "source": [
        "## Get data\n",
        "\n",
        "Since we are replicating the model from the above paper, let's use their data.\n",
        "\n",
        "[Dataset](https://github.com/Franck-Dernoncourt/pubmed-rct)"
      ]
    },
    {
      "cell_type": "code",
      "execution_count": 1,
      "metadata": {
        "colab": {
          "base_uri": "https://localhost:8080/"
        },
        "id": "SEuuecmU-myl",
        "outputId": "6934fc02-9e3b-43da-eb32-8b987ec52f96"
      },
      "outputs": [
        {
          "output_type": "stream",
          "name": "stdout",
          "text": [
            "Cloning into 'pubmed-rct'...\n",
            "remote: Enumerating objects: 39, done.\u001b[K\n",
            "remote: Counting objects: 100% (14/14), done.\u001b[K\n",
            "remote: Compressing objects: 100% (9/9), done.\u001b[K\n",
            "remote: Total 39 (delta 8), reused 5 (delta 5), pack-reused 25\u001b[K\n",
            "Receiving objects: 100% (39/39), 177.08 MiB | 13.87 MiB/s, done.\n",
            "Resolving deltas: 100% (15/15), done.\n",
            "PubMed_200k_RCT\t\t\t\t       PubMed_20k_RCT_numbers_replaced_with_at_sign\n",
            "PubMed_200k_RCT_numbers_replaced_with_at_sign  README.md\n",
            "PubMed_20k_RCT\n"
          ]
        }
      ],
      "source": [
        "!git clone https://github.com/Franck-Dernoncourt/pubmed-rct\n",
        "!ls pubmed-rct"
      ]
    },
    {
      "cell_type": "code",
      "execution_count": 2,
      "metadata": {
        "colab": {
          "base_uri": "https://localhost:8080/"
        },
        "id": "xYTaZPFK-myn",
        "outputId": "4422b1ec-d5f4-422b-eeae-b5c4f0e33b7f"
      },
      "outputs": [
        {
          "output_type": "stream",
          "name": "stdout",
          "text": [
            "dev.txt  test.txt  train.txt\n"
          ]
        }
      ],
      "source": [
        "# Check what files are in the PubMed20k dataset\n",
        "!ls pubmed-rct/PubMed_20k_RCT_numbers_replaced_with_at_sign/"
      ]
    },
    {
      "cell_type": "code",
      "execution_count": 3,
      "metadata": {
        "id": "OnxDiU0x-myn"
      },
      "outputs": [],
      "source": [
        "# Start our experiments using the 20k dataset with numbers replaced by '@' sign\n",
        "# data_dir = '/Users/klsharma22/Desktop/TensorflowCertifcationCourse/Milestone Projects/pubmed-rct/PubMed_20k_RCT_numbers_replaced_with_at_sign/'\n",
        "data_dir = '/content/pubmed-rct/PubMed_20k_RCT_numbers_replaced_with_at_sign/'"
      ]
    },
    {
      "cell_type": "code",
      "execution_count": 4,
      "metadata": {
        "colab": {
          "base_uri": "https://localhost:8080/"
        },
        "id": "2d0ACu4V-myo",
        "outputId": "6468c454-8659-4cdd-9196-2a1e6236f071"
      },
      "outputs": [
        {
          "output_type": "execute_result",
          "data": {
            "text/plain": [
              "['/content/pubmed-rct/PubMed_20k_RCT_numbers_replaced_with_at_sign/dev.txt',\n",
              " '/content/pubmed-rct/PubMed_20k_RCT_numbers_replaced_with_at_sign/test.txt',\n",
              " '/content/pubmed-rct/PubMed_20k_RCT_numbers_replaced_with_at_sign/train.txt']"
            ]
          },
          "metadata": {},
          "execution_count": 4
        }
      ],
      "source": [
        "# Check all of the filenames in the target directory\n",
        "import os\n",
        "filenames = [data_dir + filename for filename in os.listdir(data_dir)]\n",
        "filenames"
      ]
    },
    {
      "cell_type": "markdown",
      "metadata": {
        "id": "VtteRIaU-myo"
      },
      "source": [
        "## Preprocess data\n",
        "\n",
        "Now we've got some text data, it's time to get one with it."
      ]
    },
    {
      "cell_type": "code",
      "execution_count": 5,
      "metadata": {
        "id": "G7nmnv5r-myo"
      },
      "outputs": [],
      "source": [
        "# Create a function to read the lines of the document\n",
        "def get_lines(filename):\n",
        "    '''\n",
        "    Reads filename and returns the lines of text as a list.\n",
        "\n",
        "    Args:\n",
        "        filename (str): Path of filename\n",
        "\n",
        "    Returns:\n",
        "        A list of string with one string per line from the target filename\n",
        "    '''\n",
        "\n",
        "    with open(filename, 'r') as f:\n",
        "        return f.readlines()"
      ]
    },
    {
      "cell_type": "code",
      "execution_count": 6,
      "metadata": {
        "colab": {
          "base_uri": "https://localhost:8080/"
        },
        "id": "88NDf8tI-myp",
        "outputId": "9b31ca40-8684-40b6-d4b1-4e204148e99f"
      },
      "outputs": [
        {
          "output_type": "execute_result",
          "data": {
            "text/plain": [
              "['###24293578\\n',\n",
              " 'OBJECTIVE\\tTo investigate the efficacy of @ weeks of daily low-dose oral prednisolone in improving pain , mobility , and systemic low-grade inflammation in the short term and whether the effect would be sustained at @ weeks in older adults with moderate to severe knee osteoarthritis ( OA ) .\\n',\n",
              " 'METHODS\\tA total of @ patients with primary knee OA were randomized @:@ ; @ received @ mg/day of prednisolone and @ received placebo for @ weeks .\\n',\n",
              " 'METHODS\\tOutcome measures included pain reduction and improvement in function scores and systemic inflammation markers .\\n',\n",
              " 'METHODS\\tPain was assessed using the visual analog pain scale ( @-@ mm ) .\\n',\n",
              " 'METHODS\\tSecondary outcome measures included the Western Ontario and McMaster Universities Osteoarthritis Index scores , patient global assessment ( PGA ) of the severity of knee OA , and @-min walk distance ( @MWD ) .\\n',\n",
              " 'METHODS\\tSerum levels of interleukin @ ( IL-@ ) , IL-@ , tumor necrosis factor ( TNF ) - , and high-sensitivity C-reactive protein ( hsCRP ) were measured .\\n',\n",
              " 'RESULTS\\tThere was a clinically relevant reduction in the intervention group compared to the placebo group for knee pain , physical function , PGA , and @MWD at @ weeks .\\n',\n",
              " 'RESULTS\\tThe mean difference between treatment arms ( @ % CI ) was @ ( @-@ @ ) , p < @ ; @ ( @-@ @ ) , p < @ ; @ ( @-@ @ ) , p < @ ; and @ ( @-@ @ ) , p < @ , respectively .\\n',\n",
              " 'RESULTS\\tFurther , there was a clinically relevant reduction in the serum levels of IL-@ , IL-@ , TNF - , and hsCRP at @ weeks in the intervention group when compared to the placebo group .\\n',\n",
              " 'RESULTS\\tThese differences remained significant at @ weeks .\\n',\n",
              " 'RESULTS\\tThe Outcome Measures in Rheumatology Clinical Trials-Osteoarthritis Research Society International responder rate was @ % in the intervention group and @ % in the placebo group ( p < @ ) .\\n',\n",
              " 'CONCLUSIONS\\tLow-dose oral prednisolone had both a short-term and a longer sustained effect resulting in less knee pain , better physical function , and attenuation of systemic inflammation in older patients with knee OA ( ClinicalTrials.gov identifier NCT@ ) .\\n',\n",
              " '\\n',\n",
              " '###24854809\\n',\n",
              " 'BACKGROUND\\tEmotional eating is associated with overeating and the development of obesity .\\n',\n",
              " 'BACKGROUND\\tYet , empirical evidence for individual ( trait ) differences in emotional eating and cognitive mechanisms that contribute to eating during sad mood remain equivocal .\\n',\n",
              " 'OBJECTIVE\\tThe aim of this study was to test if attention bias for food moderates the effect of self-reported emotional eating during sad mood ( vs neutral mood ) on actual food intake .\\n',\n",
              " 'OBJECTIVE\\tIt was expected that emotional eating is predictive of elevated attention for food and higher food intake after an experimentally induced sad mood and that attentional maintenance on food predicts food intake during a sad versus a neutral mood .\\n',\n",
              " 'METHODS\\tParticipants ( N = @ ) were randomly assigned to one of the two experimental mood induction conditions ( sad/neutral ) .\\n']"
            ]
          },
          "metadata": {},
          "execution_count": 6
        }
      ],
      "source": [
        "# Let's read in the training lines\n",
        "train_lines = get_lines(filenames[2])\n",
        "train_lines[:20]"
      ]
    },
    {
      "cell_type": "markdown",
      "metadata": {
        "id": "OpYLOC5K-myp"
      },
      "source": [
        "Let's think about how we want our data to look\n",
        "\n",
        "Representation of the data:\n",
        "\n",
        "```\n",
        "[{'line_number': 0,\n",
        "    'target': 'BACKGROUND',\n",
        "    'text': 'xyz',\n",
        "    'total_lines': 11}]\n",
        "```"
      ]
    },
    {
      "cell_type": "code",
      "execution_count": 7,
      "metadata": {
        "id": "soED5s__-myp"
      },
      "outputs": [],
      "source": [
        "def preprocess_text_with_line_numbers(filename):\n",
        "    '''\n",
        "    Returns a list of dictionary of abstract line data.\n",
        "\n",
        "    Takes in filename, reads it contents and sorts through each line, extracting things like the target label, the text of the sentence, number of snetences and what sentence number line is.\n",
        "    '''\n",
        "    input_lines = get_lines(filename)\n",
        "    abstract_lines = \"\"\n",
        "    abstract_samples = []\n",
        "\n",
        "    for line in input_lines: # if the line is the id number\n",
        "        if line.startswith(\"###\"):\n",
        "            abstract_id = line\n",
        "            abstract_lines = \"\"\n",
        "        elif line.isspace(): # if it is the new line\n",
        "            abstract_line_split = abstract_lines.splitlines()\n",
        "\n",
        "            for line_number, abstract_line in enumerate(abstract_line_split):\n",
        "                line_data = {}\n",
        "                target_text_split = abstract_line.split('\\t')\n",
        "                line_data['target'] = target_text_split[0]\n",
        "                line_data['text'] = target_text_split[1].lower()\n",
        "                line_data['line_number'] = line_number\n",
        "                line_data['total_lines'] = len(abstract_line_split) - 1\n",
        "                abstract_samples.append(line_data)\n",
        "\n",
        "        else: # if it is the text\n",
        "            abstract_lines += line\n",
        "\n",
        "    return abstract_samples"
      ]
    },
    {
      "cell_type": "code",
      "execution_count": 8,
      "metadata": {
        "colab": {
          "base_uri": "https://localhost:8080/"
        },
        "id": "Avi5B5zO-myq",
        "outputId": "9d419ac1-1d9b-428d-97a6-d8cb89a5457e"
      },
      "outputs": [
        {
          "output_type": "execute_result",
          "data": {
            "text/plain": [
              "(180040, 30135, 30212)"
            ]
          },
          "metadata": {},
          "execution_count": 8
        }
      ],
      "source": [
        "train_samples = preprocess_text_with_line_numbers(filenames[2])\n",
        "val_samples = preprocess_text_with_line_numbers(filenames[1])\n",
        "test_samples = preprocess_text_with_line_numbers(filenames[0])\n",
        "\n",
        "len(train_samples), len(val_samples), len(test_samples)"
      ]
    },
    {
      "cell_type": "code",
      "execution_count": 9,
      "metadata": {
        "colab": {
          "base_uri": "https://localhost:8080/"
        },
        "id": "atby8uQY-myr",
        "outputId": "ec2197df-f13a-44db-ca38-b5bd3a1940b7"
      },
      "outputs": [
        {
          "output_type": "execute_result",
          "data": {
            "text/plain": [
              "[{'target': 'OBJECTIVE',\n",
              "  'text': 'to investigate the efficacy of @ weeks of daily low-dose oral prednisolone in improving pain , mobility , and systemic low-grade inflammation in the short term and whether the effect would be sustained at @ weeks in older adults with moderate to severe knee osteoarthritis ( oa ) .',\n",
              "  'line_number': 0,\n",
              "  'total_lines': 11},\n",
              " {'target': 'METHODS',\n",
              "  'text': 'a total of @ patients with primary knee oa were randomized @:@ ; @ received @ mg/day of prednisolone and @ received placebo for @ weeks .',\n",
              "  'line_number': 1,\n",
              "  'total_lines': 11},\n",
              " {'target': 'METHODS',\n",
              "  'text': 'outcome measures included pain reduction and improvement in function scores and systemic inflammation markers .',\n",
              "  'line_number': 2,\n",
              "  'total_lines': 11},\n",
              " {'target': 'METHODS',\n",
              "  'text': 'pain was assessed using the visual analog pain scale ( @-@ mm ) .',\n",
              "  'line_number': 3,\n",
              "  'total_lines': 11},\n",
              " {'target': 'METHODS',\n",
              "  'text': 'secondary outcome measures included the western ontario and mcmaster universities osteoarthritis index scores , patient global assessment ( pga ) of the severity of knee oa , and @-min walk distance ( @mwd ) .',\n",
              "  'line_number': 4,\n",
              "  'total_lines': 11},\n",
              " {'target': 'METHODS',\n",
              "  'text': 'serum levels of interleukin @ ( il-@ ) , il-@ , tumor necrosis factor ( tnf ) - , and high-sensitivity c-reactive protein ( hscrp ) were measured .',\n",
              "  'line_number': 5,\n",
              "  'total_lines': 11},\n",
              " {'target': 'RESULTS',\n",
              "  'text': 'there was a clinically relevant reduction in the intervention group compared to the placebo group for knee pain , physical function , pga , and @mwd at @ weeks .',\n",
              "  'line_number': 6,\n",
              "  'total_lines': 11},\n",
              " {'target': 'RESULTS',\n",
              "  'text': 'the mean difference between treatment arms ( @ % ci ) was @ ( @-@ @ ) , p < @ ; @ ( @-@ @ ) , p < @ ; @ ( @-@ @ ) , p < @ ; and @ ( @-@ @ ) , p < @ , respectively .',\n",
              "  'line_number': 7,\n",
              "  'total_lines': 11},\n",
              " {'target': 'RESULTS',\n",
              "  'text': 'further , there was a clinically relevant reduction in the serum levels of il-@ , il-@ , tnf - , and hscrp at @ weeks in the intervention group when compared to the placebo group .',\n",
              "  'line_number': 8,\n",
              "  'total_lines': 11},\n",
              " {'target': 'RESULTS',\n",
              "  'text': 'these differences remained significant at @ weeks .',\n",
              "  'line_number': 9,\n",
              "  'total_lines': 11},\n",
              " {'target': 'RESULTS',\n",
              "  'text': 'the outcome measures in rheumatology clinical trials-osteoarthritis research society international responder rate was @ % in the intervention group and @ % in the placebo group ( p < @ ) .',\n",
              "  'line_number': 10,\n",
              "  'total_lines': 11},\n",
              " {'target': 'CONCLUSIONS',\n",
              "  'text': 'low-dose oral prednisolone had both a short-term and a longer sustained effect resulting in less knee pain , better physical function , and attenuation of systemic inflammation in older patients with knee oa ( clinicaltrials.gov identifier nct@ ) .',\n",
              "  'line_number': 11,\n",
              "  'total_lines': 11},\n",
              " {'target': 'BACKGROUND',\n",
              "  'text': 'emotional eating is associated with overeating and the development of obesity .',\n",
              "  'line_number': 0,\n",
              "  'total_lines': 10},\n",
              " {'target': 'BACKGROUND',\n",
              "  'text': 'yet , empirical evidence for individual ( trait ) differences in emotional eating and cognitive mechanisms that contribute to eating during sad mood remain equivocal .',\n",
              "  'line_number': 1,\n",
              "  'total_lines': 10}]"
            ]
          },
          "metadata": {},
          "execution_count": 9
        }
      ],
      "source": [
        "# Check the first abstract\n",
        "train_samples[:14]"
      ]
    },
    {
      "cell_type": "markdown",
      "metadata": {
        "id": "eLdv_FH9-myr"
      },
      "source": [
        "Now that we have our data in the form of dictionary, let's create a dataframe"
      ]
    },
    {
      "cell_type": "code",
      "execution_count": 10,
      "metadata": {
        "colab": {
          "base_uri": "https://localhost:8080/",
          "height": 204
        },
        "id": "-k725nJW-myr",
        "outputId": "fef6b296-b421-4463-daea-93dd649340d4"
      },
      "outputs": [
        {
          "output_type": "execute_result",
          "data": {
            "text/plain": [
              "      target                                               text  line_number  \\\n",
              "0  OBJECTIVE  to investigate the efficacy of @ weeks of dail...            0   \n",
              "1    METHODS  a total of @ patients with primary knee oa wer...            1   \n",
              "2    METHODS  outcome measures included pain reduction and i...            2   \n",
              "3    METHODS  pain was assessed using the visual analog pain...            3   \n",
              "4    METHODS  secondary outcome measures included the wester...            4   \n",
              "\n",
              "   total_lines  \n",
              "0           11  \n",
              "1           11  \n",
              "2           11  \n",
              "3           11  \n",
              "4           11  "
            ],
            "text/html": [
              "\n",
              "  <div id=\"df-18a56c4c-29f4-494f-b90b-81666ab37494\" class=\"colab-df-container\">\n",
              "    <div>\n",
              "<style scoped>\n",
              "    .dataframe tbody tr th:only-of-type {\n",
              "        vertical-align: middle;\n",
              "    }\n",
              "\n",
              "    .dataframe tbody tr th {\n",
              "        vertical-align: top;\n",
              "    }\n",
              "\n",
              "    .dataframe thead th {\n",
              "        text-align: right;\n",
              "    }\n",
              "</style>\n",
              "<table border=\"1\" class=\"dataframe\">\n",
              "  <thead>\n",
              "    <tr style=\"text-align: right;\">\n",
              "      <th></th>\n",
              "      <th>target</th>\n",
              "      <th>text</th>\n",
              "      <th>line_number</th>\n",
              "      <th>total_lines</th>\n",
              "    </tr>\n",
              "  </thead>\n",
              "  <tbody>\n",
              "    <tr>\n",
              "      <th>0</th>\n",
              "      <td>OBJECTIVE</td>\n",
              "      <td>to investigate the efficacy of @ weeks of dail...</td>\n",
              "      <td>0</td>\n",
              "      <td>11</td>\n",
              "    </tr>\n",
              "    <tr>\n",
              "      <th>1</th>\n",
              "      <td>METHODS</td>\n",
              "      <td>a total of @ patients with primary knee oa wer...</td>\n",
              "      <td>1</td>\n",
              "      <td>11</td>\n",
              "    </tr>\n",
              "    <tr>\n",
              "      <th>2</th>\n",
              "      <td>METHODS</td>\n",
              "      <td>outcome measures included pain reduction and i...</td>\n",
              "      <td>2</td>\n",
              "      <td>11</td>\n",
              "    </tr>\n",
              "    <tr>\n",
              "      <th>3</th>\n",
              "      <td>METHODS</td>\n",
              "      <td>pain was assessed using the visual analog pain...</td>\n",
              "      <td>3</td>\n",
              "      <td>11</td>\n",
              "    </tr>\n",
              "    <tr>\n",
              "      <th>4</th>\n",
              "      <td>METHODS</td>\n",
              "      <td>secondary outcome measures included the wester...</td>\n",
              "      <td>4</td>\n",
              "      <td>11</td>\n",
              "    </tr>\n",
              "  </tbody>\n",
              "</table>\n",
              "</div>\n",
              "    <div class=\"colab-df-buttons\">\n",
              "\n",
              "  <div class=\"colab-df-container\">\n",
              "    <button class=\"colab-df-convert\" onclick=\"convertToInteractive('df-18a56c4c-29f4-494f-b90b-81666ab37494')\"\n",
              "            title=\"Convert this dataframe to an interactive table.\"\n",
              "            style=\"display:none;\">\n",
              "\n",
              "  <svg xmlns=\"http://www.w3.org/2000/svg\" height=\"24px\" viewBox=\"0 -960 960 960\">\n",
              "    <path d=\"M120-120v-720h720v720H120Zm60-500h600v-160H180v160Zm220 220h160v-160H400v160Zm0 220h160v-160H400v160ZM180-400h160v-160H180v160Zm440 0h160v-160H620v160ZM180-180h160v-160H180v160Zm440 0h160v-160H620v160Z\"/>\n",
              "  </svg>\n",
              "    </button>\n",
              "\n",
              "  <style>\n",
              "    .colab-df-container {\n",
              "      display:flex;\n",
              "      gap: 12px;\n",
              "    }\n",
              "\n",
              "    .colab-df-convert {\n",
              "      background-color: #E8F0FE;\n",
              "      border: none;\n",
              "      border-radius: 50%;\n",
              "      cursor: pointer;\n",
              "      display: none;\n",
              "      fill: #1967D2;\n",
              "      height: 32px;\n",
              "      padding: 0 0 0 0;\n",
              "      width: 32px;\n",
              "    }\n",
              "\n",
              "    .colab-df-convert:hover {\n",
              "      background-color: #E2EBFA;\n",
              "      box-shadow: 0px 1px 2px rgba(60, 64, 67, 0.3), 0px 1px 3px 1px rgba(60, 64, 67, 0.15);\n",
              "      fill: #174EA6;\n",
              "    }\n",
              "\n",
              "    .colab-df-buttons div {\n",
              "      margin-bottom: 4px;\n",
              "    }\n",
              "\n",
              "    [theme=dark] .colab-df-convert {\n",
              "      background-color: #3B4455;\n",
              "      fill: #D2E3FC;\n",
              "    }\n",
              "\n",
              "    [theme=dark] .colab-df-convert:hover {\n",
              "      background-color: #434B5C;\n",
              "      box-shadow: 0px 1px 3px 1px rgba(0, 0, 0, 0.15);\n",
              "      filter: drop-shadow(0px 1px 2px rgba(0, 0, 0, 0.3));\n",
              "      fill: #FFFFFF;\n",
              "    }\n",
              "  </style>\n",
              "\n",
              "    <script>\n",
              "      const buttonEl =\n",
              "        document.querySelector('#df-18a56c4c-29f4-494f-b90b-81666ab37494 button.colab-df-convert');\n",
              "      buttonEl.style.display =\n",
              "        google.colab.kernel.accessAllowed ? 'block' : 'none';\n",
              "\n",
              "      async function convertToInteractive(key) {\n",
              "        const element = document.querySelector('#df-18a56c4c-29f4-494f-b90b-81666ab37494');\n",
              "        const dataTable =\n",
              "          await google.colab.kernel.invokeFunction('convertToInteractive',\n",
              "                                                    [key], {});\n",
              "        if (!dataTable) return;\n",
              "\n",
              "        const docLinkHtml = 'Like what you see? Visit the ' +\n",
              "          '<a target=\"_blank\" href=https://colab.research.google.com/notebooks/data_table.ipynb>data table notebook</a>'\n",
              "          + ' to learn more about interactive tables.';\n",
              "        element.innerHTML = '';\n",
              "        dataTable['output_type'] = 'display_data';\n",
              "        await google.colab.output.renderOutput(dataTable, element);\n",
              "        const docLink = document.createElement('div');\n",
              "        docLink.innerHTML = docLinkHtml;\n",
              "        element.appendChild(docLink);\n",
              "      }\n",
              "    </script>\n",
              "  </div>\n",
              "\n",
              "\n",
              "<div id=\"df-862ba8a8-95a6-4564-893a-c866c768cc9e\">\n",
              "  <button class=\"colab-df-quickchart\" onclick=\"quickchart('df-862ba8a8-95a6-4564-893a-c866c768cc9e')\"\n",
              "            title=\"Suggest charts\"\n",
              "            style=\"display:none;\">\n",
              "\n",
              "<svg xmlns=\"http://www.w3.org/2000/svg\" height=\"24px\"viewBox=\"0 0 24 24\"\n",
              "     width=\"24px\">\n",
              "    <g>\n",
              "        <path d=\"M19 3H5c-1.1 0-2 .9-2 2v14c0 1.1.9 2 2 2h14c1.1 0 2-.9 2-2V5c0-1.1-.9-2-2-2zM9 17H7v-7h2v7zm4 0h-2V7h2v10zm4 0h-2v-4h2v4z\"/>\n",
              "    </g>\n",
              "</svg>\n",
              "  </button>\n",
              "\n",
              "<style>\n",
              "  .colab-df-quickchart {\n",
              "      --bg-color: #E8F0FE;\n",
              "      --fill-color: #1967D2;\n",
              "      --hover-bg-color: #E2EBFA;\n",
              "      --hover-fill-color: #174EA6;\n",
              "      --disabled-fill-color: #AAA;\n",
              "      --disabled-bg-color: #DDD;\n",
              "  }\n",
              "\n",
              "  [theme=dark] .colab-df-quickchart {\n",
              "      --bg-color: #3B4455;\n",
              "      --fill-color: #D2E3FC;\n",
              "      --hover-bg-color: #434B5C;\n",
              "      --hover-fill-color: #FFFFFF;\n",
              "      --disabled-bg-color: #3B4455;\n",
              "      --disabled-fill-color: #666;\n",
              "  }\n",
              "\n",
              "  .colab-df-quickchart {\n",
              "    background-color: var(--bg-color);\n",
              "    border: none;\n",
              "    border-radius: 50%;\n",
              "    cursor: pointer;\n",
              "    display: none;\n",
              "    fill: var(--fill-color);\n",
              "    height: 32px;\n",
              "    padding: 0;\n",
              "    width: 32px;\n",
              "  }\n",
              "\n",
              "  .colab-df-quickchart:hover {\n",
              "    background-color: var(--hover-bg-color);\n",
              "    box-shadow: 0 1px 2px rgba(60, 64, 67, 0.3), 0 1px 3px 1px rgba(60, 64, 67, 0.15);\n",
              "    fill: var(--button-hover-fill-color);\n",
              "  }\n",
              "\n",
              "  .colab-df-quickchart-complete:disabled,\n",
              "  .colab-df-quickchart-complete:disabled:hover {\n",
              "    background-color: var(--disabled-bg-color);\n",
              "    fill: var(--disabled-fill-color);\n",
              "    box-shadow: none;\n",
              "  }\n",
              "\n",
              "  .colab-df-spinner {\n",
              "    border: 2px solid var(--fill-color);\n",
              "    border-color: transparent;\n",
              "    border-bottom-color: var(--fill-color);\n",
              "    animation:\n",
              "      spin 1s steps(1) infinite;\n",
              "  }\n",
              "\n",
              "  @keyframes spin {\n",
              "    0% {\n",
              "      border-color: transparent;\n",
              "      border-bottom-color: var(--fill-color);\n",
              "      border-left-color: var(--fill-color);\n",
              "    }\n",
              "    20% {\n",
              "      border-color: transparent;\n",
              "      border-left-color: var(--fill-color);\n",
              "      border-top-color: var(--fill-color);\n",
              "    }\n",
              "    30% {\n",
              "      border-color: transparent;\n",
              "      border-left-color: var(--fill-color);\n",
              "      border-top-color: var(--fill-color);\n",
              "      border-right-color: var(--fill-color);\n",
              "    }\n",
              "    40% {\n",
              "      border-color: transparent;\n",
              "      border-right-color: var(--fill-color);\n",
              "      border-top-color: var(--fill-color);\n",
              "    }\n",
              "    60% {\n",
              "      border-color: transparent;\n",
              "      border-right-color: var(--fill-color);\n",
              "    }\n",
              "    80% {\n",
              "      border-color: transparent;\n",
              "      border-right-color: var(--fill-color);\n",
              "      border-bottom-color: var(--fill-color);\n",
              "    }\n",
              "    90% {\n",
              "      border-color: transparent;\n",
              "      border-bottom-color: var(--fill-color);\n",
              "    }\n",
              "  }\n",
              "</style>\n",
              "\n",
              "  <script>\n",
              "    async function quickchart(key) {\n",
              "      const quickchartButtonEl =\n",
              "        document.querySelector('#' + key + ' button');\n",
              "      quickchartButtonEl.disabled = true;  // To prevent multiple clicks.\n",
              "      quickchartButtonEl.classList.add('colab-df-spinner');\n",
              "      try {\n",
              "        const charts = await google.colab.kernel.invokeFunction(\n",
              "            'suggestCharts', [key], {});\n",
              "      } catch (error) {\n",
              "        console.error('Error during call to suggestCharts:', error);\n",
              "      }\n",
              "      quickchartButtonEl.classList.remove('colab-df-spinner');\n",
              "      quickchartButtonEl.classList.add('colab-df-quickchart-complete');\n",
              "    }\n",
              "    (() => {\n",
              "      let quickchartButtonEl =\n",
              "        document.querySelector('#df-862ba8a8-95a6-4564-893a-c866c768cc9e button');\n",
              "      quickchartButtonEl.style.display =\n",
              "        google.colab.kernel.accessAllowed ? 'block' : 'none';\n",
              "    })();\n",
              "  </script>\n",
              "</div>\n",
              "\n",
              "    </div>\n",
              "  </div>\n"
            ],
            "application/vnd.google.colaboratory.intrinsic+json": {
              "type": "dataframe",
              "variable_name": "train_df"
            }
          },
          "metadata": {},
          "execution_count": 10
        }
      ],
      "source": [
        "import pandas as pd\n",
        "train_df = pd.DataFrame(train_samples)\n",
        "val_df = pd.DataFrame(val_samples)\n",
        "test_df = pd.DataFrame(test_samples)\n",
        "\n",
        "train_df.head()"
      ]
    },
    {
      "cell_type": "code",
      "execution_count": 11,
      "metadata": {
        "colab": {
          "base_uri": "https://localhost:8080/"
        },
        "id": "TYx0lPZE-myr",
        "outputId": "cad1eb4a-c192-48c9-b861-b57912b37e06"
      },
      "outputs": [
        {
          "output_type": "execute_result",
          "data": {
            "text/plain": [
              "METHODS        59353\n",
              "RESULTS        57953\n",
              "CONCLUSIONS    27168\n",
              "BACKGROUND     21727\n",
              "OBJECTIVE      13839\n",
              "Name: target, dtype: int64"
            ]
          },
          "metadata": {},
          "execution_count": 11
        }
      ],
      "source": [
        "# Distribution of labels\n",
        "train_df['target'].value_counts()"
      ]
    },
    {
      "cell_type": "code",
      "execution_count": 12,
      "metadata": {
        "colab": {
          "base_uri": "https://localhost:8080/",
          "height": 448
        },
        "id": "pDcvtPHD-mys",
        "outputId": "c8f3ac9a-16b8-4f0f-adf6-27a4e8be3da7"
      },
      "outputs": [
        {
          "output_type": "execute_result",
          "data": {
            "text/plain": [
              "<Axes: ylabel='Frequency'>"
            ]
          },
          "metadata": {},
          "execution_count": 12
        },
        {
          "output_type": "display_data",
          "data": {
            "text/plain": [
              "<Figure size 640x480 with 1 Axes>"
            ],
            "image/png": "[encoded data removed]"
          },
          "metadata": {}
        }
      ],
      "source": [
        "# Let's check length of different lines\n",
        "train_df['total_lines'].plot.hist()"
      ]
    },
    {
      "cell_type": "markdown",
      "metadata": {
        "id": "pHi-JHoT-myt"
      },
      "source": [
        "### Get a lists of sentences"
      ]
    },
    {
      "cell_type": "code",
      "execution_count": 13,
      "metadata": {
        "colab": {
          "base_uri": "https://localhost:8080/"
        },
        "id": "iO-S4AL4-myt",
        "outputId": "e23fa11d-ec13-47b7-87c8-e3c98edef62b"
      },
      "outputs": [
        {
          "output_type": "execute_result",
          "data": {
            "text/plain": [
              "(180040, 30135, 30212)"
            ]
          },
          "metadata": {},
          "execution_count": 13
        }
      ],
      "source": [
        "# Convert abstract text lines into lists\n",
        "train_sentences = train_df['text'].to_list()\n",
        "val_sentences = val_df['text'].to_list()\n",
        "test_sentences = test_df['text'].to_list()\n",
        "\n",
        "len(train_sentences), len(val_sentences), len(test_sentences)"
      ]
    },
    {
      "cell_type": "markdown",
      "metadata": {
        "id": "8Uycyf4w-myt"
      },
      "source": [
        "## Make numeric labels"
      ]
    },
    {
      "cell_type": "code",
      "execution_count": 14,
      "metadata": {
        "colab": {
          "base_uri": "https://localhost:8080/"
        },
        "id": "3WRsjBlr-myu",
        "outputId": "8830ac1c-e740-44b2-e62f-064eebe7ebee"
      },
      "outputs": [
        {
          "output_type": "stream",
          "name": "stderr",
          "text": [
            "/usr/local/lib/python3.10/dist-packages/sklearn/preprocessing/_encoders.py:868: FutureWarning: `sparse` was renamed to `sparse_output` in version 1.2 and will be removed in 1.4. `sparse_output` is ignored unless you leave `sparse` to its default value.\n",
            "  warnings.warn(\n"
          ]
        },
        {
          "output_type": "execute_result",
          "data": {
            "text/plain": [
              "(180040, 30135, 30212)"
            ]
          },
          "metadata": {},
          "execution_count": 14
        }
      ],
      "source": [
        "from sklearn.preprocessing import OneHotEncoder\n",
        "\n",
        "one_hot_encoder = OneHotEncoder(sparse= False)\n",
        "train_labels_one_hot = one_hot_encoder.fit_transform(train_df['target'].to_numpy().reshape(-1, 1))\n",
        "val_labels_one_hot = one_hot_encoder.transform(val_df['target'].to_numpy().reshape(-1, 1))\n",
        "test_labels_one_hot = one_hot_encoder.transform(test_df['target'].to_numpy().reshape(-1, 1))\n",
        "\n",
        "len(train_labels_one_hot), len(val_labels_one_hot), len(test_labels_one_hot)"
      ]
    },
    {
      "cell_type": "markdown",
      "metadata": {
        "id": "paorIYN6-myu"
      },
      "source": [
        "## Label encode labels"
      ]
    },
    {
      "cell_type": "code",
      "execution_count": 15,
      "metadata": {
        "colab": {
          "base_uri": "https://localhost:8080/"
        },
        "id": "Qt8yyzYH-myu",
        "outputId": "08bd2b00-ab68-401f-9127-726e68b628b3"
      },
      "outputs": [
        {
          "output_type": "execute_result",
          "data": {
            "text/plain": [
              "array([3, 2, 2, ..., 4, 1, 1])"
            ]
          },
          "metadata": {},
          "execution_count": 15
        }
      ],
      "source": [
        "# Extract labels and encode them into integers\n",
        "from sklearn.preprocessing import LabelEncoder\n",
        "label_encoder = LabelEncoder()\n",
        "\n",
        "train_labels_encoded = label_encoder.fit_transform(train_df['target'].to_numpy())\n",
        "val_labels_encoded = label_encoder.transform(val_df['target'].to_numpy())\n",
        "test_labels_encoded = label_encoder.transform(test_df['target'].to_numpy())\n",
        "\n",
        "train_labels_encoded"
      ]
    },
    {
      "cell_type": "code",
      "execution_count": 16,
      "metadata": {
        "colab": {
          "base_uri": "https://localhost:8080/"
        },
        "id": "vvEqNFYv-myv",
        "outputId": "b0d9de9d-3432-46fe-d70d-0fdf06cb3f14"
      },
      "outputs": [
        {
          "output_type": "execute_result",
          "data": {
            "text/plain": [
              "(5,\n",
              " array(['BACKGROUND', 'CONCLUSIONS', 'METHODS', 'OBJECTIVE', 'RESULTS'],\n",
              "       dtype=object))"
            ]
          },
          "metadata": {},
          "execution_count": 16
        }
      ],
      "source": [
        "# get class names and number of classes from LabelEncoder\n",
        "num_classes = len(label_encoder.classes_)\n",
        "class_names = label_encoder.classes_\n",
        "\n",
        "num_classes, class_names"
      ]
    },
    {
      "cell_type": "markdown",
      "metadata": {
        "id": "hGCMNIsD-myv"
      },
      "source": [
        "## Experiments"
      ]
    },
    {
      "cell_type": "markdown",
      "metadata": {
        "id": "tFsS11w3-myw"
      },
      "source": [
        "### Model 0: Getting a baseling"
      ]
    },
    {
      "cell_type": "code",
      "execution_count": 17,
      "metadata": {
        "colab": {
          "base_uri": "https://localhost:8080/",
          "height": 124
        },
        "id": "5YBvvScm-myw",
        "outputId": "a103e792-bbc8-4e44-aebf-f820f487d653"
      },
      "outputs": [
        {
          "output_type": "execute_result",
          "data": {
            "text/plain": [
              "Pipeline(steps=[('tf-idf', TfidfVectorizer()), ('clf', MultinomialNB())])"
            ],
            "text/html": [
              "<style>#sk-container-id-1 {color: black;background-color: white;}#sk-container-id-1 pre{padding: 0;}#sk-container-id-1 div.sk-toggleable {background-color: white;}#sk-container-id-1 label.sk-toggleable__label {cursor: pointer;display: block;width: 100%;margin-bottom: 0;padding: 0.3em;box-sizing: border-box;text-align: center;}#sk-container-id-1 label.sk-toggleable__label-arrow:before {content: \"▸\";float: left;margin-right: 0.25em;color: #696969;}#sk-container-id-1 label.sk-toggleable__label-arrow:hover:before {color: black;}#sk-container-id-1 div.sk-estimator:hover label.sk-toggleable__label-arrow:before {color: black;}#sk-container-id-1 div.sk-toggleable__content {max-height: 0;max-width: 0;overflow: hidden;text-align: left;background-color: #f0f8ff;}#sk-container-id-1 div.sk-toggleable__content pre {margin: 0.2em;color: black;border-radius: 0.25em;background-color: #f0f8ff;}#sk-container-id-1 input.sk-toggleable__control:checked~div.sk-toggleable__content {max-height: 200px;max-width: 100%;overflow: auto;}#sk-container-id-1 input.sk-toggleable__control:checked~label.sk-toggleable__label-arrow:before {content: \"▾\";}#sk-container-id-1 div.sk-estimator input.sk-toggleable__control:checked~label.sk-toggleable__label {background-color: #d4ebff;}#sk-container-id-1 div.sk-label input.sk-toggleable__control:checked~label.sk-toggleable__label {background-color: #d4ebff;}#sk-container-id-1 input.sk-hidden--visually {border: 0;clip: rect(1px 1px 1px 1px);clip: rect(1px, 1px, 1px, 1px);height: 1px;margin: -1px;overflow: hidden;padding: 0;position: absolute;width: 1px;}#sk-container-id-1 div.sk-estimator {font-family: monospace;background-color: #f0f8ff;border: 1px dotted black;border-radius: 0.25em;box-sizing: border-box;margin-bottom: 0.5em;}#sk-container-id-1 div.sk-estimator:hover {background-color: #d4ebff;}#sk-container-id-1 div.sk-parallel-item::after {content: \"\";width: 100%;border-bottom: 1px solid gray;flex-grow: 1;}#sk-container-id-1 div.sk-label:hover label.sk-toggleable__label {background-color: #d4ebff;}#sk-container-id-1 div.sk-serial::before {content: \"\";position: absolute;border-left: 1px solid gray;box-sizing: border-box;top: 0;bottom: 0;left: 50%;z-index: 0;}#sk-container-id-1 div.sk-serial {display: flex;flex-direction: column;align-items: center;background-color: white;padding-right: 0.2em;padding-left: 0.2em;position: relative;}#sk-container-id-1 div.sk-item {position: relative;z-index: 1;}#sk-container-id-1 div.sk-parallel {display: flex;align-items: stretch;justify-content: center;background-color: white;position: relative;}#sk-container-id-1 div.sk-item::before, #sk-container-id-1 div.sk-parallel-item::before {content: \"\";position: absolute;border-left: 1px solid gray;box-sizing: border-box;top: 0;bottom: 0;left: 50%;z-index: -1;}#sk-container-id-1 div.sk-parallel-item {display: flex;flex-direction: column;z-index: 1;position: relative;background-color: white;}#sk-container-id-1 div.sk-parallel-item:first-child::after {align-self: flex-end;width: 50%;}#sk-container-id-1 div.sk-parallel-item:last-child::after {align-self: flex-start;width: 50%;}#sk-container-id-1 div.sk-parallel-item:only-child::after {width: 0;}#sk-container-id-1 div.sk-dashed-wrapped {border: 1px dashed gray;margin: 0 0.4em 0.5em 0.4em;box-sizing: border-box;padding-bottom: 0.4em;background-color: white;}#sk-container-id-1 div.sk-label label {font-family: monospace;font-weight: bold;display: inline-block;line-height: 1.2em;}#sk-container-id-1 div.sk-label-container {text-align: center;}#sk-container-id-1 div.sk-container {/* jupyter's `normalize.less` sets `[hidden] { display: none; }` but bootstrap.min.css set `[hidden] { display: none !important; }` so we also need the `!important` here to be able to override the default hidden behavior on the sphinx rendered scikit-learn.org. See: https://github.com/scikit-learn/scikit-learn/issues/21755 */display: inline-block !important;position: relative;}#sk-container-id-1 div.sk-text-repr-fallback {display: none;}</style><div id=\"sk-container-id-1\" class=\"sk-top-container\"><div class=\"sk-text-repr-fallback\"><pre>Pipeline(steps=[(&#x27;tf-idf&#x27;, TfidfVectorizer()), (&#x27;clf&#x27;, MultinomialNB())])</pre><b>In a Jupyter environment, please rerun this cell to show the HTML representation or trust the notebook. <br />On GitHub, the HTML representation is unable to render, please try loading this page with nbviewer.org.</b></div><div class=\"sk-container\" hidden><div class=\"sk-item sk-dashed-wrapped\"><div class=\"sk-label-container\"><div class=\"sk-label sk-toggleable\"><input class=\"sk-toggleable__control sk-hidden--visually\" id=\"sk-estimator-id-1\" type=\"checkbox\" ><label for=\"sk-estimator-id-1\" class=\"sk-toggleable__label sk-toggleable__label-arrow\">Pipeline</label><div class=\"sk-toggleable__content\"><pre>Pipeline(steps=[(&#x27;tf-idf&#x27;, TfidfVectorizer()), (&#x27;clf&#x27;, MultinomialNB())])</pre></div></div></div><div class=\"sk-serial\"><div class=\"sk-item\"><div class=\"sk-estimator sk-toggleable\"><input class=\"sk-toggleable__control sk-hidden--visually\" id=\"sk-estimator-id-2\" type=\"checkbox\" ><label for=\"sk-estimator-id-2\" class=\"sk-toggleable__label sk-toggleable__label-arrow\">TfidfVectorizer</label><div class=\"sk-toggleable__content\"><pre>TfidfVectorizer()</pre></div></div></div><div class=\"sk-item\"><div class=\"sk-estimator sk-toggleable\"><input class=\"sk-toggleable__control sk-hidden--visually\" id=\"sk-estimator-id-3\" type=\"checkbox\" ><label for=\"sk-estimator-id-3\" class=\"sk-toggleable__label sk-toggleable__label-arrow\">MultinomialNB</label><div class=\"sk-toggleable__content\"><pre>MultinomialNB()</pre></div></div></div></div></div></div></div>"
            ]
          },
          "metadata": {},
          "execution_count": 17
        }
      ],
      "source": [
        "from sklearn.feature_extraction.text import TfidfVectorizer\n",
        "from sklearn.naive_bayes import MultinomialNB\n",
        "from sklearn.pipeline import Pipeline\n",
        "\n",
        "# Create a pipeline\n",
        "\n",
        "model_0 = Pipeline([\n",
        "    ('tf-idf', TfidfVectorizer()),\n",
        "    ('clf', MultinomialNB())\n",
        "])\n",
        "\n",
        "# Fit the pipeline to the training data\n",
        "model_0.fit(X= train_sentences,\n",
        "            y= train_labels_encoded)"
      ]
    },
    {
      "cell_type": "code",
      "execution_count": 18,
      "metadata": {
        "colab": {
          "base_uri": "https://localhost:8080/"
        },
        "id": "ZWZLhFbw-myw",
        "outputId": "0bde2882-66c1-4e7a-b927-6c28373a72b2"
      },
      "outputs": [
        {
          "output_type": "execute_result",
          "data": {
            "text/plain": [
              "0.716674962667994"
            ]
          },
          "metadata": {},
          "execution_count": 18
        }
      ],
      "source": [
        "# Evaluate baseline model on validation dataset\n",
        "model_0.score(X= val_sentences,\n",
        "              y= val_labels_encoded)"
      ]
    },
    {
      "cell_type": "code",
      "execution_count": 19,
      "metadata": {
        "colab": {
          "base_uri": "https://localhost:8080/"
        },
        "id": "xyh02Gpz-myx",
        "outputId": "c7ad3967-f385-4ed2-d319-d4130e288dfb"
      },
      "outputs": [
        {
          "output_type": "execute_result",
          "data": {
            "text/plain": [
              "array([2, 2, 2, ..., 4, 4, 4])"
            ]
          },
          "metadata": {},
          "execution_count": 19
        }
      ],
      "source": [
        "# Make prediction using baseline model\n",
        "baseline_preds = model_0.predict(val_sentences)\n",
        "baseline_preds"
      ]
    },
    {
      "cell_type": "markdown",
      "metadata": {
        "id": "vm6PL6j5-myx"
      },
      "source": [
        "#### Download helper function script for evaluation"
      ]
    },
    {
      "cell_type": "code",
      "source": [
        "!wget https://raw.githubusercontent.com/mrdbourke/tensorflow-deep-learning/main/extras/helper_functions.py"
      ],
      "metadata": {
        "id": "DduLodtR-myy",
        "colab": {
          "base_uri": "https://localhost:8080/"
        },
        "outputId": "b6127b9e-894d-4665-a9a9-0ee8f4498c5c"
      },
      "execution_count": 20,
      "outputs": [
        {
          "output_type": "stream",
          "name": "stdout",
          "text": [
            "--2024-03-16 18:27:54--  https://raw.githubusercontent.com/mrdbourke/tensorflow-deep-learning/main/extras/helper_functions.py\n",
            "Resolving raw.githubusercontent.com (raw.githubusercontent.com)... 185.199.108.133, 185.199.109.133, 185.199.110.133, ...\n",
            "Connecting to raw.githubusercontent.com (raw.githubusercontent.com)|185.199.108.133|:443... connected.\n",
            "HTTP request sent, awaiting response... 200 OK\n",
            "Length: 10246 (10K) [text/plain]\n",
            "Saving to: ‘helper_functions.py’\n",
            "\n",
            "helper_functions.py 100%[===================>]  10.01K  --.-KB/s    in 0.001s  \n",
            "\n",
            "2024-03-16 18:27:55 (9.09 MB/s) - ‘helper_functions.py’ saved [10246/10246]\n",
            "\n"
          ]
        }
      ]
    },
    {
      "cell_type": "code",
      "execution_count": 21,
      "metadata": {
        "id": "Las385HT-myy"
      },
      "outputs": [],
      "source": [
        "from helper_functions import calculate_results"
      ]
    },
    {
      "cell_type": "code",
      "execution_count": 22,
      "metadata": {
        "colab": {
          "base_uri": "https://localhost:8080/"
        },
        "id": "tupONVFA-myy",
        "outputId": "590d2776-e331-4ca3-b614-c5691a1a7a83"
      },
      "outputs": [
        {
          "output_type": "execute_result",
          "data": {
            "text/plain": [
              "{'accuracy': 71.6674962667994,\n",
              " 'precision': 0.7124322482375202,\n",
              " 'recall': 0.716674962667994,\n",
              " 'f1': 0.6925101703856846}"
            ]
          },
          "metadata": {},
          "execution_count": 22
        }
      ],
      "source": [
        "# Calculate baseline results\n",
        "baseline_results = calculate_results(y_true= val_labels_encoded,\n",
        "                                     y_pred= baseline_preds)\n",
        "baseline_results"
      ]
    },
    {
      "cell_type": "code",
      "execution_count": 23,
      "metadata": {
        "id": "I3KcNfWw-myy"
      },
      "outputs": [],
      "source": [
        "import tensorflow as tf"
      ]
    },
    {
      "cell_type": "markdown",
      "metadata": {
        "id": "NvapNzyN-myy"
      },
      "source": [
        "## Preparing our data for deep sequence models\n",
        "\n",
        "Before we start building deep model, we've got tocreate vectorization and embedding layers"
      ]
    },
    {
      "cell_type": "code",
      "execution_count": 24,
      "metadata": {
        "id": "c-Cki8jD-myy"
      },
      "outputs": [],
      "source": [
        "import numpy as np\n",
        "from tensorflow.keras import layers"
      ]
    },
    {
      "cell_type": "code",
      "execution_count": 25,
      "metadata": {
        "colab": {
          "base_uri": "https://localhost:8080/"
        },
        "id": "xWVohoBe-myy",
        "outputId": "2ff6df1e-ebeb-4c85-837e-faa3a79e0153"
      },
      "outputs": [
        {
          "output_type": "execute_result",
          "data": {
            "text/plain": [
              "26.338269273494777"
            ]
          },
          "metadata": {},
          "execution_count": 25
        }
      ],
      "source": [
        "# how long is ech sentences on average\n",
        "sent_lens = [len(sentence.split()) for sentence in train_sentences]\n",
        "avg_sentence_len = np.mean(sent_lens)\n",
        "avg_sentence_len"
      ]
    },
    {
      "cell_type": "code",
      "execution_count": 26,
      "metadata": {
        "colab": {
          "base_uri": "https://localhost:8080/",
          "height": 685
        },
        "id": "sFwvUGcX-myy",
        "outputId": "4614e1b9-4907-4d80-e238-dfde36d1c52a"
      },
      "outputs": [
        {
          "output_type": "execute_result",
          "data": {
            "text/plain": [
              "(array([1.6499e+04, 5.6664e+04, 5.2683e+04, 2.9050e+04, 1.3111e+04,\n",
              "        5.6610e+03, 3.0490e+03, 1.5190e+03, 8.0800e+02, 4.3200e+02,\n",
              "        2.2600e+02, 1.2800e+02, 7.7000e+01, 3.9000e+01, 3.0000e+01,\n",
              "        1.5000e+01, 9.0000e+00, 8.0000e+00, 4.0000e+00, 8.0000e+00,\n",
              "        7.0000e+00, 5.0000e+00, 1.0000e+00, 2.0000e+00, 3.0000e+00,\n",
              "        0.0000e+00, 0.0000e+00, 1.0000e+00, 0.0000e+00, 1.0000e+00]),\n",
              " array([  1.        ,  10.83333333,  20.66666667,  30.5       ,\n",
              "         40.33333333,  50.16666667,  60.        ,  69.83333333,\n",
              "         79.66666667,  89.5       ,  99.33333333, 109.16666667,\n",
              "        119.        , 128.83333333, 138.66666667, 148.5       ,\n",
              "        158.33333333, 168.16666667, 178.        , 187.83333333,\n",
              "        197.66666667, 207.5       , 217.33333333, 227.16666667,\n",
              "        237.        , 246.83333333, 256.66666667, 266.5       ,\n",
              "        276.33333333, 286.16666667, 296.        ]),\n",
              " <BarContainer object of 30 artists>)"
            ]
          },
          "metadata": {},
          "execution_count": 26
        },
        {
          "output_type": "display_data",
          "data": {
            "text/plain": [
              "<Figure size 640x480 with 1 Axes>"
            ],
            "image/png": "[encoded data removed]"
          },
          "metadata": {}
        }
      ],
      "source": [
        "# What is the distribution of the sentences\n",
        "import matplotlib.pyplot as plt\n",
        "plt.hist(sent_lens, bins= 30)"
      ]
    },
    {
      "cell_type": "code",
      "execution_count": 27,
      "metadata": {
        "colab": {
          "base_uri": "https://localhost:8080/"
        },
        "id": "3URCcD1u-myz",
        "outputId": "34eb8d6e-bd18-491f-dc4f-7f9a11868207"
      },
      "outputs": [
        {
          "output_type": "execute_result",
          "data": {
            "text/plain": [
              "55"
            ]
          },
          "metadata": {},
          "execution_count": 27
        }
      ],
      "source": [
        "# How longof a sentence length covers 95% of examples\n",
        "output_seq_len = int(np.percentile(sent_lens, 95))\n",
        "output_seq_len"
      ]
    },
    {
      "cell_type": "code",
      "execution_count": 28,
      "metadata": {
        "colab": {
          "base_uri": "https://localhost:8080/"
        },
        "id": "_FwqrgJi-myz",
        "outputId": "29280277-30bb-4a30-94f2-247e3366cf8d"
      },
      "outputs": [
        {
          "output_type": "execute_result",
          "data": {
            "text/plain": [
              "296"
            ]
          },
          "metadata": {},
          "execution_count": 28
        }
      ],
      "source": [
        "# maximum sequence length\n",
        "max(sent_lens)"
      ]
    },
    {
      "cell_type": "markdown",
      "metadata": {
        "id": "wlpWqWkn-myz"
      },
      "source": [
        "### Create text vectorizzer layer\n",
        "\n",
        "We want to make a layer which converts text data into vectors"
      ]
    },
    {
      "cell_type": "code",
      "execution_count": 29,
      "metadata": {
        "id": "FCoHCkh0-myz"
      },
      "outputs": [],
      "source": [
        "# Creating text vectorizer\n",
        "max_vocab = 68000\n",
        "text_vectorizer = layers.TextVectorization(max_tokens= max_vocab,\n",
        "                                           output_sequence_length= output_seq_len)"
      ]
    },
    {
      "cell_type": "code",
      "execution_count": 30,
      "metadata": {
        "id": "rkuguopz-myz"
      },
      "outputs": [],
      "source": [
        "# Adapt text vectorizer to training sentences\n",
        "text_vectorizer.adapt(train_sentences)"
      ]
    },
    {
      "cell_type": "code",
      "execution_count": 31,
      "metadata": {
        "colab": {
          "base_uri": "https://localhost:8080/"
        },
        "id": "zcxy6hwn-myz",
        "outputId": "ba04192c-a6ad-4581-89e5-838600172e98"
      },
      "outputs": [
        {
          "output_type": "stream",
          "name": "stdout",
          "text": [
            "Text: a direct kinetic gait evaluation has never been performed , nor has the effect of pelvis dimorphism on the upper body been studied .\n",
            "Length of Text: 24\n",
            "Vectorized: [    8   982  7673  1222   381   139  3305   167   153  1355   139     2\n",
            "    70     4  8391 59681    18     2   763   239   167   685     0     0\n",
            "     0     0     0     0     0     0     0     0     0     0     0     0\n",
            "     0     0     0     0     0     0     0     0     0     0     0     0\n",
            "     0     0     0     0     0     0     0]\n"
          ]
        }
      ],
      "source": [
        "# Test out text vectorizer on random sentences\n",
        "\n",
        "import random\n",
        "target_senteces = random.choice(train_sentences)\n",
        "print(f\"Text: {target_senteces}\")\n",
        "print(f\"Length of Text: {len(target_senteces.split())}\")\n",
        "print(f\"Vectorized: {text_vectorizer(target_senteces)}\")"
      ]
    },
    {
      "cell_type": "code",
      "execution_count": 32,
      "metadata": {
        "colab": {
          "base_uri": "https://localhost:8080/"
        },
        "id": "S6XWr07q-my0",
        "outputId": "71876deb-b6fc-4e74-8835-bcab7f13a210"
      },
      "outputs": [
        {
          "output_type": "stream",
          "name": "stdout",
          "text": [
            "Number of words in vocab: 64841\n",
            "Most common words: ['', '[UNK]', 'the', 'and', 'of']\n",
            "Least common words: ['aainduced', 'aaigroup', 'aachener', 'aachen', 'aaacp']\n"
          ]
        }
      ],
      "source": [
        "# How many words in our training vocab\n",
        "rct_20k_vocab = text_vectorizer.get_vocabulary()\n",
        "\n",
        "print(f\"Number of words in vocab: {len(rct_20k_vocab)}\")\n",
        "print(f\"Most common words: {rct_20k_vocab[:5]}\")\n",
        "print(f\"Least common words: {rct_20k_vocab[-5:]}\")"
      ]
    },
    {
      "cell_type": "code",
      "execution_count": 33,
      "metadata": {
        "colab": {
          "base_uri": "https://localhost:8080/"
        },
        "id": "vNSEikjK-my0",
        "outputId": "88f489f6-f81d-4e51-e361-0521d3dc5a86"
      },
      "outputs": [
        {
          "output_type": "execute_result",
          "data": {
            "text/plain": [
              "{'name': 'text_vectorization',\n",
              " 'trainable': True,\n",
              " 'dtype': 'string',\n",
              " 'batch_input_shape': (None,),\n",
              " 'max_tokens': 68000,\n",
              " 'standardize': 'lower_and_strip_punctuation',\n",
              " 'split': 'whitespace',\n",
              " 'ngrams': None,\n",
              " 'output_mode': 'int',\n",
              " 'output_sequence_length': 55,\n",
              " 'pad_to_max_tokens': False,\n",
              " 'sparse': False,\n",
              " 'ragged': False,\n",
              " 'vocabulary': None,\n",
              " 'idf_weights': None,\n",
              " 'encoding': 'utf-8',\n",
              " 'vocabulary_size': 64841}"
            ]
          },
          "metadata": {},
          "execution_count": 33
        }
      ],
      "source": [
        "# Get the config of our text vectorizer\n",
        "text_vectorizer.get_config()"
      ]
    },
    {
      "cell_type": "markdown",
      "metadata": {
        "id": "p4jnc4b2-my0"
      },
      "source": [
        "### Create an embedding layer"
      ]
    },
    {
      "cell_type": "code",
      "execution_count": 34,
      "metadata": {
        "id": "DMB6XFaV-my0"
      },
      "outputs": [],
      "source": [
        "embedding = layers.Embedding(input_dim= len(rct_20k_vocab),\n",
        "                             output_dim= 128,\n",
        "                             mask_zero= True, # use masking to handle variable sequence length\n",
        "                             name= 'token_embedding'\n",
        "                             )"
      ]
    },
    {
      "cell_type": "code",
      "execution_count": 35,
      "metadata": {
        "colab": {
          "base_uri": "https://localhost:8080/"
        },
        "id": "w0PQ0Pk4-my0",
        "outputId": "c4de09ce-5152-4b64-e073-e0af73fe4a18"
      },
      "outputs": [
        {
          "output_type": "stream",
          "name": "stdout",
          "text": [
            "Text: we report the experience with @ patients in our center of which @ full responders have completed @ and @ years of treatment with disease control .\n",
            "Embed: (1, 55, 128)\n"
          ]
        }
      ],
      "source": [
        "random_sentence = random.choice(train_sentences)\n",
        "print(f\"Text: {random_sentence}\")\n",
        "print(f\"Embed: {embedding(text_vectorizer([random_sentence])).shape}\")"
      ]
    },
    {
      "cell_type": "markdown",
      "metadata": {
        "id": "f8dQeaBz-my0"
      },
      "source": [
        "## Creating dataset\n",
        "\n",
        "We're going to setup our data to run as fast as possible with tf.data API"
      ]
    },
    {
      "cell_type": "code",
      "execution_count": 36,
      "metadata": {
        "colab": {
          "base_uri": "https://localhost:8080/"
        },
        "id": "iKCBaqZx-my0",
        "outputId": "86058ae8-632a-4dc1-9e4d-fc8a8a4ac545"
      },
      "outputs": [
        {
          "output_type": "execute_result",
          "data": {
            "text/plain": [
              "<_TensorSliceDataset element_spec=(TensorSpec(shape=(), dtype=tf.string, name=None), TensorSpec(shape=(5,), dtype=tf.float64, name=None))>"
            ]
          },
          "metadata": {},
          "execution_count": 36
        }
      ],
      "source": [
        "# Turn our data into Tensorflow Datasets\n",
        "train_dataset = tf.data.Dataset.from_tensor_slices((train_sentences, train_labels_one_hot))\n",
        "val_dataset = tf.data.Dataset.from_tensor_slices((val_sentences, val_labels_one_hot))\n",
        "test_dataset = tf.data.Dataset.from_tensor_slices((test_sentences, test_labels_one_hot))\n",
        "\n",
        "train_dataset"
      ]
    },
    {
      "cell_type": "code",
      "execution_count": 37,
      "metadata": {
        "colab": {
          "base_uri": "https://localhost:8080/"
        },
        "id": "-95Ewws8-my0",
        "outputId": "cbc8bd7d-8132-4ae3-ae0a-9b707270fda1"
      },
      "outputs": [
        {
          "output_type": "execute_result",
          "data": {
            "text/plain": [
              "<_PrefetchDataset element_spec=(TensorSpec(shape=(None,), dtype=tf.string, name=None), TensorSpec(shape=(None, 5), dtype=tf.float64, name=None))>"
            ]
          },
          "metadata": {},
          "execution_count": 37
        }
      ],
      "source": [
        "# Take the tensor_slice dataset and turn them into prefetch dataset\n",
        "train_dataset = train_dataset.batch(32).prefetch(tf.data.AUTOTUNE)\n",
        "val_dataset = val_dataset.batch(32).prefetch(tf.data.AUTOTUNE)\n",
        "test_dataset = test_dataset.batch(32).prefetch(tf.data.AUTOTUNE)\n",
        "\n",
        "train_dataset"
      ]
    },
    {
      "cell_type": "markdown",
      "metadata": {
        "id": "8I7GM1ip-my0"
      },
      "source": [
        "### Model 1: CNN 1D"
      ]
    },
    {
      "cell_type": "code",
      "execution_count": 38,
      "metadata": {
        "colab": {
          "base_uri": "https://localhost:8080/"
        },
        "id": "gxPxN2nC-my1",
        "outputId": "05b73398-7274-450b-d2ef-fdedcaa04958"
      },
      "outputs": [
        {
          "output_type": "stream",
          "name": "stdout",
          "text": [
            "Model: \"model\"\n",
            "_________________________________________________________________\n",
            " Layer (type)                Output Shape              Param #   \n",
            "=================================================================\n",
            " input_1 (InputLayer)        [(None, 1)]               0         \n",
            "                                                                 \n",
            " text_vectorization (TextVe  (None, 55)                0         \n",
            " ctorization)                                                    \n",
            "                                                                 \n",
            " token_embedding (Embedding  (None, 55, 128)           8299648   \n",
            " )                                                               \n",
            "                                                                 \n",
            " cnn_1d_layer (Conv1D)       (None, 55, 64)            41024     \n",
            "                                                                 \n",
            " global_avg_pool_layer (Glo  (None, 64)                0         \n",
            " balAveragePooling1D)                                            \n",
            "                                                                 \n",
            " output_layer (Dense)        (None, 5)                 325       \n",
            "                                                                 \n",
            "=================================================================\n",
            "Total params: 8340997 (31.82 MB)\n",
            "Trainable params: 8340997 (31.82 MB)\n",
            "Non-trainable params: 0 (0.00 Byte)\n",
            "_________________________________________________________________\n"
          ]
        }
      ],
      "source": [
        "inputs = layers.Input(shape= (1, ), dtype= 'string')\n",
        "x = text_vectorizer(inputs)\n",
        "x = embedding(x)\n",
        "x = layers.Conv1D(64, 5, activation= 'relu', padding='same', name= 'cnn_1d_layer')(x)\n",
        "x = layers.GlobalAveragePooling1D(name= 'global_avg_pool_layer')(x)\n",
        "outputs = layers.Dense(num_classes, activation= 'softmax', name= 'output_layer')(x)\n",
        "\n",
        "model_1 = tf.keras.Model(inputs, outputs)\n",
        "\n",
        "model_1.compile(loss= 'categorical_crossentropy',\n",
        "                optimizer= tf.keras.optimizers.legacy.Adam(),\n",
        "                metrics= ['accuracy'])\n",
        "\n",
        "model_1.summary()"
      ]
    },
    {
      "cell_type": "code",
      "execution_count": 39,
      "metadata": {
        "colab": {
          "base_uri": "https://localhost:8080/"
        },
        "id": "MbH-INst-my1",
        "outputId": "d919047e-27b9-4ed5-a758-0df4a2818f3c"
      },
      "outputs": [
        {
          "output_type": "stream",
          "name": "stdout",
          "text": [
            "Epoch 1/5\n",
            "562/562 [==============================] - 7s 8ms/step - loss: 0.9075 - accuracy: 0.6436 - val_loss: 0.6776 - val_accuracy: 0.7350\n",
            "Epoch 2/5\n",
            "562/562 [==============================] - 4s 7ms/step - loss: 0.6562 - accuracy: 0.7580 - val_loss: 0.6326 - val_accuracy: 0.7713\n",
            "Epoch 3/5\n",
            "562/562 [==============================] - 4s 7ms/step - loss: 0.6150 - accuracy: 0.7760 - val_loss: 0.5871 - val_accuracy: 0.7822\n",
            "Epoch 4/5\n",
            "562/562 [==============================] - 4s 8ms/step - loss: 0.5869 - accuracy: 0.7899 - val_loss: 0.5669 - val_accuracy: 0.7912\n",
            "Epoch 5/5\n",
            "562/562 [==============================] - 4s 8ms/step - loss: 0.5887 - accuracy: 0.7928 - val_loss: 0.5494 - val_accuracy: 0.7979\n"
          ]
        }
      ],
      "source": [
        "history_model_1 = model_1.fit(train_dataset,\n",
        "                              steps_per_epoch= int(0.1 * len(train_dataset)),\n",
        "                              epochs= 5,\n",
        "                              validation_data= val_dataset,\n",
        "                              validation_steps= int(0.1 * len(val_dataset)))"
      ]
    },
    {
      "cell_type": "code",
      "source": [
        "model_1.evaluate(val_dataset)"
      ],
      "metadata": {
        "colab": {
          "base_uri": "https://localhost:8080/"
        },
        "id": "t16BFboP_3sY",
        "outputId": "396d5cde-cc9c-4283-90c9-1ea2769631e2"
      },
      "execution_count": 40,
      "outputs": [
        {
          "output_type": "stream",
          "name": "stdout",
          "text": [
            "942/942 [==============================] - 2s 3ms/step - loss: 0.5727 - accuracy: 0.7958\n"
          ]
        },
        {
          "output_type": "execute_result",
          "data": {
            "text/plain": [
              "[0.5726765990257263, 0.7957524657249451]"
            ]
          },
          "metadata": {},
          "execution_count": 40
        }
      ]
    },
    {
      "cell_type": "code",
      "source": [
        "model_1_pred = tf.argmax(model_1.predict(val_dataset), axis= 1).numpy()\n",
        "model_1_pred"
      ],
      "metadata": {
        "colab": {
          "base_uri": "https://localhost:8080/"
        },
        "id": "c0mKlOaE_8Oh",
        "outputId": "c1de00f1-b6e9-4dcb-f3f7-cbb5b99b874e"
      },
      "execution_count": 41,
      "outputs": [
        {
          "output_type": "stream",
          "name": "stdout",
          "text": [
            "942/942 [==============================] - 2s 2ms/step\n"
          ]
        },
        {
          "output_type": "execute_result",
          "data": {
            "text/plain": [
              "array([2, 2, 2, ..., 4, 4, 1])"
            ]
          },
          "metadata": {},
          "execution_count": 41
        }
      ]
    },
    {
      "cell_type": "code",
      "source": [
        "# Calculate results\n",
        "model_1_results = calculate_results(val_labels_encoded,\n",
        "                                    model_1_pred)\n",
        "model_1_results"
      ],
      "metadata": {
        "colab": {
          "base_uri": "https://localhost:8080/"
        },
        "id": "9MoLFmTHAVq8",
        "outputId": "85b55003-059f-4a73-bda4-0acaef88f070"
      },
      "execution_count": 42,
      "outputs": [
        {
          "output_type": "execute_result",
          "data": {
            "text/plain": [
              "{'accuracy': 79.57524473203915,\n",
              " 'precision': 0.79494846495921,\n",
              " 'recall': 0.7957524473203915,\n",
              " 'f1': 0.7925252696902022}"
            ]
          },
          "metadata": {},
          "execution_count": 42
        }
      ]
    },
    {
      "cell_type": "code",
      "source": [
        "baseline_results"
      ],
      "metadata": {
        "colab": {
          "base_uri": "https://localhost:8080/"
        },
        "id": "HSgj5lK0BDFH",
        "outputId": "816ba457-87f4-4416-a5ca-28723e219168"
      },
      "execution_count": 43,
      "outputs": [
        {
          "output_type": "execute_result",
          "data": {
            "text/plain": [
              "{'accuracy': 71.6674962667994,\n",
              " 'precision': 0.7124322482375202,\n",
              " 'recall': 0.716674962667994,\n",
              " 'f1': 0.6925101703856846}"
            ]
          },
          "metadata": {},
          "execution_count": 43
        }
      ]
    },
    {
      "cell_type": "code",
      "source": [
        "import tensorflow_hub as hub"
      ],
      "metadata": {
        "id": "KH0AooDTBHkk"
      },
      "execution_count": 44,
      "outputs": []
    },
    {
      "cell_type": "code",
      "source": [
        "sentence_encoder_layer = hub.KerasLayer(\"https://www.kaggle.com/models/google/universal-sentence-encoder/frameworks/TensorFlow2/variations/universal-sentence-encoder/versions/2\",\n",
        "                                        trainable= False,\n",
        "                                        name= 'USE_layer')"
      ],
      "metadata": {
        "id": "gz3TAtNrCiP-"
      },
      "execution_count": 45,
      "outputs": []
    },
    {
      "cell_type": "markdown",
      "source": [
        "### Model 2: Transfer Learning"
      ],
      "metadata": {
        "id": "TirUT0ByFWKV"
      }
    },
    {
      "cell_type": "code",
      "source": [
        "inputs = layers.Input(shape= [], dtype= 'string', name= 'input_layer')\n",
        "x = sentence_encoder_layer(inputs)\n",
        "x = layers.Dense(128, activation= 'relu')(x)\n",
        "outputs = layers.Dense(num_classes, activation= 'softmax', name= 'output_layer')(x)\n",
        "\n",
        "model_2 = tf.keras.Model(inputs= inputs, outputs= outputs, name= 'model_2_USE')\n",
        "\n",
        "model_2.compile(loss= 'categorical_crossentropy',\n",
        "                optimizer= tf.keras.optimizers.Adam(),\n",
        "                metrics= ['accuracy'])"
      ],
      "metadata": {
        "id": "gKX45QG-C6hN"
      },
      "execution_count": 46,
      "outputs": []
    },
    {
      "cell_type": "code",
      "source": [
        "model_2.summary()"
      ],
      "metadata": {
        "id": "Gu1VnhSJDwfs",
        "outputId": "9fabb1e8-d9d9-49dc-8632-dfe7269ec75d",
        "colab": {
          "base_uri": "https://localhost:8080/"
        }
      },
      "execution_count": 47,
      "outputs": [
        {
          "output_type": "stream",
          "name": "stdout",
          "text": [
            "Model: \"model_2_USE\"\n",
            "_________________________________________________________________\n",
            " Layer (type)                Output Shape              Param #   \n",
            "=================================================================\n",
            " input_layer (InputLayer)    [(None,)]                 0         \n",
            "                                                                 \n",
            " USE_layer (KerasLayer)      (None, 512)               256797824 \n",
            "                                                                 \n",
            " dense (Dense)               (None, 128)               65664     \n",
            "                                                                 \n",
            " output_layer (Dense)        (None, 5)                 645       \n",
            "                                                                 \n",
            "=================================================================\n",
            "Total params: 256864133 (979.86 MB)\n",
            "Trainable params: 66309 (259.02 KB)\n",
            "Non-trainable params: 256797824 (979.61 MB)\n",
            "_________________________________________________________________\n"
          ]
        }
      ]
    },
    {
      "cell_type": "code",
      "source": [
        "history_model_2 = model_2.fit(train_dataset,\n",
        "                              steps_per_epoch= int(0.1 * len(train_dataset)),\n",
        "                              epochs= 5,\n",
        "                              validation_data= val_dataset,\n",
        "                              validation_steps= int(0.1 * len(val_dataset)))"
      ],
      "metadata": {
        "id": "OF_9LZvaGmye",
        "outputId": "bd1bc808-5284-4975-c947-b027dcb4bad1",
        "colab": {
          "base_uri": "https://localhost:8080/"
        }
      },
      "execution_count": 48,
      "outputs": [
        {
          "output_type": "stream",
          "name": "stdout",
          "text": [
            "Epoch 1/5\n",
            "562/562 [==============================] - 11s 11ms/step - loss: 0.9154 - accuracy: 0.6500 - val_loss: 0.8335 - val_accuracy: 0.6832\n",
            "Epoch 2/5\n",
            "562/562 [==============================] - 6s 11ms/step - loss: 0.7702 - accuracy: 0.7012 - val_loss: 0.7801 - val_accuracy: 0.6988\n",
            "Epoch 3/5\n",
            "562/562 [==============================] - 6s 10ms/step - loss: 0.7543 - accuracy: 0.7118 - val_loss: 0.7580 - val_accuracy: 0.7055\n",
            "Epoch 4/5\n",
            "562/562 [==============================] - 5s 10ms/step - loss: 0.7205 - accuracy: 0.7232 - val_loss: 0.7315 - val_accuracy: 0.7221\n",
            "Epoch 5/5\n",
            "562/562 [==============================] - 6s 10ms/step - loss: 0.7286 - accuracy: 0.7221 - val_loss: 0.7174 - val_accuracy: 0.7211\n"
          ]
        }
      ]
    },
    {
      "cell_type": "code",
      "source": [
        "\n",
        "model_2_pred = tf.argmax(model_2.predict(val_dataset), axis= 1)\n",
        "model_2_pred"
      ],
      "metadata": {
        "id": "B1cm7Gc-HCnu",
        "outputId": "f6708a19-cf86-47fb-a494-fec932578096",
        "colab": {
          "base_uri": "https://localhost:8080/"
        }
      },
      "execution_count": 49,
      "outputs": [
        {
          "output_type": "stream",
          "name": "stdout",
          "text": [
            "942/942 [==============================] - 8s 8ms/step\n"
          ]
        },
        {
          "output_type": "execute_result",
          "data": {
            "text/plain": [
              "<tf.Tensor: shape=(30135,), dtype=int64, numpy=array([0, 0, 2, ..., 4, 4, 2])>"
            ]
          },
          "metadata": {},
          "execution_count": 49
        }
      ]
    },
    {
      "cell_type": "code",
      "source": [
        "model_2_results = calculate_results(val_labels_encoded,\n",
        "                                    model_2_pred)\n",
        "model_2_results"
      ],
      "metadata": {
        "id": "n4Jt6SGjHMzM",
        "outputId": "80e3a08f-4288-4158-c669-fd7247c15d40",
        "colab": {
          "base_uri": "https://localhost:8080/"
        }
      },
      "execution_count": 50,
      "outputs": [
        {
          "output_type": "execute_result",
          "data": {
            "text/plain": [
              "{'accuracy': 72.67297162767547,\n",
              " 'precision': 0.7231309399728386,\n",
              " 'recall': 0.7267297162767546,\n",
              " 'f1': 0.7213738040729972}"
            ]
          },
          "metadata": {},
          "execution_count": 50
        }
      ]
    },
    {
      "cell_type": "code",
      "source": [
        "baseline_results, model_1_results"
      ],
      "metadata": {
        "id": "rYzD2FmDHbVn",
        "outputId": "741fa713-163c-4678-c33e-cc17778a831c",
        "colab": {
          "base_uri": "https://localhost:8080/"
        }
      },
      "execution_count": 51,
      "outputs": [
        {
          "output_type": "execute_result",
          "data": {
            "text/plain": [
              "({'accuracy': 71.6674962667994,\n",
              "  'precision': 0.7124322482375202,\n",
              "  'recall': 0.716674962667994,\n",
              "  'f1': 0.6925101703856846},\n",
              " {'accuracy': 79.57524473203915,\n",
              "  'precision': 0.79494846495921,\n",
              "  'recall': 0.7957524473203915,\n",
              "  'f1': 0.7925252696902022})"
            ]
          },
          "metadata": {},
          "execution_count": 51
        }
      ]
    },
    {
      "cell_type": "markdown",
      "source": [
        "### Model 3: CNN 1D with character embeddings\n",
        "\n",
        "The paper we are replicating uses the combination of character and token embedding.\n",
        "\n",
        "We've only used token embedding in the previous experiments. In order to replicate we need to do the similar steps."
      ],
      "metadata": {
        "id": "ZDBZgsfV1rym"
      }
    },
    {
      "cell_type": "markdown",
      "source": [
        "#### Creating Character level tokenizer"
      ],
      "metadata": {
        "id": "fttOipnt2HIa"
      }
    },
    {
      "cell_type": "code",
      "source": [
        "train_sentences[:5]"
      ],
      "metadata": {
        "colab": {
          "base_uri": "https://localhost:8080/"
        },
        "id": "EgzKRzGb2nnb",
        "outputId": "fbdb8ce1-ff90-4dc6-c64d-057b2d40391d"
      },
      "execution_count": 52,
      "outputs": [
        {
          "output_type": "execute_result",
          "data": {
            "text/plain": [
              "['to investigate the efficacy of @ weeks of daily low-dose oral prednisolone in improving pain , mobility , and systemic low-grade inflammation in the short term and whether the effect would be sustained at @ weeks in older adults with moderate to severe knee osteoarthritis ( oa ) .',\n",
              " 'a total of @ patients with primary knee oa were randomized @:@ ; @ received @ mg/day of prednisolone and @ received placebo for @ weeks .',\n",
              " 'outcome measures included pain reduction and improvement in function scores and systemic inflammation markers .',\n",
              " 'pain was assessed using the visual analog pain scale ( @-@ mm ) .',\n",
              " 'secondary outcome measures included the western ontario and mcmaster universities osteoarthritis index scores , patient global assessment ( pga ) of the severity of knee oa , and @-min walk distance ( @mwd ) .']"
            ]
          },
          "metadata": {},
          "execution_count": 52
        }
      ]
    },
    {
      "cell_type": "code",
      "source": [
        "# Make a function which splits the sentence\n",
        "def split_chars(text):\n",
        "  return \" \".join(list(text))"
      ],
      "metadata": {
        "id": "hDQG5W-F2qjO"
      },
      "execution_count": 53,
      "outputs": []
    },
    {
      "cell_type": "code",
      "source": [
        "# Split data into character level\n",
        "train_chars = [split_chars(sentence) for sentence in train_sentences]\n",
        "val_chars = [split_chars(sentence) for sentence in val_sentences]\n",
        "test_chars = [split_chars(sentence) for sentence in test_sentences]\n",
        "train_chars[:5]"
      ],
      "metadata": {
        "colab": {
          "base_uri": "https://localhost:8080/"
        },
        "id": "YIzckErv3ACL",
        "outputId": "86753a0f-2187-405d-a823-e55b735b18ad"
      },
      "execution_count": 54,
      "outputs": [
        {
          "output_type": "execute_result",
          "data": {
            "text/plain": [
              "['t o   i n v e s t i g a t e   t h e   e f f i c a c y   o f   @   w e e k s   o f   d a i l y   l o w - d o s e   o r a l   p r e d n i s o l o n e   i n   i m p r o v i n g   p a i n   ,   m o b i l i t y   ,   a n d   s y s t e m i c   l o w - g r a d e   i n f l a m m a t i o n   i n   t h e   s h o r t   t e r m   a n d   w h e t h e r   t h e   e f f e c t   w o u l d   b e   s u s t a i n e d   a t   @   w e e k s   i n   o l d e r   a d u l t s   w i t h   m o d e r a t e   t o   s e v e r e   k n e e   o s t e o a r t h r i t i s   (   o a   )   .',\n",
              " 'a   t o t a l   o f   @   p a t i e n t s   w i t h   p r i m a r y   k n e e   o a   w e r e   r a n d o m i z e d   @ : @   ;   @   r e c e i v e d   @   m g / d a y   o f   p r e d n i s o l o n e   a n d   @   r e c e i v e d   p l a c e b o   f o r   @   w e e k s   .',\n",
              " 'o u t c o m e   m e a s u r e s   i n c l u d e d   p a i n   r e d u c t i o n   a n d   i m p r o v e m e n t   i n   f u n c t i o n   s c o r e s   a n d   s y s t e m i c   i n f l a m m a t i o n   m a r k e r s   .',\n",
              " 'p a i n   w a s   a s s e s s e d   u s i n g   t h e   v i s u a l   a n a l o g   p a i n   s c a l e   (   @ - @   m m   )   .',\n",
              " 's e c o n d a r y   o u t c o m e   m e a s u r e s   i n c l u d e d   t h e   w e s t e r n   o n t a r i o   a n d   m c m a s t e r   u n i v e r s i t i e s   o s t e o a r t h r i t i s   i n d e x   s c o r e s   ,   p a t i e n t   g l o b a l   a s s e s s m e n t   (   p g a   )   o f   t h e   s e v e r i t y   o f   k n e e   o a   ,   a n d   @ - m i n   w a l k   d i s t a n c e   (   @ m w d   )   .']"
            ]
          },
          "metadata": {},
          "execution_count": 54
        }
      ]
    },
    {
      "cell_type": "code",
      "source": [
        "# What is the average chartacter length\n",
        "char_lens = [len(sentence) for sentence in train_sentences]\n",
        "mean_char_len = np.mean(char_lens)\n",
        "mean_char_len"
      ],
      "metadata": {
        "colab": {
          "base_uri": "https://localhost:8080/"
        },
        "id": "qRfXzKlJ4DqN",
        "outputId": "fb1077bd-7cda-40e9-d2a5-b43c0d422aaa"
      },
      "execution_count": 55,
      "outputs": [
        {
          "output_type": "execute_result",
          "data": {
            "text/plain": [
              "149.3662574983337"
            ]
          },
          "metadata": {},
          "execution_count": 55
        }
      ]
    },
    {
      "cell_type": "code",
      "source": [
        "# Check the distribution of the character level\n",
        "plt.hist(char_lens, bins= 20)"
      ],
      "metadata": {
        "colab": {
          "base_uri": "https://localhost:8080/",
          "height": 600
        },
        "id": "jmY3pr284sPj",
        "outputId": "02cc0850-ce65-4003-d9b9-818e62f470c8"
      },
      "execution_count": 56,
      "outputs": [
        {
          "output_type": "execute_result",
          "data": {
            "text/plain": [
              "(array([2.2108e+04, 7.0583e+04, 5.3952e+04, 2.2391e+04, 7.4540e+03,\n",
              "        2.2350e+03, 8.0200e+02, 2.8700e+02, 1.1800e+02, 4.9000e+01,\n",
              "        2.9000e+01, 1.3000e+01, 8.0000e+00, 5.0000e+00, 1.0000e+00,\n",
              "        2.0000e+00, 1.0000e+00, 1.0000e+00, 0.0000e+00, 1.0000e+00]),\n",
              " array([1.00000e+00, 7.02500e+01, 1.39500e+02, 2.08750e+02, 2.78000e+02,\n",
              "        3.47250e+02, 4.16500e+02, 4.85750e+02, 5.55000e+02, 6.24250e+02,\n",
              "        6.93500e+02, 7.62750e+02, 8.32000e+02, 9.01250e+02, 9.70500e+02,\n",
              "        1.03975e+03, 1.10900e+03, 1.17825e+03, 1.24750e+03, 1.31675e+03,\n",
              "        1.38600e+03]),\n",
              " <BarContainer object of 20 artists>)"
            ]
          },
          "metadata": {},
          "execution_count": 56
        },
        {
          "output_type": "display_data",
          "data": {
            "text/plain": [
              "<Figure size 640x480 with 1 Axes>"
            ],
            "image/png": "[encoded data removed]"
          },
          "metadata": {}
        }
      ]
    },
    {
      "cell_type": "code",
      "source": [
        "# Find what character lenght covers 95% of the training data\n",
        "output_seq_char_len = int(np.percentile(char_lens, 95))\n",
        "output_seq_char_len"
      ],
      "metadata": {
        "colab": {
          "base_uri": "https://localhost:8080/"
        },
        "id": "YBBtDc9T45s5",
        "outputId": "b74d9440-a3b4-4892-853a-4123557ba464"
      },
      "execution_count": 57,
      "outputs": [
        {
          "output_type": "execute_result",
          "data": {
            "text/plain": [
              "290"
            ]
          },
          "metadata": {},
          "execution_count": 57
        }
      ]
    },
    {
      "cell_type": "code",
      "source": [
        "# Get all keyboard characters\n",
        "import string\n",
        "alphabet = string.ascii_lowercase + string.digits + string.punctuation\n",
        "alphabet"
      ],
      "metadata": {
        "colab": {
          "base_uri": "https://localhost:8080/",
          "height": 35
        },
        "id": "oc47y4616Vwu",
        "outputId": "7ec26844-836c-453b-eb99-47442de18c30"
      },
      "execution_count": 58,
      "outputs": [
        {
          "output_type": "execute_result",
          "data": {
            "text/plain": [
              "'abcdefghijklmnopqrstuvwxyz0123456789!\"#$%&\\'()*+,-./:;<=>?@[\\\\]^_`{|}~'"
            ],
            "application/vnd.google.colaboratory.intrinsic+json": {
              "type": "string"
            }
          },
          "metadata": {},
          "execution_count": 58
        }
      ]
    },
    {
      "cell_type": "code",
      "source": [
        "# Create char level tokenizer\n",
        "NUM_CHAR_TOKENS = len(alphabet) + 2 # 2 for space and OOV\n",
        "char_vectorizer = layers.TextVectorization(max_tokens= NUM_CHAR_TOKENS,\n",
        "                                           output_sequence_length= output_seq_char_len,\n",
        "                                           name= 'character_tokenizer')"
      ],
      "metadata": {
        "id": "R9K0cgZ66x_7"
      },
      "execution_count": 59,
      "outputs": []
    },
    {
      "cell_type": "code",
      "source": [
        "# Adapt character vectorizer\n",
        "char_vectorizer.adapt(train_chars)"
      ],
      "metadata": {
        "id": "zf1N4yGn7_ST"
      },
      "execution_count": 60,
      "outputs": []
    },
    {
      "cell_type": "code",
      "source": [
        "# Check for vocbulary\n",
        "char_vocab = char_vectorizer.get_vocabulary()\n",
        "len(char_vocab), char_vocab[:5], char_vocab[-5:]"
      ],
      "metadata": {
        "colab": {
          "base_uri": "https://localhost:8080/"
        },
        "id": "3CvAHtJt8Kb0",
        "outputId": "52265d77-087e-4006-bc0f-dcaa9d234803"
      },
      "execution_count": 61,
      "outputs": [
        {
          "output_type": "execute_result",
          "data": {
            "text/plain": [
              "(28, ['', '[UNK]', 'e', 't', 'i'], ['k', 'x', 'z', 'q', 'j'])"
            ]
          },
          "metadata": {},
          "execution_count": 61
        }
      ]
    },
    {
      "cell_type": "code",
      "source": [
        "# Test character vectorizer\n",
        "random_train_chars = random.choice(train_chars)\n",
        "print(f\"Character-level sentence: {random_train_chars}\")\n",
        "print(f\"Length of sentence: {len(random_train_chars.split())}\")\n",
        "print(f\"Vectorized sentence: {len(char_vectorizer(random_train_chars))}\")"
      ],
      "metadata": {
        "colab": {
          "base_uri": "https://localhost:8080/"
        },
        "id": "ukBgosRz9R68",
        "outputId": "fe6657db-0c61-42ef-9b24-e2fe5d256d66"
      },
      "execution_count": 62,
      "outputs": [
        {
          "output_type": "stream",
          "name": "stdout",
          "text": [
            "Character-level sentence: a f t e r   a d j u s t i n g   f o r   c a s e - m i x   a n d   h o s p i t a l   s t r u c t u r a l   d i f f e r e n c e s   ,   m o d e l   i n t r a c l a s s   c o r r e l a t i o n   i n d i c a t e d   t h a t   @   %   o f   t h e   o b s e r v e d   v a r i a t i o n   i n   i n o t r o p e   u s e   w a s   p o t e n t i a l l y   a t t r i b u t a b l e   t o   r a n d o m   h o s p i t a l   e f f e c t s   (   i e   ,   i n s t i t u t i o n a l   p r e f e r e n c e s   )   .\n",
            "Length of sentence: 213\n",
            "Vectorized sentence: 290\n"
          ]
        }
      ]
    },
    {
      "cell_type": "markdown",
      "source": [
        "#### Creating a character level embedding"
      ],
      "metadata": {
        "id": "tOzG55S1-U7x"
      }
    },
    {
      "cell_type": "code",
      "source": [
        "# Create char embedding layer\n",
        "char_embedding = layers.Embedding(input_dim= len(char_vocab),\n",
        "                                  output_dim= 25,\n",
        "                                  mask_zero= True,\n",
        "                                  name= 'character_embedding_layer')"
      ],
      "metadata": {
        "id": "n5WB2965-l9c"
      },
      "execution_count": 63,
      "outputs": []
    },
    {
      "cell_type": "code",
      "source": [
        "# Test out character level embedding layer\n",
        "print(f\"Sentence: {random_train_chars}\")\n",
        "print(f\"Lenght of embedded: {char_embedding(char_vectorizer(random_train_chars)).shape}\")"
      ],
      "metadata": {
        "colab": {
          "base_uri": "https://localhost:8080/"
        },
        "id": "rRGYq2rx_QFW",
        "outputId": "7ed92f93-40f4-40ca-f64d-f497166e7ac4"
      },
      "execution_count": 64,
      "outputs": [
        {
          "output_type": "stream",
          "name": "stdout",
          "text": [
            "Sentence: a f t e r   a d j u s t i n g   f o r   c a s e - m i x   a n d   h o s p i t a l   s t r u c t u r a l   d i f f e r e n c e s   ,   m o d e l   i n t r a c l a s s   c o r r e l a t i o n   i n d i c a t e d   t h a t   @   %   o f   t h e   o b s e r v e d   v a r i a t i o n   i n   i n o t r o p e   u s e   w a s   p o t e n t i a l l y   a t t r i b u t a b l e   t o   r a n d o m   h o s p i t a l   e f f e c t s   (   i e   ,   i n s t i t u t i o n a l   p r e f e r e n c e s   )   .\n",
            "Lenght of embedded: (290, 25)\n"
          ]
        }
      ]
    },
    {
      "cell_type": "code",
      "source": [
        "# Create model\n",
        "inputs = layers.Input(shape= (1, ), dtype= 'string', name= 'input_layer')\n",
        "x = char_vectorizer(inputs)\n",
        "x = char_embedding(x)\n",
        "x = layers.Conv1D(64, 5, name= 'cnn_1D_layer')(x)\n",
        "x = layers.GlobalMaxPool1D(name= 'global_max_pool_layer')(x)\n",
        "outputs = layers.Dense(len(class_names), activation= 'softmax', name= 'output_layer')(x)\n",
        "\n",
        "model_3 = tf.keras.Model(inputs, outputs, name= 'model_3_cnn1D_char_embedding')\n",
        "\n",
        "model_3.compile(loss= 'categorical_crossentropy',\n",
        "                optimizer= tf.keras.optimizers.Adam(),\n",
        "                metrics= ['accuracy'])"
      ],
      "metadata": {
        "id": "I4NpC_szHN8X"
      },
      "execution_count": 65,
      "outputs": []
    },
    {
      "cell_type": "code",
      "source": [
        "model_3.summary()"
      ],
      "metadata": {
        "colab": {
          "base_uri": "https://localhost:8080/"
        },
        "id": "sxfDgPLgIYxB",
        "outputId": "4423f796-99e0-4f1e-e368-eeaca16a00d7"
      },
      "execution_count": 66,
      "outputs": [
        {
          "output_type": "stream",
          "name": "stdout",
          "text": [
            "Model: \"model_3_cnn1D_char_embedding\"\n",
            "_________________________________________________________________\n",
            " Layer (type)                Output Shape              Param #   \n",
            "=================================================================\n",
            " input_layer (InputLayer)    [(None, 1)]               0         \n",
            "                                                                 \n",
            " character_tokenizer (TextV  (None, 290)               0         \n",
            " ectorization)                                                   \n",
            "                                                                 \n",
            " character_embedding_layer   (None, 290, 25)           700       \n",
            " (Embedding)                                                     \n",
            "                                                                 \n",
            " cnn_1D_layer (Conv1D)       (None, 286, 64)           8064      \n",
            "                                                                 \n",
            " global_max_pool_layer (Glo  (None, 64)                0         \n",
            " balMaxPooling1D)                                                \n",
            "                                                                 \n",
            " output_layer (Dense)        (None, 5)                 325       \n",
            "                                                                 \n",
            "=================================================================\n",
            "Total params: 9089 (35.50 KB)\n",
            "Trainable params: 9089 (35.50 KB)\n",
            "Non-trainable params: 0 (0.00 Byte)\n",
            "_________________________________________________________________\n"
          ]
        }
      ]
    },
    {
      "cell_type": "code",
      "source": [
        "train_char_dataset = tf.data.Dataset.from_tensor_slices((train_chars, train_labels_one_hot)).batch(32).prefetch(tf.data.AUTOTUNE)\n",
        "val_char_dataset = tf.data.Dataset.from_tensor_slices((val_chars, val_labels_one_hot)).batch(32).prefetch(tf.data.AUTOTUNE)\n",
        "train_char_dataset = tf.data.Dataset.from_tensor_slices((test_chars, test_labels_one_hot)).batch(32).prefetch(tf.data.AUTOTUNE)"
      ],
      "metadata": {
        "id": "y4KJgilVIcL4"
      },
      "execution_count": 67,
      "outputs": []
    },
    {
      "cell_type": "code",
      "source": [
        "# Fit the model\n",
        "model_3_history = model_3.fit(train_char_dataset,\n",
        "                              epochs= 5,\n",
        "                              steps_per_epoch= int(0.1 * len(train_char_dataset)),\n",
        "                              validation_data = val_char_dataset,\n",
        "                              validation_steps= int(0.1 * len(val_char_dataset)))"
      ],
      "metadata": {
        "colab": {
          "base_uri": "https://localhost:8080/"
        },
        "id": "BPnHYZZ9JoqU",
        "outputId": "ccad7458-59f9-4bf2-f8c9-6f9727bc945b"
      },
      "execution_count": 68,
      "outputs": [
        {
          "output_type": "stream",
          "name": "stdout",
          "text": [
            "Epoch 1/5\n",
            "94/94 [==============================] - 2s 12ms/step - loss: 1.4807 - accuracy: 0.3946 - val_loss: 1.4053 - val_accuracy: 0.4441\n",
            "Epoch 2/5\n",
            "94/94 [==============================] - 1s 7ms/step - loss: 1.3619 - accuracy: 0.4601 - val_loss: 1.3112 - val_accuracy: 0.4528\n",
            "Epoch 3/5\n",
            "94/94 [==============================] - 1s 7ms/step - loss: 1.2735 - accuracy: 0.4638 - val_loss: 1.2002 - val_accuracy: 0.5223\n",
            "Epoch 4/5\n",
            "94/94 [==============================] - 1s 7ms/step - loss: 1.1832 - accuracy: 0.5160 - val_loss: 1.1256 - val_accuracy: 0.5429\n",
            "Epoch 5/5\n",
            "94/94 [==============================] - 1s 7ms/step - loss: 1.1383 - accuracy: 0.5412 - val_loss: 1.0903 - val_accuracy: 0.5482\n"
          ]
        }
      ]
    },
    {
      "cell_type": "code",
      "source": [
        "# Make predictions with our character embedding model\n",
        "model_3_pred = tf.argmax(model_3.predict(val_char_dataset), axis= 1)\n",
        "model_3_pred"
      ],
      "metadata": {
        "colab": {
          "base_uri": "https://localhost:8080/"
        },
        "id": "UPCRdoW2KU4i",
        "outputId": "ba739c58-35a9-47be-a33f-1318cefe4bbd"
      },
      "execution_count": 69,
      "outputs": [
        {
          "output_type": "stream",
          "name": "stdout",
          "text": [
            "942/942 [==============================] - 2s 2ms/step\n"
          ]
        },
        {
          "output_type": "execute_result",
          "data": {
            "text/plain": [
              "<tf.Tensor: shape=(30135,), dtype=int64, numpy=array([2, 2, 2, ..., 4, 2, 2])>"
            ]
          },
          "metadata": {},
          "execution_count": 69
        }
      ]
    },
    {
      "cell_type": "code",
      "source": [
        "model_3_results = calculate_results(val_labels_encoded,\n",
        "                                    model_3_pred)\n",
        "model_3_results"
      ],
      "metadata": {
        "colab": {
          "base_uri": "https://localhost:8080/"
        },
        "id": "eQ5sXx6GKmvV",
        "outputId": "fe8903ca-09d7-4078-e46c-a0304a8d5f22"
      },
      "execution_count": 70,
      "outputs": [
        {
          "output_type": "execute_result",
          "data": {
            "text/plain": [
              "{'accuracy': 54.09324705491952,\n",
              " 'precision': 0.5562637897034359,\n",
              " 'recall': 0.5409324705491952,\n",
              " 'f1': 0.49239852000095863}"
            ]
          },
          "metadata": {},
          "execution_count": 70
        }
      ]
    },
    {
      "cell_type": "markdown",
      "source": [
        "#### Model 4: Combining pretrained token embeddings with character embeddings\n",
        "\n",
        "1. Create a token level embedding\n",
        "2. Create a character level embedding\n",
        "3. Combine both of the model with a concatenate layer\n",
        "4. Build a series of output layers on top of 3 similar to the figure in the paper\n",
        "5. Construct a model which takes token and character level embeddings as inputs and produce a classification as an output"
      ],
      "metadata": {
        "id": "2dJq8enJNevF"
      }
    },
    {
      "cell_type": "code",
      "source": [
        "# 1. Setup Token level Embedding\n",
        "token_inputs = layers.Input(shape= [], dtype= 'string', name= 'token_input_layer')\n",
        "token_embeddings = sentence_encoder_layer(token_inputs)\n",
        "token_outputs = layers.Dense(128, activation= 'relu', name= 'token_output_layer')(token_embeddings)\n",
        "token_model = tf.keras.Model(token_inputs, token_outputs, name= 'token_model')\n",
        "\n",
        "# 2. Setup Character level embedding\n",
        "char_inputs = layers.Input(shape= (1, ), dtype= 'string', name= 'char_input_layer')\n",
        "char_vectors = char_vectorizer(char_inputs)\n",
        "char_embeddings = char_embedding(char_vectors)\n",
        "char_outputs = layers.Bidirectional(layers.LSTM(25), name= 'char_output_layer')(char_embeddings)\n",
        "char_model = tf.keras.Model(char_inputs, char_outputs, name= 'char_model')\n",
        "\n",
        "# 3. Concatenate token and character embeddings\n",
        "token_char_concatenate = layers.Concatenate(name= 'token_char_contatenate_layer')([token_model.output, char_model.output])\n",
        "\n",
        "# 4. Create output layers\n",
        "combined_dropout = layers.Dropout(0.5)(token_char_concatenate)\n",
        "combined_dense = layers.Dense(128, activation= 'relu')(combined_dropout)\n",
        "final_dropout = layers.Dropout(0.5)(combined_dense)\n",
        "final_output = layers.Dense(len(class_names), activation= 'softmax', name= 'final_output_layer')(final_dropout)\n",
        "\n",
        "# 5. Construct the final model\n",
        "model_4 = tf.keras.Model(inputs= [token_model.input, char_model.input], outputs= final_output, name= 'model_4_token_char_embeddings')"
      ],
      "metadata": {
        "id": "nBu7NmqQOPKZ"
      },
      "execution_count": 71,
      "outputs": []
    },
    {
      "cell_type": "code",
      "source": [
        "# Get a summary\n",
        "model_4.summary()"
      ],
      "metadata": {
        "colab": {
          "base_uri": "https://localhost:8080/"
        },
        "id": "Y-U_SCAKVhde",
        "outputId": "c9f41063-36ae-4d54-92f9-d8f0b1d44932"
      },
      "execution_count": 72,
      "outputs": [
        {
          "output_type": "stream",
          "name": "stdout",
          "text": [
            "Model: \"model_4_token_char_embeddings\"\n",
            "__________________________________________________________________________________________________\n",
            " Layer (type)                Output Shape                 Param #   Connected to                  \n",
            "==================================================================================================\n",
            " char_input_layer (InputLay  [(None, 1)]                  0         []                            \n",
            " er)                                                                                              \n",
            "                                                                                                  \n",
            " token_input_layer (InputLa  [(None,)]                    0         []                            \n",
            " yer)                                                                                             \n",
            "                                                                                                  \n",
            " character_tokenizer (TextV  (None, 290)                  0         ['char_input_layer[0][0]']    \n",
            " ectorization)                                                                                    \n",
            "                                                                                                  \n",
            " USE_layer (KerasLayer)      (None, 512)                  2567978   ['token_input_layer[0][0]']   \n",
            "                                                          24                                      \n",
            "                                                                                                  \n",
            " character_embedding_layer   (None, 290, 25)              700       ['character_tokenizer[1][0]'] \n",
            " (Embedding)                                                                                      \n",
            "                                                                                                  \n",
            " token_output_layer (Dense)  (None, 128)                  65664     ['USE_layer[1][0]']           \n",
            "                                                                                                  \n",
            " char_output_layer (Bidirec  (None, 50)                   10200     ['character_embedding_layer[1]\n",
            " tional)                                                            [0]']                         \n",
            "                                                                                                  \n",
            " token_char_contatenate_lay  (None, 178)                  0         ['token_output_layer[0][0]',  \n",
            " er (Concatenate)                                                    'char_output_layer[0][0]']   \n",
            "                                                                                                  \n",
            " dropout (Dropout)           (None, 178)                  0         ['token_char_contatenate_layer\n",
            "                                                                    [0][0]']                      \n",
            "                                                                                                  \n",
            " dense_1 (Dense)             (None, 128)                  22912     ['dropout[0][0]']             \n",
            "                                                                                                  \n",
            " dropout_1 (Dropout)         (None, 128)                  0         ['dense_1[0][0]']             \n",
            "                                                                                                  \n",
            " final_output_layer (Dense)  (None, 5)                    645       ['dropout_1[0][0]']           \n",
            "                                                                                                  \n",
            "==================================================================================================\n",
            "Total params: 256897945 (979.99 MB)\n",
            "Trainable params: 100121 (391.10 KB)\n",
            "Non-trainable params: 256797824 (979.61 MB)\n",
            "__________________________________________________________________________________________________\n"
          ]
        }
      ]
    },
    {
      "cell_type": "code",
      "source": [
        "from keras.utils import plot_model\n",
        "plot_model(model_4, show_shapes= True)"
      ],
      "metadata": {
        "id": "w6f3JiHWWIS4",
        "outputId": "adb1141a-11b5-4718-a9b9-5d12d6da4d6d",
        "colab": {
          "base_uri": "https://localhost:8080/",
          "height": 976
        }
      },
      "execution_count": 73,
      "outputs": [
        {
          "output_type": "execute_result",
          "data": {
            "image/png": "[encoded data removed]",
            "text/plain": [
              "<IPython.core.display.Image object>"
            ]
          },
          "metadata": {},
          "execution_count": 73
        }
      ]
    },
    {
      "cell_type": "code",
      "source": [
        "# Compile the model\n",
        "model_4.compile(loss= 'categorical_crossentropy',\n",
        "                optimizer= tf.keras.optimizers.Adam(),\n",
        "                metrics= ['accuracy'],\n",
        "                run_eagerly= True)"
      ],
      "metadata": {
        "id": "nXhSCMwAXL-P"
      },
      "execution_count": 74,
      "outputs": []
    },
    {
      "cell_type": "code",
      "source": [
        "# Creating dataset for our model to train\n",
        "train_char_token_data = tf.data.Dataset.from_tensor_slices((train_sentences, train_chars))\n",
        "train_char_token_labels = tf.data.Dataset.from_tensor_slices(train_labels_one_hot)\n",
        "train_char_token_dataset = tf.data.Dataset.zip(train_char_token_data, train_char_token_labels).batch(32).prefetch(tf.data.AUTOTUNE)\n",
        "val_char_token_data = tf.data.Dataset.from_tensor_slices((val_sentences, val_chars))\n",
        "val_char_token_labels = tf.data.Dataset.from_tensor_slices(val_labels_one_hot)\n",
        "val_char_token_dataset = tf.data.Dataset.zip(val_char_token_data, val_char_token_labels).batch(32).prefetch(tf.data.AUTOTUNE)\n",
        "test_char_token_data = tf.data.Dataset.from_tensor_slices((test_sentences, test_chars))\n",
        "test_char_token_labels = tf.data.Dataset.from_tensor_slices(test_labels_one_hot)\n",
        "test_char_token_dataset = tf.data.Dataset.zip(test_char_token_data, test_char_token_labels).batch(32).prefetch(tf.data.AUTOTUNE)"
      ],
      "metadata": {
        "id": "as8P9HqxXUrU"
      },
      "execution_count": 75,
      "outputs": []
    },
    {
      "cell_type": "code",
      "source": [
        "train_char_token_dataset"
      ],
      "metadata": {
        "id": "XXo7FrdhZDoP",
        "outputId": "83a9465a-ef43-4155-81d0-5a8f269bed3f",
        "colab": {
          "base_uri": "https://localhost:8080/"
        }
      },
      "execution_count": 76,
      "outputs": [
        {
          "output_type": "execute_result",
          "data": {
            "text/plain": [
              "<_PrefetchDataset element_spec=((TensorSpec(shape=(None,), dtype=tf.string, name=None), TensorSpec(shape=(None,), dtype=tf.string, name=None)), TensorSpec(shape=(None, 5), dtype=tf.float64, name=None))>"
            ]
          },
          "metadata": {},
          "execution_count": 76
        }
      ]
    },
    {
      "cell_type": "code",
      "source": [
        "history_model_4 = model_4.fit(train_char_token_dataset,\n",
        "             epochs= 5,\n",
        "             steps_per_epoch= int(0.1 * len(train_char_token_dataset)),\n",
        "             validation_data= val_char_token_dataset,\n",
        "             validation_steps= int(0.1 * len(val_char_token_dataset)))"
      ],
      "metadata": {
        "id": "IGnPtM-mYkdQ",
        "outputId": "705748d8-5422-4a0e-97b7-ef88857790bc",
        "colab": {
          "base_uri": "https://localhost:8080/"
        }
      },
      "execution_count": 77,
      "outputs": [
        {
          "output_type": "stream",
          "name": "stdout",
          "text": [
            "Epoch 1/5\n"
          ]
        },
        {
          "output_type": "stream",
          "name": "stderr",
          "text": [
            "WARNING:tensorflow:5 out of the last 5 calls to <function _BaseOptimizer._update_step_xla at 0x7cc9d93ed510> triggered tf.function retracing. Tracing is expensive and the excessive number of tracings could be due to (1) creating @tf.function repeatedly in a loop, (2) passing tensors with different shapes, (3) passing Python objects instead of tensors. For (1), please define your @tf.function outside of the loop. For (2), @tf.function has reduce_retracing=True option that can avoid unnecessary retracing. For (3), please refer to https://www.tensorflow.org/guide/function#controlling_retracing and https://www.tensorflow.org/api_docs/python/tf/function for  more details.\n",
            "WARNING:tensorflow:6 out of the last 6 calls to <function _BaseOptimizer._update_step_xla at 0x7cc9d93ed510> triggered tf.function retracing. Tracing is expensive and the excessive number of tracings could be due to (1) creating @tf.function repeatedly in a loop, (2) passing tensors with different shapes, (3) passing Python objects instead of tensors. For (1), please define your @tf.function outside of the loop. For (2), @tf.function has reduce_retracing=True option that can avoid unnecessary retracing. For (3), please refer to https://www.tensorflow.org/guide/function#controlling_retracing and https://www.tensorflow.org/api_docs/python/tf/function for  more details.\n"
          ]
        },
        {
          "output_type": "stream",
          "name": "stdout",
          "text": [
            "562/562 [==============================] - 87s 146ms/step - loss: 0.9849 - accuracy: 0.6069 - val_loss: 0.8101 - val_accuracy: 0.6872\n",
            "Epoch 2/5\n",
            "562/562 [==============================] - 82s 146ms/step - loss: 0.8019 - accuracy: 0.6911 - val_loss: 0.7403 - val_accuracy: 0.7184\n",
            "Epoch 3/5\n",
            "562/562 [==============================] - 75s 133ms/step - loss: 0.7751 - accuracy: 0.7041 - val_loss: 0.7081 - val_accuracy: 0.7301\n",
            "Epoch 4/5\n",
            "562/562 [==============================] - 88s 156ms/step - loss: 0.7402 - accuracy: 0.7191 - val_loss: 0.6843 - val_accuracy: 0.7400\n",
            "Epoch 5/5\n",
            "562/562 [==============================] - 77s 138ms/step - loss: 0.7471 - accuracy: 0.7163 - val_loss: 0.6771 - val_accuracy: 0.7434\n"
          ]
        }
      ]
    },
    {
      "cell_type": "code",
      "source": [
        "model_4_pred = tf.argmax(model_4.predict(val_char_token_dataset), axis= 1)\n",
        "model_4_pred"
      ],
      "metadata": {
        "id": "FdSaOTFac7qA",
        "outputId": "5d7d0e41-1173-4ae4-eb6f-fafe23f068cc",
        "colab": {
          "base_uri": "https://localhost:8080/"
        }
      },
      "execution_count": 78,
      "outputs": [
        {
          "output_type": "stream",
          "name": "stdout",
          "text": [
            "942/942 [==============================] - 56s 59ms/step\n"
          ]
        },
        {
          "output_type": "execute_result",
          "data": {
            "text/plain": [
              "<tf.Tensor: shape=(30135,), dtype=int64, numpy=array([0, 2, 2, ..., 4, 4, 2])>"
            ]
          },
          "metadata": {},
          "execution_count": 78
        }
      ]
    },
    {
      "cell_type": "code",
      "source": [
        "model_4_results = calculate_results(val_labels_encoded,\n",
        "                                    model_4_pred)\n",
        "model_4_results"
      ],
      "metadata": {
        "id": "gJAhb26RdHxO",
        "outputId": "862cf77a-121a-4444-f904-c80c6d30a514",
        "colab": {
          "base_uri": "https://localhost:8080/"
        }
      },
      "execution_count": 79,
      "outputs": [
        {
          "output_type": "execute_result",
          "data": {
            "text/plain": [
              "{'accuracy': 74.19943587190974,\n",
              " 'precision': 0.7394963635787047,\n",
              " 'recall': 0.7419943587190974,\n",
              " 'f1': 0.736626195345698}"
            ]
          },
          "metadata": {},
          "execution_count": 79
        }
      ]
    },
    {
      "cell_type": "code",
      "source": [
        "baseline_results"
      ],
      "metadata": {
        "id": "EDgJ2oBFdPvS",
        "outputId": "7333758e-d40f-4722-c1c1-533b62767655",
        "colab": {
          "base_uri": "https://localhost:8080/"
        }
      },
      "execution_count": 80,
      "outputs": [
        {
          "output_type": "execute_result",
          "data": {
            "text/plain": [
              "{'accuracy': 71.6674962667994,\n",
              " 'precision': 0.7124322482375202,\n",
              " 'recall': 0.716674962667994,\n",
              " 'f1': 0.6925101703856846}"
            ]
          },
          "metadata": {},
          "execution_count": 80
        }
      ]
    },
    {
      "cell_type": "markdown",
      "source": [
        "#### Model 5: Transfer Learning with pretrained token embedding, character embedding and positional embedding"
      ],
      "metadata": {
        "id": "mcrTDAsYhLel"
      }
    },
    {
      "cell_type": "code",
      "source": [
        "train_df.head()"
      ],
      "metadata": {
        "colab": {
          "base_uri": "https://localhost:8080/",
          "height": 204
        },
        "id": "olZc53afhWXH",
        "outputId": "bdeeff44-a927-491d-ec58-6747793872e4"
      },
      "execution_count": 81,
      "outputs": [
        {
          "output_type": "execute_result",
          "data": {
            "text/plain": [
              "      target                                               text  line_number  \\\n",
              "0  OBJECTIVE  to investigate the efficacy of @ weeks of dail...            0   \n",
              "1    METHODS  a total of @ patients with primary knee oa wer...            1   \n",
              "2    METHODS  outcome measures included pain reduction and i...            2   \n",
              "3    METHODS  pain was assessed using the visual analog pain...            3   \n",
              "4    METHODS  secondary outcome measures included the wester...            4   \n",
              "\n",
              "   total_lines  \n",
              "0           11  \n",
              "1           11  \n",
              "2           11  \n",
              "3           11  \n",
              "4           11  "
            ],
            "text/html": [
              "\n",
              "  <div id=\"df-3ce70fdb-42b7-4496-b940-60b2ed877728\" class=\"colab-df-container\">\n",
              "    <div>\n",
              "<style scoped>\n",
              "    .dataframe tbody tr th:only-of-type {\n",
              "        vertical-align: middle;\n",
              "    }\n",
              "\n",
              "    .dataframe tbody tr th {\n",
              "        vertical-align: top;\n",
              "    }\n",
              "\n",
              "    .dataframe thead th {\n",
              "        text-align: right;\n",
              "    }\n",
              "</style>\n",
              "<table border=\"1\" class=\"dataframe\">\n",
              "  <thead>\n",
              "    <tr style=\"text-align: right;\">\n",
              "      <th></th>\n",
              "      <th>target</th>\n",
              "      <th>text</th>\n",
              "      <th>line_number</th>\n",
              "      <th>total_lines</th>\n",
              "    </tr>\n",
              "  </thead>\n",
              "  <tbody>\n",
              "    <tr>\n",
              "      <th>0</th>\n",
              "      <td>OBJECTIVE</td>\n",
              "      <td>to investigate the efficacy of @ weeks of dail...</td>\n",
              "      <td>0</td>\n",
              "      <td>11</td>\n",
              "    </tr>\n",
              "    <tr>\n",
              "      <th>1</th>\n",
              "      <td>METHODS</td>\n",
              "      <td>a total of @ patients with primary knee oa wer...</td>\n",
              "      <td>1</td>\n",
              "      <td>11</td>\n",
              "    </tr>\n",
              "    <tr>\n",
              "      <th>2</th>\n",
              "      <td>METHODS</td>\n",
              "      <td>outcome measures included pain reduction and i...</td>\n",
              "      <td>2</td>\n",
              "      <td>11</td>\n",
              "    </tr>\n",
              "    <tr>\n",
              "      <th>3</th>\n",
              "      <td>METHODS</td>\n",
              "      <td>pain was assessed using the visual analog pain...</td>\n",
              "      <td>3</td>\n",
              "      <td>11</td>\n",
              "    </tr>\n",
              "    <tr>\n",
              "      <th>4</th>\n",
              "      <td>METHODS</td>\n",
              "      <td>secondary outcome measures included the wester...</td>\n",
              "      <td>4</td>\n",
              "      <td>11</td>\n",
              "    </tr>\n",
              "  </tbody>\n",
              "</table>\n",
              "</div>\n",
              "    <div class=\"colab-df-buttons\">\n",
              "\n",
              "  <div class=\"colab-df-container\">\n",
              "    <button class=\"colab-df-convert\" onclick=\"convertToInteractive('df-3ce70fdb-42b7-4496-b940-60b2ed877728')\"\n",
              "            title=\"Convert this dataframe to an interactive table.\"\n",
              "            style=\"display:none;\">\n",
              "\n",
              "  <svg xmlns=\"http://www.w3.org/2000/svg\" height=\"24px\" viewBox=\"0 -960 960 960\">\n",
              "    <path d=\"M120-120v-720h720v720H120Zm60-500h600v-160H180v160Zm220 220h160v-160H400v160Zm0 220h160v-160H400v160ZM180-400h160v-160H180v160Zm440 0h160v-160H620v160ZM180-180h160v-160H180v160Zm440 0h160v-160H620v160Z\"/>\n",
              "  </svg>\n",
              "    </button>\n",
              "\n",
              "  <style>\n",
              "    .colab-df-container {\n",
              "      display:flex;\n",
              "      gap: 12px;\n",
              "    }\n",
              "\n",
              "    .colab-df-convert {\n",
              "      background-color: #E8F0FE;\n",
              "      border: none;\n",
              "      border-radius: 50%;\n",
              "      cursor: pointer;\n",
              "      display: none;\n",
              "      fill: #1967D2;\n",
              "      height: 32px;\n",
              "      padding: 0 0 0 0;\n",
              "      width: 32px;\n",
              "    }\n",
              "\n",
              "    .colab-df-convert:hover {\n",
              "      background-color: #E2EBFA;\n",
              "      box-shadow: 0px 1px 2px rgba(60, 64, 67, 0.3), 0px 1px 3px 1px rgba(60, 64, 67, 0.15);\n",
              "      fill: #174EA6;\n",
              "    }\n",
              "\n",
              "    .colab-df-buttons div {\n",
              "      margin-bottom: 4px;\n",
              "    }\n",
              "\n",
              "    [theme=dark] .colab-df-convert {\n",
              "      background-color: #3B4455;\n",
              "      fill: #D2E3FC;\n",
              "    }\n",
              "\n",
              "    [theme=dark] .colab-df-convert:hover {\n",
              "      background-color: #434B5C;\n",
              "      box-shadow: 0px 1px 3px 1px rgba(0, 0, 0, 0.15);\n",
              "      filter: drop-shadow(0px 1px 2px rgba(0, 0, 0, 0.3));\n",
              "      fill: #FFFFFF;\n",
              "    }\n",
              "  </style>\n",
              "\n",
              "    <script>\n",
              "      const buttonEl =\n",
              "        document.querySelector('#df-3ce70fdb-42b7-4496-b940-60b2ed877728 button.colab-df-convert');\n",
              "      buttonEl.style.display =\n",
              "        google.colab.kernel.accessAllowed ? 'block' : 'none';\n",
              "\n",
              "      async function convertToInteractive(key) {\n",
              "        const element = document.querySelector('#df-3ce70fdb-42b7-4496-b940-60b2ed877728');\n",
              "        const dataTable =\n",
              "          await google.colab.kernel.invokeFunction('convertToInteractive',\n",
              "                                                    [key], {});\n",
              "        if (!dataTable) return;\n",
              "\n",
              "        const docLinkHtml = 'Like what you see? Visit the ' +\n",
              "          '<a target=\"_blank\" href=https://colab.research.google.com/notebooks/data_table.ipynb>data table notebook</a>'\n",
              "          + ' to learn more about interactive tables.';\n",
              "        element.innerHTML = '';\n",
              "        dataTable['output_type'] = 'display_data';\n",
              "        await google.colab.output.renderOutput(dataTable, element);\n",
              "        const docLink = document.createElement('div');\n",
              "        docLink.innerHTML = docLinkHtml;\n",
              "        element.appendChild(docLink);\n",
              "      }\n",
              "    </script>\n",
              "  </div>\n",
              "\n",
              "\n",
              "<div id=\"df-d0f6a5b1-a226-4caf-8f8e-cffa02a07977\">\n",
              "  <button class=\"colab-df-quickchart\" onclick=\"quickchart('df-d0f6a5b1-a226-4caf-8f8e-cffa02a07977')\"\n",
              "            title=\"Suggest charts\"\n",
              "            style=\"display:none;\">\n",
              "\n",
              "<svg xmlns=\"http://www.w3.org/2000/svg\" height=\"24px\"viewBox=\"0 0 24 24\"\n",
              "     width=\"24px\">\n",
              "    <g>\n",
              "        <path d=\"M19 3H5c-1.1 0-2 .9-2 2v14c0 1.1.9 2 2 2h14c1.1 0 2-.9 2-2V5c0-1.1-.9-2-2-2zM9 17H7v-7h2v7zm4 0h-2V7h2v10zm4 0h-2v-4h2v4z\"/>\n",
              "    </g>\n",
              "</svg>\n",
              "  </button>\n",
              "\n",
              "<style>\n",
              "  .colab-df-quickchart {\n",
              "      --bg-color: #E8F0FE;\n",
              "      --fill-color: #1967D2;\n",
              "      --hover-bg-color: #E2EBFA;\n",
              "      --hover-fill-color: #174EA6;\n",
              "      --disabled-fill-color: #AAA;\n",
              "      --disabled-bg-color: #DDD;\n",
              "  }\n",
              "\n",
              "  [theme=dark] .colab-df-quickchart {\n",
              "      --bg-color: #3B4455;\n",
              "      --fill-color: #D2E3FC;\n",
              "      --hover-bg-color: #434B5C;\n",
              "      --hover-fill-color: #FFFFFF;\n",
              "      --disabled-bg-color: #3B4455;\n",
              "      --disabled-fill-color: #666;\n",
              "  }\n",
              "\n",
              "  .colab-df-quickchart {\n",
              "    background-color: var(--bg-color);\n",
              "    border: none;\n",
              "    border-radius: 50%;\n",
              "    cursor: pointer;\n",
              "    display: none;\n",
              "    fill: var(--fill-color);\n",
              "    height: 32px;\n",
              "    padding: 0;\n",
              "    width: 32px;\n",
              "  }\n",
              "\n",
              "  .colab-df-quickchart:hover {\n",
              "    background-color: var(--hover-bg-color);\n",
              "    box-shadow: 0 1px 2px rgba(60, 64, 67, 0.3), 0 1px 3px 1px rgba(60, 64, 67, 0.15);\n",
              "    fill: var(--button-hover-fill-color);\n",
              "  }\n",
              "\n",
              "  .colab-df-quickchart-complete:disabled,\n",
              "  .colab-df-quickchart-complete:disabled:hover {\n",
              "    background-color: var(--disabled-bg-color);\n",
              "    fill: var(--disabled-fill-color);\n",
              "    box-shadow: none;\n",
              "  }\n",
              "\n",
              "  .colab-df-spinner {\n",
              "    border: 2px solid var(--fill-color);\n",
              "    border-color: transparent;\n",
              "    border-bottom-color: var(--fill-color);\n",
              "    animation:\n",
              "      spin 1s steps(1) infinite;\n",
              "  }\n",
              "\n",
              "  @keyframes spin {\n",
              "    0% {\n",
              "      border-color: transparent;\n",
              "      border-bottom-color: var(--fill-color);\n",
              "      border-left-color: var(--fill-color);\n",
              "    }\n",
              "    20% {\n",
              "      border-color: transparent;\n",
              "      border-left-color: var(--fill-color);\n",
              "      border-top-color: var(--fill-color);\n",
              "    }\n",
              "    30% {\n",
              "      border-color: transparent;\n",
              "      border-left-color: var(--fill-color);\n",
              "      border-top-color: var(--fill-color);\n",
              "      border-right-color: var(--fill-color);\n",
              "    }\n",
              "    40% {\n",
              "      border-color: transparent;\n",
              "      border-right-color: var(--fill-color);\n",
              "      border-top-color: var(--fill-color);\n",
              "    }\n",
              "    60% {\n",
              "      border-color: transparent;\n",
              "      border-right-color: var(--fill-color);\n",
              "    }\n",
              "    80% {\n",
              "      border-color: transparent;\n",
              "      border-right-color: var(--fill-color);\n",
              "      border-bottom-color: var(--fill-color);\n",
              "    }\n",
              "    90% {\n",
              "      border-color: transparent;\n",
              "      border-bottom-color: var(--fill-color);\n",
              "    }\n",
              "  }\n",
              "</style>\n",
              "\n",
              "  <script>\n",
              "    async function quickchart(key) {\n",
              "      const quickchartButtonEl =\n",
              "        document.querySelector('#' + key + ' button');\n",
              "      quickchartButtonEl.disabled = true;  // To prevent multiple clicks.\n",
              "      quickchartButtonEl.classList.add('colab-df-spinner');\n",
              "      try {\n",
              "        const charts = await google.colab.kernel.invokeFunction(\n",
              "            'suggestCharts', [key], {});\n",
              "      } catch (error) {\n",
              "        console.error('Error during call to suggestCharts:', error);\n",
              "      }\n",
              "      quickchartButtonEl.classList.remove('colab-df-spinner');\n",
              "      quickchartButtonEl.classList.add('colab-df-quickchart-complete');\n",
              "    }\n",
              "    (() => {\n",
              "      let quickchartButtonEl =\n",
              "        document.querySelector('#df-d0f6a5b1-a226-4caf-8f8e-cffa02a07977 button');\n",
              "      quickchartButtonEl.style.display =\n",
              "        google.colab.kernel.accessAllowed ? 'block' : 'none';\n",
              "    })();\n",
              "  </script>\n",
              "</div>\n",
              "\n",
              "    </div>\n",
              "  </div>\n"
            ],
            "application/vnd.google.colaboratory.intrinsic+json": {
              "type": "dataframe",
              "variable_name": "train_df"
            }
          },
          "metadata": {},
          "execution_count": 81
        }
      ]
    },
    {
      "cell_type": "markdown",
      "source": [
        "> Note: Any engineered features used to train the model need to be available on testing. In our case, line numbers and total line numbers."
      ],
      "metadata": {
        "id": "3SMQD2PgitxY"
      }
    },
    {
      "cell_type": "markdown",
      "source": [
        "##### Create Positional Embeddings"
      ],
      "metadata": {
        "id": "mEupR59ei-EH"
      }
    },
    {
      "cell_type": "code",
      "source": [
        "# Distribution of line numbers\n",
        "train_df['line_number'].plot.hist()"
      ],
      "metadata": {
        "colab": {
          "base_uri": "https://localhost:8080/",
          "height": 447
        },
        "id": "tfr6KZ1jjLjD",
        "outputId": "fd53a39c-1dac-4fcd-ef88-024c243dd16a"
      },
      "execution_count": 82,
      "outputs": [
        {
          "output_type": "execute_result",
          "data": {
            "text/plain": [
              "<Axes: ylabel='Frequency'>"
            ]
          },
          "metadata": {},
          "execution_count": 82
        },
        {
          "output_type": "display_data",
          "data": {
            "text/plain": [
              "<Figure size 640x480 with 1 Axes>"
            ],
            "image/png": "[encoded data removed]"
          },
          "metadata": {}
        }
      ]
    },
    {
      "cell_type": "code",
      "source": [
        "# Check the values of each line number\n",
        "train_df['line_number'].value_counts()"
      ],
      "metadata": {
        "colab": {
          "base_uri": "https://localhost:8080/"
        },
        "id": "PQSNHELKjoAw",
        "outputId": "7cf9f95e-2237-4dad-faa7-d04135e793ab"
      },
      "execution_count": 83,
      "outputs": [
        {
          "output_type": "execute_result",
          "data": {
            "text/plain": [
              "0     15000\n",
              "1     15000\n",
              "2     15000\n",
              "3     15000\n",
              "4     14992\n",
              "5     14949\n",
              "6     14758\n",
              "7     14279\n",
              "8     13346\n",
              "9     11981\n",
              "10    10041\n",
              "11     7892\n",
              "12     5853\n",
              "13     4152\n",
              "14     2835\n",
              "15     1861\n",
              "16     1188\n",
              "17      751\n",
              "18      462\n",
              "19      286\n",
              "20      162\n",
              "21      101\n",
              "22       66\n",
              "23       33\n",
              "24       22\n",
              "25       14\n",
              "26        7\n",
              "27        4\n",
              "28        3\n",
              "29        1\n",
              "30        1\n",
              "Name: line_number, dtype: int64"
            ]
          },
          "metadata": {},
          "execution_count": 83
        }
      ]
    },
    {
      "cell_type": "code",
      "source": [
        "# Use TensorFlow to create a one-hot encoded tensors of our 'line_number' column\n",
        "train_line_numbers_one_hot = tf.one_hot(train_df['line_number'].to_numpy(), depth= 15)\n",
        "val_line_numbers_one_hot = tf.one_hot(val_df['line_number'].to_numpy(), depth= 15)\n",
        "test_line_numbers_one_hot = tf.one_hot(test_df['line_number'].to_numpy(), depth= 15)\n",
        "train_line_numbers_one_hot.shape, val_line_numbers_one_hot.shape, test_line_numbers_one_hot.shape"
      ],
      "metadata": {
        "colab": {
          "base_uri": "https://localhost:8080/"
        },
        "id": "KU8sBtXnjwRf",
        "outputId": "b7d18a08-0eb5-447c-96ce-e0cfad2d5fca"
      },
      "execution_count": 101,
      "outputs": [
        {
          "output_type": "execute_result",
          "data": {
            "text/plain": [
              "(TensorShape([180040, 15]), TensorShape([30135, 15]), TensorShape([30212, 15]))"
            ]
          },
          "metadata": {},
          "execution_count": 101
        }
      ]
    },
    {
      "cell_type": "markdown",
      "source": [
        "Do the same exact thing for the total line number in train_df"
      ],
      "metadata": {
        "id": "x2ldexmYlCte"
      }
    },
    {
      "cell_type": "code",
      "source": [
        "# Distribution of total_lines in train_df\n",
        "train_df['total_lines'].plot.hist()"
      ],
      "metadata": {
        "colab": {
          "base_uri": "https://localhost:8080/",
          "height": 448
        },
        "id": "8KRJLxNGlG9N",
        "outputId": "81a57f14-6f1d-453a-b1f8-da83c0833469"
      },
      "execution_count": 86,
      "outputs": [
        {
          "output_type": "execute_result",
          "data": {
            "text/plain": [
              "<Axes: ylabel='Frequency'>"
            ]
          },
          "metadata": {},
          "execution_count": 86
        },
        {
          "output_type": "display_data",
          "data": {
            "text/plain": [
              "<Figure size 640x480 with 1 Axes>"
            ],
            "image/png": "[encoded data removed]"
          },
          "metadata": {}
        }
      ]
    },
    {
      "cell_type": "code",
      "source": [
        "# Checking value counts of total lines\n",
        "train_df['total_lines'].value_counts()"
      ],
      "metadata": {
        "colab": {
          "base_uri": "https://localhost:8080/"
        },
        "id": "0SXbh8gJli2W",
        "outputId": "ea83d7c7-208b-410c-db6a-66db9ddd05c9"
      },
      "execution_count": 94,
      "outputs": [
        {
          "output_type": "execute_result",
          "data": {
            "text/plain": [
              "11    24468\n",
              "10    23639\n",
              "12    22113\n",
              "9     19400\n",
              "13    18438\n",
              "14    14610\n",
              "8     12285\n",
              "15    10768\n",
              "7      7464\n",
              "16     7429\n",
              "17     5202\n",
              "6      3353\n",
              "18     3344\n",
              "19     2480\n",
              "20     1281\n",
              "5      1146\n",
              "21      770\n",
              "22      759\n",
              "23      264\n",
              "4       215\n",
              "24      200\n",
              "25      182\n",
              "26       81\n",
              "28       58\n",
              "3        32\n",
              "30       31\n",
              "27       28\n",
              "Name: total_lines, dtype: int64"
            ]
          },
          "metadata": {},
          "execution_count": 94
        }
      ]
    },
    {
      "cell_type": "code",
      "source": [
        "# CCheck the percentile\n",
        "np.percentile(train_df['total_lines'], 98)"
      ],
      "metadata": {
        "colab": {
          "base_uri": "https://localhost:8080/"
        },
        "id": "wHk4hZnsmnRt",
        "outputId": "5e404d92-81d0-4dda-8fc8-604d033ef936"
      },
      "execution_count": 97,
      "outputs": [
        {
          "output_type": "execute_result",
          "data": {
            "text/plain": [
              "20.0"
            ]
          },
          "metadata": {},
          "execution_count": 97
        }
      ]
    },
    {
      "cell_type": "code",
      "source": [
        "# Use TensorFlow to create one-hot encoding on total_lines feature\n",
        "train_total_lines_one_hot = tf.one_hot(train_df['total_lines'].to_numpy(), depth= 20)\n",
        "val_total_lines_one_hot = tf.one_hot(val_df['total_lines'].to_numpy(), depth= 20)\n",
        "test_total_lines_one_hot = tf.one_hot(test_df['total_lines'].to_numpy(), depth= 20)\n",
        "train_total_lines_one_hot.shape, val_total_lines_one_hot.shape, test_total_lines_one_hot.shape"
      ],
      "metadata": {
        "colab": {
          "base_uri": "https://localhost:8080/"
        },
        "id": "8dGzLhtpmzf7",
        "outputId": "57580011-efb4-49a6-f9e8-42461a030c92"
      },
      "execution_count": 110,
      "outputs": [
        {
          "output_type": "execute_result",
          "data": {
            "text/plain": [
              "(TensorShape([180040, 20]), TensorShape([30135, 20]), TensorShape([30212, 20]))"
            ]
          },
          "metadata": {},
          "execution_count": 110
        }
      ]
    },
    {
      "cell_type": "markdown",
      "source": [
        "##### Building a tribrid embedding model\n",
        "\n",
        "1. Create a token level model\n",
        "2. Create a character level model\n",
        "3. Create a line number model\n",
        "4. Create a total lines model\n",
        "5. Combine the outputs of 1 and 2 of concatenate\n",
        "6. Combine the output of 3, 4 and 5 using concatenate\n",
        "7. Create an output layers to accept all of the above three inputs and give the output label possibilities\n",
        "8. Combine the inputs of 1, 2, 3, 4 and outputs into a model"
      ],
      "metadata": {
        "id": "9dI7VnknpFeI"
      }
    },
    {
      "cell_type": "code",
      "source": [
        "# 1. Token inputs\n",
        "token_inputs = layers.Input(shape= [], dtype= 'string', name= 'token_input_layer')\n",
        "token_embeddings = sentence_encoder_layer(token_inputs)\n",
        "token_outputs = layers.Dense(128, activation= 'relu', name= 'token_output_layer')(token_embeddings)\n",
        "token_model = tf.keras.Model(token_inputs, token_outputs, name= 'token_model')\n",
        "\n",
        "# 2. Character inputs\n",
        "char_inputs = layers.Input(shape= (1, ), dtype= 'string', name= 'char_input_layer')\n",
        "char_vectors = char_vectorizer(char_inputs)\n",
        "char_embeddings = char_embedding(char_vectors)\n",
        "char_outputs = layers.Bidirectional(layers.LSTM(25), name= 'char_output_bi_lstm_layer')(char_embeddings)\n",
        "char_model = tf.keras.Model(char_inputs, char_outputs, name= 'char_model')\n",
        "\n",
        "# 3. Line numbers inputs\n",
        "line_num_inputs = layers.Input(shape= (15, ), name= 'line_num_input_layer')\n",
        "line_num_outputs = layers.Dense(32, activation= 'relu', name= 'line_num_output_layer')(line_num_inputs)\n",
        "line_num_model = tf.keras.Model(line_num_inputs, line_num_outputs, name= 'line_num_model')\n",
        "\n",
        "# 4. Total line numbers inputs\n",
        "tot_line_inputs = layers.Input(shape= (20, ), name= 'total_lines_input_layers')\n",
        "tot_line_outputs = layers.Dense(32, activation= 'relu', name= 'total_lines_output_layers')(tot_line_inputs)\n",
        "tot_line_model = tf.keras.Model(tot_line_inputs, tot_line_outputs, name= 'total_lines_model')\n",
        "\n",
        "# 5. Combine token and char embeddings into one\n",
        "token_char_embeddings = layers.Concatenate(name= 'token_char_embeddings')([token_model.output, char_model.output])\n",
        "x = layers.Dense(256, activation= 'relu')(token_char_embeddings)\n",
        "x = layers.Dropout(0.5)(x)\n",
        "\n",
        "# 6. Combine positional embeddings with token and char combined embeddings\n",
        "final_embeddings = layers.Concatenate(name= 'final_embeddings')([x, line_num_model.output, tot_line_model.output])\n",
        "\n",
        "# 7. Create output layer\n",
        "final_output_layer = layers.Dense(len(class_names), activation= 'softmax', name= 'final_output_layer')(final_embeddings)\n",
        "\n",
        "# 8. Create Model\n",
        "model_5 = tf.keras.Model(inputs= [token_model.input, char_model.input, line_num_model.input, tot_line_model.input],\n",
        "                         outputs= final_output_layer, name= 'token_char_positional_model')\n",
        "\n",
        "model_5.summary()"
      ],
      "metadata": {
        "colab": {
          "base_uri": "https://localhost:8080/"
        },
        "id": "59Y-RJKorHJG",
        "outputId": "67a47f9c-4626-49c0-f89c-7b8ff872c2ca"
      },
      "execution_count": 117,
      "outputs": [
        {
          "output_type": "stream",
          "name": "stdout",
          "text": [
            "Model: \"token_char_positional_model\"\n",
            "__________________________________________________________________________________________________\n",
            " Layer (type)                Output Shape                 Param #   Connected to                  \n",
            "==================================================================================================\n",
            " char_input_layer (InputLay  [(None, 1)]                  0         []                            \n",
            " er)                                                                                              \n",
            "                                                                                                  \n",
            " token_input_layer (InputLa  [(None,)]                    0         []                            \n",
            " yer)                                                                                             \n",
            "                                                                                                  \n",
            " character_tokenizer (TextV  (None, 290)                  0         ['char_input_layer[0][0]']    \n",
            " ectorization)                                                                                    \n",
            "                                                                                                  \n",
            " USE_layer (KerasLayer)      (None, 512)                  2567978   ['token_input_layer[0][0]']   \n",
            "                                                          24                                      \n",
            "                                                                                                  \n",
            " character_embedding_layer   (None, 290, 25)              700       ['character_tokenizer[4][0]'] \n",
            " (Embedding)                                                                                      \n",
            "                                                                                                  \n",
            " token_output_layer (Dense)  (None, 128)                  65664     ['USE_layer[4][0]']           \n",
            "                                                                                                  \n",
            " char_output_bi_lstm_layer   (None, 50)                   10200     ['character_embedding_layer[4]\n",
            " (Bidirectional)                                                    [0]']                         \n",
            "                                                                                                  \n",
            " token_char_embeddings (Con  (None, 178)                  0         ['token_output_layer[0][0]',  \n",
            " catenate)                                                           'char_output_bi_lstm_layer[0]\n",
            "                                                                    [0]']                         \n",
            "                                                                                                  \n",
            " dense_4 (Dense)             (None, 256)                  45824     ['token_char_embeddings[0][0]'\n",
            "                                                                    ]                             \n",
            "                                                                                                  \n",
            " line_num_input_layer (Inpu  [(None, 15)]                 0         []                            \n",
            " tLayer)                                                                                          \n",
            "                                                                                                  \n",
            " total_lines_input_layers (  [(None, 20)]                 0         []                            \n",
            " InputLayer)                                                                                      \n",
            "                                                                                                  \n",
            " dropout_4 (Dropout)         (None, 256)                  0         ['dense_4[0][0]']             \n",
            "                                                                                                  \n",
            " line_num_output_layer (Den  (None, 32)                   512       ['line_num_input_layer[0][0]']\n",
            " se)                                                                                              \n",
            "                                                                                                  \n",
            " total_lines_output_layers   (None, 32)                   672       ['total_lines_input_layers[0][\n",
            " (Dense)                                                            0]']                          \n",
            "                                                                                                  \n",
            " final_embeddings (Concaten  (None, 320)                  0         ['dropout_4[0][0]',           \n",
            " ate)                                                                'line_num_output_layer[0][0]'\n",
            "                                                                    , 'total_lines_output_layers[0\n",
            "                                                                    ][0]']                        \n",
            "                                                                                                  \n",
            " final_output_layer (Dense)  (None, 5)                    1605      ['final_embeddings[0][0]']    \n",
            "                                                                                                  \n",
            "==================================================================================================\n",
            "Total params: 256923001 (980.08 MB)\n",
            "Trainable params: 125177 (488.97 KB)\n",
            "Non-trainable params: 256797824 (979.61 MB)\n",
            "__________________________________________________________________________________________________\n"
          ]
        }
      ]
    },
    {
      "cell_type": "code",
      "source": [
        "plot_model(model_5, show_shapes= True)"
      ],
      "metadata": {
        "colab": {
          "base_uri": "https://localhost:8080/",
          "height": 809
        },
        "id": "EtCuCcj5xClG",
        "outputId": "fd064040-26bb-45f8-9a1e-1d871af4b7b1"
      },
      "execution_count": 118,
      "outputs": [
        {
          "output_type": "execute_result",
          "data": {
            "image/png": "[encoded data removed]",
            "text/plain": [
              "<IPython.core.display.Image object>"
            ]
          },
          "metadata": {},
          "execution_count": 118
        }
      ]
    },
    {
      "cell_type": "markdown",
      "source": [
        "What is label smoothing?\n",
        "> If our model is too confident upon one class then it might oversee the other classes. So, label smoothing distributes the output probability to other classes just to make the model consider other models"
      ],
      "metadata": {
        "id": "p4Gh0vw7yfwV"
      }
    },
    {
      "cell_type": "code",
      "source": [
        "# Compile the model\n",
        "model_5.compile(loss= tf.keras.losses.CategoricalCrossentropy(label_smoothing= 0.2), # helps to prevent overfitting\n",
        "                optimizer= tf.keras.optimizers.Adam(),\n",
        "                metrics= ['accuracy'])"
      ],
      "metadata": {
        "id": "yCkOqkgdxLjk"
      },
      "execution_count": 119,
      "outputs": []
    },
    {
      "cell_type": "code",
      "source": [
        "# Create the dataset using tf.data API\n",
        "train_all_data = tf.data.Dataset.from_tensor_slices((train_sentences, train_chars, train_line_numbers_one_hot, train_total_lines_one_hot))\n",
        "train_all_labels = tf.data.Dataset.from_tensor_slices((train_labels_one_hot))\n",
        "train_all_dataset = tf.data.Dataset.zip(train_all_data, train_all_labels).batch(32).prefetch(tf.data.AUTOTUNE)\n",
        "val_all_data = tf.data.Dataset.from_tensor_slices((val_sentences, val_chars, val_line_numbers_one_hot, val_total_lines_one_hot))\n",
        "val_all_labels = tf.data.Dataset.from_tensor_slices(val_labels_one_hot)\n",
        "val_all_dataset = tf.data.Dataset.zip(val_all_data, val_all_labels).batch(32).prefetch(tf.data.AUTOTUNE)\n",
        "test_all_data = tf.data.Dataset.from_tensor_slices((test_sentences, test_chars, test_line_numbers_one_hot, test_total_lines_one_hot))\n",
        "test_all_labels = tf.data.Dataset.from_tensor_slices((test_labels_one_hot))\n",
        "test_all_dataset = tf.data.Dataset.zip(test_all_data, test_all_labels).batch(32).prefetch(tf.data.AUTOTUNE)\n",
        "\n",
        "train_all_dataset, val_all_dataset, test_all_dataset"
      ],
      "metadata": {
        "colab": {
          "base_uri": "https://localhost:8080/"
        },
        "id": "hTwzTlAjzYdy",
        "outputId": "7d3037e8-eb48-443f-c2f3-75eba25cb4b1"
      },
      "execution_count": 120,
      "outputs": [
        {
          "output_type": "execute_result",
          "data": {
            "text/plain": [
              "(<_PrefetchDataset element_spec=((TensorSpec(shape=(None,), dtype=tf.string, name=None), TensorSpec(shape=(None,), dtype=tf.string, name=None), TensorSpec(shape=(None, 15), dtype=tf.float32, name=None), TensorSpec(shape=(None, 20), dtype=tf.float32, name=None)), TensorSpec(shape=(None, 5), dtype=tf.float64, name=None))>,\n",
              " <_PrefetchDataset element_spec=((TensorSpec(shape=(None,), dtype=tf.string, name=None), TensorSpec(shape=(None,), dtype=tf.string, name=None), TensorSpec(shape=(None, 15), dtype=tf.float32, name=None), TensorSpec(shape=(None, 20), dtype=tf.float32, name=None)), TensorSpec(shape=(None, 5), dtype=tf.float64, name=None))>,\n",
              " <_PrefetchDataset element_spec=((TensorSpec(shape=(None,), dtype=tf.string, name=None), TensorSpec(shape=(None,), dtype=tf.string, name=None), TensorSpec(shape=(None, 15), dtype=tf.float32, name=None), TensorSpec(shape=(None, 20), dtype=tf.float32, name=None)), TensorSpec(shape=(None, 5), dtype=tf.float64, name=None))>)"
            ]
          },
          "metadata": {},
          "execution_count": 120
        }
      ]
    },
    {
      "cell_type": "code",
      "source": [
        "model_5.fit(train_all_dataset,\n",
        "            epochs= 5,\n",
        "            steps_per_epoch= int(0.1 * len(train_all_dataset)),\n",
        "            validation_data= val_all_dataset,\n",
        "            validation_steps= int(0.1 * len(val_all_dataset)))"
      ],
      "metadata": {
        "colab": {
          "base_uri": "https://localhost:8080/"
        },
        "id": "MQeQzrib2TIW",
        "outputId": "2aaf0284-6667-480f-af23-2238a9e2e51d"
      },
      "execution_count": 121,
      "outputs": [
        {
          "output_type": "stream",
          "name": "stdout",
          "text": [
            "Epoch 1/5\n",
            "562/562 [==============================] - 27s 34ms/step - loss: 1.0905 - accuracy: 0.7275 - val_loss: 0.9993 - val_accuracy: 0.7892\n",
            "Epoch 2/5\n",
            "562/562 [==============================] - 16s 28ms/step - loss: 0.9666 - accuracy: 0.8181 - val_loss: 0.9655 - val_accuracy: 0.8138\n",
            "Epoch 3/5\n",
            "562/562 [==============================] - 15s 26ms/step - loss: 0.9482 - accuracy: 0.8253 - val_loss: 0.9462 - val_accuracy: 0.8318\n",
            "Epoch 4/5\n",
            "562/562 [==============================] - 17s 30ms/step - loss: 0.9390 - accuracy: 0.8366 - val_loss: 0.9347 - val_accuracy: 0.8321\n",
            "Epoch 5/5\n",
            "562/562 [==============================] - 17s 30ms/step - loss: 0.9352 - accuracy: 0.8373 - val_loss: 0.9329 - val_accuracy: 0.8364\n"
          ]
        },
        {
          "output_type": "execute_result",
          "data": {
            "text/plain": [
              "<keras.src.callbacks.History at 0x7cc9f4a17160>"
            ]
          },
          "metadata": {},
          "execution_count": 121
        }
      ]
    },
    {
      "cell_type": "code",
      "source": [
        "model_5_pred = tf.argmax(model_5.predict(val_all_dataset), axis= 1)\n",
        "model_5_pred"
      ],
      "metadata": {
        "colab": {
          "base_uri": "https://localhost:8080/"
        },
        "id": "WTvJUAGJ_4P6",
        "outputId": "ec3a8303-edf6-4ed8-da4c-41760e668a16"
      },
      "execution_count": 122,
      "outputs": [
        {
          "output_type": "stream",
          "name": "stdout",
          "text": [
            "942/942 [==============================] - 13s 11ms/step\n"
          ]
        },
        {
          "output_type": "execute_result",
          "data": {
            "text/plain": [
              "<tf.Tensor: shape=(30135,), dtype=int64, numpy=array([3, 2, 2, ..., 4, 4, 1])>"
            ]
          },
          "metadata": {},
          "execution_count": 122
        }
      ]
    },
    {
      "cell_type": "code",
      "source": [
        "model_5_results = calculate_results(val_labels_encoded,\n",
        "                                    model_5_pred)\n",
        "model_5_results"
      ],
      "metadata": {
        "colab": {
          "base_uri": "https://localhost:8080/"
        },
        "id": "lLI3YHdyAISH",
        "outputId": "18b4dc82-2912-4c04-f47d-d05b49d2ea5a"
      },
      "execution_count": 124,
      "outputs": [
        {
          "output_type": "execute_result",
          "data": {
            "text/plain": [
              "{'accuracy': 83.79293180686909,\n",
              " 'precision': 0.8405136843389904,\n",
              " 'recall': 0.8379293180686909,\n",
              " 'f1': 0.8339772387064576}"
            ]
          },
          "metadata": {},
          "execution_count": 124
        }
      ]
    },
    {
      "cell_type": "markdown",
      "source": [
        "### Comparing Model Performance"
      ],
      "metadata": {
        "id": "EB3Ky0cPCSrv"
      }
    },
    {
      "cell_type": "code",
      "source": [
        "model_all_results = pd.DataFrame([baseline_results, model_1_results, model_2_results, model_3_results, model_4_results, model_5_results], index= ['baseline', 'model_1', 'model_2', 'model_3', 'model_4', 'model_5'])\n",
        "model_all_results['accuracy'] = model_all_results['accuracy'] / 100\n",
        "model_all_results.transpose()"
      ],
      "metadata": {
        "id": "Ukn5ai2cCWFX",
        "outputId": "e2f82a7f-13ae-4f98-8f34-b205b93c09c0",
        "colab": {
          "base_uri": "https://localhost:8080/",
          "height": 173
        }
      },
      "execution_count": 139,
      "outputs": [
        {
          "output_type": "execute_result",
          "data": {
            "text/plain": [
              "           baseline   model_1   model_2   model_3   model_4   model_5\n",
              "accuracy   0.716675  0.795752  0.726730  0.540932  0.741994  0.837929\n",
              "precision  0.712432  0.794948  0.723131  0.556264  0.739496  0.840514\n",
              "recall     0.716675  0.795752  0.726730  0.540932  0.741994  0.837929\n",
              "f1         0.692510  0.792525  0.721374  0.492399  0.736626  0.833977"
            ],
            "text/html": [
              "\n",
              "  <div id=\"df-e054b1a3-b793-4002-8709-30b753153b57\" class=\"colab-df-container\">\n",
              "    <div>\n",
              "<style scoped>\n",
              "    .dataframe tbody tr th:only-of-type {\n",
              "        vertical-align: middle;\n",
              "    }\n",
              "\n",
              "    .dataframe tbody tr th {\n",
              "        vertical-align: top;\n",
              "    }\n",
              "\n",
              "    .dataframe thead th {\n",
              "        text-align: right;\n",
              "    }\n",
              "</style>\n",
              "<table border=\"1\" class=\"dataframe\">\n",
              "  <thead>\n",
              "    <tr style=\"text-align: right;\">\n",
              "      <th></th>\n",
              "      <th>baseline</th>\n",
              "      <th>model_1</th>\n",
              "      <th>model_2</th>\n",
              "      <th>model_3</th>\n",
              "      <th>model_4</th>\n",
              "      <th>model_5</th>\n",
              "    </tr>\n",
              "  </thead>\n",
              "  <tbody>\n",
              "    <tr>\n",
              "      <th>accuracy</th>\n",
              "      <td>0.716675</td>\n",
              "      <td>0.795752</td>\n",
              "      <td>0.726730</td>\n",
              "      <td>0.540932</td>\n",
              "      <td>0.741994</td>\n",
              "      <td>0.837929</td>\n",
              "    </tr>\n",
              "    <tr>\n",
              "      <th>precision</th>\n",
              "      <td>0.712432</td>\n",
              "      <td>0.794948</td>\n",
              "      <td>0.723131</td>\n",
              "      <td>0.556264</td>\n",
              "      <td>0.739496</td>\n",
              "      <td>0.840514</td>\n",
              "    </tr>\n",
              "    <tr>\n",
              "      <th>recall</th>\n",
              "      <td>0.716675</td>\n",
              "      <td>0.795752</td>\n",
              "      <td>0.726730</td>\n",
              "      <td>0.540932</td>\n",
              "      <td>0.741994</td>\n",
              "      <td>0.837929</td>\n",
              "    </tr>\n",
              "    <tr>\n",
              "      <th>f1</th>\n",
              "      <td>0.692510</td>\n",
              "      <td>0.792525</td>\n",
              "      <td>0.721374</td>\n",
              "      <td>0.492399</td>\n",
              "      <td>0.736626</td>\n",
              "      <td>0.833977</td>\n",
              "    </tr>\n",
              "  </tbody>\n",
              "</table>\n",
              "</div>\n",
              "    <div class=\"colab-df-buttons\">\n",
              "\n",
              "  <div class=\"colab-df-container\">\n",
              "    <button class=\"colab-df-convert\" onclick=\"convertToInteractive('df-e054b1a3-b793-4002-8709-30b753153b57')\"\n",
              "            title=\"Convert this dataframe to an interactive table.\"\n",
              "            style=\"display:none;\">\n",
              "\n",
              "  <svg xmlns=\"http://www.w3.org/2000/svg\" height=\"24px\" viewBox=\"0 -960 960 960\">\n",
              "    <path d=\"M120-120v-720h720v720H120Zm60-500h600v-160H180v160Zm220 220h160v-160H400v160Zm0 220h160v-160H400v160ZM180-400h160v-160H180v160Zm440 0h160v-160H620v160ZM180-180h160v-160H180v160Zm440 0h160v-160H620v160Z\"/>\n",
              "  </svg>\n",
              "    </button>\n",
              "\n",
              "  <style>\n",
              "    .colab-df-container {\n",
              "      display:flex;\n",
              "      gap: 12px;\n",
              "    }\n",
              "\n",
              "    .colab-df-convert {\n",
              "      background-color: #E8F0FE;\n",
              "      border: none;\n",
              "      border-radius: 50%;\n",
              "      cursor: pointer;\n",
              "      display: none;\n",
              "      fill: #1967D2;\n",
              "      height: 32px;\n",
              "      padding: 0 0 0 0;\n",
              "      width: 32px;\n",
              "    }\n",
              "\n",
              "    .colab-df-convert:hover {\n",
              "      background-color: #E2EBFA;\n",
              "      box-shadow: 0px 1px 2px rgba(60, 64, 67, 0.3), 0px 1px 3px 1px rgba(60, 64, 67, 0.15);\n",
              "      fill: #174EA6;\n",
              "    }\n",
              "\n",
              "    .colab-df-buttons div {\n",
              "      margin-bottom: 4px;\n",
              "    }\n",
              "\n",
              "    [theme=dark] .colab-df-convert {\n",
              "      background-color: #3B4455;\n",
              "      fill: #D2E3FC;\n",
              "    }\n",
              "\n",
              "    [theme=dark] .colab-df-convert:hover {\n",
              "      background-color: #434B5C;\n",
              "      box-shadow: 0px 1px 3px 1px rgba(0, 0, 0, 0.15);\n",
              "      filter: drop-shadow(0px 1px 2px rgba(0, 0, 0, 0.3));\n",
              "      fill: #FFFFFF;\n",
              "    }\n",
              "  </style>\n",
              "\n",
              "    <script>\n",
              "      const buttonEl =\n",
              "        document.querySelector('#df-e054b1a3-b793-4002-8709-30b753153b57 button.colab-df-convert');\n",
              "      buttonEl.style.display =\n",
              "        google.colab.kernel.accessAllowed ? 'block' : 'none';\n",
              "\n",
              "      async function convertToInteractive(key) {\n",
              "        const element = document.querySelector('#df-e054b1a3-b793-4002-8709-30b753153b57');\n",
              "        const dataTable =\n",
              "          await google.colab.kernel.invokeFunction('convertToInteractive',\n",
              "                                                    [key], {});\n",
              "        if (!dataTable) return;\n",
              "\n",
              "        const docLinkHtml = 'Like what you see? Visit the ' +\n",
              "          '<a target=\"_blank\" href=https://colab.research.google.com/notebooks/data_table.ipynb>data table notebook</a>'\n",
              "          + ' to learn more about interactive tables.';\n",
              "        element.innerHTML = '';\n",
              "        dataTable['output_type'] = 'display_data';\n",
              "        await google.colab.output.renderOutput(dataTable, element);\n",
              "        const docLink = document.createElement('div');\n",
              "        docLink.innerHTML = docLinkHtml;\n",
              "        element.appendChild(docLink);\n",
              "      }\n",
              "    </script>\n",
              "  </div>\n",
              "\n",
              "\n",
              "<div id=\"df-6e085df4-f4ef-427b-a841-402854a89299\">\n",
              "  <button class=\"colab-df-quickchart\" onclick=\"quickchart('df-6e085df4-f4ef-427b-a841-402854a89299')\"\n",
              "            title=\"Suggest charts\"\n",
              "            style=\"display:none;\">\n",
              "\n",
              "<svg xmlns=\"http://www.w3.org/2000/svg\" height=\"24px\"viewBox=\"0 0 24 24\"\n",
              "     width=\"24px\">\n",
              "    <g>\n",
              "        <path d=\"M19 3H5c-1.1 0-2 .9-2 2v14c0 1.1.9 2 2 2h14c1.1 0 2-.9 2-2V5c0-1.1-.9-2-2-2zM9 17H7v-7h2v7zm4 0h-2V7h2v10zm4 0h-2v-4h2v4z\"/>\n",
              "    </g>\n",
              "</svg>\n",
              "  </button>\n",
              "\n",
              "<style>\n",
              "  .colab-df-quickchart {\n",
              "      --bg-color: #E8F0FE;\n",
              "      --fill-color: #1967D2;\n",
              "      --hover-bg-color: #E2EBFA;\n",
              "      --hover-fill-color: #174EA6;\n",
              "      --disabled-fill-color: #AAA;\n",
              "      --disabled-bg-color: #DDD;\n",
              "  }\n",
              "\n",
              "  [theme=dark] .colab-df-quickchart {\n",
              "      --bg-color: #3B4455;\n",
              "      --fill-color: #D2E3FC;\n",
              "      --hover-bg-color: #434B5C;\n",
              "      --hover-fill-color: #FFFFFF;\n",
              "      --disabled-bg-color: #3B4455;\n",
              "      --disabled-fill-color: #666;\n",
              "  }\n",
              "\n",
              "  .colab-df-quickchart {\n",
              "    background-color: var(--bg-color);\n",
              "    border: none;\n",
              "    border-radius: 50%;\n",
              "    cursor: pointer;\n",
              "    display: none;\n",
              "    fill: var(--fill-color);\n",
              "    height: 32px;\n",
              "    padding: 0;\n",
              "    width: 32px;\n",
              "  }\n",
              "\n",
              "  .colab-df-quickchart:hover {\n",
              "    background-color: var(--hover-bg-color);\n",
              "    box-shadow: 0 1px 2px rgba(60, 64, 67, 0.3), 0 1px 3px 1px rgba(60, 64, 67, 0.15);\n",
              "    fill: var(--button-hover-fill-color);\n",
              "  }\n",
              "\n",
              "  .colab-df-quickchart-complete:disabled,\n",
              "  .colab-df-quickchart-complete:disabled:hover {\n",
              "    background-color: var(--disabled-bg-color);\n",
              "    fill: var(--disabled-fill-color);\n",
              "    box-shadow: none;\n",
              "  }\n",
              "\n",
              "  .colab-df-spinner {\n",
              "    border: 2px solid var(--fill-color);\n",
              "    border-color: transparent;\n",
              "    border-bottom-color: var(--fill-color);\n",
              "    animation:\n",
              "      spin 1s steps(1) infinite;\n",
              "  }\n",
              "\n",
              "  @keyframes spin {\n",
              "    0% {\n",
              "      border-color: transparent;\n",
              "      border-bottom-color: var(--fill-color);\n",
              "      border-left-color: var(--fill-color);\n",
              "    }\n",
              "    20% {\n",
              "      border-color: transparent;\n",
              "      border-left-color: var(--fill-color);\n",
              "      border-top-color: var(--fill-color);\n",
              "    }\n",
              "    30% {\n",
              "      border-color: transparent;\n",
              "      border-left-color: var(--fill-color);\n",
              "      border-top-color: var(--fill-color);\n",
              "      border-right-color: var(--fill-color);\n",
              "    }\n",
              "    40% {\n",
              "      border-color: transparent;\n",
              "      border-right-color: var(--fill-color);\n",
              "      border-top-color: var(--fill-color);\n",
              "    }\n",
              "    60% {\n",
              "      border-color: transparent;\n",
              "      border-right-color: var(--fill-color);\n",
              "    }\n",
              "    80% {\n",
              "      border-color: transparent;\n",
              "      border-right-color: var(--fill-color);\n",
              "      border-bottom-color: var(--fill-color);\n",
              "    }\n",
              "    90% {\n",
              "      border-color: transparent;\n",
              "      border-bottom-color: var(--fill-color);\n",
              "    }\n",
              "  }\n",
              "</style>\n",
              "\n",
              "  <script>\n",
              "    async function quickchart(key) {\n",
              "      const quickchartButtonEl =\n",
              "        document.querySelector('#' + key + ' button');\n",
              "      quickchartButtonEl.disabled = true;  // To prevent multiple clicks.\n",
              "      quickchartButtonEl.classList.add('colab-df-spinner');\n",
              "      try {\n",
              "        const charts = await google.colab.kernel.invokeFunction(\n",
              "            'suggestCharts', [key], {});\n",
              "      } catch (error) {\n",
              "        console.error('Error during call to suggestCharts:', error);\n",
              "      }\n",
              "      quickchartButtonEl.classList.remove('colab-df-spinner');\n",
              "      quickchartButtonEl.classList.add('colab-df-quickchart-complete');\n",
              "    }\n",
              "    (() => {\n",
              "      let quickchartButtonEl =\n",
              "        document.querySelector('#df-6e085df4-f4ef-427b-a841-402854a89299 button');\n",
              "      quickchartButtonEl.style.display =\n",
              "        google.colab.kernel.accessAllowed ? 'block' : 'none';\n",
              "    })();\n",
              "  </script>\n",
              "</div>\n",
              "\n",
              "    </div>\n",
              "  </div>\n"
            ],
            "application/vnd.google.colaboratory.intrinsic+json": {
              "type": "dataframe",
              "summary": "{\n  \"name\": \"model_all_results\",\n  \"rows\": 4,\n  \"fields\": [\n    {\n      \"column\": \"baseline\",\n      \"properties\": {\n        \"dtype\": \"number\",\n        \"std\": 0.01154976482266348,\n        \"min\": 0.6925101703856846,\n        \"max\": 0.716674962667994,\n        \"num_unique_values\": 3,\n        \"samples\": [\n          0.716674962667994,\n          0.7124322482375202,\n          0.6925101703856846\n        ],\n        \"semantic_type\": \"\",\n        \"description\": \"\"\n      }\n    },\n    {\n      \"column\": \"model_1\",\n      \"properties\": {\n        \"dtype\": \"number\",\n        \"std\": 0.001527361600372585,\n        \"min\": 0.7925252696902022,\n        \"max\": 0.7957524473203915,\n        \"num_unique_values\": 3,\n        \"samples\": [\n          0.7957524473203915,\n          0.79494846495921,\n          0.7925252696902022\n        ],\n        \"semantic_type\": \"\",\n        \"description\": \"\"\n      }\n    },\n    {\n      \"column\": \"model_2\",\n      \"properties\": {\n        \"dtype\": \"number\",\n        \"std\": 0.002682683659610306,\n        \"min\": 0.7213738040729972,\n        \"max\": 0.7267297162767546,\n        \"num_unique_values\": 3,\n        \"samples\": [\n          0.7267297162767546,\n          0.7231309399728386,\n          0.7213738040729972\n        ],\n        \"semantic_type\": \"\",\n        \"description\": \"\"\n      }\n    },\n    {\n      \"column\": \"model_3\",\n      \"properties\": {\n        \"dtype\": \"number\",\n        \"std\": 0.027778828988736928,\n        \"min\": 0.49239852000095863,\n        \"max\": 0.5562637897034359,\n        \"num_unique_values\": 3,\n        \"samples\": [\n          0.5409324705491952,\n          0.5562637897034359,\n          0.49239852000095863\n        ],\n        \"semantic_type\": \"\",\n        \"description\": \"\"\n      }\n    },\n    {\n      \"column\": \"model_4\",\n      \"properties\": {\n        \"dtype\": \"number\",\n        \"std\": 0.002555258974736009,\n        \"min\": 0.736626195345698,\n        \"max\": 0.7419943587190975,\n        \"num_unique_values\": 4,\n        \"samples\": [\n          0.7394963635787047,\n          0.736626195345698,\n          0.7419943587190975\n        ],\n        \"semantic_type\": \"\",\n        \"description\": \"\"\n      }\n    },\n    {\n      \"column\": \"model_5\",\n      \"properties\": {\n        \"dtype\": \"number\",\n        \"std\": 0.002697543359490303,\n        \"min\": 0.8339772387064576,\n        \"max\": 0.8405136843389904,\n        \"num_unique_values\": 3,\n        \"samples\": [\n          0.8379293180686909,\n          0.8405136843389904,\n          0.8339772387064576\n        ],\n        \"semantic_type\": \"\",\n        \"description\": \"\"\n      }\n    }\n  ]\n}"
            }
          },
          "metadata": {},
          "execution_count": 139
        }
      ]
    },
    {
      "cell_type": "code",
      "source": [
        "model_all_results.plot.bar()"
      ],
      "metadata": {
        "id": "6w9R-ST0D5Ij",
        "outputId": "333e261d-c0ad-4f6a-bb1b-1e183aca4597",
        "colab": {
          "base_uri": "https://localhost:8080/",
          "height": 492
        }
      },
      "execution_count": 140,
      "outputs": [
        {
          "output_type": "execute_result",
          "data": {
            "text/plain": [
              "<Axes: >"
            ]
          },
          "metadata": {},
          "execution_count": 140
        },
        {
          "output_type": "display_data",
          "data": {
            "text/plain": [
              "<Figure size 640x480 with 1 Axes>"
            ],
            "image/png": "[encoded data removed]"
          },
          "metadata": {}
        }
      ]
    },
    {
      "cell_type": "code",
      "source": [
        "model_all_results['f1'].sort_values(ascending= False).plot.bar()"
      ],
      "metadata": {
        "id": "2nkDxvWrFPUs",
        "outputId": "3921c967-96e4-4949-9c2a-72db357d5bee",
        "colab": {
          "base_uri": "https://localhost:8080/",
          "height": 492
        }
      },
      "execution_count": 141,
      "outputs": [
        {
          "output_type": "execute_result",
          "data": {
            "text/plain": [
              "<Axes: >"
            ]
          },
          "metadata": {},
          "execution_count": 141
        },
        {
          "output_type": "display_data",
          "data": {
            "text/plain": [
              "<Figure size 640x480 with 1 Axes>"
            ],
            "image/png": "[encoded data removed]"
          },
          "metadata": {}
        }
      ]
    }
  ],
  "metadata": {
    "kernelspec": {
      "display_name": "Python 3",
      "name": "python3"
    },
    "language_info": {
      "codemirror_mode": {
        "name": "ipython",
        "version": 3
      },
      "file_extension": ".py",
      "mimetype": "text/x-python",
      "name": "python",
      "nbconvert_exporter": "python",
      "pygments_lexer": "ipython3",
      "version": "3.10.13"
    },
    "colab": {
      "provenance": [],
      "gpuType": "T4",
      "machine_shape": "hm",
      "include_colab_link": true
    },
    "accelerator": "GPU"
  },
  "nbformat": 4,
  "nbformat_minor": 0
}