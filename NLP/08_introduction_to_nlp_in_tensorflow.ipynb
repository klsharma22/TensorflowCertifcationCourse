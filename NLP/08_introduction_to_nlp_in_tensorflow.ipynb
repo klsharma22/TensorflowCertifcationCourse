{
 "cells": [
  {
   "cell_type": "markdown",
   "metadata": {},
   "source": [
    "# Introduction to NLP Fundatmentals in TensorFlow\n",
    "\n",
    "NLP has the goal of deriving information out of natural language\n",
    "\n",
    "Another common term for NLP problem is seq2seq"
   ]
  },
  {
   "cell_type": "markdown",
   "metadata": {},
   "source": [
    "## Check for GPU"
   ]
  },
  {
   "cell_type": "code",
   "execution_count": 1,
   "metadata": {},
   "outputs": [
    {
     "name": "stdout",
     "output_type": "stream",
     "text": [
      "zsh:1: command not found: nvidia-smi\n"
     ]
    }
   ],
   "source": [
    "!nvidia-smi"
   ]
  },
  {
   "cell_type": "markdown",
   "metadata": {},
   "source": [
    "## Downloading helper function inside the folder\n"
   ]
  },
  {
   "cell_type": "markdown",
   "metadata": {},
   "source": [
    "! wget https://raw.githubusercontent.com/mrdbourke/tensorflow-deep-learning/main/extras/helper_functions.py"
   ]
  },
  {
   "cell_type": "code",
   "execution_count": 2,
   "metadata": {},
   "outputs": [],
   "source": [
    "from helper_functions import unzip_data, create_tensorboard_callback, plot_loss_curves, compare_historys"
   ]
  },
  {
   "cell_type": "markdown",
   "metadata": {},
   "source": [
    "## Get a text dataset\n",
    "\n",
    "The dataset we're going ti be using is Kaggle's introduction to NLP dataset. A classification problem\n",
    "\n",
    "[Competition Link](https://www.kaggle.com/competitions/nlp-getting-started/overview)"
   ]
  },
  {
   "cell_type": "code",
   "execution_count": 3,
   "metadata": {},
   "outputs": [
    {
     "name": "stdout",
     "output_type": "stream",
     "text": [
      "--2024-03-13 23:32:43--  https://storage.googleapis.com/ztm_tf_course/nlp_getting_started.zip\n",
      "Resolving storage.googleapis.com (storage.googleapis.com)... 2404:6800:4009:804::201b, 2404:6800:4009:80d::201b, 2404:6800:4009:813::201b, ...\n",
      "Connecting to storage.googleapis.com (storage.googleapis.com)|2404:6800:4009:804::201b|:443... connected.\n",
      "HTTP request sent, awaiting response... 200 OK\n",
      "Length: 607343 (593K) [application/zip]\n",
      "Saving to: 'nlp_getting_started.zip.2'\n",
      "\n",
      "nlp_getting_started 100%[===================>] 593.11K  --.-KB/s    in 0.1s    \n",
      "\n",
      "2024-03-13 23:32:43 (4.18 MB/s) - 'nlp_getting_started.zip.2' saved [607343/607343]\n",
      "\n"
     ]
    }
   ],
   "source": [
    "!wget https://storage.googleapis.com/ztm_tf_course/nlp_getting_started.zip\n",
    "\n",
    "unzip_data('nlp_getting_started.zip')"
   ]
  },
  {
   "cell_type": "markdown",
   "metadata": {},
   "source": [
    "## Become one with the data"
   ]
  },
  {
   "cell_type": "code",
   "execution_count": 4,
   "metadata": {},
   "outputs": [
    {
     "data": {
      "text/html": [
       "<div>\n",
       "<style scoped>\n",
       "    .dataframe tbody tr th:only-of-type {\n",
       "        vertical-align: middle;\n",
       "    }\n",
       "\n",
       "    .dataframe tbody tr th {\n",
       "        vertical-align: top;\n",
       "    }\n",
       "\n",
       "    .dataframe thead th {\n",
       "        text-align: right;\n",
       "    }\n",
       "</style>\n",
       "<table border=\"1\" class=\"dataframe\">\n",
       "  <thead>\n",
       "    <tr style=\"text-align: right;\">\n",
       "      <th></th>\n",
       "      <th>id</th>\n",
       "      <th>keyword</th>\n",
       "      <th>location</th>\n",
       "      <th>text</th>\n",
       "      <th>target</th>\n",
       "    </tr>\n",
       "  </thead>\n",
       "  <tbody>\n",
       "    <tr>\n",
       "      <th>0</th>\n",
       "      <td>1</td>\n",
       "      <td>NaN</td>\n",
       "      <td>NaN</td>\n",
       "      <td>Our Deeds are the Reason of this #earthquake M...</td>\n",
       "      <td>1</td>\n",
       "    </tr>\n",
       "    <tr>\n",
       "      <th>1</th>\n",
       "      <td>4</td>\n",
       "      <td>NaN</td>\n",
       "      <td>NaN</td>\n",
       "      <td>Forest fire near La Ronge Sask. Canada</td>\n",
       "      <td>1</td>\n",
       "    </tr>\n",
       "    <tr>\n",
       "      <th>2</th>\n",
       "      <td>5</td>\n",
       "      <td>NaN</td>\n",
       "      <td>NaN</td>\n",
       "      <td>All residents asked to 'shelter in place' are ...</td>\n",
       "      <td>1</td>\n",
       "    </tr>\n",
       "    <tr>\n",
       "      <th>3</th>\n",
       "      <td>6</td>\n",
       "      <td>NaN</td>\n",
       "      <td>NaN</td>\n",
       "      <td>13,000 people receive #wildfires evacuation or...</td>\n",
       "      <td>1</td>\n",
       "    </tr>\n",
       "    <tr>\n",
       "      <th>4</th>\n",
       "      <td>7</td>\n",
       "      <td>NaN</td>\n",
       "      <td>NaN</td>\n",
       "      <td>Just got sent this photo from Ruby #Alaska as ...</td>\n",
       "      <td>1</td>\n",
       "    </tr>\n",
       "  </tbody>\n",
       "</table>\n",
       "</div>"
      ],
      "text/plain": [
       "   id keyword location                                               text  \\\n",
       "0   1     NaN      NaN  Our Deeds are the Reason of this #earthquake M...   \n",
       "1   4     NaN      NaN             Forest fire near La Ronge Sask. Canada   \n",
       "2   5     NaN      NaN  All residents asked to 'shelter in place' are ...   \n",
       "3   6     NaN      NaN  13,000 people receive #wildfires evacuation or...   \n",
       "4   7     NaN      NaN  Just got sent this photo from Ruby #Alaska as ...   \n",
       "\n",
       "   target  \n",
       "0       1  \n",
       "1       1  \n",
       "2       1  \n",
       "3       1  \n",
       "4       1  "
      ]
     },
     "execution_count": 4,
     "metadata": {},
     "output_type": "execute_result"
    }
   ],
   "source": [
    "# Read thed data\n",
    "import pandas as pd\n",
    "\n",
    "train_df = pd.read_csv('train.csv')\n",
    "test_df = pd.read_csv('test.csv')\n",
    "\n",
    "train_df.head()"
   ]
  },
  {
   "cell_type": "code",
   "execution_count": 5,
   "metadata": {},
   "outputs": [
    {
     "data": {
      "text/html": [
       "<div>\n",
       "<style scoped>\n",
       "    .dataframe tbody tr th:only-of-type {\n",
       "        vertical-align: middle;\n",
       "    }\n",
       "\n",
       "    .dataframe tbody tr th {\n",
       "        vertical-align: top;\n",
       "    }\n",
       "\n",
       "    .dataframe thead th {\n",
       "        text-align: right;\n",
       "    }\n",
       "</style>\n",
       "<table border=\"1\" class=\"dataframe\">\n",
       "  <thead>\n",
       "    <tr style=\"text-align: right;\">\n",
       "      <th></th>\n",
       "      <th>id</th>\n",
       "      <th>keyword</th>\n",
       "      <th>location</th>\n",
       "      <th>text</th>\n",
       "      <th>target</th>\n",
       "    </tr>\n",
       "  </thead>\n",
       "  <tbody>\n",
       "    <tr>\n",
       "      <th>2644</th>\n",
       "      <td>3796</td>\n",
       "      <td>destruction</td>\n",
       "      <td>NaN</td>\n",
       "      <td>So you have a new weapon that can cause un-ima...</td>\n",
       "      <td>1</td>\n",
       "    </tr>\n",
       "    <tr>\n",
       "      <th>2227</th>\n",
       "      <td>3185</td>\n",
       "      <td>deluge</td>\n",
       "      <td>NaN</td>\n",
       "      <td>The f$&amp;amp;@ing things I do for #GISHWHES Just...</td>\n",
       "      <td>0</td>\n",
       "    </tr>\n",
       "    <tr>\n",
       "      <th>5448</th>\n",
       "      <td>7769</td>\n",
       "      <td>police</td>\n",
       "      <td>UK</td>\n",
       "      <td>DT @georgegalloway: RT @Galloway4Mayor: ÛÏThe...</td>\n",
       "      <td>1</td>\n",
       "    </tr>\n",
       "    <tr>\n",
       "      <th>132</th>\n",
       "      <td>191</td>\n",
       "      <td>aftershock</td>\n",
       "      <td>NaN</td>\n",
       "      <td>Aftershock back to school kick off was great. ...</td>\n",
       "      <td>0</td>\n",
       "    </tr>\n",
       "    <tr>\n",
       "      <th>6845</th>\n",
       "      <td>9810</td>\n",
       "      <td>trauma</td>\n",
       "      <td>Montgomery County, MD</td>\n",
       "      <td>in response to trauma Children of Addicts deve...</td>\n",
       "      <td>0</td>\n",
       "    </tr>\n",
       "  </tbody>\n",
       "</table>\n",
       "</div>"
      ],
      "text/plain": [
       "        id      keyword               location  \\\n",
       "2644  3796  destruction                    NaN   \n",
       "2227  3185       deluge                    NaN   \n",
       "5448  7769       police                     UK   \n",
       "132    191   aftershock                    NaN   \n",
       "6845  9810       trauma  Montgomery County, MD   \n",
       "\n",
       "                                                   text  target  \n",
       "2644  So you have a new weapon that can cause un-ima...       1  \n",
       "2227  The f$&amp;@ing things I do for #GISHWHES Just...       0  \n",
       "5448  DT @georgegalloway: RT @Galloway4Mayor: ÛÏThe...       1  \n",
       "132   Aftershock back to school kick off was great. ...       0  \n",
       "6845  in response to trauma Children of Addicts deve...       0  "
      ]
     },
     "execution_count": 5,
     "metadata": {},
     "output_type": "execute_result"
    }
   ],
   "source": [
    "# Shuffle training dataframe\n",
    "train_df_shuffled = train_df.sample(frac= 1, random_state= 42)\n",
    "\n",
    "train_df_shuffled.head()"
   ]
  },
  {
   "cell_type": "code",
   "execution_count": 6,
   "metadata": {},
   "outputs": [
    {
     "data": {
      "text/html": [
       "<div>\n",
       "<style scoped>\n",
       "    .dataframe tbody tr th:only-of-type {\n",
       "        vertical-align: middle;\n",
       "    }\n",
       "\n",
       "    .dataframe tbody tr th {\n",
       "        vertical-align: top;\n",
       "    }\n",
       "\n",
       "    .dataframe thead th {\n",
       "        text-align: right;\n",
       "    }\n",
       "</style>\n",
       "<table border=\"1\" class=\"dataframe\">\n",
       "  <thead>\n",
       "    <tr style=\"text-align: right;\">\n",
       "      <th></th>\n",
       "      <th>id</th>\n",
       "      <th>keyword</th>\n",
       "      <th>location</th>\n",
       "      <th>text</th>\n",
       "    </tr>\n",
       "  </thead>\n",
       "  <tbody>\n",
       "    <tr>\n",
       "      <th>0</th>\n",
       "      <td>0</td>\n",
       "      <td>NaN</td>\n",
       "      <td>NaN</td>\n",
       "      <td>Just happened a terrible car crash</td>\n",
       "    </tr>\n",
       "    <tr>\n",
       "      <th>1</th>\n",
       "      <td>2</td>\n",
       "      <td>NaN</td>\n",
       "      <td>NaN</td>\n",
       "      <td>Heard about #earthquake is different cities, s...</td>\n",
       "    </tr>\n",
       "    <tr>\n",
       "      <th>2</th>\n",
       "      <td>3</td>\n",
       "      <td>NaN</td>\n",
       "      <td>NaN</td>\n",
       "      <td>there is a forest fire at spot pond, geese are...</td>\n",
       "    </tr>\n",
       "    <tr>\n",
       "      <th>3</th>\n",
       "      <td>9</td>\n",
       "      <td>NaN</td>\n",
       "      <td>NaN</td>\n",
       "      <td>Apocalypse lighting. #Spokane #wildfires</td>\n",
       "    </tr>\n",
       "    <tr>\n",
       "      <th>4</th>\n",
       "      <td>11</td>\n",
       "      <td>NaN</td>\n",
       "      <td>NaN</td>\n",
       "      <td>Typhoon Soudelor kills 28 in China and Taiwan</td>\n",
       "    </tr>\n",
       "  </tbody>\n",
       "</table>\n",
       "</div>"
      ],
      "text/plain": [
       "   id keyword location                                               text\n",
       "0   0     NaN      NaN                 Just happened a terrible car crash\n",
       "1   2     NaN      NaN  Heard about #earthquake is different cities, s...\n",
       "2   3     NaN      NaN  there is a forest fire at spot pond, geese are...\n",
       "3   9     NaN      NaN           Apocalypse lighting. #Spokane #wildfires\n",
       "4  11     NaN      NaN      Typhoon Soudelor kills 28 in China and Taiwan"
      ]
     },
     "execution_count": 6,
     "metadata": {},
     "output_type": "execute_result"
    }
   ],
   "source": [
    "test_df.head()"
   ]
  },
  {
   "cell_type": "code",
   "execution_count": 7,
   "metadata": {},
   "outputs": [
    {
     "data": {
      "text/plain": [
       "target\n",
       "0    4342\n",
       "1    3271\n",
       "Name: count, dtype: int64"
      ]
     },
     "execution_count": 7,
     "metadata": {},
     "output_type": "execute_result"
    }
   ],
   "source": [
    "# How many examples of each class\n",
    "train_df['target'].value_counts()"
   ]
  },
  {
   "cell_type": "code",
   "execution_count": 8,
   "metadata": {},
   "outputs": [
    {
     "data": {
      "text/plain": [
       "(7613, 3263)"
      ]
     },
     "execution_count": 8,
     "metadata": {},
     "output_type": "execute_result"
    }
   ],
   "source": [
    "# How may samples\n",
    "len(train_df), len(test_df)"
   ]
  },
  {
   "cell_type": "code",
   "execution_count": 9,
   "metadata": {},
   "outputs": [
    {
     "name": "stdout",
     "output_type": "stream",
     "text": [
      "Target: Disaster\n",
      "Text: @Erker Again?? Eep! Thought of you yesterday when I saw that hella scary hail. #armageddon?\n",
      "----\n",
      "\n",
      "Target: Disaster\n",
      "Text: #hot  C-130 specially modified to land in a stadium and rescue hostages in Iran in 1980 http://t.co/W0EXzAD5Gc #prebreak #best\n",
      "----\n",
      "\n",
      "Target: Disaster\n",
      "Text: @UniversityofLaw For the people who died in Human Experiments by Unit 731 of Japanese military http://t.co/vVPLFQv58P http://t.co/eG1fsKqBv6\n",
      "----\n",
      "\n",
      "Target: Disaster\n",
      "Text: Latest : Trains derailment: 'It's the freakiest of freak accidents' - The Indian Express: The Indi... http://t.co/iLdbeJe225 #IndianNews\n",
      "----\n",
      "\n",
      "Target: Disaster\n",
      "Text: Motorcyclist bicyclist injured in Denver collision on Broadway: http://t.co/241cN8yxjq by @kierannicholson\n",
      "----\n",
      "\n"
     ]
    }
   ],
   "source": [
    "# Let's visualise some random training examples\n",
    "import random\n",
    "random_index = random.randint(0, len(train_df) - 5)\n",
    "\n",
    "for row in train_df_shuffled[['text', 'target']][random_index: random_index + 5].itertuples():\n",
    "    _, text, target = row\n",
    "    print(f\"Target: {'Disaster' if target == 1 else 'Not a disaster'}\")\n",
    "    print(f\"Text: {text}\")\n",
    "    print(\"----\\n\")\n"
   ]
  },
  {
   "cell_type": "markdown",
   "metadata": {},
   "source": [
    "### Split data into training and validation sets"
   ]
  },
  {
   "cell_type": "code",
   "execution_count": 10,
   "metadata": {},
   "outputs": [],
   "source": [
    "from sklearn.model_selection import train_test_split\n",
    "\n",
    "# Use train_test_split() to split the trianing data into train and validation dataset\n",
    "\n",
    "train_sentences, val_sentences, train_labels, val_labels = train_test_split(train_df_shuffled['text'].to_numpy(), train_df_shuffled['target'].to_numpy(), test_size= 0.1, random_state= 42)"
   ]
  },
  {
   "cell_type": "code",
   "execution_count": 11,
   "metadata": {},
   "outputs": [
    {
     "data": {
      "text/plain": [
       "(6851, 6851, 762, 762)"
      ]
     },
     "execution_count": 11,
     "metadata": {},
     "output_type": "execute_result"
    }
   ],
   "source": [
    "len(train_sentences), len(train_labels), len(val_sentences), len(val_labels)"
   ]
  },
  {
   "cell_type": "code",
   "execution_count": 12,
   "metadata": {},
   "outputs": [
    {
     "data": {
      "text/plain": [
       "(array(['@mogacola @zamtriossu i screamed after hitting tweet',\n",
       "        'Imagine getting flattened by Kurt Zouma',\n",
       "        '@Gurmeetramrahim #MSGDoing111WelfareWorks Green S welfare force ke appx 65000 members har time disaster victim ki help ke liye tyar hai....',\n",
       "        \"@shakjn @C7 @Magnums im shaking in fear he's gonna hack the planet\",\n",
       "        'Somehow find you and I collide http://t.co/Ee8RpOahPk',\n",
       "        '@EvaHanderek @MarleyKnysh great times until the bus driver held us hostage in the mall parking lot lmfao',\n",
       "        'destroy the free fandom honestly',\n",
       "        'Weapons stolen from National Guard Armory in New Albany still missing #Gunsense http://t.co/lKNU8902JE',\n",
       "        '@wfaaweather Pete when will the heat wave pass? Is it really going to be mid month? Frisco Boy Scouts have a canoe trip in Okla.',\n",
       "        'Patient-reported outcomes in long-term survivors of metastatic colorectal cancer - British Journal of Surgery http://t.co/5Yl4DC1Tqt'],\n",
       "       dtype=object),\n",
       " array([0, 0, 1, 0, 0, 1, 1, 0, 1, 1]))"
      ]
     },
     "execution_count": 12,
     "metadata": {},
     "output_type": "execute_result"
    }
   ],
   "source": [
    "# Check the first 10 sentences\n",
    "train_sentences[:10], train_labels[:10]"
   ]
  },
  {
   "cell_type": "markdown",
   "metadata": {},
   "source": [
    "## Converting text into numbers\n",
    "\n",
    "When dealing with a text problem, one of the first things you'll have to do before you can build a model is to convert your text to nuumbers.\n",
    "\n",
    "There are a few ways to do this:\n",
    "* Tokenization\n",
    "* Embedding"
   ]
  },
  {
   "cell_type": "markdown",
   "metadata": {},
   "source": [
    "### Text vectorization (tokenization)"
   ]
  },
  {
   "cell_type": "code",
   "execution_count": 13,
   "metadata": {},
   "outputs": [],
   "source": [
    "import tensorflow as tf\n",
    "from tensorflow.keras.layers import TextVectorization\n",
    "\n",
    "# Use defalut TextVectorization parameter\n",
    "text_vectorizer = TextVectorization(max_tokens= None, # how many words in vocab\n",
    "                                    standardize= 'lower_and_strip_punctuation',\n",
    "                                    split= 'whitespace',\n",
    "                                    ngrams= None, # creates a group of words\n",
    "                                    output_mode= 'int', # in which format the output should be\n",
    "                                    output_sequence_length= None, # how long deos the output sequence should be of\n",
    "                                    )"
   ]
  },
  {
   "cell_type": "code",
   "execution_count": 14,
   "metadata": {},
   "outputs": [
    {
     "data": {
      "text/plain": [
       "14"
      ]
     },
     "execution_count": 14,
     "metadata": {},
     "output_type": "execute_result"
    }
   ],
   "source": [
    "# Find the average number of tokens in the training tweets\n",
    "round(sum([len(i.split()) for i in train_sentences]) // len(train_sentences))"
   ]
  },
  {
   "cell_type": "code",
   "execution_count": 15,
   "metadata": {},
   "outputs": [],
   "source": [
    "# Setup text vectorization variables\n",
    "max_vocab_length = 10000 # max number of words to have in our vocab\n",
    "max_length = 15 # max length our sequences will be\n",
    "\n",
    "text_vectorizer = TextVectorization(max_tokens= max_vocab_length,\n",
    "                                    output_mode= 'int',\n",
    "                                    output_sequence_length= max_length)"
   ]
  },
  {
   "cell_type": "code",
   "execution_count": 16,
   "metadata": {},
   "outputs": [],
   "source": [
    "# Fit the text vectorization to training set\n",
    "text_vectorizer.adapt(train_sentences)"
   ]
  },
  {
   "cell_type": "code",
   "execution_count": 17,
   "metadata": {},
   "outputs": [
    {
     "data": {
      "text/plain": [
       "<tf.Tensor: shape=(1, 15), dtype=int64, numpy=\n",
       "array([[264,   3, 232,   4,  13, 698,   0,   0,   0,   0,   0,   0,   0,\n",
       "          0,   0]])>"
      ]
     },
     "execution_count": 17,
     "metadata": {},
     "output_type": "execute_result"
    }
   ],
   "source": [
    "# Create a sample sentence and tokenize it\n",
    "sample_sentences = \"There's a flood in my street!\"\n",
    "\n",
    "text_vectorizer([sample_sentences])"
   ]
  },
  {
   "cell_type": "code",
   "execution_count": 18,
   "metadata": {},
   "outputs": [
    {
     "name": "stdout",
     "output_type": "stream",
     "text": [
      "Original text: *to Luka* They should all die! All of them! Everything annihilated! - Alois Trancy\n",
      "Vectorized sentence: [[   5 5182   64  168   44  686   44    6   93  709  558 6232 4390    0\n",
      "     0]]\n"
     ]
    }
   ],
   "source": [
    "# Choose a random sentences from the training sentences\n",
    "random_sentences = random.choice(train_sentences)\n",
    "print(f\"Original text: {random_sentences}\")\n",
    "print(f\"Vectorized sentence: {text_vectorizer([random_sentences])}\")"
   ]
  },
  {
   "cell_type": "code",
   "execution_count": 19,
   "metadata": {},
   "outputs": [
    {
     "name": "stdout",
     "output_type": "stream",
     "text": [
      "Number fo words in vocab: 10000\n",
      "5 most common words: ['', '[UNK]', 'the', 'a', 'in']\n",
      "5 least common words: ['pages', 'paeds', 'pads', 'padres', 'paddytomlinson1']\n"
     ]
    }
   ],
   "source": [
    "words_in_vocab = text_vectorizer.get_vocabulary() # retrieves all of the unique words\n",
    "\n",
    "tope_5_words = words_in_vocab[:5] # gets the most common words\n",
    "bottom_5_words = words_in_vocab[-5:] # gets the least common words\n",
    "\n",
    "print(f\"Number fo words in vocab: {len(words_in_vocab)}\")\n",
    "print(f\"5 most common words: {tope_5_words}\")\n",
    "print(f\"5 least common words: {bottom_5_words}\")"
   ]
  },
  {
   "cell_type": "markdown",
   "metadata": {},
   "source": [
    "### Creating an Embedding using an Embedding layer\n",
    "\n",
    "We're going to use Tensorflow Embedding layer.\n",
    "\n",
    "\n",
    "The parameters we care most about our embedding layers:\n",
    "* `input_dim`\n",
    "* `output_dim`\n",
    "* `input_length`"
   ]
  },
  {
   "cell_type": "code",
   "execution_count": 22,
   "metadata": {},
   "outputs": [
    {
     "data": {
      "text/plain": [
       "<Embedding name=embedding_2, built=False>"
      ]
     },
     "execution_count": 22,
     "metadata": {},
     "output_type": "execute_result"
    }
   ],
   "source": [
    "from tensorflow.keras import layers\n",
    "\n",
    "embedding = layers.Embedding(input_dim= max_vocab_length, # set input shape\n",
    "                             output_dim= 128,\n",
    "                            #  input_length= max_length # how long is each input\n",
    "                             )\n",
    "\n",
    "embedding"
   ]
  },
  {
   "cell_type": "code",
   "execution_count": 23,
   "metadata": {},
   "outputs": [
    {
     "name": "stdout",
     "output_type": "stream",
     "text": [
      "Original sentences: Tales of the #trees #deep water loving #Lake Tahoe. And no #forest fires https://t.co/xuhMJ098Lq\n"
     ]
    },
    {
     "data": {
      "text/plain": [
       "<tf.Tensor: shape=(1, 15, 128), dtype=float32, numpy=\n",
       "array([[[ 0.0459482 ,  0.03820625, -0.00944789, ..., -0.00482849,\n",
       "         -0.03102969,  0.03560256],\n",
       "        [-0.04430331,  0.04988122, -0.03079559, ..., -0.03603041,\n",
       "         -0.01753774, -0.04832139],\n",
       "        [-0.01498369, -0.01773777, -0.02725281, ...,  0.02096945,\n",
       "          0.0482461 , -0.025371  ],\n",
       "        ...,\n",
       "        [-0.00196964, -0.02036949,  0.03472633, ..., -0.03056114,\n",
       "         -0.02057943, -0.00333996],\n",
       "        [ 0.02420746, -0.02193842, -0.0486379 , ..., -0.03193476,\n",
       "          0.04191594, -0.00281013],\n",
       "        [ 0.03358766,  0.0382969 ,  0.04578682, ..., -0.00260104,\n",
       "         -0.01285019,  0.02403567]]], dtype=float32)>"
      ]
     },
     "execution_count": 23,
     "metadata": {},
     "output_type": "execute_result"
    }
   ],
   "source": [
    "# Get a ranomd sentence from the training set\n",
    "random_sentences = random.choice(train_sentences)\n",
    "\n",
    "print(f\"Original sentences: {random_sentences}\")\n",
    "\n",
    "# Embed the random sentences\n",
    "sample_embde = embedding(text_vectorizer([random_sentences]))\n",
    "sample_embde"
   ]
  },
  {
   "cell_type": "code",
   "execution_count": 24,
   "metadata": {},
   "outputs": [
    {
     "data": {
      "text/plain": [
       "(<tf.Tensor: shape=(128,), dtype=float32, numpy=\n",
       " array([ 0.0459482 ,  0.03820625, -0.00944789,  0.01065737, -0.04283671,\n",
       "         0.00488403,  0.04644314,  0.04737041,  0.00115569,  0.04558444,\n",
       "         0.007434  , -0.04764159, -0.01953284, -0.04718586,  0.04299584,\n",
       "         0.00213576,  0.03046933,  0.02810046, -0.02463889,  0.03671053,\n",
       "         0.02391391,  0.04718944,  0.04715394,  0.01378547, -0.01128869,\n",
       "         0.04869794,  0.03285262,  0.00197094, -0.00577684, -0.04010676,\n",
       "        -0.03761643, -0.00124691,  0.01855982, -0.04347393, -0.01458404,\n",
       "         0.04982673,  0.01406865, -0.04490464,  0.01740512,  0.04370717,\n",
       "        -0.0107438 , -0.03235755,  0.04239957, -0.01781919, -0.02763485,\n",
       "        -0.01060547,  0.01722733,  0.03261106, -0.01860147,  0.04464109,\n",
       "        -0.0185172 , -0.02181394, -0.0201294 ,  0.02227605, -0.04318444,\n",
       "         0.03879983,  0.00675918, -0.03775544,  0.0479707 , -0.01598407,\n",
       "         0.0237735 ,  0.04668415,  0.03435334, -0.01641153, -0.03494107,\n",
       "        -0.0150167 , -0.03018205,  0.04468605, -0.01826364, -0.0099989 ,\n",
       "         0.0323707 ,  0.01515305,  0.01213389,  0.0386448 ,  0.02349943,\n",
       "         0.02340592,  0.00192859,  0.04773258, -0.03883296, -0.00846009,\n",
       "        -0.04226481, -0.02260982, -0.00709457, -0.01740276,  0.01719364,\n",
       "        -0.04404512, -0.03683329, -0.00627526,  0.01988428, -0.01213322,\n",
       "         0.01703154,  0.03315582, -0.04745555,  0.0050848 , -0.03409441,\n",
       "         0.01190083, -0.01393207, -0.02885313, -0.02922287, -0.0385778 ,\n",
       "        -0.02775923,  0.00859972, -0.00680225, -0.03546066, -0.01307938,\n",
       "        -0.04836869,  0.02080138, -0.00384076, -0.0237928 , -0.00870597,\n",
       "        -0.03014526, -0.04746462, -0.03583076, -0.00119609, -0.02016983,\n",
       "         0.03057926, -0.03860058,  0.02238682, -0.02511675,  0.01415098,\n",
       "        -0.00706699,  0.04986671, -0.01818866,  0.00637215,  0.03478321,\n",
       "        -0.00482849, -0.03102969,  0.03560256], dtype=float32)>,\n",
       " TensorShape([128]),\n",
       " 'T')"
      ]
     },
     "execution_count": 24,
     "metadata": {},
     "output_type": "execute_result"
    }
   ],
   "source": [
    "# Check out a single token's embedding\n",
    "sample_embde[0][0], sample_embde[0][0].shape, random_sentences[0]"
   ]
  },
  {
   "cell_type": "markdown",
   "metadata": {},
   "source": [
    "## Modeling a text dataset\n",
    "\n",
    "Experiments:\n",
    "\n",
    "* Model 0: Naive Bayes\n",
    "* Model 1: Feed-forward neural network\n",
    "* Model 2: LSTM model\n",
    "* Model 3: GRU model\n",
    "* Model 4: Bidirectional LSTM model\n",
    "* Model 5: 1D Convolutional Neural Network\n",
    "* Model 6: Tensorflow Hub pretrained fetaure extractor\n",
    "* Model 7: Same as Model 6 but with 10% of the data"
   ]
  },
  {
   "cell_type": "markdown",
   "metadata": {},
   "source": [
    "### Model 0: Getting a baseline\n",
    "\n",
    "> **Note**: It is common practice to use non-DL algorithm as a baseline because of their speed and then alter using DL to see if you can improve upon them"
   ]
  },
  {
   "cell_type": "code",
   "execution_count": 25,
   "metadata": {},
   "outputs": [
    {
     "data": {
      "text/html": [
       "<style>#sk-container-id-1 {color: black;}#sk-container-id-1 pre{padding: 0;}#sk-container-id-1 div.sk-toggleable {background-color: white;}#sk-container-id-1 label.sk-toggleable__label {cursor: pointer;display: block;width: 100%;margin-bottom: 0;padding: 0.3em;box-sizing: border-box;text-align: center;}#sk-container-id-1 label.sk-toggleable__label-arrow:before {content: \"▸\";float: left;margin-right: 0.25em;color: #696969;}#sk-container-id-1 label.sk-toggleable__label-arrow:hover:before {color: black;}#sk-container-id-1 div.sk-estimator:hover label.sk-toggleable__label-arrow:before {color: black;}#sk-container-id-1 div.sk-toggleable__content {max-height: 0;max-width: 0;overflow: hidden;text-align: left;background-color: #f0f8ff;}#sk-container-id-1 div.sk-toggleable__content pre {margin: 0.2em;color: black;border-radius: 0.25em;background-color: #f0f8ff;}#sk-container-id-1 input.sk-toggleable__control:checked~div.sk-toggleable__content {max-height: 200px;max-width: 100%;overflow: auto;}#sk-container-id-1 input.sk-toggleable__control:checked~label.sk-toggleable__label-arrow:before {content: \"▾\";}#sk-container-id-1 div.sk-estimator input.sk-toggleable__control:checked~label.sk-toggleable__label {background-color: #d4ebff;}#sk-container-id-1 div.sk-label input.sk-toggleable__control:checked~label.sk-toggleable__label {background-color: #d4ebff;}#sk-container-id-1 input.sk-hidden--visually {border: 0;clip: rect(1px 1px 1px 1px);clip: rect(1px, 1px, 1px, 1px);height: 1px;margin: -1px;overflow: hidden;padding: 0;position: absolute;width: 1px;}#sk-container-id-1 div.sk-estimator {font-family: monospace;background-color: #f0f8ff;border: 1px dotted black;border-radius: 0.25em;box-sizing: border-box;margin-bottom: 0.5em;}#sk-container-id-1 div.sk-estimator:hover {background-color: #d4ebff;}#sk-container-id-1 div.sk-parallel-item::after {content: \"\";width: 100%;border-bottom: 1px solid gray;flex-grow: 1;}#sk-container-id-1 div.sk-label:hover label.sk-toggleable__label {background-color: #d4ebff;}#sk-container-id-1 div.sk-serial::before {content: \"\";position: absolute;border-left: 1px solid gray;box-sizing: border-box;top: 0;bottom: 0;left: 50%;z-index: 0;}#sk-container-id-1 div.sk-serial {display: flex;flex-direction: column;align-items: center;background-color: white;padding-right: 0.2em;padding-left: 0.2em;position: relative;}#sk-container-id-1 div.sk-item {position: relative;z-index: 1;}#sk-container-id-1 div.sk-parallel {display: flex;align-items: stretch;justify-content: center;background-color: white;position: relative;}#sk-container-id-1 div.sk-item::before, #sk-container-id-1 div.sk-parallel-item::before {content: \"\";position: absolute;border-left: 1px solid gray;box-sizing: border-box;top: 0;bottom: 0;left: 50%;z-index: -1;}#sk-container-id-1 div.sk-parallel-item {display: flex;flex-direction: column;z-index: 1;position: relative;background-color: white;}#sk-container-id-1 div.sk-parallel-item:first-child::after {align-self: flex-end;width: 50%;}#sk-container-id-1 div.sk-parallel-item:last-child::after {align-self: flex-start;width: 50%;}#sk-container-id-1 div.sk-parallel-item:only-child::after {width: 0;}#sk-container-id-1 div.sk-dashed-wrapped {border: 1px dashed gray;margin: 0 0.4em 0.5em 0.4em;box-sizing: border-box;padding-bottom: 0.4em;background-color: white;}#sk-container-id-1 div.sk-label label {font-family: monospace;font-weight: bold;display: inline-block;line-height: 1.2em;}#sk-container-id-1 div.sk-label-container {text-align: center;}#sk-container-id-1 div.sk-container {/* jupyter's `normalize.less` sets `[hidden] { display: none; }` but bootstrap.min.css set `[hidden] { display: none !important; }` so we also need the `!important` here to be able to override the default hidden behavior on the sphinx rendered scikit-learn.org. See: https://github.com/scikit-learn/scikit-learn/issues/21755 */display: inline-block !important;position: relative;}#sk-container-id-1 div.sk-text-repr-fallback {display: none;}</style><div id=\"sk-container-id-1\" class=\"sk-top-container\"><div class=\"sk-text-repr-fallback\"><pre>Pipeline(steps=[(&#x27;tfidf&#x27;, TfidfVectorizer()), (&#x27;clf&#x27;, MultinomialNB())])</pre><b>In a Jupyter environment, please rerun this cell to show the HTML representation or trust the notebook. <br />On GitHub, the HTML representation is unable to render, please try loading this page with nbviewer.org.</b></div><div class=\"sk-container\" hidden><div class=\"sk-item sk-dashed-wrapped\"><div class=\"sk-label-container\"><div class=\"sk-label sk-toggleable\"><input class=\"sk-toggleable__control sk-hidden--visually\" id=\"sk-estimator-id-1\" type=\"checkbox\" ><label for=\"sk-estimator-id-1\" class=\"sk-toggleable__label sk-toggleable__label-arrow\">Pipeline</label><div class=\"sk-toggleable__content\"><pre>Pipeline(steps=[(&#x27;tfidf&#x27;, TfidfVectorizer()), (&#x27;clf&#x27;, MultinomialNB())])</pre></div></div></div><div class=\"sk-serial\"><div class=\"sk-item\"><div class=\"sk-estimator sk-toggleable\"><input class=\"sk-toggleable__control sk-hidden--visually\" id=\"sk-estimator-id-2\" type=\"checkbox\" ><label for=\"sk-estimator-id-2\" class=\"sk-toggleable__label sk-toggleable__label-arrow\">TfidfVectorizer</label><div class=\"sk-toggleable__content\"><pre>TfidfVectorizer()</pre></div></div></div><div class=\"sk-item\"><div class=\"sk-estimator sk-toggleable\"><input class=\"sk-toggleable__control sk-hidden--visually\" id=\"sk-estimator-id-3\" type=\"checkbox\" ><label for=\"sk-estimator-id-3\" class=\"sk-toggleable__label sk-toggleable__label-arrow\">MultinomialNB</label><div class=\"sk-toggleable__content\"><pre>MultinomialNB()</pre></div></div></div></div></div></div></div>"
      ],
      "text/plain": [
       "Pipeline(steps=[('tfidf', TfidfVectorizer()), ('clf', MultinomialNB())])"
      ]
     },
     "execution_count": 25,
     "metadata": {},
     "output_type": "execute_result"
    }
   ],
   "source": [
    "from sklearn.feature_extraction.text import TfidfVectorizer\n",
    "from sklearn.naive_bayes import MultinomialNB\n",
    "from sklearn.pipeline import Pipeline\n",
    "\n",
    "# Create tokenizer and modelling pipeline\n",
    "model_0 = Pipeline([\n",
    "    (\"tfidf\", TfidfVectorizer()), # convert the text data into numerical form using tf-idf technique\n",
    "    (\"clf\", MultinomialNB()) # classifier for the text\n",
    "])\n",
    "\n",
    "# Fit the pipeline to the training data\n",
    "model_0.fit(train_sentences, train_labels)"
   ]
  },
  {
   "cell_type": "code",
   "execution_count": 26,
   "metadata": {},
   "outputs": [
    {
     "name": "stdout",
     "output_type": "stream",
     "text": [
      "Our baseline model achieves: 79.27%\n"
     ]
    }
   ],
   "source": [
    "# Evaluate our baseline model\n",
    "baseline_score = model_0.score(val_sentences, val_labels)\n",
    "print(f\"Our baseline model achieves: {baseline_score * 100 :.2f}%\")"
   ]
  },
  {
   "cell_type": "code",
   "execution_count": 27,
   "metadata": {},
   "outputs": [
    {
     "data": {
      "text/plain": [
       "array([1, 1, 1, 0, 0, 1, 1, 1, 1, 0, 0, 1, 0, 0, 0, 0, 0, 0, 0, 1])"
      ]
     },
     "execution_count": 27,
     "metadata": {},
     "output_type": "execute_result"
    }
   ],
   "source": [
    "# Make prediction\n",
    "baseline_preds = model_0.predict(val_sentences)\n",
    "baseline_preds[:20]"
   ]
  },
  {
   "cell_type": "code",
   "execution_count": 28,
   "metadata": {},
   "outputs": [],
   "source": [
    "# Create an evaluation function to evaluate the model\n",
    "# A function which returns a dictionary of accuracy, precision, recall and f1-score\n",
    "from sklearn.metrics import f1_score, accuracy_score, precision_score, recall_score\n",
    "\n",
    "def evaluation(y_true, y_pred):\n",
    "    '''\n",
    "    This function gives the evaluation of the classification model in a dictionary form (Accuracy, Precision, Recall and F1-score)\n",
    "\n",
    "    Parameters:\n",
    "        y_true: The true labels of the evaluation data\n",
    "        y_pred: The predicted labels of the evaluation data\n",
    "\n",
    "    Returns:\n",
    "        A dictionary with keys: `accuracy`, `precision`, `recall`, `f1-score`\n",
    "    '''\n",
    "\n",
    "    accuracy = accuracy_score(y_true, y_pred)\n",
    "    precision = precision_score(y_true, y_pred)\n",
    "    recall = recall_score(y_true, y_pred)\n",
    "    f1score = f1_score(y_true, y_pred, average= 'weighted') # we are using weighted  average because the dataset is slightly imbalanced\n",
    "\n",
    "    return {\n",
    "        'accuracy': accuracy,\n",
    "        'precision': precision,\n",
    "        'recall': recall,\n",
    "        'f1-score': f1score\n",
    "    }"
   ]
  },
  {
   "cell_type": "code",
   "execution_count": 29,
   "metadata": {},
   "outputs": [],
   "source": [
    "baseline_results = evaluation(y_true= val_labels, \n",
    "           y_pred= baseline_preds)"
   ]
  },
  {
   "cell_type": "markdown",
   "metadata": {},
   "source": [
    "### Model 1: A Simple dense model"
   ]
  },
  {
   "cell_type": "code",
   "execution_count": 30,
   "metadata": {},
   "outputs": [],
   "source": [
    "# Create directory to save tensorboard callback logs\n",
    "SAVED_DIR = \"model_logs\""
   ]
  },
  {
   "cell_type": "code",
   "execution_count": 31,
   "metadata": {},
   "outputs": [],
   "source": [
    "# Build model with the Functiobnal API\n",
    "\n",
    "inputs = layers.Input(shape= (1, ), dtype= tf.string)\n",
    "x = text_vectorizer(inputs) # convert text to numbers\n",
    "x = embedding(x) # convert numbers to matrix\n",
    "x = layers.GlobalAveragePooling1D(name= 'global_avg_pool_layer')(x)\n",
    "outputs = layers.Dense(1, activation= 'sigmoid', name= 'output_layer')(x)\n",
    "\n",
    "model_1 = tf.keras.Model(inputs, outputs, name= 'model_1_dense')"
   ]
  },
  {
   "cell_type": "code",
   "execution_count": 32,
   "metadata": {},
   "outputs": [
    {
     "data": {
      "text/html": [
       "<pre style=\"white-space:pre;overflow-x:auto;line-height:normal;font-family:Menlo,'DejaVu Sans Mono',consolas,'Courier New',monospace\"><span style=\"font-weight: bold\">Model: \"model_1_dense\"</span>\n",
       "</pre>\n"
      ],
      "text/plain": [
       "\u001b[1mModel: \"model_1_dense\"\u001b[0m\n"
      ]
     },
     "metadata": {},
     "output_type": "display_data"
    },
    {
     "data": {
      "text/html": [
       "<pre style=\"white-space:pre;overflow-x:auto;line-height:normal;font-family:Menlo,'DejaVu Sans Mono',consolas,'Courier New',monospace\">┏━━━━━━━━━━━━━━━━━━━━━━━━━━━━━━━━━┳━━━━━━━━━━━━━━━━━━━━━━━━┳━━━━━━━━━━━━━━━┓\n",
       "┃<span style=\"font-weight: bold\"> Layer (type)                    </span>┃<span style=\"font-weight: bold\"> Output Shape           </span>┃<span style=\"font-weight: bold\">       Param # </span>┃\n",
       "┡━━━━━━━━━━━━━━━━━━━━━━━━━━━━━━━━━╇━━━━━━━━━━━━━━━━━━━━━━━━╇━━━━━━━━━━━━━━━┩\n",
       "│ input_layer (<span style=\"color: #0087ff; text-decoration-color: #0087ff\">InputLayer</span>)        │ (<span style=\"color: #00d7ff; text-decoration-color: #00d7ff\">None</span>, <span style=\"color: #00af00; text-decoration-color: #00af00\">1</span>)              │             <span style=\"color: #00af00; text-decoration-color: #00af00\">0</span> │\n",
       "├─────────────────────────────────┼────────────────────────┼───────────────┤\n",
       "│ text_vectorization_1            │ (<span style=\"color: #00d7ff; text-decoration-color: #00d7ff\">None</span>, <span style=\"color: #00af00; text-decoration-color: #00af00\">15</span>)             │             <span style=\"color: #00af00; text-decoration-color: #00af00\">0</span> │\n",
       "│ (<span style=\"color: #0087ff; text-decoration-color: #0087ff\">TextVectorization</span>)             │                        │               │\n",
       "├─────────────────────────────────┼────────────────────────┼───────────────┤\n",
       "│ embedding_2 (<span style=\"color: #0087ff; text-decoration-color: #0087ff\">Embedding</span>)         │ (<span style=\"color: #00d7ff; text-decoration-color: #00d7ff\">None</span>, <span style=\"color: #00af00; text-decoration-color: #00af00\">15</span>, <span style=\"color: #00af00; text-decoration-color: #00af00\">128</span>)        │     <span style=\"color: #00af00; text-decoration-color: #00af00\">1,280,000</span> │\n",
       "├─────────────────────────────────┼────────────────────────┼───────────────┤\n",
       "│ global_avg_pool_layer           │ (<span style=\"color: #00d7ff; text-decoration-color: #00d7ff\">None</span>, <span style=\"color: #00af00; text-decoration-color: #00af00\">128</span>)            │             <span style=\"color: #00af00; text-decoration-color: #00af00\">0</span> │\n",
       "│ (<span style=\"color: #0087ff; text-decoration-color: #0087ff\">GlobalAveragePooling1D</span>)        │                        │               │\n",
       "├─────────────────────────────────┼────────────────────────┼───────────────┤\n",
       "│ output_layer (<span style=\"color: #0087ff; text-decoration-color: #0087ff\">Dense</span>)            │ (<span style=\"color: #00d7ff; text-decoration-color: #00d7ff\">None</span>, <span style=\"color: #00af00; text-decoration-color: #00af00\">1</span>)              │           <span style=\"color: #00af00; text-decoration-color: #00af00\">129</span> │\n",
       "└─────────────────────────────────┴────────────────────────┴───────────────┘\n",
       "</pre>\n"
      ],
      "text/plain": [
       "┏━━━━━━━━━━━━━━━━━━━━━━━━━━━━━━━━━┳━━━━━━━━━━━━━━━━━━━━━━━━┳━━━━━━━━━━━━━━━┓\n",
       "┃\u001b[1m \u001b[0m\u001b[1mLayer (type)                   \u001b[0m\u001b[1m \u001b[0m┃\u001b[1m \u001b[0m\u001b[1mOutput Shape          \u001b[0m\u001b[1m \u001b[0m┃\u001b[1m \u001b[0m\u001b[1m      Param #\u001b[0m\u001b[1m \u001b[0m┃\n",
       "┡━━━━━━━━━━━━━━━━━━━━━━━━━━━━━━━━━╇━━━━━━━━━━━━━━━━━━━━━━━━╇━━━━━━━━━━━━━━━┩\n",
       "│ input_layer (\u001b[38;5;33mInputLayer\u001b[0m)        │ (\u001b[38;5;45mNone\u001b[0m, \u001b[38;5;34m1\u001b[0m)              │             \u001b[38;5;34m0\u001b[0m │\n",
       "├─────────────────────────────────┼────────────────────────┼───────────────┤\n",
       "│ text_vectorization_1            │ (\u001b[38;5;45mNone\u001b[0m, \u001b[38;5;34m15\u001b[0m)             │             \u001b[38;5;34m0\u001b[0m │\n",
       "│ (\u001b[38;5;33mTextVectorization\u001b[0m)             │                        │               │\n",
       "├─────────────────────────────────┼────────────────────────┼───────────────┤\n",
       "│ embedding_2 (\u001b[38;5;33mEmbedding\u001b[0m)         │ (\u001b[38;5;45mNone\u001b[0m, \u001b[38;5;34m15\u001b[0m, \u001b[38;5;34m128\u001b[0m)        │     \u001b[38;5;34m1,280,000\u001b[0m │\n",
       "├─────────────────────────────────┼────────────────────────┼───────────────┤\n",
       "│ global_avg_pool_layer           │ (\u001b[38;5;45mNone\u001b[0m, \u001b[38;5;34m128\u001b[0m)            │             \u001b[38;5;34m0\u001b[0m │\n",
       "│ (\u001b[38;5;33mGlobalAveragePooling1D\u001b[0m)        │                        │               │\n",
       "├─────────────────────────────────┼────────────────────────┼───────────────┤\n",
       "│ output_layer (\u001b[38;5;33mDense\u001b[0m)            │ (\u001b[38;5;45mNone\u001b[0m, \u001b[38;5;34m1\u001b[0m)              │           \u001b[38;5;34m129\u001b[0m │\n",
       "└─────────────────────────────────┴────────────────────────┴───────────────┘\n"
      ]
     },
     "metadata": {},
     "output_type": "display_data"
    },
    {
     "data": {
      "text/html": [
       "<pre style=\"white-space:pre;overflow-x:auto;line-height:normal;font-family:Menlo,'DejaVu Sans Mono',consolas,'Courier New',monospace\"><span style=\"font-weight: bold\"> Total params: </span><span style=\"color: #00af00; text-decoration-color: #00af00\">1,280,129</span> (4.88 MB)\n",
       "</pre>\n"
      ],
      "text/plain": [
       "\u001b[1m Total params: \u001b[0m\u001b[38;5;34m1,280,129\u001b[0m (4.88 MB)\n"
      ]
     },
     "metadata": {},
     "output_type": "display_data"
    },
    {
     "data": {
      "text/html": [
       "<pre style=\"white-space:pre;overflow-x:auto;line-height:normal;font-family:Menlo,'DejaVu Sans Mono',consolas,'Courier New',monospace\"><span style=\"font-weight: bold\"> Trainable params: </span><span style=\"color: #00af00; text-decoration-color: #00af00\">1,280,129</span> (4.88 MB)\n",
       "</pre>\n"
      ],
      "text/plain": [
       "\u001b[1m Trainable params: \u001b[0m\u001b[38;5;34m1,280,129\u001b[0m (4.88 MB)\n"
      ]
     },
     "metadata": {},
     "output_type": "display_data"
    },
    {
     "data": {
      "text/html": [
       "<pre style=\"white-space:pre;overflow-x:auto;line-height:normal;font-family:Menlo,'DejaVu Sans Mono',consolas,'Courier New',monospace\"><span style=\"font-weight: bold\"> Non-trainable params: </span><span style=\"color: #00af00; text-decoration-color: #00af00\">0</span> (0.00 B)\n",
       "</pre>\n"
      ],
      "text/plain": [
       "\u001b[1m Non-trainable params: \u001b[0m\u001b[38;5;34m0\u001b[0m (0.00 B)\n"
      ]
     },
     "metadata": {},
     "output_type": "display_data"
    }
   ],
   "source": [
    "model_1.summary()"
   ]
  },
  {
   "cell_type": "code",
   "execution_count": 34,
   "metadata": {},
   "outputs": [],
   "source": [
    "# Compile the model\n",
    "model_1.compile(loss= 'binary_crossentropy',\n",
    "                optimizer= tf.keras.optimizers.Adam(),\n",
    "                metrics= ['accuracy'])"
   ]
  },
  {
   "cell_type": "code",
   "execution_count": 35,
   "metadata": {},
   "outputs": [
    {
     "name": "stdout",
     "output_type": "stream",
     "text": [
      "Saving TensorBoard log files to: model_logs/model_1_dense/20240313-233852\n",
      "Epoch 1/5\n",
      "\u001b[1m215/215\u001b[0m \u001b[32m━━━━━━━━━━━━━━━━━━━━\u001b[0m\u001b[37m\u001b[0m \u001b[1m6s\u001b[0m 16ms/step - accuracy: 0.6433 - loss: 0.6474 - val_accuracy: 0.7677 - val_loss: 0.5297\n",
      "Epoch 2/5\n",
      "\u001b[1m215/215\u001b[0m \u001b[32m━━━━━━━━━━━━━━━━━━━━\u001b[0m\u001b[37m\u001b[0m \u001b[1m2s\u001b[0m 10ms/step - accuracy: 0.8098 - loss: 0.4605 - val_accuracy: 0.7769 - val_loss: 0.4864\n",
      "Epoch 3/5\n",
      "\u001b[1m215/215\u001b[0m \u001b[32m━━━━━━━━━━━━━━━━━━━━\u001b[0m\u001b[37m\u001b[0m \u001b[1m2s\u001b[0m 9ms/step - accuracy: 0.8549 - loss: 0.3593 - val_accuracy: 0.7900 - val_loss: 0.4589\n",
      "Epoch 4/5\n",
      "\u001b[1m215/215\u001b[0m \u001b[32m━━━━━━━━━━━━━━━━━━━━\u001b[0m\u001b[37m\u001b[0m \u001b[1m2s\u001b[0m 10ms/step - accuracy: 0.8963 - loss: 0.2860 - val_accuracy: 0.7861 - val_loss: 0.4626\n",
      "Epoch 5/5\n",
      "\u001b[1m215/215\u001b[0m \u001b[32m━━━━━━━━━━━━━━━━━━━━\u001b[0m\u001b[37m\u001b[0m \u001b[1m2s\u001b[0m 10ms/step - accuracy: 0.9179 - loss: 0.2331 - val_accuracy: 0.7822 - val_loss: 0.4810\n"
     ]
    }
   ],
   "source": [
    "model_1_history = model_1.fit(x = train_sentences,\n",
    "                              y= train_labels,\n",
    "                              epochs= 5,\n",
    "                              validation_data= (val_sentences, val_labels),\n",
    "                              callbacks= [create_tensorboard_callback(SAVED_DIR, 'model_1_dense')])"
   ]
  },
  {
   "cell_type": "code",
   "execution_count": 36,
   "metadata": {},
   "outputs": [
    {
     "name": "stdout",
     "output_type": "stream",
     "text": [
      "\u001b[1m24/24\u001b[0m \u001b[32m━━━━━━━━━━━━━━━━━━━━\u001b[0m\u001b[37m\u001b[0m \u001b[1m0s\u001b[0m 4ms/step - accuracy: 0.7708 - loss: 0.5154\n"
     ]
    },
    {
     "data": {
      "text/plain": [
       "[0.4809878170490265, 0.7821522355079651]"
      ]
     },
     "execution_count": 36,
     "metadata": {},
     "output_type": "execute_result"
    }
   ],
   "source": [
    "model_1.evaluate(val_sentences, val_labels)"
   ]
  },
  {
   "cell_type": "code",
   "execution_count": 37,
   "metadata": {},
   "outputs": [
    {
     "name": "stdout",
     "output_type": "stream",
     "text": [
      "\u001b[1m 1/24\u001b[0m \u001b[37m━━━━━━━━━━━━━━━━━━━━\u001b[0m \u001b[1m1s\u001b[0m 79ms/step"
     ]
    },
    {
     "name": "stdout",
     "output_type": "stream",
     "text": [
      "\u001b[1m24/24\u001b[0m \u001b[32m━━━━━━━━━━━━━━━━━━━━\u001b[0m\u001b[37m\u001b[0m \u001b[1m0s\u001b[0m 5ms/step\n"
     ]
    },
    {
     "data": {
      "text/plain": [
       "(762, 1)"
      ]
     },
     "execution_count": 37,
     "metadata": {},
     "output_type": "execute_result"
    }
   ],
   "source": [
    "model_1_preds = model_1.predict(val_sentences)\n",
    "model_1_preds.shape"
   ]
  },
  {
   "cell_type": "code",
   "execution_count": 38,
   "metadata": {},
   "outputs": [],
   "source": [
    "model_1_results = evaluation(y_true= val_labels,\n",
    "           y_pred= tf.round(tf.squeeze(model_1_preds)))"
   ]
  },
  {
   "cell_type": "code",
   "execution_count": 39,
   "metadata": {},
   "outputs": [
    {
     "data": {
      "text/plain": [
       "array([False, False,  True, False])"
      ]
     },
     "execution_count": 39,
     "metadata": {},
     "output_type": "execute_result"
    }
   ],
   "source": [
    "import numpy as np\n",
    "\n",
    "np.array(list(model_1_results.values())) > np.array(list(baseline_results.values()))"
   ]
  },
  {
   "cell_type": "markdown",
   "metadata": {},
   "source": [
    "## Visualizing learned embeddings"
   ]
  },
  {
   "cell_type": "code",
   "execution_count": 40,
   "metadata": {},
   "outputs": [
    {
     "data": {
      "text/plain": [
       "(10000, ['', '[UNK]', 'the', 'a', 'in', 'to', 'of', 'and', 'i', 'is'])"
      ]
     },
     "execution_count": 40,
     "metadata": {},
     "output_type": "execute_result"
    }
   ],
   "source": [
    "# Get the vocabulary from the text vectorization\n",
    "len(words_in_vocab), words_in_vocab[:10]"
   ]
  },
  {
   "cell_type": "code",
   "execution_count": 41,
   "metadata": {},
   "outputs": [
    {
     "data": {
      "text/html": [
       "<pre style=\"white-space:pre;overflow-x:auto;line-height:normal;font-family:Menlo,'DejaVu Sans Mono',consolas,'Courier New',monospace\"><span style=\"font-weight: bold\">Model: \"model_1_dense\"</span>\n",
       "</pre>\n"
      ],
      "text/plain": [
       "\u001b[1mModel: \"model_1_dense\"\u001b[0m\n"
      ]
     },
     "metadata": {},
     "output_type": "display_data"
    },
    {
     "data": {
      "text/html": [
       "<pre style=\"white-space:pre;overflow-x:auto;line-height:normal;font-family:Menlo,'DejaVu Sans Mono',consolas,'Courier New',monospace\">┏━━━━━━━━━━━━━━━━━━━━━━━━━━━━━━━━━┳━━━━━━━━━━━━━━━━━━━━━━━━┳━━━━━━━━━━━━━━━┓\n",
       "┃<span style=\"font-weight: bold\"> Layer (type)                    </span>┃<span style=\"font-weight: bold\"> Output Shape           </span>┃<span style=\"font-weight: bold\">       Param # </span>┃\n",
       "┡━━━━━━━━━━━━━━━━━━━━━━━━━━━━━━━━━╇━━━━━━━━━━━━━━━━━━━━━━━━╇━━━━━━━━━━━━━━━┩\n",
       "│ input_layer (<span style=\"color: #0087ff; text-decoration-color: #0087ff\">InputLayer</span>)        │ (<span style=\"color: #00d7ff; text-decoration-color: #00d7ff\">None</span>, <span style=\"color: #00af00; text-decoration-color: #00af00\">1</span>)              │             <span style=\"color: #00af00; text-decoration-color: #00af00\">0</span> │\n",
       "├─────────────────────────────────┼────────────────────────┼───────────────┤\n",
       "│ text_vectorization_1            │ (<span style=\"color: #00d7ff; text-decoration-color: #00d7ff\">None</span>, <span style=\"color: #00af00; text-decoration-color: #00af00\">15</span>)             │             <span style=\"color: #00af00; text-decoration-color: #00af00\">0</span> │\n",
       "│ (<span style=\"color: #0087ff; text-decoration-color: #0087ff\">TextVectorization</span>)             │                        │               │\n",
       "├─────────────────────────────────┼────────────────────────┼───────────────┤\n",
       "│ embedding_2 (<span style=\"color: #0087ff; text-decoration-color: #0087ff\">Embedding</span>)         │ (<span style=\"color: #00d7ff; text-decoration-color: #00d7ff\">None</span>, <span style=\"color: #00af00; text-decoration-color: #00af00\">15</span>, <span style=\"color: #00af00; text-decoration-color: #00af00\">128</span>)        │     <span style=\"color: #00af00; text-decoration-color: #00af00\">1,280,000</span> │\n",
       "├─────────────────────────────────┼────────────────────────┼───────────────┤\n",
       "│ global_avg_pool_layer           │ (<span style=\"color: #00d7ff; text-decoration-color: #00d7ff\">None</span>, <span style=\"color: #00af00; text-decoration-color: #00af00\">128</span>)            │             <span style=\"color: #00af00; text-decoration-color: #00af00\">0</span> │\n",
       "│ (<span style=\"color: #0087ff; text-decoration-color: #0087ff\">GlobalAveragePooling1D</span>)        │                        │               │\n",
       "├─────────────────────────────────┼────────────────────────┼───────────────┤\n",
       "│ output_layer (<span style=\"color: #0087ff; text-decoration-color: #0087ff\">Dense</span>)            │ (<span style=\"color: #00d7ff; text-decoration-color: #00d7ff\">None</span>, <span style=\"color: #00af00; text-decoration-color: #00af00\">1</span>)              │           <span style=\"color: #00af00; text-decoration-color: #00af00\">129</span> │\n",
       "└─────────────────────────────────┴────────────────────────┴───────────────┘\n",
       "</pre>\n"
      ],
      "text/plain": [
       "┏━━━━━━━━━━━━━━━━━━━━━━━━━━━━━━━━━┳━━━━━━━━━━━━━━━━━━━━━━━━┳━━━━━━━━━━━━━━━┓\n",
       "┃\u001b[1m \u001b[0m\u001b[1mLayer (type)                   \u001b[0m\u001b[1m \u001b[0m┃\u001b[1m \u001b[0m\u001b[1mOutput Shape          \u001b[0m\u001b[1m \u001b[0m┃\u001b[1m \u001b[0m\u001b[1m      Param #\u001b[0m\u001b[1m \u001b[0m┃\n",
       "┡━━━━━━━━━━━━━━━━━━━━━━━━━━━━━━━━━╇━━━━━━━━━━━━━━━━━━━━━━━━╇━━━━━━━━━━━━━━━┩\n",
       "│ input_layer (\u001b[38;5;33mInputLayer\u001b[0m)        │ (\u001b[38;5;45mNone\u001b[0m, \u001b[38;5;34m1\u001b[0m)              │             \u001b[38;5;34m0\u001b[0m │\n",
       "├─────────────────────────────────┼────────────────────────┼───────────────┤\n",
       "│ text_vectorization_1            │ (\u001b[38;5;45mNone\u001b[0m, \u001b[38;5;34m15\u001b[0m)             │             \u001b[38;5;34m0\u001b[0m │\n",
       "│ (\u001b[38;5;33mTextVectorization\u001b[0m)             │                        │               │\n",
       "├─────────────────────────────────┼────────────────────────┼───────────────┤\n",
       "│ embedding_2 (\u001b[38;5;33mEmbedding\u001b[0m)         │ (\u001b[38;5;45mNone\u001b[0m, \u001b[38;5;34m15\u001b[0m, \u001b[38;5;34m128\u001b[0m)        │     \u001b[38;5;34m1,280,000\u001b[0m │\n",
       "├─────────────────────────────────┼────────────────────────┼───────────────┤\n",
       "│ global_avg_pool_layer           │ (\u001b[38;5;45mNone\u001b[0m, \u001b[38;5;34m128\u001b[0m)            │             \u001b[38;5;34m0\u001b[0m │\n",
       "│ (\u001b[38;5;33mGlobalAveragePooling1D\u001b[0m)        │                        │               │\n",
       "├─────────────────────────────────┼────────────────────────┼───────────────┤\n",
       "│ output_layer (\u001b[38;5;33mDense\u001b[0m)            │ (\u001b[38;5;45mNone\u001b[0m, \u001b[38;5;34m1\u001b[0m)              │           \u001b[38;5;34m129\u001b[0m │\n",
       "└─────────────────────────────────┴────────────────────────┴───────────────┘\n"
      ]
     },
     "metadata": {},
     "output_type": "display_data"
    },
    {
     "data": {
      "text/html": [
       "<pre style=\"white-space:pre;overflow-x:auto;line-height:normal;font-family:Menlo,'DejaVu Sans Mono',consolas,'Courier New',monospace\"><span style=\"font-weight: bold\"> Total params: </span><span style=\"color: #00af00; text-decoration-color: #00af00\">3,840,389</span> (14.65 MB)\n",
       "</pre>\n"
      ],
      "text/plain": [
       "\u001b[1m Total params: \u001b[0m\u001b[38;5;34m3,840,389\u001b[0m (14.65 MB)\n"
      ]
     },
     "metadata": {},
     "output_type": "display_data"
    },
    {
     "data": {
      "text/html": [
       "<pre style=\"white-space:pre;overflow-x:auto;line-height:normal;font-family:Menlo,'DejaVu Sans Mono',consolas,'Courier New',monospace\"><span style=\"font-weight: bold\"> Trainable params: </span><span style=\"color: #00af00; text-decoration-color: #00af00\">1,280,129</span> (4.88 MB)\n",
       "</pre>\n"
      ],
      "text/plain": [
       "\u001b[1m Trainable params: \u001b[0m\u001b[38;5;34m1,280,129\u001b[0m (4.88 MB)\n"
      ]
     },
     "metadata": {},
     "output_type": "display_data"
    },
    {
     "data": {
      "text/html": [
       "<pre style=\"white-space:pre;overflow-x:auto;line-height:normal;font-family:Menlo,'DejaVu Sans Mono',consolas,'Courier New',monospace\"><span style=\"font-weight: bold\"> Non-trainable params: </span><span style=\"color: #00af00; text-decoration-color: #00af00\">0</span> (0.00 B)\n",
       "</pre>\n"
      ],
      "text/plain": [
       "\u001b[1m Non-trainable params: \u001b[0m\u001b[38;5;34m0\u001b[0m (0.00 B)\n"
      ]
     },
     "metadata": {},
     "output_type": "display_data"
    },
    {
     "data": {
      "text/html": [
       "<pre style=\"white-space:pre;overflow-x:auto;line-height:normal;font-family:Menlo,'DejaVu Sans Mono',consolas,'Courier New',monospace\"><span style=\"font-weight: bold\"> Optimizer params: </span><span style=\"color: #00af00; text-decoration-color: #00af00\">2,560,260</span> (9.77 MB)\n",
       "</pre>\n"
      ],
      "text/plain": [
       "\u001b[1m Optimizer params: \u001b[0m\u001b[38;5;34m2,560,260\u001b[0m (9.77 MB)\n"
      ]
     },
     "metadata": {},
     "output_type": "display_data"
    }
   ],
   "source": [
    "# Model 1 summary\n",
    "model_1.summary()"
   ]
  },
  {
   "cell_type": "markdown",
   "metadata": {},
   "source": [
    "Now we've got the embedding matrix, let's see how to visualize it. To do so, Tensorflow has a handy tool called [projector](https://projector.tensorflow.org)."
   ]
  },
  {
   "cell_type": "code",
   "execution_count": 43,
   "metadata": {},
   "outputs": [
    {
     "data": {
      "text/plain": [
       "(10000, 128)"
      ]
     },
     "execution_count": 43,
     "metadata": {},
     "output_type": "execute_result"
    }
   ],
   "source": [
    "# Get the weight matrix of the embedding layer\n",
    "embed_weights = model_1.get_layer('embedding_2').get_weights()\n",
    "embed_weights[0].shape"
   ]
  },
  {
   "cell_type": "code",
   "execution_count": 44,
   "metadata": {},
   "outputs": [],
   "source": [
    "# Create embedding files\n",
    "import io\n",
    "out_v = io.open('vectors.tsv', 'w', encoding='utf-8')\n",
    "out_m = io.open('metadata.tsv', 'w', encoding='utf-8')\n",
    "\n",
    "for index, word in enumerate(words_in_vocab):\n",
    "  if index == 0:\n",
    "    continue  # skip 0, it's padding.\n",
    "  vec = embed_weights[0][index]\n",
    "  out_v.write('\\t'.join([str(x) for x in vec]) + \"\\n\")\n",
    "  out_m.write(word + \"\\n\")\n",
    "out_v.close()\n",
    "out_m.close()"
   ]
  },
  {
   "cell_type": "markdown",
   "metadata": {},
   "source": [
    "### Model 2: LSTM\n",
    "\n",
    "LSTM = Long Short Term Memory\n",
    "\n",
    "Architecture of the model:\n",
    "\n",
    "```\n",
    "Input(text) -> Tokenize -> Embedding -> Layers -> Output\n",
    "\n",
    "```"
   ]
  },
  {
   "cell_type": "code",
   "execution_count": 45,
   "metadata": {},
   "outputs": [],
   "source": [
    "# Create an LSTM Model\n",
    "inputs = layers.Input(shape = (1, ), dtype= \"string\")\n",
    "x = text_vectorizer(inputs)\n",
    "x = embedding(x)\n",
    "x = layers.LSTM(units= 64, return_sequences= True, name= 'LSTM_layer_1')(x) # when stacking RNN cells together you need to set return_sequences = True \n",
    "# x = layers.LSTM(64, name= 'LSTM_layer_2')(x)\n",
    "x = layers.GlobalAveragePooling1D(name= 'global_avg_pool_layer')(x)\n",
    "x = layers.Dense(64, activation= 'relu', name= 'dense_layer')(x)\n",
    "outputs = layers.Dense(1, activation= 'sigmoid', name= 'output_layer')(x)\n",
    "\n",
    "model_2 = tf.keras.Model(inputs, outputs, name= 'model_2_LSTM')"
   ]
  },
  {
   "cell_type": "code",
   "execution_count": 46,
   "metadata": {},
   "outputs": [
    {
     "data": {
      "text/html": [
       "<pre style=\"white-space:pre;overflow-x:auto;line-height:normal;font-family:Menlo,'DejaVu Sans Mono',consolas,'Courier New',monospace\"><span style=\"font-weight: bold\">Model: \"model_2_LSTM\"</span>\n",
       "</pre>\n"
      ],
      "text/plain": [
       "\u001b[1mModel: \"model_2_LSTM\"\u001b[0m\n"
      ]
     },
     "metadata": {},
     "output_type": "display_data"
    },
    {
     "data": {
      "text/html": [
       "<pre style=\"white-space:pre;overflow-x:auto;line-height:normal;font-family:Menlo,'DejaVu Sans Mono',consolas,'Courier New',monospace\">┏━━━━━━━━━━━━━━━━━━━━━━━━━━━━━━━━━┳━━━━━━━━━━━━━━━━━━━━━━━━┳━━━━━━━━━━━━━━━┓\n",
       "┃<span style=\"font-weight: bold\"> Layer (type)                    </span>┃<span style=\"font-weight: bold\"> Output Shape           </span>┃<span style=\"font-weight: bold\">       Param # </span>┃\n",
       "┡━━━━━━━━━━━━━━━━━━━━━━━━━━━━━━━━━╇━━━━━━━━━━━━━━━━━━━━━━━━╇━━━━━━━━━━━━━━━┩\n",
       "│ input_layer_1 (<span style=\"color: #0087ff; text-decoration-color: #0087ff\">InputLayer</span>)      │ (<span style=\"color: #00d7ff; text-decoration-color: #00d7ff\">None</span>, <span style=\"color: #00af00; text-decoration-color: #00af00\">1</span>)              │             <span style=\"color: #00af00; text-decoration-color: #00af00\">0</span> │\n",
       "├─────────────────────────────────┼────────────────────────┼───────────────┤\n",
       "│ text_vectorization_1            │ (<span style=\"color: #00d7ff; text-decoration-color: #00d7ff\">None</span>, <span style=\"color: #00af00; text-decoration-color: #00af00\">15</span>)             │             <span style=\"color: #00af00; text-decoration-color: #00af00\">0</span> │\n",
       "│ (<span style=\"color: #0087ff; text-decoration-color: #0087ff\">TextVectorization</span>)             │                        │               │\n",
       "├─────────────────────────────────┼────────────────────────┼───────────────┤\n",
       "│ embedding_2 (<span style=\"color: #0087ff; text-decoration-color: #0087ff\">Embedding</span>)         │ (<span style=\"color: #00d7ff; text-decoration-color: #00d7ff\">None</span>, <span style=\"color: #00af00; text-decoration-color: #00af00\">15</span>, <span style=\"color: #00af00; text-decoration-color: #00af00\">128</span>)        │     <span style=\"color: #00af00; text-decoration-color: #00af00\">1,280,000</span> │\n",
       "├─────────────────────────────────┼────────────────────────┼───────────────┤\n",
       "│ LSTM_layer_1 (<span style=\"color: #0087ff; text-decoration-color: #0087ff\">LSTM</span>)             │ (<span style=\"color: #00d7ff; text-decoration-color: #00d7ff\">None</span>, <span style=\"color: #00af00; text-decoration-color: #00af00\">15</span>, <span style=\"color: #00af00; text-decoration-color: #00af00\">64</span>)         │        <span style=\"color: #00af00; text-decoration-color: #00af00\">49,408</span> │\n",
       "├─────────────────────────────────┼────────────────────────┼───────────────┤\n",
       "│ global_avg_pool_layer           │ (<span style=\"color: #00d7ff; text-decoration-color: #00d7ff\">None</span>, <span style=\"color: #00af00; text-decoration-color: #00af00\">64</span>)             │             <span style=\"color: #00af00; text-decoration-color: #00af00\">0</span> │\n",
       "│ (<span style=\"color: #0087ff; text-decoration-color: #0087ff\">GlobalAveragePooling1D</span>)        │                        │               │\n",
       "├─────────────────────────────────┼────────────────────────┼───────────────┤\n",
       "│ dense_layer (<span style=\"color: #0087ff; text-decoration-color: #0087ff\">Dense</span>)             │ (<span style=\"color: #00d7ff; text-decoration-color: #00d7ff\">None</span>, <span style=\"color: #00af00; text-decoration-color: #00af00\">64</span>)             │         <span style=\"color: #00af00; text-decoration-color: #00af00\">4,160</span> │\n",
       "├─────────────────────────────────┼────────────────────────┼───────────────┤\n",
       "│ output_layer (<span style=\"color: #0087ff; text-decoration-color: #0087ff\">Dense</span>)            │ (<span style=\"color: #00d7ff; text-decoration-color: #00d7ff\">None</span>, <span style=\"color: #00af00; text-decoration-color: #00af00\">1</span>)              │            <span style=\"color: #00af00; text-decoration-color: #00af00\">65</span> │\n",
       "└─────────────────────────────────┴────────────────────────┴───────────────┘\n",
       "</pre>\n"
      ],
      "text/plain": [
       "┏━━━━━━━━━━━━━━━━━━━━━━━━━━━━━━━━━┳━━━━━━━━━━━━━━━━━━━━━━━━┳━━━━━━━━━━━━━━━┓\n",
       "┃\u001b[1m \u001b[0m\u001b[1mLayer (type)                   \u001b[0m\u001b[1m \u001b[0m┃\u001b[1m \u001b[0m\u001b[1mOutput Shape          \u001b[0m\u001b[1m \u001b[0m┃\u001b[1m \u001b[0m\u001b[1m      Param #\u001b[0m\u001b[1m \u001b[0m┃\n",
       "┡━━━━━━━━━━━━━━━━━━━━━━━━━━━━━━━━━╇━━━━━━━━━━━━━━━━━━━━━━━━╇━━━━━━━━━━━━━━━┩\n",
       "│ input_layer_1 (\u001b[38;5;33mInputLayer\u001b[0m)      │ (\u001b[38;5;45mNone\u001b[0m, \u001b[38;5;34m1\u001b[0m)              │             \u001b[38;5;34m0\u001b[0m │\n",
       "├─────────────────────────────────┼────────────────────────┼───────────────┤\n",
       "│ text_vectorization_1            │ (\u001b[38;5;45mNone\u001b[0m, \u001b[38;5;34m15\u001b[0m)             │             \u001b[38;5;34m0\u001b[0m │\n",
       "│ (\u001b[38;5;33mTextVectorization\u001b[0m)             │                        │               │\n",
       "├─────────────────────────────────┼────────────────────────┼───────────────┤\n",
       "│ embedding_2 (\u001b[38;5;33mEmbedding\u001b[0m)         │ (\u001b[38;5;45mNone\u001b[0m, \u001b[38;5;34m15\u001b[0m, \u001b[38;5;34m128\u001b[0m)        │     \u001b[38;5;34m1,280,000\u001b[0m │\n",
       "├─────────────────────────────────┼────────────────────────┼───────────────┤\n",
       "│ LSTM_layer_1 (\u001b[38;5;33mLSTM\u001b[0m)             │ (\u001b[38;5;45mNone\u001b[0m, \u001b[38;5;34m15\u001b[0m, \u001b[38;5;34m64\u001b[0m)         │        \u001b[38;5;34m49,408\u001b[0m │\n",
       "├─────────────────────────────────┼────────────────────────┼───────────────┤\n",
       "│ global_avg_pool_layer           │ (\u001b[38;5;45mNone\u001b[0m, \u001b[38;5;34m64\u001b[0m)             │             \u001b[38;5;34m0\u001b[0m │\n",
       "│ (\u001b[38;5;33mGlobalAveragePooling1D\u001b[0m)        │                        │               │\n",
       "├─────────────────────────────────┼────────────────────────┼───────────────┤\n",
       "│ dense_layer (\u001b[38;5;33mDense\u001b[0m)             │ (\u001b[38;5;45mNone\u001b[0m, \u001b[38;5;34m64\u001b[0m)             │         \u001b[38;5;34m4,160\u001b[0m │\n",
       "├─────────────────────────────────┼────────────────────────┼───────────────┤\n",
       "│ output_layer (\u001b[38;5;33mDense\u001b[0m)            │ (\u001b[38;5;45mNone\u001b[0m, \u001b[38;5;34m1\u001b[0m)              │            \u001b[38;5;34m65\u001b[0m │\n",
       "└─────────────────────────────────┴────────────────────────┴───────────────┘\n"
      ]
     },
     "metadata": {},
     "output_type": "display_data"
    },
    {
     "data": {
      "text/html": [
       "<pre style=\"white-space:pre;overflow-x:auto;line-height:normal;font-family:Menlo,'DejaVu Sans Mono',consolas,'Courier New',monospace\"><span style=\"font-weight: bold\"> Total params: </span><span style=\"color: #00af00; text-decoration-color: #00af00\">1,333,633</span> (5.09 MB)\n",
       "</pre>\n"
      ],
      "text/plain": [
       "\u001b[1m Total params: \u001b[0m\u001b[38;5;34m1,333,633\u001b[0m (5.09 MB)\n"
      ]
     },
     "metadata": {},
     "output_type": "display_data"
    },
    {
     "data": {
      "text/html": [
       "<pre style=\"white-space:pre;overflow-x:auto;line-height:normal;font-family:Menlo,'DejaVu Sans Mono',consolas,'Courier New',monospace\"><span style=\"font-weight: bold\"> Trainable params: </span><span style=\"color: #00af00; text-decoration-color: #00af00\">1,333,633</span> (5.09 MB)\n",
       "</pre>\n"
      ],
      "text/plain": [
       "\u001b[1m Trainable params: \u001b[0m\u001b[38;5;34m1,333,633\u001b[0m (5.09 MB)\n"
      ]
     },
     "metadata": {},
     "output_type": "display_data"
    },
    {
     "data": {
      "text/html": [
       "<pre style=\"white-space:pre;overflow-x:auto;line-height:normal;font-family:Menlo,'DejaVu Sans Mono',consolas,'Courier New',monospace\"><span style=\"font-weight: bold\"> Non-trainable params: </span><span style=\"color: #00af00; text-decoration-color: #00af00\">0</span> (0.00 B)\n",
       "</pre>\n"
      ],
      "text/plain": [
       "\u001b[1m Non-trainable params: \u001b[0m\u001b[38;5;34m0\u001b[0m (0.00 B)\n"
      ]
     },
     "metadata": {},
     "output_type": "display_data"
    }
   ],
   "source": [
    "model_2.summary()"
   ]
  },
  {
   "cell_type": "code",
   "execution_count": 48,
   "metadata": {},
   "outputs": [],
   "source": [
    "model_2.compile(loss= 'binary_crossentropy',\n",
    "                optimizer= tf.keras.optimizers.Adam(),\n",
    "                metrics= ['accuracy'])"
   ]
  },
  {
   "cell_type": "code",
   "execution_count": 49,
   "metadata": {},
   "outputs": [
    {
     "name": "stdout",
     "output_type": "stream",
     "text": [
      "Saving TensorBoard log files to: model_logs/model_2_LSTM/20240313-234000\n",
      "Epoch 1/5\n"
     ]
    },
    {
     "name": "stdout",
     "output_type": "stream",
     "text": [
      "\u001b[1m215/215\u001b[0m \u001b[32m━━━━━━━━━━━━━━━━━━━━\u001b[0m\u001b[37m\u001b[0m \u001b[1m8s\u001b[0m 24ms/step - accuracy: 0.8961 - loss: 0.3256 - val_accuracy: 0.7730 - val_loss: 0.5702\n",
      "Epoch 2/5\n",
      "\u001b[1m215/215\u001b[0m \u001b[32m━━━━━━━━━━━━━━━━━━━━\u001b[0m\u001b[37m\u001b[0m \u001b[1m3s\u001b[0m 15ms/step - accuracy: 0.9415 - loss: 0.1621 - val_accuracy: 0.7756 - val_loss: 0.5860\n",
      "Epoch 3/5\n",
      "\u001b[1m215/215\u001b[0m \u001b[32m━━━━━━━━━━━━━━━━━━━━\u001b[0m\u001b[37m\u001b[0m \u001b[1m3s\u001b[0m 15ms/step - accuracy: 0.9573 - loss: 0.1178 - val_accuracy: 0.7651 - val_loss: 0.6445\n",
      "Epoch 4/5\n",
      "\u001b[1m215/215\u001b[0m \u001b[32m━━━━━━━━━━━━━━━━━━━━\u001b[0m\u001b[37m\u001b[0m \u001b[1m3s\u001b[0m 15ms/step - accuracy: 0.9581 - loss: 0.1128 - val_accuracy: 0.7703 - val_loss: 0.8266\n",
      "Epoch 5/5\n",
      "\u001b[1m215/215\u001b[0m \u001b[32m━━━━━━━━━━━━━━━━━━━━\u001b[0m\u001b[37m\u001b[0m \u001b[1m3s\u001b[0m 15ms/step - accuracy: 0.9646 - loss: 0.0934 - val_accuracy: 0.7664 - val_loss: 0.8914\n"
     ]
    }
   ],
   "source": [
    "model_2_history = model_2.fit(x = train_sentences,\n",
    "                              y = train_labels,\n",
    "                              epochs= 5,\n",
    "                              validation_data = (val_sentences, val_labels),\n",
    "                              callbacks = [create_tensorboard_callback(SAVED_DIR, 'model_2_LSTM')])"
   ]
  },
  {
   "cell_type": "code",
   "execution_count": 50,
   "metadata": {},
   "outputs": [
    {
     "name": "stdout",
     "output_type": "stream",
     "text": [
      "\u001b[1m24/24\u001b[0m \u001b[32m━━━━━━━━━━━━━━━━━━━━\u001b[0m\u001b[37m\u001b[0m \u001b[1m0s\u001b[0m 8ms/step\n"
     ]
    },
    {
     "data": {
      "text/plain": [
       "array([[0.30227736],\n",
       "       [0.8809425 ],\n",
       "       [0.99997246],\n",
       "       [0.08332486],\n",
       "       [0.00165229],\n",
       "       [0.99909675],\n",
       "       [0.941947  ],\n",
       "       [0.99999666],\n",
       "       [0.99998295],\n",
       "       [0.39399585]], dtype=float32)"
      ]
     },
     "execution_count": 50,
     "metadata": {},
     "output_type": "execute_result"
    }
   ],
   "source": [
    "model_2_pred = model_2.predict(val_sentences)\n",
    "model_2_pred[:10]"
   ]
  },
  {
   "cell_type": "code",
   "execution_count": 51,
   "metadata": {},
   "outputs": [
    {
     "data": {
      "text/plain": [
       "{'accuracy': 0.7664041994750657,\n",
       " 'precision': 0.7623456790123457,\n",
       " 'recall': 0.7097701149425287,\n",
       " 'f1-score': 0.7655229275917975}"
      ]
     },
     "execution_count": 51,
     "metadata": {},
     "output_type": "execute_result"
    }
   ],
   "source": [
    "model_2_results = evaluation(y_true= val_labels,\n",
    "                             y_pred= tf.squeeze(tf.round(model_2_pred)))\n",
    "model_2_results"
   ]
  },
  {
   "cell_type": "code",
   "execution_count": 52,
   "metadata": {},
   "outputs": [
    {
     "data": {
      "text/plain": [
       "array([False, False,  True, False])"
      ]
     },
     "execution_count": 52,
     "metadata": {},
     "output_type": "execute_result"
    }
   ],
   "source": [
    "np.array(list(model_2_results.values())) > np.array(list(baseline_results.values()))"
   ]
  },
  {
   "cell_type": "markdown",
   "metadata": {},
   "source": [
    "### Model 3: GRU\n",
    "\n",
    "Another popular and effective RNN component is the GRU or gated recurrent unit"
   ]
  },
  {
   "cell_type": "code",
   "execution_count": 53,
   "metadata": {},
   "outputs": [],
   "source": [
    "# Build an RNN using the GRU cell\n",
    "inputs = layers.Input(shape= (1, ), dtype= 'string')\n",
    "x = text_vectorizer(inputs)\n",
    "x = embedding(x)\n",
    "x = layers.GRU(64, name= 'GRU_layer_1')(x) # if you want to stack GRU cell return_sequences = True\n",
    "# x = layers.LSTM(42, name= 'LSTM_layer_1', return_sequences= True)(x)\n",
    "# x = layers.GRU(99, name= 'GRU_layer_2')(x)\n",
    "# x = layers.Dense(64, activation= 'relu', name= 'dense_layer_1')(x)\n",
    "# x = layers.GlobalAveragePooling1D(name= 'global_avg_pool_layer')(x)\n",
    "outputs = layers.Dense(1, activation= 'sigmoid', name= 'output_layer')(x)\n",
    "model_3 = tf.keras.Model(inputs, outputs, name= 'model_3_GRU')"
   ]
  },
  {
   "cell_type": "code",
   "execution_count": 54,
   "metadata": {},
   "outputs": [
    {
     "data": {
      "text/html": [
       "<pre style=\"white-space:pre;overflow-x:auto;line-height:normal;font-family:Menlo,'DejaVu Sans Mono',consolas,'Courier New',monospace\"><span style=\"font-weight: bold\">Model: \"model_3_GRU\"</span>\n",
       "</pre>\n"
      ],
      "text/plain": [
       "\u001b[1mModel: \"model_3_GRU\"\u001b[0m\n"
      ]
     },
     "metadata": {},
     "output_type": "display_data"
    },
    {
     "data": {
      "text/html": [
       "<pre style=\"white-space:pre;overflow-x:auto;line-height:normal;font-family:Menlo,'DejaVu Sans Mono',consolas,'Courier New',monospace\">┏━━━━━━━━━━━━━━━━━━━━━━━━━━━━━━━━━┳━━━━━━━━━━━━━━━━━━━━━━━━┳━━━━━━━━━━━━━━━┓\n",
       "┃<span style=\"font-weight: bold\"> Layer (type)                    </span>┃<span style=\"font-weight: bold\"> Output Shape           </span>┃<span style=\"font-weight: bold\">       Param # </span>┃\n",
       "┡━━━━━━━━━━━━━━━━━━━━━━━━━━━━━━━━━╇━━━━━━━━━━━━━━━━━━━━━━━━╇━━━━━━━━━━━━━━━┩\n",
       "│ input_layer_2 (<span style=\"color: #0087ff; text-decoration-color: #0087ff\">InputLayer</span>)      │ (<span style=\"color: #00d7ff; text-decoration-color: #00d7ff\">None</span>, <span style=\"color: #00af00; text-decoration-color: #00af00\">1</span>)              │             <span style=\"color: #00af00; text-decoration-color: #00af00\">0</span> │\n",
       "├─────────────────────────────────┼────────────────────────┼───────────────┤\n",
       "│ text_vectorization_1            │ (<span style=\"color: #00d7ff; text-decoration-color: #00d7ff\">None</span>, <span style=\"color: #00af00; text-decoration-color: #00af00\">15</span>)             │             <span style=\"color: #00af00; text-decoration-color: #00af00\">0</span> │\n",
       "│ (<span style=\"color: #0087ff; text-decoration-color: #0087ff\">TextVectorization</span>)             │                        │               │\n",
       "├─────────────────────────────────┼────────────────────────┼───────────────┤\n",
       "│ embedding_2 (<span style=\"color: #0087ff; text-decoration-color: #0087ff\">Embedding</span>)         │ (<span style=\"color: #00d7ff; text-decoration-color: #00d7ff\">None</span>, <span style=\"color: #00af00; text-decoration-color: #00af00\">15</span>, <span style=\"color: #00af00; text-decoration-color: #00af00\">128</span>)        │     <span style=\"color: #00af00; text-decoration-color: #00af00\">1,280,000</span> │\n",
       "├─────────────────────────────────┼────────────────────────┼───────────────┤\n",
       "│ GRU_layer_1 (<span style=\"color: #0087ff; text-decoration-color: #0087ff\">GRU</span>)               │ (<span style=\"color: #00d7ff; text-decoration-color: #00d7ff\">None</span>, <span style=\"color: #00af00; text-decoration-color: #00af00\">64</span>)             │        <span style=\"color: #00af00; text-decoration-color: #00af00\">37,248</span> │\n",
       "├─────────────────────────────────┼────────────────────────┼───────────────┤\n",
       "│ output_layer (<span style=\"color: #0087ff; text-decoration-color: #0087ff\">Dense</span>)            │ (<span style=\"color: #00d7ff; text-decoration-color: #00d7ff\">None</span>, <span style=\"color: #00af00; text-decoration-color: #00af00\">1</span>)              │            <span style=\"color: #00af00; text-decoration-color: #00af00\">65</span> │\n",
       "└─────────────────────────────────┴────────────────────────┴───────────────┘\n",
       "</pre>\n"
      ],
      "text/plain": [
       "┏━━━━━━━━━━━━━━━━━━━━━━━━━━━━━━━━━┳━━━━━━━━━━━━━━━━━━━━━━━━┳━━━━━━━━━━━━━━━┓\n",
       "┃\u001b[1m \u001b[0m\u001b[1mLayer (type)                   \u001b[0m\u001b[1m \u001b[0m┃\u001b[1m \u001b[0m\u001b[1mOutput Shape          \u001b[0m\u001b[1m \u001b[0m┃\u001b[1m \u001b[0m\u001b[1m      Param #\u001b[0m\u001b[1m \u001b[0m┃\n",
       "┡━━━━━━━━━━━━━━━━━━━━━━━━━━━━━━━━━╇━━━━━━━━━━━━━━━━━━━━━━━━╇━━━━━━━━━━━━━━━┩\n",
       "│ input_layer_2 (\u001b[38;5;33mInputLayer\u001b[0m)      │ (\u001b[38;5;45mNone\u001b[0m, \u001b[38;5;34m1\u001b[0m)              │             \u001b[38;5;34m0\u001b[0m │\n",
       "├─────────────────────────────────┼────────────────────────┼───────────────┤\n",
       "│ text_vectorization_1            │ (\u001b[38;5;45mNone\u001b[0m, \u001b[38;5;34m15\u001b[0m)             │             \u001b[38;5;34m0\u001b[0m │\n",
       "│ (\u001b[38;5;33mTextVectorization\u001b[0m)             │                        │               │\n",
       "├─────────────────────────────────┼────────────────────────┼───────────────┤\n",
       "│ embedding_2 (\u001b[38;5;33mEmbedding\u001b[0m)         │ (\u001b[38;5;45mNone\u001b[0m, \u001b[38;5;34m15\u001b[0m, \u001b[38;5;34m128\u001b[0m)        │     \u001b[38;5;34m1,280,000\u001b[0m │\n",
       "├─────────────────────────────────┼────────────────────────┼───────────────┤\n",
       "│ GRU_layer_1 (\u001b[38;5;33mGRU\u001b[0m)               │ (\u001b[38;5;45mNone\u001b[0m, \u001b[38;5;34m64\u001b[0m)             │        \u001b[38;5;34m37,248\u001b[0m │\n",
       "├─────────────────────────────────┼────────────────────────┼───────────────┤\n",
       "│ output_layer (\u001b[38;5;33mDense\u001b[0m)            │ (\u001b[38;5;45mNone\u001b[0m, \u001b[38;5;34m1\u001b[0m)              │            \u001b[38;5;34m65\u001b[0m │\n",
       "└─────────────────────────────────┴────────────────────────┴───────────────┘\n"
      ]
     },
     "metadata": {},
     "output_type": "display_data"
    },
    {
     "data": {
      "text/html": [
       "<pre style=\"white-space:pre;overflow-x:auto;line-height:normal;font-family:Menlo,'DejaVu Sans Mono',consolas,'Courier New',monospace\"><span style=\"font-weight: bold\"> Total params: </span><span style=\"color: #00af00; text-decoration-color: #00af00\">1,317,313</span> (5.03 MB)\n",
       "</pre>\n"
      ],
      "text/plain": [
       "\u001b[1m Total params: \u001b[0m\u001b[38;5;34m1,317,313\u001b[0m (5.03 MB)\n"
      ]
     },
     "metadata": {},
     "output_type": "display_data"
    },
    {
     "data": {
      "text/html": [
       "<pre style=\"white-space:pre;overflow-x:auto;line-height:normal;font-family:Menlo,'DejaVu Sans Mono',consolas,'Courier New',monospace\"><span style=\"font-weight: bold\"> Trainable params: </span><span style=\"color: #00af00; text-decoration-color: #00af00\">1,317,313</span> (5.03 MB)\n",
       "</pre>\n"
      ],
      "text/plain": [
       "\u001b[1m Trainable params: \u001b[0m\u001b[38;5;34m1,317,313\u001b[0m (5.03 MB)\n"
      ]
     },
     "metadata": {},
     "output_type": "display_data"
    },
    {
     "data": {
      "text/html": [
       "<pre style=\"white-space:pre;overflow-x:auto;line-height:normal;font-family:Menlo,'DejaVu Sans Mono',consolas,'Courier New',monospace\"><span style=\"font-weight: bold\"> Non-trainable params: </span><span style=\"color: #00af00; text-decoration-color: #00af00\">0</span> (0.00 B)\n",
       "</pre>\n"
      ],
      "text/plain": [
       "\u001b[1m Non-trainable params: \u001b[0m\u001b[38;5;34m0\u001b[0m (0.00 B)\n"
      ]
     },
     "metadata": {},
     "output_type": "display_data"
    }
   ],
   "source": [
    "model_3.summary()"
   ]
  },
  {
   "cell_type": "code",
   "execution_count": 56,
   "metadata": {},
   "outputs": [],
   "source": [
    "model_3.compile(loss= 'binary_crossentropy',\n",
    "                optimizer= tf.keras.optimizers.Adam(),\n",
    "                metrics= ['accuracy'])"
   ]
  },
  {
   "cell_type": "code",
   "execution_count": 57,
   "metadata": {},
   "outputs": [
    {
     "name": "stdout",
     "output_type": "stream",
     "text": [
      "Saving TensorBoard log files to: model_logs/model_3_GRU/20240313-234037\n",
      "Epoch 1/5\n"
     ]
    },
    {
     "name": "stdout",
     "output_type": "stream",
     "text": [
      "\u001b[1m215/215\u001b[0m \u001b[32m━━━━━━━━━━━━━━━━━━━━\u001b[0m\u001b[37m\u001b[0m \u001b[1m5s\u001b[0m 17ms/step - accuracy: 0.8841 - loss: 0.2690 - val_accuracy: 0.7835 - val_loss: 0.8203\n",
      "Epoch 2/5\n",
      "\u001b[1m215/215\u001b[0m \u001b[32m━━━━━━━━━━━━━━━━━━━━\u001b[0m\u001b[37m\u001b[0m \u001b[1m3s\u001b[0m 13ms/step - accuracy: 0.9667 - loss: 0.0900 - val_accuracy: 0.7664 - val_loss: 0.8427\n",
      "Epoch 3/5\n",
      "\u001b[1m215/215\u001b[0m \u001b[32m━━━━━━━━━━━━━━━━━━━━\u001b[0m\u001b[37m\u001b[0m \u001b[1m3s\u001b[0m 12ms/step - accuracy: 0.9717 - loss: 0.0735 - val_accuracy: 0.7782 - val_loss: 0.9772\n",
      "Epoch 4/5\n",
      "\u001b[1m215/215\u001b[0m \u001b[32m━━━━━━━━━━━━━━━━━━━━\u001b[0m\u001b[37m\u001b[0m \u001b[1m3s\u001b[0m 14ms/step - accuracy: 0.9773 - loss: 0.0641 - val_accuracy: 0.7769 - val_loss: 0.8679\n",
      "Epoch 5/5\n",
      "\u001b[1m215/215\u001b[0m \u001b[32m━━━━━━━━━━━━━━━━━━━━\u001b[0m\u001b[37m\u001b[0m \u001b[1m3s\u001b[0m 13ms/step - accuracy: 0.9758 - loss: 0.0600 - val_accuracy: 0.7664 - val_loss: 0.9383\n"
     ]
    }
   ],
   "source": [
    "model_3_history = model_3.fit(x= train_sentences,\n",
    "                                y= train_labels,\n",
    "                                epochs= 5,\n",
    "                                validation_data= (val_sentences, val_labels),\n",
    "                                callbacks= [create_tensorboard_callback(SAVED_DIR, 'model_3_GRU')])"
   ]
  },
  {
   "cell_type": "code",
   "execution_count": 58,
   "metadata": {},
   "outputs": [
    {
     "name": "stdout",
     "output_type": "stream",
     "text": [
      "\u001b[1m24/24\u001b[0m \u001b[32m━━━━━━━━━━━━━━━━━━━━\u001b[0m\u001b[37m\u001b[0m \u001b[1m0s\u001b[0m 8ms/step\n"
     ]
    },
    {
     "data": {
      "text/plain": [
       "array([[8.19700062e-02],\n",
       "       [9.23719466e-01],\n",
       "       [9.99530315e-01],\n",
       "       [6.59761801e-02],\n",
       "       [3.31276708e-04],\n",
       "       [9.98528838e-01],\n",
       "       [5.29377580e-01],\n",
       "       [9.99805868e-01],\n",
       "       [9.99769866e-01],\n",
       "       [6.89102411e-01],\n",
       "       [1.19334308e-03],\n",
       "       [7.47996211e-01],\n",
       "       [1.88781647e-03],\n",
       "       [1.49529770e-01],\n",
       "       [2.96466285e-04],\n",
       "       [9.65418294e-03],\n",
       "       [4.07152576e-03],\n",
       "       [1.61185372e-03],\n",
       "       [6.47489280e-02],\n",
       "       [9.99418497e-01],\n",
       "       [9.96983707e-01],\n",
       "       [2.20791961e-04],\n",
       "       [9.97838438e-01],\n",
       "       [2.12029293e-02],\n",
       "       [9.99630570e-01],\n",
       "       [9.99786317e-01],\n",
       "       [7.38690235e-03],\n",
       "       [2.99248891e-03],\n",
       "       [2.25846190e-03],\n",
       "       [4.40377295e-01],\n",
       "       [9.54768777e-01],\n",
       "       [3.72934178e-03],\n",
       "       [1.82091370e-01],\n",
       "       [4.07104660e-03],\n",
       "       [8.93998802e-01],\n",
       "       [1.12564966e-01],\n",
       "       [9.99465168e-01],\n",
       "       [2.97226906e-01],\n",
       "       [5.25809489e-02],\n",
       "       [9.99620557e-01],\n",
       "       [4.20668095e-01],\n",
       "       [3.76759068e-04],\n",
       "       [5.61610386e-02],\n",
       "       [1.42581796e-03],\n",
       "       [9.57657337e-01],\n",
       "       [9.99529123e-01],\n",
       "       [9.85915422e-01],\n",
       "       [9.80609477e-01],\n",
       "       [1.01552773e-02],\n",
       "       [5.68400502e-01],\n",
       "       [2.35813148e-02],\n",
       "       [3.35906833e-01],\n",
       "       [1.95135161e-01],\n",
       "       [3.30368951e-02],\n",
       "       [7.05738246e-01],\n",
       "       [6.92461133e-02],\n",
       "       [8.81764106e-03],\n",
       "       [9.99648809e-01],\n",
       "       [4.35716193e-03],\n",
       "       [1.87302637e-03],\n",
       "       [5.79755194e-02],\n",
       "       [9.99606907e-01],\n",
       "       [9.98217523e-01],\n",
       "       [3.04926932e-02],\n",
       "       [9.99605596e-01],\n",
       "       [9.99853730e-01],\n",
       "       [9.85329092e-01],\n",
       "       [8.48196261e-03],\n",
       "       [9.45049047e-01],\n",
       "       [8.20520297e-02],\n",
       "       [2.23687440e-02],\n",
       "       [5.08965738e-02],\n",
       "       [9.99446809e-01],\n",
       "       [6.11728244e-03],\n",
       "       [9.70901430e-01],\n",
       "       [9.91418242e-01],\n",
       "       [6.03667796e-02],\n",
       "       [9.99011755e-01],\n",
       "       [3.27661067e-01],\n",
       "       [7.99309462e-02],\n",
       "       [2.04984285e-02],\n",
       "       [1.15755394e-01],\n",
       "       [9.99799669e-01],\n",
       "       [1.01554981e-02],\n",
       "       [3.55650485e-03],\n",
       "       [8.21163505e-03],\n",
       "       [2.02452880e-03],\n",
       "       [3.42224515e-03],\n",
       "       [9.96876657e-02],\n",
       "       [9.99551475e-01],\n",
       "       [9.99568403e-01],\n",
       "       [3.92024027e-04],\n",
       "       [8.48619223e-01],\n",
       "       [1.63372757e-03],\n",
       "       [9.99790370e-01],\n",
       "       [9.39266920e-01],\n",
       "       [4.42716718e-01],\n",
       "       [9.99753416e-01],\n",
       "       [9.98632610e-01],\n",
       "       [9.95396078e-01],\n",
       "       [9.99912262e-01],\n",
       "       [2.55712606e-02],\n",
       "       [3.24595807e-04],\n",
       "       [9.71057236e-01],\n",
       "       [9.98882711e-01],\n",
       "       [1.39666006e-01],\n",
       "       [9.70810771e-01],\n",
       "       [9.94414330e-01],\n",
       "       [1.79214415e-03],\n",
       "       [9.99209404e-01],\n",
       "       [9.91051674e-01],\n",
       "       [3.05550755e-04],\n",
       "       [4.65637147e-01],\n",
       "       [6.00973982e-03],\n",
       "       [1.44890568e-03],\n",
       "       [4.40572537e-02],\n",
       "       [5.94986022e-01],\n",
       "       [9.97888386e-01],\n",
       "       [1.07814953e-01],\n",
       "       [1.99715560e-03],\n",
       "       [9.99860525e-01],\n",
       "       [8.08539975e-04],\n",
       "       [1.74912391e-03],\n",
       "       [9.49224889e-01],\n",
       "       [1.13438867e-01],\n",
       "       [7.75544485e-03],\n",
       "       [9.97585654e-01],\n",
       "       [7.31899403e-04],\n",
       "       [3.45170544e-03],\n",
       "       [9.92984831e-01],\n",
       "       [4.28961916e-03],\n",
       "       [9.99860525e-01],\n",
       "       [9.99881148e-01],\n",
       "       [9.99786317e-01],\n",
       "       [9.99552310e-01],\n",
       "       [3.52565758e-02],\n",
       "       [9.99616623e-01],\n",
       "       [1.72721788e-01],\n",
       "       [1.13506857e-02],\n",
       "       [2.21997383e-03],\n",
       "       [9.99860287e-01],\n",
       "       [9.47581053e-01],\n",
       "       [1.49529770e-01],\n",
       "       [9.98138428e-01],\n",
       "       [1.29824311e-01],\n",
       "       [2.08796576e-01],\n",
       "       [1.57215388e-03],\n",
       "       [2.42507143e-04],\n",
       "       [2.82666385e-01],\n",
       "       [9.99325633e-01],\n",
       "       [4.10487596e-03],\n",
       "       [6.91574588e-02],\n",
       "       [5.44754937e-02],\n",
       "       [2.00882251e-03],\n",
       "       [2.46070959e-02],\n",
       "       [9.99068320e-01],\n",
       "       [9.95257676e-01],\n",
       "       [1.79100603e-01],\n",
       "       [9.99032259e-01],\n",
       "       [5.89465781e-04],\n",
       "       [9.99245763e-01],\n",
       "       [6.25655502e-02],\n",
       "       [1.73650250e-01],\n",
       "       [9.94506180e-01],\n",
       "       [8.01563561e-02],\n",
       "       [6.92631525e-04],\n",
       "       [9.99786913e-01],\n",
       "       [6.46009892e-02],\n",
       "       [9.99759614e-01],\n",
       "       [7.69359350e-01],\n",
       "       [9.99600470e-01],\n",
       "       [9.97897625e-01],\n",
       "       [9.98018622e-01],\n",
       "       [1.35307689e-03],\n",
       "       [9.99915600e-01],\n",
       "       [1.55317020e-02],\n",
       "       [9.78137478e-02],\n",
       "       [7.39854127e-02],\n",
       "       [7.32852638e-01],\n",
       "       [9.99731719e-01],\n",
       "       [1.36472634e-03],\n",
       "       [9.86281455e-01],\n",
       "       [9.99465883e-01],\n",
       "       [9.99771178e-01],\n",
       "       [9.99735177e-01],\n",
       "       [2.65166559e-03],\n",
       "       [2.32565822e-03],\n",
       "       [9.99909997e-01],\n",
       "       [2.37040789e-04],\n",
       "       [3.83918203e-04],\n",
       "       [6.98164105e-03],\n",
       "       [9.93454993e-01],\n",
       "       [2.80427723e-03],\n",
       "       [4.06284584e-03],\n",
       "       [3.38141690e-04],\n",
       "       [2.62594805e-03],\n",
       "       [1.68190862e-03],\n",
       "       [5.75884897e-03],\n",
       "       [9.99500990e-01],\n",
       "       [1.10836420e-02],\n",
       "       [4.23961245e-02],\n",
       "       [9.99662042e-01],\n",
       "       [9.99582469e-01],\n",
       "       [1.19075842e-01],\n",
       "       [1.65063702e-03],\n",
       "       [9.99683022e-01],\n",
       "       [9.99505877e-01],\n",
       "       [9.99246597e-01],\n",
       "       [9.29012954e-01],\n",
       "       [9.84064221e-01],\n",
       "       [3.37268710e-01],\n",
       "       [9.99639869e-01],\n",
       "       [8.04670795e-04],\n",
       "       [9.22221877e-03],\n",
       "       [4.41169483e-04],\n",
       "       [2.65059643e-04],\n",
       "       [9.99653101e-01],\n",
       "       [9.90403414e-01],\n",
       "       [9.94146347e-01],\n",
       "       [4.01993364e-01],\n",
       "       [7.27676451e-01],\n",
       "       [3.89497075e-03],\n",
       "       [3.21737006e-02],\n",
       "       [1.45338383e-02],\n",
       "       [9.99553025e-01],\n",
       "       [1.35095373e-01],\n",
       "       [1.50655329e-01],\n",
       "       [9.99887943e-01],\n",
       "       [9.95149791e-01],\n",
       "       [6.42928183e-01],\n",
       "       [1.25158799e-03],\n",
       "       [1.72168836e-02],\n",
       "       [9.96072292e-01],\n",
       "       [4.07454014e-01],\n",
       "       [6.82007909e-01],\n",
       "       [5.73888421e-02],\n",
       "       [6.42639160e-01],\n",
       "       [2.09207386e-02],\n",
       "       [1.01689622e-02],\n",
       "       [4.90780873e-03],\n",
       "       [9.96102214e-01],\n",
       "       [4.71371971e-02],\n",
       "       [9.99699593e-01],\n",
       "       [9.99527335e-01],\n",
       "       [4.57858667e-03],\n",
       "       [2.99854961e-04],\n",
       "       [9.99338210e-01],\n",
       "       [7.14252936e-04],\n",
       "       [2.14576777e-02],\n",
       "       [4.20356393e-01],\n",
       "       [1.10688549e-03],\n",
       "       [9.98522580e-01],\n",
       "       [2.53215752e-04],\n",
       "       [8.97778850e-03],\n",
       "       [9.99558747e-01],\n",
       "       [8.52893740e-02],\n",
       "       [9.99216795e-01],\n",
       "       [9.99905467e-01],\n",
       "       [1.22242205e-01],\n",
       "       [1.59861322e-03],\n",
       "       [1.08123887e-02],\n",
       "       [1.30829413e-03],\n",
       "       [2.33968240e-04],\n",
       "       [9.99080181e-01],\n",
       "       [9.99666452e-01],\n",
       "       [2.78573751e-01],\n",
       "       [9.99093652e-01],\n",
       "       [2.05321703e-03],\n",
       "       [6.16458617e-02],\n",
       "       [1.01774337e-03],\n",
       "       [4.12389031e-03],\n",
       "       [1.18403637e-03],\n",
       "       [9.99554694e-01],\n",
       "       [2.66917907e-02],\n",
       "       [5.15544729e-04],\n",
       "       [9.99402523e-01],\n",
       "       [8.58205196e-04],\n",
       "       [2.04992201e-03],\n",
       "       [9.99309301e-01],\n",
       "       [7.41366006e-04],\n",
       "       [6.46944717e-02],\n",
       "       [1.05834613e-03],\n",
       "       [9.99566138e-01],\n",
       "       [8.33412290e-01],\n",
       "       [9.25292373e-01],\n",
       "       [9.20354649e-02],\n",
       "       [9.98420954e-01],\n",
       "       [3.09299538e-03],\n",
       "       [9.99263823e-01],\n",
       "       [1.16027193e-02],\n",
       "       [9.90355611e-01],\n",
       "       [9.82440233e-01],\n",
       "       [9.85316336e-01],\n",
       "       [7.71613717e-02],\n",
       "       [1.02584986e-02],\n",
       "       [4.91828322e-01],\n",
       "       [6.54720068e-02],\n",
       "       [1.90084986e-02],\n",
       "       [1.40782194e-02],\n",
       "       [2.94387668e-01],\n",
       "       [3.04434448e-04],\n",
       "       [5.10536693e-03],\n",
       "       [4.60694320e-02],\n",
       "       [9.99692321e-01],\n",
       "       [9.57382098e-03],\n",
       "       [1.15839234e-02],\n",
       "       [8.72349441e-02],\n",
       "       [1.91386893e-01],\n",
       "       [1.94692910e-01],\n",
       "       [1.07096427e-03],\n",
       "       [7.65838719e-04],\n",
       "       [9.99428570e-01],\n",
       "       [2.62437999e-01],\n",
       "       [3.32504213e-01],\n",
       "       [9.99922156e-01],\n",
       "       [6.79382682e-03],\n",
       "       [9.82752383e-01],\n",
       "       [2.38749370e-01],\n",
       "       [6.60919724e-03],\n",
       "       [7.69080222e-02],\n",
       "       [1.35121809e-03],\n",
       "       [2.09052972e-02],\n",
       "       [9.98505712e-01],\n",
       "       [1.65124208e-01],\n",
       "       [9.99589026e-01],\n",
       "       [2.83179462e-01],\n",
       "       [7.68325175e-04],\n",
       "       [9.99656200e-01],\n",
       "       [8.35237908e-04],\n",
       "       [9.99733508e-01],\n",
       "       [9.96267144e-03],\n",
       "       [2.67510163e-03],\n",
       "       [9.99676466e-01],\n",
       "       [6.57534867e-04],\n",
       "       [2.57671089e-03],\n",
       "       [9.99482512e-01],\n",
       "       [1.14834739e-03],\n",
       "       [8.99461377e-03],\n",
       "       [7.10563362e-01],\n",
       "       [9.95049655e-01],\n",
       "       [2.04653610e-04],\n",
       "       [7.71318898e-02],\n",
       "       [9.99496579e-01],\n",
       "       [9.99742568e-01],\n",
       "       [9.98389244e-01],\n",
       "       [1.36227936e-01],\n",
       "       [9.93995488e-01],\n",
       "       [9.96353030e-01],\n",
       "       [2.52176989e-02],\n",
       "       [2.28795246e-03],\n",
       "       [5.10848984e-02],\n",
       "       [4.78523262e-02],\n",
       "       [6.65168976e-04],\n",
       "       [3.46453100e-01],\n",
       "       [1.25495762e-01],\n",
       "       [6.23531232e-04],\n",
       "       [9.99430597e-01],\n",
       "       [9.99786317e-01],\n",
       "       [9.99795616e-01],\n",
       "       [7.39947287e-03],\n",
       "       [1.12318657e-01],\n",
       "       [9.76172164e-02],\n",
       "       [1.68104723e-01],\n",
       "       [9.89762485e-01],\n",
       "       [2.43840426e-01],\n",
       "       [1.14939210e-03],\n",
       "       [5.56226936e-04],\n",
       "       [2.11136602e-03],\n",
       "       [9.98735130e-01],\n",
       "       [2.92056287e-03],\n",
       "       [1.67009290e-02],\n",
       "       [1.16051862e-03],\n",
       "       [1.23313377e-02],\n",
       "       [8.02234039e-02],\n",
       "       [8.52851570e-01],\n",
       "       [1.19826496e-01],\n",
       "       [1.68975221e-03],\n",
       "       [1.08365901e-01],\n",
       "       [1.03308046e-02],\n",
       "       [9.99782145e-01],\n",
       "       [9.99259412e-01],\n",
       "       [6.35365009e-01],\n",
       "       [9.64691281e-01],\n",
       "       [3.42311570e-04],\n",
       "       [9.68870103e-01],\n",
       "       [9.99751866e-01],\n",
       "       [9.03998196e-01],\n",
       "       [5.05897850e-02],\n",
       "       [9.98756409e-01],\n",
       "       [2.75671966e-02],\n",
       "       [9.99680161e-01],\n",
       "       [1.29974261e-01],\n",
       "       [1.12841576e-02],\n",
       "       [6.26140177e-01],\n",
       "       [2.88696904e-02],\n",
       "       [9.99358475e-01],\n",
       "       [3.72707024e-02],\n",
       "       [6.86191372e-04],\n",
       "       [2.21584481e-03],\n",
       "       [2.43840426e-01],\n",
       "       [9.99940634e-01],\n",
       "       [6.90359157e-04],\n",
       "       [4.93293345e-01],\n",
       "       [9.99831200e-01],\n",
       "       [4.64294484e-04],\n",
       "       [9.99860525e-01],\n",
       "       [8.49323289e-04],\n",
       "       [4.91312984e-03],\n",
       "       [6.66237948e-03],\n",
       "       [9.99390721e-01],\n",
       "       [9.97597635e-01],\n",
       "       [1.58473924e-02],\n",
       "       [1.11097470e-03],\n",
       "       [9.97353315e-01],\n",
       "       [9.99678850e-01],\n",
       "       [6.83538198e-01],\n",
       "       [1.88971055e-03],\n",
       "       [1.83179136e-02],\n",
       "       [2.09959716e-01],\n",
       "       [1.23753247e-03],\n",
       "       [9.99753416e-01],\n",
       "       [9.81078744e-01],\n",
       "       [9.99800980e-01],\n",
       "       [9.99497771e-01],\n",
       "       [5.41263260e-02],\n",
       "       [3.32245350e-01],\n",
       "       [6.89342665e-03],\n",
       "       [9.99111712e-01],\n",
       "       [9.92849112e-01],\n",
       "       [9.58978653e-01],\n",
       "       [1.37680806e-02],\n",
       "       [6.02838658e-02],\n",
       "       [3.87580344e-03],\n",
       "       [1.01080001e-03],\n",
       "       [9.45556462e-02],\n",
       "       [8.45019706e-03],\n",
       "       [9.88760352e-01],\n",
       "       [3.93441617e-02],\n",
       "       [9.99891281e-01],\n",
       "       [9.99754727e-01],\n",
       "       [2.41524745e-02],\n",
       "       [9.23719466e-01],\n",
       "       [6.15840359e-03],\n",
       "       [2.08547409e-03],\n",
       "       [4.81229275e-01],\n",
       "       [9.95575786e-01],\n",
       "       [6.57133386e-02],\n",
       "       [1.28102258e-01],\n",
       "       [3.07391485e-04],\n",
       "       [1.13257743e-01],\n",
       "       [1.26849118e-04],\n",
       "       [9.99684334e-01],\n",
       "       [9.96147156e-01],\n",
       "       [9.99687672e-01],\n",
       "       [9.76616919e-01],\n",
       "       [9.74415123e-01],\n",
       "       [4.05099168e-02],\n",
       "       [3.65731714e-04],\n",
       "       [9.15005624e-01],\n",
       "       [9.98472989e-01],\n",
       "       [9.99747932e-01],\n",
       "       [4.00409277e-04],\n",
       "       [1.12755746e-02],\n",
       "       [9.34348966e-04],\n",
       "       [9.99777019e-01],\n",
       "       [9.99731958e-01],\n",
       "       [9.25399642e-03],\n",
       "       [4.25308421e-02],\n",
       "       [9.99863148e-01],\n",
       "       [8.67161527e-03],\n",
       "       [1.05351890e-02],\n",
       "       [9.95019794e-01],\n",
       "       [2.60920171e-03],\n",
       "       [5.78483287e-03],\n",
       "       [9.95222390e-01],\n",
       "       [2.89925128e-01],\n",
       "       [1.38959065e-01],\n",
       "       [9.99890089e-01],\n",
       "       [1.94624194e-03],\n",
       "       [6.69575203e-03],\n",
       "       [3.39799997e-04],\n",
       "       [3.59650207e-04],\n",
       "       [2.97387876e-03],\n",
       "       [9.99697447e-01],\n",
       "       [7.39719253e-04],\n",
       "       [3.33645582e-01],\n",
       "       [9.70386863e-01],\n",
       "       [3.48046459e-02],\n",
       "       [1.21813320e-01],\n",
       "       [5.13165432e-04],\n",
       "       [1.16289100e-02],\n",
       "       [9.99766171e-01],\n",
       "       [9.99508023e-01],\n",
       "       [3.69673520e-02],\n",
       "       [1.07269711e-03],\n",
       "       [1.57545209e-02],\n",
       "       [1.06423604e-03],\n",
       "       [9.97644603e-01],\n",
       "       [1.97443552e-03],\n",
       "       [9.96298254e-01],\n",
       "       [9.92323399e-01],\n",
       "       [9.15138125e-01],\n",
       "       [9.65718806e-01],\n",
       "       [2.07900658e-01],\n",
       "       [8.85378793e-02],\n",
       "       [1.03956750e-02],\n",
       "       [2.96867400e-01],\n",
       "       [8.96412551e-01],\n",
       "       [7.32082605e-01],\n",
       "       [1.39753968e-01],\n",
       "       [8.35865550e-03],\n",
       "       [2.93695222e-04],\n",
       "       [1.73751474e-03],\n",
       "       [7.57529140e-02],\n",
       "       [1.72138348e-01],\n",
       "       [5.80885969e-02],\n",
       "       [9.99833941e-01],\n",
       "       [9.99260604e-01],\n",
       "       [9.39266920e-01],\n",
       "       [9.99663353e-01],\n",
       "       [4.35479060e-02],\n",
       "       [3.38949170e-03],\n",
       "       [9.99440849e-01],\n",
       "       [2.73570064e-02],\n",
       "       [2.87134969e-03],\n",
       "       [8.04207101e-02],\n",
       "       [8.27281654e-01],\n",
       "       [1.95264496e-04],\n",
       "       [8.54277432e-01],\n",
       "       [9.71002579e-01],\n",
       "       [9.98344183e-01],\n",
       "       [9.99515295e-01],\n",
       "       [1.49422707e-02],\n",
       "       [5.67151867e-02],\n",
       "       [9.28961933e-01],\n",
       "       [4.67116479e-04],\n",
       "       [5.20316511e-02],\n",
       "       [1.43062279e-01],\n",
       "       [9.92531240e-01],\n",
       "       [9.33505237e-01],\n",
       "       [6.23427797e-03],\n",
       "       [1.94101483e-02],\n",
       "       [8.04686248e-01],\n",
       "       [3.11628217e-03],\n",
       "       [1.20545356e-02],\n",
       "       [4.72713815e-04],\n",
       "       [4.50986177e-01],\n",
       "       [9.99808729e-01],\n",
       "       [9.99184072e-01],\n",
       "       [6.02558404e-02],\n",
       "       [9.99748170e-01],\n",
       "       [9.99682069e-01],\n",
       "       [1.59407718e-04],\n",
       "       [9.99632001e-01],\n",
       "       [5.75204529e-02],\n",
       "       [9.97000635e-01],\n",
       "       [2.65031397e-01],\n",
       "       [1.72666796e-02],\n",
       "       [1.22029474e-03],\n",
       "       [3.09738476e-04],\n",
       "       [6.39193272e-03],\n",
       "       [5.98134939e-04],\n",
       "       [9.19473708e-01],\n",
       "       [3.13274888e-03],\n",
       "       [9.99638200e-01],\n",
       "       [5.27379150e-03],\n",
       "       [9.88294959e-01],\n",
       "       [7.74610579e-01],\n",
       "       [2.15295516e-03],\n",
       "       [3.95558774e-03],\n",
       "       [9.99862790e-01],\n",
       "       [1.25095528e-02],\n",
       "       [9.99551713e-01],\n",
       "       [2.21156552e-01],\n",
       "       [3.53816710e-02],\n",
       "       [3.83534282e-01],\n",
       "       [7.66482297e-03],\n",
       "       [1.92413747e-01],\n",
       "       [9.99682069e-01],\n",
       "       [5.07261953e-04],\n",
       "       [3.61788482e-03],\n",
       "       [9.00038928e-02],\n",
       "       [9.99749482e-01],\n",
       "       [1.02650724e-01],\n",
       "       [9.82869999e-04],\n",
       "       [9.95665967e-01],\n",
       "       [2.38661596e-04],\n",
       "       [2.44288496e-03],\n",
       "       [5.15146414e-03],\n",
       "       [5.39819896e-01],\n",
       "       [9.34253912e-03],\n",
       "       [3.82757008e-01],\n",
       "       [9.05726016e-01],\n",
       "       [7.00731054e-02],\n",
       "       [3.40980245e-03],\n",
       "       [3.76788564e-02],\n",
       "       [8.45971343e-04],\n",
       "       [9.99120176e-01],\n",
       "       [9.97446895e-01],\n",
       "       [2.70067155e-01],\n",
       "       [1.02196226e-03],\n",
       "       [2.43113171e-02],\n",
       "       [9.99744475e-01],\n",
       "       [9.22882318e-01],\n",
       "       [9.99898314e-01],\n",
       "       [9.11098998e-03],\n",
       "       [9.99226213e-01],\n",
       "       [1.84576213e-03],\n",
       "       [9.86163080e-01],\n",
       "       [9.75157619e-01],\n",
       "       [2.27999364e-04],\n",
       "       [9.99661446e-01],\n",
       "       [2.07594670e-02],\n",
       "       [9.79261518e-01],\n",
       "       [9.99866724e-01],\n",
       "       [1.81074217e-02],\n",
       "       [2.05515628e-03],\n",
       "       [8.93929899e-01],\n",
       "       [7.65276607e-04],\n",
       "       [5.66653758e-02],\n",
       "       [9.99683022e-01],\n",
       "       [3.83171916e-01],\n",
       "       [9.98375416e-01],\n",
       "       [1.13775678e-01],\n",
       "       [9.99409556e-01],\n",
       "       [6.40000999e-01],\n",
       "       [6.20035566e-02],\n",
       "       [3.12724645e-04],\n",
       "       [9.85534191e-01],\n",
       "       [9.12359450e-04],\n",
       "       [1.08867720e-01],\n",
       "       [9.99809325e-01],\n",
       "       [9.96711731e-01],\n",
       "       [9.99836802e-01],\n",
       "       [9.98251498e-01],\n",
       "       [2.92450726e-01],\n",
       "       [8.06735992e-01],\n",
       "       [7.35843845e-04],\n",
       "       [7.49590874e-01],\n",
       "       [9.72763002e-01],\n",
       "       [9.98744607e-01],\n",
       "       [2.52511958e-03],\n",
       "       [9.97096896e-01],\n",
       "       [9.99518394e-01],\n",
       "       [1.49915507e-02],\n",
       "       [1.28958663e-02],\n",
       "       [1.39753968e-01],\n",
       "       [4.68192482e-03],\n",
       "       [8.39980185e-01],\n",
       "       [9.59547698e-01],\n",
       "       [9.99506474e-01],\n",
       "       [6.29043300e-03],\n",
       "       [8.62188288e-04],\n",
       "       [1.35626935e-03],\n",
       "       [8.05001780e-02],\n",
       "       [2.18478590e-02],\n",
       "       [2.39030216e-02],\n",
       "       [9.85033691e-01],\n",
       "       [9.32891504e-04],\n",
       "       [1.96995273e-01],\n",
       "       [9.16359946e-02],\n",
       "       [3.34742635e-01],\n",
       "       [9.99209762e-01],\n",
       "       [1.64322928e-02],\n",
       "       [9.94742751e-01],\n",
       "       [5.92112057e-02],\n",
       "       [2.73911719e-04],\n",
       "       [5.83387911e-03],\n",
       "       [9.99831080e-01],\n",
       "       [8.30756605e-01],\n",
       "       [7.24911399e-04],\n",
       "       [3.36933196e-01],\n",
       "       [1.51446134e-01],\n",
       "       [7.25970487e-04],\n",
       "       [9.99581993e-01],\n",
       "       [1.22944666e-02],\n",
       "       [9.80997086e-01],\n",
       "       [2.21935406e-01],\n",
       "       [3.19658150e-03],\n",
       "       [6.09327078e-01],\n",
       "       [2.90235162e-01],\n",
       "       [2.56297644e-02],\n",
       "       [9.99815881e-01],\n",
       "       [2.46725246e-01],\n",
       "       [5.73655188e-01],\n",
       "       [9.98948038e-01],\n",
       "       [4.52952325e-01],\n",
       "       [2.05433190e-01],\n",
       "       [1.95264496e-04],\n",
       "       [2.52745986e-01],\n",
       "       [5.80502525e-02],\n",
       "       [9.99860525e-01],\n",
       "       [9.97754991e-01],\n",
       "       [2.63863094e-02],\n",
       "       [9.99725521e-01],\n",
       "       [6.23807073e-01],\n",
       "       [9.99230504e-01],\n",
       "       [6.23807073e-01],\n",
       "       [9.99799550e-01],\n",
       "       [3.92330956e-04],\n",
       "       [1.60363540e-02],\n",
       "       [3.43964377e-04],\n",
       "       [9.99809325e-01],\n",
       "       [6.21610601e-03],\n",
       "       [2.24552508e-02],\n",
       "       [2.24681012e-03],\n",
       "       [2.68265028e-02],\n",
       "       [4.73247748e-03],\n",
       "       [3.16726463e-03],\n",
       "       [5.58144785e-02],\n",
       "       [2.31172927e-02],\n",
       "       [1.76571794e-02],\n",
       "       [9.98049259e-01],\n",
       "       [4.83760750e-03],\n",
       "       [2.22069994e-02],\n",
       "       [2.82313628e-03],\n",
       "       [5.55740204e-04],\n",
       "       [7.01457337e-02],\n",
       "       [9.95430112e-01],\n",
       "       [4.35531326e-03],\n",
       "       [4.75478955e-02],\n",
       "       [5.86934313e-02],\n",
       "       [9.98895764e-01],\n",
       "       [9.99521017e-01],\n",
       "       [1.93135533e-03],\n",
       "       [1.14809198e-03],\n",
       "       [1.04421482e-03],\n",
       "       [2.53193779e-04],\n",
       "       [9.99732196e-01],\n",
       "       [5.55740204e-04],\n",
       "       [1.43442959e-01],\n",
       "       [9.97734070e-01],\n",
       "       [9.99691725e-01],\n",
       "       [9.99738872e-01],\n",
       "       [9.99891996e-01],\n",
       "       [9.99971509e-01],\n",
       "       [1.67637086e-03],\n",
       "       [1.39343855e-03],\n",
       "       [3.98707718e-01],\n",
       "       [9.95871603e-01],\n",
       "       [9.99776304e-01],\n",
       "       [9.68518496e-01],\n",
       "       [1.83448214e-02],\n",
       "       [9.98587847e-01],\n",
       "       [8.83849621e-01],\n",
       "       [5.46314463e-04],\n",
       "       [5.31884725e-04],\n",
       "       [6.90598926e-03],\n",
       "       [5.07947728e-02],\n",
       "       [6.36041164e-04],\n",
       "       [1.36137893e-02],\n",
       "       [9.95057106e-01],\n",
       "       [9.99858975e-01],\n",
       "       [1.93787948e-03],\n",
       "       [9.99578416e-01],\n",
       "       [7.15527356e-01],\n",
       "       [3.68475616e-02],\n",
       "       [8.24514329e-02],\n",
       "       [1.68895632e-01],\n",
       "       [9.36047852e-01],\n",
       "       [5.10863960e-02],\n",
       "       [1.08693168e-03]], dtype=float32)"
      ]
     },
     "execution_count": 58,
     "metadata": {},
     "output_type": "execute_result"
    }
   ],
   "source": [
    "model_3_pred = model_3.predict(val_sentences)\n",
    "model_3_pred"
   ]
  },
  {
   "cell_type": "code",
   "execution_count": 59,
   "metadata": {},
   "outputs": [
    {
     "data": {
      "text/plain": [
       "{'accuracy': 0.7664041994750657,\n",
       " 'precision': 0.7777777777777778,\n",
       " 'recall': 0.6839080459770115,\n",
       " 'f1-score': 0.7645419362124183}"
      ]
     },
     "execution_count": 59,
     "metadata": {},
     "output_type": "execute_result"
    }
   ],
   "source": [
    "model_3_results = evaluation(val_labels,\n",
    "                             tf.squeeze(tf.round(model_3_pred)))\n",
    "model_3_results"
   ]
  },
  {
   "cell_type": "code",
   "execution_count": 60,
   "metadata": {},
   "outputs": [
    {
     "data": {
      "text/plain": [
       "array([False, False,  True, False])"
      ]
     },
     "execution_count": 60,
     "metadata": {},
     "output_type": "execute_result"
    }
   ],
   "source": [
    "np.array(list(model_3_results.values())) > np.array(list(baseline_results.values()))"
   ]
  },
  {
   "cell_type": "markdown",
   "metadata": {},
   "source": [
    "### Model 4: Bidirectional RNN"
   ]
  },
  {
   "cell_type": "code",
   "execution_count": 61,
   "metadata": {},
   "outputs": [],
   "source": [
    "# Create bidirectional model\n",
    "inputs = layers.Input(shape= (1, ), dtype= 'string')\n",
    "x = text_vectorizer(inputs)\n",
    "x = embedding(x)\n",
    "x = layers.Bidirectional(layers.LSTM(64, return_sequences= True), name= 'birectional_LSTM_layer_1')(x)\n",
    "x = layers.Bidirectional(layers.GRU(64), name= 'bidirectional_LSTM_layer_2')(x)\n",
    "# x = layers.GlobalAveragePooling1D(name= 'global_avg_pool_layer')(x)\n",
    "outputs = layers.Dense(1, activation= 'sigmoid', name= 'output_layer')(x)\n",
    "\n",
    "model_4 = tf.keras.Model(inputs, outputs, name= 'model_4_bidirectional')"
   ]
  },
  {
   "cell_type": "code",
   "execution_count": 62,
   "metadata": {},
   "outputs": [
    {
     "data": {
      "text/html": [
       "<pre style=\"white-space:pre;overflow-x:auto;line-height:normal;font-family:Menlo,'DejaVu Sans Mono',consolas,'Courier New',monospace\"><span style=\"font-weight: bold\">Model: \"model_4_bidirectional\"</span>\n",
       "</pre>\n"
      ],
      "text/plain": [
       "\u001b[1mModel: \"model_4_bidirectional\"\u001b[0m\n"
      ]
     },
     "metadata": {},
     "output_type": "display_data"
    },
    {
     "data": {
      "text/html": [
       "<pre style=\"white-space:pre;overflow-x:auto;line-height:normal;font-family:Menlo,'DejaVu Sans Mono',consolas,'Courier New',monospace\">┏━━━━━━━━━━━━━━━━━━━━━━━━━━━━━━━━━┳━━━━━━━━━━━━━━━━━━━━━━━━┳━━━━━━━━━━━━━━━┓\n",
       "┃<span style=\"font-weight: bold\"> Layer (type)                    </span>┃<span style=\"font-weight: bold\"> Output Shape           </span>┃<span style=\"font-weight: bold\">       Param # </span>┃\n",
       "┡━━━━━━━━━━━━━━━━━━━━━━━━━━━━━━━━━╇━━━━━━━━━━━━━━━━━━━━━━━━╇━━━━━━━━━━━━━━━┩\n",
       "│ input_layer_3 (<span style=\"color: #0087ff; text-decoration-color: #0087ff\">InputLayer</span>)      │ (<span style=\"color: #00d7ff; text-decoration-color: #00d7ff\">None</span>, <span style=\"color: #00af00; text-decoration-color: #00af00\">1</span>)              │             <span style=\"color: #00af00; text-decoration-color: #00af00\">0</span> │\n",
       "├─────────────────────────────────┼────────────────────────┼───────────────┤\n",
       "│ text_vectorization_1            │ (<span style=\"color: #00d7ff; text-decoration-color: #00d7ff\">None</span>, <span style=\"color: #00af00; text-decoration-color: #00af00\">15</span>)             │             <span style=\"color: #00af00; text-decoration-color: #00af00\">0</span> │\n",
       "│ (<span style=\"color: #0087ff; text-decoration-color: #0087ff\">TextVectorization</span>)             │                        │               │\n",
       "├─────────────────────────────────┼────────────────────────┼───────────────┤\n",
       "│ embedding_2 (<span style=\"color: #0087ff; text-decoration-color: #0087ff\">Embedding</span>)         │ (<span style=\"color: #00d7ff; text-decoration-color: #00d7ff\">None</span>, <span style=\"color: #00af00; text-decoration-color: #00af00\">15</span>, <span style=\"color: #00af00; text-decoration-color: #00af00\">128</span>)        │     <span style=\"color: #00af00; text-decoration-color: #00af00\">1,280,000</span> │\n",
       "├─────────────────────────────────┼────────────────────────┼───────────────┤\n",
       "│ birectional_LSTM_layer_1        │ (<span style=\"color: #00d7ff; text-decoration-color: #00d7ff\">None</span>, <span style=\"color: #00af00; text-decoration-color: #00af00\">15</span>, <span style=\"color: #00af00; text-decoration-color: #00af00\">128</span>)        │        <span style=\"color: #00af00; text-decoration-color: #00af00\">98,816</span> │\n",
       "│ (<span style=\"color: #0087ff; text-decoration-color: #0087ff\">Bidirectional</span>)                 │                        │               │\n",
       "├─────────────────────────────────┼────────────────────────┼───────────────┤\n",
       "│ bidirectional_LSTM_layer_2      │ (<span style=\"color: #00d7ff; text-decoration-color: #00d7ff\">None</span>, <span style=\"color: #00af00; text-decoration-color: #00af00\">128</span>)            │        <span style=\"color: #00af00; text-decoration-color: #00af00\">74,496</span> │\n",
       "│ (<span style=\"color: #0087ff; text-decoration-color: #0087ff\">Bidirectional</span>)                 │                        │               │\n",
       "├─────────────────────────────────┼────────────────────────┼───────────────┤\n",
       "│ output_layer (<span style=\"color: #0087ff; text-decoration-color: #0087ff\">Dense</span>)            │ (<span style=\"color: #00d7ff; text-decoration-color: #00d7ff\">None</span>, <span style=\"color: #00af00; text-decoration-color: #00af00\">1</span>)              │           <span style=\"color: #00af00; text-decoration-color: #00af00\">129</span> │\n",
       "└─────────────────────────────────┴────────────────────────┴───────────────┘\n",
       "</pre>\n"
      ],
      "text/plain": [
       "┏━━━━━━━━━━━━━━━━━━━━━━━━━━━━━━━━━┳━━━━━━━━━━━━━━━━━━━━━━━━┳━━━━━━━━━━━━━━━┓\n",
       "┃\u001b[1m \u001b[0m\u001b[1mLayer (type)                   \u001b[0m\u001b[1m \u001b[0m┃\u001b[1m \u001b[0m\u001b[1mOutput Shape          \u001b[0m\u001b[1m \u001b[0m┃\u001b[1m \u001b[0m\u001b[1m      Param #\u001b[0m\u001b[1m \u001b[0m┃\n",
       "┡━━━━━━━━━━━━━━━━━━━━━━━━━━━━━━━━━╇━━━━━━━━━━━━━━━━━━━━━━━━╇━━━━━━━━━━━━━━━┩\n",
       "│ input_layer_3 (\u001b[38;5;33mInputLayer\u001b[0m)      │ (\u001b[38;5;45mNone\u001b[0m, \u001b[38;5;34m1\u001b[0m)              │             \u001b[38;5;34m0\u001b[0m │\n",
       "├─────────────────────────────────┼────────────────────────┼───────────────┤\n",
       "│ text_vectorization_1            │ (\u001b[38;5;45mNone\u001b[0m, \u001b[38;5;34m15\u001b[0m)             │             \u001b[38;5;34m0\u001b[0m │\n",
       "│ (\u001b[38;5;33mTextVectorization\u001b[0m)             │                        │               │\n",
       "├─────────────────────────────────┼────────────────────────┼───────────────┤\n",
       "│ embedding_2 (\u001b[38;5;33mEmbedding\u001b[0m)         │ (\u001b[38;5;45mNone\u001b[0m, \u001b[38;5;34m15\u001b[0m, \u001b[38;5;34m128\u001b[0m)        │     \u001b[38;5;34m1,280,000\u001b[0m │\n",
       "├─────────────────────────────────┼────────────────────────┼───────────────┤\n",
       "│ birectional_LSTM_layer_1        │ (\u001b[38;5;45mNone\u001b[0m, \u001b[38;5;34m15\u001b[0m, \u001b[38;5;34m128\u001b[0m)        │        \u001b[38;5;34m98,816\u001b[0m │\n",
       "│ (\u001b[38;5;33mBidirectional\u001b[0m)                 │                        │               │\n",
       "├─────────────────────────────────┼────────────────────────┼───────────────┤\n",
       "│ bidirectional_LSTM_layer_2      │ (\u001b[38;5;45mNone\u001b[0m, \u001b[38;5;34m128\u001b[0m)            │        \u001b[38;5;34m74,496\u001b[0m │\n",
       "│ (\u001b[38;5;33mBidirectional\u001b[0m)                 │                        │               │\n",
       "├─────────────────────────────────┼────────────────────────┼───────────────┤\n",
       "│ output_layer (\u001b[38;5;33mDense\u001b[0m)            │ (\u001b[38;5;45mNone\u001b[0m, \u001b[38;5;34m1\u001b[0m)              │           \u001b[38;5;34m129\u001b[0m │\n",
       "└─────────────────────────────────┴────────────────────────┴───────────────┘\n"
      ]
     },
     "metadata": {},
     "output_type": "display_data"
    },
    {
     "data": {
      "text/html": [
       "<pre style=\"white-space:pre;overflow-x:auto;line-height:normal;font-family:Menlo,'DejaVu Sans Mono',consolas,'Courier New',monospace\"><span style=\"font-weight: bold\"> Total params: </span><span style=\"color: #00af00; text-decoration-color: #00af00\">1,453,441</span> (5.54 MB)\n",
       "</pre>\n"
      ],
      "text/plain": [
       "\u001b[1m Total params: \u001b[0m\u001b[38;5;34m1,453,441\u001b[0m (5.54 MB)\n"
      ]
     },
     "metadata": {},
     "output_type": "display_data"
    },
    {
     "data": {
      "text/html": [
       "<pre style=\"white-space:pre;overflow-x:auto;line-height:normal;font-family:Menlo,'DejaVu Sans Mono',consolas,'Courier New',monospace\"><span style=\"font-weight: bold\"> Trainable params: </span><span style=\"color: #00af00; text-decoration-color: #00af00\">1,453,441</span> (5.54 MB)\n",
       "</pre>\n"
      ],
      "text/plain": [
       "\u001b[1m Trainable params: \u001b[0m\u001b[38;5;34m1,453,441\u001b[0m (5.54 MB)\n"
      ]
     },
     "metadata": {},
     "output_type": "display_data"
    },
    {
     "data": {
      "text/html": [
       "<pre style=\"white-space:pre;overflow-x:auto;line-height:normal;font-family:Menlo,'DejaVu Sans Mono',consolas,'Courier New',monospace\"><span style=\"font-weight: bold\"> Non-trainable params: </span><span style=\"color: #00af00; text-decoration-color: #00af00\">0</span> (0.00 B)\n",
       "</pre>\n"
      ],
      "text/plain": [
       "\u001b[1m Non-trainable params: \u001b[0m\u001b[38;5;34m0\u001b[0m (0.00 B)\n"
      ]
     },
     "metadata": {},
     "output_type": "display_data"
    }
   ],
   "source": [
    "model_4.summary()"
   ]
  },
  {
   "cell_type": "code",
   "execution_count": 63,
   "metadata": {},
   "outputs": [],
   "source": [
    "model_4.compile(loss= 'binary_crossentropy',\n",
    "                optimizer= tf.keras.optimizers.Adam(),\n",
    "                metrics= ['accuracy'])"
   ]
  },
  {
   "cell_type": "code",
   "execution_count": 64,
   "metadata": {},
   "outputs": [
    {
     "name": "stdout",
     "output_type": "stream",
     "text": [
      "Saving TensorBoard log files to: model_logs/model_4_bidirectional/20240313-234054\n",
      "Epoch 1/5\n"
     ]
    },
    {
     "name": "stdout",
     "output_type": "stream",
     "text": [
      "\u001b[1m215/215\u001b[0m \u001b[32m━━━━━━━━━━━━━━━━━━━━\u001b[0m\u001b[37m\u001b[0m \u001b[1m10s\u001b[0m 33ms/step - accuracy: 0.9496 - loss: 0.1660 - val_accuracy: 0.7585 - val_loss: 0.9824\n",
      "Epoch 2/5\n",
      "\u001b[1m215/215\u001b[0m \u001b[32m━━━━━━━━━━━━━━━━━━━━\u001b[0m\u001b[37m\u001b[0m \u001b[1m6s\u001b[0m 30ms/step - accuracy: 0.9766 - loss: 0.0578 - val_accuracy: 0.7717 - val_loss: 1.3399\n",
      "Epoch 3/5\n",
      "\u001b[1m215/215\u001b[0m \u001b[32m━━━━━━━━━━━━━━━━━━━━\u001b[0m\u001b[37m\u001b[0m \u001b[1m6s\u001b[0m 29ms/step - accuracy: 0.9798 - loss: 0.0467 - val_accuracy: 0.7717 - val_loss: 1.2157\n",
      "Epoch 4/5\n",
      "\u001b[1m215/215\u001b[0m \u001b[32m━━━━━━━━━━━━━━━━━━━━\u001b[0m\u001b[37m\u001b[0m \u001b[1m6s\u001b[0m 28ms/step - accuracy: 0.9796 - loss: 0.0468 - val_accuracy: 0.7717 - val_loss: 1.3793\n",
      "Epoch 5/5\n",
      "\u001b[1m215/215\u001b[0m \u001b[32m━━━━━━━━━━━━━━━━━━━━\u001b[0m\u001b[37m\u001b[0m \u001b[1m6s\u001b[0m 28ms/step - accuracy: 0.9808 - loss: 0.0440 - val_accuracy: 0.7690 - val_loss: 1.2332\n"
     ]
    }
   ],
   "source": [
    "model_4_history = model_4.fit(x= train_sentences,\n",
    "            y= train_labels,\n",
    "            epochs= 5,\n",
    "            validation_data= (val_sentences, val_labels),\n",
    "            callbacks= [create_tensorboard_callback(SAVED_DIR, 'model_4_bidirectional')])"
   ]
  },
  {
   "cell_type": "code",
   "execution_count": 65,
   "metadata": {},
   "outputs": [
    {
     "name": "stdout",
     "output_type": "stream",
     "text": [
      "\u001b[1m24/24\u001b[0m \u001b[32m━━━━━━━━━━━━━━━━━━━━\u001b[0m\u001b[37m\u001b[0m \u001b[1m1s\u001b[0m 22ms/step\n"
     ]
    }
   ],
   "source": [
    "model_4_pred = model_4.predict(val_sentences)"
   ]
  },
  {
   "cell_type": "code",
   "execution_count": 66,
   "metadata": {},
   "outputs": [
    {
     "data": {
      "text/plain": [
       "{'accuracy': 0.7690288713910761,\n",
       " 'precision': 0.7654320987654321,\n",
       " 'recall': 0.7126436781609196,\n",
       " 'f1-score': 0.7681575014390807}"
      ]
     },
     "execution_count": 66,
     "metadata": {},
     "output_type": "execute_result"
    }
   ],
   "source": [
    "model_4_results = evaluation(val_labels,\n",
    "                             tf.squeeze(tf.round(model_4_pred)))\n",
    "model_4_results"
   ]
  },
  {
   "cell_type": "code",
   "execution_count": 67,
   "metadata": {},
   "outputs": [
    {
     "data": {
      "text/plain": [
       "array([False, False,  True, False])"
      ]
     },
     "execution_count": 67,
     "metadata": {},
     "output_type": "execute_result"
    }
   ],
   "source": [
    "np.array(list(model_4_results.values())) > np.array(list(baseline_results.values()))"
   ]
  },
  {
   "cell_type": "markdown",
   "metadata": {},
   "source": [
    "## CNN for Text and other types of sequences\n",
    "\n",
    "We've used CNNs for image dataset which are 2D, however, our text data is 1D.\n",
    "\n",
    "Previously for image we used Conv2D, but for text data we will use Conv1D\n",
    "\n",
    "Architecture:\n",
    "```\n",
    "Input -> Tokenization -> Embedding -> CNN and Dense layers -> Output\n",
    "```"
   ]
  },
  {
   "cell_type": "markdown",
   "metadata": {},
   "source": [
    "### Model 5: 1D CNN"
   ]
  },
  {
   "cell_type": "code",
   "execution_count": 68,
   "metadata": {},
   "outputs": [],
   "source": [
    "# Create the model\n",
    "inputs = layers.Input(shape= (1, ), dtype= 'string')\n",
    "x = text_vectorizer(inputs)\n",
    "x = embedding(x)\n",
    "x = layers.Conv1D(64, 3, name= 'cnn_1d_layer_1')(x)\n",
    "x = layers.MaxPool1D(name= 'max_pool_layer_1')(x)\n",
    "x = layers.Conv1D(32, 3, name= 'cnn_1d_layer_2')(x)\n",
    "x = layers.MaxPool1D(name= 'max_pool_layer_2')(x)\n",
    "x = layers.GlobalAveragePooling1D(name= 'global_avg_pool_layer')(x)\n",
    "outputs = layers.Dense(1, activation= 'sigmoid', name= 'output_layer')(x)\n",
    "\n",
    "model_5 = tf.keras.Model(inputs, outputs, name= 'model_5_cnn_1d')"
   ]
  },
  {
   "cell_type": "code",
   "execution_count": 69,
   "metadata": {},
   "outputs": [
    {
     "data": {
      "text/html": [
       "<pre style=\"white-space:pre;overflow-x:auto;line-height:normal;font-family:Menlo,'DejaVu Sans Mono',consolas,'Courier New',monospace\"><span style=\"font-weight: bold\">Model: \"model_5_cnn_1d\"</span>\n",
       "</pre>\n"
      ],
      "text/plain": [
       "\u001b[1mModel: \"model_5_cnn_1d\"\u001b[0m\n"
      ]
     },
     "metadata": {},
     "output_type": "display_data"
    },
    {
     "data": {
      "text/html": [
       "<pre style=\"white-space:pre;overflow-x:auto;line-height:normal;font-family:Menlo,'DejaVu Sans Mono',consolas,'Courier New',monospace\">┏━━━━━━━━━━━━━━━━━━━━━━━━━━━━━━━━━┳━━━━━━━━━━━━━━━━━━━━━━━━┳━━━━━━━━━━━━━━━┓\n",
       "┃<span style=\"font-weight: bold\"> Layer (type)                    </span>┃<span style=\"font-weight: bold\"> Output Shape           </span>┃<span style=\"font-weight: bold\">       Param # </span>┃\n",
       "┡━━━━━━━━━━━━━━━━━━━━━━━━━━━━━━━━━╇━━━━━━━━━━━━━━━━━━━━━━━━╇━━━━━━━━━━━━━━━┩\n",
       "│ input_layer_4 (<span style=\"color: #0087ff; text-decoration-color: #0087ff\">InputLayer</span>)      │ (<span style=\"color: #00d7ff; text-decoration-color: #00d7ff\">None</span>, <span style=\"color: #00af00; text-decoration-color: #00af00\">1</span>)              │             <span style=\"color: #00af00; text-decoration-color: #00af00\">0</span> │\n",
       "├─────────────────────────────────┼────────────────────────┼───────────────┤\n",
       "│ text_vectorization_1            │ (<span style=\"color: #00d7ff; text-decoration-color: #00d7ff\">None</span>, <span style=\"color: #00af00; text-decoration-color: #00af00\">15</span>)             │             <span style=\"color: #00af00; text-decoration-color: #00af00\">0</span> │\n",
       "│ (<span style=\"color: #0087ff; text-decoration-color: #0087ff\">TextVectorization</span>)             │                        │               │\n",
       "├─────────────────────────────────┼────────────────────────┼───────────────┤\n",
       "│ embedding_2 (<span style=\"color: #0087ff; text-decoration-color: #0087ff\">Embedding</span>)         │ (<span style=\"color: #00d7ff; text-decoration-color: #00d7ff\">None</span>, <span style=\"color: #00af00; text-decoration-color: #00af00\">15</span>, <span style=\"color: #00af00; text-decoration-color: #00af00\">128</span>)        │     <span style=\"color: #00af00; text-decoration-color: #00af00\">1,280,000</span> │\n",
       "├─────────────────────────────────┼────────────────────────┼───────────────┤\n",
       "│ cnn_1d_layer_1 (<span style=\"color: #0087ff; text-decoration-color: #0087ff\">Conv1D</span>)         │ (<span style=\"color: #00d7ff; text-decoration-color: #00d7ff\">None</span>, <span style=\"color: #00af00; text-decoration-color: #00af00\">13</span>, <span style=\"color: #00af00; text-decoration-color: #00af00\">64</span>)         │        <span style=\"color: #00af00; text-decoration-color: #00af00\">24,640</span> │\n",
       "├─────────────────────────────────┼────────────────────────┼───────────────┤\n",
       "│ max_pool_layer_1 (<span style=\"color: #0087ff; text-decoration-color: #0087ff\">MaxPooling1D</span>) │ (<span style=\"color: #00d7ff; text-decoration-color: #00d7ff\">None</span>, <span style=\"color: #00af00; text-decoration-color: #00af00\">6</span>, <span style=\"color: #00af00; text-decoration-color: #00af00\">64</span>)          │             <span style=\"color: #00af00; text-decoration-color: #00af00\">0</span> │\n",
       "├─────────────────────────────────┼────────────────────────┼───────────────┤\n",
       "│ cnn_1d_layer_2 (<span style=\"color: #0087ff; text-decoration-color: #0087ff\">Conv1D</span>)         │ (<span style=\"color: #00d7ff; text-decoration-color: #00d7ff\">None</span>, <span style=\"color: #00af00; text-decoration-color: #00af00\">4</span>, <span style=\"color: #00af00; text-decoration-color: #00af00\">32</span>)          │         <span style=\"color: #00af00; text-decoration-color: #00af00\">6,176</span> │\n",
       "├─────────────────────────────────┼────────────────────────┼───────────────┤\n",
       "│ max_pool_layer_2 (<span style=\"color: #0087ff; text-decoration-color: #0087ff\">MaxPooling1D</span>) │ (<span style=\"color: #00d7ff; text-decoration-color: #00d7ff\">None</span>, <span style=\"color: #00af00; text-decoration-color: #00af00\">2</span>, <span style=\"color: #00af00; text-decoration-color: #00af00\">32</span>)          │             <span style=\"color: #00af00; text-decoration-color: #00af00\">0</span> │\n",
       "├─────────────────────────────────┼────────────────────────┼───────────────┤\n",
       "│ global_avg_pool_layer           │ (<span style=\"color: #00d7ff; text-decoration-color: #00d7ff\">None</span>, <span style=\"color: #00af00; text-decoration-color: #00af00\">32</span>)             │             <span style=\"color: #00af00; text-decoration-color: #00af00\">0</span> │\n",
       "│ (<span style=\"color: #0087ff; text-decoration-color: #0087ff\">GlobalAveragePooling1D</span>)        │                        │               │\n",
       "├─────────────────────────────────┼────────────────────────┼───────────────┤\n",
       "│ output_layer (<span style=\"color: #0087ff; text-decoration-color: #0087ff\">Dense</span>)            │ (<span style=\"color: #00d7ff; text-decoration-color: #00d7ff\">None</span>, <span style=\"color: #00af00; text-decoration-color: #00af00\">1</span>)              │            <span style=\"color: #00af00; text-decoration-color: #00af00\">33</span> │\n",
       "└─────────────────────────────────┴────────────────────────┴───────────────┘\n",
       "</pre>\n"
      ],
      "text/plain": [
       "┏━━━━━━━━━━━━━━━━━━━━━━━━━━━━━━━━━┳━━━━━━━━━━━━━━━━━━━━━━━━┳━━━━━━━━━━━━━━━┓\n",
       "┃\u001b[1m \u001b[0m\u001b[1mLayer (type)                   \u001b[0m\u001b[1m \u001b[0m┃\u001b[1m \u001b[0m\u001b[1mOutput Shape          \u001b[0m\u001b[1m \u001b[0m┃\u001b[1m \u001b[0m\u001b[1m      Param #\u001b[0m\u001b[1m \u001b[0m┃\n",
       "┡━━━━━━━━━━━━━━━━━━━━━━━━━━━━━━━━━╇━━━━━━━━━━━━━━━━━━━━━━━━╇━━━━━━━━━━━━━━━┩\n",
       "│ input_layer_4 (\u001b[38;5;33mInputLayer\u001b[0m)      │ (\u001b[38;5;45mNone\u001b[0m, \u001b[38;5;34m1\u001b[0m)              │             \u001b[38;5;34m0\u001b[0m │\n",
       "├─────────────────────────────────┼────────────────────────┼───────────────┤\n",
       "│ text_vectorization_1            │ (\u001b[38;5;45mNone\u001b[0m, \u001b[38;5;34m15\u001b[0m)             │             \u001b[38;5;34m0\u001b[0m │\n",
       "│ (\u001b[38;5;33mTextVectorization\u001b[0m)             │                        │               │\n",
       "├─────────────────────────────────┼────────────────────────┼───────────────┤\n",
       "│ embedding_2 (\u001b[38;5;33mEmbedding\u001b[0m)         │ (\u001b[38;5;45mNone\u001b[0m, \u001b[38;5;34m15\u001b[0m, \u001b[38;5;34m128\u001b[0m)        │     \u001b[38;5;34m1,280,000\u001b[0m │\n",
       "├─────────────────────────────────┼────────────────────────┼───────────────┤\n",
       "│ cnn_1d_layer_1 (\u001b[38;5;33mConv1D\u001b[0m)         │ (\u001b[38;5;45mNone\u001b[0m, \u001b[38;5;34m13\u001b[0m, \u001b[38;5;34m64\u001b[0m)         │        \u001b[38;5;34m24,640\u001b[0m │\n",
       "├─────────────────────────────────┼────────────────────────┼───────────────┤\n",
       "│ max_pool_layer_1 (\u001b[38;5;33mMaxPooling1D\u001b[0m) │ (\u001b[38;5;45mNone\u001b[0m, \u001b[38;5;34m6\u001b[0m, \u001b[38;5;34m64\u001b[0m)          │             \u001b[38;5;34m0\u001b[0m │\n",
       "├─────────────────────────────────┼────────────────────────┼───────────────┤\n",
       "│ cnn_1d_layer_2 (\u001b[38;5;33mConv1D\u001b[0m)         │ (\u001b[38;5;45mNone\u001b[0m, \u001b[38;5;34m4\u001b[0m, \u001b[38;5;34m32\u001b[0m)          │         \u001b[38;5;34m6,176\u001b[0m │\n",
       "├─────────────────────────────────┼────────────────────────┼───────────────┤\n",
       "│ max_pool_layer_2 (\u001b[38;5;33mMaxPooling1D\u001b[0m) │ (\u001b[38;5;45mNone\u001b[0m, \u001b[38;5;34m2\u001b[0m, \u001b[38;5;34m32\u001b[0m)          │             \u001b[38;5;34m0\u001b[0m │\n",
       "├─────────────────────────────────┼────────────────────────┼───────────────┤\n",
       "│ global_avg_pool_layer           │ (\u001b[38;5;45mNone\u001b[0m, \u001b[38;5;34m32\u001b[0m)             │             \u001b[38;5;34m0\u001b[0m │\n",
       "│ (\u001b[38;5;33mGlobalAveragePooling1D\u001b[0m)        │                        │               │\n",
       "├─────────────────────────────────┼────────────────────────┼───────────────┤\n",
       "│ output_layer (\u001b[38;5;33mDense\u001b[0m)            │ (\u001b[38;5;45mNone\u001b[0m, \u001b[38;5;34m1\u001b[0m)              │            \u001b[38;5;34m33\u001b[0m │\n",
       "└─────────────────────────────────┴────────────────────────┴───────────────┘\n"
      ]
     },
     "metadata": {},
     "output_type": "display_data"
    },
    {
     "data": {
      "text/html": [
       "<pre style=\"white-space:pre;overflow-x:auto;line-height:normal;font-family:Menlo,'DejaVu Sans Mono',consolas,'Courier New',monospace\"><span style=\"font-weight: bold\"> Total params: </span><span style=\"color: #00af00; text-decoration-color: #00af00\">1,310,849</span> (5.00 MB)\n",
       "</pre>\n"
      ],
      "text/plain": [
       "\u001b[1m Total params: \u001b[0m\u001b[38;5;34m1,310,849\u001b[0m (5.00 MB)\n"
      ]
     },
     "metadata": {},
     "output_type": "display_data"
    },
    {
     "data": {
      "text/html": [
       "<pre style=\"white-space:pre;overflow-x:auto;line-height:normal;font-family:Menlo,'DejaVu Sans Mono',consolas,'Courier New',monospace\"><span style=\"font-weight: bold\"> Trainable params: </span><span style=\"color: #00af00; text-decoration-color: #00af00\">1,310,849</span> (5.00 MB)\n",
       "</pre>\n"
      ],
      "text/plain": [
       "\u001b[1m Trainable params: \u001b[0m\u001b[38;5;34m1,310,849\u001b[0m (5.00 MB)\n"
      ]
     },
     "metadata": {},
     "output_type": "display_data"
    },
    {
     "data": {
      "text/html": [
       "<pre style=\"white-space:pre;overflow-x:auto;line-height:normal;font-family:Menlo,'DejaVu Sans Mono',consolas,'Courier New',monospace\"><span style=\"font-weight: bold\"> Non-trainable params: </span><span style=\"color: #00af00; text-decoration-color: #00af00\">0</span> (0.00 B)\n",
       "</pre>\n"
      ],
      "text/plain": [
       "\u001b[1m Non-trainable params: \u001b[0m\u001b[38;5;34m0\u001b[0m (0.00 B)\n"
      ]
     },
     "metadata": {},
     "output_type": "display_data"
    }
   ],
   "source": [
    "model_5.summary()"
   ]
  },
  {
   "cell_type": "code",
   "execution_count": 70,
   "metadata": {},
   "outputs": [],
   "source": [
    "model_5.compile(loss= 'binary_crossentropy',\n",
    "                optimizer= tf.keras.optimizers.Adam(),\n",
    "                metrics= ['accuracy'])"
   ]
  },
  {
   "cell_type": "code",
   "execution_count": 71,
   "metadata": {},
   "outputs": [
    {
     "name": "stdout",
     "output_type": "stream",
     "text": [
      "Saving TensorBoard log files to: model_logs/model_5_cnn_1d/20240313-234130\n",
      "Epoch 1/5\n"
     ]
    },
    {
     "name": "stdout",
     "output_type": "stream",
     "text": [
      "\u001b[1m215/215\u001b[0m \u001b[32m━━━━━━━━━━━━━━━━━━━━\u001b[0m\u001b[37m\u001b[0m \u001b[1m5s\u001b[0m 15ms/step - accuracy: 0.9335 - loss: 0.2019 - val_accuracy: 0.7664 - val_loss: 1.0037\n",
      "Epoch 2/5\n",
      "\u001b[1m215/215\u001b[0m \u001b[32m━━━━━━━━━━━━━━━━━━━━\u001b[0m\u001b[37m\u001b[0m \u001b[1m3s\u001b[0m 13ms/step - accuracy: 0.9707 - loss: 0.0758 - val_accuracy: 0.7717 - val_loss: 1.0076\n",
      "Epoch 3/5\n",
      "\u001b[1m215/215\u001b[0m \u001b[32m━━━━━━━━━━━━━━━━━━━━\u001b[0m\u001b[37m\u001b[0m \u001b[1m3s\u001b[0m 12ms/step - accuracy: 0.9760 - loss: 0.0581 - val_accuracy: 0.7598 - val_loss: 1.1030\n",
      "Epoch 4/5\n",
      "\u001b[1m215/215\u001b[0m \u001b[32m━━━━━━━━━━━━━━━━━━━━\u001b[0m\u001b[37m\u001b[0m \u001b[1m3s\u001b[0m 13ms/step - accuracy: 0.9770 - loss: 0.0579 - val_accuracy: 0.7598 - val_loss: 1.2598\n",
      "Epoch 5/5\n",
      "\u001b[1m215/215\u001b[0m \u001b[32m━━━━━━━━━━━━━━━━━━━━\u001b[0m\u001b[37m\u001b[0m \u001b[1m3s\u001b[0m 13ms/step - accuracy: 0.9763 - loss: 0.0576 - val_accuracy: 0.7612 - val_loss: 1.1361\n"
     ]
    }
   ],
   "source": [
    "model_5_history = model_5.fit(x = train_sentences,\n",
    "                              y= train_labels,\n",
    "                              epochs= 5,\n",
    "                              validation_data= (val_sentences, val_labels),\n",
    "                              callbacks= [create_tensorboard_callback(SAVED_DIR, 'model_5_cnn_1d')])"
   ]
  },
  {
   "cell_type": "code",
   "execution_count": 72,
   "metadata": {},
   "outputs": [
    {
     "name": "stdout",
     "output_type": "stream",
     "text": [
      "\u001b[1m24/24\u001b[0m \u001b[32m━━━━━━━━━━━━━━━━━━━━\u001b[0m\u001b[37m\u001b[0m \u001b[1m0s\u001b[0m 7ms/step\n"
     ]
    }
   ],
   "source": [
    "model_5_pred = model_5.predict(val_sentences)"
   ]
  },
  {
   "cell_type": "code",
   "execution_count": 73,
   "metadata": {},
   "outputs": [],
   "source": [
    "model_5_results = evaluation(val_labels,\n",
    "                             tf.squeeze(tf.round(model_5_pred)))"
   ]
  },
  {
   "cell_type": "code",
   "execution_count": 74,
   "metadata": {},
   "outputs": [
    {
     "data": {
      "text/plain": [
       "{'accuracy': 0.7611548556430446,\n",
       " 'precision': 0.7610062893081762,\n",
       " 'recall': 0.6954022988505747,\n",
       " 'f1-score': 0.7599510749117049}"
      ]
     },
     "execution_count": 74,
     "metadata": {},
     "output_type": "execute_result"
    }
   ],
   "source": [
    "model_5_results"
   ]
  },
  {
   "cell_type": "code",
   "execution_count": 75,
   "metadata": {},
   "outputs": [
    {
     "data": {
      "text/plain": [
       "array([False, False,  True, False])"
      ]
     },
     "execution_count": 75,
     "metadata": {},
     "output_type": "execute_result"
    }
   ],
   "source": [
    "np.array(list(model_5_results.values())) > np.array(list(baseline_results.values()))"
   ]
  },
  {
   "cell_type": "markdown",
   "metadata": {},
   "source": [
    "### Model 6: Transfer learning"
   ]
  },
  {
   "cell_type": "code",
   "execution_count": 76,
   "metadata": {},
   "outputs": [],
   "source": [
    "import tensorflow_hub as hub\n",
    "embed = hub.load('https://www.kaggle.com/models/google/universal-sentence-encoder/frameworks/TensorFlow2/variations/universal-sentence-encoder/versions/2')"
   ]
  },
  {
   "cell_type": "code",
   "execution_count": 77,
   "metadata": {},
   "outputs": [
    {
     "name": "stdout",
     "output_type": "stream",
     "text": [
      "tf.Tensor(\n",
      "[ 0.07687581  0.03288896  0.02179662 -0.04832654 -0.02299898 -0.00182735\n",
      " -0.03993054  0.08256393  0.01381563  0.03039743  0.01625713  0.02431568\n",
      "  0.01514284  0.04843347  0.01244256  0.01343128  0.0023421  -0.02713761\n",
      " -0.00362572  0.00168669  0.01138663  0.0144208  -0.01719462 -0.03496176\n",
      " -0.07877127  0.04676209  0.03929747  0.02202034  0.01709515  0.0230419\n",
      "  0.0915276  -0.03294362 -0.00317207 -0.04850543 -0.09554192  0.04421337\n",
      " -0.02980342  0.01039704 -0.0229306   0.06235658 -0.01796251 -0.02358888\n",
      " -0.02192312 -0.04135567  0.01966412  0.01150151 -0.0491185  -0.03221893\n",
      " -0.02000231 -0.04916013], shape=(50,), dtype=float32)\n"
     ]
    }
   ],
   "source": [
    "embed_samples = embed([\"When you complete with the downloading of the model then you will look into the encodings of this sentence\"])\n",
    "print(embed_samples[0][:50])"
   ]
  },
  {
   "cell_type": "code",
   "execution_count": 105,
   "metadata": {},
   "outputs": [],
   "source": [
    "# Create Keras Layer using the USE pretrained layer from tensorflow hub\n",
    "sentence_encoder_layer = hub.KerasLayer(\"https://www.kaggle.com/models/google/universal-sentence-encoder/frameworks/TensorFlow2/variations/universal-sentence-encoder/versions/2\",\n",
    "                                        trainable= False,\n",
    "                                        input_shape= [],\n",
    "                                        dtype= 'string',\n",
    "                                        name= 'USE_layer')"
   ]
  },
  {
   "cell_type": "code",
   "execution_count": 115,
   "metadata": {},
   "outputs": [
    {
     "data": {
      "text/plain": [
       "<tf.Tensor: shape=(1, 512), dtype=float32, numpy=\n",
       "array([[-0.03238289, -0.05245493,  0.04398123,  0.08645649,  0.0403287 ,\n",
       "         0.02778761,  0.01360367, -0.05401811,  0.07342335, -0.10168328,\n",
       "         0.04169078,  0.01746771,  0.01697551,  0.08183341,  0.04074554,\n",
       "        -0.06998817, -0.02465056,  0.01813797,  0.03823309, -0.05905127,\n",
       "        -0.0325998 ,  0.01989053,  0.03508671,  0.02060026, -0.02009015,\n",
       "        -0.00600971, -0.03311038, -0.00088635, -0.03305436,  0.03735072,\n",
       "         0.01317158, -0.02199938,  0.06701411, -0.03493086,  0.00618752,\n",
       "        -0.03558873,  0.00633682, -0.01458311, -0.05471493,  0.01281769,\n",
       "        -0.03007764, -0.04722793,  0.0224523 ,  0.05050883, -0.0157575 ,\n",
       "         0.03174941, -0.06826104, -0.00246264,  0.00637875, -0.01882537,\n",
       "        -0.05425334, -0.06500769, -0.08937915,  0.01339249, -0.03500324,\n",
       "         0.0213948 ,  0.05863417,  0.00646127, -0.07630017,  0.07731503,\n",
       "         0.03519434, -0.08840882, -0.08824165, -0.01939562,  0.02466386,\n",
       "         0.03354423, -0.06600615,  0.04318023,  0.04384572, -0.01360819,\n",
       "         0.00936306,  0.00216777,  0.00820781,  0.02004944, -0.04675699,\n",
       "        -0.03640828, -0.01335512, -0.02448432, -0.02363565,  0.07184465,\n",
       "        -0.01447565,  0.06167584,  0.00427659, -0.01193991,  0.0172595 ,\n",
       "         0.04002501, -0.03713997,  0.04755462, -0.00555994, -0.06436218,\n",
       "        -0.04229536,  0.00457717, -0.01111803,  0.09958683, -0.01677878,\n",
       "        -0.02194911, -0.01394755,  0.05274764,  0.06341009, -0.08337981,\n",
       "        -0.00905847, -0.08254299, -0.05699868,  0.05134118, -0.00289401,\n",
       "         0.08134574,  0.00774619,  0.01250114, -0.00424185, -0.01102661,\n",
       "        -0.02691804,  0.06646553, -0.0607379 , -0.01311889, -0.02287274,\n",
       "        -0.00739006,  0.05478024, -0.02155902,  0.04355949,  0.0411622 ,\n",
       "         0.04490463, -0.00041653,  0.04436774,  0.00218975, -0.10165476,\n",
       "         0.03677816,  0.04126477, -0.00053409, -0.01393967,  0.05088553,\n",
       "         0.01364022, -0.046655  , -0.00704117,  0.08306948, -0.07232285,\n",
       "        -0.05054457, -0.02883579,  0.00303292, -0.0489053 ,  0.00039246,\n",
       "        -0.02230578, -0.09295575,  0.09422973, -0.07269884,  0.04240683,\n",
       "         0.0014079 ,  0.02236184, -0.02594861,  0.04443337,  0.08880349,\n",
       "         0.05526694,  0.05362816, -0.02139327, -0.0126033 , -0.01204028,\n",
       "         0.00308898, -0.04706489, -0.02840957,  0.0277831 ,  0.03414205,\n",
       "        -0.06453658,  0.02781222, -0.03238491,  0.01328117,  0.00892117,\n",
       "         0.0304681 ,  0.00146705,  0.02874592,  0.018034  , -0.02751047,\n",
       "         0.07135044,  0.05458176,  0.10846681, -0.02089661, -0.0388726 ,\n",
       "        -0.01894623, -0.01367341, -0.02037755,  0.01625355,  0.02201114,\n",
       "        -0.04668533,  0.00542856, -0.03640528,  0.01100938, -0.00894589,\n",
       "        -0.09369532,  0.03897609,  0.02580434,  0.01189968, -0.02919233,\n",
       "        -0.01140335, -0.00774043,  0.00085794, -0.10413028, -0.01991836,\n",
       "        -0.01536261,  0.08924958, -0.04632188, -0.05784884,  0.06273529,\n",
       "        -0.08890302, -0.00652969, -0.00689786,  0.10891136,  0.00025291,\n",
       "        -0.04299419,  0.04745132,  0.0099005 ,  0.00799905, -0.06614278,\n",
       "         0.07738668,  0.02685863,  0.05191812, -0.00577374, -0.01735592,\n",
       "        -0.04807745, -0.03438791, -0.01047403,  0.00363058,  0.01546518,\n",
       "        -0.04072112, -0.00195484, -0.02487016, -0.014976  , -0.06487817,\n",
       "        -0.0238211 , -0.09851135, -0.03600704,  0.00530791,  0.00788077,\n",
       "        -0.04306146,  0.07095293,  0.05662835,  0.10328499, -0.02932408,\n",
       "        -0.06176878,  0.09695292,  0.01645387, -0.00779004, -0.01628407,\n",
       "        -0.07230405, -0.02394071,  0.01898851, -0.03244107,  0.01806913,\n",
       "         0.01016148,  0.01000605, -0.0217131 ,  0.01813825, -0.07378739,\n",
       "         0.01756674, -0.07027354,  0.02534758, -0.00893991, -0.02555986,\n",
       "        -0.10819696,  0.04221522, -0.06715087, -0.00066166,  0.02241912,\n",
       "         0.02581384,  0.01924887, -0.06041212, -0.00093275, -0.05379447,\n",
       "         0.01517515,  0.02062623, -0.05506001, -0.02785275, -0.01229785,\n",
       "        -0.10105187,  0.09483604,  0.03354503,  0.0102528 , -0.03706759,\n",
       "         0.00949228, -0.01377277,  0.00274593,  0.08688842,  0.05883449,\n",
       "        -0.05885502,  0.01196597, -0.01746107,  0.08388308, -0.0208205 ,\n",
       "        -0.05464981,  0.0689603 , -0.00896724,  0.03046625,  0.03226847,\n",
       "        -0.02166845, -0.06826603, -0.01540147, -0.00987137, -0.06767219,\n",
       "         0.02623583, -0.03786925,  0.02186234, -0.0536891 ,  0.03442777,\n",
       "        -0.0110906 , -0.05265681,  0.02652674,  0.0146949 , -0.04980284,\n",
       "        -0.01596835, -0.02333285, -0.02042408,  0.05711501,  0.04402449,\n",
       "        -0.01551179,  0.01866644, -0.01347471,  0.02461793,  0.04050919,\n",
       "         0.05016901, -0.01840851,  0.06676683, -0.0785872 ,  0.0078566 ,\n",
       "        -0.04174702,  0.03163617, -0.04520318, -0.0358329 , -0.00622657,\n",
       "         0.03875079,  0.02720384,  0.04464099, -0.01173833, -0.01047223,\n",
       "         0.01403306,  0.0007519 , -0.02331748, -0.00908973, -0.04589599,\n",
       "        -0.01134366,  0.02655892,  0.00677421,  0.01118896, -0.04086614,\n",
       "        -0.01418889,  0.01274601, -0.04027662, -0.08371333,  0.03439781,\n",
       "         0.06298541,  0.01708348,  0.01638827,  0.04643866,  0.02618556,\n",
       "         0.0052539 , -0.04579234, -0.02275256,  0.01560435, -0.01775224,\n",
       "        -0.01038251, -0.10545073, -0.05848771, -0.02719336,  0.02918808,\n",
       "         0.06482382, -0.04954799,  0.08437011, -0.04230307,  0.00709522,\n",
       "        -0.03638475,  0.02796534,  0.03039113,  0.06720898, -0.00699068,\n",
       "         0.07406729, -0.01853124,  0.05883866,  0.04916635, -0.01716038,\n",
       "        -0.07515399,  0.05314546,  0.01535227,  0.01624001, -0.01850409,\n",
       "        -0.01495558, -0.02093543, -0.00370528, -0.05494011, -0.0422028 ,\n",
       "        -0.03159866, -0.07801723, -0.01387684,  0.00058678,  0.00575791,\n",
       "         0.09831342,  0.02937188,  0.01916829, -0.08217368, -0.02756442,\n",
       "         0.00898006,  0.00276103,  0.04910252,  0.03930883, -0.00366553,\n",
       "        -0.07197785, -0.00677009,  0.06337135,  0.04049653,  0.00216113,\n",
       "        -0.00391911,  0.10707155, -0.00849524,  0.01320765, -0.10802276,\n",
       "         0.05300353, -0.03926305,  0.00969318,  0.00987368,  0.02778949,\n",
       "         0.06316032,  0.07893526, -0.02929924,  0.00783024, -0.01752385,\n",
       "        -0.0073776 ,  0.01965597, -0.00739193, -0.03963721, -0.00656513,\n",
       "        -0.0233913 ,  0.04533181,  0.00835574, -0.08830257,  0.06909257,\n",
       "        -0.02079748,  0.04401738,  0.06632402, -0.0228653 , -0.07118243,\n",
       "         0.01306279,  0.05068654,  0.01782674,  0.00673141, -0.04634314,\n",
       "         0.00717421,  0.01499978, -0.00565083, -0.01945755, -0.02165692,\n",
       "         0.01027991,  0.00440221, -0.0525505 ,  0.00137257, -0.02234698,\n",
       "         0.05364683,  0.01713531, -0.00360881, -0.03319112, -0.04875907,\n",
       "        -0.06699397, -0.05824289,  0.0083172 , -0.05609234, -0.04061349,\n",
       "        -0.02639265,  0.00354575, -0.01063984, -0.10754641,  0.07914429,\n",
       "        -0.09940311, -0.04249236, -0.00511544, -0.05429396, -0.0068795 ,\n",
       "         0.00420495,  0.03669445, -0.03643751, -0.00800658, -0.06306378,\n",
       "         0.0291189 ,  0.012737  ,  0.00755202, -0.00829535,  0.07144079,\n",
       "         0.00183129, -0.0071535 , -0.01723425,  0.05912297, -0.01623661,\n",
       "         0.08747   , -0.04917654,  0.04522968,  0.01438002, -0.06454102,\n",
       "         0.04122774, -0.00770596, -0.01430913, -0.02614688,  0.08543357,\n",
       "        -0.03448875,  0.05450219, -0.04257331,  0.05255184,  0.00864991,\n",
       "         0.05523212,  0.08529484, -0.03998624,  0.00369569,  0.00698701,\n",
       "         0.0016556 ,  0.01867117,  0.00048814, -0.00986214, -0.05410741,\n",
       "         0.03754181, -0.08870684]], dtype=float32)>"
      ]
     },
     "execution_count": 115,
     "metadata": {},
     "output_type": "execute_result"
    }
   ],
   "source": [
    "sentence_encoder_layer(['My name is Krish'])"
   ]
  },
  {
   "cell_type": "code",
   "execution_count": 83,
   "metadata": {},
   "outputs": [
    {
     "ename": "ValueError",
     "evalue": "Only instances of `keras.Layer` can be added to a Sequential model. Received: <tensorflow.python.saved_model.load.Loader._recreate_base_user_object.<locals>._UserObject object at 0x3ec16df60> (of type <class 'tensorflow.python.saved_model.load.Loader._recreate_base_user_object.<locals>._UserObject'>)",
     "output_type": "error",
     "traceback": [
      "\u001b[0;31m---------------------------------------------------------------------------\u001b[0m",
      "\u001b[0;31mValueError\u001b[0m                                Traceback (most recent call last)",
      "Cell \u001b[0;32mIn[83], line 2\u001b[0m\n\u001b[1;32m      1\u001b[0m \u001b[38;5;66;03m# Create model using Sequential API\u001b[39;00m\n\u001b[0;32m----> 2\u001b[0m model_6 \u001b[38;5;241m=\u001b[39m \u001b[43mtf\u001b[49m\u001b[38;5;241;43m.\u001b[39;49m\u001b[43mkeras\u001b[49m\u001b[38;5;241;43m.\u001b[39;49m\u001b[43mSequential\u001b[49m\u001b[43m(\u001b[49m\u001b[43m[\u001b[49m\n\u001b[1;32m      3\u001b[0m \u001b[43m    \u001b[49m\u001b[43msentence_encoder_layer\u001b[49m\u001b[43m,\u001b[49m\n\u001b[1;32m      4\u001b[0m \u001b[43m    \u001b[49m\u001b[43mlayers\u001b[49m\u001b[38;5;241;43m.\u001b[39;49m\u001b[43mDense\u001b[49m\u001b[43m(\u001b[49m\u001b[38;5;241;43m64\u001b[39;49m\u001b[43m,\u001b[49m\u001b[43m \u001b[49m\u001b[43mactivation\u001b[49m\u001b[38;5;241;43m=\u001b[39;49m\u001b[38;5;124;43m'\u001b[39;49m\u001b[38;5;124;43mrelu\u001b[39;49m\u001b[38;5;124;43m'\u001b[39;49m\u001b[43m,\u001b[49m\u001b[43m \u001b[49m\u001b[43mname\u001b[49m\u001b[38;5;241;43m=\u001b[39;49m\u001b[43m \u001b[49m\u001b[38;5;124;43m'\u001b[39;49m\u001b[38;5;124;43mdense_layer_1\u001b[39;49m\u001b[38;5;124;43m'\u001b[39;49m\u001b[43m)\u001b[49m\u001b[43m,\u001b[49m\n\u001b[1;32m      5\u001b[0m \u001b[43m    \u001b[49m\u001b[43mlayers\u001b[49m\u001b[38;5;241;43m.\u001b[39;49m\u001b[43mDense\u001b[49m\u001b[43m(\u001b[49m\u001b[38;5;241;43m1\u001b[39;49m\u001b[43m,\u001b[49m\u001b[43m \u001b[49m\u001b[43mactivation\u001b[49m\u001b[38;5;241;43m=\u001b[39;49m\u001b[43m \u001b[49m\u001b[38;5;124;43m'\u001b[39;49m\u001b[38;5;124;43msigmoid\u001b[39;49m\u001b[38;5;124;43m'\u001b[39;49m\u001b[43m,\u001b[49m\u001b[43m \u001b[49m\u001b[43mname\u001b[49m\u001b[38;5;241;43m=\u001b[39;49m\u001b[43m \u001b[49m\u001b[38;5;124;43m'\u001b[39;49m\u001b[38;5;124;43moutput_layer\u001b[39;49m\u001b[38;5;124;43m'\u001b[39;49m\u001b[43m)\u001b[49m\n\u001b[1;32m      6\u001b[0m \u001b[43m]\u001b[49m\u001b[43m,\u001b[49m\u001b[43m \u001b[49m\u001b[43mname\u001b[49m\u001b[38;5;241;43m=\u001b[39;49m\u001b[43m \u001b[49m\u001b[38;5;124;43m'\u001b[39;49m\u001b[38;5;124;43mmodel_6_USE\u001b[39;49m\u001b[38;5;124;43m'\u001b[39;49m\u001b[43m)\u001b[49m\n\u001b[1;32m      8\u001b[0m model_6\u001b[38;5;241m.\u001b[39mcompile(loss\u001b[38;5;241m=\u001b[39m \u001b[38;5;124m'\u001b[39m\u001b[38;5;124mbinary_crossentropy\u001b[39m\u001b[38;5;124m'\u001b[39m,\n\u001b[1;32m      9\u001b[0m                 optimizer\u001b[38;5;241m=\u001b[39m tf\u001b[38;5;241m.\u001b[39mkeras\u001b[38;5;241m.\u001b[39moptimizers\u001b[38;5;241m.\u001b[39mAdam(),\n\u001b[1;32m     10\u001b[0m                 metrics\u001b[38;5;241m=\u001b[39m [\u001b[38;5;124m'\u001b[39m\u001b[38;5;124maccuracy\u001b[39m\u001b[38;5;124m'\u001b[39m])\n\u001b[1;32m     12\u001b[0m model_6\u001b[38;5;241m.\u001b[39msummary()\n",
      "File \u001b[0;32m~/miniconda3/envs/ml/lib/python3.10/site-packages/keras/src/models/sequential.py:70\u001b[0m, in \u001b[0;36mSequential.__init__\u001b[0;34m(self, layers, trainable, name)\u001b[0m\n\u001b[1;32m     68\u001b[0m \u001b[38;5;28;01mif\u001b[39;00m layers:\n\u001b[1;32m     69\u001b[0m     \u001b[38;5;28;01mfor\u001b[39;00m layer \u001b[38;5;129;01min\u001b[39;00m layers:\n\u001b[0;32m---> 70\u001b[0m         \u001b[38;5;28;43mself\u001b[39;49m\u001b[38;5;241;43m.\u001b[39;49m\u001b[43madd\u001b[49m\u001b[43m(\u001b[49m\u001b[43mlayer\u001b[49m\u001b[43m,\u001b[49m\u001b[43m \u001b[49m\u001b[43mrebuild\u001b[49m\u001b[38;5;241;43m=\u001b[39;49m\u001b[38;5;28;43;01mFalse\u001b[39;49;00m\u001b[43m)\u001b[49m\n\u001b[1;32m     71\u001b[0m     \u001b[38;5;28mself\u001b[39m\u001b[38;5;241m.\u001b[39m_maybe_rebuild()\n",
      "File \u001b[0;32m~/miniconda3/envs/ml/lib/python3.10/site-packages/keras/src/models/sequential.py:92\u001b[0m, in \u001b[0;36mSequential.add\u001b[0;34m(self, layer, rebuild)\u001b[0m\n\u001b[1;32m     90\u001b[0m         layer \u001b[38;5;241m=\u001b[39m origin_layer\n\u001b[1;32m     91\u001b[0m \u001b[38;5;28;01mif\u001b[39;00m \u001b[38;5;129;01mnot\u001b[39;00m \u001b[38;5;28misinstance\u001b[39m(layer, Layer):\n\u001b[0;32m---> 92\u001b[0m     \u001b[38;5;28;01mraise\u001b[39;00m \u001b[38;5;167;01mValueError\u001b[39;00m(\n\u001b[1;32m     93\u001b[0m         \u001b[38;5;124m\"\u001b[39m\u001b[38;5;124mOnly instances of `keras.Layer` can be \u001b[39m\u001b[38;5;124m\"\u001b[39m\n\u001b[1;32m     94\u001b[0m         \u001b[38;5;124mf\u001b[39m\u001b[38;5;124m\"\u001b[39m\u001b[38;5;124madded to a Sequential model. Received: \u001b[39m\u001b[38;5;132;01m{\u001b[39;00mlayer\u001b[38;5;132;01m}\u001b[39;00m\u001b[38;5;124m \u001b[39m\u001b[38;5;124m\"\u001b[39m\n\u001b[1;32m     95\u001b[0m         \u001b[38;5;124mf\u001b[39m\u001b[38;5;124m\"\u001b[39m\u001b[38;5;124m(of type \u001b[39m\u001b[38;5;132;01m{\u001b[39;00m\u001b[38;5;28mtype\u001b[39m(layer)\u001b[38;5;132;01m}\u001b[39;00m\u001b[38;5;124m)\u001b[39m\u001b[38;5;124m\"\u001b[39m\n\u001b[1;32m     96\u001b[0m     )\n\u001b[1;32m     97\u001b[0m \u001b[38;5;28;01mif\u001b[39;00m \u001b[38;5;129;01mnot\u001b[39;00m \u001b[38;5;28mself\u001b[39m\u001b[38;5;241m.\u001b[39m_is_layer_name_unique(layer):\n\u001b[1;32m     98\u001b[0m     \u001b[38;5;28;01mraise\u001b[39;00m \u001b[38;5;167;01mValueError\u001b[39;00m(\n\u001b[1;32m     99\u001b[0m         \u001b[38;5;124m\"\u001b[39m\u001b[38;5;124mAll layers added to a Sequential model \u001b[39m\u001b[38;5;124m\"\u001b[39m\n\u001b[1;32m    100\u001b[0m         \u001b[38;5;124mf\u001b[39m\u001b[38;5;124m\"\u001b[39m\u001b[38;5;124mshould have unique names. Name \u001b[39m\u001b[38;5;124m'\u001b[39m\u001b[38;5;132;01m{\u001b[39;00mlayer\u001b[38;5;241m.\u001b[39mname\u001b[38;5;132;01m}\u001b[39;00m\u001b[38;5;124m'\u001b[39m\u001b[38;5;124m is already \u001b[39m\u001b[38;5;124m\"\u001b[39m\n\u001b[1;32m    101\u001b[0m         \u001b[38;5;124m\"\u001b[39m\u001b[38;5;124mthe name of a layer in this model. Update the `name` argument \u001b[39m\u001b[38;5;124m\"\u001b[39m\n\u001b[1;32m    102\u001b[0m         \u001b[38;5;124m\"\u001b[39m\u001b[38;5;124mto pass a unique name.\u001b[39m\u001b[38;5;124m\"\u001b[39m\n\u001b[1;32m    103\u001b[0m     )\n",
      "\u001b[0;31mValueError\u001b[0m: Only instances of `keras.Layer` can be added to a Sequential model. Received: <tensorflow.python.saved_model.load.Loader._recreate_base_user_object.<locals>._UserObject object at 0x3ec16df60> (of type <class 'tensorflow.python.saved_model.load.Loader._recreate_base_user_object.<locals>._UserObject'>)"
     ]
    }
   ],
   "source": [
    "# Create model using Sequential API\n",
    "model_6 = tf.keras.Sequential([\n",
    "    sentence_encoder_layer,\n",
    "    layers.Dense(64, activation='relu', name= 'dense_layer_1'),\n",
    "    layers.Dense(1, activation= 'sigmoid', name= 'output_layer')\n",
    "], name= 'model_6_USE')\n",
    "\n",
    "model_6.compile(loss= 'binary_crossentropy',\n",
    "                optimizer= tf.keras.optimizers.Adam(),\n",
    "                metrics= ['accuracy'])\n",
    "\n",
    "model_6.summary()"
   ]
  },
  {
   "cell_type": "code",
   "execution_count": null,
   "metadata": {},
   "outputs": [
    {
     "name": "stdout",
     "output_type": "stream",
     "text": [
      "Saving TensorBoard log files to: model_logs/model_6_USE/20240313-002122\n",
      "Epoch 1/5\n",
      "215/215 [==============================] - 70s 308ms/step - loss: 0.4938 - accuracy: 0.7848 - val_loss: 0.4554 - val_accuracy: 0.7927\n",
      "Epoch 2/5\n",
      "215/215 [==============================] - 40s 188ms/step - loss: 0.4165 - accuracy: 0.8120 - val_loss: 0.4494 - val_accuracy: 0.8031\n",
      "Epoch 3/5\n",
      "215/215 [==============================] - 39s 182ms/step - loss: 0.4064 - accuracy: 0.8238 - val_loss: 0.4438 - val_accuracy: 0.8150\n",
      "Epoch 4/5\n",
      "215/215 [==============================] - 36s 167ms/step - loss: 0.4024 - accuracy: 0.8243 - val_loss: 0.4446 - val_accuracy: 0.8176\n",
      "Epoch 5/5\n",
      "215/215 [==============================] - 30s 138ms/step - loss: 0.3998 - accuracy: 0.8241 - val_loss: 0.4411 - val_accuracy: 0.8176\n"
     ]
    }
   ],
   "source": [
    "model_6_history = model_6.fit(x= train_sentences,\n",
    "            y= train_labels,\n",
    "            epochs= 5,\n",
    "            validation_data= (val_sentences, val_labels),\n",
    "            callbacks= [create_tensorboard_callback(SAVED_DIR, 'model_6_USE')])"
   ]
  },
  {
   "cell_type": "code",
   "execution_count": null,
   "metadata": {},
   "outputs": [
    {
     "name": "stdout",
     "output_type": "stream",
     "text": [
      "24/24 [==============================] - 19s 582ms/step\n"
     ]
    }
   ],
   "source": [
    "model_6_pred = model_6.predict(val_sentences)"
   ]
  },
  {
   "cell_type": "code",
   "execution_count": null,
   "metadata": {},
   "outputs": [
    {
     "data": {
      "text/plain": [
       "{'accuracy': 0.8175853018372703,\n",
       " 'precision': 0.8235294117647058,\n",
       " 'recall': 0.764367816091954,\n",
       " 'f1-score': 0.8168602489629228}"
      ]
     },
     "execution_count": 324,
     "metadata": {},
     "output_type": "execute_result"
    }
   ],
   "source": [
    "model_6_results = evaluation(val_labels,\n",
    "                             tf.squeeze(tf.round(model_6_pred)))\n",
    "model_6_results"
   ]
  },
  {
   "cell_type": "code",
   "execution_count": null,
   "metadata": {},
   "outputs": [
    {
     "data": {
      "text/plain": [
       "array([ True, False,  True,  True])"
      ]
     },
     "execution_count": 325,
     "metadata": {},
     "output_type": "execute_result"
    }
   ],
   "source": [
    "np.array(list(model_6_results.values())) > np.array(list(baseline_results.values()))"
   ]
  },
  {
   "cell_type": "markdown",
   "metadata": {},
   "source": [
    "### Model 7: TF hub pretrained USE but with 10% of training data\n",
    "\n",
    "Transfer learning helps alot when you don't have a large dataset.\n",
    "\n",
    "Let's replicate `model_6` with only 10% of the training data"
   ]
  },
  {
   "cell_type": "code",
   "execution_count": null,
   "metadata": {},
   "outputs": [
    {
     "data": {
      "text/plain": [
       "685"
      ]
     },
     "execution_count": 326,
     "metadata": {},
     "output_type": "execute_result"
    }
   ],
   "source": [
    "# Create subsets of 10% of the training data\n",
    "train_10_percent_split = int(0.1 * len(train_sentences))\n",
    "train_sentences_10_percent = train_sentences[:train_10_percent_split]\n",
    "train_labels_10_percent = train_labels[:train_10_percent_split]\n",
    "len(train_labels_10_percent)"
   ]
  },
  {
   "cell_type": "code",
   "execution_count": null,
   "metadata": {},
   "outputs": [
    {
     "data": {
      "text/plain": [
       "array(['@mogacola @zamtriossu i screamed after hitting tweet',\n",
       "       'Imagine getting flattened by Kurt Zouma',\n",
       "       '@Gurmeetramrahim #MSGDoing111WelfareWorks Green S welfare force ke appx 65000 members har time disaster victim ki help ke liye tyar hai....',\n",
       "       \"@shakjn @C7 @Magnums im shaking in fear he's gonna hack the planet\",\n",
       "       'Somehow find you and I collide http://t.co/Ee8RpOahPk',\n",
       "       '@EvaHanderek @MarleyKnysh great times until the bus driver held us hostage in the mall parking lot lmfao',\n",
       "       'destroy the free fandom honestly',\n",
       "       'Weapons stolen from National Guard Armory in New Albany still missing #Gunsense http://t.co/lKNU8902JE',\n",
       "       '@wfaaweather Pete when will the heat wave pass? Is it really going to be mid month? Frisco Boy Scouts have a canoe trip in Okla.',\n",
       "       'Patient-reported outcomes in long-term survivors of metastatic colorectal cancer - British Journal of Surgery http://t.co/5Yl4DC1Tqt'],\n",
       "      dtype=object)"
      ]
     },
     "execution_count": 327,
     "metadata": {},
     "output_type": "execute_result"
    }
   ],
   "source": [
    "train_sentences_10_percent[:10]"
   ]
  },
  {
   "cell_type": "code",
   "execution_count": null,
   "metadata": {},
   "outputs": [
    {
     "name": "stdout",
     "output_type": "stream",
     "text": [
      "Model: \"model_6_USE\"\n",
      "_________________________________________________________________\n",
      " Layer (type)                Output Shape              Param #   \n",
      "=================================================================\n",
      " use_layer (KerasLayer)      (None, 512)               256797824 \n",
      "                                                                 \n",
      " dense_layer_1 (Dense)       (None, 64)                32832     \n",
      "                                                                 \n",
      " output_layer (Dense)        (None, 1)                 65        \n",
      "                                                                 \n",
      "=================================================================\n",
      "Total params: 256830721 (979.73 MB)\n",
      "Trainable params: 32897 (128.50 KB)\n",
      "Non-trainable params: 256797824 (979.61 MB)\n",
      "_________________________________________________________________\n"
     ]
    }
   ],
   "source": [
    "model_7 = tf.keras.models.clone_model(model_6)\n",
    "model_7.summary()"
   ]
  },
  {
   "cell_type": "code",
   "execution_count": null,
   "metadata": {},
   "outputs": [],
   "source": [
    "model_7.compile(loss= 'binary_crossentropy',\n",
    "                optimizer= tf.keras.optimizers.Adam(),\n",
    "                metrics= ['accuracy'])"
   ]
  },
  {
   "cell_type": "code",
   "execution_count": null,
   "metadata": {},
   "outputs": [
    {
     "name": "stdout",
     "output_type": "stream",
     "text": [
      "Saving TensorBoard log files to: model_logs/model_7_10_percent/20240313-002524\n",
      "Epoch 1/5\n",
      "22/22 [==============================] - 41s 2s/step - loss: 0.6514 - accuracy: 0.7182 - val_loss: 0.6152 - val_accuracy: 0.7690\n",
      "Epoch 2/5\n",
      "22/22 [==============================] - 17s 787ms/step - loss: 0.5643 - accuracy: 0.8058 - val_loss: 0.5607 - val_accuracy: 0.7677\n",
      "Epoch 3/5\n",
      "22/22 [==============================] - 15s 710ms/step - loss: 0.4978 - accuracy: 0.8190 - val_loss: 0.5165 - val_accuracy: 0.7795\n",
      "Epoch 4/5\n",
      "22/22 [==============================] - 17s 794ms/step - loss: 0.4476 - accuracy: 0.8336 - val_loss: 0.4969 - val_accuracy: 0.7782\n",
      "Epoch 5/5\n",
      "22/22 [==============================] - 14s 634ms/step - loss: 0.4150 - accuracy: 0.8409 - val_loss: 0.4886 - val_accuracy: 0.7795\n"
     ]
    }
   ],
   "source": [
    "model_7_history = model_7.fit(train_sentences_10_percent,\n",
    "            train_labels_10_percent,\n",
    "            epochs= 5,\n",
    "            validation_data= (val_sentences, val_labels),\n",
    "            callbacks= [create_tensorboard_callback(SAVED_DIR, 'model_7_10_percent')])"
   ]
  },
  {
   "cell_type": "code",
   "execution_count": null,
   "metadata": {},
   "outputs": [
    {
     "name": "stdout",
     "output_type": "stream",
     "text": [
      "24/24 [==============================] - 20s 773ms/step\n"
     ]
    }
   ],
   "source": [
    "model_7_pred = model_7.predict(val_sentences)"
   ]
  },
  {
   "cell_type": "code",
   "execution_count": null,
   "metadata": {},
   "outputs": [
    {
     "data": {
      "text/plain": [
       "{'accuracy': 0.7795275590551181,\n",
       " 'precision': 0.7903225806451613,\n",
       " 'recall': 0.7040229885057471,\n",
       " 'f1-score': 0.777998488727556}"
      ]
     },
     "execution_count": 332,
     "metadata": {},
     "output_type": "execute_result"
    }
   ],
   "source": [
    "model_7_results = evaluation(val_labels,\n",
    "                             tf.squeeze(tf.round(model_7_pred)))\n",
    "model_7_results"
   ]
  },
  {
   "cell_type": "code",
   "execution_count": null,
   "metadata": {},
   "outputs": [
    {
     "data": {
      "text/plain": [
       "array([False, False, False, False])"
      ]
     },
     "execution_count": 333,
     "metadata": {},
     "output_type": "execute_result"
    }
   ],
   "source": [
    "np.array(list(model_7_results)) > np.array(list(baseline_results))"
   ]
  },
  {
   "cell_type": "markdown",
   "metadata": {},
   "source": [
    "## Comparing the performance of each of our models"
   ]
  },
  {
   "cell_type": "code",
   "execution_count": null,
   "metadata": {},
   "outputs": [],
   "source": [
    "# Combine model results into a DataFrame\n",
    "\n",
    "all_model_results = pd.DataFrame({\n",
    "                                    \"Baseline\": baseline_results,\n",
    "                                    \"Feed Forward\": model_1_results,\n",
    "                                    \"LSTM\": model_2_results,\n",
    "                                    \"GRU\": model_3_results,\n",
    "                                    \"Bidirectional\": model_4_results,\n",
    "                                    \"1DCNN\": model_5_results,\n",
    "                                    \"USE Pretrained model\": model_6_results,\n",
    "                                    \"10% training data\": model_7_results\n",
    "                                })\n",
    "all_model_results = all_model_results.transpose()"
   ]
  },
  {
   "cell_type": "code",
   "execution_count": null,
   "metadata": {},
   "outputs": [
    {
     "data": {
      "text/plain": [
       "<matplotlib.legend.Legend at 0xb27518640>"
      ]
     },
     "execution_count": 338,
     "metadata": {},
     "output_type": "execute_result"
    },
    {
     "data": {
      "image/png": "[encoded data removed]",
      "text/plain": [
       "<Figure size 1000x700 with 1 Axes>"
      ]
     },
     "metadata": {},
     "output_type": "display_data"
    }
   ],
   "source": [
    "# Plot and compare all of the model results\n",
    "all_model_results.plot(kind= 'bar', figsize= (10, 7)).legend(bbox_to_anchor= (1.0, 1.0))"
   ]
  },
  {
   "cell_type": "code",
   "execution_count": null,
   "metadata": {},
   "outputs": [
    {
     "data": {
      "text/plain": [
       "<Axes: >"
      ]
     },
     "execution_count": 340,
     "metadata": {},
     "output_type": "execute_result"
    },
    {
     "data": {
      "image/png": "[encoded data removed]",
      "text/plain": [
       "<Figure size 1000x700 with 1 Axes>"
      ]
     },
     "metadata": {},
     "output_type": "display_data"
    }
   ],
   "source": [
    "# Sort model results by f1-score\n",
    "all_model_results.sort_values('f1-score', ascending= False)['f1-score'].plot(kind= 'bar', figsize= (10, 7))"
   ]
  },
  {
   "cell_type": "markdown",
   "metadata": {},
   "source": [
    "## Saving and loading a trained model\n",
    "\n",
    "There are two main formats to save a model to in TensorFlow:\n",
    "1. `HDF5`\n",
    "2. `SavedModel`"
   ]
  },
  {
   "cell_type": "code",
   "execution_count": null,
   "metadata": {},
   "outputs": [
    {
     "name": "stderr",
     "output_type": "stream",
     "text": [
      "/Users/klsharma22/miniconda3/envs/ml/lib/python3.10/site-packages/keras/src/engine/training.py:3103: UserWarning: You are saving your model as an HDF5 file via `model.save()`. This file format is considered legacy. We recommend using instead the native Keras format, e.g. `model.save('my_model.keras')`.\n",
      "  saving_api.save_model(\n"
     ]
    }
   ],
   "source": [
    "# Save Model 6 in HDF5 format\n",
    "model_6.save('model_6.h5')"
   ]
  },
  {
   "cell_type": "code",
   "execution_count": null,
   "metadata": {},
   "outputs": [],
   "source": [
    "# Load model with custom Hub layer (HDF5 required for this)\n",
    "loaded_model = tf.keras.models.load_model('model_6.h5', \n",
    "                                          custom_objects= {\"KerasLayer\": hub.KerasLayer})"
   ]
  },
  {
   "cell_type": "code",
   "execution_count": null,
   "metadata": {},
   "outputs": [
    {
     "name": "stdout",
     "output_type": "stream",
     "text": [
      "24/24 [==============================] - 19s 748ms/step - loss: 0.4411 - accuracy: 0.8176\n"
     ]
    },
    {
     "data": {
      "text/plain": [
       "[0.4410739243030548, 0.817585289478302]"
      ]
     },
     "execution_count": 346,
     "metadata": {},
     "output_type": "execute_result"
    }
   ],
   "source": [
    "loaded_model.evaluate(val_sentences, val_labels)"
   ]
  },
  {
   "cell_type": "code",
   "execution_count": null,
   "metadata": {},
   "outputs": [
    {
     "data": {
      "text/plain": [
       "{'accuracy': 0.8175853018372703,\n",
       " 'precision': 0.8235294117647058,\n",
       " 'recall': 0.764367816091954,\n",
       " 'f1-score': 0.8168602489629228}"
      ]
     },
     "execution_count": 347,
     "metadata": {},
     "output_type": "execute_result"
    }
   ],
   "source": [
    "model_6_results"
   ]
  },
  {
   "cell_type": "markdown",
   "metadata": {},
   "source": [
    "Now let's save to `SavedModel` Format"
   ]
  },
  {
   "cell_type": "code",
   "execution_count": null,
   "metadata": {},
   "outputs": [
    {
     "name": "stdout",
     "output_type": "stream",
     "text": [
      "WARNING:tensorflow:AutoGraph could not transform <function trace_model_call.<locals>._wrapped_model at 0xbf378c700> and will run it as-is.\n",
      "Cause: Unable to locate the source code of <function trace_model_call.<locals>._wrapped_model at 0xbf378c700>. Note that functions defined in certain environments, like the interactive Python shell, do not expose their source code. If that is the case, you should define them in a .py source file. If you are certain the code is graph-compatible, wrap the call using @tf.autograph.experimental.do_not_convert. Original error: could not get source code\n",
      "To silence this warning, decorate the function with @tf.autograph.experimental.do_not_convert\n"
     ]
    },
    {
     "name": "stderr",
     "output_type": "stream",
     "text": [
      "WARNING:tensorflow:AutoGraph could not transform <function trace_model_call.<locals>._wrapped_model at 0xbf378c700> and will run it as-is.\n",
      "Cause: Unable to locate the source code of <function trace_model_call.<locals>._wrapped_model at 0xbf378c700>. Note that functions defined in certain environments, like the interactive Python shell, do not expose their source code. If that is the case, you should define them in a .py source file. If you are certain the code is graph-compatible, wrap the call using @tf.autograph.experimental.do_not_convert. Original error: could not get source code\n",
      "To silence this warning, decorate the function with @tf.autograph.experimental.do_not_convert\n"
     ]
    },
    {
     "name": "stdout",
     "output_type": "stream",
     "text": [
      "WARNING: AutoGraph could not transform <function trace_model_call.<locals>._wrapped_model at 0xbf378c700> and will run it as-is.\n",
      "Cause: Unable to locate the source code of <function trace_model_call.<locals>._wrapped_model at 0xbf378c700>. Note that functions defined in certain environments, like the interactive Python shell, do not expose their source code. If that is the case, you should define them in a .py source file. If you are certain the code is graph-compatible, wrap the call using @tf.autograph.experimental.do_not_convert. Original error: could not get source code\n",
      "To silence this warning, decorate the function with @tf.autograph.experimental.do_not_convert\n",
      "INFO:tensorflow:Assets written to: model_6/assets\n"
     ]
    },
    {
     "name": "stderr",
     "output_type": "stream",
     "text": [
      "INFO:tensorflow:Assets written to: model_6/assets\n"
     ]
    }
   ],
   "source": [
    "# Save Model 6 in SavedModel Format\n",
    "model_6.save('model_6')"
   ]
  },
  {
   "cell_type": "code",
   "execution_count": null,
   "metadata": {},
   "outputs": [],
   "source": [
    "# Load model from SavedModel Format\n",
    "load_model_SavedFormat = tf.keras.models.load_model('model_6')"
   ]
  },
  {
   "cell_type": "code",
   "execution_count": null,
   "metadata": {},
   "outputs": [
    {
     "name": "stdout",
     "output_type": "stream",
     "text": [
      "24/24 [==============================] - 16s 595ms/step - loss: 0.4411 - accuracy: 0.8176\n"
     ]
    },
    {
     "data": {
      "text/plain": [
       "[0.4410739243030548, 0.817585289478302]"
      ]
     },
     "execution_count": 351,
     "metadata": {},
     "output_type": "execute_result"
    }
   ],
   "source": [
    "load_model_SavedFormat.evaluate(val_sentences, val_labels)"
   ]
  },
  {
   "cell_type": "markdown",
   "metadata": {},
   "source": [
    "## Finding the most wrong examples\n",
    "\n",
    "* What examples is it getting wrong?\n",
    "* and of these wrong examples which ones is it getting *most* wrong"
   ]
  },
  {
   "cell_type": "code",
   "execution_count": null,
   "metadata": {},
   "outputs": [
    {
     "name": "stdout",
     "output_type": "stream",
     "text": [
      "--2024-03-13 00:44:02--  https://storage.googleapis.com/ztm_tf_course/08_model_6_USE_feature_extractor.zip\n",
      "Resolving storage.googleapis.com (storage.googleapis.com)... 2404:6800:4009:821::201b, 2404:6800:4009:822::201b, 2404:6800:4009:823::201b, ...\n",
      "Connecting to storage.googleapis.com (storage.googleapis.com)|2404:6800:4009:821::201b|:443... connected.\n",
      "HTTP request sent, awaiting response... 200 OK\n",
      "Length: 960779165 (916M) [application/zip]\n",
      "Saving to: '08_model_6_USE_feature_extractor.zip'\n",
      "\n",
      "08_model_6_USE_feat 100%[===================>] 916.27M  16.4MB/s    in 58s     \n",
      "\n",
      "2024-03-13 00:45:01 (15.9 MB/s) - '08_model_6_USE_feature_extractor.zip' saved [960779165/960779165]\n",
      "\n"
     ]
    }
   ],
   "source": [
    "# Download a pretrained model\n",
    "!wget https://storage.googleapis.com/ztm_tf_course/08_model_6_USE_feature_extractor.zip\n",
    "\n",
    "unzip_data('08_model_6_USE_feature_extractor.zip')"
   ]
  },
  {
   "cell_type": "code",
   "execution_count": null,
   "metadata": {},
   "outputs": [
    {
     "name": "stdout",
     "output_type": "stream",
     "text": [
      "WARNING:tensorflow:SavedModel saved prior to TF 2.5 detected when loading Keras model. Please ensure that you are saving the model with model.save() or tf.keras.models.save_model(), *NOT* tf.saved_model.save(). To confirm, there should be a file named \"keras_metadata.pb\" in the SavedModel directory.\n"
     ]
    },
    {
     "name": "stderr",
     "output_type": "stream",
     "text": [
      "WARNING:tensorflow:SavedModel saved prior to TF 2.5 detected when loading Keras model. Please ensure that you are saving the model with model.save() or tf.keras.models.save_model(), *NOT* tf.saved_model.save(). To confirm, there should be a file named \"keras_metadata.pb\" in the SavedModel directory.\n"
     ]
    },
    {
     "name": "stdout",
     "output_type": "stream",
     "text": [
      "24/24 [==============================] - 19s 682ms/step - loss: 0.4626 - accuracy: 0.8150\n"
     ]
    },
    {
     "data": {
      "text/plain": [
       "[0.4625638723373413, 0.8149606585502625]"
      ]
     },
     "execution_count": 353,
     "metadata": {},
     "output_type": "execute_result"
    }
   ],
   "source": [
    "# Import the previously trained model\n",
    "model_6_pretrained = tf.keras.models.load_model('08_model_6_USE_feature_extractor')\n",
    "model_6_pretrained.evaluate(val_sentences, val_labels)"
   ]
  },
  {
   "cell_type": "code",
   "execution_count": null,
   "metadata": {},
   "outputs": [
    {
     "name": "stdout",
     "output_type": "stream",
     "text": [
      "24/24 [==============================] - 7s 240ms/step\n"
     ]
    }
   ],
   "source": [
    "# Make predictions with the loaded model\n",
    "model_6_pretrained_pred_probs = model_6_pretrained.predict(val_sentences)\n",
    "model_6_pretrained_preds = tf.squeeze(tf.round(model_6_pretrained_pred_probs))"
   ]
  },
  {
   "cell_type": "code",
   "execution_count": null,
   "metadata": {},
   "outputs": [
    {
     "data": {
      "text/html": [
       "<div>\n",
       "<style scoped>\n",
       "    .dataframe tbody tr th:only-of-type {\n",
       "        vertical-align: middle;\n",
       "    }\n",
       "\n",
       "    .dataframe tbody tr th {\n",
       "        vertical-align: top;\n",
       "    }\n",
       "\n",
       "    .dataframe thead th {\n",
       "        text-align: right;\n",
       "    }\n",
       "</style>\n",
       "<table border=\"1\" class=\"dataframe\">\n",
       "  <thead>\n",
       "    <tr style=\"text-align: right;\">\n",
       "      <th></th>\n",
       "      <th>text</th>\n",
       "      <th>target</th>\n",
       "      <th>pred</th>\n",
       "      <th>pred_prob</th>\n",
       "    </tr>\n",
       "  </thead>\n",
       "  <tbody>\n",
       "    <tr>\n",
       "      <th>0</th>\n",
       "      <td>DFR EP016 Monthly Meltdown - On Dnbheaven 2015...</td>\n",
       "      <td>0</td>\n",
       "      <td>0.0</td>\n",
       "      <td>0.150038</td>\n",
       "    </tr>\n",
       "    <tr>\n",
       "      <th>1</th>\n",
       "      <td>FedEx no longer to transport bioterror germs i...</td>\n",
       "      <td>0</td>\n",
       "      <td>1.0</td>\n",
       "      <td>0.778320</td>\n",
       "    </tr>\n",
       "    <tr>\n",
       "      <th>2</th>\n",
       "      <td>Gunmen kill four in El Salvador bus attack: Su...</td>\n",
       "      <td>1</td>\n",
       "      <td>1.0</td>\n",
       "      <td>0.993571</td>\n",
       "    </tr>\n",
       "    <tr>\n",
       "      <th>3</th>\n",
       "      <td>@camilacabello97 Internally and externally scr...</td>\n",
       "      <td>1</td>\n",
       "      <td>0.0</td>\n",
       "      <td>0.081233</td>\n",
       "    </tr>\n",
       "    <tr>\n",
       "      <th>4</th>\n",
       "      <td>Radiation emergency #preparedness starts with ...</td>\n",
       "      <td>1</td>\n",
       "      <td>1.0</td>\n",
       "      <td>0.765295</td>\n",
       "    </tr>\n",
       "  </tbody>\n",
       "</table>\n",
       "</div>"
      ],
      "text/plain": [
       "                                                text  target  pred  pred_prob\n",
       "0  DFR EP016 Monthly Meltdown - On Dnbheaven 2015...       0   0.0   0.150038\n",
       "1  FedEx no longer to transport bioterror germs i...       0   1.0   0.778320\n",
       "2  Gunmen kill four in El Salvador bus attack: Su...       1   1.0   0.993571\n",
       "3  @camilacabello97 Internally and externally scr...       1   0.0   0.081233\n",
       "4  Radiation emergency #preparedness starts with ...       1   1.0   0.765295"
      ]
     },
     "execution_count": 357,
     "metadata": {},
     "output_type": "execute_result"
    }
   ],
   "source": [
    "# Create a DataFrame with validation sentences and best performing model predictions\n",
    "val_df = pd.DataFrame({\n",
    "    \"text\": val_sentences,\n",
    "    \"target\": val_labels,\n",
    "    \"pred\": model_6_pretrained_preds,\n",
    "    \"pred_prob\": tf.squeeze(model_6_pretrained_pred_probs)\n",
    "})\n",
    "\n",
    "val_df.head()"
   ]
  },
  {
   "cell_type": "code",
   "execution_count": null,
   "metadata": {},
   "outputs": [],
   "source": [
    "most_wrong = val_df[val_df['target'] != val_df['pred']].sort_values('pred_prob', ascending= False)"
   ]
  },
  {
   "cell_type": "code",
   "execution_count": null,
   "metadata": {},
   "outputs": [
    {
     "data": {
      "text/html": [
       "<div>\n",
       "<style scoped>\n",
       "    .dataframe tbody tr th:only-of-type {\n",
       "        vertical-align: middle;\n",
       "    }\n",
       "\n",
       "    .dataframe tbody tr th {\n",
       "        vertical-align: top;\n",
       "    }\n",
       "\n",
       "    .dataframe thead th {\n",
       "        text-align: right;\n",
       "    }\n",
       "</style>\n",
       "<table border=\"1\" class=\"dataframe\">\n",
       "  <thead>\n",
       "    <tr style=\"text-align: right;\">\n",
       "      <th></th>\n",
       "      <th>text</th>\n",
       "      <th>target</th>\n",
       "      <th>pred</th>\n",
       "      <th>pred_prob</th>\n",
       "    </tr>\n",
       "  </thead>\n",
       "  <tbody>\n",
       "    <tr>\n",
       "      <th>31</th>\n",
       "      <td>? High Skies - Burning Buildings ? http://t.co...</td>\n",
       "      <td>0</td>\n",
       "      <td>1.0</td>\n",
       "      <td>0.938052</td>\n",
       "    </tr>\n",
       "    <tr>\n",
       "      <th>759</th>\n",
       "      <td>FedEx will no longer transport bioterror patho...</td>\n",
       "      <td>0</td>\n",
       "      <td>1.0</td>\n",
       "      <td>0.906743</td>\n",
       "    </tr>\n",
       "    <tr>\n",
       "      <th>628</th>\n",
       "      <td>@noah_anyname That's where the concentration c...</td>\n",
       "      <td>0</td>\n",
       "      <td>1.0</td>\n",
       "      <td>0.868803</td>\n",
       "    </tr>\n",
       "    <tr>\n",
       "      <th>393</th>\n",
       "      <td>@SonofLiberty357 all illuminated by the bright...</td>\n",
       "      <td>0</td>\n",
       "      <td>1.0</td>\n",
       "      <td>0.863820</td>\n",
       "    </tr>\n",
       "    <tr>\n",
       "      <th>209</th>\n",
       "      <td>Ashes 2015: AustraliaÛªs collapse at Trent Br...</td>\n",
       "      <td>0</td>\n",
       "      <td>1.0</td>\n",
       "      <td>0.850418</td>\n",
       "    </tr>\n",
       "  </tbody>\n",
       "</table>\n",
       "</div>"
      ],
      "text/plain": [
       "                                                  text  target  pred  \\\n",
       "31   ? High Skies - Burning Buildings ? http://t.co...       0   1.0   \n",
       "759  FedEx will no longer transport bioterror patho...       0   1.0   \n",
       "628  @noah_anyname That's where the concentration c...       0   1.0   \n",
       "393  @SonofLiberty357 all illuminated by the bright...       0   1.0   \n",
       "209  Ashes 2015: AustraliaÛªs collapse at Trent Br...       0   1.0   \n",
       "\n",
       "     pred_prob  \n",
       "31    0.938052  \n",
       "759   0.906743  \n",
       "628   0.868803  \n",
       "393   0.863820  \n",
       "209   0.850418  "
      ]
     },
     "execution_count": 362,
     "metadata": {},
     "output_type": "execute_result"
    }
   ],
   "source": [
    "most_wrong.head()"
   ]
  },
  {
   "cell_type": "code",
   "execution_count": null,
   "metadata": {},
   "outputs": [
    {
     "data": {
      "text/html": [
       "<div>\n",
       "<style scoped>\n",
       "    .dataframe tbody tr th:only-of-type {\n",
       "        vertical-align: middle;\n",
       "    }\n",
       "\n",
       "    .dataframe tbody tr th {\n",
       "        vertical-align: top;\n",
       "    }\n",
       "\n",
       "    .dataframe thead th {\n",
       "        text-align: right;\n",
       "    }\n",
       "</style>\n",
       "<table border=\"1\" class=\"dataframe\">\n",
       "  <thead>\n",
       "    <tr style=\"text-align: right;\">\n",
       "      <th></th>\n",
       "      <th>text</th>\n",
       "      <th>target</th>\n",
       "      <th>pred</th>\n",
       "      <th>pred_prob</th>\n",
       "    </tr>\n",
       "  </thead>\n",
       "  <tbody>\n",
       "    <tr>\n",
       "      <th>408</th>\n",
       "      <td>@willienelson We need help! Horses will die!Pl...</td>\n",
       "      <td>1</td>\n",
       "      <td>0.0</td>\n",
       "      <td>0.009397</td>\n",
       "    </tr>\n",
       "    <tr>\n",
       "      <th>233</th>\n",
       "      <td>I get to smoke my shit in peace</td>\n",
       "      <td>1</td>\n",
       "      <td>0.0</td>\n",
       "      <td>0.008726</td>\n",
       "    </tr>\n",
       "    <tr>\n",
       "      <th>244</th>\n",
       "      <td>Reddit Will Now QuarantineÛ_ http://t.co/pkUA...</td>\n",
       "      <td>1</td>\n",
       "      <td>0.0</td>\n",
       "      <td>0.007062</td>\n",
       "    </tr>\n",
       "    <tr>\n",
       "      <th>38</th>\n",
       "      <td>Why are you deluged with low self-image? Take ...</td>\n",
       "      <td>1</td>\n",
       "      <td>0.0</td>\n",
       "      <td>0.003761</td>\n",
       "    </tr>\n",
       "    <tr>\n",
       "      <th>23</th>\n",
       "      <td>Ron &amp;amp; Fez - Dave's High School Crush https...</td>\n",
       "      <td>1</td>\n",
       "      <td>0.0</td>\n",
       "      <td>0.002968</td>\n",
       "    </tr>\n",
       "  </tbody>\n",
       "</table>\n",
       "</div>"
      ],
      "text/plain": [
       "                                                  text  target  pred  \\\n",
       "408  @willienelson We need help! Horses will die!Pl...       1   0.0   \n",
       "233                    I get to smoke my shit in peace       1   0.0   \n",
       "244  Reddit Will Now QuarantineÛ_ http://t.co/pkUA...       1   0.0   \n",
       "38   Why are you deluged with low self-image? Take ...       1   0.0   \n",
       "23   Ron &amp; Fez - Dave's High School Crush https...       1   0.0   \n",
       "\n",
       "     pred_prob  \n",
       "408   0.009397  \n",
       "233   0.008726  \n",
       "244   0.007062  \n",
       "38    0.003761  \n",
       "23    0.002968  "
      ]
     },
     "execution_count": 363,
     "metadata": {},
     "output_type": "execute_result"
    }
   ],
   "source": [
    "most_wrong.tail()"
   ]
  },
  {
   "cell_type": "code",
   "execution_count": null,
   "metadata": {},
   "outputs": [
    {
     "name": "stdout",
     "output_type": "stream",
     "text": [
      "Target: 0, Prediction: 1.0, Probablity: 0.938052237033844\n",
      "Text: ? High Skies - Burning Buildings ? http://t.co/uVq41i3Kx2 #nowplaying\n",
      "------\n",
      "\n",
      "Target: 0, Prediction: 1.0, Probablity: 0.9067429304122925\n",
      "Text: FedEx will no longer transport bioterror pathogens in wake of anthrax lab mishaps http://t.co/lHpgxc4b8J\n",
      "------\n",
      "\n",
      "Target: 0, Prediction: 1.0, Probablity: 0.8688034415245056\n",
      "Text: @noah_anyname That's where the concentration camps and mass murder come in. \n",
      " \n",
      "EVERY. FUCKING. TIME.\n",
      "------\n",
      "\n",
      "Target: 0, Prediction: 1.0, Probablity: 0.8638204336166382\n",
      "Text: @SonofLiberty357 all illuminated by the brightly burning buildings all around the town!\n",
      "------\n",
      "\n",
      "Target: 0, Prediction: 1.0, Probablity: 0.850417971611023\n",
      "Text: Ashes 2015: AustraliaÛªs collapse at Trent Bridge among worst in history: England bundled out Australia for 60 ... http://t.co/t5TrhjUAU0\n",
      "------\n",
      "\n",
      "Target: 0, Prediction: 1.0, Probablity: 0.8402822017669678\n",
      "Text: @AshGhebranious civil rights continued in the 60s. And what about trans-generational trauma? if anything we should listen to the Americans.\n",
      "------\n",
      "\n",
      "Target: 0, Prediction: 1.0, Probablity: 0.8188959360122681\n",
      "Text: [55436] 1950 LIONEL TRAINS SMOKE LOCOMOTIVES WITH MAGNE-TRACTION INSTRUCTIONS http://t.co/xEZBs3sq0y http://t.co/C2x0QoKGlY\n",
      "------\n",
      "\n",
      "Target: 0, Prediction: 1.0, Probablity: 0.8157470226287842\n",
      "Text: A look at state actions a year after Ferguson's upheaval http://t.co/GZEkQWzijq\n",
      "------\n",
      "\n",
      "Target: 0, Prediction: 1.0, Probablity: 0.8125383853912354\n",
      "Text: @madonnamking RSPCA site multiple 7 story high rise buildings next to low density character residential in an area that floods\n",
      "------\n",
      "\n",
      "Target: 0, Prediction: 1.0, Probablity: 0.7831535339355469\n",
      "Text: GENERAL AUDIENCE: On Wounded Families | ZENIT - The World Seen From Rome http://t.co/hFvnyfT78C\n",
      "------\n",
      "\n"
     ]
    }
   ],
   "source": [
    "# Check the false positives\n",
    "for row in most_wrong[:10].itertuples():\n",
    "    _, text, target, pred, pred_prob = row\n",
    "    print(f\"Target: {target}, Prediction: {pred}, Probablity: {pred_prob}\")\n",
    "    print(f\"Text: {text}\")\n",
    "    print(\"------\\n\")"
   ]
  },
  {
   "cell_type": "code",
   "execution_count": null,
   "metadata": {},
   "outputs": [
    {
     "name": "stdout",
     "output_type": "stream",
     "text": [
      "Target: 1, Prediction: 0.0, Probablity: 0.02049633115530014\n",
      "Text: going to redo my nails and watch behind the scenes of desolation of smaug ayyy\n",
      "------\n",
      "\n",
      "Target: 1, Prediction: 0.0, Probablity: 0.017684536054730415\n",
      "Text: 'The way you move is like a full on rainstorm and I'm a house of cards'\n",
      "------\n",
      "\n",
      "Target: 1, Prediction: 0.0, Probablity: 0.016750570386648178\n",
      "Text: You can never escape me. Bullets don't harm me. Nothing harms me. But I know pain. I know pain. Sometimes I share it. With someone like you.\n",
      "------\n",
      "\n",
      "Target: 1, Prediction: 0.0, Probablity: 0.015886280685663223\n",
      "Text: @DavidVonderhaar At least you were sincere ??\n",
      "------\n",
      "\n",
      "Target: 1, Prediction: 0.0, Probablity: 0.009706276468932629\n",
      "Text: @SoonerMagic_ I mean I'm a fan but I don't need a girl sounding off like a damn siren\n",
      "------\n",
      "\n",
      "Target: 1, Prediction: 0.0, Probablity: 0.009396703913807869\n",
      "Text: @willienelson We need help! Horses will die!Please RT &amp; sign petition!Take a stand &amp; be a voice for them! #gilbert23 https://t.co/e8dl1lNCVu\n",
      "------\n",
      "\n",
      "Target: 1, Prediction: 0.0, Probablity: 0.008725655265152454\n",
      "Text: I get to smoke my shit in peace\n",
      "------\n",
      "\n",
      "Target: 1, Prediction: 0.0, Probablity: 0.007061795797199011\n",
      "Text: Reddit Will Now QuarantineÛ_ http://t.co/pkUAMXw6pm #onlinecommunities #reddit #amageddon #freespeech #Business http://t.co/PAWvNJ4sAP\n",
      "------\n",
      "\n",
      "Target: 1, Prediction: 0.0, Probablity: 0.0037611767183989286\n",
      "Text: Why are you deluged with low self-image? Take the quiz: http://t.co/XsPqdOrIqj http://t.co/CQYvFR4UCy\n",
      "------\n",
      "\n",
      "Target: 1, Prediction: 0.0, Probablity: 0.0029684926848858595\n",
      "Text: Ron &amp; Fez - Dave's High School Crush https://t.co/aN3W16c8F6 via @YouTube\n",
      "------\n",
      "\n"
     ]
    }
   ],
   "source": [
    "# Check the false negatives\n",
    "for row in most_wrong[-10:].itertuples():\n",
    "    _, text, target, pred, pred_prob = row\n",
    "    print(f\"Target: {target}, Prediction: {pred}, Probablity: {pred_prob}\")\n",
    "    print(f\"Text: {text}\")\n",
    "    print(\"------\\n\")"
   ]
  },
  {
   "cell_type": "code",
   "execution_count": null,
   "metadata": {},
   "outputs": [
    {
     "data": {
      "text/html": [
       "<div>\n",
       "<style scoped>\n",
       "    .dataframe tbody tr th:only-of-type {\n",
       "        vertical-align: middle;\n",
       "    }\n",
       "\n",
       "    .dataframe tbody tr th {\n",
       "        vertical-align: top;\n",
       "    }\n",
       "\n",
       "    .dataframe thead th {\n",
       "        text-align: right;\n",
       "    }\n",
       "</style>\n",
       "<table border=\"1\" class=\"dataframe\">\n",
       "  <thead>\n",
       "    <tr style=\"text-align: right;\">\n",
       "      <th></th>\n",
       "      <th>id</th>\n",
       "      <th>keyword</th>\n",
       "      <th>location</th>\n",
       "      <th>text</th>\n",
       "    </tr>\n",
       "  </thead>\n",
       "  <tbody>\n",
       "    <tr>\n",
       "      <th>0</th>\n",
       "      <td>0</td>\n",
       "      <td>NaN</td>\n",
       "      <td>NaN</td>\n",
       "      <td>Just happened a terrible car crash</td>\n",
       "    </tr>\n",
       "    <tr>\n",
       "      <th>1</th>\n",
       "      <td>2</td>\n",
       "      <td>NaN</td>\n",
       "      <td>NaN</td>\n",
       "      <td>Heard about #earthquake is different cities, s...</td>\n",
       "    </tr>\n",
       "    <tr>\n",
       "      <th>2</th>\n",
       "      <td>3</td>\n",
       "      <td>NaN</td>\n",
       "      <td>NaN</td>\n",
       "      <td>there is a forest fire at spot pond, geese are...</td>\n",
       "    </tr>\n",
       "    <tr>\n",
       "      <th>3</th>\n",
       "      <td>9</td>\n",
       "      <td>NaN</td>\n",
       "      <td>NaN</td>\n",
       "      <td>Apocalypse lighting. #Spokane #wildfires</td>\n",
       "    </tr>\n",
       "    <tr>\n",
       "      <th>4</th>\n",
       "      <td>11</td>\n",
       "      <td>NaN</td>\n",
       "      <td>NaN</td>\n",
       "      <td>Typhoon Soudelor kills 28 in China and Taiwan</td>\n",
       "    </tr>\n",
       "    <tr>\n",
       "      <th>...</th>\n",
       "      <td>...</td>\n",
       "      <td>...</td>\n",
       "      <td>...</td>\n",
       "      <td>...</td>\n",
       "    </tr>\n",
       "    <tr>\n",
       "      <th>3258</th>\n",
       "      <td>10861</td>\n",
       "      <td>NaN</td>\n",
       "      <td>NaN</td>\n",
       "      <td>EARTHQUAKE SAFETY LOS ANGELES ÛÒ SAFETY FASTE...</td>\n",
       "    </tr>\n",
       "    <tr>\n",
       "      <th>3259</th>\n",
       "      <td>10865</td>\n",
       "      <td>NaN</td>\n",
       "      <td>NaN</td>\n",
       "      <td>Storm in RI worse than last hurricane. My city...</td>\n",
       "    </tr>\n",
       "    <tr>\n",
       "      <th>3260</th>\n",
       "      <td>10868</td>\n",
       "      <td>NaN</td>\n",
       "      <td>NaN</td>\n",
       "      <td>Green Line derailment in Chicago http://t.co/U...</td>\n",
       "    </tr>\n",
       "    <tr>\n",
       "      <th>3261</th>\n",
       "      <td>10874</td>\n",
       "      <td>NaN</td>\n",
       "      <td>NaN</td>\n",
       "      <td>MEG issues Hazardous Weather Outlook (HWO) htt...</td>\n",
       "    </tr>\n",
       "    <tr>\n",
       "      <th>3262</th>\n",
       "      <td>10875</td>\n",
       "      <td>NaN</td>\n",
       "      <td>NaN</td>\n",
       "      <td>#CityofCalgary has activated its Municipal Eme...</td>\n",
       "    </tr>\n",
       "  </tbody>\n",
       "</table>\n",
       "<p>3263 rows × 4 columns</p>\n",
       "</div>"
      ],
      "text/plain": [
       "         id keyword location  \\\n",
       "0         0     NaN      NaN   \n",
       "1         2     NaN      NaN   \n",
       "2         3     NaN      NaN   \n",
       "3         9     NaN      NaN   \n",
       "4        11     NaN      NaN   \n",
       "...     ...     ...      ...   \n",
       "3258  10861     NaN      NaN   \n",
       "3259  10865     NaN      NaN   \n",
       "3260  10868     NaN      NaN   \n",
       "3261  10874     NaN      NaN   \n",
       "3262  10875     NaN      NaN   \n",
       "\n",
       "                                                   text  \n",
       "0                    Just happened a terrible car crash  \n",
       "1     Heard about #earthquake is different cities, s...  \n",
       "2     there is a forest fire at spot pond, geese are...  \n",
       "3              Apocalypse lighting. #Spokane #wildfires  \n",
       "4         Typhoon Soudelor kills 28 in China and Taiwan  \n",
       "...                                                 ...  \n",
       "3258  EARTHQUAKE SAFETY LOS ANGELES ÛÒ SAFETY FASTE...  \n",
       "3259  Storm in RI worse than last hurricane. My city...  \n",
       "3260  Green Line derailment in Chicago http://t.co/U...  \n",
       "3261  MEG issues Hazardous Weather Outlook (HWO) htt...  \n",
       "3262  #CityofCalgary has activated its Municipal Eme...  \n",
       "\n",
       "[3263 rows x 4 columns]"
      ]
     },
     "execution_count": 367,
     "metadata": {},
     "output_type": "execute_result"
    }
   ],
   "source": [
    "test_df"
   ]
  },
  {
   "cell_type": "code",
   "execution_count": null,
   "metadata": {},
   "outputs": [
    {
     "name": "stdout",
     "output_type": "stream",
     "text": [
      "102/102 [==============================] - 61s 592ms/step\n"
     ]
    }
   ],
   "source": [
    "test_pred_probs = model_6_pretrained.predict(test_df['text'].to_list())"
   ]
  },
  {
   "cell_type": "code",
   "execution_count": null,
   "metadata": {},
   "outputs": [
    {
     "data": {
      "text/plain": [
       "<tf.Tensor: shape=(3263,), dtype=float32, numpy=array([1., 1., 1., ..., 1., 0., 1.], dtype=float32)>"
      ]
     },
     "execution_count": 371,
     "metadata": {},
     "output_type": "execute_result"
    }
   ],
   "source": [
    "test_pred = tf.squeeze(tf.round(test_pred_probs))\n",
    "test_pred"
   ]
  },
  {
   "cell_type": "code",
   "execution_count": null,
   "metadata": {},
   "outputs": [
    {
     "name": "stdout",
     "output_type": "stream",
     "text": [
      "1/1 [==============================] - 2s 2s/step\n",
      "Prediction: Not a Disaster Prediction Probability: 0.23\n",
      "Text: So running down the stairs was a bad idea full on collided... With the floor ??\n",
      "-----\n",
      "\n",
      "Prediction: Disaster Prediction Probability: 0.86\n",
      "Text: Arsonist torches a house himself and his getaway vehicle police say - Surrey Leader http://t.co/q0J5lTVD6k @RichardGEarl\n",
      "-----\n",
      "\n",
      "Prediction: Not a Disaster Prediction Probability: 0.16\n",
      "Text: @rymathieson are you coming to meltdown!\n",
      "-----\n",
      "\n",
      "Prediction: Not a Disaster Prediction Probability: 0.14\n",
      "Text: @halfpeachh @CaitlinCavanah I can't deal right now OMG WHO REMEMBERS BLOODY MARY? ????\n",
      "-----\n",
      "\n",
      "Prediction: Disaster Prediction Probability: 0.93\n",
      "Text: Pak army helicopter crashed in Mansehra. \n",
      "Pray for departed souls. http://t.co/XclNBVvfSi\n",
      "-----\n",
      "\n",
      "Prediction: Not a Disaster Prediction Probability: 0.45\n",
      "Text: The Dones felt grief bordering on devastation at losing connection with God through their church communities. Packard http://t.co/r2pQQPfqCt\n",
      "-----\n",
      "\n",
      "Prediction: Disaster Prediction Probability: 0.84\n",
      "Text: It is insanity to call Climate Change more dangerous than Muslims wanting to obliterate America and Israel.  https://t.co/aA6S66huXh\n",
      "-----\n",
      "\n",
      "Prediction: Not a Disaster Prediction Probability: 0.48\n",
      "Text: Ignition Knock (Detonation) Sensor-Senso BECK/ARNLEY 158-1028 http://t.co/YszIBvj3cs http://t.co/C9t0cGtjFw\n",
      "-----\n",
      "\n",
      "Prediction: Disaster Prediction Probability: 0.91\n",
      "Text: On 70th anniversary of #Hiroshima bomb it is important to learn from history and ban this weapon.\n",
      "-----\n",
      "\n",
      "Prediction: Disaster Prediction Probability: 0.59\n",
      "Text: @gracemccreave_ @jamisonevann @jace_swain @_laneyslife @JacksonLaurie1 lava boy was taken\n",
      "-----\n",
      "\n"
     ]
    }
   ],
   "source": [
    "test_samples = random.sample(test_df['text'].to_list(), 10)\n",
    "test_pred_probs = model_6_pretrained.predict(test_samples)\n",
    "test_pred = tf.squeeze(tf.round(test_pred_probs))\n",
    "for i, text in enumerate(test_samples):\n",
    "    print(f\"Prediction: {'Disaster' if test_pred[i] == 1 else 'Not a Disaster'} Prediction Probability: {test_pred_probs[i][0]:.2f}\")\n",
    "    print(f\"Text: {text}\")\n",
    "    print(\"-----\\n\")"
   ]
  },
  {
   "cell_type": "markdown",
   "metadata": {},
   "source": [
    "## Speed/Score Tradeoff"
   ]
  },
  {
   "cell_type": "code",
   "execution_count": null,
   "metadata": {},
   "outputs": [
    {
     "data": {
      "text/plain": [
       "{'accuracy': 0.8175853018372703,\n",
       " 'precision': 0.8235294117647058,\n",
       " 'recall': 0.764367816091954,\n",
       " 'f1-score': 0.8168602489629228}"
      ]
     },
     "execution_count": 379,
     "metadata": {},
     "output_type": "execute_result"
    }
   ],
   "source": [
    "model_6_results"
   ]
  },
  {
   "cell_type": "code",
   "execution_count": null,
   "metadata": {},
   "outputs": [
    {
     "data": {
      "text/plain": [
       "{'accuracy': 0.7926509186351706,\n",
       " 'precision': 0.8861788617886179,\n",
       " 'recall': 0.6264367816091954,\n",
       " 'f1-score': 0.7862189758049549}"
      ]
     },
     "execution_count": 380,
     "metadata": {},
     "output_type": "execute_result"
    }
   ],
   "source": [
    "baseline_results"
   ]
  },
  {
   "cell_type": "code",
   "execution_count": null,
   "metadata": {},
   "outputs": [],
   "source": [
    "# Let's make a function to measure the time of prediction\n",
    "import time\n",
    "def pred_timer(model, samples):\n",
    "    '''\n",
    "    Times how long a model takes to make predictions on samples\n",
    "    '''\n",
    "\n",
    "    start_time = time.perf_counter()\n",
    "    model.predict(samples)\n",
    "    end_time = time.perf_counter()\n",
    "\n",
    "    total_time = end_time - start_time\n",
    "    time_per_pred = total_time / len(samples)\n",
    "    return total_time, time_per_pred"
   ]
  },
  {
   "cell_type": "code",
   "execution_count": null,
   "metadata": {},
   "outputs": [
    {
     "name": "stdout",
     "output_type": "stream",
     "text": [
      "24/24 [==============================] - 6s 187ms/step\n"
     ]
    },
    {
     "data": {
      "text/plain": [
       "(5.697020583997073, 0.007476404965875424)"
      ]
     },
     "execution_count": 382,
     "metadata": {},
     "output_type": "execute_result"
    }
   ],
   "source": [
    "# Calculate model 6 time complexity\n",
    "model_6_total_time, model_6_time_per_pred = pred_timer(model_6_pretrained, val_sentences)\n",
    "model_6_total_time, model_6_time_per_pred"
   ]
  },
  {
   "cell_type": "code",
   "execution_count": null,
   "metadata": {},
   "outputs": [
    {
     "data": {
      "text/plain": [
       "(0.03804241699981503, 4.9924431758287446e-05)"
      ]
     },
     "execution_count": 383,
     "metadata": {},
     "output_type": "execute_result"
    }
   ],
   "source": [
    "# Calculcate baseling model time complexity\n",
    "baseline_total_time, baseline_time_per_pred = pred_timer(model_0, val_sentences)\n",
    "baseline_total_time, baseline_time_per_pred"
   ]
  },
  {
   "cell_type": "code",
   "execution_count": null,
   "metadata": {},
   "outputs": [
    {
     "data": {
      "text/plain": [
       "{'accuracy': 0.8149606299212598,\n",
       " 'precision': 0.8438538205980066,\n",
       " 'recall': 0.7298850574712644,\n",
       " 'f1-score': 0.8132300658103407}"
      ]
     },
     "execution_count": 385,
     "metadata": {},
     "output_type": "execute_result"
    }
   ],
   "source": [
    "model_6_pretrained_results = evaluation(val_labels, \n",
    "                                        model_6_pretrained_preds)\n",
    "model_6_pretrained_results"
   ]
  },
  {
   "cell_type": "code",
   "execution_count": null,
   "metadata": {},
   "outputs": [
    {
     "data": {
      "text/plain": [
       "Text(0, 0.5, 'F1-Score')"
      ]
     },
     "execution_count": 386,
     "metadata": {},
     "output_type": "execute_result"
    },
    {
     "data": {
      "image/png": "[encoded data removed]",
      "text/plain": [
       "<Figure size 1000x700 with 1 Axes>"
      ]
     },
     "metadata": {},
     "output_type": "display_data"
    }
   ],
   "source": [
    "import matplotlib.pyplot as plt\n",
    "plt.figure(figsize= (10, 7))\n",
    "plt.scatter(baseline_time_per_pred, baseline_results['f1-score'], label= 'baseline')\n",
    "plt.scatter(model_6_time_per_pred, model_6_pretrained_results['f1-score'], label= 'model_6')\n",
    "plt.legend()\n",
    "plt.title('F1-Score vs Time Per prediction')\n",
    "plt.xlabel(\"Time per prediction\")\n",
    "plt.ylabel(\"F1-Score\")"
   ]
  }
 ],
 "metadata": {
  "kernelspec": {
   "display_name": "ml",
   "language": "python",
   "name": "python3"
  },
  "language_info": {
   "codemirror_mode": {
    "name": "ipython",
    "version": 3
   },
   "file_extension": ".py",
   "mimetype": "text/x-python",
   "name": "python",
   "nbconvert_exporter": "python",
   "pygments_lexer": "ipython3",
   "version": "3.10.13"
  }
 },
 "nbformat": 4,
 "nbformat_minor": 2
}
