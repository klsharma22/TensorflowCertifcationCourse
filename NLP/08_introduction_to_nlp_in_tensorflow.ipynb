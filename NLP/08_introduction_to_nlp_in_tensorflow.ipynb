{
 "cells": [
  {
   "cell_type": "markdown",
   "metadata": {},
   "source": [
    "# Introduction to NLP Fundatmentals in TensorFlow\n",
    "\n",
    "NLP has the goal of deriving information out of natural language\n",
    "\n",
    "Another common term for NLP problem is seq2seq"
   ]
  },
  {
   "cell_type": "markdown",
   "metadata": {},
   "source": [
    "## Check for GPU"
   ]
  },
  {
   "cell_type": "code",
   "execution_count": 246,
   "metadata": {},
   "outputs": [
    {
     "name": "stdout",
     "output_type": "stream",
     "text": [
      "zsh:1: command not found: nvidia-smi\n"
     ]
    }
   ],
   "source": [
    "!nvidia-smi"
   ]
  },
  {
   "cell_type": "markdown",
   "metadata": {},
   "source": [
    "## Downloading helper function inside the folder\n"
   ]
  },
  {
   "cell_type": "markdown",
   "metadata": {},
   "source": [
    "! wget https://raw.githubusercontent.com/mrdbourke/tensorflow-deep-learning/main/extras/helper_functions.py"
   ]
  },
  {
   "cell_type": "code",
   "execution_count": 247,
   "metadata": {},
   "outputs": [],
   "source": [
    "from helper_functions import unzip_data, create_tensorboard_callback, plot_loss_curves, compare_historys"
   ]
  },
  {
   "cell_type": "markdown",
   "metadata": {},
   "source": [
    "## Get a text dataset\n",
    "\n",
    "The dataset we're going ti be using is Kaggle's introduction to NLP dataset. A classification problem\n",
    "\n",
    "[Competition Link](https://www.kaggle.com/competitions/nlp-getting-started/overview)"
   ]
  },
  {
   "cell_type": "code",
   "execution_count": 248,
   "metadata": {},
   "outputs": [
    {
     "name": "stdout",
     "output_type": "stream",
     "text": [
      "--2024-03-13 00:15:09--  https://storage.googleapis.com/ztm_tf_course/nlp_getting_started.zip\n",
      "Resolving storage.googleapis.com (storage.googleapis.com)... "
     ]
    },
    {
     "name": "stdout",
     "output_type": "stream",
     "text": [
      "2404:6800:4009:822::201b, 2404:6800:4009:823::201b, 2404:6800:4009:827::201b, ...\n",
      "Connecting to storage.googleapis.com (storage.googleapis.com)|2404:6800:4009:822::201b|:443... connected.\n",
      "HTTP request sent, awaiting response... 200 OK\n",
      "Length: 607343 (593K) [application/zip]\n",
      "Saving to: 'nlp_getting_started.zip.1'\n",
      "\n",
      "nlp_getting_started 100%[===================>] 593.11K   440KB/s    in 1.3s    \n",
      "\n",
      "2024-03-13 00:15:12 (440 KB/s) - 'nlp_getting_started.zip.1' saved [607343/607343]\n",
      "\n"
     ]
    }
   ],
   "source": [
    "!wget https://storage.googleapis.com/ztm_tf_course/nlp_getting_started.zip\n",
    "\n",
    "unzip_data('nlp_getting_started.zip')"
   ]
  },
  {
   "cell_type": "markdown",
   "metadata": {},
   "source": [
    "## Become one with the data"
   ]
  },
  {
   "cell_type": "code",
   "execution_count": 249,
   "metadata": {},
   "outputs": [
    {
     "data": {
      "text/html": [
       "<div>\n",
       "<style scoped>\n",
       "    .dataframe tbody tr th:only-of-type {\n",
       "        vertical-align: middle;\n",
       "    }\n",
       "\n",
       "    .dataframe tbody tr th {\n",
       "        vertical-align: top;\n",
       "    }\n",
       "\n",
       "    .dataframe thead th {\n",
       "        text-align: right;\n",
       "    }\n",
       "</style>\n",
       "<table border=\"1\" class=\"dataframe\">\n",
       "  <thead>\n",
       "    <tr style=\"text-align: right;\">\n",
       "      <th></th>\n",
       "      <th>id</th>\n",
       "      <th>keyword</th>\n",
       "      <th>location</th>\n",
       "      <th>text</th>\n",
       "      <th>target</th>\n",
       "    </tr>\n",
       "  </thead>\n",
       "  <tbody>\n",
       "    <tr>\n",
       "      <th>0</th>\n",
       "      <td>1</td>\n",
       "      <td>NaN</td>\n",
       "      <td>NaN</td>\n",
       "      <td>Our Deeds are the Reason of this #earthquake M...</td>\n",
       "      <td>1</td>\n",
       "    </tr>\n",
       "    <tr>\n",
       "      <th>1</th>\n",
       "      <td>4</td>\n",
       "      <td>NaN</td>\n",
       "      <td>NaN</td>\n",
       "      <td>Forest fire near La Ronge Sask. Canada</td>\n",
       "      <td>1</td>\n",
       "    </tr>\n",
       "    <tr>\n",
       "      <th>2</th>\n",
       "      <td>5</td>\n",
       "      <td>NaN</td>\n",
       "      <td>NaN</td>\n",
       "      <td>All residents asked to 'shelter in place' are ...</td>\n",
       "      <td>1</td>\n",
       "    </tr>\n",
       "    <tr>\n",
       "      <th>3</th>\n",
       "      <td>6</td>\n",
       "      <td>NaN</td>\n",
       "      <td>NaN</td>\n",
       "      <td>13,000 people receive #wildfires evacuation or...</td>\n",
       "      <td>1</td>\n",
       "    </tr>\n",
       "    <tr>\n",
       "      <th>4</th>\n",
       "      <td>7</td>\n",
       "      <td>NaN</td>\n",
       "      <td>NaN</td>\n",
       "      <td>Just got sent this photo from Ruby #Alaska as ...</td>\n",
       "      <td>1</td>\n",
       "    </tr>\n",
       "  </tbody>\n",
       "</table>\n",
       "</div>"
      ],
      "text/plain": [
       "   id keyword location                                               text  \\\n",
       "0   1     NaN      NaN  Our Deeds are the Reason of this #earthquake M...   \n",
       "1   4     NaN      NaN             Forest fire near La Ronge Sask. Canada   \n",
       "2   5     NaN      NaN  All residents asked to 'shelter in place' are ...   \n",
       "3   6     NaN      NaN  13,000 people receive #wildfires evacuation or...   \n",
       "4   7     NaN      NaN  Just got sent this photo from Ruby #Alaska as ...   \n",
       "\n",
       "   target  \n",
       "0       1  \n",
       "1       1  \n",
       "2       1  \n",
       "3       1  \n",
       "4       1  "
      ]
     },
     "execution_count": 249,
     "metadata": {},
     "output_type": "execute_result"
    }
   ],
   "source": [
    "# Read thed data\n",
    "import pandas as pd\n",
    "\n",
    "train_df = pd.read_csv('train.csv')\n",
    "test_df = pd.read_csv('test.csv')\n",
    "\n",
    "train_df.head()"
   ]
  },
  {
   "cell_type": "code",
   "execution_count": 250,
   "metadata": {},
   "outputs": [
    {
     "data": {
      "text/html": [
       "<div>\n",
       "<style scoped>\n",
       "    .dataframe tbody tr th:only-of-type {\n",
       "        vertical-align: middle;\n",
       "    }\n",
       "\n",
       "    .dataframe tbody tr th {\n",
       "        vertical-align: top;\n",
       "    }\n",
       "\n",
       "    .dataframe thead th {\n",
       "        text-align: right;\n",
       "    }\n",
       "</style>\n",
       "<table border=\"1\" class=\"dataframe\">\n",
       "  <thead>\n",
       "    <tr style=\"text-align: right;\">\n",
       "      <th></th>\n",
       "      <th>id</th>\n",
       "      <th>keyword</th>\n",
       "      <th>location</th>\n",
       "      <th>text</th>\n",
       "      <th>target</th>\n",
       "    </tr>\n",
       "  </thead>\n",
       "  <tbody>\n",
       "    <tr>\n",
       "      <th>2644</th>\n",
       "      <td>3796</td>\n",
       "      <td>destruction</td>\n",
       "      <td>NaN</td>\n",
       "      <td>So you have a new weapon that can cause un-ima...</td>\n",
       "      <td>1</td>\n",
       "    </tr>\n",
       "    <tr>\n",
       "      <th>2227</th>\n",
       "      <td>3185</td>\n",
       "      <td>deluge</td>\n",
       "      <td>NaN</td>\n",
       "      <td>The f$&amp;amp;@ing things I do for #GISHWHES Just...</td>\n",
       "      <td>0</td>\n",
       "    </tr>\n",
       "    <tr>\n",
       "      <th>5448</th>\n",
       "      <td>7769</td>\n",
       "      <td>police</td>\n",
       "      <td>UK</td>\n",
       "      <td>DT @georgegalloway: RT @Galloway4Mayor: ÛÏThe...</td>\n",
       "      <td>1</td>\n",
       "    </tr>\n",
       "    <tr>\n",
       "      <th>132</th>\n",
       "      <td>191</td>\n",
       "      <td>aftershock</td>\n",
       "      <td>NaN</td>\n",
       "      <td>Aftershock back to school kick off was great. ...</td>\n",
       "      <td>0</td>\n",
       "    </tr>\n",
       "    <tr>\n",
       "      <th>6845</th>\n",
       "      <td>9810</td>\n",
       "      <td>trauma</td>\n",
       "      <td>Montgomery County, MD</td>\n",
       "      <td>in response to trauma Children of Addicts deve...</td>\n",
       "      <td>0</td>\n",
       "    </tr>\n",
       "  </tbody>\n",
       "</table>\n",
       "</div>"
      ],
      "text/plain": [
       "        id      keyword               location  \\\n",
       "2644  3796  destruction                    NaN   \n",
       "2227  3185       deluge                    NaN   \n",
       "5448  7769       police                     UK   \n",
       "132    191   aftershock                    NaN   \n",
       "6845  9810       trauma  Montgomery County, MD   \n",
       "\n",
       "                                                   text  target  \n",
       "2644  So you have a new weapon that can cause un-ima...       1  \n",
       "2227  The f$&amp;@ing things I do for #GISHWHES Just...       0  \n",
       "5448  DT @georgegalloway: RT @Galloway4Mayor: ÛÏThe...       1  \n",
       "132   Aftershock back to school kick off was great. ...       0  \n",
       "6845  in response to trauma Children of Addicts deve...       0  "
      ]
     },
     "execution_count": 250,
     "metadata": {},
     "output_type": "execute_result"
    }
   ],
   "source": [
    "# Shuffle training dataframe\n",
    "train_df_shuffled = train_df.sample(frac= 1, random_state= 42)\n",
    "\n",
    "train_df_shuffled.head()"
   ]
  },
  {
   "cell_type": "code",
   "execution_count": 251,
   "metadata": {},
   "outputs": [
    {
     "data": {
      "text/html": [
       "<div>\n",
       "<style scoped>\n",
       "    .dataframe tbody tr th:only-of-type {\n",
       "        vertical-align: middle;\n",
       "    }\n",
       "\n",
       "    .dataframe tbody tr th {\n",
       "        vertical-align: top;\n",
       "    }\n",
       "\n",
       "    .dataframe thead th {\n",
       "        text-align: right;\n",
       "    }\n",
       "</style>\n",
       "<table border=\"1\" class=\"dataframe\">\n",
       "  <thead>\n",
       "    <tr style=\"text-align: right;\">\n",
       "      <th></th>\n",
       "      <th>id</th>\n",
       "      <th>keyword</th>\n",
       "      <th>location</th>\n",
       "      <th>text</th>\n",
       "    </tr>\n",
       "  </thead>\n",
       "  <tbody>\n",
       "    <tr>\n",
       "      <th>0</th>\n",
       "      <td>0</td>\n",
       "      <td>NaN</td>\n",
       "      <td>NaN</td>\n",
       "      <td>Just happened a terrible car crash</td>\n",
       "    </tr>\n",
       "    <tr>\n",
       "      <th>1</th>\n",
       "      <td>2</td>\n",
       "      <td>NaN</td>\n",
       "      <td>NaN</td>\n",
       "      <td>Heard about #earthquake is different cities, s...</td>\n",
       "    </tr>\n",
       "    <tr>\n",
       "      <th>2</th>\n",
       "      <td>3</td>\n",
       "      <td>NaN</td>\n",
       "      <td>NaN</td>\n",
       "      <td>there is a forest fire at spot pond, geese are...</td>\n",
       "    </tr>\n",
       "    <tr>\n",
       "      <th>3</th>\n",
       "      <td>9</td>\n",
       "      <td>NaN</td>\n",
       "      <td>NaN</td>\n",
       "      <td>Apocalypse lighting. #Spokane #wildfires</td>\n",
       "    </tr>\n",
       "    <tr>\n",
       "      <th>4</th>\n",
       "      <td>11</td>\n",
       "      <td>NaN</td>\n",
       "      <td>NaN</td>\n",
       "      <td>Typhoon Soudelor kills 28 in China and Taiwan</td>\n",
       "    </tr>\n",
       "  </tbody>\n",
       "</table>\n",
       "</div>"
      ],
      "text/plain": [
       "   id keyword location                                               text\n",
       "0   0     NaN      NaN                 Just happened a terrible car crash\n",
       "1   2     NaN      NaN  Heard about #earthquake is different cities, s...\n",
       "2   3     NaN      NaN  there is a forest fire at spot pond, geese are...\n",
       "3   9     NaN      NaN           Apocalypse lighting. #Spokane #wildfires\n",
       "4  11     NaN      NaN      Typhoon Soudelor kills 28 in China and Taiwan"
      ]
     },
     "execution_count": 251,
     "metadata": {},
     "output_type": "execute_result"
    }
   ],
   "source": [
    "test_df.head()"
   ]
  },
  {
   "cell_type": "code",
   "execution_count": 252,
   "metadata": {},
   "outputs": [
    {
     "data": {
      "text/plain": [
       "target\n",
       "0    4342\n",
       "1    3271\n",
       "Name: count, dtype: int64"
      ]
     },
     "execution_count": 252,
     "metadata": {},
     "output_type": "execute_result"
    }
   ],
   "source": [
    "# How many examples of each class\n",
    "train_df['target'].value_counts()"
   ]
  },
  {
   "cell_type": "code",
   "execution_count": 253,
   "metadata": {},
   "outputs": [
    {
     "data": {
      "text/plain": [
       "(7613, 3263)"
      ]
     },
     "execution_count": 253,
     "metadata": {},
     "output_type": "execute_result"
    }
   ],
   "source": [
    "# How may samples\n",
    "len(train_df), len(test_df)"
   ]
  },
  {
   "cell_type": "code",
   "execution_count": 254,
   "metadata": {},
   "outputs": [
    {
     "name": "stdout",
     "output_type": "stream",
     "text": [
      "Target: Not a disaster\n",
      "Text: --thus making @FemaleGilgamesh's assault useless.\n",
      "The spears collided with the dark force however did not penetrate.\n",
      "\n",
      "Due to the dark --\n",
      "----\n",
      "\n",
      "Target: Not a disaster\n",
      "Text: @blazerfan not everyone can see ignoranceshe is Latinoand that is All she can ever benothing morebut an attack dog 4 a hate group GOP\n",
      "----\n",
      "\n",
      "Target: Not a disaster\n",
      "Text: @BehindAShield @Wars_Goddess Sweet Lord.  (I collapse as my knees buckle)\n",
      "----\n",
      "\n",
      "Target: Not a disaster\n",
      "Text: I See Fire\n",
      "----\n",
      "\n",
      "Target: Disaster\n",
      "Text: Totoooooo! Totoooooooooo!\n",
      "'@Historicalmages: Dust storm approaching Stratford Texas 18th April 1935. http://t.co/4awC16uUWB'\n",
      "----\n",
      "\n"
     ]
    }
   ],
   "source": [
    "# Let's visualise some random training examples\n",
    "import random\n",
    "random_index = random.randint(0, len(train_df) - 5)\n",
    "\n",
    "for row in train_df_shuffled[['text', 'target']][random_index: random_index + 5].itertuples():\n",
    "    _, text, target = row\n",
    "    print(f\"Target: {'Disaster' if target == 1 else 'Not a disaster'}\")\n",
    "    print(f\"Text: {text}\")\n",
    "    print(\"----\\n\")\n"
   ]
  },
  {
   "cell_type": "markdown",
   "metadata": {},
   "source": [
    "### Split data into training and validation sets"
   ]
  },
  {
   "cell_type": "code",
   "execution_count": 255,
   "metadata": {},
   "outputs": [],
   "source": [
    "from sklearn.model_selection import train_test_split\n",
    "\n",
    "# Use train_test_split() to split the trianing data into train and validation dataset\n",
    "\n",
    "train_sentences, val_sentences, train_labels, val_labels = train_test_split(train_df_shuffled['text'].to_numpy(), train_df_shuffled['target'].to_numpy(), test_size= 0.1, random_state= 42)"
   ]
  },
  {
   "cell_type": "code",
   "execution_count": 256,
   "metadata": {},
   "outputs": [
    {
     "data": {
      "text/plain": [
       "(6851, 6851, 762, 762)"
      ]
     },
     "execution_count": 256,
     "metadata": {},
     "output_type": "execute_result"
    }
   ],
   "source": [
    "len(train_sentences), len(train_labels), len(val_sentences), len(val_labels)"
   ]
  },
  {
   "cell_type": "code",
   "execution_count": 257,
   "metadata": {},
   "outputs": [
    {
     "data": {
      "text/plain": [
       "(array(['@mogacola @zamtriossu i screamed after hitting tweet',\n",
       "        'Imagine getting flattened by Kurt Zouma',\n",
       "        '@Gurmeetramrahim #MSGDoing111WelfareWorks Green S welfare force ke appx 65000 members har time disaster victim ki help ke liye tyar hai....',\n",
       "        \"@shakjn @C7 @Magnums im shaking in fear he's gonna hack the planet\",\n",
       "        'Somehow find you and I collide http://t.co/Ee8RpOahPk',\n",
       "        '@EvaHanderek @MarleyKnysh great times until the bus driver held us hostage in the mall parking lot lmfao',\n",
       "        'destroy the free fandom honestly',\n",
       "        'Weapons stolen from National Guard Armory in New Albany still missing #Gunsense http://t.co/lKNU8902JE',\n",
       "        '@wfaaweather Pete when will the heat wave pass? Is it really going to be mid month? Frisco Boy Scouts have a canoe trip in Okla.',\n",
       "        'Patient-reported outcomes in long-term survivors of metastatic colorectal cancer - British Journal of Surgery http://t.co/5Yl4DC1Tqt'],\n",
       "       dtype=object),\n",
       " array([0, 0, 1, 0, 0, 1, 1, 0, 1, 1]))"
      ]
     },
     "execution_count": 257,
     "metadata": {},
     "output_type": "execute_result"
    }
   ],
   "source": [
    "# Check the first 10 sentences\n",
    "train_sentences[:10], train_labels[:10]"
   ]
  },
  {
   "cell_type": "markdown",
   "metadata": {},
   "source": [
    "## Converting text into numbers\n",
    "\n",
    "When dealing with a text problem, one of the first things you'll have to do before you can build a model is to convert your text to nuumbers.\n",
    "\n",
    "There are a few ways to do this:\n",
    "* Tokenization\n",
    "* Embedding"
   ]
  },
  {
   "cell_type": "markdown",
   "metadata": {},
   "source": [
    "### Text vectorization (tokenization)"
   ]
  },
  {
   "cell_type": "code",
   "execution_count": 258,
   "metadata": {},
   "outputs": [],
   "source": [
    "import tensorflow as tf\n",
    "from tensorflow.keras.layers import TextVectorization\n",
    "\n",
    "# Use defalut TextVectorization parameter\n",
    "text_vectorizer = TextVectorization(max_tokens= None, # how many words in vocab\n",
    "                                    standardize= 'lower_and_strip_punctuation',\n",
    "                                    split= 'whitespace',\n",
    "                                    ngrams= None, # creates a group of words\n",
    "                                    output_mode= 'int', # in which format the output should be\n",
    "                                    output_sequence_length= None, # how long deos the output sequence should be of\n",
    "                                    )"
   ]
  },
  {
   "cell_type": "code",
   "execution_count": 259,
   "metadata": {},
   "outputs": [
    {
     "data": {
      "text/plain": [
       "14"
      ]
     },
     "execution_count": 259,
     "metadata": {},
     "output_type": "execute_result"
    }
   ],
   "source": [
    "# Find the average number of tokens in the training tweets\n",
    "round(sum([len(i.split()) for i in train_sentences]) // len(train_sentences))"
   ]
  },
  {
   "cell_type": "code",
   "execution_count": 260,
   "metadata": {},
   "outputs": [],
   "source": [
    "# Setup text vectorization variables\n",
    "max_vocab_length = 10000 # max number of words to have in our vocab\n",
    "max_length = 15 # max length our sequences will be\n",
    "\n",
    "text_vectorizer = TextVectorization(max_tokens= max_vocab_length,\n",
    "                                    output_mode= 'int',\n",
    "                                    output_sequence_length= max_length)"
   ]
  },
  {
   "cell_type": "code",
   "execution_count": 261,
   "metadata": {},
   "outputs": [],
   "source": [
    "# Fit the text vectorization to training set\n",
    "text_vectorizer.adapt(train_sentences)"
   ]
  },
  {
   "cell_type": "code",
   "execution_count": 262,
   "metadata": {},
   "outputs": [
    {
     "data": {
      "text/plain": [
       "<tf.Tensor: shape=(1, 15), dtype=int64, numpy=\n",
       "array([[264,   3, 232,   4,  13, 698,   0,   0,   0,   0,   0,   0,   0,\n",
       "          0,   0]])>"
      ]
     },
     "execution_count": 262,
     "metadata": {},
     "output_type": "execute_result"
    }
   ],
   "source": [
    "# Create a sample sentence and tokenize it\n",
    "sample_sentences = \"There's a flood in my street!\"\n",
    "\n",
    "text_vectorizer([sample_sentences])"
   ]
  },
  {
   "cell_type": "code",
   "execution_count": 263,
   "metadata": {},
   "outputs": [
    {
     "name": "stdout",
     "output_type": "stream",
     "text": [
      "Original text: It's Even Worse Than It Looks: How the American Constitutional System Collided With the New PoliticÛ_ http://t.co/Gfa3SOw9zn\n",
      "Vectorized sentence: [[  37  151 1100   76   15  287   62    2  692    1 1584  321   14    2\n",
      "    50]]\n"
     ]
    }
   ],
   "source": [
    "# Choose a random sentences from the training sentences\n",
    "random_sentences = random.choice(train_sentences)\n",
    "print(f\"Original text: {random_sentences}\")\n",
    "print(f\"Vectorized sentence: {text_vectorizer([random_sentences])}\")"
   ]
  },
  {
   "cell_type": "code",
   "execution_count": 264,
   "metadata": {},
   "outputs": [
    {
     "name": "stdout",
     "output_type": "stream",
     "text": [
      "Number fo words in vocab: 10000\n",
      "5 most common words: ['', '[UNK]', 'the', 'a', 'in']\n",
      "5 least common words: ['pages', 'paeds', 'pads', 'padres', 'paddytomlinson1']\n"
     ]
    }
   ],
   "source": [
    "words_in_vocab = text_vectorizer.get_vocabulary() # retrieves all of the unique words\n",
    "\n",
    "tope_5_words = words_in_vocab[:5] # gets the most common words\n",
    "bottom_5_words = words_in_vocab[-5:] # gets the least common words\n",
    "\n",
    "print(f\"Number fo words in vocab: {len(words_in_vocab)}\")\n",
    "print(f\"5 most common words: {tope_5_words}\")\n",
    "print(f\"5 least common words: {bottom_5_words}\")"
   ]
  },
  {
   "cell_type": "markdown",
   "metadata": {},
   "source": [
    "### Creating an Embedding using an Embedding layer\n",
    "\n",
    "We're going to use Tensorflow Embedding layer.\n",
    "\n",
    "\n",
    "The parameters we care most about our embedding layers:\n",
    "* `input_dim`\n",
    "* `output_dim`\n",
    "* `input_length`"
   ]
  },
  {
   "cell_type": "code",
   "execution_count": 265,
   "metadata": {},
   "outputs": [
    {
     "data": {
      "text/plain": [
       "<keras.src.layers.core.embedding.Embedding at 0x6f5eb4b20>"
      ]
     },
     "execution_count": 265,
     "metadata": {},
     "output_type": "execute_result"
    }
   ],
   "source": [
    "from tensorflow.keras import layers\n",
    "\n",
    "embedding = layers.Embedding(input_dim= max_vocab_length, # set input shape\n",
    "                             output_dim= 128,\n",
    "                             input_length= max_length # how long is each input\n",
    "                             )\n",
    "\n",
    "embedding"
   ]
  },
  {
   "cell_type": "code",
   "execution_count": 266,
   "metadata": {},
   "outputs": [
    {
     "name": "stdout",
     "output_type": "stream",
     "text": [
      "Original sentences: My little heart just exploded #OTRAMETLIFE #MTVHottest One Direction https://t.co/pQsLUg4jK5\n"
     ]
    },
    {
     "data": {
      "text/plain": [
       "<tf.Tensor: shape=(1, 15, 128), dtype=float32, numpy=\n",
       "array([[[ 0.04989978, -0.01775097,  0.03356976, ..., -0.01038712,\n",
       "         -0.0316146 , -0.03220364],\n",
       "        [ 0.04768486,  0.0047112 , -0.0386938 , ...,  0.03773645,\n",
       "          0.00679364, -0.01465812],\n",
       "        [ 0.00096428, -0.00575931,  0.00624223, ...,  0.03408844,\n",
       "          0.02009357, -0.00168105],\n",
       "        ...,\n",
       "        [ 0.04954368,  0.04012064,  0.04073628, ...,  0.04012457,\n",
       "         -0.02985697, -0.0302019 ],\n",
       "        [ 0.04954368,  0.04012064,  0.04073628, ...,  0.04012457,\n",
       "         -0.02985697, -0.0302019 ],\n",
       "        [ 0.04954368,  0.04012064,  0.04073628, ...,  0.04012457,\n",
       "         -0.02985697, -0.0302019 ]]], dtype=float32)>"
      ]
     },
     "execution_count": 266,
     "metadata": {},
     "output_type": "execute_result"
    }
   ],
   "source": [
    "# Get a ranomd sentence from the training set\n",
    "random_sentences = random.choice(train_sentences)\n",
    "\n",
    "print(f\"Original sentences: {random_sentences}\")\n",
    "\n",
    "# Embed the random sentences\n",
    "sample_embde = embedding(text_vectorizer([random_sentences]))\n",
    "sample_embde"
   ]
  },
  {
   "cell_type": "code",
   "execution_count": 267,
   "metadata": {},
   "outputs": [
    {
     "data": {
      "text/plain": [
       "(<tf.Tensor: shape=(128,), dtype=float32, numpy=\n",
       " array([ 4.98997830e-02, -1.77509673e-02,  3.35697643e-02, -1.90079343e-02,\n",
       "         1.49899609e-02,  3.31774615e-02, -1.28445737e-02,  4.63982858e-02,\n",
       "        -1.58365145e-02,  1.40766390e-02, -3.78759131e-02,  1.34000219e-02,\n",
       "         4.00660150e-02, -1.82518251e-02,  3.25854458e-02,  2.80438699e-02,\n",
       "         3.59711684e-02,  2.57908218e-02, -7.04847649e-03, -2.60244850e-02,\n",
       "         3.13857459e-02,  3.08411457e-02, -8.48039240e-03, -3.83788720e-02,\n",
       "         1.91025250e-02,  2.47411020e-02,  3.34130265e-02, -4.75843064e-02,\n",
       "        -3.57766375e-02, -1.51394717e-02, -3.98106948e-02, -1.46465525e-02,\n",
       "        -2.68495213e-02,  1.26224421e-02,  3.50287296e-02,  1.10223778e-02,\n",
       "        -4.15838137e-02,  2.11412832e-03,  3.95480655e-02, -2.52699144e-02,\n",
       "         2.50042789e-02, -3.07913423e-02, -4.42328714e-02,  4.60444950e-02,\n",
       "        -2.69825347e-02,  3.81029136e-02,  6.67316839e-03, -4.80281115e-02,\n",
       "        -4.99750040e-02, -3.06967627e-02,  9.60388035e-03,  3.22904624e-02,\n",
       "         2.26277970e-02,  1.07153542e-02,  3.79404090e-02, -3.68184820e-02,\n",
       "        -3.32836397e-02, -1.49422400e-02,  1.27349831e-02,  1.56304576e-02,\n",
       "         2.38376148e-02,  1.36841796e-02,  2.26482786e-02, -2.03032624e-02,\n",
       "         2.67149098e-02, -4.07312401e-02, -1.33056417e-02, -2.29240190e-02,\n",
       "         3.35619114e-02,  3.62454094e-02, -3.08858398e-02, -3.23421843e-02,\n",
       "        -1.41669139e-02,  4.49423864e-03,  5.85656241e-03, -2.29902193e-03,\n",
       "        -4.72907908e-02, -1.38568878e-02, -4.73958366e-02,  2.76661552e-02,\n",
       "         1.07798465e-02,  3.54395770e-02,  1.49898864e-02, -4.87604737e-02,\n",
       "        -7.58282840e-05,  2.42767371e-02,  4.07454707e-02,  1.09894499e-02,\n",
       "        -9.13751125e-03, -3.93160209e-02,  1.93840154e-02,  2.59297006e-02,\n",
       "         1.63472556e-02, -1.82973370e-02, -1.57394186e-02,  2.85065211e-02,\n",
       "        -1.98438652e-02, -4.86495346e-03,  3.89469378e-02, -9.85107571e-03,\n",
       "         2.12728046e-02,  1.22703798e-02,  3.13731469e-02,  2.52938308e-02,\n",
       "         4.93430756e-02,  9.60019976e-03, -4.51090932e-02,  2.38033645e-02,\n",
       "         3.88538577e-02,  2.60524638e-02, -1.82347894e-02,  2.31776573e-02,\n",
       "         5.01265377e-03,  1.59886219e-02,  4.04573195e-02,  1.73751153e-02,\n",
       "         2.24845670e-02, -1.71613097e-02, -3.21106464e-02, -7.15199858e-03,\n",
       "         4.56006564e-02,  1.96203254e-02, -8.36942345e-03, -2.48892661e-02,\n",
       "        -3.42044458e-02, -1.03871226e-02, -3.16146016e-02, -3.22036371e-02],\n",
       "       dtype=float32)>,\n",
       " TensorShape([128]),\n",
       " 'M')"
      ]
     },
     "execution_count": 267,
     "metadata": {},
     "output_type": "execute_result"
    }
   ],
   "source": [
    "# Check out a single token's embedding\n",
    "sample_embde[0][0], sample_embde[0][0].shape, random_sentences[0]"
   ]
  },
  {
   "cell_type": "markdown",
   "metadata": {},
   "source": [
    "## Modeling a text dataset\n",
    "\n",
    "Experiments:\n",
    "\n",
    "* Model 0: Naive Bayes\n",
    "* Model 1: Feed-forward neural network\n",
    "* Model 2: LSTM model\n",
    "* Model 3: GRU model\n",
    "* Model 4: Bidirectional LSTM model\n",
    "* Model 5: 1D Convolutional Neural Network\n",
    "* Model 6: Tensorflow Hub pretrained fetaure extractor\n",
    "* Model 7: Same as Model 6 but with 10% of the data"
   ]
  },
  {
   "cell_type": "markdown",
   "metadata": {},
   "source": [
    "### Model 0: Getting a baseline\n",
    "\n",
    "> **Note**: It is common practice to use non-DL algorithm as a baseline because of their speed and then alter using DL to see if you can improve upon them"
   ]
  },
  {
   "cell_type": "code",
   "execution_count": 268,
   "metadata": {},
   "outputs": [
    {
     "data": {
      "text/html": [
       "<style>#sk-container-id-2 {color: black;}#sk-container-id-2 pre{padding: 0;}#sk-container-id-2 div.sk-toggleable {background-color: white;}#sk-container-id-2 label.sk-toggleable__label {cursor: pointer;display: block;width: 100%;margin-bottom: 0;padding: 0.3em;box-sizing: border-box;text-align: center;}#sk-container-id-2 label.sk-toggleable__label-arrow:before {content: \"▸\";float: left;margin-right: 0.25em;color: #696969;}#sk-container-id-2 label.sk-toggleable__label-arrow:hover:before {color: black;}#sk-container-id-2 div.sk-estimator:hover label.sk-toggleable__label-arrow:before {color: black;}#sk-container-id-2 div.sk-toggleable__content {max-height: 0;max-width: 0;overflow: hidden;text-align: left;background-color: #f0f8ff;}#sk-container-id-2 div.sk-toggleable__content pre {margin: 0.2em;color: black;border-radius: 0.25em;background-color: #f0f8ff;}#sk-container-id-2 input.sk-toggleable__control:checked~div.sk-toggleable__content {max-height: 200px;max-width: 100%;overflow: auto;}#sk-container-id-2 input.sk-toggleable__control:checked~label.sk-toggleable__label-arrow:before {content: \"▾\";}#sk-container-id-2 div.sk-estimator input.sk-toggleable__control:checked~label.sk-toggleable__label {background-color: #d4ebff;}#sk-container-id-2 div.sk-label input.sk-toggleable__control:checked~label.sk-toggleable__label {background-color: #d4ebff;}#sk-container-id-2 input.sk-hidden--visually {border: 0;clip: rect(1px 1px 1px 1px);clip: rect(1px, 1px, 1px, 1px);height: 1px;margin: -1px;overflow: hidden;padding: 0;position: absolute;width: 1px;}#sk-container-id-2 div.sk-estimator {font-family: monospace;background-color: #f0f8ff;border: 1px dotted black;border-radius: 0.25em;box-sizing: border-box;margin-bottom: 0.5em;}#sk-container-id-2 div.sk-estimator:hover {background-color: #d4ebff;}#sk-container-id-2 div.sk-parallel-item::after {content: \"\";width: 100%;border-bottom: 1px solid gray;flex-grow: 1;}#sk-container-id-2 div.sk-label:hover label.sk-toggleable__label {background-color: #d4ebff;}#sk-container-id-2 div.sk-serial::before {content: \"\";position: absolute;border-left: 1px solid gray;box-sizing: border-box;top: 0;bottom: 0;left: 50%;z-index: 0;}#sk-container-id-2 div.sk-serial {display: flex;flex-direction: column;align-items: center;background-color: white;padding-right: 0.2em;padding-left: 0.2em;position: relative;}#sk-container-id-2 div.sk-item {position: relative;z-index: 1;}#sk-container-id-2 div.sk-parallel {display: flex;align-items: stretch;justify-content: center;background-color: white;position: relative;}#sk-container-id-2 div.sk-item::before, #sk-container-id-2 div.sk-parallel-item::before {content: \"\";position: absolute;border-left: 1px solid gray;box-sizing: border-box;top: 0;bottom: 0;left: 50%;z-index: -1;}#sk-container-id-2 div.sk-parallel-item {display: flex;flex-direction: column;z-index: 1;position: relative;background-color: white;}#sk-container-id-2 div.sk-parallel-item:first-child::after {align-self: flex-end;width: 50%;}#sk-container-id-2 div.sk-parallel-item:last-child::after {align-self: flex-start;width: 50%;}#sk-container-id-2 div.sk-parallel-item:only-child::after {width: 0;}#sk-container-id-2 div.sk-dashed-wrapped {border: 1px dashed gray;margin: 0 0.4em 0.5em 0.4em;box-sizing: border-box;padding-bottom: 0.4em;background-color: white;}#sk-container-id-2 div.sk-label label {font-family: monospace;font-weight: bold;display: inline-block;line-height: 1.2em;}#sk-container-id-2 div.sk-label-container {text-align: center;}#sk-container-id-2 div.sk-container {/* jupyter's `normalize.less` sets `[hidden] { display: none; }` but bootstrap.min.css set `[hidden] { display: none !important; }` so we also need the `!important` here to be able to override the default hidden behavior on the sphinx rendered scikit-learn.org. See: https://github.com/scikit-learn/scikit-learn/issues/21755 */display: inline-block !important;position: relative;}#sk-container-id-2 div.sk-text-repr-fallback {display: none;}</style><div id=\"sk-container-id-2\" class=\"sk-top-container\"><div class=\"sk-text-repr-fallback\"><pre>Pipeline(steps=[(&#x27;tfidf&#x27;, TfidfVectorizer()), (&#x27;clf&#x27;, MultinomialNB())])</pre><b>In a Jupyter environment, please rerun this cell to show the HTML representation or trust the notebook. <br />On GitHub, the HTML representation is unable to render, please try loading this page with nbviewer.org.</b></div><div class=\"sk-container\" hidden><div class=\"sk-item sk-dashed-wrapped\"><div class=\"sk-label-container\"><div class=\"sk-label sk-toggleable\"><input class=\"sk-toggleable__control sk-hidden--visually\" id=\"sk-estimator-id-4\" type=\"checkbox\" ><label for=\"sk-estimator-id-4\" class=\"sk-toggleable__label sk-toggleable__label-arrow\">Pipeline</label><div class=\"sk-toggleable__content\"><pre>Pipeline(steps=[(&#x27;tfidf&#x27;, TfidfVectorizer()), (&#x27;clf&#x27;, MultinomialNB())])</pre></div></div></div><div class=\"sk-serial\"><div class=\"sk-item\"><div class=\"sk-estimator sk-toggleable\"><input class=\"sk-toggleable__control sk-hidden--visually\" id=\"sk-estimator-id-5\" type=\"checkbox\" ><label for=\"sk-estimator-id-5\" class=\"sk-toggleable__label sk-toggleable__label-arrow\">TfidfVectorizer</label><div class=\"sk-toggleable__content\"><pre>TfidfVectorizer()</pre></div></div></div><div class=\"sk-item\"><div class=\"sk-estimator sk-toggleable\"><input class=\"sk-toggleable__control sk-hidden--visually\" id=\"sk-estimator-id-6\" type=\"checkbox\" ><label for=\"sk-estimator-id-6\" class=\"sk-toggleable__label sk-toggleable__label-arrow\">MultinomialNB</label><div class=\"sk-toggleable__content\"><pre>MultinomialNB()</pre></div></div></div></div></div></div></div>"
      ],
      "text/plain": [
       "Pipeline(steps=[('tfidf', TfidfVectorizer()), ('clf', MultinomialNB())])"
      ]
     },
     "execution_count": 268,
     "metadata": {},
     "output_type": "execute_result"
    }
   ],
   "source": [
    "from sklearn.feature_extraction.text import TfidfVectorizer\n",
    "from sklearn.naive_bayes import MultinomialNB\n",
    "from sklearn.pipeline import Pipeline\n",
    "\n",
    "# Create tokenizer and modelling pipeline\n",
    "model_0 = Pipeline([\n",
    "    (\"tfidf\", TfidfVectorizer()), # convert the text data into numerical form using tf-idf technique\n",
    "    (\"clf\", MultinomialNB()) # classifier for the text\n",
    "])\n",
    "\n",
    "# Fit the pipeline to the training data\n",
    "model_0.fit(train_sentences, train_labels)"
   ]
  },
  {
   "cell_type": "code",
   "execution_count": 269,
   "metadata": {},
   "outputs": [
    {
     "name": "stdout",
     "output_type": "stream",
     "text": [
      "Our baseline model achieves: 79.27%\n"
     ]
    }
   ],
   "source": [
    "# Evaluate our baseline model\n",
    "baseline_score = model_0.score(val_sentences, val_labels)\n",
    "print(f\"Our baseline model achieves: {baseline_score * 100 :.2f}%\")"
   ]
  },
  {
   "cell_type": "code",
   "execution_count": 270,
   "metadata": {},
   "outputs": [
    {
     "data": {
      "text/plain": [
       "array([1, 1, 1, 0, 0, 1, 1, 1, 1, 0, 0, 1, 0, 0, 0, 0, 0, 0, 0, 1])"
      ]
     },
     "execution_count": 270,
     "metadata": {},
     "output_type": "execute_result"
    }
   ],
   "source": [
    "# Make prediction\n",
    "baseline_preds = model_0.predict(val_sentences)\n",
    "baseline_preds[:20]"
   ]
  },
  {
   "cell_type": "code",
   "execution_count": 271,
   "metadata": {},
   "outputs": [],
   "source": [
    "# Create an evaluation function to evaluate the model\n",
    "# A function which returns a dictionary of accuracy, precision, recall and f1-score\n",
    "from sklearn.metrics import f1_score, accuracy_score, precision_score, recall_score\n",
    "\n",
    "def evaluation(y_true, y_pred):\n",
    "    '''\n",
    "    This function gives the evaluation of the classification model in a dictionary form (Accuracy, Precision, Recall and F1-score)\n",
    "\n",
    "    Parameters:\n",
    "        y_true: The true labels of the evaluation data\n",
    "        y_pred: The predicted labels of the evaluation data\n",
    "\n",
    "    Returns:\n",
    "        A dictionary with keys: `accuracy`, `precision`, `recall`, `f1-score`\n",
    "    '''\n",
    "\n",
    "    accuracy = accuracy_score(y_true, y_pred)\n",
    "    precision = precision_score(y_true, y_pred)\n",
    "    recall = recall_score(y_true, y_pred)\n",
    "    f1score = f1_score(y_true, y_pred, average= 'weighted') # we are using weighted  average because the dataset is slightly imbalanced\n",
    "\n",
    "    return {\n",
    "        'accuracy': accuracy,\n",
    "        'precision': precision,\n",
    "        'recall': recall,\n",
    "        'f1-score': f1score\n",
    "    }"
   ]
  },
  {
   "cell_type": "code",
   "execution_count": 272,
   "metadata": {},
   "outputs": [],
   "source": [
    "baseline_results = evaluation(y_true= val_labels, \n",
    "           y_pred= baseline_preds)"
   ]
  },
  {
   "cell_type": "markdown",
   "metadata": {},
   "source": [
    "### Model 1: A Simple dense model"
   ]
  },
  {
   "cell_type": "code",
   "execution_count": 273,
   "metadata": {},
   "outputs": [],
   "source": [
    "# Create directory to save tensorboard callback logs\n",
    "SAVED_DIR = \"model_logs\""
   ]
  },
  {
   "cell_type": "code",
   "execution_count": 274,
   "metadata": {},
   "outputs": [],
   "source": [
    "# Build model with the Functiobnal API\n",
    "\n",
    "inputs = layers.Input(shape= (1, ), dtype= tf.string)\n",
    "x = text_vectorizer(inputs) # convert text to numbers\n",
    "x = embedding(x) # convert numbers to matrix\n",
    "x = layers.GlobalAveragePooling1D(name= 'global_avg_pool_layer')(x)\n",
    "outputs = layers.Dense(1, activation= 'sigmoid', name= 'output_layer')(x)\n",
    "\n",
    "model_1 = tf.keras.Model(inputs, outputs, name= 'model_1_dense')"
   ]
  },
  {
   "cell_type": "code",
   "execution_count": 275,
   "metadata": {},
   "outputs": [
    {
     "name": "stdout",
     "output_type": "stream",
     "text": [
      "Model: \"model_1_dense\"\n",
      "_________________________________________________________________\n",
      " Layer (type)                Output Shape              Param #   \n",
      "=================================================================\n",
      " input_30 (InputLayer)       [(None, 1)]               0         \n",
      "                                                                 \n",
      " text_vectorization_3 (Text  (None, 15)                0         \n",
      " Vectorization)                                                  \n",
      "                                                                 \n",
      " embedding_1 (Embedding)     (None, 15, 128)           1280000   \n",
      "                                                                 \n",
      " global_avg_pool_layer (Glo  (None, 128)               0         \n",
      " balAveragePooling1D)                                            \n",
      "                                                                 \n",
      " output_layer (Dense)        (None, 1)                 129       \n",
      "                                                                 \n",
      "=================================================================\n",
      "Total params: 1280129 (4.88 MB)\n",
      "Trainable params: 1280129 (4.88 MB)\n",
      "Non-trainable params: 0 (0.00 Byte)\n",
      "_________________________________________________________________\n"
     ]
    }
   ],
   "source": [
    "model_1.summary()"
   ]
  },
  {
   "cell_type": "code",
   "execution_count": 276,
   "metadata": {},
   "outputs": [],
   "source": [
    "# Compile the model\n",
    "model_1.compile(loss= 'binary_crossentropy',\n",
    "                optimizer= tf.keras.optimizers.legacy.Adam(),\n",
    "                metrics= ['accuracy'])"
   ]
  },
  {
   "cell_type": "code",
   "execution_count": 277,
   "metadata": {},
   "outputs": [
    {
     "name": "stdout",
     "output_type": "stream",
     "text": [
      "Saving TensorBoard log files to: model_logs/model_1_dense/20240313-001513\n",
      "Epoch 1/5\n",
      "215/215 [==============================] - 10s 42ms/step - loss: 0.6111 - accuracy: 0.6962 - val_loss: 0.5351 - val_accuracy: 0.7625\n",
      "Epoch 2/5\n",
      "215/215 [==============================] - 5s 22ms/step - loss: 0.4428 - accuracy: 0.8159 - val_loss: 0.4686 - val_accuracy: 0.7848\n",
      "Epoch 3/5\n",
      "215/215 [==============================] - 3s 16ms/step - loss: 0.3483 - accuracy: 0.8600 - val_loss: 0.4565 - val_accuracy: 0.7861\n",
      "Epoch 4/5\n",
      "215/215 [==============================] - 3s 15ms/step - loss: 0.2849 - accuracy: 0.8904 - val_loss: 0.4606 - val_accuracy: 0.7887\n",
      "Epoch 5/5\n",
      "215/215 [==============================] - 3s 13ms/step - loss: 0.2379 - accuracy: 0.9121 - val_loss: 0.4771 - val_accuracy: 0.7887\n"
     ]
    }
   ],
   "source": [
    "model_1_history = model_1.fit(x = train_sentences,\n",
    "                              y= train_labels,\n",
    "                              epochs= 5,\n",
    "                              validation_data= (val_sentences, val_labels),\n",
    "                              callbacks= [create_tensorboard_callback(SAVED_DIR, 'model_1_dense')])"
   ]
  },
  {
   "cell_type": "code",
   "execution_count": 278,
   "metadata": {},
   "outputs": [
    {
     "name": "stdout",
     "output_type": "stream",
     "text": [
      "24/24 [==============================] - 0s 6ms/step - loss: 0.4771 - accuracy: 0.7887\n"
     ]
    },
    {
     "data": {
      "text/plain": [
       "[0.47714176774024963, 0.7887139320373535]"
      ]
     },
     "execution_count": 278,
     "metadata": {},
     "output_type": "execute_result"
    }
   ],
   "source": [
    "model_1.evaluate(val_sentences, val_labels)"
   ]
  },
  {
   "cell_type": "code",
   "execution_count": 279,
   "metadata": {},
   "outputs": [
    {
     "name": "stdout",
     "output_type": "stream",
     "text": [
      "24/24 [==============================] - 0s 6ms/step\n"
     ]
    },
    {
     "data": {
      "text/plain": [
       "(762, 1)"
      ]
     },
     "execution_count": 279,
     "metadata": {},
     "output_type": "execute_result"
    }
   ],
   "source": [
    "model_1_preds = model_1.predict(val_sentences)\n",
    "model_1_preds.shape"
   ]
  },
  {
   "cell_type": "code",
   "execution_count": 280,
   "metadata": {},
   "outputs": [],
   "source": [
    "model_1_results = evaluation(y_true= val_labels,\n",
    "           y_pred= tf.round(tf.squeeze(model_1_preds)))"
   ]
  },
  {
   "cell_type": "code",
   "execution_count": 281,
   "metadata": {},
   "outputs": [
    {
     "data": {
      "text/plain": [
       "array([False, False,  True, False])"
      ]
     },
     "execution_count": 281,
     "metadata": {},
     "output_type": "execute_result"
    }
   ],
   "source": [
    "import numpy as np\n",
    "\n",
    "np.array(list(model_1_results.values())) > np.array(list(baseline_results.values()))"
   ]
  },
  {
   "cell_type": "markdown",
   "metadata": {},
   "source": [
    "## Visualizing learned embeddings"
   ]
  },
  {
   "cell_type": "code",
   "execution_count": 282,
   "metadata": {},
   "outputs": [
    {
     "data": {
      "text/plain": [
       "(10000, ['', '[UNK]', 'the', 'a', 'in', 'to', 'of', 'and', 'i', 'is'])"
      ]
     },
     "execution_count": 282,
     "metadata": {},
     "output_type": "execute_result"
    }
   ],
   "source": [
    "# Get the vocabulary from the text vectorization\n",
    "len(words_in_vocab), words_in_vocab[:10]"
   ]
  },
  {
   "cell_type": "code",
   "execution_count": 283,
   "metadata": {},
   "outputs": [
    {
     "name": "stdout",
     "output_type": "stream",
     "text": [
      "Model: \"model_1_dense\"\n",
      "_________________________________________________________________\n",
      " Layer (type)                Output Shape              Param #   \n",
      "=================================================================\n",
      " input_30 (InputLayer)       [(None, 1)]               0         \n",
      "                                                                 \n",
      " text_vectorization_3 (Text  (None, 15)                0         \n",
      " Vectorization)                                                  \n",
      "                                                                 \n",
      " embedding_1 (Embedding)     (None, 15, 128)           1280000   \n",
      "                                                                 \n",
      " global_avg_pool_layer (Glo  (None, 128)               0         \n",
      " balAveragePooling1D)                                            \n",
      "                                                                 \n",
      " output_layer (Dense)        (None, 1)                 129       \n",
      "                                                                 \n",
      "=================================================================\n",
      "Total params: 1280129 (4.88 MB)\n",
      "Trainable params: 1280129 (4.88 MB)\n",
      "Non-trainable params: 0 (0.00 Byte)\n",
      "_________________________________________________________________\n"
     ]
    }
   ],
   "source": [
    "# Model 1 summary\n",
    "model_1.summary()"
   ]
  },
  {
   "cell_type": "markdown",
   "metadata": {},
   "source": [
    "Now we've got the embedding matrix, let's see how to visualize it. To do so, Tensorflow has a handy tool called [projector](https://projector.tensorflow.org)."
   ]
  },
  {
   "cell_type": "code",
   "execution_count": 286,
   "metadata": {},
   "outputs": [
    {
     "data": {
      "text/plain": [
       "(10000, 128)"
      ]
     },
     "execution_count": 286,
     "metadata": {},
     "output_type": "execute_result"
    }
   ],
   "source": [
    "# Get the weight matrix of the embedding layer\n",
    "embed_weights = model_1.get_layer('embedding_1').get_weights()\n",
    "embed_weights[0].shape"
   ]
  },
  {
   "cell_type": "code",
   "execution_count": 287,
   "metadata": {},
   "outputs": [],
   "source": [
    "# Create embedding files\n",
    "import io\n",
    "out_v = io.open('vectors.tsv', 'w', encoding='utf-8')\n",
    "out_m = io.open('metadata.tsv', 'w', encoding='utf-8')\n",
    "\n",
    "for index, word in enumerate(words_in_vocab):\n",
    "  if index == 0:\n",
    "    continue  # skip 0, it's padding.\n",
    "  vec = embed_weights[0][index]\n",
    "  out_v.write('\\t'.join([str(x) for x in vec]) + \"\\n\")\n",
    "  out_m.write(word + \"\\n\")\n",
    "out_v.close()\n",
    "out_m.close()"
   ]
  },
  {
   "cell_type": "markdown",
   "metadata": {},
   "source": [
    "### Model 2: LSTM\n",
    "\n",
    "LSTM = Long Short Term Memory\n",
    "\n",
    "Architecture of the model:\n",
    "\n",
    "```\n",
    "Input(text) -> Tokenize -> Embedding -> Layers -> Output\n",
    "\n",
    "```"
   ]
  },
  {
   "cell_type": "code",
   "execution_count": 288,
   "metadata": {},
   "outputs": [],
   "source": [
    "# Create an LSTM Model\n",
    "inputs = layers.Input(shape = (1, ), dtype= \"string\")\n",
    "x = text_vectorizer(inputs)\n",
    "x = embedding(x)\n",
    "x = layers.LSTM(units= 64, return_sequences= True, name= 'LSTM_layer_1')(x) # when stacking RNN cells together you need to set return_sequences = True \n",
    "# x = layers.LSTM(64, name= 'LSTM_layer_2')(x)\n",
    "x = layers.GlobalAveragePooling1D(name= 'global_avg_pool_layer')(x)\n",
    "x = layers.Dense(64, activation= 'relu', name= 'dense_layer')(x)\n",
    "outputs = layers.Dense(1, activation= 'sigmoid', name= 'output_layer')(x)\n",
    "\n",
    "model_2 = tf.keras.Model(inputs, outputs, name= 'model_2_LSTM')"
   ]
  },
  {
   "cell_type": "code",
   "execution_count": 289,
   "metadata": {},
   "outputs": [
    {
     "name": "stdout",
     "output_type": "stream",
     "text": [
      "Model: \"model_2_LSTM\"\n",
      "_________________________________________________________________\n",
      " Layer (type)                Output Shape              Param #   \n",
      "=================================================================\n",
      " input_31 (InputLayer)       [(None, 1)]               0         \n",
      "                                                                 \n",
      " text_vectorization_3 (Text  (None, 15)                0         \n",
      " Vectorization)                                                  \n",
      "                                                                 \n",
      " embedding_1 (Embedding)     (None, 15, 128)           1280000   \n",
      "                                                                 \n",
      " LSTM_layer_1 (LSTM)         (None, 15, 64)            49408     \n",
      "                                                                 \n",
      " global_avg_pool_layer (Glo  (None, 64)                0         \n",
      " balAveragePooling1D)                                            \n",
      "                                                                 \n",
      " dense_layer (Dense)         (None, 64)                4160      \n",
      "                                                                 \n",
      " output_layer (Dense)        (None, 1)                 65        \n",
      "                                                                 \n",
      "=================================================================\n",
      "Total params: 1333633 (5.09 MB)\n",
      "Trainable params: 1333633 (5.09 MB)\n",
      "Non-trainable params: 0 (0.00 Byte)\n",
      "_________________________________________________________________\n"
     ]
    }
   ],
   "source": [
    "model_2.summary()"
   ]
  },
  {
   "cell_type": "code",
   "execution_count": 290,
   "metadata": {},
   "outputs": [],
   "source": [
    "model_2.compile(loss= 'binary_crossentropy',\n",
    "                optimizer= tf.keras.optimizers.legacy.Adam(),\n",
    "                metrics= ['accuracy'])"
   ]
  },
  {
   "cell_type": "code",
   "execution_count": 291,
   "metadata": {},
   "outputs": [
    {
     "name": "stdout",
     "output_type": "stream",
     "text": [
      "Saving TensorBoard log files to: model_logs/model_2_LSTM/20240313-001729\n",
      "Epoch 1/5\n",
      "215/215 [==============================] - 15s 57ms/step - loss: 0.2259 - accuracy: 0.9174 - val_loss: 0.6295 - val_accuracy: 0.7730\n",
      "Epoch 2/5\n",
      "215/215 [==============================] - 5s 25ms/step - loss: 0.1637 - accuracy: 0.9383 - val_loss: 0.6347 - val_accuracy: 0.7717\n",
      "Epoch 3/5\n",
      "215/215 [==============================] - 5s 23ms/step - loss: 0.1324 - accuracy: 0.9489 - val_loss: 0.6512 - val_accuracy: 0.7730\n",
      "Epoch 4/5\n",
      "215/215 [==============================] - 4s 19ms/step - loss: 0.1106 - accuracy: 0.9610 - val_loss: 0.7541 - val_accuracy: 0.7664\n",
      "Epoch 5/5\n",
      "215/215 [==============================] - 4s 20ms/step - loss: 0.0868 - accuracy: 0.9670 - val_loss: 0.8412 - val_accuracy: 0.7638\n"
     ]
    }
   ],
   "source": [
    "model_2_history = model_2.fit(x = train_sentences,\n",
    "                              y = train_labels,\n",
    "                              epochs= 5,\n",
    "                              validation_data = (val_sentences, val_labels),\n",
    "                              callbacks = [create_tensorboard_callback(SAVED_DIR, 'model_2_LSTM')])"
   ]
  },
  {
   "cell_type": "code",
   "execution_count": 292,
   "metadata": {},
   "outputs": [
    {
     "name": "stdout",
     "output_type": "stream",
     "text": [
      "24/24 [==============================] - 1s 12ms/step\n"
     ]
    },
    {
     "data": {
      "text/plain": [
       "array([[0.12658313],\n",
       "       [0.52278095],\n",
       "       [0.9999987 ],\n",
       "       [0.04635713],\n",
       "       [0.00247164],\n",
       "       [0.999663  ],\n",
       "       [0.9942398 ],\n",
       "       [0.99999976],\n",
       "       [0.9999975 ],\n",
       "       [0.4291104 ]], dtype=float32)"
      ]
     },
     "execution_count": 292,
     "metadata": {},
     "output_type": "execute_result"
    }
   ],
   "source": [
    "model_2_pred = model_2.predict(val_sentences)\n",
    "model_2_pred[:10]"
   ]
  },
  {
   "cell_type": "code",
   "execution_count": 293,
   "metadata": {},
   "outputs": [
    {
     "data": {
      "text/plain": [
       "{'accuracy': 0.7637795275590551,\n",
       " 'precision': 0.7658227848101266,\n",
       " 'recall': 0.6954022988505747,\n",
       " 'f1-score': 0.7624822674694383}"
      ]
     },
     "execution_count": 293,
     "metadata": {},
     "output_type": "execute_result"
    }
   ],
   "source": [
    "model_2_results = evaluation(y_true= val_labels,\n",
    "                             y_pred= tf.squeeze(tf.round(model_2_pred)))\n",
    "model_2_results"
   ]
  },
  {
   "cell_type": "code",
   "execution_count": 294,
   "metadata": {},
   "outputs": [
    {
     "data": {
      "text/plain": [
       "array([False, False,  True, False])"
      ]
     },
     "execution_count": 294,
     "metadata": {},
     "output_type": "execute_result"
    }
   ],
   "source": [
    "np.array(list(model_2_results.values())) > np.array(list(baseline_results.values()))"
   ]
  },
  {
   "cell_type": "markdown",
   "metadata": {},
   "source": [
    "### Model 3: GRU\n",
    "\n",
    "Another popular and effective RNN component is the GRU or gated recurrent unit"
   ]
  },
  {
   "cell_type": "code",
   "execution_count": 295,
   "metadata": {},
   "outputs": [],
   "source": [
    "# Build an RNN using the GRU cell\n",
    "inputs = layers.Input(shape= (1, ), dtype= 'string')\n",
    "x = text_vectorizer(inputs)\n",
    "x = embedding(x)\n",
    "x = layers.GRU(64, name= 'GRU_layer_1')(x) # if you want to stack GRU cell return_sequences = True\n",
    "# x = layers.LSTM(42, name= 'LSTM_layer_1', return_sequences= True)(x)\n",
    "# x = layers.GRU(99, name= 'GRU_layer_2')(x)\n",
    "# x = layers.Dense(64, activation= 'relu', name= 'dense_layer_1')(x)\n",
    "# x = layers.GlobalAveragePooling1D(name= 'global_avg_pool_layer')(x)\n",
    "outputs = layers.Dense(1, activation= 'sigmoid', name= 'output_layer')(x)\n",
    "model_3 = tf.keras.Model(inputs, outputs, name= 'model_3_GRU')"
   ]
  },
  {
   "cell_type": "code",
   "execution_count": 296,
   "metadata": {},
   "outputs": [
    {
     "name": "stdout",
     "output_type": "stream",
     "text": [
      "Model: \"model_3_GRU\"\n",
      "_________________________________________________________________\n",
      " Layer (type)                Output Shape              Param #   \n",
      "=================================================================\n",
      " input_32 (InputLayer)       [(None, 1)]               0         \n",
      "                                                                 \n",
      " text_vectorization_3 (Text  (None, 15)                0         \n",
      " Vectorization)                                                  \n",
      "                                                                 \n",
      " embedding_1 (Embedding)     (None, 15, 128)           1280000   \n",
      "                                                                 \n",
      " GRU_layer_1 (GRU)           (None, 64)                37248     \n",
      "                                                                 \n",
      " output_layer (Dense)        (None, 1)                 65        \n",
      "                                                                 \n",
      "=================================================================\n",
      "Total params: 1317313 (5.03 MB)\n",
      "Trainable params: 1317313 (5.03 MB)\n",
      "Non-trainable params: 0 (0.00 Byte)\n",
      "_________________________________________________________________\n"
     ]
    }
   ],
   "source": [
    "model_3.summary()"
   ]
  },
  {
   "cell_type": "code",
   "execution_count": 297,
   "metadata": {},
   "outputs": [],
   "source": [
    "model_3.compile(loss= 'binary_crossentropy',\n",
    "                optimizer= tf.keras.optimizers.legacy.Adam(),\n",
    "                metrics= ['accuracy'])"
   ]
  },
  {
   "cell_type": "code",
   "execution_count": 298,
   "metadata": {},
   "outputs": [
    {
     "name": "stdout",
     "output_type": "stream",
     "text": [
      "Saving TensorBoard log files to: model_logs/model_3_GRU/20240313-001804\n",
      "Epoch 1/5\n",
      "215/215 [==============================] - 16s 62ms/step - loss: 0.1627 - accuracy: 0.9340 - val_loss: 0.6842 - val_accuracy: 0.7795\n",
      "Epoch 2/5\n",
      "215/215 [==============================] - 6s 26ms/step - loss: 0.0879 - accuracy: 0.9675 - val_loss: 0.9616 - val_accuracy: 0.7730\n",
      "Epoch 3/5\n",
      "215/215 [==============================] - 4s 18ms/step - loss: 0.0744 - accuracy: 0.9710 - val_loss: 0.9264 - val_accuracy: 0.7664\n",
      "Epoch 4/5\n",
      "215/215 [==============================] - 4s 18ms/step - loss: 0.0663 - accuracy: 0.9752 - val_loss: 1.0432 - val_accuracy: 0.7703\n",
      "Epoch 5/5\n",
      "215/215 [==============================] - 4s 18ms/step - loss: 0.0560 - accuracy: 0.9733 - val_loss: 1.3684 - val_accuracy: 0.7625\n"
     ]
    }
   ],
   "source": [
    "model_3_history = model_3.fit(x= train_sentences,\n",
    "                                y= train_labels,\n",
    "                                epochs= 5,\n",
    "                                validation_data= (val_sentences, val_labels),\n",
    "                                callbacks= [create_tensorboard_callback(SAVED_DIR, 'model_3_GRU')])"
   ]
  },
  {
   "cell_type": "code",
   "execution_count": 299,
   "metadata": {},
   "outputs": [
    {
     "name": "stdout",
     "output_type": "stream",
     "text": [
      "24/24 [==============================] - 1s 15ms/step\n"
     ]
    },
    {
     "data": {
      "text/plain": [
       "array([[9.59058118e-04],\n",
       "       [8.49712729e-01],\n",
       "       [9.99895215e-01],\n",
       "       [2.26361789e-02],\n",
       "       [6.16508405e-05],\n",
       "       [9.99756753e-01],\n",
       "       [9.90190387e-01],\n",
       "       [9.99942780e-01],\n",
       "       [9.99894500e-01],\n",
       "       [9.89326596e-01],\n",
       "       [1.93683532e-04],\n",
       "       [9.93660629e-01],\n",
       "       [1.30407570e-04],\n",
       "       [9.40702632e-02],\n",
       "       [4.50345033e-05],\n",
       "       [2.79155851e-04],\n",
       "       [1.54466601e-04],\n",
       "       [2.04031094e-04],\n",
       "       [9.71022807e-03],\n",
       "       [9.99842286e-01],\n",
       "       [9.99947309e-01],\n",
       "       [3.30700423e-05],\n",
       "       [9.98445570e-01],\n",
       "       [7.52834021e-04],\n",
       "       [9.99909520e-01],\n",
       "       [9.99920368e-01],\n",
       "       [2.72421486e-04],\n",
       "       [2.21908616e-04],\n",
       "       [2.06735451e-04],\n",
       "       [8.01294267e-01],\n",
       "       [9.99676585e-01],\n",
       "       [2.05354925e-04],\n",
       "       [2.39480357e-03],\n",
       "       [9.14986362e-04],\n",
       "       [9.16439533e-01],\n",
       "       [3.91476721e-01],\n",
       "       [9.99848127e-01],\n",
       "       [1.67184785e-01],\n",
       "       [5.21928864e-03],\n",
       "       [9.99908328e-01],\n",
       "       [1.59492999e-01],\n",
       "       [5.00516144e-05],\n",
       "       [4.39233482e-02],\n",
       "       [1.08117580e-04],\n",
       "       [9.26243246e-01],\n",
       "       [9.99851584e-01],\n",
       "       [9.99282181e-01],\n",
       "       [9.46910560e-01],\n",
       "       [5.30474179e-04],\n",
       "       [9.76974189e-01],\n",
       "       [1.80883729e-03],\n",
       "       [3.72907996e-01],\n",
       "       [3.00763152e-03],\n",
       "       [9.73120972e-04],\n",
       "       [8.75318766e-01],\n",
       "       [7.96629395e-03],\n",
       "       [4.70487052e-04],\n",
       "       [9.99894500e-01],\n",
       "       [2.01088900e-04],\n",
       "       [2.47087941e-04],\n",
       "       [4.26157610e-03],\n",
       "       [9.99857068e-01],\n",
       "       [9.99220610e-01],\n",
       "       [7.06136366e-03],\n",
       "       [9.99844074e-01],\n",
       "       [9.99937654e-01],\n",
       "       [9.94458079e-01],\n",
       "       [1.16476864e-01],\n",
       "       [9.98801470e-01],\n",
       "       [1.75480160e-03],\n",
       "       [3.25127365e-03],\n",
       "       [2.34921090e-02],\n",
       "       [9.99941945e-01],\n",
       "       [3.67751840e-04],\n",
       "       [8.78630817e-01],\n",
       "       [9.99240518e-01],\n",
       "       [1.03818504e-02],\n",
       "       [9.99765933e-01],\n",
       "       [2.52712578e-01],\n",
       "       [2.64717527e-02],\n",
       "       [2.53520650e-03],\n",
       "       [1.05896987e-01],\n",
       "       [9.99899864e-01],\n",
       "       [3.48909292e-04],\n",
       "       [2.84879789e-04],\n",
       "       [3.01105407e-04],\n",
       "       [1.71926411e-04],\n",
       "       [2.49677279e-04],\n",
       "       [3.15937796e-03],\n",
       "       [9.99854088e-01],\n",
       "       [9.99854326e-01],\n",
       "       [4.33021087e-05],\n",
       "       [9.68783915e-01],\n",
       "       [1.07681124e-04],\n",
       "       [9.99891520e-01],\n",
       "       [8.82970035e-01],\n",
       "       [9.98708487e-01],\n",
       "       [9.99954104e-01],\n",
       "       [9.99815881e-01],\n",
       "       [9.91670370e-01],\n",
       "       [9.99949932e-01],\n",
       "       [4.41219890e-04],\n",
       "       [4.44461075e-05],\n",
       "       [9.99236703e-01],\n",
       "       [9.99825895e-01],\n",
       "       [5.94384745e-02],\n",
       "       [9.99878645e-01],\n",
       "       [9.98686969e-01],\n",
       "       [1.78234768e-04],\n",
       "       [9.99805629e-01],\n",
       "       [9.99457300e-01],\n",
       "       [1.74729343e-04],\n",
       "       [1.73435271e-01],\n",
       "       [2.36132677e-04],\n",
       "       [1.09926666e-04],\n",
       "       [1.22880191e-02],\n",
       "       [7.09697306e-01],\n",
       "       [9.99880314e-01],\n",
       "       [4.47833416e-04],\n",
       "       [9.58854725e-05],\n",
       "       [9.99922276e-01],\n",
       "       [4.15831346e-05],\n",
       "       [9.46350992e-05],\n",
       "       [9.95652437e-01],\n",
       "       [3.12594563e-01],\n",
       "       [1.55929709e-04],\n",
       "       [9.99802291e-01],\n",
       "       [5.12980914e-05],\n",
       "       [2.57178763e-04],\n",
       "       [9.99696612e-01],\n",
       "       [2.31730388e-04],\n",
       "       [9.99922276e-01],\n",
       "       [9.99941230e-01],\n",
       "       [9.99920368e-01],\n",
       "       [9.99860525e-01],\n",
       "       [5.70690609e-04],\n",
       "       [9.99859333e-01],\n",
       "       [3.96774672e-02],\n",
       "       [1.51767198e-03],\n",
       "       [2.03584539e-04],\n",
       "       [9.99934554e-01],\n",
       "       [9.90324140e-01],\n",
       "       [9.40702632e-02],\n",
       "       [9.99768436e-01],\n",
       "       [6.21002726e-02],\n",
       "       [5.85173862e-03],\n",
       "       [5.68894648e-05],\n",
       "       [4.69182814e-05],\n",
       "       [9.87575889e-01],\n",
       "       [9.99858379e-01],\n",
       "       [1.16714618e-04],\n",
       "       [9.85510834e-03],\n",
       "       [1.41758611e-03],\n",
       "       [2.10148224e-04],\n",
       "       [1.05249486e-03],\n",
       "       [9.99737799e-01],\n",
       "       [9.95107055e-01],\n",
       "       [4.45128651e-04],\n",
       "       [9.99687076e-01],\n",
       "       [7.98081383e-05],\n",
       "       [9.99876857e-01],\n",
       "       [2.03888863e-02],\n",
       "       [1.41285565e-02],\n",
       "       [9.99365151e-01],\n",
       "       [1.22500481e-02],\n",
       "       [6.57507408e-05],\n",
       "       [9.99889612e-01],\n",
       "       [1.05831781e-02],\n",
       "       [9.99894500e-01],\n",
       "       [8.57830584e-01],\n",
       "       [9.99883771e-01],\n",
       "       [9.99443352e-01],\n",
       "       [9.99836564e-01],\n",
       "       [1.19802426e-04],\n",
       "       [9.99957561e-01],\n",
       "       [2.73398793e-04],\n",
       "       [4.12370777e-03],\n",
       "       [2.77336501e-03],\n",
       "       [5.72879016e-01],\n",
       "       [9.99883652e-01],\n",
       "       [1.44454229e-04],\n",
       "       [9.98258531e-01],\n",
       "       [9.99827087e-01],\n",
       "       [9.99909401e-01],\n",
       "       [9.99927163e-01],\n",
       "       [9.63339990e-05],\n",
       "       [1.27102889e-04],\n",
       "       [9.99960065e-01],\n",
       "       [4.52756904e-05],\n",
       "       [4.76716014e-05],\n",
       "       [9.28178371e-04],\n",
       "       [9.99703348e-01],\n",
       "       [1.41343407e-04],\n",
       "       [1.11776339e-04],\n",
       "       [5.87201357e-05],\n",
       "       [2.68000760e-04],\n",
       "       [2.10193117e-04],\n",
       "       [3.93819530e-04],\n",
       "       [9.99850273e-01],\n",
       "       [6.18106918e-04],\n",
       "       [1.36420634e-02],\n",
       "       [9.99891996e-01],\n",
       "       [9.99876499e-01],\n",
       "       [2.51509412e-03],\n",
       "       [1.09672343e-04],\n",
       "       [9.99853253e-01],\n",
       "       [9.99836922e-01],\n",
       "       [9.99697804e-01],\n",
       "       [1.85498103e-01],\n",
       "       [9.92117941e-01],\n",
       "       [1.62691414e-01],\n",
       "       [9.99860406e-01],\n",
       "       [7.48149032e-05],\n",
       "       [7.97359622e-04],\n",
       "       [6.74362454e-05],\n",
       "       [5.09272650e-05],\n",
       "       [9.99869227e-01],\n",
       "       [9.98247266e-01],\n",
       "       [9.99493957e-01],\n",
       "       [2.98874408e-01],\n",
       "       [9.74922776e-01],\n",
       "       [3.74280801e-03],\n",
       "       [1.81548740e-03],\n",
       "       [6.43623935e-04],\n",
       "       [9.99851346e-01],\n",
       "       [9.35124233e-03],\n",
       "       [2.63813743e-03],\n",
       "       [9.99942422e-01],\n",
       "       [9.99784172e-01],\n",
       "       [4.38277870e-01],\n",
       "       [7.93127911e-05],\n",
       "       [1.14934589e-03],\n",
       "       [9.99718368e-01],\n",
       "       [3.44628960e-01],\n",
       "       [5.14458597e-01],\n",
       "       [3.14889220e-03],\n",
       "       [3.72061402e-01],\n",
       "       [6.78202271e-01],\n",
       "       [3.65936459e-04],\n",
       "       [2.35383006e-04],\n",
       "       [9.99475420e-01],\n",
       "       [3.48317274e-03],\n",
       "       [9.99874234e-01],\n",
       "       [9.99860048e-01],\n",
       "       [2.09540565e-04],\n",
       "       [6.35554534e-05],\n",
       "       [9.99837518e-01],\n",
       "       [8.82308741e-05],\n",
       "       [1.13965233e-03],\n",
       "       [3.94815691e-02],\n",
       "       [1.11811096e-04],\n",
       "       [9.99831200e-01],\n",
       "       [4.27921732e-05],\n",
       "       [1.47270272e-03],\n",
       "       [9.99846935e-01],\n",
       "       [4.70425375e-02],\n",
       "       [9.99884248e-01],\n",
       "       [9.99942183e-01],\n",
       "       [2.11460125e-02],\n",
       "       [1.19898432e-04],\n",
       "       [1.06222183e-03],\n",
       "       [2.31624581e-04],\n",
       "       [3.08796698e-05],\n",
       "       [9.99520063e-01],\n",
       "       [9.99889851e-01],\n",
       "       [1.96635928e-02],\n",
       "       [9.99835134e-01],\n",
       "       [8.81113883e-05],\n",
       "       [1.02257531e-03],\n",
       "       [1.17837597e-04],\n",
       "       [1.40139222e-04],\n",
       "       [8.49394055e-05],\n",
       "       [9.99851108e-01],\n",
       "       [8.21774942e-04],\n",
       "       [7.08194930e-05],\n",
       "       [9.99835014e-01],\n",
       "       [5.54785038e-05],\n",
       "       [1.42809644e-04],\n",
       "       [9.99846697e-01],\n",
       "       [1.34586357e-04],\n",
       "       [1.10247945e-02],\n",
       "       [8.37510597e-05],\n",
       "       [9.99850154e-01],\n",
       "       [8.78462136e-01],\n",
       "       [5.68156064e-01],\n",
       "       [3.32002062e-03],\n",
       "       [9.99677896e-01],\n",
       "       [7.06712250e-04],\n",
       "       [9.99795735e-01],\n",
       "       [5.63280599e-04],\n",
       "       [9.98255193e-01],\n",
       "       [9.98904467e-01],\n",
       "       [9.98634994e-01],\n",
       "       [2.38827560e-02],\n",
       "       [3.67506524e-04],\n",
       "       [4.53622162e-01],\n",
       "       [3.23034660e-03],\n",
       "       [6.58799137e-04],\n",
       "       [1.78881222e-04],\n",
       "       [5.42323887e-02],\n",
       "       [3.81078680e-05],\n",
       "       [3.16097692e-04],\n",
       "       [1.06499884e-02],\n",
       "       [9.99881387e-01],\n",
       "       [5.18613844e-04],\n",
       "       [1.77527999e-03],\n",
       "       [4.40952629e-02],\n",
       "       [8.34577903e-02],\n",
       "       [1.72005191e-01],\n",
       "       [1.17114621e-04],\n",
       "       [7.10084350e-05],\n",
       "       [9.99799669e-01],\n",
       "       [1.34456173e-01],\n",
       "       [2.55198270e-01],\n",
       "       [9.99952912e-01],\n",
       "       [2.23204726e-04],\n",
       "       [5.51354825e-01],\n",
       "       [3.81814763e-02],\n",
       "       [1.21330190e-03],\n",
       "       [7.21769035e-02],\n",
       "       [1.87293845e-04],\n",
       "       [1.69803610e-03],\n",
       "       [9.99753177e-01],\n",
       "       [6.37696683e-01],\n",
       "       [9.99858260e-01],\n",
       "       [1.27009064e-01],\n",
       "       [7.21736287e-05],\n",
       "       [9.99869347e-01],\n",
       "       [1.24907281e-04],\n",
       "       [9.99887466e-01],\n",
       "       [3.42634448e-04],\n",
       "       [1.34099580e-04],\n",
       "       [9.99862671e-01],\n",
       "       [1.80518240e-04],\n",
       "       [1.07876607e-04],\n",
       "       [9.99868512e-01],\n",
       "       [1.12742651e-04],\n",
       "       [9.32049705e-04],\n",
       "       [9.46408570e-01],\n",
       "       [9.99644041e-01],\n",
       "       [4.79647606e-05],\n",
       "       [6.38070283e-04],\n",
       "       [9.99850154e-01],\n",
       "       [9.99906063e-01],\n",
       "       [9.99735892e-01],\n",
       "       [1.06995292e-01],\n",
       "       [9.99109685e-01],\n",
       "       [9.99615908e-01],\n",
       "       [8.18852219e-04],\n",
       "       [1.83517710e-04],\n",
       "       [9.27504734e-04],\n",
       "       [2.61907815e-03],\n",
       "       [8.94122350e-05],\n",
       "       [4.20784252e-03],\n",
       "       [2.68700682e-02],\n",
       "       [7.55562505e-05],\n",
       "       [9.99847412e-01],\n",
       "       [9.99920368e-01],\n",
       "       [9.99924421e-01],\n",
       "       [2.83295027e-04],\n",
       "       [2.11037561e-01],\n",
       "       [3.28865983e-02],\n",
       "       [2.23951656e-02],\n",
       "       [9.97702181e-01],\n",
       "       [3.15638751e-01],\n",
       "       [1.36200659e-04],\n",
       "       [1.10176319e-04],\n",
       "       [3.59854836e-04],\n",
       "       [9.98988211e-01],\n",
       "       [1.21176316e-04],\n",
       "       [4.49873647e-03],\n",
       "       [3.17608996e-04],\n",
       "       [3.07720504e-04],\n",
       "       [1.79012585e-02],\n",
       "       [9.97036695e-01],\n",
       "       [3.01717371e-02],\n",
       "       [1.55609639e-04],\n",
       "       [8.65112583e-04],\n",
       "       [1.04624465e-04],\n",
       "       [9.99894142e-01],\n",
       "       [9.99829292e-01],\n",
       "       [9.98855352e-01],\n",
       "       [9.99680161e-01],\n",
       "       [5.68503056e-05],\n",
       "       [9.73448217e-01],\n",
       "       [9.99883056e-01],\n",
       "       [9.64518785e-01],\n",
       "       [8.09495524e-03],\n",
       "       [9.99827325e-01],\n",
       "       [5.39822213e-04],\n",
       "       [9.99914527e-01],\n",
       "       [1.46276308e-02],\n",
       "       [5.42741793e-04],\n",
       "       [6.37023449e-01],\n",
       "       [1.85583562e-01],\n",
       "       [9.99832988e-01],\n",
       "       [1.36754951e-02],\n",
       "       [4.49432919e-05],\n",
       "       [1.95021668e-04],\n",
       "       [3.15638751e-01],\n",
       "       [9.99963880e-01],\n",
       "       [4.74826338e-05],\n",
       "       [1.87426880e-01],\n",
       "       [9.99930620e-01],\n",
       "       [3.73041694e-05],\n",
       "       [9.99922276e-01],\n",
       "       [7.79851762e-05],\n",
       "       [3.06941976e-04],\n",
       "       [1.23743594e-04],\n",
       "       [9.99824822e-01],\n",
       "       [9.99786556e-01],\n",
       "       [7.33218447e-04],\n",
       "       [9.50437825e-05],\n",
       "       [9.94998693e-01],\n",
       "       [9.99880910e-01],\n",
       "       [5.20236194e-01],\n",
       "       [1.15226379e-04],\n",
       "       [1.75410428e-03],\n",
       "       [3.66824776e-01],\n",
       "       [9.85732331e-05],\n",
       "       [9.99902248e-01],\n",
       "       [9.09946680e-01],\n",
       "       [9.99927044e-01],\n",
       "       [9.99871731e-01],\n",
       "       [2.62263697e-03],\n",
       "       [4.40799981e-01],\n",
       "       [6.63616054e-04],\n",
       "       [9.99826133e-01],\n",
       "       [1.98674828e-01],\n",
       "       [9.86724734e-01],\n",
       "       [1.11075409e-03],\n",
       "       [1.34894717e-03],\n",
       "       [1.47359096e-04],\n",
       "       [7.76636880e-05],\n",
       "       [2.19741520e-02],\n",
       "       [1.01640134e-03],\n",
       "       [9.99328256e-01],\n",
       "       [6.17984100e-04],\n",
       "       [9.99932289e-01],\n",
       "       [9.99903679e-01],\n",
       "       [2.84321653e-03],\n",
       "       [8.49712729e-01],\n",
       "       [6.17657031e-04],\n",
       "       [1.25309787e-04],\n",
       "       [3.47740620e-01],\n",
       "       [9.99879241e-01],\n",
       "       [4.99822805e-03],\n",
       "       [1.00750662e-02],\n",
       "       [4.70506384e-05],\n",
       "       [1.22403940e-02],\n",
       "       [3.09810457e-05],\n",
       "       [9.99896526e-01],\n",
       "       [9.98777688e-01],\n",
       "       [9.99874711e-01],\n",
       "       [9.98657227e-01],\n",
       "       [9.98419285e-01],\n",
       "       [1.00092944e-02],\n",
       "       [6.00054082e-05],\n",
       "       [9.98377442e-01],\n",
       "       [9.99726593e-01],\n",
       "       [9.99878526e-01],\n",
       "       [8.03500079e-05],\n",
       "       [2.83679832e-03],\n",
       "       [1.48686551e-04],\n",
       "       [9.99883771e-01],\n",
       "       [9.99877691e-01],\n",
       "       [4.41978656e-04],\n",
       "       [3.24676894e-02],\n",
       "       [9.99938130e-01],\n",
       "       [3.45635228e-04],\n",
       "       [9.57257522e-04],\n",
       "       [9.99192178e-01],\n",
       "       [1.29699940e-04],\n",
       "       [2.35906060e-04],\n",
       "       [9.99195158e-01],\n",
       "       [1.46503791e-01],\n",
       "       [2.61205696e-02],\n",
       "       [9.99951005e-01],\n",
       "       [1.12662485e-04],\n",
       "       [5.94819663e-04],\n",
       "       [4.95436361e-05],\n",
       "       [7.10340319e-05],\n",
       "       [1.24076541e-04],\n",
       "       [9.99874234e-01],\n",
       "       [1.02691592e-04],\n",
       "       [4.99185473e-01],\n",
       "       [9.99413610e-01],\n",
       "       [1.03303744e-02],\n",
       "       [9.66611225e-03],\n",
       "       [5.96194877e-05],\n",
       "       [2.44631345e-04],\n",
       "       [9.99912262e-01],\n",
       "       [9.99838233e-01],\n",
       "       [2.54548271e-03],\n",
       "       [1.54367066e-04],\n",
       "       [1.53005065e-03],\n",
       "       [8.50382858e-05],\n",
       "       [9.99815524e-01],\n",
       "       [1.33833237e-04],\n",
       "       [9.99806225e-01],\n",
       "       [9.99706209e-01],\n",
       "       [9.91858542e-01],\n",
       "       [9.99368727e-01],\n",
       "       [1.76265631e-02],\n",
       "       [3.87938158e-03],\n",
       "       [2.52799393e-04],\n",
       "       [4.26031351e-02],\n",
       "       [7.91677773e-01],\n",
       "       [5.39325893e-01],\n",
       "       [5.66109382e-02],\n",
       "       [3.18908249e-04],\n",
       "       [4.74308581e-05],\n",
       "       [1.07930930e-04],\n",
       "       [1.69319287e-03],\n",
       "       [8.94278381e-03],\n",
       "       [3.04172095e-02],\n",
       "       [9.99917984e-01],\n",
       "       [9.99825656e-01],\n",
       "       [8.82970035e-01],\n",
       "       [9.99901772e-01],\n",
       "       [3.47186648e-03],\n",
       "       [2.87633186e-04],\n",
       "       [9.99820054e-01],\n",
       "       [2.39303056e-03],\n",
       "       [2.71180732e-04],\n",
       "       [1.84610829e-01],\n",
       "       [9.93797719e-01],\n",
       "       [3.77162833e-05],\n",
       "       [8.46228898e-01],\n",
       "       [9.95226979e-01],\n",
       "       [9.99718606e-01],\n",
       "       [9.99843597e-01],\n",
       "       [2.61458888e-04],\n",
       "       [2.92055029e-03],\n",
       "       [9.96850073e-01],\n",
       "       [7.41093027e-05],\n",
       "       [1.46634388e-03],\n",
       "       [1.34908361e-02],\n",
       "       [9.98796821e-01],\n",
       "       [9.98392522e-01],\n",
       "       [5.47586242e-04],\n",
       "       [4.01917991e-04],\n",
       "       [9.99198496e-01],\n",
       "       [1.54863752e-04],\n",
       "       [5.04166528e-04],\n",
       "       [1.24898230e-04],\n",
       "       [4.44652557e-01],\n",
       "       [9.99906301e-01],\n",
       "       [9.99784768e-01],\n",
       "       [1.64599565e-03],\n",
       "       [9.99896884e-01],\n",
       "       [9.99885917e-01],\n",
       "       [4.15112627e-05],\n",
       "       [9.99854565e-01],\n",
       "       [4.58419928e-03],\n",
       "       [9.99536991e-01],\n",
       "       [1.19430281e-01],\n",
       "       [8.14324012e-04],\n",
       "       [1.01603582e-04],\n",
       "       [9.24712003e-05],\n",
       "       [2.12436586e-04],\n",
       "       [6.96339703e-05],\n",
       "       [3.11482131e-01],\n",
       "       [3.63219180e-03],\n",
       "       [9.99868393e-01],\n",
       "       [2.32030186e-04],\n",
       "       [9.98345852e-01],\n",
       "       [9.98641312e-01],\n",
       "       [5.18506335e-04],\n",
       "       [1.10089779e-04],\n",
       "       [9.99940276e-01],\n",
       "       [7.66632031e-04],\n",
       "       [9.99867439e-01],\n",
       "       [1.78725034e-01],\n",
       "       [4.48604161e-03],\n",
       "       [4.30684179e-01],\n",
       "       [2.12048064e-04],\n",
       "       [3.24246846e-02],\n",
       "       [9.99885917e-01],\n",
       "       [6.95681956e-05],\n",
       "       [1.73183784e-04],\n",
       "       [1.13811083e-02],\n",
       "       [9.99888182e-01],\n",
       "       [1.36549748e-03],\n",
       "       [1.51991131e-04],\n",
       "       [9.99460995e-01],\n",
       "       [5.57105013e-05],\n",
       "       [1.09966495e-04],\n",
       "       [1.21642173e-04],\n",
       "       [1.79288313e-01],\n",
       "       [3.16295744e-04],\n",
       "       [3.48933369e-01],\n",
       "       [8.44586670e-01],\n",
       "       [1.74521445e-03],\n",
       "       [1.53741581e-04],\n",
       "       [1.15659204e-03],\n",
       "       [7.24324636e-05],\n",
       "       [9.99840736e-01],\n",
       "       [9.99679685e-01],\n",
       "       [3.33440155e-02],\n",
       "       [7.13447444e-05],\n",
       "       [9.22783569e-04],\n",
       "       [9.99920487e-01],\n",
       "       [9.83878851e-01],\n",
       "       [9.99949574e-01],\n",
       "       [8.64595408e-04],\n",
       "       [9.99832034e-01],\n",
       "       [1.00362253e-04],\n",
       "       [9.96357977e-01],\n",
       "       [9.94474471e-01],\n",
       "       [5.87303803e-05],\n",
       "       [9.99932170e-01],\n",
       "       [3.24554654e-04],\n",
       "       [9.99598205e-01],\n",
       "       [9.99945164e-01],\n",
       "       [2.77274498e-03],\n",
       "       [7.39224051e-05],\n",
       "       [2.78081030e-01],\n",
       "       [7.19482414e-05],\n",
       "       [5.51608438e-03],\n",
       "       [9.99853253e-01],\n",
       "       [2.84605116e-01],\n",
       "       [9.99814451e-01],\n",
       "       [3.39148939e-02],\n",
       "       [9.99845743e-01],\n",
       "       [9.98621583e-01],\n",
       "       [1.27860159e-03],\n",
       "       [6.26358524e-05],\n",
       "       [9.93344665e-01],\n",
       "       [8.87624410e-05],\n",
       "       [1.41296044e-01],\n",
       "       [9.99892354e-01],\n",
       "       [9.99720871e-01],\n",
       "       [9.99922156e-01],\n",
       "       [9.99798119e-01],\n",
       "       [3.08490992e-01],\n",
       "       [8.36035192e-01],\n",
       "       [7.26668586e-05],\n",
       "       [9.80407894e-01],\n",
       "       [9.99426365e-01],\n",
       "       [9.99820769e-01],\n",
       "       [1.55884525e-04],\n",
       "       [9.99726713e-01],\n",
       "       [9.99872684e-01],\n",
       "       [4.38754767e-04],\n",
       "       [4.14775102e-04],\n",
       "       [5.66109382e-02],\n",
       "       [3.81044811e-04],\n",
       "       [9.81747925e-01],\n",
       "       [9.99564707e-01],\n",
       "       [9.99874473e-01],\n",
       "       [2.25409254e-04],\n",
       "       [7.26092330e-05],\n",
       "       [8.29642013e-05],\n",
       "       [2.33665071e-02],\n",
       "       [1.41180083e-01],\n",
       "       [3.84780415e-03],\n",
       "       [9.99378681e-01],\n",
       "       [6.16817706e-05],\n",
       "       [5.42139448e-02],\n",
       "       [5.54349693e-03],\n",
       "       [1.70705095e-02],\n",
       "       [9.99844670e-01],\n",
       "       [2.38544890e-04],\n",
       "       [9.99642372e-01],\n",
       "       [8.48319149e-04],\n",
       "       [2.82353158e-05],\n",
       "       [1.37740513e-04],\n",
       "       [9.99912024e-01],\n",
       "       [9.81055558e-01],\n",
       "       [6.10384741e-05],\n",
       "       [1.60253435e-01],\n",
       "       [7.50685215e-01],\n",
       "       [6.52123563e-05],\n",
       "       [9.99847651e-01],\n",
       "       [5.24551608e-04],\n",
       "       [9.97221589e-01],\n",
       "       [4.78173159e-02],\n",
       "       [2.70946068e-04],\n",
       "       [3.39012921e-01],\n",
       "       [1.76126957e-02],\n",
       "       [8.58483720e-04],\n",
       "       [9.99926567e-01],\n",
       "       [5.35839610e-03],\n",
       "       [9.43334341e-01],\n",
       "       [9.99935865e-01],\n",
       "       [2.83203274e-01],\n",
       "       [7.40350187e-02],\n",
       "       [3.77162833e-05],\n",
       "       [2.10116684e-01],\n",
       "       [9.96329129e-01],\n",
       "       [9.99922276e-01],\n",
       "       [9.99787867e-01],\n",
       "       [2.49940599e-03],\n",
       "       [9.99896049e-01],\n",
       "       [3.03821266e-01],\n",
       "       [9.99652147e-01],\n",
       "       [3.03821266e-01],\n",
       "       [9.99898434e-01],\n",
       "       [7.29150124e-05],\n",
       "       [2.90563796e-03],\n",
       "       [6.13062293e-05],\n",
       "       [9.99912381e-01],\n",
       "       [5.57311112e-04],\n",
       "       [1.65556662e-03],\n",
       "       [8.65202674e-05],\n",
       "       [1.71763392e-03],\n",
       "       [2.51423538e-04],\n",
       "       [1.57804185e-04],\n",
       "       [3.05818021e-03],\n",
       "       [2.59920896e-04],\n",
       "       [4.62309952e-04],\n",
       "       [9.99577463e-01],\n",
       "       [4.28448344e-04],\n",
       "       [4.55498276e-03],\n",
       "       [3.85147374e-04],\n",
       "       [4.90812381e-05],\n",
       "       [1.45195991e-01],\n",
       "       [9.99734223e-01],\n",
       "       [1.97560090e-04],\n",
       "       [4.23864834e-02],\n",
       "       [1.05994288e-03],\n",
       "       [9.99776900e-01],\n",
       "       [9.99850512e-01],\n",
       "       [9.07102221e-05],\n",
       "       [5.65047267e-05],\n",
       "       [7.71768609e-05],\n",
       "       [2.66393272e-05],\n",
       "       [9.99894500e-01],\n",
       "       [4.90812381e-05],\n",
       "       [1.10131735e-03],\n",
       "       [9.99750078e-01],\n",
       "       [9.99880075e-01],\n",
       "       [9.99882102e-01],\n",
       "       [9.99943137e-01],\n",
       "       [9.99978185e-01],\n",
       "       [2.60046829e-04],\n",
       "       [1.78125018e-04],\n",
       "       [3.83899845e-02],\n",
       "       [9.99270737e-01],\n",
       "       [9.99896049e-01],\n",
       "       [9.73777831e-01],\n",
       "       [4.81675408e-04],\n",
       "       [9.99743283e-01],\n",
       "       [8.96693408e-01],\n",
       "       [4.42828423e-05],\n",
       "       [9.01143867e-05],\n",
       "       [2.03155144e-03],\n",
       "       [2.65896227e-03],\n",
       "       [6.35896504e-05],\n",
       "       [4.05882631e-04],\n",
       "       [9.94357169e-01],\n",
       "       [9.99928832e-01],\n",
       "       [1.22718688e-04],\n",
       "       [9.99892592e-01],\n",
       "       [9.97378349e-01],\n",
       "       [3.28253536e-03],\n",
       "       [1.96921150e-03],\n",
       "       [3.68388221e-02],\n",
       "       [8.72434914e-01],\n",
       "       [2.82491033e-04],\n",
       "       [1.14633258e-04]], dtype=float32)"
      ]
     },
     "execution_count": 299,
     "metadata": {},
     "output_type": "execute_result"
    }
   ],
   "source": [
    "model_3_pred = model_3.predict(val_sentences)\n",
    "model_3_pred"
   ]
  },
  {
   "cell_type": "code",
   "execution_count": 300,
   "metadata": {},
   "outputs": [
    {
     "data": {
      "text/plain": [
       "{'accuracy': 0.7624671916010499,\n",
       " 'precision': 0.7755775577557755,\n",
       " 'recall': 0.6752873563218391,\n",
       " 'f1-score': 0.7603795119224996}"
      ]
     },
     "execution_count": 300,
     "metadata": {},
     "output_type": "execute_result"
    }
   ],
   "source": [
    "model_3_results = evaluation(val_labels,\n",
    "                             tf.squeeze(tf.round(model_3_pred)))\n",
    "model_3_results"
   ]
  },
  {
   "cell_type": "code",
   "execution_count": 301,
   "metadata": {},
   "outputs": [
    {
     "data": {
      "text/plain": [
       "array([False, False,  True, False])"
      ]
     },
     "execution_count": 301,
     "metadata": {},
     "output_type": "execute_result"
    }
   ],
   "source": [
    "np.array(list(model_3_results.values())) > np.array(list(baseline_results.values()))"
   ]
  },
  {
   "cell_type": "markdown",
   "metadata": {},
   "source": [
    "### Model 4: Bidirectional RNN"
   ]
  },
  {
   "cell_type": "code",
   "execution_count": 302,
   "metadata": {},
   "outputs": [],
   "source": [
    "# Create bidirectional model\n",
    "inputs = layers.Input(shape= (1, ), dtype= 'string')\n",
    "x = text_vectorizer(inputs)\n",
    "x = embedding(x)\n",
    "x = layers.Bidirectional(layers.LSTM(64, return_sequences= True), name= 'birectional_LSTM_layer_1')(x)\n",
    "x = layers.Bidirectional(layers.GRU(64), name= 'bidirectional_LSTM_layer_2')(x)\n",
    "# x = layers.GlobalAveragePooling1D(name= 'global_avg_pool_layer')(x)\n",
    "outputs = layers.Dense(1, activation= 'sigmoid', name= 'output_layer')(x)\n",
    "\n",
    "model_4 = tf.keras.Model(inputs, outputs, name= 'model_4_bidirectional')"
   ]
  },
  {
   "cell_type": "code",
   "execution_count": 303,
   "metadata": {},
   "outputs": [
    {
     "name": "stdout",
     "output_type": "stream",
     "text": [
      "Model: \"model_4_bidirectional\"\n",
      "_________________________________________________________________\n",
      " Layer (type)                Output Shape              Param #   \n",
      "=================================================================\n",
      " input_33 (InputLayer)       [(None, 1)]               0         \n",
      "                                                                 \n",
      " text_vectorization_3 (Text  (None, 15)                0         \n",
      " Vectorization)                                                  \n",
      "                                                                 \n",
      " embedding_1 (Embedding)     (None, 15, 128)           1280000   \n",
      "                                                                 \n",
      " birectional_LSTM_layer_1 (  (None, 15, 128)           98816     \n",
      " Bidirectional)                                                  \n",
      "                                                                 \n",
      " bidirectional_LSTM_layer_2  (None, 128)               74496     \n",
      "  (Bidirectional)                                                \n",
      "                                                                 \n",
      " output_layer (Dense)        (None, 1)                 129       \n",
      "                                                                 \n",
      "=================================================================\n",
      "Total params: 1453441 (5.54 MB)\n",
      "Trainable params: 1453441 (5.54 MB)\n",
      "Non-trainable params: 0 (0.00 Byte)\n",
      "_________________________________________________________________\n"
     ]
    }
   ],
   "source": [
    "model_4.summary()"
   ]
  },
  {
   "cell_type": "code",
   "execution_count": 304,
   "metadata": {},
   "outputs": [],
   "source": [
    "model_4.compile(loss= 'binary_crossentropy',\n",
    "                optimizer= tf.keras.optimizers.legacy.Adam(),\n",
    "                metrics= ['accuracy'])"
   ]
  },
  {
   "cell_type": "code",
   "execution_count": 305,
   "metadata": {},
   "outputs": [
    {
     "name": "stdout",
     "output_type": "stream",
     "text": [
      "Saving TensorBoard log files to: model_logs/model_4_bidirectional/20240313-001839\n",
      "Epoch 1/5\n",
      "215/215 [==============================] - 35s 115ms/step - loss: 0.1030 - accuracy: 0.9673 - val_loss: 1.0546 - val_accuracy: 0.7664\n",
      "Epoch 2/5\n",
      "215/215 [==============================] - 12s 55ms/step - loss: 0.0532 - accuracy: 0.9761 - val_loss: 1.3500 - val_accuracy: 0.7717\n",
      "Epoch 3/5\n",
      "215/215 [==============================] - 10s 45ms/step - loss: 0.0465 - accuracy: 0.9778 - val_loss: 1.4030 - val_accuracy: 0.7559\n",
      "Epoch 4/5\n",
      "215/215 [==============================] - 10s 45ms/step - loss: 0.0435 - accuracy: 0.9788 - val_loss: 1.2636 - val_accuracy: 0.7546\n",
      "Epoch 5/5\n",
      "215/215 [==============================] - 9s 40ms/step - loss: 0.0402 - accuracy: 0.9816 - val_loss: 1.6277 - val_accuracy: 0.7625\n"
     ]
    }
   ],
   "source": [
    "model_4_history = model_4.fit(x= train_sentences,\n",
    "            y= train_labels,\n",
    "            epochs= 5,\n",
    "            validation_data= (val_sentences, val_labels),\n",
    "            callbacks= [create_tensorboard_callback(SAVED_DIR, 'model_4_bidirectional')])"
   ]
  },
  {
   "cell_type": "code",
   "execution_count": 306,
   "metadata": {},
   "outputs": [
    {
     "name": "stdout",
     "output_type": "stream",
     "text": [
      "24/24 [==============================] - 5s 62ms/step\n"
     ]
    }
   ],
   "source": [
    "model_4_pred = model_4.predict(val_sentences)"
   ]
  },
  {
   "cell_type": "code",
   "execution_count": 307,
   "metadata": {},
   "outputs": [
    {
     "data": {
      "text/plain": [
       "{'accuracy': 0.7624671916010499,\n",
       " 'precision': 0.7992831541218638,\n",
       " 'recall': 0.6408045977011494,\n",
       " 'f1-score': 0.7585330817821493}"
      ]
     },
     "execution_count": 307,
     "metadata": {},
     "output_type": "execute_result"
    }
   ],
   "source": [
    "model_4_results = evaluation(val_labels,\n",
    "                             tf.squeeze(tf.round(model_4_pred)))\n",
    "model_4_results"
   ]
  },
  {
   "cell_type": "code",
   "execution_count": 308,
   "metadata": {},
   "outputs": [
    {
     "data": {
      "text/plain": [
       "array([False, False,  True, False])"
      ]
     },
     "execution_count": 308,
     "metadata": {},
     "output_type": "execute_result"
    }
   ],
   "source": [
    "np.array(list(model_4_results.values())) > np.array(list(baseline_results.values()))"
   ]
  },
  {
   "cell_type": "markdown",
   "metadata": {},
   "source": [
    "## CNN for Text and other types of sequences\n",
    "\n",
    "We've used CNNs for image dataset which are 2D, however, our text data is 1D.\n",
    "\n",
    "Previously for image we used Conv2D, but for text data we will use Conv1D\n",
    "\n",
    "Architecture:\n",
    "```\n",
    "Input -> Tokenization -> Embedding -> CNN and Dense layers -> Output\n",
    "```"
   ]
  },
  {
   "cell_type": "markdown",
   "metadata": {},
   "source": [
    "### Model 5: 1D CNN"
   ]
  },
  {
   "cell_type": "code",
   "execution_count": 309,
   "metadata": {},
   "outputs": [],
   "source": [
    "# Create the model\n",
    "inputs = layers.Input(shape= (1, ), dtype= 'string')\n",
    "x = text_vectorizer(inputs)\n",
    "x = embedding(x)\n",
    "x = layers.Conv1D(64, 3, name= 'cnn_1d_layer_1')(x)\n",
    "x = layers.MaxPool1D(name= 'max_pool_layer_1')(x)\n",
    "x = layers.Conv1D(32, 3, name= 'cnn_1d_layer_2')(x)\n",
    "x = layers.MaxPool1D(name= 'max_pool_layer_2')(x)\n",
    "x = layers.GlobalAveragePooling1D(name= 'global_avg_pool_layer')(x)\n",
    "outputs = layers.Dense(1, activation= 'sigmoid', name= 'output_layer')(x)\n",
    "\n",
    "model_5 = tf.keras.Model(inputs, outputs, name= 'model_5_cnn_1d')"
   ]
  },
  {
   "cell_type": "code",
   "execution_count": 310,
   "metadata": {},
   "outputs": [
    {
     "name": "stdout",
     "output_type": "stream",
     "text": [
      "Model: \"model_5_cnn_1d\"\n",
      "_________________________________________________________________\n",
      " Layer (type)                Output Shape              Param #   \n",
      "=================================================================\n",
      " input_34 (InputLayer)       [(None, 1)]               0         \n",
      "                                                                 \n",
      " text_vectorization_3 (Text  (None, 15)                0         \n",
      " Vectorization)                                                  \n",
      "                                                                 \n",
      " embedding_1 (Embedding)     (None, 15, 128)           1280000   \n",
      "                                                                 \n",
      " cnn_1d_layer_1 (Conv1D)     (None, 13, 64)            24640     \n",
      "                                                                 \n",
      " max_pool_layer_1 (MaxPooli  (None, 6, 64)             0         \n",
      " ng1D)                                                           \n",
      "                                                                 \n",
      " cnn_1d_layer_2 (Conv1D)     (None, 4, 32)             6176      \n",
      "                                                                 \n",
      " max_pool_layer_2 (MaxPooli  (None, 2, 32)             0         \n",
      " ng1D)                                                           \n",
      "                                                                 \n",
      " global_avg_pool_layer (Glo  (None, 32)                0         \n",
      " balAveragePooling1D)                                            \n",
      "                                                                 \n",
      " output_layer (Dense)        (None, 1)                 33        \n",
      "                                                                 \n",
      "=================================================================\n",
      "Total params: 1310849 (5.00 MB)\n",
      "Trainable params: 1310849 (5.00 MB)\n",
      "Non-trainable params: 0 (0.00 Byte)\n",
      "_________________________________________________________________\n"
     ]
    }
   ],
   "source": [
    "model_5.summary()"
   ]
  },
  {
   "cell_type": "code",
   "execution_count": 311,
   "metadata": {},
   "outputs": [],
   "source": [
    "model_5.compile(loss= 'binary_crossentropy',\n",
    "                optimizer= tf.keras.optimizers.legacy.Adam(),\n",
    "                metrics= ['accuracy'])"
   ]
  },
  {
   "cell_type": "code",
   "execution_count": 312,
   "metadata": {},
   "outputs": [
    {
     "name": "stdout",
     "output_type": "stream",
     "text": [
      "Saving TensorBoard log files to: model_logs/model_5_cnn_1d/20240313-001958\n",
      "Epoch 1/5\n",
      "215/215 [==============================] - 17s 68ms/step - loss: 0.1466 - accuracy: 0.9456 - val_loss: 0.8889 - val_accuracy: 0.7625\n",
      "Epoch 2/5\n",
      "215/215 [==============================] - 7s 30ms/step - loss: 0.0850 - accuracy: 0.9672 - val_loss: 0.9841 - val_accuracy: 0.7572\n",
      "Epoch 3/5\n",
      "215/215 [==============================] - 5s 23ms/step - loss: 0.0677 - accuracy: 0.9731 - val_loss: 1.2223 - val_accuracy: 0.7651\n",
      "Epoch 4/5\n",
      "215/215 [==============================] - 4s 17ms/step - loss: 0.0624 - accuracy: 0.9756 - val_loss: 1.1207 - val_accuracy: 0.7572\n",
      "Epoch 5/5\n",
      "215/215 [==============================] - 3s 15ms/step - loss: 0.0586 - accuracy: 0.9765 - val_loss: 1.1048 - val_accuracy: 0.7651\n"
     ]
    }
   ],
   "source": [
    "model_5_history = model_5.fit(x = train_sentences,\n",
    "                              y= train_labels,\n",
    "                              epochs= 5,\n",
    "                              validation_data= (val_sentences, val_labels),\n",
    "                              callbacks= [create_tensorboard_callback(SAVED_DIR, 'model_5_cnn_1d')])"
   ]
  },
  {
   "cell_type": "code",
   "execution_count": 313,
   "metadata": {},
   "outputs": [
    {
     "name": "stdout",
     "output_type": "stream",
     "text": [
      "24/24 [==============================] - 1s 12ms/step\n"
     ]
    }
   ],
   "source": [
    "model_5_pred = model_5.predict(val_sentences)"
   ]
  },
  {
   "cell_type": "code",
   "execution_count": 314,
   "metadata": {},
   "outputs": [],
   "source": [
    "model_5_results = evaluation(val_labels,\n",
    "                             tf.squeeze(tf.round(model_5_pred)))"
   ]
  },
  {
   "cell_type": "code",
   "execution_count": 315,
   "metadata": {},
   "outputs": [
    {
     "data": {
      "text/plain": [
       "{'accuracy': 0.7650918635170604,\n",
       " 'precision': 0.7537537537537538,\n",
       " 'recall': 0.7212643678160919,\n",
       " 'f1-score': 0.764594699542815}"
      ]
     },
     "execution_count": 315,
     "metadata": {},
     "output_type": "execute_result"
    }
   ],
   "source": [
    "model_5_results"
   ]
  },
  {
   "cell_type": "code",
   "execution_count": 316,
   "metadata": {},
   "outputs": [
    {
     "data": {
      "text/plain": [
       "array([False, False,  True, False])"
      ]
     },
     "execution_count": 316,
     "metadata": {},
     "output_type": "execute_result"
    }
   ],
   "source": [
    "np.array(list(model_5_results.values())) > np.array(list(baseline_results.values()))"
   ]
  },
  {
   "cell_type": "markdown",
   "metadata": {},
   "source": [
    "### Model 6: Transfer learning"
   ]
  },
  {
   "cell_type": "code",
   "execution_count": 318,
   "metadata": {},
   "outputs": [],
   "source": [
    "import tensorflow_hub as hub\n",
    "embed = hub.load('https://www.kaggle.com/models/google/universal-sentence-encoder/frameworks/TensorFlow2/variations/universal-sentence-encoder/versions/2')"
   ]
  },
  {
   "cell_type": "code",
   "execution_count": 319,
   "metadata": {},
   "outputs": [
    {
     "name": "stdout",
     "output_type": "stream",
     "text": [
      "tf.Tensor(\n",
      "[ 0.07687581  0.03288896  0.02179662 -0.04832654 -0.02299898 -0.00182735\n",
      " -0.03993054  0.08256393  0.01381563  0.03039743  0.01625713  0.02431568\n",
      "  0.01514284  0.04843347  0.01244256  0.01343128  0.0023421  -0.02713761\n",
      " -0.00362572  0.00168669  0.01138663  0.0144208  -0.01719462 -0.03496176\n",
      " -0.07877127  0.04676209  0.03929747  0.02202034  0.01709515  0.0230419\n",
      "  0.0915276  -0.03294362 -0.00317207 -0.04850543 -0.09554192  0.04421337\n",
      " -0.02980342  0.01039704 -0.0229306   0.06235658 -0.01796251 -0.02358888\n",
      " -0.02192312 -0.04135567  0.01966412  0.01150151 -0.0491185  -0.03221893\n",
      " -0.02000231 -0.04916013], shape=(50,), dtype=float32)\n"
     ]
    }
   ],
   "source": [
    "embed_samples = embed([\"When you complete with the downloading of the model then you will look into the encodings of this sentence\"])\n",
    "print(embed_samples[0][:50])"
   ]
  },
  {
   "cell_type": "code",
   "execution_count": 320,
   "metadata": {},
   "outputs": [],
   "source": [
    "# Create Keras Layer using the USE pretrained layer from tensorflow hub\n",
    "sentence_encoder_layer = hub.KerasLayer(\"https://www.kaggle.com/models/google/universal-sentence-encoder/frameworks/TensorFlow2/variations/universal-sentence-encoder/versions/2\", \n",
    "                                        input_shape= [],\n",
    "                                        dtype= 'string',\n",
    "                                        trainable= False,\n",
    "                                        name= 'use_layer')"
   ]
  },
  {
   "cell_type": "code",
   "execution_count": 321,
   "metadata": {},
   "outputs": [
    {
     "name": "stdout",
     "output_type": "stream",
     "text": [
      "Model: \"model_6_USE\"\n",
      "_________________________________________________________________\n",
      " Layer (type)                Output Shape              Param #   \n",
      "=================================================================\n",
      " use_layer (KerasLayer)      (None, 512)               256797824 \n",
      "                                                                 \n",
      " dense_layer_1 (Dense)       (None, 64)                32832     \n",
      "                                                                 \n",
      " output_layer (Dense)        (None, 1)                 65        \n",
      "                                                                 \n",
      "=================================================================\n",
      "Total params: 256830721 (979.73 MB)\n",
      "Trainable params: 32897 (128.50 KB)\n",
      "Non-trainable params: 256797824 (979.61 MB)\n",
      "_________________________________________________________________\n"
     ]
    }
   ],
   "source": [
    "# Create model using Sequential API\n",
    "model_6 = tf.keras.Sequential([\n",
    "    sentence_encoder_layer,\n",
    "    layers.Dense(64, activation='relu', name= 'dense_layer_1'),\n",
    "    layers.Dense(1, activation= 'sigmoid', name= 'output_layer')\n",
    "], name= 'model_6_USE')\n",
    "\n",
    "model_6.compile(loss= 'binary_crossentropy',\n",
    "                optimizer= tf.keras.optimizers.legacy.Adam(),\n",
    "                metrics= ['accuracy'])\n",
    "\n",
    "model_6.summary()"
   ]
  },
  {
   "cell_type": "code",
   "execution_count": 322,
   "metadata": {},
   "outputs": [
    {
     "name": "stdout",
     "output_type": "stream",
     "text": [
      "Saving TensorBoard log files to: model_logs/model_6_USE/20240313-002122\n",
      "Epoch 1/5\n",
      "215/215 [==============================] - 70s 308ms/step - loss: 0.4938 - accuracy: 0.7848 - val_loss: 0.4554 - val_accuracy: 0.7927\n",
      "Epoch 2/5\n",
      "215/215 [==============================] - 40s 188ms/step - loss: 0.4165 - accuracy: 0.8120 - val_loss: 0.4494 - val_accuracy: 0.8031\n",
      "Epoch 3/5\n",
      "215/215 [==============================] - 39s 182ms/step - loss: 0.4064 - accuracy: 0.8238 - val_loss: 0.4438 - val_accuracy: 0.8150\n",
      "Epoch 4/5\n",
      "215/215 [==============================] - 36s 167ms/step - loss: 0.4024 - accuracy: 0.8243 - val_loss: 0.4446 - val_accuracy: 0.8176\n",
      "Epoch 5/5\n",
      "215/215 [==============================] - 30s 138ms/step - loss: 0.3998 - accuracy: 0.8241 - val_loss: 0.4411 - val_accuracy: 0.8176\n"
     ]
    }
   ],
   "source": [
    "model_6_history = model_6.fit(x= train_sentences,\n",
    "            y= train_labels,\n",
    "            epochs= 5,\n",
    "            validation_data= (val_sentences, val_labels),\n",
    "            callbacks= [create_tensorboard_callback(SAVED_DIR, 'model_6_USE')])"
   ]
  },
  {
   "cell_type": "code",
   "execution_count": 323,
   "metadata": {},
   "outputs": [
    {
     "name": "stdout",
     "output_type": "stream",
     "text": [
      "24/24 [==============================] - 19s 582ms/step\n"
     ]
    }
   ],
   "source": [
    "model_6_pred = model_6.predict(val_sentences)"
   ]
  },
  {
   "cell_type": "code",
   "execution_count": 324,
   "metadata": {},
   "outputs": [
    {
     "data": {
      "text/plain": [
       "{'accuracy': 0.8175853018372703,\n",
       " 'precision': 0.8235294117647058,\n",
       " 'recall': 0.764367816091954,\n",
       " 'f1-score': 0.8168602489629228}"
      ]
     },
     "execution_count": 324,
     "metadata": {},
     "output_type": "execute_result"
    }
   ],
   "source": [
    "model_6_results = evaluation(val_labels,\n",
    "                             tf.squeeze(tf.round(model_6_pred)))\n",
    "model_6_results"
   ]
  },
  {
   "cell_type": "code",
   "execution_count": 325,
   "metadata": {},
   "outputs": [
    {
     "data": {
      "text/plain": [
       "array([ True, False,  True,  True])"
      ]
     },
     "execution_count": 325,
     "metadata": {},
     "output_type": "execute_result"
    }
   ],
   "source": [
    "np.array(list(model_6_results.values())) > np.array(list(baseline_results.values()))"
   ]
  },
  {
   "cell_type": "markdown",
   "metadata": {},
   "source": [
    "### Model 7: TF hub pretrained USE but with 10% of training data\n",
    "\n",
    "Transfer learning helps alot when you don't have a large dataset.\n",
    "\n",
    "Let's replicate `model_6` with only 10% of the training data"
   ]
  },
  {
   "cell_type": "code",
   "execution_count": 326,
   "metadata": {},
   "outputs": [
    {
     "data": {
      "text/plain": [
       "685"
      ]
     },
     "execution_count": 326,
     "metadata": {},
     "output_type": "execute_result"
    }
   ],
   "source": [
    "# Create subsets of 10% of the training data\n",
    "train_10_percent_split = int(0.1 * len(train_sentences))\n",
    "train_sentences_10_percent = train_sentences[:train_10_percent_split]\n",
    "train_labels_10_percent = train_labels[:train_10_percent_split]\n",
    "len(train_labels_10_percent)"
   ]
  },
  {
   "cell_type": "code",
   "execution_count": 327,
   "metadata": {},
   "outputs": [
    {
     "data": {
      "text/plain": [
       "array(['@mogacola @zamtriossu i screamed after hitting tweet',\n",
       "       'Imagine getting flattened by Kurt Zouma',\n",
       "       '@Gurmeetramrahim #MSGDoing111WelfareWorks Green S welfare force ke appx 65000 members har time disaster victim ki help ke liye tyar hai....',\n",
       "       \"@shakjn @C7 @Magnums im shaking in fear he's gonna hack the planet\",\n",
       "       'Somehow find you and I collide http://t.co/Ee8RpOahPk',\n",
       "       '@EvaHanderek @MarleyKnysh great times until the bus driver held us hostage in the mall parking lot lmfao',\n",
       "       'destroy the free fandom honestly',\n",
       "       'Weapons stolen from National Guard Armory in New Albany still missing #Gunsense http://t.co/lKNU8902JE',\n",
       "       '@wfaaweather Pete when will the heat wave pass? Is it really going to be mid month? Frisco Boy Scouts have a canoe trip in Okla.',\n",
       "       'Patient-reported outcomes in long-term survivors of metastatic colorectal cancer - British Journal of Surgery http://t.co/5Yl4DC1Tqt'],\n",
       "      dtype=object)"
      ]
     },
     "execution_count": 327,
     "metadata": {},
     "output_type": "execute_result"
    }
   ],
   "source": [
    "train_sentences_10_percent[:10]"
   ]
  },
  {
   "cell_type": "code",
   "execution_count": 328,
   "metadata": {},
   "outputs": [
    {
     "name": "stdout",
     "output_type": "stream",
     "text": [
      "Model: \"model_6_USE\"\n",
      "_________________________________________________________________\n",
      " Layer (type)                Output Shape              Param #   \n",
      "=================================================================\n",
      " use_layer (KerasLayer)      (None, 512)               256797824 \n",
      "                                                                 \n",
      " dense_layer_1 (Dense)       (None, 64)                32832     \n",
      "                                                                 \n",
      " output_layer (Dense)        (None, 1)                 65        \n",
      "                                                                 \n",
      "=================================================================\n",
      "Total params: 256830721 (979.73 MB)\n",
      "Trainable params: 32897 (128.50 KB)\n",
      "Non-trainable params: 256797824 (979.61 MB)\n",
      "_________________________________________________________________\n"
     ]
    }
   ],
   "source": [
    "model_7 = tf.keras.models.clone_model(model_6)\n",
    "model_7.summary()"
   ]
  },
  {
   "cell_type": "code",
   "execution_count": 329,
   "metadata": {},
   "outputs": [],
   "source": [
    "model_7.compile(loss= 'binary_crossentropy',\n",
    "                optimizer= tf.keras.optimizers.legacy.Adam(),\n",
    "                metrics= ['accuracy'])"
   ]
  },
  {
   "cell_type": "code",
   "execution_count": 330,
   "metadata": {},
   "outputs": [
    {
     "name": "stdout",
     "output_type": "stream",
     "text": [
      "Saving TensorBoard log files to: model_logs/model_7_10_percent/20240313-002524\n",
      "Epoch 1/5\n",
      "22/22 [==============================] - 41s 2s/step - loss: 0.6514 - accuracy: 0.7182 - val_loss: 0.6152 - val_accuracy: 0.7690\n",
      "Epoch 2/5\n",
      "22/22 [==============================] - 17s 787ms/step - loss: 0.5643 - accuracy: 0.8058 - val_loss: 0.5607 - val_accuracy: 0.7677\n",
      "Epoch 3/5\n",
      "22/22 [==============================] - 15s 710ms/step - loss: 0.4978 - accuracy: 0.8190 - val_loss: 0.5165 - val_accuracy: 0.7795\n",
      "Epoch 4/5\n",
      "22/22 [==============================] - 17s 794ms/step - loss: 0.4476 - accuracy: 0.8336 - val_loss: 0.4969 - val_accuracy: 0.7782\n",
      "Epoch 5/5\n",
      "22/22 [==============================] - 14s 634ms/step - loss: 0.4150 - accuracy: 0.8409 - val_loss: 0.4886 - val_accuracy: 0.7795\n"
     ]
    }
   ],
   "source": [
    "model_7_history = model_7.fit(train_sentences_10_percent,\n",
    "            train_labels_10_percent,\n",
    "            epochs= 5,\n",
    "            validation_data= (val_sentences, val_labels),\n",
    "            callbacks= [create_tensorboard_callback(SAVED_DIR, 'model_7_10_percent')])"
   ]
  },
  {
   "cell_type": "code",
   "execution_count": 331,
   "metadata": {},
   "outputs": [
    {
     "name": "stdout",
     "output_type": "stream",
     "text": [
      "24/24 [==============================] - 20s 773ms/step\n"
     ]
    }
   ],
   "source": [
    "model_7_pred = model_7.predict(val_sentences)"
   ]
  },
  {
   "cell_type": "code",
   "execution_count": 332,
   "metadata": {},
   "outputs": [
    {
     "data": {
      "text/plain": [
       "{'accuracy': 0.7795275590551181,\n",
       " 'precision': 0.7903225806451613,\n",
       " 'recall': 0.7040229885057471,\n",
       " 'f1-score': 0.777998488727556}"
      ]
     },
     "execution_count": 332,
     "metadata": {},
     "output_type": "execute_result"
    }
   ],
   "source": [
    "model_7_results = evaluation(val_labels,\n",
    "                             tf.squeeze(tf.round(model_7_pred)))\n",
    "model_7_results"
   ]
  },
  {
   "cell_type": "code",
   "execution_count": 333,
   "metadata": {},
   "outputs": [
    {
     "data": {
      "text/plain": [
       "array([False, False, False, False])"
      ]
     },
     "execution_count": 333,
     "metadata": {},
     "output_type": "execute_result"
    }
   ],
   "source": [
    "np.array(list(model_7_results)) > np.array(list(baseline_results))"
   ]
  },
  {
   "cell_type": "markdown",
   "metadata": {},
   "source": [
    "## Comparing the performance of each of our models"
   ]
  },
  {
   "cell_type": "code",
   "execution_count": 337,
   "metadata": {},
   "outputs": [],
   "source": [
    "# Combine model results into a DataFrame\n",
    "\n",
    "all_model_results = pd.DataFrame({\n",
    "                                    \"Baseline\": baseline_results,\n",
    "                                    \"Feed Forward\": model_1_results,\n",
    "                                    \"LSTM\": model_2_results,\n",
    "                                    \"GRU\": model_3_results,\n",
    "                                    \"Bidirectional\": model_4_results,\n",
    "                                    \"1DCNN\": model_5_results,\n",
    "                                    \"USE Pretrained model\": model_6_results,\n",
    "                                    \"10% training data\": model_7_results\n",
    "                                })\n",
    "all_model_results = all_model_results.transpose()"
   ]
  },
  {
   "cell_type": "code",
   "execution_count": 338,
   "metadata": {},
   "outputs": [
    {
     "data": {
      "text/plain": [
       "<matplotlib.legend.Legend at 0xb27518640>"
      ]
     },
     "execution_count": 338,
     "metadata": {},
     "output_type": "execute_result"
    },
    {
     "data": {
      "image/png": "[encoded data removed]",
      "text/plain": [
       "<Figure size 1000x700 with 1 Axes>"
      ]
     },
     "metadata": {},
     "output_type": "display_data"
    }
   ],
   "source": [
    "# Plot and compare all of the model results\n",
    "all_model_results.plot(kind= 'bar', figsize= (10, 7)).legend(bbox_to_anchor= (1.0, 1.0))"
   ]
  },
  {
   "cell_type": "code",
   "execution_count": 340,
   "metadata": {},
   "outputs": [
    {
     "data": {
      "text/plain": [
       "<Axes: >"
      ]
     },
     "execution_count": 340,
     "metadata": {},
     "output_type": "execute_result"
    },
    {
     "data": {
      "image/png": "[encoded data removed]",
      "text/plain": [
       "<Figure size 1000x700 with 1 Axes>"
      ]
     },
     "metadata": {},
     "output_type": "display_data"
    }
   ],
   "source": [
    "# Sort model results by f1-score\n",
    "all_model_results.sort_values('f1-score', ascending= False)['f1-score'].plot(kind= 'bar', figsize= (10, 7))"
   ]
  },
  {
   "cell_type": "markdown",
   "metadata": {},
   "source": [
    "## Saving and loading a trained model\n",
    "\n",
    "There are two main formats to save a model to in TensorFlow:\n",
    "1. `HDF5`\n",
    "2. `SavedModel`"
   ]
  },
  {
   "cell_type": "code",
   "execution_count": null,
   "metadata": {},
   "outputs": [],
   "source": []
  }
 ],
 "metadata": {
  "kernelspec": {
   "display_name": "ml",
   "language": "python",
   "name": "python3"
  },
  "language_info": {
   "codemirror_mode": {
    "name": "ipython",
    "version": 3
   },
   "file_extension": ".py",
   "mimetype": "text/x-python",
   "name": "python",
   "nbconvert_exporter": "python",
   "pygments_lexer": "ipython3",
   "version": "3.10.13"
  }
 },
 "nbformat": 4,
 "nbformat_minor": 2
}
